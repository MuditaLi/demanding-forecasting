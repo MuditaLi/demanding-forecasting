{
 "cells": [
  {
   "cell_type": "code",
   "execution_count": 1,
   "metadata": {},
   "outputs": [],
   "source": [
    "import os\n",
    "import sys\n",
    "import re\n",
    "import json\n",
    "import requests\n",
    "import time\n",
    "import math\n",
    "import unicodedata\n",
    "import numpy as np\n",
    "import pandas as pd\n",
    "from difflib import get_close_matches\n",
    "\n",
    "sys.path.append('../')\n",
    "pd.set_option('max_rows', 250)\n",
    "pd.set_option('max_columns', 250)\n",
    "pd.options.mode.chained_assignment = None\n",
    "\n",
    "import util.input_output as io\n",
    "import preprocessor.names as n\n",
    "from preprocessor.data_loader import DataLoader\n",
    "from util.paths import PATH_DATA_FORMATTED, PATH_DATA_RAW\n",
    "\n",
    "\n",
    "stores_list_columns = [\n",
    "    n.FIELD_CUSTOMER, \n",
    "    n.FIELD_STORE_NAME, \n",
    "    n.FIELD_CITY, \n",
    "    'zip_code', \n",
    "    'iris_code_commune',\n",
    "]"
   ]
  },
  {
   "cell_type": "code",
   "execution_count": 2,
   "metadata": {},
   "outputs": [],
   "source": [
    "def clean_city_field(serie: pd.Series, acronyms=None):\n",
    "\n",
    "    # serie = serie.str.split('(', expand=True)[0]\n",
    "    serie = serie.str.replace(r\"\\(.*\\)\", \"\")\n",
    "    serie = serie.str.replace(r\"(?: -).*\", \"\")  # after ' -' should be removed same for /\n",
    "    serie = serie.str.replace(r\"(?: /).*\", \"\")\n",
    "    serie = serie.str.replace(r\"(?:[0-9]).*\", \"\")\n",
    "\n",
    "    if acronyms is None:\n",
    "        acronyms = []\n",
    "    \n",
    "    acronyms += [\n",
    "        ('S/SAONE', 'SUR SAONE'),\n",
    "        ('S/SEINE', 'SUR SEINE'),\n",
    "        ('S/S', 'SOUS '), \n",
    "        ('S/', 'SUR '), \n",
    "        ('/', ' SUR '), \n",
    "        ('SAINT', 'ST'),\n",
    "        (' FD', ' FERRAND'),\n",
    "        (' EN PRO', ' EN PROVENCE')\n",
    "    ]\n",
    "\n",
    "    for old, new in acronyms:\n",
    "        serie = serie.str.replace(old, new)\n",
    "\n",
    "    acronyms = '|'.join(['-', '\\'', '\\$', 'ZAC ', 'NORD ', 'SUD ', 'CEDEX ', 'DRIVE '])\n",
    "    serie = serie.str.replace(acronyms, ' ')\n",
    "    \n",
    "    acronyms = '|'.join(['Ã©', 'Ã¨'])\n",
    "    serie = serie.str.replace(acronyms, 'E')\n",
    "    \n",
    "    serie = serie.str.replace(' +', ' ', regex=False)  # Remove double spaces\n",
    "    return serie.str.strip()\n",
    "\n",
    "\n",
    "def clean_carrefour_sell_out_data(tmp: pd.DataFrame):\n",
    "    tmp['is_closed'] = tmp[n.FIELD_STORE_NAME].str.startswith('FER ')\n",
    "    acronyms = '|'.join(['CARREFOUR ', 'CRF ', 'FER '])\n",
    "    cities = tmp[n.FIELD_STORE_NAME].str.replace(acronyms, '')\n",
    "    tmp[n.FIELD_CITY] = tmp[n.FIELD_CITY].fillna(cities)\n",
    "    tmp.loc[:, n.FIELD_CITY] = clean_city_field(tmp[n.FIELD_CITY])\n",
    "    tmp[n.FIELD_CITY] = tmp[n.FIELD_CITY].str.upper()\n",
    "    return tmp\n",
    "\n",
    "\n",
    "def clean_carrefour_market_sell_out_data(tmp: pd.DataFrame):\n",
    "    tmp['is_closed'] = tmp[n.FIELD_STORE_NAME].str.startswith('FER ')\n",
    "    acronyms = '|'.join(['MKT ', 'CMA ', 'FER '])\n",
    "    cities = tmp[n.FIELD_STORE_NAME].str.replace(acronyms, '')\n",
    "\n",
    "    tmp[n.FIELD_CITY] = tmp[n.FIELD_CITY].fillna(cities)\n",
    "    tmp.loc[:, n.FIELD_CITY] = clean_city_field(tmp[n.FIELD_CITY])\n",
    "    tmp[n.FIELD_CITY] = tmp[n.FIELD_CITY].str.upper()\n",
    "    return tmp\n",
    "\n",
    "\n",
    "def clean_intermarche_sell_out_data(tmp: pd.DataFrame):\n",
    "    tmp[n.FIELD_CITY] = tmp[n.FIELD_CITY].fillna(tmp[n.FIELD_STORE_NAME])\n",
    "    tmp.loc[:, n.FIELD_CITY] = clean_city_field(tmp[n.FIELD_CITY])\n",
    "    tmp[n.FIELD_CITY] = tmp[n.FIELD_CITY].str.upper()\n",
    "    return tmp\n",
    "\n",
    "\n",
    "def clean_franprix_sell_out_data(tmp: pd.DataFrame):\n",
    "    tmp.loc[:, n.FIELD_CITY] = clean_city_field(\n",
    "        tmp[n.FIELD_CITY], acronyms=[('S/S', 'SUR SEINE '), ('/M ', 'SUR MARNE')])\n",
    "\n",
    "    tmp[n.FIELD_CITY] = tmp[n.FIELD_CITY].str.replace('/', ' SUR ')\n",
    "    tmp[n.FIELD_CITY] = tmp[n.FIELD_CITY].str.upper()\n",
    "\n",
    "    # Stores are called FRANPRIX, FX, FPX (no need to clean because we already know the city)\n",
    "    acronyms = '|'.join(['FRANPRIX ', 'LP ', 'SOCODIS - '])\n",
    "    cities = tmp[n.FIELD_STORE_NAME].str.replace(acronyms, '')\n",
    "    cities = clean_city_field(cities)\n",
    "\n",
    "    tmp[n.FIELD_CITY] = tmp[n.FIELD_CITY].str.upper()\n",
    "    tmp[n.FIELD_CITY] = tmp[n.FIELD_CITY].fillna(cities)\n",
    "    return tmp\n",
    "\n",
    "\n",
    "def clean_casino_sell_out_data(tmp: pd.DataFrame):\n",
    "    cities = tmp[n.FIELD_STORE_NAME].copy()\n",
    "    acronyms = '|'.join(['LPE ', 'PS ', 'SM CASINO ', 'GEANT ', 'LP '])\n",
    "    cities = tmp[n.FIELD_STORE_NAME].str.replace(acronyms, '')\n",
    "\n",
    "    # Remove everything that comes after the city name\n",
    "    acronyms = '|'.join(\n",
    "        ['COURS ', 'RUE ', 'PLACE ', 'HOTEL ', 'AV ', 'BD ', 'GARE ', 'MAIRIE ', 'PALAIS ',\n",
    "         'PL ', 'RTE ', 'ALLEEE ', 'CH ', 'PCE ', 'GD ', 'ESPACE ', 'BLD ', 'DOCTEUR '])\n",
    "    cities = cities.str.replace(acronyms, '- ')\n",
    "    cities = clean_city_field(cities)\n",
    "    \n",
    "    tmp[n.FIELD_CITY] = tmp[n.FIELD_CITY].str.upper()\n",
    "    tmp[n.FIELD_CITY] = tmp[n.FIELD_CITY].fillna(cities)\n",
    "    return tmp\n",
    "\n",
    "\n",
    "def clean_leaderprice_sell_out_data(tmp: pd.DataFrame):\n",
    "    acronyms = '|'.join(['LP ', 'SOCODIS - '])\n",
    "    cities = tmp[n.FIELD_STORE_NAME].str.replace(acronyms, '')\n",
    "    cities = cities.str.upper()\n",
    "\n",
    "    acronyms = '|'.join(['//'])\n",
    "    cities = cities.str.replace(acronyms, ' - ')\n",
    "    \n",
    "    tmp[n.FIELD_CITY] = tmp[n.FIELD_CITY].fillna(cities)\n",
    "    tmp[n.FIELD_CITY] = tmp[n.FIELD_CITY].str.upper()\n",
    "    tmp[n.FIELD_CITY] = clean_city_field(tmp[n.FIELD_CITY])\n",
    "    return tmp\n",
    "\n",
    "\n",
    "def clean_stores_city_field():\n",
    "    cleaning_function = {\n",
    "        'CARREFOUR': clean_carrefour_sell_out_data,\n",
    "        'CARREFOUR MARKET': clean_carrefour_market_sell_out_data,\n",
    "        'GEANT - CASINO': clean_casino_sell_out_data,\n",
    "        'FRANPRIX': clean_franprix_sell_out_data,\n",
    "        'INTERMARCHE': clean_intermarche_sell_out_data,\n",
    "        'LEADERPRICE': clean_leaderprice_sell_out_data,\n",
    "    }\n",
    "\n",
    "    frames = list()\n",
    "    for customer in sell_out_data[n.FIELD_CUSTOMER].unique():\n",
    "        frames.append(cleaning_function[customer](sell_out_data[sell_out_data[n.FIELD_CUSTOMER] == customer]))\n",
    "\n",
    "    sell_out = pd.concat(frames, ignore_index=True, axis=0, sort=False)\n",
    "\n",
    "    forced_match = [\n",
    "        ('ST GERMAIN L HAYE', 'ST GERMAIN EN LAYE'),\n",
    "        ('RUEIL MALM', 'RUEIL MALMAISON '),\n",
    "        ('ROSNY SUR BOIS', 'ROSNY SOUS BOIS'),\n",
    "        ('BOURG EN BR', 'BOURG EN BRESSE '),\n",
    "        ('ND ', 'NOTRE DAME '),\n",
    "        ('JUAN LES PINS', 'ANTIBES'),\n",
    "        ('CLERMONT FD', 'CLERMONT FERRAND')\n",
    "    ]\n",
    "    for old, new in forced_match:\n",
    "        sell_out[n.FIELD_CITY] = sell_out[n.FIELD_CITY].str.replace(old, new)\n",
    "        \n",
    "    return sell_out\n",
    "\n",
    "\n",
    "def test_at_least_one_word_in_common(city, match):\n",
    "    # words_re = re.compile(\"|\".join([city]))\n",
    "    # return words_re.search(match)\n",
    "    gap_words = set(['PORT', 'ST', 'STE', 'STS', 'STES', 'BOURG', 'D', 'LE', 'L', 'SUR', 'LES', 'LA', 'EN'])\n",
    "    city = set(city.split()).difference(gap_words)\n",
    "    return city.intersection(match.split())\n",
    "\n",
    "\n",
    "def find_best_match(cities_no_match):\n",
    "    \"\"\" Look for cities for a close enough match \"\"\"\n",
    "    high_fuzzy_match = dict()\n",
    "    high_fuzzy_match_check = dict()\n",
    "    startwith_match = dict()\n",
    "    startwith_match_check = dict()\n",
    "\n",
    "    for city in list(cities_no_match):\n",
    "        # words with high similarities\n",
    "        match = get_close_matches(city, cities[n.FIELD_CITY], n=1, cutoff=0.92)  # Fuzzy string search\n",
    "        if match:\n",
    "            if test_at_least_one_word_in_common(city, match[0]):\n",
    "                high_fuzzy_match.update({city: match[0]})\n",
    "            else:\n",
    "                if city.startswith(match[0]):\n",
    "                    high_fuzzy_match_check.update({city: match[0]})\n",
    "        else:\n",
    "            match = sorted([x for x in cities[n.FIELD_CITY] if city.startswith(x)], reverse=True)\n",
    "            if match and test_at_least_one_word_in_common(city, match[0]):\n",
    "                startwith_match.update({city: match[0]})\n",
    "            else:\n",
    "                match = sorted([x for x in cities[n.FIELD_CITY] if x.startswith(city)], reverse=True)\n",
    "                if not match:\n",
    "                    match = sorted([x for x in cities[n.FIELD_CITY] if x.startswith(city)], reverse=True)\n",
    "\n",
    "                if match and test_at_least_one_word_in_common(city, match[0]):\n",
    "                    startwith_match_check.update({city: match[0]})\n",
    "    return high_fuzzy_match, startwith_match, startwith_match_check, high_fuzzy_match_check\n",
    "\n",
    "\n",
    "def standardize_name(serie):\n",
    "    return (serie\n",
    "            .str.replace('|'.join(['-', '\\'']), ' ')\n",
    "            .str.upper()\n",
    "            .apply(lambda x: unicodedata.normalize('NFKD', x).encode('ASCII', 'ignore').decode())\n",
    "            .str.replace('SAINT', 'ST')\n",
    "           )\n",
    "\n",
    "def create_city_key(serie):\n",
    "    articles = '|'.join(['LE ', 'LA ', 'LES ', ' LES', ' LE', ' LA', ])\n",
    "    serie = serie.str.replace(articles, '')\n",
    "    return serie.str.split().str.join(sep='').str.strip()\n",
    "\n",
    "\n",
    "def merge_with_official_city_table(df, cities_table, col_merge, cols_check):\n",
    "    \"\"\" Function to keep the best match based on city name & zip code \"\"\"\n",
    "    df = (df.merge(cities_table, on=col_merge, how='left', suffixes=['_org', '']))\n",
    "    \n",
    "    df['filter'] = (df[cols_check[0]] == df[cols_check[1]]) | (df[cols_check[0]].isnull())\n",
    "    df = (df\n",
    "          .sort_values(['filter'], ascending=False)\n",
    "          .drop_duplicates([n.FIELD_CUSTOMER, n.FIELD_STORE_NAME]))\n",
    "    return df\n",
    "\n",
    "\n",
    "def format_official_insee_city_list():\n",
    "    city_location = (io.read_csv(PATH_DATA_RAW, 'insee', 'insee_data_cities_cleaned.csv', index_col=0)\n",
    "                     .rename(columns={'codeinsee': 'iris_code_commune'})\n",
    "                     .filter([n.FIELD_CITY, 'zip_code', 'latitude', 'longitude', 'iris_code_commune']))\n",
    "\n",
    "    city_location[n.FIELD_CITY] = city_location[n.FIELD_CITY].str.replace('\\\\', ' ')\n",
    "    city_location['key'] = standardize_name(city_location[n.FIELD_CITY])\n",
    "    city_location['key'] = create_city_key(city_location['key'])\n",
    "    \n",
    "    for col in ['zip_code', 'iris_code_commune']:\n",
    "        city_location[col] = city_location[col].astype(str).str.zfill(5)\n",
    "    \n",
    "    city_location['code'] = city_location['zip_code'].astype(str).str[:2]\n",
    "    return city_location.drop_duplicates()\n",
    "\n",
    "\n",
    "def format_official_insee_department_list():\n",
    "    departments = (io.read_csv(PATH_DATA_RAW, 'insee', 'departments.csv', encoding='utf-8')\n",
    "                   .filter(['code', 'name'])\n",
    "                   .rename(columns={'name': 'countrySecondarySubdivision'}))\n",
    "    departments['countrySecondarySubdivision'] = standardize_name(departments['countrySecondarySubdivision'])\n",
    "    return departments\n",
    "\n",
    "\n",
    "def find_exact_matches(sell_out, cities):\n",
    "    \n",
    "    all_cities = set(sell_out[n.FIELD_CITY])\n",
    "    store_city_match = dict()\n",
    "    store_city_match.update({city: city for city in all_cities.intersection(cities[n.FIELD_CITY])})\n",
    "    store_city_match.update({\n",
    "        ''.join(city.split()): city\n",
    "        for city in cities[n.FIELD_CITY].unique()\n",
    "        if ''.join(city.split()) in cities and len(city.split()) > 1\n",
    "    })\n",
    "\n",
    "    cities_no_match = all_cities.difference(set(store_city_match.keys()))    \n",
    "    print(len(cities), len(set(store_city_match.keys())), len(cities_no_match))\n",
    "    \n",
    "    return store_city_match, cities_no_match\n",
    "\n",
    "def aggregate_results_and_remove_ambiguous_matches(high_fuzzy_match, startwith_match, \n",
    "                                                   startwith_match_check, high_fuzzy_match_check,\n",
    "                                                   store_city_match, cities_no_match, sell_out):\n",
    "    for match in [high_fuzzy_match, startwith_match, startwith_match_check, high_fuzzy_match_check]:\n",
    "        store_city_match.update(match)\n",
    "\n",
    "    # Some city names are not explicit enough to provide an exact (non-ambiguous match so we will need to scrap them)\n",
    "    count = cities.groupby(n.FIELD_CITY)['zip_code'].nunique()\n",
    "    count = (count[count > 1]).index\n",
    "    more_than_one_match = set(dict(filter(lambda x: x[1] in count, store_city_match.items())))\n",
    "\n",
    "    all_cities = set(sell_out[n.FIELD_CITY])\n",
    "    cities_no_match = all_cities.difference(set(store_city_match.keys()))\n",
    "    cities_to_scrap = dict(filter(lambda x: x[0] in more_than_one_match, store_city_match.items()))\n",
    "    store_city_match = dict(filter(lambda x: x[0] not in more_than_one_match, store_city_match.items()))\n",
    "    print(len(all_cities), len(set(store_city_match.keys())), len(cities_no_match), len(cities_to_scrap.keys()))\n",
    "    \n",
    "    return store_city_match, cities_no_match, cities_to_scrap"
   ]
  },
  {
   "cell_type": "code",
   "execution_count": 3,
   "metadata": {},
   "outputs": [],
   "source": [
    "def match_sell_out_cleaned_store_field(sell_out, cities):\n",
    "    \"\"\" First get all cities with an exact match \"\"\"\n",
    "    store_city_match, cities_no_match = find_exact_matches(sell_out, cities)\n",
    "\n",
    "    \"\"\" Look for cities for a close enough match \"\"\"\n",
    "    high_fuzzy_match, startwith_match, startwith_match_check, high_fuzzy_match_check = find_best_match(cities_no_match)\n",
    "    store_city_match, cities_no_match, cities_to_scrap = aggregate_results_and_remove_ambiguous_matches(\n",
    "        high_fuzzy_match, startwith_match, startwith_match_check, high_fuzzy_match_check, \n",
    "        store_city_match, cities_no_match, sell_out\n",
    "    )\n",
    "\n",
    "    \"\"\" Separate into two list (incl. list of all stores to scrap on the web) \"\"\"\n",
    "    stores_list = (sell_out.copy()\n",
    "              .filter([n.FIELD_CUSTOMER, n.FIELD_STORE_NAME, n.FIELD_CITY]))\n",
    "\n",
    "    stores_list = stores_list[stores_list[n.FIELD_CITY].isin(store_city_match)]  # only the one with a relevant match\n",
    "    stores_list['key_merge'] = stores_list[n.FIELD_CITY].map(store_city_match)\n",
    "    cities['key_merge'] = cities[n.FIELD_CITY]\n",
    "\n",
    "    stores_list = (stores_list[stores_list['key_merge'].notnull()]\n",
    "                   .merge(cities[['city', 'zip_code', 'key_merge', 'iris_code_commune', 'latitude', 'longitude']], \n",
    "                          on='key_merge', how='left', suffixes=['_org', '']))\n",
    "\n",
    "    print(stores_list.shape, len(stores_list['city_org'].unique()))\n",
    "\n",
    "    stores_list = stores_list.filter(stores_list_columns)\n",
    "\n",
    "    no_stores = (sell_out.copy()\n",
    "                 .filter([n.FIELD_CUSTOMER, n.FIELD_STORE_NAME, n.FIELD_CITY]))\n",
    "\n",
    "    no_stores['key_several_match'] = no_stores[n.FIELD_CITY].map(cities_to_scrap)\n",
    "    no_stores['key_several_match'] = no_stores['key_several_match'].where(\n",
    "        ~no_stores[n.FIELD_CITY].isin(cities_no_match), '')\n",
    "\n",
    "    no_stores = no_stores[no_stores['key_several_match'].notnull()]\n",
    "    print(no_stores.shape, len(no_stores[n.FIELD_CITY].unique()))\n",
    "\n",
    "    return stores_list, no_stores"
   ]
  },
  {
   "cell_type": "code",
   "execution_count": 9,
   "metadata": {},
   "outputs": [
    {
     "name": "stderr",
     "output_type": "stream",
     "text": [
      "/home/ubuntu/.conda/envs/carlsberg/lib/python3.6/site-packages/IPython/core/interactiveshell.py:3185: DtypeWarning: Columns (1) have mixed types. Specify dtype option on import or set low_memory=False.\n",
      "  if (yield from self.run_code(code, result)):\n"
     ]
    },
    {
     "name": "stdout",
     "output_type": "stream",
     "text": [
      "(9098, 2)\n",
      "                                          city\n",
      "7184                                          \n",
      "419                                  ABBEVILLE\n",
      "8508                                   ABIDJAN\n",
      "1085                                    ACCOUS\n",
      "3568                                   ACHERES\n",
      "886                         ACHEUX EN AMIENOIS\n",
      "368                            ACHICOURT ARRAS\n",
      "1555                                      AGDE\n",
      "7502                     AGDE CHEMIN DES DUNES\n",
      "6497                            AGDE DE GAULLE\n",
      "3144                                    AGDE I\n",
      "6226                          AGDE MONTESQUIEU\n",
      "1133                                      AGEN\n",
      "6778                            AGEN DE GAULLE\n",
      "6157                    AGEN GENERAL DE GAULLE\n",
      "6780                          AGEN MONTESQUIEU\n",
      "5068                                   AGNEAUX\n",
      "4478                                    AGNETZ\n",
      "639                                       AHUN\n",
      "7174                             AIGNAY LE DUC\n",
      "1426                      AIGREFEUILLE D AUNIS\n",
      "1928                             AIGREFFEUILLE\n",
      "1098                                AIGUEBELLE\n",
      "2654                                AIGUEPERSE\n",
      "1483                             AIGUES MORTES\n",
      "5684                      AIGUES MORTES JAURES\n",
      "1635                                 AIGUILLON\n",
      "1321                                 AIGURANDE\n",
      "300                             AILLY SUR NOYE\n",
      "4676                           AILLY SUR SOMME\n",
      "1903                          AINAY LE CHATEAU\n",
      "2141                                  AIRAINES\n",
      "964                             AIRE SUR ADOUR\n",
      "2370                          AIRE SUR L ADOUR\n",
      "172                            AIRE SUR LA LYS\n",
      "1437                                  AIRVAULT\n",
      "2682                                       AIX\n",
      "6124                      AIX AVENUE D AVIGNON\n",
      "479                                AIX EN OTHE\n",
      "2737                           AIX EN PROVENCE\n",
      "5735                          AIX EN PROVENCEV\n",
      "13                        AIX EN PROVENCEVENCE\n",
      "5728             AIX EN PROVENCEVENCE BELLEVUE\n",
      "6481              AIX EN PROVENCEVENCE BOUFFAN\n",
      "6750             AIX EN PROVENCEVENCE GAMBETTA\n",
      "5733               AIX EN PROVENCEVENCE LE VAL\n",
      "5726        AIX EN PROVENCEVENCE PONT DE L ARC\n",
      "5994                                   AIX EST\n",
      "2549                             AIX LES BAINS\n",
      "5389                    AIX LES BAINS ST SIMON\n",
      "2463                              AIX NOULETTE\n",
      "1357                           AIXE SUR VIENNE\n",
      "2035                                   AIZENAY\n",
      "7399                         AIZENAY MUTUALITE\n",
      "134                                    AJACCIO\n",
      "5694                                      ALBA\n",
      "5392                                    ALBENS\n",
      "355                                     ALBERT\n",
      "1593                               ALBERTVILLE\n",
      "2200                 ALBERTVILLE PIERRE DU ROY\n",
      "5396                    ALBERTVILLE REPUBLIQUE\n",
      "4912                                      ALBI\n",
      "7023                             ALBI CANTEPAU\n",
      "7460                            ALBI DE GAULLE\n",
      "2514                                   ALENCON\n",
      "146                         ALENCON CONDE SOUS\n",
      "2857                             ALENCON PAPIN\n",
      "1542                                      ALES\n",
      "6261                           ALES ST VINCENT\n",
      "3288                               ALFORTVILLE\n",
      "3519                                ALFORVILLE\n",
      "893                                  ALINCTHUN\n",
      "1246                                   ALLAIRE\n",
      "5248                                  ALLANCHE\n",
      "645                                   ALLASSAC\n",
      "5489                                     ALLAU\n",
      "5490                      ALLAU  LE LOGIS NEUF\n",
      "5526                          ALLAU  ROUTE DES\n",
      "2680                                   ALLAUCH\n",
      "5179                                   ALLEGRE\n",
      "5376                        ALLEVARD LES BAINS\n",
      "1107                                  ALLINGES\n",
      "4825                                  ALLONNES\n",
      "1286                                   ALZONNE\n",
      "1159                                    AMAGNE\n",
      "1602                                    AMANCY\n",
      "4386                                   AMBAZAC\n",
      "1566                         AMBERIEU EN BUGEY\n",
      "5435                       AMBERIEUX EN DOMBES\n",
      "1323                                    AMBERT\n",
      "6149                         AMBES MONTESQUIEU\n",
      "1445                    AMBOISE POCE SUR CISSE\n",
      "2602                                     AMBON\n",
      "4646                          AMELIE LES BAINS\n",
      "3077                           AMENDEUIX ONEIX\n",
      "7455                      AMFREVILLE LA MIVOIE\n",
      "149                                     AMIENS\n",
      "6540                               AMIENS FOCH\n",
      "6544                        AMIENS JULES FERRY\n",
      "6726                              AMIENS PARIS\n",
      "7444                          AMIENS ST PIERRE\n",
      "1009                                    AMILLY\n",
      "1095                                 AMNEVILLE\n",
      "918                                       AMOU\n",
      "1585                                AMPLEPLUIS\n",
      "2220                                 AMPLEPUIS\n",
      "1840                                   ANCIZAN\n",
      "6020                                  ANDERNOS\n",
      "1736                        ANDERNOS LES BAINS\n",
      "4301                                   ANDILLY\n",
      "3488                                   ANDRESY\n",
      "6932                                ANDREZIEUX\n",
      "5160                          ANDREZIEUX FOREZ\n",
      "317                                     ANDUZE\n",
      "756                                     ANGERS\n",
      "6719                             ANGERS CARNOT\n",
      "22                             ANGERS GD MAINE\n",
      "5747                        ANGERS LA ROSERAIE\n",
      "5305                         ANGERS LOUIS GAIN\n",
      "5283                           ANGERS ROI RENE\n",
      "93                             ANGERS ST SERGE\n",
      "954                                     ANGLES\n",
      "102                                     ANGLET\n",
      "6345                              ANGLET ADOUR\n",
      "6336                    ANGLET GENERAL LECLERC\n",
      "378                                  ANGOULEME\n",
      "5780                      ANGOULEME CHAMPNIERS\n",
      "111                                  ANGOULINS\n",
      "4603                         ANGOULINS SUR MER\n",
      "7064                           ANGRESSE VIGNAU\n",
      "1971                          ANIZY LE CHATEAU\n",
      "38                                      ANNECY\n",
      "5405                   ANNECY AVENUE DE GENEVE\n",
      "2187                           ANNECY LE VIEUX\n",
      "5480                  ANNECY LE VIEUX CENTRALE\n",
      "5977                           ANNECY PARMELAN\n",
      "5792                             ANNECY SEYNOD\n",
      "2712                                 ANNEMASSE\n",
      "2318                     ANNEMASSE  FLORISSANT\n",
      "1867                                  ANNEYRON\n",
      "1091                                ANNOEULLIN\n",
      "1150                                   ANNONAY\n",
      "5768                         ANNONAY DAVEZIEUX\n",
      "6445                            ANNONAY EUROPE\n",
      "446                                      ANNOT\n",
      "6649                                     ANOST\n",
      "2595                                      ANSE\n",
      "51                                     ANTIBES\n",
      "6103                            ANTIBES BADINE\n",
      "7086                        ANTIBES JULES GREC\n",
      "5659                       ANTIBES LA FONTONNE\n",
      "5518                        ANTIBES LA GAROUPE\n",
      "6473                     ANTIBES LE ROI SOLEIL\n",
      "6765                    ANTIBES LE ROYAL BEACH\n",
      "6474                              ANTIBES NICE\n",
      "6060                   ANTIBES ROUTE DE GRASSE\n",
      "5516                     ANTIBES ROUTE DE NICE\n",
      "327                                     ANTONY\n",
      "2605                                     ANZIN\n",
      "7260                            ANZIN ST AUBIN\n",
      "1944                                     AOSTE\n",
      "5434                              AOSTE EGLISE\n",
      "1184                                   APPRIEU\n",
      "1538                                       APT\n",
      "5720                             APT ST PIERRE\n",
      "5436             ARACHES ROUTE DE LA BARLIETTE\n",
      "1907                                   ARAMITS\n",
      "8147                                    ARBENT\n",
      "6691                         ARBOIS GRANDE RUE\n",
      "6630                            ARC EN BARROIS\n",
      "5964                              ARC LES GRAY\n",
      "6856                            ARCACHON MERAN\n",
      "6236                        ARCACHON MESTREZAT\n",
      "4449                                   ARCEUIL\n",
      "474                             ARCIS SUR AUBE\n",
      "3730                                   ARCUEIL\n",
      "6456                ARDES SUR COUZE GRANDE RUE\n",
      "2131                                    ARDRES\n",
      "2591                            ARGELES GAZOST\n",
      "1943                             ARGELES PLAGE\n",
      "1135                           ARGELES SUR MER\n",
      "4509                                  ARGENCES\n",
      "721                                   ARGENTAN\n",
      "6035                       ARGENTAT MOULIN BAS\n",
      "604                                 ARGENTEUIL\n",
      "692                          ARGENTEUIL CENTRE\n",
      "533                        ARGENTON SUR CREUSE\n",
      "758                        ARGENTRE DU PLESSIS\n",
      "1807                                     ARLES\n",
      "5673                            ARLES GAMBETTA\n",
      "186                                ARMENTIERES\n",
      "3306                                   ARPAJON\n",
      "393                                     ARQUES\n",
      "6542                        ARQUES LA BATAILLE\n",
      "2460                                     ARRAS\n",
      "5280                           ARRAS TAILLERIE\n",
      "6369                                    ARREAU\n",
      "7122                      ARS SUR MOSELLE FOCH\n",
      "982                                    ARTENAY\n",
      "6418                  ARTHEZ DE BEARN CARRIERE\n",
      "1624                                  ARTIGUES\n",
      "520                                      ARTIX\n",
      "3085                                     ARUDY\n",
      "815                                      ARZON\n",
      "571                          ASNANS BEAUVOISIN\n",
      "702                                   ASNIERES\n",
      "6061                            ASNIERES METRO\n",
      "1998                        ASNIERES SUR SEINE\n",
      "6362                                     ASPET\n",
      "1859                                 ASTAFFORT\n",
      "12                                  ATHIS MONS\n",
      "6379                                        AU\n",
      "2715                                   AUBAGNE\n",
      "6017                        AUBAGNE LE CHARREL\n",
      "5995                          AUBAGNE PIN VERT\n",
      "256                                    AUBENAS\n",
      "6449                          AUBENAS GAMBETTA\n",
      "7256                  AUBERGENVILLE JOUILLERAT\n",
      "132                              AUBERVILLIERS\n",
      "624                                   AUBEVOYE\n",
      "2480                            AUBIGNY AU BAC\n",
      "2467                         AUBIGNY EN ARTOIS\n",
      "1349                          AUBIGNY SUR NERE\n",
      "7225                  AUBIGNY SUR NERE PRIEURE\n",
      "1343                                  AUBUSSON\n",
      "6277                       AUBUSSON GRANDE RUE\n",
      "223                                       AUCH\n",
      "2307                                    AUCHEL\n",
      "2077                          AUCHEL ALLOUAGNE\n",
      "173                            AUCHY LES MINES\n",
      "7191                              AUCLEMENCEAU\n",
      "2659                                   AUDENGE\n",
      "5299                                  AUDIERNE\n",
      "1202                                AUDINCOURT\n",
      "2459                                  AUDRUICQ\n",
      "2221                            AUDUN LE TICHE\n",
      "4564                                    AUFFAY\n",
      "6502                       AUGEROLLES LE BOURG\n",
      "4615                                     AUGNY\n",
      "543                                  AUJARGUES\n",
      "1388                          AULNAY DE STONGE\n",
      "54                           AULNAY SOUS  BOIS\n",
      "684                           AULNAY SOUS BOIS\n",
      "3668                           AULNAY SUR BOIS\n",
      "151                       AULNOY LES VALENCIEN\n",
      "360                           AULNOYE AIMERIES\n",
      "6558                           AULT GRANDE RUE\n",
      "4584                                    AUMALE\n",
      "499                                     AUMETZ\n",
      "831                             AUNAY SUR ODON\n",
      "6990                                    AUNEAU\n",
      "2988                                   AUNEUIL\n",
      "1798                                      AUPS\n",
      "2908                                     AURAY\n",
      "5949                                     AUREC\n",
      "6439                  AUREC SUR LOIRE MONUMENT\n",
      "1650                                 AUREILHAN\n",
      "6330                        AURIGNAC ST MICHEL\n",
      "1613                                  AURILLAC\n",
      "6268                   AURILLAC PUPILLE NATION\n",
      "5997                                    AURIOL\n",
      "315                          AUSSILLON MAZAMET\n",
      "2632                                  AUSSONNE\n",
      "2646                                  AUTERIVE\n",
      "5417                                   AUTRANS\n",
      "2964                                AUTREVILLE\n",
      "402                                      AUTUN\n",
      "6648                   AUTUN CHARLES DE GAULLE\n",
      "680                                    AUXERRE\n",
      "7494                          AUXERRE FOUCAULT\n",
      "669                            AUXI LE CHATEAU\n",
      "1174                                     AUXON\n",
      "1234                                   AUXONNE\n",
      "1334                                  AUZANCES\n",
      "5847                                   AVALLON\n",
      "1695                                   AVENSAN\n",
      "2461                          AVESNES LE COMTE\n",
      "2281                        AVESNES LES AUBERT\n",
      "3092                       AVESNES LES AUBERTS\n",
      "1899                         AVESNES SUR HELPE\n",
      "1574                                     AVEZE\n",
      "33                                     AVIGNON\n",
      "6133                         AVIGNON ST LAZARE\n",
      "5690                           AVIGNON ST RUFF\n",
      "2424                                     AVION\n",
      "1105                                     AVIZE\n",
      "2409                                      AVON\n",
      "1332                                     AVORD\n",
      "119                                  AVRANCHES\n",
      "2914                       AVRANCHES DE GAULLE\n",
      "2865                                   AVRILLE\n",
      "7056                            AX LES THERMES\n",
      "6626                     AY CHAMPAGNE BLONDEAU\n",
      "2060                                     AYTRE\n",
      "6275                            AZAY LE FERRON\n",
      "2888                            AZAY LE RIDEAU\n",
      "4545                       BACQUEVILLE EN CAUX\n",
      "2926                                     BADEN\n",
      "553                            BAGNAC SUR CELE\n",
      "5940                                  BAGNERES\n",
      "1714                       BAGNERES DE BIGORRE\n",
      "1710                        BAGNERES DE LUCHON\n",
      "3625                                   BAGNEUX\n",
      "6129                         BAGNEUX NATIONALE\n",
      "3431                                  BAGNOLET\n",
      "1496                          BAGNOLS SUR CEZE\n",
      "2596                     BAGNOLS SUR CEZE NIME\n",
      "1849                                   BAIGNES\n",
      "439                                BAILLARGUES\n",
      "681                            BAILLEAU LE PIN\n",
      "416                                   BAILLEUL\n",
      "3968                                    BAILLY\n",
      "2996                      BAILLY ROMAINVILLIER\n",
      "4725                     BAILLY ROMAINVILLIERS\n",
      "1224                          BAIN DE BRETAGNE\n",
      "872                            BAINS LES BAINS\n",
      "2485                                  BAISIEUX\n",
      "1052                                   BALARUC\n",
      "4621                          BALARUC LE VIEUX\n",
      "6215                         BALARUC LES BAINS\n",
      "2159                                  BALBIGNY\n",
      "4149                           BALLAINVILLIERS\n",
      "5342                  BALLAINVILLIERS ROUILLON\n",
      "2562                         BALLANCOURT PINET\n",
      "1759                                     BALMA\n",
      "6337                BALMA ESPLANADE SCHWEITZER\n",
      "2222                                    BANDOL\n",
      "5910                        BANDOL LA PEYRIERE\n",
      "6907                     BANDOL QUAI DE GAULLE\n",
      "5589                 BANDOL QUAI GAL DE GAULLE\n",
      "5558                         BANDOL REPUBLIQUE\n",
      "845                                   BANNALEC\n",
      "2263                           BANYULS SUR MER\n",
      "363                                    BAPAUME\n",
      "6058                                BAR LE DUC\n",
      "2420                              BAR SUR AUBE\n",
      "476                              BAR SUR SEINE\n",
      "2673                              BARAQUEVILLE\n",
      "6870                             BARBATRE MIDI\n",
      "1936                                BARBENTANE\n",
      "1310                                BARBEZIEUX\n",
      "7391                   BARBEZIEUX HUGO DU FOUR\n",
      "4974                     BARBEZIEUX ST HILAIRE\n",
      "2272                             BARCELONNETTE\n",
      "95                                    BARENTIN\n",
      "1794                                   BARJOLS\n",
      "2628                                    BARLIN\n",
      "2336                       BARNEVILLE CARTERET\n",
      "583                                 BARTENHEIM\n",
      "7210                    BAS EN BASSET COMMERCE\n",
      "899                                  BASSE HAM\n",
      "4161                                   BASSENS\n",
      "782                                       BAUD\n",
      "1223                           BAUME LES DAMES\n",
      "2308                                    BAUVIN\n",
      "2223                                     BAVAY\n",
      "404                                     BAYARD\n",
      "131                                     BAYEUX\n",
      "230                                    BAYONNE\n",
      "6420                            BAYONNE BEYRIS\n",
      "6422                           BAYONNE ESPAGNE\n",
      "6419                    BAYONNE LEGION TCHEQUE\n",
      "7427                          BAYONNE PANNECAU\n",
      "1241                                BAZANCOURT\n",
      "1116                                     BAZAS\n",
      "5794                                 BAZEILLES\n",
      "7397                                   BAZIEGE\n",
      "203                                  BEAUCAIRE\n",
      "3673                                 BEAUCHAMP\n",
      "1037                        BEAUFORT EN VALLEE\n",
      "5380                        BEAUFORT SUR DORON\n",
      "1127                                 BEAUGENCY\n",
      "7315                        BEAUJEU REPUBLIQUE\n",
      "1837                      BEAULIEU SUR DORDOGN\n",
      "6198              BEAULIEU SUR DORDOGNE MARBOT\n",
      "6475                  BEAULIEU SUR MER LECLERC\n",
      "640                                   BEAUMONT\n",
      "1737                       BEAUMONT DE LOMAGNE\n",
      "5478                        BEAUMONT LE CHABLE\n",
      "2192                         BEAUMONT LE ROGER\n",
      "425                          BEAUMONT SUR OISE\n",
      "121                                     BEAUNE\n",
      "5961                       BEAUNE CENTRE VILLE\n",
      "6263                  BEAUNE LES MINES LIMOGES\n",
      "1278                                 BEAUPREAU\n",
      "5077                       BEAUPREAU EN MAUGES\n",
      "2653                                 BEAURAINS\n",
      "2479                             BEAURAINVILLE\n",
      "2273                               BEAUREPAIRE\n",
      "2584                                 BEAUTIRAN\n",
      "137                                   BEAUVAIS\n",
      "7443                            BEAUVAIS BERRY\n",
      "234                               BEAUVAIS SUD\n",
      "1428                          BEAUVOIR SUR MER\n",
      "1443                        BEAUVOIR SUR NIORT\n",
      "2535                                 BEAUZELLE\n",
      "2672                                 BEDARIEUX\n",
      "5675                                BEDARRIDES\n",
      "7405                                    BEDOUS\n",
      "5101                                    BEGAAR\n",
      "1161                           BEGARD LAN VEAR\n",
      "82                                      BEGLES\n",
      "4259                                    BEGUEY\n",
      "1748                           BEGUEY CADILLAC\n",
      "6273                                   BELABRE\n",
      "6883                        BELABRE REPUBLIQUE\n",
      "2495                                   BELFORT\n",
      "6568                   BELFORT FRERES LUMIERES\n",
      "7471                            BELFORT JAURES\n",
      "329                                     BELLAC\n",
      "71                          BELLE EPINE RUNGIS\n",
      "2269                                BELLEGARDE\n",
      "3120                         BELLEGARDE ARENES\n",
      "6228                      BELLEGARDE BEAUCAIRE\n",
      "3096                    BELLEGARDE SUR V CHATI\n",
      "3156                    BELLEGARDE SUR VAL REP\n",
      "2814                  BELLEGARDE SUR VAL REPNE\n",
      "231                     BELLEGARDE SUR VALSERI\n",
      "6685                     BELLENAVES GRANDE RUE\n",
      "4543                      BELLERIVE SUR ALLIER\n",
      "5245          BELLERIVE SUR ALLIER ADRIEN CAVY\n",
      "6898                 BELLERIVE SUR ALLIER CAVY\n",
      "297                                     BELLEU\n",
      "4937                                BELLEVILLE\n",
      "654                       BELLEVILLE SUR MEUSE\n",
      "1456                      BELLEVILLE SUR SAONE\n",
      "232                                     BELLEY\n",
      "5223                         BELLEY REPUBLIQUE\n",
      "6218                                   BELPECH\n",
      "6234                                    BELVES\n",
      "6243                          BELVES MONPAZIER\n",
      "4623                           BENESSE MAREMNE\n",
      "1394                                     BENET\n",
      "883                                    BENFELD\n",
      "2338                                   BENODET\n",
      "1983                                      BEON\n",
      "185                                      BERCK\n",
      "7337                               BERCK PLAGE\n",
      "2427                    BERCK SUR MER SOUBITEZ\n",
      "4                                        BERCY\n",
      "1396                                  BERGERAC\n",
      "6251                        BERGERAC PRECHEURS\n",
      "6859                      BERGERAC R, BELZUNCE\n",
      "6247                      BERGERAC R. BELZUNCE\n",
      "559                                     BERNAY\n",
      "781                          BERNIERES SUR MER\n",
      "6040                                    BERNIS\n",
      "2508                             BERRE L ETANG\n",
      "1948                              BERTEAUCOURT\n",
      "1205                                  BESANCON\n",
      "6605                       BESANCON CRAS LILAS\n",
      "6607                            BESANCON FLORE\n",
      "7466                  BESANCON FONTAINE ARGENT\n",
      "6613                       BESANCON GRANDE RUE\n",
      "6620                          BESANCON GRANGES\n",
      "6569                         BESANCON LE MARLY\n",
      "5915                     BESANCON LES CHAPRAIS\n",
      "6619                        BESANCON MADELEINE\n",
      "6572                           BESANCON MONCEY\n",
      "5916                        BESANCON ST CLAUDE\n",
      "5919                       BESANCON ST FERJEUX\n",
      "69                           BESANCON VALENTIN\n",
      "6606                        BESANCON VAREILLES\n",
      "1484                                    BESSAN\n",
      "6467                             BESSAN MAIRIE\n",
      "2257                                  BESSEGES\n",
      "1380                     BESSINES SUR GARTEMPE\n",
      "6622                                   BETHENY\n",
      "2968                         BETHISY ST PIERRE\n",
      "2079                                   BETHUNE\n",
      "5304                       BETHUNE JEAN MOULIN\n",
      "1958                                BETSCHDORF\n",
      "2920                                    BETTON\n",
      "417                                  BEUVRAGES\n",
      "2476                                    BEUVRY\n",
      "589                                 BEUZEVILLE\n",
      "1510                                   BEZIERS\n",
      "6793                        BEZIERS CLEMENCEAU\n",
      "5922                            BEZIERS RIQUET\n",
      "587                                     BEZONS\n",
      "6356                                  BIARRITZ\n",
      "6354                          BIARRITZ ESPAGNE\n",
      "6341                         BIARRITZ GRAMMONT\n",
      "6349                      BIARRITZ LA BERGERIE\n",
      "6415                          BIARRITZ LAHOUZE\n",
      "6426                            BIARRITZ MOURA\n",
      "6344                   BIARRITZ REINE NATHALIE\n",
      "4268                                      BIAS\n",
      "889                                    BIDACHE\n",
      "1715                                    BIDART\n",
      "4587                                     BIDOS\n",
      "4143                                   BIEVRES\n",
      "4671                                   BIGANOS\n",
      "2277                                   BIHOREL\n",
      "1723                                  BILLERES\n",
      "347                                     BILLOM\n",
      "5106                                    BINCHE\n",
      "7008                     BIOT AVENUE DE LA MER\n",
      "4066                                     BIRON\n",
      "4425                               BISCARROSSE\n",
      "6431                       BISCARROSSE LA RIVE\n",
      "6616                                 BISCHHEIM\n",
      "494                                     BITCHE\n",
      "7065                                   BIZANOS\n",
      "4862                                   BLAGNAC\n",
      "7022                         BLAGNAC ANDROMEDE\n",
      "6394                             BLAGNAC RIVET\n",
      "2967                                    BLAGNY\n",
      "2928                        BLAINVILLE SUR MER\n",
      "4339                       BLAINVILLE SUR ORNE\n",
      "862                                    BLAMONT\n",
      "5081                              BLANC MESNIL\n",
      "3334                               BLANCMESNIL\n",
      "4458                         BLANGY SUR BRESLE\n",
      "565                                    BLANZAT\n",
      "5076                                     BLAYE\n",
      "1409                                     BLERE\n",
      "1325                                     BLOIS\n",
      "6674                                 BLOTZHEIM\n",
      "6840                       BLOTZHEIM DE GAULLE\n",
      "3370                                   BOBIGNY\n",
      "4451                                       BOE\n",
      "7208                              BOEN ST JEAN\n",
      "662                            BOEN SUR LIGNON\n",
      "497                            BOGNY SUR MEUSE\n",
      "356                       BOHAIN EN VERMANDOIS\n",
      "5201                         BOIGNY SUR BIONNE\n",
      "1825                              BOIS ARNAULT\n",
      "1302                             BOIS COLOMBES\n",
      "7334            BOIS COLOMBES ESTIENNE D ORVES\n",
      "3560                               BOIS D ARCY\n",
      "2864                            BOIS GUILLAUME\n",
      "2472                                  BOISMONT\n",
      "105                                  BOISSEUIL\n",
      "1022                      BOISSISE LA BERTRAND\n",
      "4281                          BOISSY LE CHATEL\n",
      "4486                           BOISSY ST LEGER\n",
      "698                                     BOLBEC\n",
      "1466                                   BOLLENE\n",
      "1103                                   BOLOGNE\n",
      "5928                                  BOLQUERE\n",
      "367                         BONCHAMP LES LAVAL\n",
      "2069                                   BONDUES\n",
      "594                                      BONDY\n",
      "558                                     BONNAT\n",
      "7290                          BONNE SUR MENOGE\n",
      "1049                         BONNEE LES BORDES\n",
      "3404                                  BONNEUIL\n",
      "4946                        BONNEUIL SUR MARNE\n",
      "2676                                  BONNEVAL\n",
      "930                                 BONNEVILLE\n",
      "3178                     BONNIERES S SUR SEINE\n",
      "2113                          BONS EN CHABLAIS\n",
      "598                                       BOOS\n",
      "1237                                  BORDEAUX\n",
      "6168                          BORDEAUX ARGONNE\n",
      "2565                          BORDEAUX BASTIDE\n",
      "6112                         BORDEAUX CAUDERAN\n",
      "6162                         BORDEAUX D ORNANO\n",
      "6791                       BORDEAUX FONDAUDEGE\n",
      "6150                    BORDEAUX NANCEL PENARD\n",
      "6095                          BORDEAUX TALENCE\n",
      "5843                BORDEAUX VILLENAVE D ORNON\n",
      "6259                           BORDEAUX WILSON\n",
      "4426                      BORDERES SUR L ECHEZ\n",
      "257                                     BORDES\n",
      "2366                                     BORGO\n",
      "1779                        BORMES LES MIMOSAS\n",
      "5624             BORMES LES MIMOSAS LA FAVIERE\n",
      "2395                           BORT LES ORGUES\n",
      "2387                              BOSC LE HARD\n",
      "6239                         BOSMIE L AIGUILLE\n",
      "7328                              BOUC BEL AIR\n",
      "1765                                    BOUCAU\n",
      "2325                                  BOUCHAIN\n",
      "3927                                BOUFFEMONT\n",
      "6959                          BOUGIVAL LECLERC\n",
      "6986                            BOUGIVAL MONET\n",
      "956                                     BOULAY\n",
      "4433                                  BOULAZAC\n",
      "4580                                   BOULIAC\n",
      "972                                     BOULOC\n",
      "3172                                  BOULOGNE\n",
      "2402                               BOULOGNE BI\n",
      "3375                      BOULOGNE BILLANCOURT\n",
      "5208              BOULOGNE BILLANCOURT GRENIER\n",
      "1842                        BOULOGNE SUR GESSE\n",
      "2081                            BOULOGNE SUR M\n",
      "313                           BOULOGNE SUR MER\n",
      "6535              BOULOGNE SUR MER VICTOR HUGO\n",
      "3065                                   BOURBON\n",
      "1233                             BOURBON LANCY\n",
      "2334                       BOURBONNE LES BAINS\n",
      "258                                  BOURBOURG\n",
      "5259                                 BOURDEAUX\n",
      "592                               BOURG ACHARD\n",
      "5147                            BOURG ARGENTAL\n",
      "5411                            BOURG D OISANS\n",
      "7354                            BOURG DE PEAGE\n",
      "5825                     BOURG DE PEAGE ROMANS\n",
      "1543                            BOURG DE THIZY\n",
      "2498                          BOURG EN BRESSE \n",
      "88                        BOURG EN BRESSE ESSE\n",
      "667                             BOURG LA REINE\n",
      "651                               BOURG LASTIC\n",
      "1515                         BOURG LES VALENCE\n",
      "2305                              BOURG MADAME\n",
      "337                            BOURG ST ANDEOL\n",
      "344                           BOURG ST MAURICE\n",
      "2346                         BOURG SUR GIRONDE\n",
      "3520                           BOURG SUR REINE\n",
      "3051                                BOURGANEUF\n",
      "40                                     BOURGES\n",
      "6693                      BOURGES EMILE MARTIN\n",
      "2699                                  BOURGOIN\n",
      "1309                          BOURGOIN JALLIEU\n",
      "7429                BOURGOIN JALLIEU CHAMPARET\n",
      "5348               BOURGOIN JALLIEU LIBERATION\n",
      "2631                                   BOURISP\n",
      "933                                 BOUSBECQUE\n",
      "3029                                   BOUSSAC\n",
      "426                               BOUTTENCOURT\n",
      "491                                BOUZONVILLE\n",
      "873                                    BOZOULS\n",
      "3012                                    BRAINE\n",
      "2312                                      BRAM\n",
      "2274                          BRANNE GREZILLAC\n",
      "2640                                  BRANTOME\n",
      "4512                                   BRASLES\n",
      "1175                         BRASSAC LES MINES\n",
      "2471                                BRAY DUNES\n",
      "2441                            BRAY SUR SEINE\n",
      "2936                      BREAL SOUS  MONTFORT\n",
      "1180                                 BREBIERES\n",
      "5477                                BRENTHONNE\n",
      "619                                    BRESLES\n",
      "1517                                   BRESSON\n",
      "2373                          BRESSUIRE EUROPE\n",
      "0                                        BREST\n",
      "2411                           BREST  BELLEVUE\n",
      "5345                         BREST LAMBEZELLEC\n",
      "2551                                  BRETEUIL\n",
      "2359                         BRETEUIL SUR ITON\n",
      "5555                         BRETEUIL SUR NOYE\n",
      "1002                         BRETIGNY SUR ORGE\n",
      "2406                      BRETTEVILLE SUR ODON\n",
      "4600                             BREUIL LE SEC\n",
      "2987                          BREUILLET CHERON\n",
      "591                                     BREVAL\n",
      "2260                                  BRIANCON\n",
      "1004                                    BRIARE\n",
      "7254                            BRIARE LIBERTE\n",
      "6289                                 BRIATEXTE\n",
      "897                                 BRICQUEBEC\n",
      "2300                         BRIE COMTE ROBERT\n",
      "6960                  BRIE COMTE ROBERT EGLISE\n",
      "843                            BRIEC DE L ODET\n",
      "463                         BRIENNE LE CHATEAU\n",
      "5313                     BRIGNAIS GL DE GAULLE\n",
      "952                                  BRIGNOLES\n",
      "5719                          BRIGNOLES CARAMI\n",
      "6855                          BRIGNOLES CARAMY\n",
      "5320                                   BRINDAS\n",
      "569                                    BRIONNE\n",
      "1154                                    BRIORD\n",
      "2160                                   BRIOUDE\n",
      "1856                       BRIOUX SUR BOUTONNE\n",
      "575                                      BRIVE\n",
      "211                         BRIVE LA GAILLARDE\n",
      "5779                            BRIVE MALEMORT\n",
      "4496                          BRIVES CHARENSAC\n",
      "4910                                      BRON\n",
      "6523                          BRON BROSSOLETTE\n",
      "6964                               BRON PAGERE\n",
      "6057                             BRON SALENGRO\n",
      "1914                                    BROONS\n",
      "659                                       BROU\n",
      "4146                      BROU SUR CHANTEREINE\n",
      "5235                              BROUT VERNET\n",
      "445                            BRUAY EN ARTOIS\n",
      "910                                    BRUMATH\n",
      "2331                                    BRUNOY\n",
      "913                                   BRUYERES\n",
      "871                                       BRUZ\n",
      "931                              BRY SUR MARNE\n",
      "1875                                     BUBRY\n",
      "688                                        BUC\n",
      "6672                               BUC BLERIOT\n",
      "2548                                     BUCHY\n",
      "7352                 BUIS LES BARONNIES MARCHE\n",
      "284                            BULLY LES MINES\n",
      "5552                          BURES SUR YVETTE\n",
      "5701                                    BURZET\n",
      "6501                      BUSSIERES REPUBLIQUE\n",
      "2570                                BUSSY ST G\n",
      "1118                                BUXEROLLES\n",
      "5239                        BUXIERES LES MINES\n",
      "6592                                      BUXY\n",
      "1339                                 BUZANCAIS\n",
      "1058                            BUZET SUR TARN\n",
      "1862                                  CABANNES\n",
      "1719                                 CABESTANY\n",
      "2622                                   CABOURG\n",
      "2330                                    CACHAN\n",
      "1651                                  CADAUJAC\n",
      "5717                                   CADENET\n",
      "6890                          CADENET MIRABEAU\n",
      "7351                                CADEROUSSE\n",
      "7388                  CADILLAC CAZEAUX CAZALET\n",
      "6326                                   CADOURS\n",
      "145                                       CAEN\n",
      "6741                              CAEN FALAISE\n",
      "5431                             CAEN MALHERBE\n",
      "1067                          CAGNAC LES MINES\n",
      "6080                                    CAGNES\n",
      "635                             CAGNES SUR MER\n",
      "5651                    CAGNES SUR MER GRAGLIA\n",
      "5638                     CAGNES SUR MER RENOIR\n",
      "2700                                     CAGNY\n",
      "225                                     CAHORS\n",
      "6177                         CAHORS ST MAURICE\n",
      "6029                             CAHORS UMBERT\n",
      "1477                               CAISSARGUES\n",
      "386                                     CAJARC\n",
      "148                                     CALAIS\n",
      "755                                     CALLAC\n",
      "2690                                   CALLIAN\n",
      "5599                    CALLIAN MAISONS NEUVES\n",
      "6438               CALUIRE ET CUIRE MARGNOLLES\n",
      "5328                         CALUIRE MONTESSUY\n",
      "6217                       CALVISSON PLAISANCE\n",
      "319                                    CAMARES\n",
      "551                         CAMARET SUR AIGUES\n",
      "3102                           CAMBO LES BAINS\n",
      "2310                                   CAMBRAI\n",
      "278                   CAMBRONNE  SUR RIBECOURT\n",
      "413                                    CAMIERS\n",
      "267                                      CAMON\n",
      "1176                      CAMPAGNE WARDRECQUES\n",
      "1930                                   CAMPBON\n",
      "2091                      CAMPIGNEULLES LES PE\n",
      "1762                       CANET EN ROUSSILLON\n",
      "7382                               CANET PLAGE\n",
      "6209                    CANET ROUSSILLON JETEE\n",
      "2258                                    CANNES\n",
      "5639                            CANNES ANGLAIS\n",
      "2029                           CANNES LA BOCCA\n",
      "6912                    CANNES LA BOCCA TONNER\n",
      "5643                             CANNES LECERF\n",
      "6476                             CANNES LERINS\n",
      "1247                              CANNES MARIA\n",
      "6136                     CANNES PONT DE GABRES\n",
      "7521                          CANNES STANISLAS\n",
      "4385                         CANNET DES MAURES\n",
      "1701                                   CANOHES\n",
      "1792                                  CANTARON\n",
      "596                                   CANTELEU\n",
      "2156                             CANY BARVILLE\n",
      "6538                  CANY BARVILLE GRANDE RUE\n",
      "6237                                CAP FERRET\n",
      "1678                                 CAPBRETON\n",
      "6358                  CAPBRETON AVENUE GABARRA\n",
      "6347                CAPBRETON MARECHAL LECLERC\n",
      "1690                                  CAPDENAC\n",
      "1452                                 CAPESTANG\n",
      "2150                        CAPPELLE LA GRANDE\n",
      "7385                                  CAPTIEUX\n",
      "1648                                   CAPVERN\n",
      "1732                              CARBON BLANC\n",
      "2736                                  CARBONNE\n",
      "141                                CARCASSONNE\n",
      "5781                          CARCASSONNE CITE\n",
      "5829                       CARCASSONNE SALVAZA\n",
      "1864                                    CARCES\n",
      "705                                   CARENTAN\n",
      "809                                    CARHAIX\n",
      "819                                   CARIGNAN\n",
      "6297                      CARIGNAN DE BORDEAUX\n",
      "1754                                   CARMAUX\n",
      "5857                                    CARNAC\n",
      "6301                                    CARNON\n",
      "6311                           CARNON SOLIGNAC\n",
      "1868                                 CARNOULES\n",
      "1967                  CARNOUX EN PROVENCEVENCE\n",
      "1521                                CARPENTRAS\n",
      "5685                     CARPENTRAS LES HALLES\n",
      "6081                              CARQUEIRANNE\n",
      "7166                       CARQUEIRANNE JAURES\n",
      "117                               CARRE SENART\n",
      "3454                     CARRIERES SOUS POISSY\n",
      "3619                           CARRIERES SUR S\n",
      "6078                       CARRIERES SUR SEINE\n",
      "8700                              CARRIERESOUS\n",
      "4315                                    CARROS\n",
      "3864                            CARRY LE ROUET\n",
      "616                                     CARVIN\n",
      "6191                                CASSENEUIL\n",
      "5507                                    CASSIS\n",
      "1712                          CASTANET TOLOSAN\n",
      "6165                CASTANET TOLOSAN LAURAGAIS\n",
      "4854                              CASTELCULIER\n",
      "1756                              CASTELGINEST\n",
      "1608                              CASTELJALOUX\n",
      "7045                     CASTELJALOUX GAMBETTA\n",
      "5653                                CASTELLANE\n",
      "1850                      CASTELNAU D ESTRETEF\n",
      "4926                  CASTELNAU D ESTRETEFONDS\n",
      "7028                   CASTELNAU DE MEDOC AVEN\n",
      "2052                          CASTELNAU LE LEZ\n",
      "962                          CASTELNAU MAGNOAC\n",
      "1720                             CASTELNAUDARY\n",
      "1764                            CASTELSARRASIN\n",
      "939                                    CASTETS\n",
      "1704                      CASTILLON LA BATAILL\n",
      "4636                     CASTILLON LA BATAILLE\n",
      "647                               CASTILLONNES\n",
      "1169                                   CASTRES\n",
      "4652                                  CASTRIES\n",
      "6178                                     CATUS\n",
      "2215                          CAUDEBEC EN CAUX\n",
      "5105                       CAUDEBEC LES ELBEUF\n",
      "1633                                  CAUDERAN\n",
      "353                                     CAUDRY\n",
      "296                                    CAUFFRY\n",
      "1937                                   CAULNES\n",
      "707                           CAUMONT L EVENTE\n",
      "1661                                 CAUNEILLE\n",
      "437                                   CAUSSADE\n",
      "6397                          CAUSSADE LECLERC\n",
      "6320                         CAUTERETS LECLERC\n",
      "1298                                 CAVAILLON\n",
      "2280                         CAVALAIRE SUR MER\n",
      "1476                                  CAVEIRAC\n",
      "4181                                  CAVIGNAC\n",
      "6398                                    CAYLUS\n",
      "6197                                    CAZALS\n",
      "1621                                  CAZAUBON\n",
      "2266                                   CAZERES\n",
      "1643                       CAZERES SUR GARONNE\n",
      "6193                           CAZES MONDENARD\n",
      "2314                       CAZOULS LES BEZIERS\n",
      "5210                                   CEBAZAT\n",
      "3693                            CELLE ST CLOUD\n",
      "1363                          CELLES SUR BELLE\n",
      "6021                                     CENON\n",
      "2901                       CERANS FOULLETOURTE\n",
      "6216                                   CERBERE\n",
      "7518                        CERBERE REPUBLIQUE\n",
      "663                                   CERENCES\n",
      "1632                                     CERET\n",
      "3913                                     CERGY\n",
      "4941                             CERGY LE HAUT\n",
      "3644                            CERGY PONTOISE\n",
      "4602                       CERGY ST CHRISTOPHE\n",
      "3473                        CERGY SUR  LE HAUT\n",
      "5550                           CERNAY LA VILLE\n",
      "1143                                      CERS\n",
      "5937                           CESSON LA FORET\n",
      "21                              CESSON SEVIGNE\n",
      "4309                                     CESSY\n",
      "253                                     CESTAS\n",
      "1165                                    CEYRAT\n",
      "5448                                 CEYZERIAT\n",
      "5904                                  CHABEUIL\n",
      "1094                                   CHABLIS\n",
      "6637                  CHABLIS MARECHAL LECLERC\n",
      "6436                 CHABRELOCHE ROUTE DE LYON\n",
      "1508                            CHADRAC LE PUY\n",
      "1206                                    CHAGNY\n",
      "1330                                  CHAILLES\n",
      "5020                                  CHAINTRE\n",
      "1365                                   CHALAIS\n",
      "6030                                 CHALAMONT\n",
      "1910                                  CHALAMPE\n",
      "3060                        CHALETTE SUR LOING\n",
      "2                                   CHALEZEULE\n",
      "4822                                  CHALLANS\n",
      "1399                            CHALLANS CEDEX\n",
      "6868                 CHALLES LES EAUX CHAMBERY\n",
      "1352                                   CHALLUY\n",
      "7119                                    CHALON\n",
      "4610                       CHALON EN CHAMPAGNE\n",
      "7148                         CHALON SAONE PIAF\n",
      "1290                          CHALON SUR SAONE\n",
      "108                      CHALON SUR SAONE NORD\n",
      "110                       CHALON SUR SAONE SUD\n",
      "832                        CHALONNES SUR LOIRE\n",
      "52                        CHALONS EN CHAMPAGNE\n",
      "1417                                    CHALUS\n",
      "4304                                CHAMARANDE\n",
      "3907                                  CHAMBERY\n",
      "41                            CHAMBERY BASSENS\n",
      "63                           CHAMBERY CHAMNORD\n",
      "5386                       CHAMBERY COMTE VERT\n",
      "5399                           CHAMBERY ITALIE\n",
      "5394                         CHAMBERY PERCEVAL\n",
      "4192                                   CHAMBLY\n",
      "1156                                 CHAMBOEUF\n",
      "1470                        CHAMBON SUR LIGNON\n",
      "1821                       CHAMBON SUR VOUEIZE\n",
      "160                                 CHAMBOURCY\n",
      "4997                        CHAMBRAY LES TOURS\n",
      "5473                                  CHAMONIX\n",
      "5468                             CHAMONIX CROZ\n",
      "2100                       CHAMONIX MONT BLANC\n",
      "5383                          CHAMONIX RAVANEL\n",
      "1299                                 CHAMPAGNE\n",
      "5312                    CHAMPAGNE AU MONT D OR\n",
      "2981                       CHAMPAGNE SUR SEINE\n",
      "1963                               CHAMPAGNOLE\n",
      "1945                                  CHAMPEIX\n",
      "4574                             CHAMPFORGEUIL\n",
      "967                                   CHAMPHOL\n",
      "1292                                 CHAMPIGNY\n",
      "992                        CHAMPIGNY SUR MARNE\n",
      "2255                   CHAMPION PARIS MARCADET\n",
      "1390                                CHAMPNIERS\n",
      "89                            CHAMPS SUR MARNE\n",
      "6845                                CHAMROUSSE\n",
      "5261                 CHAMROUSSE LES JONQUILLES\n",
      "1577                                    CHANAS\n",
      "1406                                CHANCELADE\n",
      "2903                          CHANGE LES LAVAL\n",
      "556                                 CHANTEHEUX\n",
      "508                                  CHANTEPIE\n",
      "2995                                 CHANTILLY\n",
      "1999                              CHAPAREILLAN\n",
      "1898                       CHAPELLE DES MARAIS\n",
      "513                         CHAPELLE ST MESMIN\n",
      "6956                                 CHAPONOST\n",
      "7533                          CHAPONOST DOUMER\n",
      "339                                 CHARANCIEU\n",
      "5356                                CHARAVINES\n",
      "7275                   CHARBONNIERES DE GAULLE\n",
      "3587                                 CHARENTON\n",
      "3954                         CHARENTON LE PONT\n",
      "2219                                 CHARLEVAL\n",
      "469                                CHARLEVILLE\n",
      "1                         CHARLEVILLE MEZIERES\n",
      "4883                                  CHARLIEU\n",
      "5315                                    CHARLY\n",
      "2161                         CHARNAY LES MACON\n",
      "989                                     CHARNY\n",
      "1213                                 CHAROLLES\n",
      "4873                                     CHARS\n",
      "37                                    CHARTRES\n",
      "2917                      CHARTRES DE BRETAGNE\n",
      "922                           CHARTRES DU GORD\n",
      "1938                      CHARTRES GD FAUBOURG\n",
      "5771                             CHARTRES LUCE\n",
      "3006                               CHARTRETTES\n",
      "5744                          CHASSE SUR RHONE\n",
      "1236                       CHASSENEUIL DU POIT\n",
      "4799                     CHASSENEUIL DU POITOU\n",
      "450                   CHASSENEUIL SUR BONNIEUR\n",
      "4814                 CHASSENEUIL SUR BONNIEURE\n",
      "1586                                  CHASSIEU\n",
      "5986                            CHATEAU ARNOUX\n",
      "6650                            CHATEAU CHINON\n",
      "1379                          CHATEAU D OLONNE\n",
      "7054                 CHATEAU D OLONNE SERAPHIN\n",
      "2858                           CHATEAU GONTIER\n",
      "7277                CHATEAU GONTIER REPUBLIQUE\n",
      "2969                            CHATEAU LANDON\n",
      "1438                           CHATEAU RENAULT\n",
      "207                            CHATEAU THIERRY\n",
      "4130                            CHATEAUBERNARD\n",
      "4954                              CHATEAUBOURG\n",
      "906                              CHATEAUBRIANT\n",
      "4626                                CHATEAUDUN\n",
      "657                        CHATEAUDUN GARENNES\n",
      "766                                 CHATEAULIN\n",
      "326                            CHATEAUMEILLANT\n",
      "719                        CHATEAUNEUF DU FAOU\n",
      "1786                        CHATEAUNEUF GRASSE\n",
      "62                        CHATEAUNEUF LES MART\n",
      "5498                 CHATEAUNEUF LES MARTIGUES\n",
      "562                   CHATEAUNEUF SUR CHARENTE\n",
      "1848                      CHATEAUNEUF SUR CHER\n",
      "1939                     CHATEAUNEUF SUR LOIRE\n",
      "6636                 CHATEAUNEUF VAL DE BARGIS\n",
      "1913                             CHATEAUPONSAC\n",
      "1806                             CHATEAURENARD\n",
      "163                                CHATEAUROUX\n",
      "1953                            CHATEAUVILLAIN\n",
      "6851                                    CHATEL\n",
      "7141                      CHATEL GUYON BARADUC\n",
      "854                              CHATELLERAULT\n",
      "6703                 CHATELUS MALVALEIX MARCHE\n",
      "441                           CHATENAY MALABRY\n",
      "2825                         CHATENOY LE ROYAL\n",
      "1064                                 CHATILLON\n",
      "4245                    CHATILLON EN MICHAILLE\n",
      "7175                      CHATILLON ST EXUPERY\n",
      "3127                          CHATILLON SUR CH\n",
      "2604                    CHATILLON SUR CHALARON\n",
      "2028                  CHATILLON SUR CHALARONNE\n",
      "1342                       CHATILLON SUR INDRE\n",
      "1969                       CHATILLON SUR MARNE\n",
      "1228                       CHATILLON SUR SEINE\n",
      "4462                      CHATILLON SUR THOUET\n",
      "3709                                    CHATTE\n",
      "1229                              CHAUFFAILLES\n",
      "2484                                  CHAULNES\n",
      "490                                   CHAUMONT\n",
      "4778                                CHAUMONTEL\n",
      "362                                     CHAUNY\n",
      "2010                                 CHAUVIGNY\n",
      "462                               CHAUVONCOURT\n",
      "618                                 CHAVEIGNES\n",
      "4447                                  CHAVELOT\n",
      "3296                                  CHAVILLE\n",
      "7137                   CHAZAY D AZERGUE MARCHE\n",
      "1075                         CHAZAY D AZERGUES\n",
      "530                         CHAZELLES SUR LYON\n",
      "1458                               CHAZEY BONS\n",
      "1358                             CHEF BOUTONNE\n",
      "219                                    CHELLES\n",
      "6272                              CHENERAILLES\n",
      "3620                    CHENNEVIERES SUR MARNE\n",
      "3524                     CHENNEVIERS SUR MARNE\n",
      "4236                                   CHENOVE\n",
      "7459                            CHENOVE JAURES\n",
      "152                                  CHERBOURG\n",
      "5291                       CHERBOURG OCTEVILLE\n",
      "943                                    CHERISY\n",
      "1909                                    CHEROY\n",
      "744                                   CHERREAU\n",
      "4054                                    CHESSY\n",
      "6676                          CHESSY LES MINES\n",
      "6681                   CHEVANNES PO  D EN HAUT\n",
      "2789                       CHEVIGNY ST SAUVEUR\n",
      "3250                            CHEVILLY LARUE\n",
      "342                             CHILLY MAZARIN\n",
      "8477                                   CHOISEY\n",
      "371                              CHOISY LE ROI\n",
      "165                                     CHOLET\n",
      "3705                         CHONAS L AMBALLAN\n",
      "779                                    CHORGES\n",
      "5931                       CHORUS CRAN GEVRIER\n",
      "6424                            CIBOURE JAURES\n",
      "1071                                CIERP GAUD\n",
      "4388                         CINQ MARS LA PILE\n",
      "5538                           CIRES LES MELLO\n",
      "1214                             CIRY LE NOBLE\n",
      "4561                              CISSAC MEDOC\n",
      "1405                                    CIVRAY\n",
      "27                                      CLAIRA\n",
      "2788                                     CLAIX\n",
      "1018                                   CLAMART\n",
      "6561                          CLAMART BRETAGNE\n",
      "49                               CLAYE SOUILLY\n",
      "4390                                     CLEON\n",
      "5704                            CLEON D ANDRAN\n",
      "7197                    CLEON D ANDRAN BONLIEU\n",
      "299                                   CLERMONT\n",
      "6107                        CLERMONT BERTHELOT\n",
      "7147                           CLERMONT BLATIN\n",
      "1853                       CLERMONT EN ARGONNE\n",
      "436                           CLERMONT FERRAND\n",
      "6522         CLERMONT FERRANOTRE DAME GERGOVIA\n",
      "7250         CLERMONT FERRANOTRE DAME GUYNEMER\n",
      "2096            CLERMONT FERRANOTRE DAME JAUDE\n",
      "5255        CLERMONT FERRANOTRE DAME PONCILLON\n",
      "6722        CLERMONT FERRANOTRE DAME ST PIERRE\n",
      "1529                        CLERMONT L HERAULT\n",
      "6123                           CLERMONT SALINS\n",
      "1906                            CLERY ST ANDRE\n",
      "3199                                    CLICHY\n",
      "5544                           CLICHY BARBUSSE\n",
      "1277                         CLICHY LA GARENNE\n",
      "7257                            CLICHY LECLERC\n",
      "6105                             CLICHY MARTRE\n",
      "6059                          CLICHY SUR SEINE\n",
      "1082                                   CLISSON\n",
      "1195                        CLOYES SUR LE LOIR\n",
      "2678                                     CLUNY\n",
      "188                                     CLUSES\n",
      "1750                                  COARRAZE\n",
      "332                                     COGNAC\n",
      "2716                                   COGOLIN\n",
      "7087                        COGOLIN CLEMENCEAU\n",
      "1990                                    COHADE\n",
      "8486                                COIGNIERES\n",
      "1854                          COLAYRAC ST CIRQ\n",
      "6593                                   COLIGNY\n",
      "118                                  COLLEGIEN\n",
      "7088                         COLLIOURE LECLERC\n",
      "6512                    COLLONGES AU MONT D OR\n",
      "5457                     COLLONGES SOUS SALEVE\n",
      "960                                     COLMAR\n",
      "6661                         COLMAR GRANDE RUE\n",
      "2561                                  COLOMBES\n",
      "1222                       COLOMBEY LES BELLES\n",
      "6610                        COLOMBIER FONTAINE\n",
      "3969                                COLOMBIERS\n",
      "2363                                 COLOMIERS\n",
      "2621                     COLOMIERS  RAMASSIERS\n",
      "5460                                  COMBLOUX\n",
      "767                                   COMBOURG\n",
      "1155                                 COMBRONDE\n",
      "990                             COMBS LA VILLE\n",
      "2049                         COMBS LA VILLE CO\n",
      "2384                                   COMINES\n",
      "912                            COMMELLE VERNAY\n",
      "3023                                 COMMENTRY\n",
      "498                                   COMMERCY\n",
      "5361                                  COMMUNAY\n",
      "288                                  COMPIEGNE\n",
      "434                                 CONCARNEAU\n",
      "599                           CONCHES EN OUCHE\n",
      "170                         CONDE SUR L ESCAUT\n",
      "827                          CONDE SUR NOIREAU\n",
      "554                                     CONDOM\n",
      "2832                                  CONDRIEU\n",
      "2106                     CONFLANS STE HONORINE\n",
      "3669                            CONFLANS SUR H\n",
      "1441                                 CONFOLENS\n",
      "2647                                  CONNERRE\n",
      "6477                                    CONTES\n",
      "1353                                   CONTRES\n",
      "496                              CONTREXEVILLE\n",
      "81                                   COQUELLES\n",
      "1473                                    CORBAS\n",
      "3490                             CORBEIL ESSON\n",
      "1259                          CORBEIL ESSONNES\n",
      "1153                      CORBEILLES EN GATINA\n",
      "6010                                  CORBENAY\n",
      "6644                                  CORBIGNY\n",
      "6564                           CORCIEUX POIROT\n",
      "6169                           CORDES SUR CIEL\n",
      "7516                      CORDES SUR CIEL ALBI\n",
      "5455                                    CORDON\n",
      "7517                              CORDON BOURG\n",
      "2303                                CORMEILLES\n",
      "3425                     CORMEILLES EN PARISIS\n",
      "932                                    CORMICY\n",
      "4956                              CORMONTREUIL\n",
      "1627                              CORNEBARRIEU\n",
      "1048                                 CORNILLON\n",
      "2787                                   CORPEAU\n",
      "382                                      CORRE\n",
      "5258                      CORRENCON EN VERCORS\n",
      "6269                      CORREZE CROIX FERREE\n",
      "6659                                     COSNE\n",
      "2538                         COSNE COURS SUR L\n",
      "3030                            COSNE D ALLIER\n",
      "4903                           COSNE SUR LOIRE\n",
      "4186                          COSNES ET ROMAIN\n",
      "970                                    COUBRON\n",
      "1249                               COUDEKERQUE\n",
      "280                        COUDEKERQUE BRANCHE\n",
      "2342                                   COUERON\n",
      "1828                               COUHE VERAC\n",
      "8420                        COUILLET CHARLEROI\n",
      "2904                                 COULAINES\n",
      "1922                                  COULLONS\n",
      "1024                               COULOMMIERS\n",
      "1368                      COULOUNIEIX CHAMIERS\n",
      "6204                  COULOUNIEIX GL DE GAULLE\n",
      "2985                                  COUPVRAY\n",
      "2002                                COURBEVOIE\n",
      "5341                        COURBEVOIE PASTEUR\n",
      "5109                                COURCELLES\n",
      "1851                        COURCELLES CHAUSSY\n",
      "2053                       COURCELLES LES LENS\n",
      "3396                             COURCOURONNES\n",
      "1509                                COURNONSEC\n",
      "2691                             COURNONTERRAL\n",
      "1354                                 COURPIERE\n",
      "1100                            COURS LA VILLE\n",
      "2213                               COURSEULLES\n",
      "995                                  COURTENAY\n",
      "7253                        COURTENAY CHESNEAU\n",
      "1830                                COURTISOLS\n",
      "5424                                  COUSOLRE\n",
      "812                                  COUTANCES\n",
      "2189                         COUTANCES MAURICE\n",
      "1718                                   COUTRAS\n",
      "4337                                   COUZEIX\n",
      "5323                       COUZON AU MONT D OR\n",
      "975                                      CRACH\n",
      "4023                              CRAN GEVRIER\n",
      "1761                                   CRANSAC\n",
      "1457                                  CRAPONNE\n",
      "7211                            CRAPONNE ARZON\n",
      "5321                           CRAPONNE PERRIN\n",
      "2942                                  CREANCES\n",
      "4501                                  CREANCEY\n",
      "109                          CRECHES SUR SAONE\n",
      "1016                         CRECY LA CHAPELLE\n",
      "2436                           CREGY LES MEAUX\n",
      "3474                                     CREIL\n",
      "2372                                   CREMIEU\n",
      "484                         CRENEY PRES TROYES\n",
      "2501                                     CREON\n",
      "361                            CREPY EN VALOIS\n",
      "1553                                     CREST\n",
      "6036                           CREST CONDAMINE\n",
      "66                                     CRETEIL\n",
      "242                                 CREUTZWALD\n",
      "2487                       CREVECOEUR LE GRAND\n",
      "1136                                   CREYSSE\n",
      "601                        CRIQUETOT L ESNEVAL\n",
      "6279                          CROCQ  BOURBOULE\n",
      "1313                         CROISSY BEAUBOURG\n",
      "2209                         CROISSY SUR SEINE\n",
      "420                                      CROIX\n",
      "3153                                   CROLLES\n",
      "5650                            CROS DE CAGNES\n",
      "3890                                    CROSNE\n",
      "1301                                     CROUY\n",
      "4902                                    CROZON\n",
      "5692                                     CRUAS\n",
      "2571                                CRUSEILLES\n",
      "577                                       CUCQ\n",
      "811                                      CUERS\n",
      "7192                             CUERS BERNARD\n",
      "1757                                   CUGNAUX\n",
      "2188                                     CULOZ\n",
      "5183                                   CUNLHAT\n",
      "1034                                    CUSSAC\n",
      "130                                     CUSSET\n",
      "5382                            CUSY LA PALLUD\n",
      "1248                                   CYSOING\n",
      "4977          DADB BELGIQUE SUR  SUR CHARLEROI\n",
      "2585                                DADONVILLE\n",
      "4939                                   DAGNEUX\n",
      "6244                                   DAMAZAN\n",
      "1106                          DAMMARIE LES LYS\n",
      "1889                                  DAMPARIS\n",
      "1946                        DAMPIERRE LES BOIS\n",
      "1893                       DAMPIERRE SUR SALON\n",
      "2899                                  DAMVILLE\n",
      "2283                           DANGE ST ROMAIN\n",
      "244                                 DANNEMARIE\n",
      "683                                   DARNETAL\n",
      "1879                                    DARNEY\n",
      "6332                                  DAUMAZAN\n",
      "2491                                 DAVEZIEUX\n",
      "220                                        DAX\n",
      "2058                                 DEAUVILLE\n",
      "5285                          DEAUVILLE MARINE\n",
      "5835                               DECAZEVILLE\n",
      "2140                                     DECHY\n",
      "4238                                   DECINES\n",
      "310                              DECINES CEDEX\n",
      "1324                                    DECIZE\n",
      "668                                      DELLE\n",
      "85                                      DENAIN\n",
      "606                                   DENEUVRE\n",
      "2624                                     DEOLS\n",
      "406                                  DESCARTES\n",
      "3036                                DESERTINES\n",
      "2084                                   DESVRES\n",
      "7366                            DEUIL LA BARRE\n",
      "3686                           DEUIL SUR BARRE\n",
      "2882                         DEVILLE LES ROUEN\n",
      "1486                                       DIE\n",
      "4511                                    DIEPPE\n",
      "373                            DIEUE SUR MEUSE\n",
      "5695                          DIEULEFIT MAGNET\n",
      "900                                     DIEUZE\n",
      "1809                                     DIGNE\n",
      "180                            DIGNE LES BAINS\n",
      "1315                                    DIGOIN\n",
      "6683                            DIGOIN BARTOLI\n",
      "75                                       DIJON\n",
      "6577                      DIJON CHARLES DUMONT\n",
      "5820                             DIJON CHENOVE\n",
      "6115                          DIJON CLEMENCEAU\n",
      "6698                DIJON DRAPEAU PASCAL JUNOT\n",
      "6580                              DIJON EIFFEL\n",
      "6694                            DIJON JOUVENCE\n",
      "6591                             DIJON LANGRES\n",
      "6627                               DIJON MONGE\n",
      "6578                          DIJON STRASBOURG\n",
      "7270                                     DINAN\n",
      "1982                                    DINARD\n",
      "2911                       DINARD ST ALEXANDRE\n",
      "3770                                 DISPANORD\n",
      "2643                                    DISTRE\n",
      "796                              DIVES SUR MER\n",
      "2085                                    DIVION\n",
      "2665                             DIVONNE BAINS\n",
      "5445                         DIVONNE LES BAINS\n",
      "2531                               DOL DE BRET\n",
      "733                            DOL DE BRETAGNE\n",
      "1207                                      DOLE\n",
      "6704                             DOLE BESANCON\n",
      "1387                            DOLUS D OLERON\n",
      "1475                                   DOMANCY\n",
      "689                                    DOMARIN\n",
      "2394                      DOMBASLE SUR MEURTHE\n",
      "1581                                    DOMENE\n",
      "5014                                   DOMERAT\n",
      "881                                   DOMFRONT\n",
      "833                                    DOMLOUP\n",
      "3449                                    DOMONT\n",
      "517                                   DOMPAIRE\n",
      "757                                     DONGES\n",
      "6048                       DONNEMARIE DONTILLY\n",
      "6014                                  DONVILLE\n",
      "1187                                  DONZENAC\n",
      "325                                      DONZY\n",
      "771                                    DORCEAU\n",
      "1172                                  DORDIVES\n",
      "2437                                   DORMANS\n",
      "1974                                    DORNES\n",
      "2364                                     DOUAI\n",
      "5206                              DOUAI CARNOT\n",
      "83                             DOUAI SUR FLERS\n",
      "822                                 DOUARNENEZ\n",
      "4595                                     DOUBS\n",
      "555                           DOUCHY LES MINES\n",
      "2214                                DOUDEVILLE\n",
      "817                           DOUE LA FONTAINE\n",
      "421                                   DOULLENS\n",
      "1063                                   DOURDAN\n",
      "1966                                  DOUVAINE\n",
      "4980                     DOUVRES LA DELIVRANDE\n",
      "212                                 DRAGUIGNAN\n",
      "5627                DRAGUIGNAN CHEMIN ST JAUME\n",
      "5629                       DRAGUIGNAN COLETTES\n",
      "80                                      DRANCY\n",
      "998                                    DRAVEIL\n",
      "4638                                     DREUX\n",
      "1861                                 DRULINGEN\n",
      "4378                                 DRUMETTAZ\n",
      "2945                                     DUCEY\n",
      "2517                                   DUCLAIR\n",
      "6546                         DUCLAIR DE GAULLE\n",
      "3790                                     DUGNY\n",
      "1335                           DUN LE PALESTEL\n",
      "1329                             DUN SUR AURON\n",
      "2319                                  DUNIERES\n",
      "2415                                 DUNKERQUE\n",
      "7259                   DUNKERQUE PETITE SYNTHE\n",
      "2701                           DURY LES AMIENS\n",
      "4760                                     EAUZE\n",
      "2717                                ECHIROLLES\n",
      "3985                                ECQUEVILLY\n",
      "1979                                  ECROUVES\n",
      "1949                                  ECUEILLE\n",
      "2278                                  ECUELLES\n",
      "50                                      ECULLY\n",
      "7394                                  EGLETONS\n",
      "6457                  EGLISENEUVE D ENTRAIGUES\n",
      "1061                                      EGLY\n",
      "7499              EGUILLES GRANOTRE DAME LOGIS\n",
      "623                                  ELANCOURT\n",
      "2852                                    ELBEUF\n",
      "1138                                      ELNE\n",
      "567                                      ELVEN\n",
      "1580                                    EMBRUN\n",
      "966                               EMERAINVILLE\n",
      "295                                    EMMERIN\n",
      "1251                         ENGHIEN LES BAINS\n",
      "3472                         ENGHIEN SUR BAINS\n",
      "2619                                    ENNERY\n",
      "1152                                   ENNEZAT\n",
      "874                                  ENSISHEIM\n",
      "501                          ENSUES LA REDONNE\n",
      "2262                    ENTRAIGUES SOUS ORGUES\n",
      "6678                           ENTRAINS NOHAIN\n",
      "1099                                 ENTREVAUX\n",
      "2473                               EPERLECQUES\n",
      "208                                    EPERNAY\n",
      "6588                          EPINAC DE GAULLE\n",
      "858                                     EPINAL\n",
      "3                                EPINAL JEUXEY\n",
      "4302                        EPINAY SOUS SENART\n",
      "3001                              EPINAY SUR O\n",
      "3854                          EPINAY SUR SEINE\n",
      "3470                         EPINAY SUR SENART\n",
      "2893                                 EPOUVILLE\n",
      "3423                         EPÃNAY SUR SEINE\n",
      "671                               EQUEMAUVILLE\n",
      "4167                             EQUIHEN PLAGE\n",
      "5294                       EQUIHEN PLAGE DUNES\n",
      "783                                    ERDEVEN\n",
      "2933                             ERGUE GABERIC\n",
      "1197                                    ERMONT\n",
      "6560                         ERMONT STALINGRAD\n",
      "2897                                     ERNEE\n",
      "2576                            ERQUINGHEM LYS\n",
      "4909                                   ERSTEIN\n",
      "7365                                     ESBLY\n",
      "1221                                ESCAUTPONT\n",
      "1634                                  ESPERAZA\n",
      "1078                                    ESPERE\n",
      "2464                                    ESSARS\n",
      "4857                           ESSEY LES NANCY\n",
      "6629                                   ESSOYES\n",
      "6212                                   ESTAGEL\n",
      "6782                           ESTAGEL NICOLAU\n",
      "2414                                  ESTAIRES\n",
      "5939                               ESTANCARBON\n",
      "1265                                  ESTERNAY\n",
      "5043                            ESTREE BLANCHE\n",
      "2943                           ETABLES SUR MER\n",
      "1882                                     ETAIN\n",
      "68                                     ETAMPES\n",
      "4465                         ETAMPES SUR MARNE\n",
      "2086                                   ETAPLES\n",
      "1616                                 ETAULIERS\n",
      "2976                                  ETIOLLES\n",
      "1482                          ETOILE SUR RHONE\n",
      "1053                                   ETRECHY\n",
      "2609                                 ETREPAGNY\n",
      "7469                                    ETUPES\n",
      "586                                         EU\n",
      "5879                                     EVIAN\n",
      "3152                           EVIAN LES BAINS\n",
      "1885                                    EVRECY\n",
      "7449        EVREUX CC NETREVILLE CC NETREVILLE\n",
      "90                        EVREUX GUICHAINVILLE\n",
      "634                        EVREUX LA MADELEINE\n",
      "613                          EVREUX NETREVILLE\n",
      "411                           EVREUX ST MICHEL\n",
      "2868                                     EVRON\n",
      "19                                        EVRY\n",
      "5798                                 EXINCOURT\n",
      "1802                                 EYGUIERES\n",
      "6463                          EYGURANDE EGLISE\n",
      "5925                                EYMOUTIERS\n",
      "6482                                  EYRAGUES\n",
      "1729                                   EYSINES\n",
      "3703                                 EZANVILLE\n",
      "5637                               EZE VILLAGE\n",
      "5546                              EZY SUR EURE\n",
      "1451                                 FABREGUES\n",
      "465                                 FAINS VEEL\n",
      "2542                                   FALAISE\n",
      "863                                     FAMECK\n",
      "1860                              FAREMOUTIERS\n",
      "1579                                  FAVERGES\n",
      "3022                       FAVEROLLES SUR CHER\n",
      "5664                                   FAYENCE\n",
      "184                                     FECAMP\n",
      "2873                         FECAMP GANZEVILLE\n",
      "2226                                  FEIGNIES\n",
      "389                                   FEILLENS\n",
      "644                                   FELLETIN\n",
      "2006                          FERE CHAMPENOISE\n",
      "126                            FERNEY VOLTAIRE\n",
      "2392                        FERRIERE LA GRANDE\n",
      "2648                         FERRIERES D AUNIS\n",
      "6025                         FERRIERES EN BRIE\n",
      "2974                     FERRIERES EN GATINAIS\n",
      "2482                       FEUQUIERES EN VIMEU\n",
      "196                                      FEURS\n",
      "1485                              FEURS CIVENS\n",
      "4510                                     FEVES\n",
      "6483                                FIGANIERES\n",
      "1733                                    FIGEAC\n",
      "5844                                   FIRMINY\n",
      "7205                           FIRMINY FRACHON\n",
      "468                                     FISMES\n",
      "276                                 FITZ JAMES\n",
      "1081                                   FLAGNAC\n",
      "8509                                    FLERON\n",
      "4530                                     FLERS\n",
      "797                            FLERS DE L ORNE\n",
      "7266                            FLERS DOMFRONT\n",
      "855                                 FLESSELLES\n",
      "2138                                 FLEURANCE\n",
      "1284                         FLEUREY SUR OUCHE\n",
      "5450                                   FLEURIE\n",
      "5061                                   FLEURUS\n",
      "679                         FLEURY LES AUBRAIS\n",
      "2872                        FLEURY SUR ANDELLE\n",
      "4935                           FLEURY SUR ORNE\n",
      "17                             FLINS SUR SEINE\n",
      "303                                 FLIXECOURT\n",
      "1295                                    FLORAC\n",
      "2067                                  FLORANGE\n",
      "4484                                 FLORENSAC\n",
      "7163                          FLORENSAC JAURES\n",
      "5390                         FLUMET MONT BLANC\n",
      "1705                                      FOIX\n",
      "7150                               FONS PLASSE\n",
      "318                                  FONSORBES\n",
      "2735                                  FONTAINE\n",
      "6441                            FONTAINE CURIE\n",
      "1088                         FONTAINE LA GUYON\n",
      "1231                        FONTAINE LES DIJON\n",
      "6602                        FONTAINE MALADIERE\n",
      "6524                 FONTAINE SUR SAONE CARBON\n",
      "3371                             FONTAINEBLEAU\n",
      "5324                       FONTAINES ST MARTIN\n",
      "7514                FONTAINES ST MARTIN MOULIN\n",
      "2718                       FONTAINES SUR SAONE\n",
      "2329                        FONTENAY AUX ROSES\n",
      "4437                         FONTENAY LE COMTE\n",
      "3346                        FONTENAY LE FLEURY\n",
      "7107                  FONTENAY S BOIS ROUSSEAU\n",
      "1226                        FONTENAY SOUS BOIS\n",
      "1090                         FONTENAY TRESIGNY\n",
      "1887                               FONTVIEILLE\n",
      "461                                    FORBACH\n",
      "4413                             FORCALQUEIRET\n",
      "1777                               FORCALQUIER\n",
      "2719                           FORGES LES EAUX\n",
      "4608                                  FORMERIE\n",
      "1791                               FOS SUR MER\n",
      "343                                 FOUCARMONT\n",
      "2623                                 FOUESNANT\n",
      "217                                   FOUGERES\n",
      "388                        FOUGEROLLES PLESSIS\n",
      "6032                                  FOUILLOY\n",
      "1685                              FOULAYRONNES\n",
      "527                              FOURCHAMBAULT\n",
      "213                                   FOURMIES\n",
      "1545                                 FOURNEAUX\n",
      "7128                                     FOURS\n",
      "2582                                    FRAIZE\n",
      "199                               FRANCHEVILLE\n",
      "3549                              FRANCONVILLE\n",
      "5545                   FRANCONVILLE REPUBLIQUE\n",
      "1776                                    FREJUS\n",
      "6085                            FREJUS LEOTARD\n",
      "6113                           FREJUS TASSIGNY\n",
      "685                                   FRENEUSE\n",
      "4527                        FRESNAY SUR SARTHE\n",
      "988                                    FRESNES\n",
      "3111                          FRESNOY LE GRAND\n",
      "6557                            FRESSENNEVILLE\n",
      "4223                                    FRETIN\n",
      "6547                            FRETIN PASTEUR\n",
      "2135                                   FREVENT\n",
      "4557                                  FRIVILLE\n",
      "400                        FRIVILLE ESCARBOTIN\n",
      "2817                                    FROGES\n",
      "1429                                FROMENTINE\n",
      "1592                                FRONTIGNAN\n",
      "504                                    FRONTON\n",
      "2532                                  FROUZINS\n",
      "2087                                    FRUGES\n",
      "2957                                     FUMAY\n",
      "1611                                     FUMEL\n",
      "5990                                    FUVEAU\n",
      "7508                             FUVEAU LOUBET\n",
      "7403                                  GABARRET\n",
      "739                                       GACE\n",
      "3537                                     GAGNY\n",
      "1619                                   GAILLAC\n",
      "1493                                  GAILLARD\n",
      "4922                               GAINNEVILLE\n",
      "2886                                 GALLARDON\n",
      "5551                        GALLARDON CHARTRES\n",
      "495                                   GAMACHES\n",
      "4915                                    GANGES\n",
      "1347                                    GANNAT\n",
      "1597                                       GAP\n",
      "2050                               GARANCIERES\n",
      "3167                                   GARCHES\n",
      "1793                                  GARDANNE\n",
      "4491                         GARENNES SUR EURE\n",
      "6086                                  GAREOULT\n",
      "3009                               GARGENVILLE\n",
      "3776                       GARGES SUR GONESSES\n",
      "1622                                  GARIDECH\n",
      "1874                                    GARLIN\n",
      "600                                      GASNY\n",
      "6429                         GASTES LA RESERVE\n",
      "866                                  GATTIERES\n",
      "333                                     GAUCHY\n",
      "2020                                    GAUJAC\n",
      "443                                   GAUVILLE\n",
      "7454                               GD QUEVILLY\n",
      "7102                        GD QUEVILLY CORROY\n",
      "6355                                     GELOS\n",
      "5071                                   GEMOZAC\n",
      "2805                                     GENAS\n",
      "6957                                     GENAY\n",
      "1448                                    GENCAY\n",
      "6643                        GENELARD NATIONALE\n",
      "2720                                   GENERAC\n",
      "6258                 GENERAC GRANOTRE DAME RUE\n",
      "763                                   GENESTON\n",
      "1285                                GENISSIEUX\n",
      "1212                                    GENLIS\n",
      "57                               GENNEVILLIERS\n",
      "996                                   GENTILLY\n",
      "552                                  GERARDMER\n",
      "6625                                     GERGY\n",
      "263                                     GERZAT\n",
      "2921                                    GEVEZE\n",
      "1606                                       GEX\n",
      "5454                              GEX COMMERCE\n",
      "4225                                GIBERVILLE\n",
      "3062                                      GIEN\n",
      "984                             GIF SUR YVETTE\n",
      "1587                                    GIGNAC\n",
      "2743                          GIGNAC LA NERTHE\n",
      "2341                                    GIMONT\n",
      "916                                 GIRANCOURT\n",
      "1858                                 GIROMAGNY\n",
      "617                                     GISORS\n",
      "566                                      GIVET\n",
      "60                                      GIVORS\n",
      "5144                             GIVORS VALLIN\n",
      "563                                    GLAGEON\n",
      "1447                                   GLANDON\n",
      "2217                                GODERVILLE\n",
      "268                                  GOINCOURT\n",
      "5648                                GOLFE JUAN\n",
      "429                           GOMETZ LE CHATEL\n",
      "3977                                   GONESSE\n",
      "5579                                  GONFARON\n",
      "4870                      GONFREVILLE L ORCHER\n",
      "2287                      GONNEVILLE LA MALLET\n",
      "1225                                   GOURDON\n",
      "867                                     GOURIN\n",
      "1981                           GOURNAY EN BRAY\n",
      "7281                         GOURNAY SUR MARNE\n",
      "122                              GOUSSAINVILLE\n",
      "1092                                  GOUVIEUX\n",
      "1931                              GOUZEAUCOURT\n",
      "3067                                    GOUZON\n",
      "664                                      GOVEN\n",
      "5890                                   GRABELS\n",
      "5111                            GRACE HOLLOGNE\n",
      "226                            GRACES GUINGAMP\n",
      "398                                  GRADIGNAN\n",
      "292                              GRANDVILLIERS\n",
      "2529                       GRANOTRE DAME CHAMP\n",
      "630                     GRANOTRE DAME COURONNE\n",
      "5487                                     GRANS\n",
      "4674                                 GRANVILLE\n",
      "7219                         GRANVILLE COURAYE\n",
      "1812                                    GRASSE\n",
      "5657                              GRASSE DUVAL\n",
      "8162                                GRATENDOUR\n",
      "1662                                GRATENTOUR\n",
      "385                                   GRAULHET\n",
      "432                                 GRAVELINES\n",
      "1319                                      GRAY\n",
      "1788                                  GREASQUE\n",
      "1744                                   GRENADE\n",
      "42                                    GRENOBLE\n",
      "5710                  GRENOBLE ALSACE LORRAINE\n",
      "5263                           GRENOBLE AMPERE\n",
      "5416                          GRENOBLE BERRIAT\n",
      "5406                           GRENOBLE GAMINE\n",
      "7169                           GRENOBLE JAURES\n",
      "7294                     GRENOBLE JEANNE D ARC\n",
      "5385                   GRENOBLE JOSEPH VALLIER\n",
      "5414                          GRENOBLE JOUHAUX\n",
      "5875                          GRENOBLE K STORE\n",
      "48                             GRENOBLE MEYLAN\n",
      "6740                         GRENOBLE MONTORGE\n",
      "5711                           GRENOBLE RANDON\n",
      "5713                       GRENOBLE REPUBLIQUE\n",
      "5734                          GREOUX LES BAINS\n",
      "2569                             GRESY SUR AIX\n",
      "1117                      GRETZ ARMAINVILLIERS\n",
      "5329                        GREZIEU LA VARENNE\n",
      "1070                                   GRIGNAN\n",
      "6257                                  GRIGNOLS\n",
      "1541                                    GRIGNY\n",
      "4858                                   GRILLON\n",
      "1108                                   GRIMAUD\n",
      "2108                                 GRISOLLES\n",
      "4241                                GROFFLIERS\n",
      "6543                        GROFFLIERS COUCOUS\n",
      "2360                                    GROISY\n",
      "6196                                  GROLEJAC\n",
      "6781                            GROLEJAC BOURG\n",
      "215                         GRUCHET LE VALASSE\n",
      "1072                                  GRUISSAN\n",
      "936                                 GUARBECQUE\n",
      "722                         GUEMENE SUR SCORFF\n",
      "438                                   GUENANGE\n",
      "798                                       GUER\n",
      "716                                   GUERANDE\n",
      "197                                     GUERET\n",
      "322                                   GUERIGNY\n",
      "294                                   GUESNAIN\n",
      "6421                        GUETHARY DE GAULLE\n",
      "6346                          GUETHARY GETARIA\n",
      "1294                                  GUEUGNON\n",
      "2558                                   GUIGNES\n",
      "2949                               GUIGNICOURT\n",
      "1479                                GUILLESTRE\n",
      "2579                                    GUINES\n",
      "5007                                  GUINGAMP\n",
      "714                        GUINGAMP ST AGATHON\n",
      "5023                                    GUIPRY\n",
      "277                                      GUISE\n",
      "2386                             GUJAN MESTRAS\n",
      "2992                                GUYANCOURT\n",
      "1878                                        GY\n",
      "5475                    HABERE POCHE CHEF LIEU\n",
      "6022                                  HABSHEIM\n",
      "1767                                  HAGETMAU\n",
      "6590                           HAGONDANGE GARE\n",
      "834                                   HAGUENAU\n",
      "6702                         HAGUENAU DECAPOLE\n",
      "2088                               HAILLICOURT\n",
      "4961                                    HALLOY\n",
      "1148                                   HALLUIN\n",
      "2955                                       HAM\n",
      "4195                    HARCANVILLE DOUDEVILLE\n",
      "4440                               HARDRICOURT\n",
      "1672                                 HASPARREN\n",
      "4343                                HAUBOURDIN\n",
      "655                                  HAUTEFORT\n",
      "1900                                HAUTERIVES\n",
      "2486                        HAUTEVILLE LOMPNES\n",
      "687                                   HAUTMONT\n",
      "467                                    HAYANGE\n",
      "174                                 HAZEBROUCK\n",
      "2071                                       HEM\n",
      "1141                                   HENDAYE\n",
      "7066                   HENDAYE GENERAL LECLERC\n",
      "1181                                 HENNEBONT\n",
      "1934                              HENRICHEMONT\n",
      "921                                   HERBAULT\n",
      "4344                                   HERBLAY\n",
      "358                               HERIMONCOURT\n",
      "6688                                  HERISSON\n",
      "1272                                    HERMES\n",
      "927                                    HERMIES\n",
      "1459                                 HERMILLON\n",
      "61                         HEROUVILLE ST CLAIR\n",
      "7103             HEROUVILLE ST CLAIR HTE FOLIE\n",
      "266                            HERSIN COUPIGNY\n",
      "5078                                   HERSTAL\n",
      "2407                                    HESDIN\n",
      "1478                                  HEYRIEUX\n",
      "4242                                    HIRSON\n",
      "879                                 HOCHFELDEN\n",
      "243                              HOMBOURG HAUT\n",
      "799                                  HOMECOURT\n",
      "2289                                  HONFLEUR\n",
      "5276                       HONFLEUR LEPAULMIER\n",
      "4894                            HORNU BELGIQUE\n",
      "6353                                  HOSSEGOR\n",
      "7410              HOSSEGOR TOURING CLUB FRANCE\n",
      "4485                                   HOUDAIN\n",
      "853                                   HOUILLES\n",
      "5433                         HOUILLES BARBUSSE\n",
      "5289                         HOUILLES ROUSSEAU\n",
      "3112                                   HOURTIN\n",
      "6158                  HOURTIN ROUTE DE CONTAUT\n",
      "1178                                  HOYMILLE\n",
      "1826                                  HUELGOAT\n",
      "1950                                    HURIEL\n",
      "1810                                    HYERES\n",
      "5620                     HYERES ALPHONSE DENIS\n",
      "7001                           HYERES GAMBETTA\n",
      "5622                          HYERES LE PYANET\n",
      "4399                                       IFS\n",
      "5303                            ILE AUX MOINES\n",
      "691                               ILE DE GROIX\n",
      "1131                              ILLE SUR TET\n",
      "622                            ILLIERS COMBRAY\n",
      "631                                      IMPHY\n",
      "7453                                INCHEVILLE\n",
      "5003                                     INDRE\n",
      "1147                       INGRANDES SUR LOIRE\n",
      "2516                                     INGRE\n",
      "2824                                    IRIGNY\n",
      "6888           IRIGNY BAUDRANOTRE DAME BEZANGE\n",
      "1220                              IS SUR TILLE\n",
      "2132                                 ISBERGUES\n",
      "728                             ISIGNY SUR MER\n",
      "6371                             ISLE EN DODON\n",
      "4077                             ISLE ST DENIS\n",
      "793                                ISNEAUVILLE\n",
      "6435                      ISPAGNAC ROUTE NEUVE\n",
      "187                                    ISSOIRE\n",
      "1338                                  ISSOUDUN\n",
      "6748                  ISSY LES MOLINEAUX RENAN\n",
      "584                        ISSY LES MOULINEAUX\n",
      "5336               ISSY LES MOULINEAUX CRESSON\n",
      "3786                        ISSY SUR MOULINEAU\n",
      "4177                                    ISTRES\n",
      "1065                                 ITTEVILLE\n",
      "1721                                  ITXASSOU\n",
      "3300                                      IVRY\n",
      "627                           IVRY LA BATAILLE\n",
      "67                              IVRY SUR SEINE\n",
      "7483                     IVRY SUR SEINE VERDUN\n",
      "5362                                    IZEAUX\n",
      "4642                                      IZON\n",
      "1518                                     JACOU\n",
      "5232                                   JALIGNY\n",
      "7850                                   JALLAIS\n",
      "626                                   JANVILLE\n",
      "816                                      JANZE\n",
      "4494                                   JARDRES\n",
      "1371                                    JARNAC\n",
      "6280                                  JARNAGES\n",
      "541                                      JARNY\n",
      "828                                   JARVILLE\n",
      "2828                          JASSANS RIOTTIER\n",
      "246                                JAUNAY CLAN\n",
      "6385                                     JEGUN\n",
      "444                                    JEUMONT\n",
      "428                                     JOIGNY\n",
      "540                                  JOINVILLE\n",
      "4789                         JOINVILLE LE PONT\n",
      "3251                        JOINVILLE SUR PONT\n",
      "2833                                    JONAGE\n",
      "1044                                JONQUIERES\n",
      "1413                                    JONZAC\n",
      "1102                      JOUARS PONTCHARTRAIN\n",
      "1362                            JOUE LES TOURS\n",
      "5199                    JOUE LES TOURS GAMMARD\n",
      "6545                             JOUY EN JOSAS\n",
      "2970                           JOUY LE MOUTIER\n",
      "2228                                   JOYEUSE\n",
      "1688                                   JUILLAN\n",
      "7214                                   JUMEAUX\n",
      "1039                                  JURANCON\n",
      "1208                                    JUSSEY\n",
      "3739                                     JUSSY\n",
      "1564                                  JUVIGNAC\n",
      "1120                           JUVISY SUR ORGE\n",
      "4640                                     KEMBS\n",
      "877                                 KIENTZHEIM\n",
      "4735                               KINGERSHEIM\n",
      "3338                           KREMLIN BICETRE\n",
      "1045                                   L ABSIE\n",
      "5415                                 L AD HUEZ\n",
      "775                              L AIGLE CEDEX\n",
      "2324                                L ARBRESLE\n",
      "5308                           L ARBRESLE PERI\n",
      "4904                              L ARGENTIERE\n",
      "161                            L HAY LES ROSES\n",
      "1572                                   L HORME\n",
      "3759                            L ILE ST DENIS\n",
      "191                                L ISLE ADAM\n",
      "8                               L ISLE D ABEAU\n",
      "6296              L ISLE D ESPAGNAC REPUBLIQUE\n",
      "1926                           L ISLE EN DODON\n",
      "6924                  L ISLE EN DODON BOURGUET\n",
      "1425                           L ISLE JOURDAIN\n",
      "1511                      L ISLE SUR LA SORGUE\n",
      "919                        L ISLE SUR LE DOUBS\n",
      "6638                         L ISLE SUR SEREIN\n",
      "5686                         L ISLE SUR SORGUE\n",
      "1166                           L ISLE SUR TARN\n",
      "1676                                   L UNION\n",
      "6055                      LA BALME DE SILLINGY\n",
      "269                                  LA BASSEE\n",
      "1904                          LA BAZOCHE GOUET\n",
      "1512                                 LA BIOLLE\n",
      "1557                        LA BOISSE MONTLUEL\n",
      "1017                    LA BONNEVILLE SUR ITON\n",
      "2031                              LA BOUEXIERE\n",
      "2612                              LA BRILLANNE\n",
      "878                                  LA BROQUE\n",
      "1514                              LA CANOURGUE\n",
      "6455                        LA CANOURGUE PLACE\n",
      "3014                                LA CAPELLE\n",
      "5617                         LA CAPTE D HYERES\n",
      "6864                   LA CELLE ST C,LAMARTINE\n",
      "6539                   LA CELLE ST C.LAMARTINE\n",
      "5005                         LA CELLE ST CLOUD\n",
      "6853             LA CELLE ST CLOUD R, JONCHERE\n",
      "5530             LA CELLE ST CLOUD R. JONCHERE\n",
      "5178                            LA CHAISE DIEU\n",
      "5379          LA CHAMBRE RESIDENCE BEAURREVERS\n",
      "761                                LA CHAPELLE\n",
      "254                       LA CHAPELLE D ABONDA\n",
      "7338                      LA CHAPELLE GAUTHIER\n",
      "1280                        LA CHAPELLE LAUNAY\n",
      "4270                      LA CHAPELLE ST AUBIN\n",
      "136                         LA CHAPELLE ST LUC\n",
      "5753                     LA CHAPELLE SUR ERDRE\n",
      "549                       LA CHARITE SUR LOIRE\n",
      "1196                          LA CHATAIGNERAIE\n",
      "1344                                 LA CHATRE\n",
      "7246                         LA CHATRE AJASSON\n",
      "3048                     LA CHAUSSEE ST VICTOR\n",
      "155                                  LA CIOTAT\n",
      "5984                        LA CIOTAT CEYRESTE\n",
      "5584                          LA CIOTAT POILUS\n",
      "5957                           LA CIOTAT ROHAN\n",
      "5217                               LA CLAYETTE\n",
      "6764                         LA COLLE SUR LOUP\n",
      "391                           LA COTE ST ANDRE\n",
      "3168                              LA COURNEUVE\n",
      "6265                               LA COURTINE\n",
      "2497                                   LA CRAU\n",
      "5625                           LA CROIX VALMER\n",
      "6911                   LA CROIX VALMER ODYSSEE\n",
      "1801                             LA DESTROUSSE\n",
      "1494                      LA FARE EN CHAMPSAUR\n",
      "1797                                LA FARLEDE\n",
      "2444                            LA FERTE ALAIS\n",
      "2877                          LA FERTE BERNARD\n",
      "1007                          LA FERTE GAUCHER\n",
      "768                              LA FERTE MACE\n",
      "1168                            LA FERTE MILON\n",
      "4632                     LA FERTE SOUS JOUARRE\n",
      "3046                         LA FERTE ST AUBIN\n",
      "2023                              LA FEUILLADE\n",
      "2586                          LA FLECHE MOLANS\n",
      "1384                           LA FLOTTE EN RE\n",
      "1122                              LA FOUILLADE\n",
      "5159                             LA FOUILLOUSE\n",
      "5821                            LA FOUX GASSIN\n",
      "7162                                LA GACILLY\n",
      "6028                              LA GAILLARDE\n",
      "1240                                  LA GARDE\n",
      "2022                       LA GARENNE COLOMBES\n",
      "581                                   LA GAUDE\n",
      "4803                               LA GLACERIE\n",
      "390                                  LA GORGUE\n",
      "6469                  LA GRANDE MOTTE GOELANDS\n",
      "6300                 LA GRANDE MOTTE L ANTINEA\n",
      "7509             LA GRANDE MOTTE LES BOUTIQUES\n",
      "1125                    LA GRANOTRE DAME COMBE\n",
      "769                    LA GUERCHE SUR BRETAGNE\n",
      "807                              LA GUERINIERE\n",
      "6282                 LA GUERINIERE NOIRMOUTIER\n",
      "2938                          LA HAYE DU PUITS\n",
      "3513                       LA HOUSSAYE EN BRIE\n",
      "1427                                 LA JARRIE\n",
      "6013                       LA LONDE CLEMENCEAU\n",
      "1062                       LA LONDE LES MAURES\n",
      "7003            LA LONDE LES MAURES CLEMENCEAU\n",
      "5903                          LA LONDE VILLAGE\n",
      "595                                   LA LOUPE\n",
      "1820                                LA MACHINE\n",
      "6656                     LA MACHINE REPUBLIQUE\n",
      "6550                              LA MADELEINE\n",
      "1043                                LA MEZIERE\n",
      "2236                     LA MONNERIE LE MONTEL\n",
      "6970                   LA MOTTE SERVOLEX BOURG\n",
      "4540                              LA MULATIERE\n",
      "6955                      LA MULATIERE NAVARRE\n",
      "1455                                   LA MURE\n",
      "5410                     LA MURE D ISERE ALPES\n",
      "1401                                LA PALLICE\n",
      "26                                LA PART DIEU\n",
      "3256                        LA PLAINE ST DENIS\n",
      "745                          LA PLAINE SUR MER\n",
      "1835                                LA REDORTE\n",
      "1734                                  LA REOLE\n",
      "5762                              LA RICAMARIE\n",
      "4794                             LA RICHARDAIS\n",
      "1964                          LA ROCHE BLANCHE\n",
      "1359                          LA ROCHE CHALAIS\n",
      "2353                            LA ROCHE SUR F\n",
      "5469                        LA ROCHE SUR FORON\n",
      "106                           LA ROCHE SUR YON\n",
      "6283                   LA ROCHE SUR YON CHANZY\n",
      "248                                LA ROCHELLE\n",
      "5264                        LA ROCHELLE MINAGE\n",
      "5265                        LA ROCHELLE MONNET\n",
      "6292                        LA ROCHELLE SISLEY\n",
      "2581                               LA ROCHETTE\n",
      "5344                       LA ROCHETTE DAUMIER\n",
      "452                     LA ROQUETTE SUR SIAGNE\n",
      "1697                      LA SALVETAT ST GILLE\n",
      "1804                          LA SEYNE SUR MER\n",
      "5591                    LA SEYNE SUR MER JANAS\n",
      "5586                 LA SEYNE SUR MER MAR VIVO\n",
      "3052                            LA SOUTERRAINE\n",
      "8475                        LA SUZE SUR SARTHE\n",
      "1660                                  LA TESTE\n",
      "1132                          LA TESTE DE BUCH\n",
      "4645                          LA TESTE DU BUCH\n",
      "5716                          LA TOUR D AIGUES\n",
      "4295                            LA TOUR DU PIN\n",
      "1951                           LA TOUR SUR ORB\n",
      "1961                              LA TREMBLADE\n",
      "5407                                LA TRONCHE\n",
      "6972                         LA TRONCHE GRANDE\n",
      "6737                 LA TRONCHE PONT PROUILLER\n",
      "5632                       LA TURBIE DE GAULLE\n",
      "4611                         LA VALETTE DU VAR\n",
      "5093                     LA VARENNE ST HILAIRE\n",
      "5357                 LA VERPILLIERE REPUBLIQUE\n",
      "1050                               LA VERRIERE\n",
      "164                           LA VILLE DU BOIS\n",
      "1706                      LA VILLEDIEU DU TEMP\n",
      "2317                                 LA VOULTE\n",
      "1513                       LA VOULTE SUR RHONE\n",
      "6361                       LABARTHE DE RIVIERE\n",
      "1129                         LABARTHE SUR LEZE\n",
      "103                                     LABEGE\n",
      "1681                                   LABENNE\n",
      "7504                       LABENNE LE BOUDIGAU\n",
      "7123                     LABERGEMENT STE MARIE\n",
      "1683                                LABOUHEYRE\n",
      "915                                     LABRIT\n",
      "1664                               LABRUGUIERE\n",
      "6432                LACANAU AIROTEL DE L OCEAN\n",
      "642                          LACAPELLE MARIVAL\n",
      "3132                                   LACAUNE\n",
      "7451                       LACHAPELLE AUX POTS\n",
      "5268                              LADON MARCHE\n",
      "2820                                   LAGNIEU\n",
      "3731                                     LAGNY\n",
      "3749                           LAGNY SUR MARNE\n",
      "4250                                    LAGORD\n",
      "6387                          LAGUEPIE LIBERTE\n",
      "6701                   LAIGNES SOUS LES SAULES\n",
      "4849                               LAIGNEVILLE\n",
      "2598                                    LAILLE\n",
      "636                                    LAISSAC\n",
      "1576                                  LAISSAUD\n",
      "557                               LALANNE TRIE\n",
      "6201                                 LALBENQUE\n",
      "1965                                  LALEVADE\n",
      "1419                                   LALINDE\n",
      "2291                                  LALLAING\n",
      "6210                         LAMALOU LES BAINS\n",
      "1935                                  LAMASTRE\n",
      "397                                   LAMBALLE\n",
      "265                                 LAMBERSART\n",
      "511                                    LAMBESC\n",
      "298                          LAMBRES LES AIRES\n",
      "447                          LAMBRES LEZ DOUAI\n",
      "2454                                 LAMORLAYE\n",
      "1327                           LAMOTTE BEUVRON\n",
      "387                        LAMURE SUR AZERGUES\n",
      "928                         LANCON DE PROVENCE\n",
      "829                                 LANDERNEAU\n",
      "1846                                 LANDEVANT\n",
      "6252                                  LANDIRAS\n",
      "7020                               LANDIVISIAU\n",
      "4682                                 LANDORTHE\n",
      "2959                                LANDRECIES\n",
      "470                                    LANDRES\n",
      "5759                                  LANESTER\n",
      "7493                 LANEUVEVILLE DEVANT NANCY\n",
      "1276                                   LANGEAC\n",
      "2210                                  LANGEAIS\n",
      "2744                                  LANGLADE\n",
      "1522                                  LANGOGNE\n",
      "1677                                 LANGOIRAN\n",
      "1741                                    LANGON\n",
      "481                                    LANGRES\n",
      "737                                  LANGUIDIC\n",
      "2572                                LANNEMEZAN\n",
      "505                                    LANNION\n",
      "6240                                LANOUAILLE\n",
      "7176                             LANSLEVILLARD\n",
      "1626                                    LANTON\n",
      "884                                  LANVALLAY\n",
      "179                                       LAON\n",
      "2951                               LAON CHRIST\n",
      "821                                  LAPALISSE\n",
      "7243                       LAPALISSE CHURCHILL\n",
      "6488                          LAPALUD PLATANES\n",
      "1173                                   LAPLUME\n",
      "1304                                   LARAGNE\n",
      "582                                      LARDY\n",
      "5760                            LARMOR LORIENT\n",
      "1462                                   LAROQUE\n",
      "1665                           LAROQUE D OLMES\n",
      "2389                       LAROQUE DES ALBERES\n",
      "1667                                    LARUNS\n",
      "247                        LASSAY LES CHATEAUX\n",
      "1763                           LATOUR BAS ELNE\n",
      "113                                     LATTES\n",
      "4782                                 LAUNAGUET\n",
      "5718                                    LAURIS\n",
      "1876                                  LAUZERTE\n",
      "7387                                    LAUZUN\n",
      "97                                       LAVAL\n",
      "977                                   LAVANCIA\n",
      "1751                                    LAVAUR\n",
      "2204                                 LAVELANET\n",
      "836                          LAVERNOSE LACASSE\n",
      "6573                                LAVONCOURT\n",
      "489                                      LAXOU\n",
      "4294                                   LE BARP\n",
      "2170                               LE BEAUSSET\n",
      "524                                   LE BLANC\n",
      "4071                           LE BLANC MESNIL\n",
      "5226                LE BOIS D OINGT LIBERATION\n",
      "2051                                   LE BOSC\n",
      "5099                  LE BOSC ROGER EN ROUMOIS\n",
      "1752                                 LE BOULOU\n",
      "896                                 LE BOUPERE\n",
      "3579                                LE BOURGET\n",
      "4285                                LE BOUSCAT\n",
      "1431                                  LE BUGUE\n",
      "6233                                LE BUISSON\n",
      "4368                                 LE CANNET\n",
      "5609                          LE CANNET CARNOT\n",
      "1815                      LE CANNET DES MAURES\n",
      "6108                     LE CANNET LES MIMOSAS\n",
      "6207                             LE CAP D AGDE\n",
      "369                                  LE CATEAU\n",
      "5001                    LE CATEAU EN CAMBRESIS\n",
      "6308                                 LE CAYLAR\n",
      "1235                                 LE CENDRE\n",
      "4277                                LE CHAMBON\n",
      "2776                    LE CHAMBON FEUGEROLLES\n",
      "6442           LE CHAMBON LIGNON CHAMP DE MARS\n",
      "4673                                LE CHESNAY\n",
      "5339                     LE CHESNAY VERSAILLES\n",
      "1480                               LE CHEYLARD\n",
      "2777                                 LE COTEAU\n",
      "7336                                LE COUDRAY\n",
      "142                                    LE CRES\n",
      "1293                                LE CREUSOT\n",
      "759                                 LE CROISIC\n",
      "6818                     LE CROTOY PO  DU PONT\n",
      "5216                                 LE DONJON\n",
      "971                                   LE DORAT\n",
      "2592                                 LE FAOUET\n",
      "6329                              LE FOUSSERET\n",
      "7321                  LE GRANOTRE DAME BORNAND\n",
      "7322  LE GRANOTRE DAME BORNANOTRE DAME BOUCHET\n",
      "252                      LE GRANOTRE DAME LUCE\n",
      "7535          LE GRANOTRE DAME QUEVILLY CORROY\n",
      "7400              LE GRAU DU ROI LES FLORALIES\n",
      "7395                        LE HAILLAN PASTEUR\n",
      "2105                                  LE HAVRE\n",
      "2229                        LE HAVRE BELLANGER\n",
      "2419                           LE HAVRE SANVIC\n",
      "3626                        LE KREMLIN BICETRE\n",
      "6248                       LE LARDIN ST LAZARE\n",
      "2230                               LE LAVANDOU\n",
      "3118                          LE LAVANDOU JUIN\n",
      "1198                       LE LOROUX BOTTEREAU\n",
      "1870                      LE LOUROUX BECONNAIS\n",
      "5567                                    LE LUC\n",
      "790                                    LE LUDE\n",
      "92                                     LE MANS\n",
      "2850                        LE MANS BONNETABLE\n",
      "6720                          LE MANS GRENOBLE\n",
      "6290                             LE MAS D AZIL\n",
      "1940                           LE MAY SUR EVRE\n",
      "1336                      LE MAYET DE MONTAGNE\n",
      "3850                            LE MEE S.SEINE\n",
      "3702                          LE MEE SUR SEINE\n",
      "2859                          LE MESNIL ESNARD\n",
      "8238                          LE MESNIL LE ROI\n",
      "1873                              LE MONASTIER\n",
      "1027                      LE MONESTIER DE CLER\n",
      "5246                              LE MONT DORE\n",
      "6519           LE MONT DORE CAPITAINE CHAZOTTE\n",
      "2685                                    LE MUY\n",
      "605                                LE NEUBOURG\n",
      "5541                LE NEUBOURG PONT DE L EURE\n",
      "2952                   LE NOUVION EN THIERACHE\n",
      "5880                                 LE PALAIS\n",
      "1439                      LE PALAIS SUR VIENNE\n",
      "1702                                LE PASSAGE\n",
      "5981                         LE PASSAGE D AGEN\n",
      "3734                                   LE PECQ\n",
      "672                                LE PELLERIN\n",
      "5549                     LE PERRAY EN YVELINES\n",
      "3214                          LE PERREUX SUR M\n",
      "1126                      LE PERREUX SUR MARNE\n",
      "1972                         LE PETIT QUEVILLY\n",
      "4353                         LE PLAN DE GRASSE\n",
      "2488                       LE PLESSIS ROBINSON\n",
      "1404                          LE POIRE SUR VIE\n",
      "4658                     LE PONT DE BEAUVOISIN\n",
      "2125                                 LE PONTET\n",
      "1093                                  LE PORGE\n",
      "6254                         LE PORGE LA JENNY\n",
      "271                                  LE PORTEL\n",
      "805                               LE POULIGUEN\n",
      "1526                                 LE POUZIN\n",
      "1803                                 LE PRADET\n",
      "2249                         LE PRE ST GERVAIS\n",
      "2853                            LE PT QUEVILLY\n",
      "5177                                    LE PUY\n",
      "6448                   LE PUY EN VELAY CLAUZEL\n",
      "5729                       LE PUY STE REPARADE\n",
      "309                                 LE QUESNOY\n",
      "3382                                 LE RAINCY\n",
      "7154                                   LE RHEU\n",
      "5862                                 LE ROURET\n",
      "5863                                   LE ROVE\n",
      "1747                              LE SEQUESTRE\n",
      "1629                                  LE SOLER\n",
      "2540                          LE TAILLAN MEDOC\n",
      "1499                                   LE TEIL\n",
      "546                                 LE THILLOT\n",
      "1590                                   LE THOR\n",
      "2504                                 LE TIGNET\n",
      "250                                 LE TOUQUET\n",
      "6537                           LE TOUQUET METZ\n",
      "323                                  LE TOUVET\n",
      "2606                                  LE TRAIT\n",
      "471                              LE VAL D AJOL\n",
      "5884                                LE VERSOUD\n",
      "3528                                LE VESINET\n",
      "6689                                LE VEURDRE\n",
      "4824                                  LE VIGEN\n",
      "6541                      LECROTOY PO  DU PONT\n",
      "1630                                  LECTOURE\n",
      "2136                                  LEFOREST\n",
      "6242                           LEGE CAP FERRET\n",
      "6913                  LEGE CAP FERRET JACQUETS\n",
      "6147                  LEGE CAP FERRET LE CANON\n",
      "6433                 LEGE CAP FERRET TRUC VERT\n",
      "6324                                  LEGUEVIN\n",
      "1976                                   LEMBERG\n",
      "6319                                   LEMBEYE\n",
      "6935                                   LEMPDES\n",
      "5188                             LEMPDES HALLE\n",
      "2462                                      LENS\n",
      "5204                               LENS LANNOY\n",
      "2477                                 LENS MAES\n",
      "949                                   LENTIGNY\n",
      "3087                                      LEON\n",
      "2231                                LES ABRETS\n",
      "5668                        LES ADRETS ESTEREL\n",
      "3071                        LES AIX D ANGILLON\n",
      "615                                LES ANDELYS\n",
      "2693                                LES ANGLES\n",
      "6484                           LES ARCS ARGENS\n",
      "958                               LES ATTAQUES\n",
      "5888                             LES AVENIERES\n",
      "5463                      LES CARROZ D ARACHES\n",
      "7335                      LES CLAYES SOUS BOIS\n",
      "5556              LES CLAYES SOUS BOIS MANDELA\n",
      "7291                   LES CONTAMINES MONTJOIE\n",
      "6969                    LES DEUX ALPES MUZELLE\n",
      "5421                     LES DEUX ALPES VENOSC\n",
      "1912                               LES EPESSES\n",
      "7320                                  LES GETS\n",
      "435                         LES HOPITAUX NEUFS\n",
      "5615                             LES ISSAMBRES\n",
      "3741                                 LES LILAS\n",
      "6256                     LES MATHES LA PALMYRE\n",
      "1780                                  LES MEES\n",
      "1013                               LES MESNEUX\n",
      "3627                               LES MUREAUX\n",
      "1289                       LES PENNES MIRABEAU\n",
      "5492          LES PENNES MIRABEAU JEANNE D ARC\n",
      "710                                  LES PIEUX\n",
      "850                            LES PONTS DE CE\n",
      "5198               LES PONTS DE CE LA CHESNAIE\n",
      "7285                    LES ROCHES DE CONDRIEU\n",
      "1852                               LES ROUSSES\n",
      "6598                      LES ROUSSES NOIRMONT\n",
      "2510                                LES SABLES\n",
      "5774                       LES SABLES D OLONNE\n",
      "6285                      LES SABLES D OLONNES\n",
      "6789                LES SABLES D OLONNES NICOT\n",
      "4365                      LES SALLES DU GARDON\n",
      "53                                    LES ULIS\n",
      "2057                                  LES VANS\n",
      "101                                     LESCAR\n",
      "5381                              LESCHERAINES\n",
      "2201                                   LESIGNY\n",
      "5882                                  LESNEVEN\n",
      "123                             LESPARRE MEDOC\n",
      "713                                     LESSAY\n",
      "4140                                 LEVALLOIS\n",
      "3176                          LEVALLOIS PERRET\n",
      "5277                  LEVALLOIS PERRET LECLERC\n",
      "7063                                     LEZAT\n",
      "6335                          LEZAT REPUBLIQUE\n",
      "2323                            LEZAT SUR LEZE\n",
      "1381                                     LEZAY\n",
      "4376                                  LEZENNES\n",
      "2379                        LEZIGNAN CORBIERES\n",
      "1738                      LEZIGNAN LES CORBIER\n",
      "3054                                    LEZOUX\n",
      "478                                   LHOPITAL\n",
      "2190                                LIBERCOURT\n",
      "156                                   LIBOURNE\n",
      "3631                                    LIEUST\n",
      "86                                      LIEVIN\n",
      "925                                     LIFFRE\n",
      "1503                            LIGNAN SUR ORB\n",
      "3066                                 LIGNIERES\n",
      "3005                          LIGNY EN BARROIS\n",
      "79                                       LILLE\n",
      "5425                           LILLE BAZINGHEM\n",
      "5207                          LILLE BETTIGNIES\n",
      "5284                         LILLE ESQUERMOISE\n",
      "1073                               LILLE PLAZA\n",
      "6562                        LILLE ST SEBASTIEN\n",
      "650                                 LILLEBONNE\n",
      "2385                                   LILLERS\n",
      "175                                      LIMAY\n",
      "3999                          LIMEIL BREVANNES\n",
      "1029                                   LIMOGES\n",
      "572                           LIMOGES LANDOUGE\n",
      "7393                            LIMOGES PERRIN\n",
      "7157                            LIMOGES WAGNER\n",
      "6179                                   LIMOGNE\n",
      "7093                          LIMONEST GRIFFON\n",
      "2438                                   LIMOURS\n",
      "4405                                    LIMOUX\n",
      "628                                     LINARS\n",
      "321                                    LISIEUX\n",
      "2953                                    LISLET\n",
      "1079                                    LISSES\n",
      "740                                    LIVAROT\n",
      "787                                   LIVERDUN\n",
      "2433                              LIVRY GARGAN\n",
      "7106                    LIVRY GARGAN FAIDHERBE\n",
      "1130                            LIZY SUR OURCQ\n",
      "1142                                    LLUPIA\n",
      "2925                                   LOCMINE\n",
      "2383                                   LOCTUDY\n",
      "1306                                    LOGNES\n",
      "4594                          LOISON SOUS LENS\n",
      "1766                                    LOMBEZ\n",
      "25                                       LOMME\n",
      "804                             LONGEAU PERCEY\n",
      "5932                        LONGEVILLE SUR MER\n",
      "3207                                LONGJUMEAU\n",
      "608                           LONGNY AU PERCHE\n",
      "6552                LONGNY AU PERCHE DE GAULLE\n",
      "2986                               LONGPERRIER\n",
      "999                          LONGPONT SUR ORGE\n",
      "531                       LONGPRE LES CORPS ST\n",
      "324                                   LONGUEAU\n",
      "2439                            LONGUEIL ANNEL\n",
      "374                                LONGUEVILLE\n",
      "1819                      LONGUEVILLE SOUS CIE\n",
      "542                                   LONGUYON\n",
      "1204                                   LONGVIC\n",
      "573                                     LONGWY\n",
      "1200                           LONS LE SAUNIER\n",
      "282                            LOOS EN GOHELLE\n",
      "2827                                   LORETTE\n",
      "2030                                   LORGUES\n",
      "6485                        LORGUES CLEMENCEAU\n",
      "178                                    LORIENT\n",
      "808                            LORIENT KARYADO\n",
      "1537                                    LORIOL\n",
      "6645                                    LORMES\n",
      "104                                    LORMONT\n",
      "935                                    LORQUIN\n",
      "307                           LORREZ LE BOCAGE\n",
      "981                                     LORRIS\n",
      "1036                                  LOUARGAT\n",
      "1970                                   LOUDEAC\n",
      "4917                                    LOUDUN\n",
      "2780                                   LOUHANS\n",
      "814                                   LOURCHES\n",
      "2171                                   LOURDES\n",
      "888                               LOUVIE JUZON\n",
      "1193                                  LOUVIERS\n",
      "820                                   LOUVIGNY\n",
      "2667                           LUC LA PRIMAUBE\n",
      "723                                     LUCEAU\n",
      "6654                           LUCENAY LES AIX\n",
      "6372                     LUCHON ALLEE D ETIGNY\n",
      "1411                                     LUCON\n",
      "7392                      LUCON EDOUARD HERIOT\n",
      "4828                               LUDON MEDOC\n",
      "312                                     LUDRES\n",
      "6596                                     LUGNY\n",
      "1502                                    LUGRIN\n",
      "1453                                     LUNEL\n",
      "6299                   LUNEL LIBERATION CARNOT\n",
      "4558                                 LUNEVILLE\n",
      "947                                       LURE\n",
      "1415                                  LUSIGNAN\n",
      "415                        LUSSAC LES CHATEAUX\n",
      "6011                         LUXEUIL LES BAINS\n",
      "7018                                    LUYNES\n",
      "5504                                 LUYNES RN\n",
      "2172                            LUZ ST SAUVEUR\n",
      "3000                                 LUZARCHES\n",
      "6188                        LUZE  BERGERIE SUD\n",
      "7377                                    LUZECH\n",
      "6652                                      LUZY\n",
      "2098                                      LYON\n",
      "6508                  LYON ANCIENNE PREFECTURE\n",
      "5369                             LYON AQUEDUCS\n",
      "6027                            LYON BACHUT II\n",
      "5973                              LYON BARABAN\n",
      "6509                               LYON BAYARD\n",
      "2003                              LYON BERLIET\n",
      "6526                            LYON BERTHELOT\n",
      "7513                          LYON BON PASTEUR\n",
      "6506                           LYON CARQUILLAT\n",
      "135                            LYON CONFLUENCE\n",
      "7440                              LYON CONFORT\n",
      "6534                          LYON CONSTANTINE\n",
      "7149                             LYON COURMONT\n",
      "6816                  LYON COUTURIER ROCHEREAU\n",
      "1186                               LYON CREQUI\n",
      "5326                         LYON CROIX PAQUET\n",
      "1096                         LYON CROIX ROUSSE\n",
      "7442                             LYON DAUPHINE\n",
      "6706                       LYON DEBOURG GERLAN\n",
      "6532                    LYON FEUILLAT LUMIERES\n",
      "6529                              LYON FLORENT\n",
      "5851                         LYON GABRIEL PERI\n",
      "5853                             LYON GAMBETTA\n",
      "2038                            LYON GARIBALDI\n",
      "5850                              LYON GERLAND\n",
      "6527                               LYON GRANGE\n",
      "5355                               LYON GRYPHE\n",
      "7097                               LYON GUESDE\n",
      "5319                                LYON HENON\n",
      "5373                            LYON LAFAYETTE\n",
      "6707                            LYON MADELEINE\n",
      "5885                           LYON MARC BLOCH\n",
      "6141                               LYON MERMOZ\n",
      "7441                            LYON PART DIEU\n",
      "1128                            LYON PAUL BERT\n",
      "6806                             LYON POMPIDOU\n",
      "6708                             LYON ROUSSEAU\n",
      "6125                       LYON ROUTE DE GENAS\n",
      "5372                      LYON ROUTE DE VIENNE\n",
      "5374                             LYON SALENGRO\n",
      "6505                             LYON SATHONAY\n",
      "6099                           LYON ST RAMBERT\n",
      "5371                             LYON TERREAUX\n",
      "6516                               LYON THIERS\n",
      "1274                                LYON VAISE\n",
      "6525                              LYON VENDOME\n",
      "2025                              LYON VERGOIN\n",
      "6865              LYONS LA FORET PL, BENSERADE\n",
      "6551              LYONS LA FORET PL. BENSERADE\n",
      "193                                      MABLY\n",
      "2004                                     MACAU\n",
      "7046                               MACAU MEDOC\n",
      "5148                                    MACLAS\n",
      "6876                       MACLAS GRANDE PLACE\n",
      "1194                                     MACON\n",
      "6978                              MACON MOZART\n",
      "5030                                 MAFFLIERS\n",
      "1492                                   MAGALAS\n",
      "4988                                   MAGENTA\n",
      "5458                                   MAGLAND\n",
      "1911                              MAGNAC BOURG\n",
      "1844                              MAGNAC LAVAL\n",
      "1189                               MAGNY COURS\n",
      "3010                            MAGNY EN VEXIN\n",
      "1192                         MAGNY LES HAMEAUX\n",
      "1203                                    MAICHE\n",
      "2550                        MAIGNELAY MONTIGNY\n",
      "923                                  MAINTENON\n",
      "602                               MAINVILLIERS\n",
      "7185          MAISON ET LOISIRS ST CYR SUR MER\n",
      "514                             MAISONS ALFORT\n",
      "1083                         MAISONS ALFORT EX\n",
      "3538                          MAISONS LAFFITTE\n",
      "570                                     MAISSE\n",
      "920                                   MALAKOFF\n",
      "3889                                  MALAUNAY\n",
      "4469                                  MALEMORT\n",
      "942                                MALESHERBES\n",
      "7029                                MALESTROIT\n",
      "1355                                 MALICORNE\n",
      "1784                                 MALLEMORT\n",
      "5763                                 MANDELIEU\n",
      "2721                      MANDELIEU LA NAPOULE\n",
      "6769                MANDELIEU LA NAPOULE JOINT\n",
      "1836                                   MANDUEL\n",
      "1730                                      MANE\n",
      "2396                                     MANOM\n",
      "1808                                  MANOSQUE\n",
      "690                            MANTES LA JOLIE\n",
      "4217                           MANTES LA VILLE\n",
      "6668                    MANTES LA VILLE MARCHE\n",
      "3726                            MANTESUR JOLIE\n",
      "3409                            MANTESUR VILLE\n",
      "7142                                    MANZAT\n",
      "7182                             MANZAT EGLISE\n",
      "1376                                    MARANS\n",
      "7432                          MARAUSSAN EGLISE\n",
      "1258                                  MARCHAUX\n",
      "1675                               MARCHEPRIME\n",
      "6684                       MARCIGNY CHEVALIERE\n",
      "1894                          MARCILLAC VALLON\n",
      "5209                                 MARCILLAT\n",
      "6639                         MARCILLY LE HAYER\n",
      "2089                                     MARCK\n",
      "4892                                  MARCONNE\n",
      "304                                MARCONNELLE\n",
      "5542                        MARCOUSSIS NELATON\n",
      "6510                    MARCY L ETOILE COLLOMB\n",
      "585                         MAREIL SUR MAULDRE\n",
      "1430                                  MARENNES\n",
      "6623                            MAREUIL SUR AY\n",
      "1397                           MAREUIL SUR LAY\n",
      "189                                  MARGENCEL\n",
      "3604                                  MARGENCY\n",
      "279                       MARGNY LES COMPIEGNE\n",
      "1504                              MARGUERITTES\n",
      "1790                                 MARIGNANE\n",
      "2590                                   MARIGNY\n",
      "579                          MARIGNY LE CHATEL\n",
      "2559                                   MARINES\n",
      "4596                                     MARLE\n",
      "2954                           MARLE SUR SERRE\n",
      "365                           MARLES LES MINES\n",
      "5182                                   MARLHES\n",
      "2946                              MARLY LE ROI\n",
      "2431                    MARLY LES VALENCIENNES\n",
      "5214                                  MARMAGNE\n",
      "1311                                  MARMANDE\n",
      "6202                       MARMANDE CLEMENCEAU\n",
      "1215                                    MARNAY\n",
      "5467                                    MARNAZ\n",
      "2994                      MAROLLES EN HUREPOIX\n",
      "293                        MARQUETTE LEZ LILLE\n",
      "422                                   MARQUISE\n",
      "5185                       MARSAC EN LIVRADOIS\n",
      "7390                           MARSAC LIMOUSIN\n",
      "4953                         MARSAC SUR L ISLE\n",
      "2639                                MARSEILLAN\n",
      "6496                    MARSEILLAN CHARLEMAGNE\n",
      "7511                        MARSEILLAN FLORIDE\n",
      "1114                                 MARSEILLE\n",
      "2011                         MARSEILLE ALLAUCH\n",
      "2233                       MARSEILLE AMARYLLIS\n",
      "5506                          MARSEILLE BAILLE\n",
      "30                        MARSEILLE BONNEVEINE\n",
      "5517                   MARSEILLE CARRE DE LODI\n",
      "5992                      MARSEILLE CASTELLANE\n",
      "5998                        MARSEILLE CATALANS\n",
      "5502                           MARSEILLE CHAVE\n",
      "5513               MARSEILLE CHEMIN DU SABLIER\n",
      "5510                        MARSEILLE CORNICHE\n",
      "6051                     MARSEILLE CROIX ROUGE\n",
      "3113                     MARSEILLE CTRE BOURSE\n",
      "5505                          MARSEILLE DAUDET\n",
      "5501                         MARSEILLE DELPHES\n",
      "1296                      MARSEILLE EN BEAUVAI\n",
      "5989                      MARSEILLE FLAMMARION\n",
      "6006                            MARSEILLE FOCH\n",
      "214                       MARSEILLE GD LITTORA\n",
      "5797                    MARSEILLE LA VALENTINE\n",
      "58                         MARSEILLE LE MERLAN\n",
      "6117                        MARSEILLE LE REDON\n",
      "6071                    MARSEILLE LES CAILLOLS\n",
      "4331                      MARSEILLE LES OLIVES\n",
      "6072                        MARSEILLE MICHELET\n",
      "5524                 MARSEILLE MONTEE D EOURES\n",
      "6143                    MARSEILLE PARC SEVIGNE\n",
      "5826                MARSEILLE PLAN DE CAMPAGNE\n",
      "6128                       MARSEILLE PO  D AIX\n",
      "6134                           MARSEILLE PRADO\n",
      "2453                      MARSEILLE ST BARNABE\n",
      "6069                      MARSEILLE ST GABRIEL\n",
      "6008                       MARSEILLE ST GINIEZ\n",
      "6096                       MARSEILLE ST JEROME\n",
      "6005                       MARSEILLE ST JOSEPH\n",
      "5500                        MARSEILLE ST LOUIS\n",
      "2044                         MARSEILLE ST LOUP\n",
      "6009                     MARSEILLE ST VICTORET\n",
      "5481                          MARSEILLE TIMONE\n",
      "5739                     MARSEILLE TURCAT MERY\n",
      "6042                        MARSEILLE VALDONNE\n",
      "5509                    MARSEILLE VALLON ORIOL\n",
      "6070                        MARSEILLE VALMANTE\n",
      "1996                          MARSEILLE VERDUN\n",
      "7033                          MARSSAC SUR TARN\n",
      "4553                              MARTAINVILLE\n",
      "1921                                    MARTEL\n",
      "6779                             MARTEL FOSSES\n",
      "1612                       MARTIGNAS EN JALLES\n",
      "1924                         MARTIGNE FERCHAUD\n",
      "1783                                 MARTIGUES\n",
      "6331                  MARTRES TOLOSANE CAZERES\n",
      "2234                                 MARVEJOLS\n",
      "430                                      MASNY\n",
      "6286                                    MASSAT\n",
      "5776                                   MASSENA\n",
      "1959                                   MASSIAC\n",
      "2110                                     MASSY\n",
      "6669                    MASSY UNION EUROPEENNE\n",
      "1422                                     MATHA\n",
      "632                           MAUBERT FONTAINE\n",
      "153                                   MAUBEUGE\n",
      "6366                               MAUBOURGUET\n",
      "1570                                   MAUGUIO\n",
      "3358                                     MAULE\n",
      "1668                                   MAULEON\n",
      "2173                          MAULEON LICHARRE\n",
      "6805                 MAULEON LICHARRE GAMBETTA\n",
      "614                                   MAULETTE\n",
      "1725                                   MAURIAC\n",
      "6267                        MAURIAC REPUBLIQUE\n",
      "6322                                  MAUVEZIN\n",
      "1444                       MAUZE SUR LE MIGNON\n",
      "2861                                   MAYENNE\n",
      "5306                        MAYET CROIX BEUDET\n",
      "4681                                   MAZAMET\n",
      "5257                            MEAUDRE EGLISE\n",
      "6686                                   MEAULNE\n",
      "3618                                     MEAUX\n",
      "3393                             MEAUX BEAUVAL\n",
      "5878                                    MEGEVE\n",
      "5391                              MEGEVE POSTE\n",
      "5393                    MEGEVE ROUTE NATIONALE\n",
      "823                            MEHUN SUR YEVRE\n",
      "736                                     MELLAC\n",
      "5067                                     MELLE\n",
      "1307                                     MELUN\n",
      "1556                                     MENDE\n",
      "5189                             MENDE ANGIRAN\n",
      "1086                                   MENNECY\n",
      "5412                                      MENS\n",
      "330                                     MENTON\n",
      "5642                            MENTON FORNARI\n",
      "5608                    MENTON ROUTE DE SOSPEL\n",
      "6908                             MENTON SOSPEL\n",
      "5636                          MENTON ST MICHEL\n",
      "5606                             MENTON THIERS\n",
      "2977                                 MENUCOURT\n",
      "2588                            MERCIN ET VAUX\n",
      "7359                                      MERE\n",
      "1110                                 MEREVILLE\n",
      "6850                        MERIBEL LES ALLUES\n",
      "433                                  MERICOURT\n",
      "99                                    MERIGNAC\n",
      "6043                            MERIGNAC ARLAC\n",
      "6050                             MERIGNAC YSER\n",
      "1905                                MERLEVENEZ\n",
      "5548                           MERLIMONT PLAGE\n",
      "6454             MERLINES AVENUE PIERRE SEMARD\n",
      "1838                                    MERNEL\n",
      "2041                            MERS LES BAINS\n",
      "1283                                      MERU\n",
      "1162                                  MERVILLE\n",
      "7378                         MERVILLE LES BUIS\n",
      "588                              MERY SUR OISE\n",
      "629                             MERY SUR SEINE\n",
      "6458                                   MESSEIX\n",
      "5471                             MESSERY VERET\n",
      "5331                                   MESSIMY\n",
      "3151                                      METZ\n",
      "6565                   METZ GRANOTRE DAME CERF\n",
      "521                                 METZ MAGNY\n",
      "6589                              METZ PASTEUR\n",
      "6566                            METZ ST LIVIER\n",
      "5924                            METZ ST PIERRE\n",
      "539                             METZ VALLIERES\n",
      "3400                                    MEUDON\n",
      "2410                           MEUDON LA FORET\n",
      "5287                           MEULAN GAMBETTA\n",
      "6586                                 MEURSAULT\n",
      "1505                                 MEXIMIEUX\n",
      "7118                        MEXIMIEUX VAUGELAS\n",
      "5418                                    MEYLAN\n",
      "5387                         MEYLAN LES BUCLOS\n",
      "1919                                    MEYMAC\n",
      "7357                                MEYRARGUES\n",
      "6056                                  MEYREUIL\n",
      "1560                                   MEYZIEU\n",
      "5350                        MEYZIEU  DU CENTRE\n",
      "1465                                      MEZE\n",
      "7040                               MEZE CARNOT\n",
      "2871                             MEZIDON CANON\n",
      "2534                        MEZIERES SUR SEINE\n",
      "7412                                     MEZIN\n",
      "2235                                  MEZZAVIA\n",
      "6374                                    MIELAN\n",
      "4441                                  MIGENNES\n",
      "5887                            MIGNE AUXANCES\n",
      "1594                                   MILHAUD\n",
      "1753                                    MILLAS\n",
      "2668                                    MILLAU\n",
      "7027                            MILLAU CAPELLE\n",
      "7049                        MILLAU JEAN JAURES\n",
      "6513                           MILLERY SENTIER\n",
      "1115                            MILLY LA FORET\n",
      "1789                                     MIMET\n",
      "2560                                   MIMIZAN\n",
      "830                            MINIHY TREGUIER\n",
      "4885                                     MIONS\n",
      "870                                    MIRAMAS\n",
      "5033                                 MIRAMBEAU\n",
      "4923                       MIRAMONT DE GUYENNE\n",
      "1646                                   MIRANDE\n",
      "4655                                  MIREBEAU\n",
      "1297                         MIREBEAU SUR BEZE\n",
      "2000                                 MIRECOURT\n",
      "7438                       MIREPOIX DR CHABAUD\n",
      "2769                                   MIRIBEL\n",
      "4868                           MISEREY SALINES\n",
      "1119                                MITRY MORY\n",
      "5856                                    MODANE\n",
      "789                             MOELAN SUR MER\n",
      "2783                                   MOIRANS\n",
      "455                                    MOISSAC\n",
      "3260                           MOISSY CRAMAYEL\n",
      "5687                        MOLLANS SUR OUVEZE\n",
      "78                                      MONACO\n",
      "5594                MONACO MONTE CARLO ST LEON\n",
      "144                                 MONDEVILLE\n",
      "2645                               MONDONVILLE\n",
      "1653                                    MONEIN\n",
      "6024                               MONFLANQUIN\n",
      "1554                       MONISTROL SUR LOIRE\n",
      "5479                          MONNETIER MORNEX\n",
      "6232                                 MONPAZIER\n",
      "308                           MONS EN BAROEUIL\n",
      "3744                                  MONSOULT\n",
      "224                             MONT DE MARSAN\n",
      "4528                                 MONT DORE\n",
      "1346                        MONT PRES CHAMBORD\n",
      "169                             MONT ST AIGNAN\n",
      "6309                MONTAGNAC VERDUN ESPLANADE\n",
      "1400                                  MONTAIGU\n",
      "6260                           MONTAIGU BRECHE\n",
      "648                         MONTAIGU DE QUERCY\n",
      "2770                         MONTALIEU VERCIEU\n",
      "1472                                  MONTAREN\n",
      "3903                                 MONTARGIS\n",
      "5742                          MONTARGIS AMILLY\n",
      "6166                 MONTASTRUC LA CONSEILLERE\n",
      "1727                                 MONTAUBAN\n",
      "5838                         MONTAUBAN ALBASUD\n",
      "6148                 MONTAUBAN ALSACE LORRAINE\n",
      "752                       MONTAUBAN DE BRETAGN\n",
      "4402                            MONTAUBAN NORD\n",
      "5662                                MONTAUROUX\n",
      "4996                                 MONTAYRAL\n",
      "1268                                  MONTBARD\n",
      "1210                               MONTBELIARD\n",
      "7468                          MONTBELIARD HUGO\n",
      "5050                                 MONTBIZOT\n",
      "1460                                MONTBRISON\n",
      "1367                                  MONTBRON\n",
      "908                                  MONTBRONN\n",
      "255                         MONTCEAU LES MINES\n",
      "5215                 MONTCEAU LES MINES CARNOT\n",
      "847                                 MONTCHANIN\n",
      "6195                                   MONTCUQ\n",
      "1219                                MONTEBOURG\n",
      "1654                                   MONTECH\n",
      "1731                                  MONTEILS\n",
      "1539                                 MONTELIER\n",
      "120                                 MONTELIMAR\n",
      "2821                      MONTELIMAR DIEULEFIT\n",
      "1360                                 MONTENDRE\n",
      "6705                           MONTEREAU DAMES\n",
      "210                       MONTEREAU FAULT YONN\n",
      "4239                     MONTEREAU FAULT YONNE\n",
      "1666                                 MONTESCOT\n",
      "7402                     MONTESQUIEU VOLVESTRE\n",
      "44                                   MONTESSON\n",
      "3098                                   MONTEUX\n",
      "1019                                MONTEVRAIN\n",
      "5171                                MONTFAUCON\n",
      "4346                                 MONTFAVET\n",
      "6945                               MONTFERRAND\n",
      "5251              MONTFERRANOTRE DAME FONTAINE\n",
      "1300                       MONTFORT SUR ARGENS\n",
      "1881                                  MONTFRIN\n",
      "3353                                 MONTGERON\n",
      "1663                               MONTGISCARD\n",
      "1364                                 MONTGUYON\n",
      "1915                            MONTIER EN DER\n",
      "1435                                 MONTIGNAC\n",
      "289                        MONTIGNY EN GOHELLE\n",
      "403                       MONTIGNY EN OSTREVEN\n",
      "2764                    MONTIGNY LE BRETONNEUX\n",
      "5547          MONTIGNY LE BRETONNEUX SOURDERIE\n",
      "464                            MONTIGNY LE ROI\n",
      "150                       MONTIGNY LES CORMEIL\n",
      "4061                   MONTIGNY LES CORMEILLES\n",
      "7139                         MONTIGNY LES METZ\n",
      "633                              MONTIVILLIERS\n",
      "6549                MONTIVILLIERS BELLE ETOILE\n",
      "4649                            MONTIVILLLIERS\n",
      "198                                  MONTLUCON\n",
      "6692                      MONTLUCON GUINEBERTS\n",
      "7248                      MONTLUCON REPUBLIQUE\n",
      "686                                  MONTMAGNY\n",
      "2566                               MONTMARAULT\n",
      "5237                     MONTMARAULT FERRANDON\n",
      "1588                                MONTMELIAN\n",
      "5437                                 MONTMERLE\n",
      "6900                          MONTMERLE MARCHE\n",
      "2965                                MONTMIRAIL\n",
      "607                                MONTMORENCY\n",
      "5074                              MONTMORILLON\n",
      "4184                                 MONTMOROT\n",
      "1326                      MONTOIRE SUR LE LOIR\n",
      "609                                MONTPELLIER\n",
      "7042                 MONTPELLIER AUGUSTE COMTE\n",
      "7433                     MONTPELLIER BOUTONNET\n",
      "5748                    MONTPELLIER CELLENEUVE\n",
      "2834                       MONTPELLIER JUSTICE\n",
      "6223                       MONTPELLIER LECLERC\n",
      "7058                     MONTPELLIER LEON BLUM\n",
      "6307             MONTPELLIER MARCHE AUX FLEURS\n",
      "6310                        MONTPELLIER MERMOZ\n",
      "6066                          MONTPELLIER NORD\n",
      "5796                      MONTPELLIER ODYSSEUM\n",
      "7041                       MONTPELLIER PARGUEL\n",
      "6306                       MONTPELLIER PASTEUR\n",
      "6470                 MONTPELLIER PONT TRINQUAT\n",
      "6018                                   MONTPON\n",
      "454                         MONTPON MENESTEROL\n",
      "526                                   MONTREAL\n",
      "2794                         MONTREAL LA CLUSE\n",
      "3082                                MONTREJEAU\n",
      "76                                   MONTREUIL\n",
      "7104                       MONTREUIL COUTURIER\n",
      "1464                       MONTREVEL EN BRESSE\n",
      "2792                MONTRONOTRE DAME LES BAINS\n",
      "666                                  MONTROUGE\n",
      "6229                                 MONTSEGUR\n",
      "1872                                  MONTSURS\n",
      "7158                                 MONTUSSAN\n",
      "693                                  MONTVILLE\n",
      "7486                                   MORANCE\n",
      "1869                                  MORANCEY\n",
      "2403                                  MORANGIS\n",
      "621                                    MORCENX\n",
      "848                                     MOREAC\n",
      "1583                                  MORESTEL\n",
      "1984                       MORET LOING ORVANNE\n",
      "2527                                   MOREUIL\n",
      "682                                      MOREZ\n",
      "473                                   MORHANGE\n",
      "6312               MORIERES LES AVIGNON MONNET\n",
      "1637                                   MORLAAS\n",
      "856                                    MORLAIX\n",
      "5761                         MORLAIX BRETAGNIA\n",
      "1089                                   MORMANT\n",
      "5333                                   MORNANT\n",
      "6039                       MORNANT GUILLAUMOND\n",
      "2126                                    MORNAS\n",
      "1167                          MORSANG SUR ORGE\n",
      "4524                        MORTAGNE AU PERCHE\n",
      "791                       MORTAGNE AUX PERCHES\n",
      "2922                                   MORTAIN\n",
      "1318                                   MORTEAU\n",
      "2101                                   MORZINE\n",
      "6068                            MOUANS SARTOUX\n",
      "5593                     MOUANS SARTOUX CANNES\n",
      "2492                            MOUGINS REFUGE\n",
      "2176                          MOUGINS TOURNAMY\n",
      "84                                     MOULINS\n",
      "7247                      MOULINS ILOT THONIER\n",
      "7173                  MOULINS LA MARCHE EGLISE\n",
      "4774                                   MOURENX\n",
      "483                         MOURMELON LE GRAND\n",
      "2633                                   MOUROUX\n",
      "994                             MOUSSY LE NEUF\n",
      "2185                                  MOUTIERS\n",
      "660                       MOUTIERS LES MAUXFAI\n",
      "414                                       MOUY\n",
      "4474                                    MOUZON\n",
      "5293                            MOY DE L AISNE\n",
      "957                               MOYENMOUTIER\n",
      "270                                 MOYVILLERS\n",
      "6567                                  MULHOUSE\n",
      "15                            MULHOUSE ILLZACH\n",
      "2847                                  MULSANNE\n",
      "405                            MUR DE BRETAGNE\n",
      "1703                                     MURAT\n",
      "6452                         MURAT BON SECOURS\n",
      "1157                           MURAT LE QUAIRE\n",
      "4541                                     MURET\n",
      "7423                             MURET DOUZANS\n",
      "1742                                MURET NORD\n",
      "1724                                 MURET SUD\n",
      "5253                                     MUROL\n",
      "1412                                   NAINTRE\n",
      "6574                                     NANCY\n",
      "6617                            NANCY POINCARE\n",
      "1109                                     NANDY\n",
      "792                                     NANGIS\n",
      "506                                   NANTERRE\n",
      "5539                           NANTERRE MARCHE\n",
      "6673                           NANTERRE THOREZ\n",
      "727                                     NANTES\n",
      "94                            NANTES BEAUJOIRE\n",
      "98                             NANTES BEAULIEU\n",
      "6063                               NANTES BUAT\n",
      "6718                          NANTES GARIBALDI\n",
      "5197                            NANTES LAURIOL\n",
      "5205                    NANTES MARTYRS NANTAIS\n",
      "7218                           NANTES MERCOEUR\n",
      "2626                                  NANTEUIL\n",
      "674                       NANTEUIL LE HAUDOUIN\n",
      "5015                        NANTEUIL LES MEAUX\n",
      "5447                           NANTUA PAINLEVE\n",
      "206                                   NARBONNE\n",
      "7092                       NARBONNE MAL JOFFRE\n",
      "1884                                  NAUCELLE\n",
      "1232                                   NAVENNE\n",
      "6357                                       NAY\n",
      "6350                             NAY MARCADIEU\n",
      "7187                            NAY REPUBLIQUE\n",
      "1040                              NEGREPELISSE\n",
      "1020                                   NEMOURS\n",
      "1689                                     NERAC\n",
      "6381                               NERAC ROMAS\n",
      "1918                           NERIS LES BAINS\n",
      "1818                                  NERONDES\n",
      "2092                                    NESLES\n",
      "3836                          NESLES LA VALLEE\n",
      "909                                NEUFCHATEAU\n",
      "3015                         NEUILLY EN THELLE\n",
      "4840                         NEUILLY LES DIJON\n",
      "1011                         NEUILLY PLAISANCE\n",
      "8698                              NEUILLY SOUS\n",
      "3766                         NEUILLY SUR MARNE\n",
      "3238                         NEUILLY SUR SEINE\n",
      "6961               NEUILLY SUR SEINE LONGCHAMP\n",
      "5400                                NEUVECELLE\n",
      "580                             NEUVES MAISONS\n",
      "649                                     NEUVIC\n",
      "1361                         NEUVIC SUR L ISLE\n",
      "2874                                  NEUVILLE\n",
      "1046                         NEUVILLE AUX BOIS\n",
      "410                        NEUVILLE LES DIEPPE\n",
      "1932                          NEUVILLE SUR AIN\n",
      "5945                        NEUVILLE SUR SAONE\n",
      "5310             NEUVILLE SUR SAONE REPUBLIQUE\n",
      "620                                     NEVERS\n",
      "43                                NEVERS MARZY\n",
      "1895                                     NEVEZ\n",
      "610                                       NICE\n",
      "6478                               NICE ARENES\n",
      "5611                              NICE ASSALIT\n",
      "2838                           NICE CALIFORNIE\n",
      "5614                              NICE CESSOLE\n",
      "7009                        NICE CORNICHE JOLY\n",
      "6140                               NICE ETOILE\n",
      "6116                              NICE FALICON\n",
      "6144                               NICE FERBER\n",
      "5613                               NICE FONCET\n",
      "5595                             NICE GAMBETTA\n",
      "2399                             NICE GORBELLA\n",
      "5596                                 NICE JOLY\n",
      "6101                           NICE LE PAILLON\n",
      "64                            NICE LINGOSTIERE\n",
      "6104                               NICE MAGNAN\n",
      "2539                           NICE MONT BORON\n",
      "6139                                 NICE NICA\n",
      "5612                            NICE RAIMBALDI\n",
      "6762                              NICE RAYNAUD\n",
      "7000                                NICE RISSO\n",
      "6880                             NICE SCALIERO\n",
      "6759                          NICE SIMONE VEIL\n",
      "5610                           NICE ST LAMBERT\n",
      "23                                    NICE TNL\n",
      "5635                              NICE VERNIER\n",
      "1395                             NIEUL SUR MER\n",
      "1527                                     NIMES\n",
      "6464                            NIMES CASTANET\n",
      "5749                           NIMES COSTIERES\n",
      "6304                         NIMES JEAN JAURES\n",
      "6465                       NIMES LOUIS PASTEUR\n",
      "6225                           NIMES NATIONALE\n",
      "10                                 NIMES OUEST\n",
      "2837                            NIMES PAINLEVE\n",
      "5674                          NIMES REPUBLIQUE\n",
      "114                                  NIMES SUD\n",
      "5677                         NIMES VICTOR HUGO\n",
      "5                                        NIORT\n",
      "2894                       NIORT ST J.D ANGELY\n",
      "3485                       NISSAN LEZ ENSURINE\n",
      "2603                                  NIVILLAC\n",
      "2457                                    NOGARO\n",
      "4379                                    NOGENT\n",
      "924                              NOGENT LE ROI\n",
      "1146                          NOGENT LE ROTROU\n",
      "3505                            NOGENT S:MARNE\n",
      "3635                          NOGENT SUR MARNE\n",
      "5085                           NOGENT SUR OISE\n",
      "480                           NOGENT SUR SEINE\n",
      "1469                                NOIRETABLE\n",
      "1008                                   NOISEAU\n",
      "3868                                   NOISIEL\n",
      "91                              NOISY LE GRAND\n",
      "2177                              NOISY LE SEC\n",
      "6651                          NOLAY REPUBLIQUE\n",
      "2196                          NON DEFIN BELLEY\n",
      "2547                                NONANCOURT\n",
      "1440                                   NONTRON\n",
      "4547                               NORMANVILLE\n",
      "911                             NORT SUR ERDRE\n",
      "1366                           NOTRE DAME D OE\n",
      "4216                  NOTRE DAME DE BONDEVILLE\n",
      "2388                  NOTRE DAME DE GRAVENCHON\n",
      "2958                               NOUZONVILLE\n",
      "1855                             NOYAL PONTIVY\n",
      "5298                         NOYAL SUR VILAINE\n",
      "754                                     NOYANT\n",
      "290                         NOYELLES SOUS LENS\n",
      "1356                           NOYERS SUR CHER\n",
      "357                                      NOYON\n",
      "5536                  NOZAY LA FUTAIE ST CLAIR\n",
      "1446                         NUEIL LES AUBIERS\n",
      "1260                          NUITS ST GEORGES\n",
      "1488                                     NYONS\n",
      "794                             OBERHAUSBERGEN\n",
      "1392                                     OBJAT\n",
      "394                                  OCTEVILLE\n",
      "4237                                      ODOS\n",
      "2881                               OFFRANVILLE\n",
      "408                                   OISEMONT\n",
      "5270                              OLIVET BELOT\n",
      "5184                                OLLIERGUES\n",
      "154                                  OLLIOULES\n",
      "1749                          OLORON STE MARIE\n",
      "4992                           ONET LE CHATEAU\n",
      "2153                                   ONNAING\n",
      "7025                                    ONZAIN\n",
      "2340                                      OPIO\n",
      "407                                    ORAISON\n",
      "182                                     ORANGE\n",
      "5676                          ORANGE ST MARTIN\n",
      "2059                                     ORBEC\n",
      "880                                      ORBEY\n",
      "6614                                  ORCHAMPS\n",
      "272                                    ORCHIES\n",
      "1158                                   ORGERES\n",
      "590                                    ORGEVAL\n",
      "1281                                     ORGON\n",
      "73                                     ORLEANS\n",
      "3841                                      ORLY\n",
      "4082                                ORLY VILLE\n",
      "147                         ORMESSON SUR MARNE\n",
      "305                              ORRY LA VILLE\n",
      "3301                                     ORSAY\n",
      "350                                     ORTHEZ\n",
      "7406                             ORTHEZ POMMES\n",
      "4417                                     ORVAL\n",
      "765                                    ORVAULT\n",
      "2380                              OS MARSILLON\n",
      "6316                                     OSSUN\n",
      "1254                                OSTRICOURT\n",
      "1012                                     OTHIS\n",
      "6695                      OTTMARSHEIM CHALAMPE\n",
      "2142                                OUISTREHAM\n",
      "1595                                   OULLINS\n",
      "5349                            OULLINS JOMARD\n",
      "1217                          OUROUX SUR SAONE\n",
      "4457                                     OUSSE\n",
      "2093                                   OUTREAU\n",
      "449                                    OUZOUER\n",
      "1829                         OUZOUER LE MARCHE\n",
      "1163                                   OYONNAX\n",
      "5790                            OYONNAX ARBENT\n",
      "3271                         OZOIR LA FERRIERE\n",
      "625                              PACY SUR EURE\n",
      "227                                    PAIMPOL\n",
      "3349                                 PALAISEAU\n",
      "2375                         PALAVAS LES FLOTS\n",
      "7434                 PALAVAS LES FLOTS ST ROCH\n",
      "1769                                   PAMIERS\n",
      "1134                             PAMIERS CEDEX\n",
      "1433                                   PANAZOL\n",
      "1257                                    PANTIN\n",
      "1160                           PARAY LE MONIAL\n",
      "1691                                PAREMPUYRE\n",
      "1656                          PARENTIS EN BORN\n",
      "2505                                   PARIGNY\n",
      "1288                                     PARIS\n",
      "1243                              PARIS ALBERT\n",
      "7456                           PARIS ALOUETTES\n",
      "16                               PARIS AUTEUIL\n",
      "5927                            PARIS BAGNOLET\n",
      "6667                             PARIS BASFROI\n",
      "1995                          PARIS BATIGNOLES\n",
      "2048                         PARIS BATIGNOLLES\n",
      "5338                           PARIS BESSIERES\n",
      "2001                               PARIS BLEUE\n",
      "2017                          PARIS BONSERGENT\n",
      "1190                            PARIS BRANCION\n",
      "2039                            PARIS CARDINET\n",
      "1025                           PARIS CHARENTON\n",
      "1270                          PARIS CHATEAUDUN\n",
      "2043                           PARIS DAMREMONT\n",
      "976                            PARIS DAUMESNIL\n",
      "1038                              PARIS DAVOUT\n",
      "2008                              PARIS DOUMER\n",
      "7481                            PARIS EXELMANS\n",
      "6666                               PARIS FETES\n",
      "2047                             PARIS FLANDRE\n",
      "7482                            PARIS GAMBETTA\n",
      "1267                        PARIS GRANDE ARMEE\n",
      "5933                PARIS GRANOTRE DAME PAVOIS\n",
      "7132                            PARIS GRENELLE\n",
      "3107                          PARIS GUY MOQUET\n",
      "2012                           PARIS INDOCHINE\n",
      "6665                              PARIS KELLER\n",
      "5914                            PARIS LA POMPE\n",
      "7135                           PARIS LAMARTINE\n",
      "1238                              PARIS LETORT\n",
      "1992                             PARIS LOURMEL\n",
      "5877                        PARIS MENILMONTANT\n",
      "6749                         PARIS MICHEL ANGE\n",
      "5930                        PARIS MONTPARNASSE\n",
      "6110                              PARIS NATION\n",
      "5427                           PARIS OBERKAMPF\n",
      "502                               PARIS ORNANO\n",
      "2018                               PARIS PAJOL\n",
      "6834                      PARIS PIC DE BARETTE\n",
      "1271                              PARIS RIVOLI\n",
      "5300                         PARIS ROMAINVILLE\n",
      "1244                                PARIS ROME\n",
      "2015                            PARIS SERURIER\n",
      "5913                           PARIS ST DIDIER\n",
      "5343                        PARIS ST DOMINIQUE\n",
      "1269                           PARIS ST MARTIN\n",
      "5278                             PARIS SUFFREN\n",
      "6878                             PARIS TOLBIAC\n",
      "1266                             PARIS TURBIGO\n",
      "5337                           PARIS VAUGIRARD\n",
      "576                              PARIS VITRUVE\n",
      "7272                            PARIS VOLTAIRE\n",
      "1014                                     PATAY\n",
      "1709                                       PAU\n",
      "6915                       PAU ALSACE LORRAINE\n",
      "6090                     PAU CHARLES DE GAULLE\n",
      "6342                                  PAU FOCH\n",
      "6423                               PAU FOIRAIL\n",
      "5837                                  PAU LONS\n",
      "6360                                  PAU PAIX\n",
      "6339                            PAU REPUBLIQUE\n",
      "7408                       PAU RESIDENCE AGORA\n",
      "1728                                  PAUILLAC\n",
      "892                                 PAULHAGUET\n",
      "4320                                     PAVIE\n",
      "3181                        PAVILLONS SUR BOIS\n",
      "2391                                   PAVILLY\n",
      "1561                       PEAGE DE ROUSSILLON\n",
      "2494                               PECHBONNIEU\n",
      "1816                                    PEIPIN\n",
      "1170                                PELISSANNE\n",
      "948                                  PELLEGRUE\n",
      "2601                                  PENESTIN\n",
      "750                                  PENMARC H\n",
      "2554                          PENVENAN LANNION\n",
      "5670                             PEONE VALBERG\n",
      "1947                                     PERCY\n",
      "2940                                   PERIERS\n",
      "1337                       PERIGNAT SUR ALLIER\n",
      "1436                                 PERIGUEUX\n",
      "7373                         PERIGUEUX MAUROIS\n",
      "1487                      PERNES LES FONTAINES\n",
      "907                                      PERON\n",
      "2818                                  PERONNAS\n",
      "334                                    PERONNE\n",
      "177                                  PERPIGNAN\n",
      "7153                        PERPIGNAN EOLIENNE\n",
      "6500                          PERPIGNAN FRANCE\n",
      "6224                       PERPIGNAN LAS COBAS\n",
      "6227                PERPIGNAN LAZARE ESCARGUEL\n",
      "904                       PERRIERS SUR ANDELLE\n",
      "2819                                  PERRIGNY\n",
      "6023                                PERS JUSSY\n",
      "2493                                   PERTUIS\n",
      "5736                       PERTUIS JEAN JAURES\n",
      "6503                 PESCHADOIRES PONT DE DORE\n",
      "2326                                    PESSAC\n",
      "6253                        PESSAC HAUT LIVRAC\n",
      "6146                             PESSAC MADRAN\n",
      "1782                                PEYMEINADE\n",
      "3079                               PEYREHORADE\n",
      "3073                       PEYREHORADE BAYONNE\n",
      "6264                               PEYRELEVADE\n",
      "2301                                   PEZENAS\n",
      "838                                   PFASTATT\n",
      "460                                 PHALSBOURG\n",
      "545                                        PIA\n",
      "2509                                    PIBRAC\n",
      "1827                           PIEGUT PLUVIERS\n",
      "4732                                   PIENNES\n",
      "1573                             PIERRE BENITE\n",
      "1952                          PIERRE DE BRESSE\n",
      "6318                      PIERREFITTE NESTALAS\n",
      "4035                         PIERREFITTE SUR S\n",
      "3411                     PIERREFITTE SUR SEINE\n",
      "2425                               PIERRELATTE\n",
      "3727                                PIERRELAYE\n",
      "2869                                   PIERRES\n",
      "2702                                   PIGNANS\n",
      "3013                                     PINON\n",
      "2382                             PINS JUSTARET\n",
      "1641                                 PINSAGUEL\n",
      "1059                                   PIONSAT\n",
      "1032                       PITHIVIERS LE VIEIL\n",
      "770                                  PLABENNEC\n",
      "846                                   PLAINTEL\n",
      "1652                         PLAISANCE DU GERS\n",
      "1673                        PLAISANCE DU TOUCH\n",
      "5532                                   PLAISIR\n",
      "5531                       PLAISIR LES GATINES\n",
      "5488                            PLAN DE CUQUES\n",
      "6570                        PLANCHER LES MINES\n",
      "2932                                   PLEDRAN\n",
      "802                            PLEINE FOUGERES\n",
      "1312                           PLELAN LE PETIT\n",
      "1908                               PLENE JUGON\n",
      "5018                                    PLERIN\n",
      "3319                          PLESSIS BOUCHARD\n",
      "3931                           PLESSIS TREVISE\n",
      "857                                  PLEURTUIT\n",
      "341                                    PLEYBEN\n",
      "2617                                  PLOEMEUR\n",
      "1891                          PLOEMEUR LOMENER\n",
      "1113                                   PLOEREN\n",
      "780                                   PLOERMEL\n",
      "2355                        PLOEUC L HERMITAGE\n",
      "718                                    PLOMEUR\n",
      "1845                                PLOMODIERN\n",
      "945                                    PLONEIS\n",
      "5886                          PLONEOUR LANVERN\n",
      "2555                                  PLOUAGAT\n",
      "5959                        PLOUARET DE GAULLE\n",
      "2332                                    PLOUAY\n",
      "2574                                 PLOUBALAY\n",
      "348                                  PLOUBEZRE\n",
      "715                                  PLOUESCAT\n",
      "704                                   PLOUEZEC\n",
      "772                               PLOUGONVELIN\n",
      "1929                               PLOUGUENAST\n",
      "729                               PLOUGUERNEAU\n",
      "2358                                    PLOUHA\n",
      "708                                  PLOUHINEC\n",
      "730                          PLOULEC H LANNION\n",
      "742                        PLOURIN LES MORLAIX\n",
      "139                                   PLOUZANE\n",
      "1883                                PLOUZEVEDE\n",
      "1863                                  PLOZEVET\n",
      "1902                                 PLUGUFFAN\n",
      "1843                                 PLUMELIAU\n",
      "2418                                  PLUNERET\n",
      "825                                      POGNY\n",
      "986                            POILLY LEZ GIEN\n",
      "2115                                    POISSY\n",
      "5397                POISY ROUTE DES CREUSETTES\n",
      "1370                                  POITIERS\n",
      "6176                    POITIERS CLOS GAULTIER\n",
      "2293                          POIX DE PICARDIE\n",
      "1230                                   POLIGNY\n",
      "6615                        POLIGNY GRANDE RUE\n",
      "898                                 POLLESTRES\n",
      "1275                                   POLLIAT\n",
      "3081                                   POMAREZ\n",
      "7021                                  POMPAIRE\n",
      "4598                                    POMPEY\n",
      "5440                                    PONCIN\n",
      "1424                                      PONS\n",
      "696                               PONT A MARCQ\n",
      "448                             PONT A MOUSSON\n",
      "695                               PONT AUDEMER\n",
      "336                                  PONT AVEN\n",
      "1604                        PONT DE BEAUVOISIN\n",
      "2546                            PONT DE CHERUY\n",
      "5921                            PONT DE CHOISY\n",
      "4267                           PONT DE L ARCHE\n",
      "1320                             PONT DE ROIDE\n",
      "1871                            PONT DE SALARS\n",
      "1954                             PONT DU CASSE\n",
      "1351                           PONT DU CHATEAU\n",
      "7289                            PONT EN ROYANS\n",
      "2768                               PONT EVEQUE\n",
      "1279                               PONT L ABBE\n",
      "2641                      PONT L ABBE D ARNOUL\n",
      "4832                     PONT L ABBE D ARNOULT\n",
      "950                              PONT L EVEQUE\n",
      "1471                            PONT ST ESPRIT\n",
      "694                           PONT STE MAXENCE\n",
      "1686                                   PONTACQ\n",
      "5824                                PONTARLIER\n",
      "6612                     PONTARLIER REPUBLIQUE\n",
      "65                           PONTAULT COMBAULT\n",
      "6459                                 PONTAUMUR\n",
      "1565                    PONTCHARRA SUR TURDINE\n",
      "747                                PONTCHATEAU\n",
      "1227                              PONTFAVERGER\n",
      "3068                                PONTGIBAUD\n",
      "717                                    PONTIVY\n",
      "3545                                  PONTOISE\n",
      "1674                         PONTONX SUR ADOUR\n",
      "2208                                 PONTORSON\n",
      "803                                  PONTRIEUX\n",
      "4995                      PONTS SOUS AVRANCHES\n",
      "753                                     PORDIC\n",
      "741                                     PORNIC\n",
      "5190                             PORNIC EGLISE\n",
      "980                                  PORNICHET\n",
      "1562                                      PORT\n",
      "7038                             PORT BARCARES\n",
      "6302                             PORT CAMARGUE\n",
      "6914                    PORT CAMARGUE LASSERRE\n",
      "115                               PORT DE BOUC\n",
      "6084                               PORT FREJUS\n",
      "6208                              PORT LEUCATE\n",
      "6891                   PORT LEUCATE MALLARDEAU\n",
      "7501                      PORT LEUCATE VIXIEGE\n",
      "1774                             PORT ST LOUIS\n",
      "974                               PORT ST PERE\n",
      "1696                              PORT STE FOY\n",
      "431                             PORT STE MARIE\n",
      "1997                              PORT VENDRES\n",
      "6491                         PORT VENDRES PAMS\n",
      "5895                       PORTES LES VALENCES\n",
      "100                         PORTET SUR GARONNE\n",
      "2248                                 PORTICCIO\n",
      "1647                                  POUILLON\n",
      "7458              POUILLY EN AUXOIS LIBERATION\n",
      "5227                     POUILLY SOUS CHARLIEU\n",
      "2694                                   POUSSAN\n",
      "6471                        POUSSAN RENE TULET\n",
      "4409                                    POUZAC\n",
      "1618                                    PRADES\n",
      "340                              PRADES LE LEZ\n",
      "5401                      PRALOGNAN LA VANOISE\n",
      "1610                                  PRAYSSAC\n",
      "965                              PRAZ SUR ARLY\n",
      "3027                                   PREMERY\n",
      "5273                       PREUILLY SUR CLAICE\n",
      "2328                               PRIGONRIEUX\n",
      "712                                   PRIMELIN\n",
      "1536                                    PRIVAS\n",
      "3095                                 PROPRIANO\n",
      "4866                                  PROVILLE\n",
      "1066                                   PROVINS\n",
      "2753                           PUGET SUR ARGEN\n",
      "190                           PUGET SUR ARGENS\n",
      "5633                  PUGET SUR ARGENS LIBERTE\n",
      "2663                            PUGET THENIERS\n",
      "1682                                    PUGNAC\n",
      "4205                                PUILBOREAU\n",
      "1003                                  PUISEAUX\n",
      "4841                         PUISEUX EN FRANCE\n",
      "2306                          PUISEUX PONTOISE\n",
      "3645                              PUISSERGUIER\n",
      "3426                                   PUTEAUX\n",
      "518                               PUY L EVEQUE\n",
      "2671                                 PUYGOUZON\n",
      "1047                                PUYLAURENS\n",
      "929                                      PUYOO\n",
      "5732                                 PUYRICARD\n",
      "275                                  QUAROUBLE\n",
      "2478               QUESNOY SUR DEULE SUR DEULE\n",
      "895                                    QUESSOY\n",
      "795                                QUESTEMBERT\n",
      "39                                    QUETIGNY\n",
      "709                                  QUETTEHOU\n",
      "2907                                   QUEVERT\n",
      "5917                                  QUIBERON\n",
      "7273                           QUIBERON VERDUN\n",
      "7262                                QUICAMPOIX\n",
      "2139                              QUIEVRECHAIN\n",
      "2339                                   QUILLAN\n",
      "158                                    QUIMPER\n",
      "5755                       QUIMPER CORNOUAILLE\n",
      "5918                       QUIMPER ERGUE ARMEL\n",
      "746                                  QUIMPERLE\n",
      "4185                               QUINCAMPOIX\n",
      "4767                        QUINCY SOUS SENART\n",
      "1925                                   QUINGEY\n",
      "7424                         QUINT FONSEGRIVES\n",
      "7523                 QUINT FONSEGRIVES CASTRES\n",
      "2929                                   QUINTIN\n",
      "1523                                   QUISSAC\n",
      "1708                                 RABASTENS\n",
      "423                                     RACHES\n",
      "2133                      RAILLENCOURT STE OLL\n",
      "487                              RAMBERVILLERS\n",
      "59                                 RAMBOUILLET\n",
      "1625                        RAMONVILLE ST AGNE\n",
      "1890                                    RANDAN\n",
      "1978                            RANG DU FLIERS\n",
      "4578                              RAON L ETAPE\n",
      "5630                             RAYOL CANADEL\n",
      "1657                                  REALMONT\n",
      "2564                                    REBAIS\n",
      "6031                                  REDESSAN\n",
      "785                                      REDON\n",
      "1866                                   REGUINY\n",
      "876                               REICHSHOFFEN\n",
      "2521                              REIGNIER BIS\n",
      "485                                      REIMS\n",
      "162                               REIMS CERNAY\n",
      "6628                           REIMS LIBERGIER\n",
      "6                               REIMS TINQUEUX\n",
      "673                                   REMOLLON\n",
      "2259                                 REMOULINS\n",
      "2656                                  RENAISON\n",
      "917                                     RENAZE\n",
      "801                                     RENNES\n",
      "96                                 RENNES ALMA\n",
      "1177                            RENNES LE GAST\n",
      "5757                        RENNES ST GREGOIRE\n",
      "1550                                 REPLONGES\n",
      "2674                                  REQUISTA\n",
      "125                                     RETHEL\n",
      "5080                                   RETIERS\n",
      "901                                  RETOURNAC\n",
      "2250                             RETTEL SIERCK\n",
      "1760                                     REVEL\n",
      "1516                             REVEL TOURDAN\n",
      "459                         REVIGNY SUR ORNAIN\n",
      "475                                      REVIN\n",
      "7447                         REXPOEDE NEUVILLE\n",
      "844                                       REZE\n",
      "7017                          RIANS REPUBLIQUE\n",
      "734                                    RIANTEC\n",
      "1933                                  RIBEMONT\n",
      "1418                                   RIBERAC\n",
      "2367                            RIEC SUR BELON\n",
      "2397                                   RIEUMES\n",
      "1917                               RIEUPEYROUX\n",
      "711                                      RIEUX\n",
      "1800                                      RIEZ\n",
      "2775                                  RILLIEUX\n",
      "5083                          RILLIEUX LA PAPE\n",
      "392                                 RIMAUCOURT\n",
      "218                                       RIOM\n",
      "638                          RIOM ES MONTAGNES\n",
      "550                                    RIORGES\n",
      "5920                                      RIOZ\n",
      "985                                RIS ORANGIS\n",
      "1589                              RIVE DE GIER\n",
      "5351                            RIVES SUR FURE\n",
      "2771                           RIVES SUR FURES\n",
      "1607                                RIVESALTES\n",
      "875                                    RIXHEIM\n",
      "2829                                    ROANNE\n",
      "7143                             ROANNE JAURES\n",
      "6921                              ROANNE PARIS\n",
      "1563                          ROCHE LA MOLIERE\n",
      "6437               ROCHE LA MOLIERE REPUBLIQUE\n",
      "7120                         ROCHE LES BEAUPRE\n",
      "2016                              ROCHECHOUART\n",
      "4575                                 ROCHEFORT\n",
      "1432                         ROCHEFORT SUR MER\n",
      "2754                                ROCHEMAURE\n",
      "1377                             ROCHESERVIERE\n",
      "1567                     ROCHETAILLE SUR SAONE\n",
      "2377                                    ROCROI\n",
      "1060                                     RODEZ\n",
      "7379                              RODEZ SEGALA\n",
      "2393                                    ROGNAC\n",
      "4179                     ROINVILLE SOUS AUNEAU\n",
      "701                             ROISSY EN BRIE\n",
      "5266                  ROISSY EN FRANCE HOUDART\n",
      "4042                               ROMAINVILLE\n",
      "1839                         ROMANECHE THORINS\n",
      "5706          ROMANS CODE DES POIDS ET FARINES\n",
      "458                                     ROMBAS\n",
      "593                        ROMILLY SUR ANDELLE\n",
      "2533                         ROMILLY SUR SEINE\n",
      "124                       ROMORANTIN LANTHENAY\n",
      "4289                                     RONCQ\n",
      "2311                            ROOST WARENDIN\n",
      "5631              ROQUEBRUNE CAP MARTIN BRIAND\n",
      "331                       ROQUEBRUNE CAPMARTIN\n",
      "1817                      ROQUEBRUNE SUR ARGEN\n",
      "2123                     ROQUEBRUNE SUR ARGENS\n",
      "7167            ROQUEBRUNE SUR ARGENS BOUVERIE\n",
      "5581       ROQUEBRUNE SUR ARGENS LES ISSAMBRES\n",
      "852                                  ROQUEFORT\n",
      "938                         ROQUEFORT LES PINS\n",
      "902                                 ROQUEMAURE\n",
      "7349                         ROQUEMAURE CARNOT\n",
      "1813                                ROQUEVAIRE\n",
      "5508                         ROQUEVAIRE ALLIES\n",
      "466                                   ROSIERES\n",
      "283                       ROSIERES EN SANTERRE\n",
      "6671                           ROSNY GARDEBLED\n",
      "24                            ROSNY SOUS  BOIS\n",
      "3272                           ROSNY SOUS BOIS\n",
      "1179                                 ROSPORDEN\n",
      "773                                  ROSTRENEN\n",
      "611                                    ROUBAIX\n",
      "5196                   ROUBAIX DELORY VAILLANT\n",
      "3323                                     ROUEN\n",
      "6822                           ROUEN CAUCHOISE\n",
      "806                          ROUEN CONSTANTINE\n",
      "6554            ROUEN CROIX PL.CROIX DE PIERRE\n",
      "661                       ROUEN JARDINS DES PL\n",
      "653                              ROUEN ST MARC\n",
      "7452                            ROUEN ST SEVER\n",
      "1149                        ROUEN VIEUX MARCHE\n",
      "6690                            ROUFFA  MARCHE\n",
      "885                                   ROUFFACH\n",
      "6571               ROUGEMONT LE CHATEAU GAULLE\n",
      "1897                                  ROUILLON\n",
      "4256                                   ROUMARE\n",
      "1369                       ROUMAZIERES LOUBERT\n",
      "2708                                ROUSSILLON\n",
      "5681                       ROUSSILLON BURLIERE\n",
      "2405                          ROUVROY DROCOURT\n",
      "4340                                     ROYAN\n",
      "5363                                    ROYBON\n",
      "349                                       ROYE\n",
      "2697                             ROZAY EN BRIE\n",
      "6992                  ROZAY EN BRIE R. LECLERC\n",
      "537                            ROZOY SUR SERRE\n",
      "4334                                   RUAUDIN\n",
      "3002                                  RUBELLES\n",
      "2107                                       RUE\n",
      "2597                          RUEIL MALMAISON \n",
      "3689                        RUEIL MALMAISON AI\n",
      "3509                     RUEIL MALMAISON AISON\n",
      "1434                                    RUELLE\n",
      "1373                                    RUFFEC\n",
      "4366                                    RUGLES\n",
      "1568                                   RUMILLY\n",
      "5702                                     RUOMS\n",
      "1823                          RUPT SUR MOSELLE\n",
      "2778                                       RUY\n",
      "7101                             RY GRANDE RUE\n",
      "2863                          SABLE SOUS ARTHE\n",
      "8182                          SABLE SUR SARTHE\n",
      "6498                               SAILLAGOUSE\n",
      "5707                                  SAILLANS\n",
      "5309                                  SAIN BEL\n",
      "249                           SAINS EN GOHELLE\n",
      "5963                                   SALAISE\n",
      "200                          SALAISE SOUS ANNE\n",
      "4972                         SALAISE SUR SANNE\n",
      "3017                                   SALBRIS\n",
      "380                                   SALERNES\n",
      "302                                     SALEUX\n",
      "3080                           SALIES DE BEARN\n",
      "536                          SALIGNAC EYVIGNES\n",
      "1980                         SALIGNAC EYVIGUES\n",
      "6305                  SALIN DE GIRAUD CAMARGUE\n",
      "6814                    SALIN DE GIRAUD ECOLES\n",
      "194                                 SALLANCHES\n",
      "6076                           SALLELES D AUDE\n",
      "2296                                    SALLES\n",
      "6249                              SALLES CURAN\n",
      "1642                             SALLES D AUDE\n",
      "1385                            SALLES SUR MER\n",
      "2741                                SALON DE P\n",
      "2840                             SALON DE PROV\n",
      "1778                         SALON DE PROVENCE\n",
      "6325                                   SAMATAN\n",
      "6795                       SAMATAN LA FONTAINE\n",
      "578                                      SAMER\n",
      "2354                                   SAMOENS\n",
      "5911                            SANARY LA BUGE\n",
      "5912                          SANARY LES PRATS\n",
      "6994                            SANARY SUR MER\n",
      "5559                SANARY SUR MER PRUD HOMMIE\n",
      "6660                                SANCERGUES\n",
      "3021                                  SANCERRE\n",
      "1348                                  SANCOINS\n",
      "7480                       SANCOINS DURUISSEAU\n",
      "1896                                 SANGUINET\n",
      "192                                    SANNOIS\n",
      "5543                           SANNOIS BERTAUX\n",
      "5952                                     SAONE\n",
      "46                                       SARAN\n",
      "3563                                 SARCELLES\n",
      "2347                                    SARLAT\n",
      "6184                          SARLAT LA CANEDA\n",
      "6881               SARLAT LA CANEDA REPUBLIQUE\n",
      "6364                        SARRANCOLIN VIVIER\n",
      "6521                                 SARRAS RN\n",
      "241                                 SARREBOURG\n",
      "503                              SARREGUEMINES\n",
      "1569                                  SARRIANS\n",
      "28                                SARTROUVILLE\n",
      "5902                                   SARZEAU\n",
      "2518                                 SASSENAGE\n",
      "6947                           SASSENAGE GERIN\n",
      "6073                                  SATHONAY\n",
      "1023                                   SAUCATS\n",
      "4429                        SAUGNAC ET CAMBRAN\n",
      "5187                                   SAUGUES\n",
      "1442                                    SAUJON\n",
      "7476                                   SAULIEU\n",
      "1957                                     SAULT\n",
      "535                           SAULT LES RETHEL\n",
      "4104                           SAULX CHARTREUX\n",
      "2726                       SAULX LES CHARTREUX\n",
      "259                                     SAUMUR\n",
      "2900                                   SAUSSAY\n",
      "4243                              SAUSSAY ANET\n",
      "5499                          SAUSSET LES PINS\n",
      "959                        SAUVETERRE DE BEARN\n",
      "5084                                   SAUVIAN\n",
      "1671                                  SAVERDUN\n",
      "1145                      SAVIGNAC LES ORMEAUX\n",
      "5019                                   SAVIGNE\n",
      "5893                          SAVIGNE L EVEQUE\n",
      "4084                         SAVIGNY LE TEMPLE\n",
      "3179                          SAVIGNY SUR ORGE\n",
      "6988                   SAVIGNY SUR ORGE BRIAND\n",
      "3373                                    SCEAUX\n",
      "2614                              SCHEIBENHARD\n",
      "5464                               SCIEZ CRETS\n",
      "2782                                 SCIONZIER\n",
      "2276                             SCY CHAZELLES\n",
      "2417                                    SECLIN\n",
      "697                                      SEDAN\n",
      "720                                       SEES\n",
      "195                                      SEGNY\n",
      "1389                                  SEGONZAC\n",
      "4397                               SEGOUFIELLE\n",
      "5275                            SEGRE GAMBETTA\n",
      "488                                  SEICHAMPS\n",
      "1124                                   SEISSAN\n",
      "6288                                      SEIX\n",
      "891                                   SELESTAT\n",
      "2034                                SELONCOURT\n",
      "1614                                    SEMEAC\n",
      "1201                           SEMUR EN AUXOIS\n",
      "778                                SENE VANNES\n",
      "409                                     SENLIS\n",
      "6682                         SENNECEY LE GRAND\n",
      "646                                  SENONCHES\n",
      "1164                                      SENS\n",
      "6655                        SENS CHAMPLAISANTS\n",
      "7                                 SENS MAILLOT\n",
      "209                                 SENS VOULX\n",
      "652                            SEPPOIS LE HAUT\n",
      "1030                                SEPT SORTS\n",
      "1775                      SEPTEMES LES VALLONS\n",
      "5086                                   SERAING\n",
      "1865                                    SERENT\n",
      "138                                   SERIGNAN\n",
      "6494                      SERIGNAN ORPELLIERES\n",
      "6495                     SERIGNAN PLAGE NATURE\n",
      "1968                        SERMAIZE LES BAINS\n",
      "1755                             SERRES CASTET\n",
      "2019                                    SERVAS\n",
      "2544                                      SETE\n",
      "116                               SETE BALARUC\n",
      "6892                            SETE CLERVILLE\n",
      "7538                         SETE LE CASTELLAS\n",
      "1216                                    SEURRE\n",
      "6624                         SEURRE REPUBLIQUE\n",
      "1698                        SEVERAC LE CHATEAU\n",
      "18                                      SEVRAN\n",
      "3390                                    SEVRES\n",
      "2199                                   SEVRIER\n",
      "1069                           SEYNE LES ALPES\n",
      "2343                                    SEYNOD\n",
      "2344                                   SEYSSEL\n",
      "1636                                   SEYSSES\n",
      "5962                                 SEYSSINET\n",
      "6976              SEYSSINET PARISET REPUBLIQUE\n",
      "1598                                  SEYSSINS\n",
      "4134                                   SEZANNE\n",
      "1692                                    SIGEAN\n",
      "676                                    SILLERY\n",
      "560                               SIN LE NOBLE\n",
      "2638                        SIORAC EN PERIGORD\n",
      "5725                         SISTERON PROVENCE\n",
      "2686                                 SIX FOURS\n",
      "6995                     SIX FOURS DE TASSIGNY\n",
      "5577                          SIX FOURS EMBIEZ\n",
      "6753                         SIX FOURS LE SUZY\n",
      "1814                      SIX FOURS LES PLAGES\n",
      "1287                                   SOCHAUX\n",
      "4316                                  SOISSONS\n",
      "4867                    SOISY SOUS MONTMORENCY\n",
      "2152                                  SOLESMES\n",
      "1962                       SOLLIERES SARDIERES\n",
      "1781                              SOLLIES PONT\n",
      "395                                     SOMAIN\n",
      "1544                                 SOMMIERES\n",
      "1670                           SOORTS HOSSEGOR\n",
      "2798                                  SORBIERS\n",
      "3948                                   SORETTI\n",
      "1507                                   SORGUES\n",
      "706                       SOTTEVILLE LES ROUEN\n",
      "6556          SOTTEVILLE VOLTAIRE PL. VOLTAIRE\n",
      "1956                                   SOUBISE\n",
      "5332                        SOUCIEU EN JARREST\n",
      "955                           SOUGE LE GANELON\n",
      "914                                   SOUILLAC\n",
      "6192                            SOUILLAC MALUY\n",
      "2151                            SOULAC SUR MER\n",
      "4810                                    SOULTZ\n",
      "1679                                 SOUMOULOU\n",
      "1005                         SOUPPES SUR LOING\n",
      "961                                   SOUSTONS\n",
      "1880                                  SOUVIGNY\n",
      "1481                                     SOUZY\n",
      "107                                     SOYAUX\n",
      "1549                                    SOYONS\n",
      "6246                                        ST\n",
      "2670                               ST AFFRIQUE\n",
      "7212                                 ST AGREVE\n",
      "4272                                  ST ALBAN\n",
      "4987                           ST ALBAN LEYSSE\n",
      "2512                                  ST AMAND\n",
      "2371                 ST AMANOTRE DAME LES EAUX\n",
      "1333                 ST AMANOTRE DAME MONTROND\n",
      "1916                         ST AMANT DE BOIXE\n",
      "1824                         ST AMANT TALLENDE\n",
      "1582                                ST AMBROIX\n",
      "6601                                  ST AMOUR\n",
      "1700                                  ST ANDRE\n",
      "2021                         ST ANDRE DE CORCY\n",
      "1716                        ST ANDRE DE CUBZAC\n",
      "2218                        ST ANDRE DE L EURE\n",
      "1305                      ST ANDRE DE LA MARCH\n",
      "6220                      ST ANDRE DE SANGONIS\n",
      "56                        ST ANDRE LES VERGERS\n",
      "4108                        ST ANDRE LEZ LILLE\n",
      "7446              ST ANDRE LEZ LILLE DE GAULLE\n",
      "5167                                ST ANTHEME\n",
      "5364                                ST ANTOINE\n",
      "1087                            ST APOLLINAIRE\n",
      "4393                       ST AUBIN D ARQUENAY\n",
      "5036                       ST AUBIN DE CORMIER\n",
      "2927                       ST AUBIN DU CORMIER\n",
      "2876                       ST AUBIN LES ELBEUF\n",
      "859                                     ST AVE\n",
      "4617                                  ST AVOLD\n",
      "5621                                 ST AYGULF\n",
      "6490                 ST AYGULF GRANDS CHATEAUX\n",
      "5375                                ST BALDOPH\n",
      "5901                             ST BARTHELEMY\n",
      "6370                                   ST BEAT\n",
      "5212                               ST BEAUZIRE\n",
      "1892                            ST BENIN D AZY\n",
      "5004                                 ST BENOIT\n",
      "5290                   ST BERTHEVIN LIBERATION\n",
      "1104                         ST BONNET DE MURE\n",
      "2728                      ST BONNET EN CHAMPSA\n",
      "5165                      ST BONNET LE CHATEAU\n",
      "5213                  ST BONNET TRONCAIS MAZES\n",
      "168                       ST BRICE SOUS  FORET\n",
      "4784                       ST BRICE SOUS FORET\n",
      "5758                                 ST BRIEUC\n",
      "5202                           ST BRIEUC FERRY\n",
      "20                          ST BRIEUC LANGUEUX\n",
      "7474                  ST BRIS LE VINEUX EGLISE\n",
      "2651                                 ST CALAIS\n",
      "7016                                 ST CANNAT\n",
      "7179                      ST CANNAT REPUBLIQUE\n",
      "383                       ST CATHERINE LES ARR\n",
      "4370                                   ST CERE\n",
      "5461                         ST CERGUES ARCHET\n",
      "5494                                 ST CHAMAS\n",
      "451                                 ST CHAMOND\n",
      "7202             ST CHAMONOTRE DAME LA VALETTE\n",
      "6926               ST CHAMONOTRE DAME LE CREUX\n",
      "6711                ST CHAMONOTRE DAME LIBERTE\n",
      "5140            ST CHAMONOTRE DAME LOUIS COMTE\n",
      "2573                                  ST CHELY\n",
      "1461                         ST CHELY D APCHER\n",
      "1927                                ST CHINIAN\n",
      "1605                      ST CHRISTOL LES ALES\n",
      "5218                ST CHRISTOPHE EN BRIONNAIS\n",
      "4284                       ST CIERS SUR GIROND\n",
      "2270                       ST CLAIR DE LA TOUR\n",
      "5295                       ST CLAIR SUR L ELLE\n",
      "953                                    ST CLAR\n",
      "1199                                 ST CLAUDE\n",
      "6863                ST CLEMENT C,C LE BOULIDOU\n",
      "6472                ST CLEMENT C.C LE BOULIDOU\n",
      "32                        ST CLEMENT DE RIVIER\n",
      "3763                                  ST CLOUD\n",
      "5535                       ST CLOUD REPUBLIQUE\n",
      "1831                       ST COMES EN VAIRAIS\n",
      "338                                 ST CYPRIEN\n",
      "7039                       ST CYPRIEN MIRABEAU\n",
      "7500            ST CYPRIEN PLAGE LES CAPELLANS\n",
      "5307                       ST CYR AU MONT D OR\n",
      "3862                            ST CYR L ECOLE\n",
      "5585                            ST CYR SUR MER\n",
      "70                                    ST DENIS\n",
      "1638                          ST DENIS DE PILE\n",
      "3070                           ST DENIS EN VAL\n",
      "7512                          ST DENIS JEUMONT\n",
      "2806                        ST DENIS LES BOURG\n",
      "4613                         ST DENIS LES SENS\n",
      "7134                          ST DENIS TIMBAUD\n",
      "2024                                 ST DESERT\n",
      "5311                    ST DIDIER AU MONT D OR\n",
      "492                                     ST DIE\n",
      "6618                  ST DIE DES VOSGES THIERS\n",
      "6054                                ST DIONIZY\n",
      "493                                  ST DIZIER\n",
      "7200                             ST DONAT BERT\n",
      "1273                              ST DOULCHARD\n",
      "183                                  ST EGREVE\n",
      "2615                         ST ELOY LES MINES\n",
      "274                       ST ERME OUTRE & RAM.\n",
      "1140                                 ST ESTEVE\n",
      "1525                                ST ETIENNE\n",
      "6450                      ST ETIENNE  DURAFOUR\n",
      "5151                         ST ETIENNE ALLIES\n",
      "440                         ST ETIENNE AU MONT\n",
      "5907                        ST ETIENNE BERGSON\n",
      "1250                      ST ETIENNE D ROUVRAY\n",
      "1942                      ST ETIENNE DE BAIGOR\n",
      "1669                       ST ETIENNE DE MAURS\n",
      "2045                      ST ETIENNE DE MONTLU\n",
      "5663                       ST ETIENNE DE TINEE\n",
      "2007                        ST ETIENNE DU BOIS\n",
      "4517                     ST ETIENNE DU ROUVRAY\n",
      "6713                       ST ETIENNE GERENTET\n",
      "7206               ST ETIENNE LA RICHELANDIERE\n",
      "5150                     ST ETIENNE LES HALLES\n",
      "7430                     ST ETIENNE LIBERATION\n",
      "5135                        ST ETIENNE LIBERTE\n",
      "5816                       ST ETIENNE MONTHIEU\n",
      "6118                           ST ETIENNE NORD\n",
      "5157                        ST ETIENNE PLOTTON\n",
      "6142             ST ETIENNE RONOTRE DAME POINT\n",
      "6447                        ST ETIENNE SOLAURE\n",
      "507                                 ST EVARZEC\n",
      "5136                               ST FELICIEN\n",
      "4877                                  ST FELIX\n",
      "839                        ST FLORENT LE VIEIL\n",
      "3033                ST FLORENT SUR CHER MOULIN\n",
      "1026                              ST FLORENTIN\n",
      "1620                                  ST FLOUR\n",
      "6453                        ST FLOUR MARCHANDE\n",
      "2831                                   ST FONS\n",
      "978                                    ST FORT\n",
      "7641                                ST FULGENT\n",
      "6053                                ST GALMIER\n",
      "3069                               ST GAULTIER\n",
      "1591                           ST GELY DU FESC\n",
      "6434                           ST GENEST LERPT\n",
      "5146                        ST GENEST MALIFAUX\n",
      "6594                    ST GENGOUX LE NATIONAL\n",
      "851                       ST GENIES DE MALGOIR\n",
      "1699                           ST GENIEZ D OLT\n",
      "4949                            ST GENIS LAVAL\n",
      "5322                     ST GENIS LES OLLIERES\n",
      "1520                          ST GENIS POUILLY\n",
      "7305                     ST GEOIRE EN VALDAINE\n",
      "127                       ST GEORGES DES GROSE\n",
      "3154                ST GEORGES DES GROSEILLERS\n",
      "597                        ST GEORGES SUR EURE\n",
      "6600                        ST GERMAIN DU BOIS\n",
      "2513                      ST GERMAIN DU CORBEI\n",
      "4419                         ST GERMAIN DU PUY\n",
      "2997                        ST GERMAIN EN LAYE\n",
      "6462                         ST GERMAIN L HERM\n",
      "4985               ST GERMAIN LA BLANCHE HERBE\n",
      "1901                          ST GERMAIN LAVAL\n",
      "1144                      ST GERMAIN LES ARPAJ\n",
      "5053                    ST GERMAIN LES CORBEIL\n",
      "2599                            ST GERMAIN PUY\n",
      "4456                      ST GERMAIN SUR MORIN\n",
      "260                        ST GERVAIS EN BELIN\n",
      "5470                      ST GERVAIS LES BAINS\n",
      "6284             ST GERVAIS LES TROIS CLOCHERS\n",
      "1601                                 ST GILLES\n",
      "6262                    ST GILLES CROIX DE VIE\n",
      "5472                               ST GINGOLPH\n",
      "2268                                 ST GIRONS\n",
      "1252                                ST GRATIEN\n",
      "1994                                  ST HEAND\n",
      "9                                  ST HERBLAIN\n",
      "5423                      ST HILAIRE DU TOUVET\n",
      "5936                                 ST ISMIER\n",
      "2930                    ST JACQUES DE LA LANDE\n",
      "905                                    ST JEAN\n",
      "5139                        ST JEAN BONNEFONDS\n",
      "868                           ST JEAN BREVELAY\n",
      "6486             ST JEAN CAP FERRAT CENTENAIRE\n",
      "1407                          ST JEAN D ANGELY\n",
      "2843                           ST JEAN D AULPS\n",
      "6037                           ST JEAN D ILLAC\n",
      "1467                        ST JEAN DE BOURNAY\n",
      "2349                          ST JEAN DE BRAYE\n",
      "7269             ST JEAN DE LA RUELLE CHASSEUR\n",
      "5966                          ST JEAN DE LOSNE\n",
      "222                             ST JEAN DE LUZ\n",
      "6425                       ST JEAN DE LUZ HUGO\n",
      "6416                 ST JEAN DE LUZ ITHURRALDE\n",
      "6343              ST JEAN DE LUZ JAUREGUIBERRY\n",
      "2186                      ST JEAN DE MAURIENNE\n",
      "2345                        ST JEAN DE MOIRANS\n",
      "703                           ST JEAN DE MONTS\n",
      "1540                         ST JEAN DE MUZOLS\n",
      "1450                        ST JEAN DE SOUDAIN\n",
      "72                            ST JEAN DE VEDAS\n",
      "6810                          ST JEAN DU BRUEL\n",
      "4583                      ST JEAN DU CARDONNAY\n",
      "993                           ST JEAN LE BLANC\n",
      "1739                      ST JEAN PIED DE PORT\n",
      "5271                     ST JEAN RUELLE PAVARD\n",
      "1519                                 ST JEOIRE\n",
      "2099                         ST JEOIRE PRIEURE\n",
      "2608                                   ST JORY\n",
      "4826                      ST JOUAN DES GUERETS\n",
      "2537                                  ST JUERY\n",
      "1121                       ST JULIEN CHAPTEUIL\n",
      "2563                     ST JULIEN DE CONCELLE\n",
      "532                       ST JULIEN DES VILLAS\n",
      "1010                        ST JULIEN DU SAULT\n",
      "6428            ST JULIEN EN BORN LOU SEURROTS\n",
      "2184                            ST JULIEN EN G\n",
      "1463                      ST JULIEN EN GENEVOI\n",
      "482                       ST JULIEN LES VILLAS\n",
      "762                       ST JULIEN SUR SARTHE\n",
      "4656                                 ST JUNIEN\n",
      "1080                         ST JUST D ARDECHE\n",
      "6460                       ST JUST EN CHEVALET\n",
      "2506                           ST JUST MALMONT\n",
      "4495                        ST JUST ST RAMBERT\n",
      "5162            ST JUST ST RAMBERT ANCIEN PONT\n",
      "5163               ST JUST ST RAMBERT GRENETTE\n",
      "6373                            ST LARY SOULAN\n",
      "6041                     ST LAURENT DES ARBRES\n",
      "328                         ST LAURENT DU PONT\n",
      "1261                         ST LAURENT DU VAR\n",
      "1137                       ST LAURENT SALANQUE\n",
      "7477                    ST LEGER DES VIGNES RN\n",
      "1403                       ST LEGER MARTINIERE\n",
      "2642                      ST LEONARD DE NOBLAT\n",
      "5066                           ST LEU LA FORET\n",
      "1726                                 ST LIZIER\n",
      "128                                      ST LO\n",
      "5804                                  ST LOUIS\n",
      "2009                           ST LOUP GEANGES\n",
      "1960                                    ST LYE\n",
      "1993                                ST LYPHARD\n",
      "1639                                    ST LYS\n",
      "1374                        ST MAIXENT L ECOLE\n",
      "166                                    ST MALO\n",
      "5296                           ST MALO BOUVIER\n",
      "7265               ST MALO COQUELIN REPUBLIQUE\n",
      "5301                            ST MALO DINAND\n",
      "2909                           ST MALO PASTEUR\n",
      "5554                      ST MAMMES GRANDE RUE\n",
      "3313                                  ST MANDE\n",
      "5587                               ST MANDRIER\n",
      "658                                  ST MARCEL\n",
      "4188                     ST MARCEL LES VALENCE\n",
      "1658                        ST MARCEL SUR AUDE\n",
      "6965                              ST MARCELLIN\n",
      "5169                     ST MARCELLIN EN FOREZ\n",
      "233                                    ST MARD\n",
      "528                        ST MARIES DE LA MER\n",
      "5090                         ST MARS LA BRIERE\n",
      "176                         ST MARTIN AU LAERT\n",
      "944                       ST MARTIN BELLE ROCH\n",
      "2080                            ST MARTIN BOUL\n",
      "2061                       ST MARTIN D AUXIGNY\n",
      "2729                         ST MARTIN D HERES\n",
      "5262                        ST MARTIN D URIAGE\n",
      "1785                         ST MARTIN DE CRAU\n",
      "2552                     ST MARTIN DE FONTENAY\n",
      "239                            ST MARTIN DE RE\n",
      "4424                   ST MARTIN DE VALGALGUES\n",
      "788                       ST MARTIN DES CHAMPS\n",
      "2040                          ST MARTIN DU VAR\n",
      "6528              ST MARTIN EN HAUT GRANDE RUE\n",
      "5671                         ST MARTIN VESUBIE\n",
      "2889                      ST MARTIN VX BELLEME\n",
      "1847                                ST MATHIEU\n",
      "1920                       ST MATHIEU TREVIERS\n",
      "3197                                   ST MAUR\n",
      "2443                        ST MAUR DES FOSSES\n",
      "6064                   ST MAUR PONT DE CRETEIL\n",
      "2989                                ST MAURICE\n",
      "7136                    ST MAURICE DE GOURDANS\n",
      "7194          ST MAURICE DE GOURDANS CHARRIERE\n",
      "7462                          ST MAX ALEXANDRE\n",
      "4090                                ST MAXIMIN\n",
      "1795                      ST MAXIMIN STE BAUME\n",
      "1746                       ST MEDARD EN JALLES\n",
      "1408                        ST MEDARD MUSSIDAN\n",
      "840                           ST MEEN LE GRAND\n",
      "968                        ST MELOIR DES ONDES\n",
      "4848                                 ST MEMMIE\n",
      "2823                    ST MICHEL DE MAURIENNE\n",
      "5777                        ST MICHEL SUR ORGE\n",
      "2275                                 ST MIHIEL\n",
      "2758                     ST MITRE LES REMPARTS\n",
      "837                       ST NABORD REMIREMONT\n",
      "738                                 ST NAZAIRE\n",
      "5192                         ST NAZAIRE JAURES\n",
      "5775                      ST NAZAIRE OCEANIS I\n",
      "320                       ST NICOLAS D ALIERMO\n",
      "1584                    ST NIZIER SUR CHARLIEU\n",
      "3835                        ST NOM LA BRETECHE\n",
      "3317                                   ST OUEN\n",
      "3372                            ST OUEN AUMONE\n",
      "4677                          ST OUEN L AUMONE\n",
      "6563                          ST OUEN MICHELET\n",
      "5795                           ST PAIR SUR MER\n",
      "5174                       ST PAL EN CHALENCON\n",
      "1615                                 ST PALAIS\n",
      "1758                          ST PARDOUX ISAAC\n",
      "1291                                   ST PAUL\n",
      "2378                     ST PAUL DE FENOUILLET\n",
      "6981                       ST PAUL EN CHABLAIS\n",
      "1740                           ST PAUL LES DAX\n",
      "894                           ST PAUL SUR SAVE\n",
      "1491                                ST PAULIEN\n",
      "1644                        ST PEE SUR NIVELLE\n",
      "4329                                  ST PERAY\n",
      "603                       ST PHILBERT SUR RISL\n",
      "1498                       ST PIERRE D ALBIGNY\n",
      "5378                ST PIERRE D ALBIGNY PINGET\n",
      "3084                         ST PIERRE D IRUBE\n",
      "5938                     ST PIERRE DE CHANDIEU\n",
      "5395                   ST PIERRE DE CHARTREUSE\n",
      "205                        ST PIERRE DES CORPS\n",
      "512                       ST PIERRE DES FLEURS\n",
      "4913                        ST PIERRE DES NIDS\n",
      "4262                        ST PIERRE DU MONTS\n",
      "1054                       ST PIERRE DU PERRAY\n",
      "2613                          ST PIERRE EGLISE\n",
      "6743                     ST PIERRE EN FAUCIGNY\n",
      "7091                          ST PIERRE LA MER\n",
      "4519                      ST PIERRE LES ELBEUF\n",
      "2975                     ST PIERRE LES NEMOURS\n",
      "1112                      ST PIERRE MONTLIMART\n",
      "5950                       ST PIERRE SUR DIVES\n",
      "1185                      ST PIERRE VARENGEVIL\n",
      "87                              ST POL SUR MER\n",
      "366                        ST POL SUR TERNOISE\n",
      "401                       ST PONS DE THOMIERES\n",
      "1886                              ST PORCHAIRE\n",
      "7144                               ST POURCAIN\n",
      "3041                    ST POURCAIN SOUS IOULE\n",
      "6867            ST POURCAIN SUR SIOULE SEGUIER\n",
      "2578                                 ST PRIEST\n",
      "7146                       ST PRIEST BALAVOINE\n",
      "4783                        ST PRIEST EN JAREZ\n",
      "5696                                 ST PRIVAT\n",
      "1282                       ST PRIVAT DES VIEUX\n",
      "7264                        ST PRYVE ST MESMIN\n",
      "724                             ST QUAY PERROS\n",
      "273                                 ST QUENTIN\n",
      "11                        ST QUENTIN EN YVELIN\n",
      "2811                      ST QUENTIN FALLAVIER\n",
      "670                        ST RAMBERT EN BUGEY\n",
      "678                                 ST RAPHAEL\n",
      "7004                           ST RAPHAEL AGAY\n",
      "5623                        ST RAPHAEL VALROSE\n",
      "1811                       ST REMY DE PROVENCE\n",
      "784                          ST REMY DES MONTS\n",
      "2973                     ST REMY LES CHEVREUSE\n",
      "7117                             ST REMY PARON\n",
      "4579                          ST REMY SUR AVRE\n",
      "140                                   ST RENAN\n",
      "1888                                ST RIQUIER\n",
      "2144                      ST ROMAIN DE COLBOSC\n",
      "1501                      ST ROMAIN EN VIENNOI\n",
      "887                           ST ROMAIN LE PUY\n",
      "2528                                  ST SAENS\n",
      "6657                        ST SAULGE COMMERCE\n",
      "1535                                ST SAUVEUR\n",
      "5143                    ST SAUVEUR DE MONTAGUT\n",
      "1832                                  ST SAVIN\n",
      "1645                         ST SAVIN DE BLAYE\n",
      "732                               ST SEBASTIEN\n",
      "4710                   ST SEBASTIEN DE MORSENT\n",
      "7217                    ST SEBASTIEN SUR LOIRE\n",
      "6584                         ST SEINE L ABBAYE\n",
      "7531                  ST SEINE L ABBAYE CARNOT\n",
      "1694                                  ST SEVER\n",
      "1558                       ST SIMEON BRESSIEUX\n",
      "1386                         ST SORNIN LAVOLPS\n",
      "2145                              ST SOUPPLETS\n",
      "2337                                ST SULPICE\n",
      "903                        ST SULPICE DE ROYAN\n",
      "7036                  ST SULPICE LA LOUBATIERE\n",
      "1097                       ST SULPICE SUR LEZE\n",
      "548                       ST SYLVESTRE SUR LOT\n",
      "725                              ST SYMPHORIEN\n",
      "5360                      ST SYMPHORIEN D OZON\n",
      "1074                      ST SYMPHORIEN DE LAY\n",
      "2191                   ST SYMPHORIEN SUR COISE\n",
      "4556                               ST THIBAULT\n",
      "1042                      ST THIBAULT D VIGNES\n",
      "1239                      ST TRIVIER DE COURTE\n",
      "7464                     ST TRIVIER DE COURTES\n",
      "5600                                 ST TROPEZ\n",
      "7435                         ST TROPEZ LECLERC\n",
      "941                                   ST USAGE\n",
      "5155                             ST UZE MAIRIE\n",
      "3150                        ST VAAST LA HOUGUE\n",
      "6641                    ST VALERIEN REPUBLIQUE\n",
      "4560                         ST VALERY EN CAUX\n",
      "264                        ST VALERY SUR SOMME\n",
      "1308                                ST VALLIER\n",
      "860                        ST VALLIER DE THIEY\n",
      "6646                         ST VALLIER DORMOY\n",
      "6831                       ST VALLIER GAMBETTA\n",
      "1398                                 ST VARENT\n",
      "2127                               ST VICTORET\n",
      "824                          ST VIGOR LE GRAND\n",
      "1877                                    ST VIT\n",
      "3057                                  ST YORRE\n",
      "7234                       ST YORRE REPUBLIQUE\n",
      "1414                       ST YRIEIX LA PERCHE\n",
      "6075                         ST YRIEIX LE CLOS\n",
      "1552                         ST.JEAN EN ROYANS\n",
      "14                                      STAINS\n",
      "2369                               STE ADRESSE\n",
      "2695                         STE ANNE D EVENOS\n",
      "5679                     STE CECILE LES VIGNES\n",
      "240                        STE CROIX AUX MINES\n",
      "7439                      STE FOY L ARGENTIERE\n",
      "4773                          STE FOY LES LYON\n",
      "5860                 STE FOY LES LYON JAROSSON\n",
      "1255                      STE GEMMES D ANDIGNE\n",
      "34                        STE GENEVIEVE DES BO\n",
      "4836                    STE GENEVIEVE DES BOIS\n",
      "6190                          STE GENEVIEVE RD\n",
      "800                                 STE HELENE\n",
      "6044                               STE HERMINE\n",
      "1722                               STE LIVRADE\n",
      "1530                       STE MARIE DE CUINES\n",
      "641                       STE MARIE DES CHAMPS\n",
      "6499                          STE MARIE LA MER\n",
      "1416                      STE MAURE DE TOURAIN\n",
      "2202                                STE MAXIME\n",
      "6889                      STE MAXIME DE GAULLE\n",
      "525                             STE MENEHOULDE\n",
      "1474                              STE SIGOLENE\n",
      "1015                                    STENAY\n",
      "1375                                      STES\n",
      "6278                             STES GAMBETTA\n",
      "6303                     STES MARIES DE LA MER\n",
      "7012           STES MARIES DE LA MER PENITENTS\n",
      "6894             STES MARIES DE LA MER V. HUGO\n",
      "352                       STGERMAIN DES FOSSES\n",
      "7355                                STRASBOURG\n",
      "3502                              SUCY EN BRIE\n",
      "3781                             SUCY SUR BRIE\n",
      "4668                           SULLY SUR LOIRE\n",
      "946                                    SULNIAC\n",
      "2400                                  SURESNES\n",
      "6670                         SURESNES TASSIGNY\n",
      "1382                                  SURGERES\n",
      "969                                     SURZUR\n",
      "1680                                   SUSMIOU\n",
      "5968                                  SUSVILLE\n",
      "751                                      TADEN\n",
      "1532                          TAIN L HERMITAGE\n",
      "5091                                   TALANGE\n",
      "1253                                    TALANT\n",
      "1687                                   TALENCE\n",
      "890                                    TALLARD\n",
      "6922                                  TANINGES\n",
      "5224                                    TARARE\n",
      "1805                                  TARASCON\n",
      "6493                           TARASCON MARCHE\n",
      "396                        TARASCON SUR ARIEGE\n",
      "1183                                    TARBES\n",
      "6386                    TARBES ARISTIDE BRIAND\n",
      "2097                           TARBES CLAVERIE\n",
      "3105                          TARBES CLAVERIEE\n",
      "7070                             TARBES MOUSIS\n",
      "6351                                   TARDETS\n",
      "221                                     TARNOS\n",
      "1649                                    TARTAS\n",
      "5876                       TASSIN LA DEMI LUNE\n",
      "5292                                     TAULE\n",
      "2195                                   TAVERNY\n",
      "2813                                     TENCE\n",
      "2074                                 TERDEGHEM\n",
      "3911                                  TERGNIER\n",
      "1383                           TERRASSON CEDEX\n",
      "4355                    TERRASSON LA VILLEDIEU\n",
      "2251                     TERRASSON LAVILLEDIEU\n",
      "2075                                  TETEGHEM\n",
      "472                                    THEDING\n",
      "2934                                     THEIX\n",
      "5666                             THEOULE DAHON\n",
      "3489                                    THIAIS\n",
      "5108                                   THIANGE\n",
      "2902                               THIBERVILLE\n",
      "216                                     THIERS\n",
      "7251                           THIERS CLERMONT\n",
      "2867                          THIMERT GATELLES\n",
      "171                                 THIONVILLE\n",
      "7473                    THIONVILLE  LUXEMBOURG\n",
      "2350                                  THIVIERS\n",
      "5446                                    THOIRY\n",
      "6980                                  THOISSEY\n",
      "5398                       THOLLON LES MEMISES\n",
      "7515                  THOLLON LES MEMISES NOUY\n",
      "2198                                    THONES\n",
      "2183                              THONON LES B\n",
      "963                           THONON LES BAINS\n",
      "5465                           THORENS GLIERES\n",
      "2618                        THORIGNE FOUILLARD\n",
      "1057                                  THORIGNY\n",
      "3244                        THORIGNY SUR MARNE\n",
      "5699                                   THUEYTS\n",
      "1139                                     THUIR\n",
      "2474                                 THUMERIES\n",
      "1603                                     THYEZ\n",
      "1303                                    TIGERY\n",
      "7293                    TIGNES LES HAUTS LIEUX\n",
      "306                         TILLOY LES CAMBRAI\n",
      "2205                                TINCHEBRAY\n",
      "643                             TOCANE ST APRE\n",
      "7389                           TONNAY CHARENTE\n",
      "1735                                  TONNEINS\n",
      "6245                           TONNEINS JAURES\n",
      "3255                                     TORCY\n",
      "4428                            TORCY LE PETIT\n",
      "5822                          TORCY MONTCHANIN\n",
      "677                                      TOTES\n",
      "1000                                     TOUCY\n",
      "477                                       TOUL\n",
      "6575                             TOUL GAMBETTA\n",
      "335                                     TOULON\n",
      "6120                      TOULON BON RENCONTRE\n",
      "7436                         TOULON EMILE ZOLA\n",
      "6998                              TOULON FARON\n",
      "29                    TOULON GRANOTRE DAME VAR\n",
      "6754                          TOULON GROIGNARD\n",
      "5572                             TOULON JOFFRE\n",
      "6121                         TOULON LA VALETTE\n",
      "74                                TOULON MAYOL\n",
      "5578                         TOULON PELLOUTIER\n",
      "6145                      TOULON PORT MARCHAND\n",
      "5867                             TOULON SIBLAS\n",
      "31                                    TOULOUSE\n",
      "7416               TOULOUSE ALLEE DE BARCELONE\n",
      "7075                         TOULOUSE AMOUROUX\n",
      "6411                   TOULOUSE AUGUSTE ALBERT\n",
      "6400                        TOULOUSE BARCELONE\n",
      "5834                      TOULOUSE BASSO CAMBO\n",
      "6089                         TOULOUSE BONNEFOY\n",
      "4157                          TOULOUSE CHAUBET\n",
      "7418                        TOULOUSE COTE D OR\n",
      "6633                          TOULOUSE DIEBOLD\n",
      "6088                          TOULOUSE EMPALOT\n",
      "5830                       TOULOUSE FENOUILLET\n",
      "6405                          TOULOUSE FERETRA\n",
      "7420                        TOULOUSE FILATIERS\n",
      "6885                     TOULOUSE GABRIEL PERI\n",
      "6803                         TOULOUSE GAMBETTA\n",
      "5976                         TOULOUSE H SERRES\n",
      "1989                      TOULOUSE JEAN JAURES\n",
      "2267                         TOULOUSE JOLIMONT\n",
      "7188                           TOULOUSE JULIEN\n",
      "6094                          TOULOUSE L UNION\n",
      "6100                       TOULOUSE LA CEPIERE\n",
      "6777                        TOULOUSE LA GLOIRE\n",
      "6402                      TOULOUSE LA JUNCASSE\n",
      "7077                         TOULOUSE MATABIAU\n",
      "6091                          TOULOUSE MINIMES\n",
      "6634                            TOULOUSE MURET\n",
      "6775                      TOULOUSE PATTE D OIE\n",
      "6401                             TOULOUSE PERI\n",
      "6404                          TOULOUSE PHARAON\n",
      "6154                            TOULOUSE PLANA\n",
      "6092                 TOULOUSE PONT DEMOISELLES\n",
      "6414                        TOULOUSE PONT NEUF\n",
      "6294                     TOULOUSE POUVOURVILLE\n",
      "7078                        TOULOUSE PRADETTES\n",
      "6408                     TOULOUSE ROUTE D ALBI\n",
      "6396                         TOULOUSE SEJOURNE\n",
      "2062                          TOULOUSE SEYSSES\n",
      "376                        TOULOUSE ST CYPRIEN\n",
      "6175                       TOULOUSE ST EXUPERY\n",
      "5859                       TOULOUSE ST GEORGES\n",
      "6388                       TOULOUSE STRASBOURG\n",
      "6389                             TOULOUSE TAUR\n",
      "6804                             TOULOUSE URSS\n",
      "228                                    TOUQUES\n",
      "424                                  TOURCOING\n",
      "2298                               TOURGEVILLE\n",
      "379                                TOURLAVILLE\n",
      "2698                           TOURNAN EN BRIE\n",
      "6365                                   TOURNAY\n",
      "6799                           TOURNAY ASTARAC\n",
      "2381                             TOURNEFEUILLE\n",
      "1500                                   TOURNON\n",
      "6276                         TOURNON ST MARTIN\n",
      "2432                         TOURNON SUR RHONE\n",
      "2166                                   TOURNUS\n",
      "1796                                TOURRETTES\n",
      "314                                      TOURS\n",
      "7215                       TOURS CHARLES GILLE\n",
      "7216                           TOURS GIRAUDEAU\n",
      "5746                            TOURS LA RICHE\n",
      "865                            TOURS SUR MARNE\n",
      "5562                                   TOURVES\n",
      "112                       TOURVILLE LA RIVIERE\n",
      "202                     TRANS EN PROVENCEVENCE\n",
      "3429                                   TRAPPES\n",
      "519                                     TREBES\n",
      "786                                 TREBEURDEN\n",
      "5439                          TREFFORT CUISIAT\n",
      "731                                   TREGUEUX\n",
      "5906                                   TREGUNC\n",
      "1393                                  TREIGNAC\n",
      "1372                                 TRELISSAC\n",
      "3663                                  TREMBLAY\n",
      "2252                        TREMBLAY EN FRANCE\n",
      "937                                   TREMUSON\n",
      "2507                                     TRETS\n",
      "1941                                 TREVENANS\n",
      "2803                                   TREVOUX\n",
      "6378                            TRIE SUR BAISE\n",
      "4969                                   TRIGNAC\n",
      "2990                                  TRILPORT\n",
      "2076                            TRITH ST LEGER\n",
      "5241                                   TRONGET\n",
      "399                              TROSLY BREUIL\n",
      "486                                     TROYES\n",
      "5848                            TROYES MISSION\n",
      "1314                                   TULETTE\n",
      "7095                          TULETTE PROVENCE\n",
      "1420                                     TULLE\n",
      "1528                                   TULLINS\n",
      "6662                      TURCKHEIM GRANDE RUE\n",
      "2526                                     UGINE\n",
      "2793                                    UNIEUX\n",
      "1188                                    URCUIT\n",
      "3078                                       URT\n",
      "1423                                     USSEL\n",
      "6270                         USSEL SADI CARNOT\n",
      "1101                           USSONS EN FOREZ\n",
      "561                                    UZERCHE\n",
      "204                                       UZES\n",
      "5691                           UZES LIBERATION\n",
      "1707                           VABRES L ABBAYE\n",
      "2991                          VAIRES SUR MARNE\n",
      "5680                         VAISON LA ROMAINE\n",
      "4521                              VAL DE REUIL\n",
      "2056                                  VALBONNE\n",
      "6479                       VALBONNE GARBEJAIRE\n",
      "1328                                  VALENCAY\n",
      "1449                                   VALENCE\n",
      "1655                            VALENCE D AGEN\n",
      "7060                  VALENCE D AGEN NATIONALE\n",
      "6174                       VALENCE D ALBIGEOIS\n",
      "5708                 VALENCE MADIER DE MONTJAU\n",
      "5766                              VALENCE NORD\n",
      "5839                               VALENCE SUD\n",
      "2652                          VALENCE SUR BAIS\n",
      "2147                              VALENCIENNES\n",
      "5722                                 VALENSOLE\n",
      "2253                                  VALENTON\n",
      "7105                          VALENTON RASPAIL\n",
      "1770                                 VALLAURIS\n",
      "2709                                  VALLEIRY\n",
      "6281                      VALLIERES GRANDE RUE\n",
      "6848                                  VALLOIRE\n",
      "1490                         VALLON PONT D ARC\n",
      "749                                   VALOGNES\n",
      "6206                              VALRAS PLAGE\n",
      "1551                                   VALREAS\n",
      "6514                            VALREAS BRIAND\n",
      "5697                            VALS LES BAINS\n",
      "5764                          VALS PRES LE PUY\n",
      "157                                     VANNES\n",
      "5281                               VANNES PAIX\n",
      "5194                         VANNES ST VINCENT\n",
      "656                                     VANVES\n",
      "1596                                    VARCES\n",
      "5288                           VARENNES CHANGY\n",
      "1317                         VARENNES SOUS DUN\n",
      "2658                       VARENNES SUR ALLIER\n",
      "4201                        VARENNES SUR SEINE\n",
      "509                         VARENNES VAUZELLES\n",
      "7478             VARENNES VAUZELLES REPUBLIQUE\n",
      "3028                                     VATAN\n",
      "4537                                 VAUCELLES\n",
      "568                                VAUCOULEURS\n",
      "5330                                 VAUGNERAY\n",
      "7360                            VAUJOURS MEAUX\n",
      "201                             VAULX EN VELIN\n",
      "864                                    VAUREAL\n",
      "1218                                   VAUVERT\n",
      "6587                    VAUX AUBIGNY CHAMPAGNE\n",
      "1055                             VAUX LE PENIL\n",
      "7116                         VAUX SOUS AUBIGNY\n",
      "1410                              VAUX SUR MER\n",
      "940                                    VAZERAC\n",
      "2773                                   VEAUCHE\n",
      "5161                           VEAUCHE LAURENT\n",
      "547                                     VEIGNE\n",
      "377                                     VELAUX\n",
      "2193                                    VELIZY\n",
      "5661                                     VENCE\n",
      "810                            VENDIN LE VIEIL\n",
      "2078                        VENDIN LES BETHUNE\n",
      "1322                                   VENDOME\n",
      "2854                           VENDOME ST OUEN\n",
      "1771                                  VENELLES\n",
      "1640                                  VENERQUE\n",
      "55                                     VENETTE\n",
      "987                         VENEUX LES SABLONS\n",
      "36                                  VENISSIEUX\n",
      "5946                             VENISSIEUX II\n",
      "6000                    VENISSIEUX MARCEL PAUL\n",
      "1773                                 VENTABREN\n",
      "5026                                    VERDUN\n",
      "979                         VERDUN SUR GARONNE\n",
      "2013                                    VERETZ\n",
      "1841                                   VERFEIL\n",
      "1391                                     VERGT\n",
      "5316                                 VERNAISON\n",
      "4772                                    VERNET\n",
      "1923                          VERNET LES BAINS\n",
      "4856                          VERNEUIL L ETANG\n",
      "2661                   VERNEUIL SUR A PT ROUGE\n",
      "442                          VERNEUIL SUR AVRE\n",
      "129                                     VERNON\n",
      "675                                VERNOUILLET\n",
      "5534                     VERNOUILLET DE GAULLE\n",
      "5142                                   VERNOUX\n",
      "1454                       VERNOUX EN VIVARAIS\n",
      "1263                                   VERQUIN\n",
      "1033                      VERRIERES LE BUISSON\n",
      "2398                                VERSAILLES\n",
      "3291                         VERSAILLES SATORY\n",
      "1151                             VERT LE PETIT\n",
      "6504                        VERTOLAYE LE BOURG\n",
      "2094                                    VERTON\n",
      "2980                                    VERTUS\n",
      "311                                    VERVINS\n",
      "1209                                    VESOUL\n",
      "699                            VETRAZ MONTHOUX\n",
      "5971                                   VEUZAIN\n",
      "2121                                    VEYNES\n",
      "5402                      VEYRIER LA TOURNETTE\n",
      "6127                                 VEZERONCE\n",
      "7255                    VEZIN LE COQUET RENNES\n",
      "2984                                   VIARMES\n",
      "869                                       VIAS\n",
      "7505                           VIAS DRAGONIERE\n",
      "4505                                   VIBRAYE\n",
      "453                             VIC EN BIGORRE\n",
      "1631                              VIC FEZENSAC\n",
      "6461                 VIC LE COMTE JEU DE PAUME\n",
      "281                              VIC SUR AISNE\n",
      "637                               VIC SUR CERE\n",
      "3512                                     VICHY\n",
      "5229                           VICHY CELESTINS\n",
      "5231                              VICHY JAURES\n",
      "384                                   VIDAUBAN\n",
      "5576                           VIDAUBAN WILSON\n",
      "760                               VIEILLEVIGNE\n",
      "6430                    VIELLE ST GIRONS BOURG\n",
      "7510                  VIELLE ST GIRONS EUROSOL\n",
      "262                                     VIENNE\n",
      "1833                             VIENNE EN VAL\n",
      "6446                          VIENNE ROMESTANG\n",
      "1340                                   VIERZON\n",
      "882                                VIEUX THANN\n",
      "861                     VIEUX VY SUR  COUESNON\n",
      "5409                                       VIF\n",
      "2567                     VIGGIANELLO PROPRIANO\n",
      "1051                                   VIGNEUX\n",
      "1986                         VIGNEUX SUR SEINE\n",
      "4831                                   VIHIERS\n",
      "1031                          VILETTE D ANTHON\n",
      "77                                     VILLABE\n",
      "7457                              VILLAGE NEUF\n",
      "5028                        VILLAINES LA JUHEL\n",
      "1506                           VILLARD DE LANS\n",
      "1497                         VILLARD SUR DORON\n",
      "1495                       VILLARDS SUR THONES\n",
      "6849                         VILLAREMBERT VEGA\n",
      "5158                                   VILLARS\n",
      "5731                           VILLARS COLMARS\n",
      "3180                               VILLE AVRAY\n",
      "7341                       VILLE D AVRAY MARNE\n",
      "1001                       VILLEBON SUR YVETTE\n",
      "6375                     VILLECOMTAL SUR ARROS\n",
      "1077                              VILLECRESNES\n",
      "1822                      VILLEDIEU LA BLOUERE\n",
      "4893                      VILLEDIEU LES POELES\n",
      "7052                       VILLEDIEU SUR INDRE\n",
      "5923                      VILLEFONTAINE GREMDA\n",
      "6679                              VILLEFRANCHE\n",
      "6866              VILLEFRANCHE D ALLIER V,HUGO\n",
      "6699              VILLEFRANCHE D ALLIER V.HUGO\n",
      "2014                      VILLEFRANCHE DE LAUR\n",
      "6183             VILLEFRANCHE DE PANAT ROSIERE\n",
      "143                       VILLEFRANCHE DE ROUE\n",
      "7380                  VILLEFRANCHE DE ROUERGUE\n",
      "6842                           VILLEFRANCHE RN\n",
      "6480                      VILLEFRANCHE SUR MER\n",
      "5640                 VILLEFRANCHE SUR MER FOCH\n",
      "1628                  VILLEFRANCHE SUR ROUERGU\n",
      "1548                    VILLEFRANCHE SUR SAONE\n",
      "167                                  VILLEJUIF\n",
      "1534                      VILLEMAGNE L ARGENTI\n",
      "991                               VILLEMANDEUR\n",
      "3884                     VILLEMOISSON SUR ORGE\n",
      "4043                              VILLEMOLAQUE\n",
      "3246                               VILLEMOMBLE\n",
      "1006                               VILLEMONBLE\n",
      "7431                          VILLEMOUSTAUSSOU\n",
      "4411                         VILLEMUR SUR TARN\n",
      "3818                        VILLEN SUR GEORGES\n",
      "1834                      VILLENAUXE LA GRANDE\n",
      "5045                         VILLENAVE D ORNON\n",
      "1973                         VILLENEUVE D ASCQ\n",
      "1857                        VILLENEUVE DE BERG\n",
      "2066                      VILLENEUVE DE MARSAN\n",
      "3011                      VILLENEUVE L ARCHEVE\n",
      "133                       VILLENEUVE LA GARENN\n",
      "4233                     VILLENEUVE LA GARENNE\n",
      "5340              VILLENEUVE LA GARENNE PONANT\n",
      "997                       VILLENEUVE LA GUYARD\n",
      "3829                       VILLENEUVE LE COMTE\n",
      "983                          VILLENEUVE LE ROI\n",
      "2523                    VILLENEUVE LES AVIGNON\n",
      "2580                    VILLENEUVE LES BEZIERS\n",
      "1489                      VILLENEUVE LES MAGUE\n",
      "665                          VILLENEUVE LOUBET\n",
      "6902              VILLENEUVE LOUBET LIBERATION\n",
      "1068                      VILLENEUVE ST GEORGE\n",
      "3304                     VILLENEUVE ST GEORGES\n",
      "1745                        VILLENEUVE SUR LOT\n",
      "3700                        VILLENEUVE SUR ROI\n",
      "5854                      VILLENEUVE SUR YONNE\n",
      "776                        VILLENNES SUR SEINE\n",
      "4052                              VILLEPARISIS\n",
      "3366                                VILLEPINTE\n",
      "2445                                VILLEPREUX\n",
      "1623                                 VILLEREAL\n",
      "2475                            VILLERS BOCAGE\n",
      "2589                         VILLERS COTTERETS\n",
      "351                          VILLERS LES NANCY\n",
      "285                           VILLERS OUTREAUX\n",
      "2966                      VILLERS SOUS  ST LEU\n",
      "826                            VILLERS ST PAUL\n",
      "1211                               VILLERSEXEL\n",
      "934                         VILLETTE DE VIENNE\n",
      "35                                VILLEURBANNE\n",
      "5353                      VILLEURBANNE ALLENDE\n",
      "6114                   VILLEURBANNE CHARPENNES\n",
      "7283                    VILLEURBANNE CONDORCET\n",
      "1991                         VILLEURBANNE GARE\n",
      "2587                       VILLEURBANNE GD CLE\n",
      "1191                           VILLEURBANNE II\n",
      "6520                     VILLEURBANNE MALHERBE\n",
      "7371                   VILLEURBANNE PERRALIERE\n",
      "6530                      VILLEURBANNE TOLSTOI\n",
      "1987                        VILLEURBANNE TOTEM\n",
      "2610                              VILLEVIEILLE\n",
      "5453                             VILLIE MORGON\n",
      "47                           VILLIERS EN BIERE\n",
      "4471                           VILLIERS LE BEL\n",
      "2421                      VILLIERS ST FREDERIC\n",
      "3477                        VILLIERS SUR MARNE\n",
      "6987                  VILLIERS SUR ORGE JAURES\n",
      "2541                                VIMOUTIERS\n",
      "7437                     VINCA ROUTE NATIONALE\n",
      "456                                  VINCENNES\n",
      "1331                                   VINEUIL\n",
      "6642                                   VINNEUF\n",
      "2530                          VINON SUR VERDON\n",
      "510                                       VIRE\n",
      "346                             VIREUX MOLHAIN\n",
      "4498                                    VIRIAT\n",
      "5452                           VIRIEU LE GRAND\n",
      "5347                        VIRIEU SUR BOURBRE\n",
      "3445                                  VIROFLAY\n",
      "1041                            VIRY CHATILLON\n",
      "291                              VIS EN ARTOIS\n",
      "841                                      VITRE\n",
      "45                                   VITROLLES\n",
      "2636                                     VITRY\n",
      "1084                         VITRY LE FRANCOIS\n",
      "3265                           VITRY SUR SEINE\n",
      "2335                                    VITTEL\n",
      "6696                          VITTEL ST MARTIN\n",
      "5975                            VIUZ EN SALLAZ\n",
      "1468                            VIVIERS DU LAC\n",
      "1693                                    VIVIEZ\n",
      "1599                                   VIZILLE\n",
      "181                                     VOIRON\n",
      "3003                     VOISINS LE BRETONNEUX\n",
      "522                                VOLGELSHEIM\n",
      "926                                     VONNAS\n",
      "5404                                   VOREPPE\n",
      "375                            VOREY SUR ARZON\n",
      "4476                                   VOUILLE\n",
      "7053                       VOUNEUIL SUR VIENNE\n",
      "6954                                   VOURLES\n",
      "2956                                  VOUZIERS\n",
      "1256                                     VOVES\n",
      "7467                                VUILLAFANS\n",
      "6033                        VULAINES SUR SEINE\n",
      "1524                                   VULBENS\n",
      "245                               WALDIGHOFFEN\n",
      "251                               WARMERIVILLE\n",
      "159                                  WASQUEHAL\n",
      "1056                                     WASSY\n",
      "4588                                WATTIGNIES\n",
      "2525                                    WAVRIN\n",
      "4408                                   WERVICQ\n",
      "1955                                  WIMEREUX\n",
      "2095                                   WIMILLE\n",
      "2036                                   WINGLES\n",
      "3004                           WITRY LES REIMS\n",
      "700                                   WIZERNES\n",
      "2616                                     YENNE\n",
      "1028                                    YERRES\n",
      "3995                                  YERVILLE\n",
      "1546                                YSSINGEAUX\n",
      "2068                                      YUTZ\n",
      "1743                                     YVRAC\n",
      "2568                                    YZEURE\n",
      "7229                              YZEURE FERRY\n",
      "1421                        YZEURES SUR CREUSE\n",
      "1617                                    YZOSSE\n"
     ]
    },
    {
     "name": "stdout",
     "output_type": "stream",
     "text": [
      "36694 3049 1557\n",
      "4606 3978 188 440\n",
      "(8024, 9) 3978\n",
      "(1074, 4) 628\n"
     ]
    }
   ],
   "source": [
    "\"\"\" Sell-out formatting \"\"\"\n",
    "file_name = 'sell_out_dts_clean.csv'\n",
    "sell_out_data = (io.read_csv(PATH_DATA_FORMATTED, file_name, \n",
    "                             usecols=[n.FIELD_CUSTOMER, n.FIELD_STORE_NAME, n.FIELD_CITY])\n",
    "                 .drop_duplicates([n.FIELD_CUSTOMER, n.FIELD_STORE_NAME]))\n",
    "sell_out_data[n.FIELD_CUSTOMER] = sell_out_data[n.FIELD_CUSTOMER].str.upper()\n",
    "sell_out = clean_stores_city_field()\n",
    "print(sell_out[[n.FIELD_CUSTOMER, n.FIELD_STORE_NAME]].drop_duplicates().shape)\n",
    "print(sell_out[[n.FIELD_CITY]].drop_duplicates().sort_values(n.FIELD_CITY).to_string());\n",
    "\n",
    "\"\"\" List of matched stores & input web scrapper \"\"\"\n",
    "cities = format_official_insee_city_list()\n",
    "stores_list, no_stores = match_sell_out_cleaned_store_field(sell_out, cities)\n",
    "no_stores.to_csv('missing_match_store_v2.csv')\n",
    "stores_list.to_csv('stores_list_1.csv')"
   ]
  },
  {
   "cell_type": "code",
   "execution_count": null,
   "metadata": {},
   "outputs": [],
   "source": []
  },
  {
   "cell_type": "code",
   "execution_count": 25,
   "metadata": {},
   "outputs": [
    {
     "name": "stderr",
     "output_type": "stream",
     "text": [
      "/home/ubuntu/.conda/envs/carlsberg/lib/python3.6/site-packages/IPython/core/interactiveshell.py:3185: DtypeWarning: Columns (0,1,6,8) have mixed types. Specify dtype option on import or set low_memory=False.\n",
      "  if (yield from self.run_code(code, result)):\n"
     ]
    }
   ],
   "source": []
  },
  {
   "cell_type": "code",
   "execution_count": 55,
   "metadata": {},
   "outputs": [],
   "source": []
  },
  {
   "cell_type": "code",
   "execution_count": 56,
   "metadata": {},
   "outputs": [],
   "source": [
    "import unicodedata\n",
    "def standardize_name(serie):\n",
    "    return (serie\n",
    "            .str.replace('|'.join(['-', '\\'']), ' ')\n",
    "            .str.upper()\n",
    "            .apply(lambda x: unicodedata.normalize('NFKD', x).encode('ASCII', 'ignore').decode())\n",
    "            .str.replace('SAINT', 'ST')\n",
    "           )\n",
    "\n",
    "def create_city_key(serie):\n",
    "    articles = '|'.join(['LE ', 'LA ', 'LES ', ' LES', ' LE', ' LA', ])\n",
    "    serie = serie.str.replace(articles, '')\n",
    "    return serie.str.split().str.join(sep='').str.strip()\n",
    "\n",
    "sell_out_data['city_clean'] = standardize_name(sell_out_data['city_clean'])\n",
    "sell_out_data['key'] = create_city_key(sell_out_data['city_clean'])"
   ]
  },
  {
   "cell_type": "code",
   "execution_count": 61,
   "metadata": {},
   "outputs": [],
   "source": [
    "def merge_with_official_city_table(df, cities_table, col_merge, cols_check):\n",
    "    \"\"\" Function to keep the best match based on city name & zip code \"\"\"\n",
    "    df = (df.merge(cities_table, on=col_merge, how='left', suffixes=['_org', '']))\n",
    "    \n",
    "    df['filter'] = (df[cols_check[0]] == df[cols_check[1]]) | (df[cols_check[0]].isnull())\n",
    "    df = (df\n",
    "          .sort_values(['filter'], ascending=False)\n",
    "          .drop_duplicates([n.FIELD_CUSTOMER, n.FIELD_STORE_NAME]))\n",
    "    return df"
   ]
  },
  {
   "cell_type": "code",
   "execution_count": 109,
   "metadata": {},
   "outputs": [],
   "source": []
  },
  {
   "cell_type": "code",
   "execution_count": 110,
   "metadata": {},
   "outputs": [],
   "source": []
  },
  {
   "cell_type": "code",
   "execution_count": 113,
   "metadata": {},
   "outputs": [
    {
     "data": {
      "text/html": [
       "<div>\n",
       "<style scoped>\n",
       "    .dataframe tbody tr th:only-of-type {\n",
       "        vertical-align: middle;\n",
       "    }\n",
       "\n",
       "    .dataframe tbody tr th {\n",
       "        vertical-align: top;\n",
       "    }\n",
       "\n",
       "    .dataframe thead th {\n",
       "        text-align: right;\n",
       "    }\n",
       "</style>\n",
       "<table border=\"1\" class=\"dataframe\">\n",
       "  <thead>\n",
       "    <tr style=\"text-align: right;\">\n",
       "      <th></th>\n",
       "      <th>customer</th>\n",
       "      <th>store</th>\n",
       "      <th>city</th>\n",
       "      <th>zip_code</th>\n",
       "      <th>iris_code_commune</th>\n",
       "    </tr>\n",
       "  </thead>\n",
       "  <tbody>\n",
       "    <tr>\n",
       "      <th>0</th>\n",
       "      <td>Leaderprice</td>\n",
       "      <td>BEAUREDIS</td>\n",
       "      <td>PARIS</td>\n",
       "      <td>75010</td>\n",
       "      <td>75056</td>\n",
       "    </tr>\n",
       "    <tr>\n",
       "      <th>582</th>\n",
       "      <td>Franprix</td>\n",
       "      <td>BAZAR MONDIAL</td>\n",
       "      <td>PARIS</td>\n",
       "      <td>75020</td>\n",
       "      <td>75056</td>\n",
       "    </tr>\n",
       "    <tr>\n",
       "      <th>571</th>\n",
       "      <td>Franprix</td>\n",
       "      <td>ALIMENTATION SUPER BOURET</td>\n",
       "      <td>PARIS</td>\n",
       "      <td>75019</td>\n",
       "      <td>75056</td>\n",
       "    </tr>\n",
       "    <tr>\n",
       "      <th>572</th>\n",
       "      <td>Franprix</td>\n",
       "      <td>FPX  PARMENTIER ALIMENTAIRE</td>\n",
       "      <td>PARIS</td>\n",
       "      <td>75011</td>\n",
       "      <td>75056</td>\n",
       "    </tr>\n",
       "    <tr>\n",
       "      <th>573</th>\n",
       "      <td>Franprix</td>\n",
       "      <td>SOGIPOISSONNIERE</td>\n",
       "      <td>PARIS</td>\n",
       "      <td>75010</td>\n",
       "      <td>75056</td>\n",
       "    </tr>\n",
       "  </tbody>\n",
       "</table>\n",
       "</div>"
      ],
      "text/plain": [
       "        customer                        store   city zip_code  \\\n",
       "0    Leaderprice                    BEAUREDIS  PARIS    75010   \n",
       "582     Franprix                BAZAR MONDIAL  PARIS    75020   \n",
       "571     Franprix    ALIMENTATION SUPER BOURET  PARIS    75019   \n",
       "572     Franprix  FPX  PARMENTIER ALIMENTAIRE  PARIS    75011   \n",
       "573     Franprix             SOGIPOISSONNIERE  PARIS    75010   \n",
       "\n",
       "    iris_code_commune  \n",
       "0               75056  \n",
       "582             75056  \n",
       "571             75056  \n",
       "572             75056  \n",
       "573             75056  "
      ]
     },
     "execution_count": 113,
     "metadata": {},
     "output_type": "execute_result"
    }
   ],
   "source": [
    "tmp_matched.head()"
   ]
  },
  {
   "cell_type": "code",
   "execution_count": 207,
   "metadata": {},
   "outputs": [],
   "source": []
  },
  {
   "cell_type": "code",
   "execution_count": 208,
   "metadata": {},
   "outputs": [],
   "source": []
  },
  {
   "cell_type": "code",
   "execution_count": 209,
   "metadata": {},
   "outputs": [],
   "source": []
  },
  {
   "cell_type": "code",
   "execution_count": null,
   "metadata": {},
   "outputs": [],
   "source": [
    "matched = "
   ]
  },
  {
   "cell_type": "code",
   "execution_count": null,
   "metadata": {},
   "outputs": [],
   "source": []
  },
  {
   "cell_type": "code",
   "execution_count": 13,
   "metadata": {},
   "outputs": [
    {
     "data": {
      "text/plain": [
       "' WEB SCRAPPER '"
      ]
     },
     "execution_count": 13,
     "metadata": {},
     "output_type": "execute_result"
    }
   ],
   "source": [
    "\"\"\" WEB SCRAPPER \"\"\""
   ]
  },
  {
   "cell_type": "code",
   "execution_count": 14,
   "metadata": {},
   "outputs": [],
   "source": [
    "import pandas as pd\n",
    "import numpy as np\n",
    "import json\n",
    "import requests\n",
    "import time\n",
    "import math\n",
    "\n",
    "# Find geo_loc function\n",
    "def get_geo_codes(address):\n",
    "    key = '6j_USCas00Jqmpj2EFtKe18nLWPylj0gPTOLeBypt9U'\n",
    "    apiversion = 1.0\n",
    "    url = 'https://atlas.microsoft.com/search/fuzzy/json'\n",
    "    parameters = {'Content-Type': 'application/json', 'subscription-key': key,\n",
    "                  'api-version': apiversion, 'query': address}\n",
    "    response = requests.get(url, parameters)\n",
    "\n",
    "    return response.json()\n",
    "\n",
    "\n",
    "def correct_location(j_son, country_code='FR'):\n",
    "    res = j_son['results']\n",
    "    found_french = False\n",
    "    for i in range(len(res)):\n",
    "        if res[i]['address']['countryCode'] == 'FR':\n",
    "            found_french = True\n",
    "            break\n",
    "    if found_french:\n",
    "        lat = res[i]['position']['lat']\n",
    "        lon = res[i]['position']['lon']\n",
    "        try:\n",
    "            municipality = res[i]['address']['municipality']\n",
    "        except:\n",
    "            municipality = np.nan\n",
    "        try:\n",
    "            postal_code = res[i]['address']['postalCode']\n",
    "        except:\n",
    "            postal_code = np.nan\n",
    "        try:\n",
    "            countrySubdivision = res[i]['address']['countrySubdivision']\n",
    "        except:\n",
    "            countrySubdivision = np.nan\n",
    "        try:\n",
    "            countrySecondarySubdivision = res[i]['address']['countrySecondarySubdivision']\n",
    "        except:\n",
    "            countrySecondarySubdivision = np.nan\n",
    "    if not found_french:\n",
    "        lat = lon = municipality = postal_code = countrySubdivision = countrySecondarySubdivision = np.nan\n",
    "    return lat, lon, municipality, postal_code, countrySubdivision, countrySecondarySubdivision\n",
    "\n",
    "\n",
    "def scrap_addresses_from_web(missed_stores):\n",
    "    # Runs scrapping with combined names\n",
    "    start = time.time()\n",
    "    result_addresses = pd.DataFrame()\n",
    "    count = 0\n",
    "\n",
    "    for index, row in missed_stores.iterrows():\n",
    "        city_name = str(row['comb_name'])+\", France\"\n",
    "        lat, lon, municipality, postal_code, countrySubdivision, countrySecondarySubdivision = correct_location(get_geo_codes(city_name))\n",
    "        t = {'store': [row['store']], 'lat': [lat], 'lon': [lon], 'municipality': [municipality],\n",
    "             'postal_code': [postal_code], 'countrySubdivision': [countrySubdivision], 'countrySecondarySubdivision': [countrySecondarySubdivision]}\n",
    "        temp = pd.DataFrame(data=t)\n",
    "        result_addresses = result_addresses.append(temp)\n",
    "        count += 1 \n",
    "        end = time.time()\n",
    "        print(\"Web scrapping at : {0}% which took {1} seconds to run.\".format(round(100*(count/len(missed_stores)),3),round(end - start)))\n",
    "\n",
    "    missed_stores_results = pd.merge(missed_stores, result_addresses, on=[\"store\"], how=\"left\")\n",
    "    return missed_stores_results\n",
    "\n",
    "\n",
    "def get_indivual_scrapped_address(address):\n",
    "    j_son = get_geo_codes(address + ', france')\n",
    "    return j_son['results']\n",
    "    "
   ]
  },
  {
   "cell_type": "code",
   "execution_count": 15,
   "metadata": {},
   "outputs": [],
   "source": [
    "import os\n",
    "import sys\n",
    "import pandas as pd\n",
    "\n",
    "sys.path.append('../')\n",
    "pd.set_option('max_rows', 250)\n",
    "pd.set_option('max_columns', 250)\n",
    "pd.options.mode.chained_assignment = None\n",
    "\n",
    "import util.input_output as io\n",
    "import preprocessor.names as n\n",
    "from util.paths import PATH_DATA_RAW, PATH_DATA_FORMATTED\n",
    "import unicodedata\n",
    "\n",
    "\n",
    "relevant_columns = [\n",
    "    n.FIELD_CUSTOMER,\n",
    "    n.FIELD_STORE_NAME,\n",
    "    'zip_code',\n",
    "    'lat_city',\n",
    "    'lon_city',\n",
    "    'city',\n",
    "    'iris_code_commune'\n",
    "]\n",
    "\n",
    "\n",
    "def standardize_name(serie):\n",
    "    return (serie\n",
    "            .str.replace('|'.join(['-', '\\'']), ' ')\n",
    "            .str.upper()\n",
    "            .apply(lambda x: unicodedata.normalize('NFKD', x).encode('ASCII', 'ignore').decode())\n",
    "            .str.replace('SAINT', 'ST')\n",
    "           )\n",
    "\n",
    "def create_city_key(serie):\n",
    "    articles = '|'.join(['LE ', 'LA ', 'LES ', ' LES', ' LE', ' LA', ])\n",
    "    serie = serie.str.replace(articles, '')\n",
    "    return serie.str.split().str.join(sep='').str.strip()\n",
    "\n",
    "\n",
    "def merge_with_official_city_table(df, cities_table, col_merge, cols_check):\n",
    "    \"\"\" Function to keep the best match based on city name & zip code \"\"\"\n",
    "    df = (df.merge(cities_table, on=col_merge, how='left', suffixes=['_org', '']))\n",
    "    \n",
    "    df['filter'] = (df[cols_check[0]] == df[cols_check[1]]) | (df[cols_check[0]].isnull())\n",
    "    df = (df\n",
    "          .sort_values(['filter'], ascending=False)\n",
    "          .drop_duplicates([n.FIELD_CUSTOMER, n.FIELD_STORE_NAME]))\n",
    "    return df\n",
    "\n",
    "\n",
    "def format_official_insee_city_list():\n",
    "    city_location = (io.read_csv(PATH_DATA_RAW, 'insee', 'insee_data_cities_cleaned.csv', index_col=0)\n",
    "                     .rename(columns={'codeinsee': 'iris_code_commune'})\n",
    "                     .filter([n.FIELD_CITY, 'zip_code', 'latitude', 'longitude', 'iris_code_commune']))\n",
    "\n",
    "    city_location[n.FIELD_CITY] = city_location[n.FIELD_CITY].str.replace('\\\\', ' ')\n",
    "    city_location['key'] = standardize_name(city_location[n.FIELD_CITY])\n",
    "    city_location['key'] = create_city_key(city_location['key'])\n",
    "    \n",
    "    for col in ['zip_code', 'iris_code_commune']:\n",
    "        city_location[col] = city_location[col].astype(str).str.zfill(5)\n",
    "    \n",
    "    city_location['code'] = city_location['zip_code'].astype(str).str[:2]\n",
    "    return city_location.drop_duplicates()\n",
    "\n",
    "\n",
    "def format_official_insee_department_list():\n",
    "    departments = (io.read_csv(PATH_DATA_RAW, 'insee', 'departments.csv', encoding='utf-8')\n",
    "                   .filter(['code', 'name'])\n",
    "                   .rename(columns={'name': 'countrySecondarySubdivision'}))\n",
    "    departments['countrySecondarySubdivision'] = standardize_name(departments['countrySecondarySubdivision'])\n",
    "    return departments\n",
    "    \n",
    "\n",
    "def split_scrapper_output(missed_stores_results):\n",
    "    relevant_columns = [\n",
    "        'customer', \n",
    "        'store',\n",
    "        'lat', \n",
    "        'lon',\n",
    "        'municipality', \n",
    "        'postal_code',\n",
    "        'countrySecondarySubdivision'\n",
    "    ]\n",
    "\n",
    "    missed_stores_results = (missed_stores_results\n",
    "                             .filter(relevant_columns)\n",
    "                             .rename(columns={'postal_code': 'zip_code', 'municipality': 'city'}))\n",
    "\n",
    "    idx = missed_stores_results['zip_code'].isnull()\n",
    "    missing_stores, matched_stores = missed_stores_results[idx], missed_stores_results[~idx]\n",
    "    print(missing_stores.shape, matched_stores.shape)\n",
    "    \n",
    "    return matched_stores, missing_stores\n",
    "\n",
    "\n",
    "def match_complete_records_with_insee_official_city_list(matched_stores, missing_stores, cities):\n",
    "    \"\"\" Stores with known city & zip code fields \"\"\"\n",
    "    matched_stores[n.FIELD_CITY] = matched_stores[n.FIELD_CITY].fillna(\n",
    "        matched_stores['zip_code'].map(cities[[n.FIELD_CITY, 'zip_code']].set_index('zip_code').to_dict()[n.FIELD_CITY]))\n",
    "\n",
    "    matched_stores['key'] = standardize_name(matched_stores[n.FIELD_CITY])\n",
    "    matched_stores['key'] = create_city_key(matched_stores['key'])\n",
    "    matched_stores['code'] = matched_stores['zip_code'].astype(str).str[:2]\n",
    "    print(matched_stores.shape)\n",
    "\n",
    "    matched_stores = merge_with_official_city_table(matched_stores, cities, 'zip_code', ['key_org', 'key'])\n",
    "    print(matched_stores.shape)\n",
    "\n",
    "    idx = matched_stores[n.FIELD_CITY].isnull()\n",
    "    tmp = matched_stores[idx]\n",
    "    tmp = tmp.iloc[:, (~tmp.isnull().all(axis=0)).values]\n",
    "    tmp.columns = [col.replace('_org', '') for col in tmp.columns]\n",
    "    tmp = (merge_with_official_city_table(tmp, cities, 'key', ['code_org', 'code'])\n",
    "           .filter(relevant_columns))\n",
    "\n",
    "    matched_stores = pd.concat(\n",
    "        [matched_stores[~idx].filter(relevant_columns), tmp[tmp[n.FIELD_CITY].notnull()]], axis=0, sort=False)\n",
    "    missing_stores = (pd.concat([tmp[tmp[n.FIELD_CITY].isnull()], missing_stores], axis=0, sort=False)\n",
    "                      .filter(missing_stores.columns))\n",
    "    print(missing_stores.shape)\n",
    "\n",
    "    unknown_stores = missing_stores[missing_stores['city'].isnull()]\n",
    "    missing_stores = missing_stores[missing_stores['city'].notnull()]\n",
    "    print(unknown_stores.shape)\n",
    "    \n",
    "    return matched_stores, missing_stores, unknown_stores \n",
    "\n",
    "\n",
    "def match_incomplete_records_with_insee_official_city_list(matched_stores, missing_stores, unknown_stores, cities):\n",
    "    \"\"\" Stores with missing zip code field (or no match at previous step)\"\"\"\n",
    "    for col in ['city', 'countrySecondarySubdivision']:\n",
    "        missing_stores[col] = standardize_name(missing_stores[col].fillna(''))\n",
    "\n",
    "    columns = [\n",
    "        n.FIELD_CUSTOMER, \n",
    "        n.FIELD_STORE_NAME, \n",
    "        'lat_city', \n",
    "        'lon_city', \n",
    "        'city', \n",
    "        'code', \n",
    "        'countrySecondarySubdivision'\n",
    "    ]\n",
    "\n",
    "    missing_stores = (missing_stores\n",
    "                      .merge(counties, on='countrySecondarySubdivision', how='left')\n",
    "                      .filter(columns))\n",
    "\n",
    "    missing_stores['city'] = standardize_name(missing_stores['city'])\n",
    "    missing_stores['key'] = create_city_key(missing_stores['city'])\n",
    "    missing_stores = (merge_with_official_city_table(missing_stores, cities, 'key', ('code_org', 'code')))\n",
    "    tmp = missing_stores[missing_stores['filter'] == False]\n",
    "    missing_stores = missing_stores[missing_stores['filter'] == True].filter(relevant_columns)\n",
    "\n",
    "    potential_match = cities[['city', 'code', 'zip_code']]\n",
    "    for index, row in tmp.iterrows():\n",
    "        match = [x for x in potential_match['city'].unique() \n",
    "                 if row['city_org'].startswith(x) \n",
    "                 and set(row['city_org'].split()) & set(x.split())\n",
    "                ]\n",
    "\n",
    "        idx = potential_match['city'].isin(match)\n",
    "        if row['code_org']:\n",
    "            idx = idx & (potential_match['code'] == row['code_org'])\n",
    "        match2 = potential_match[idx][['city', 'zip_code']].values\n",
    "\n",
    "        if len(match2):\n",
    "            tmp.loc[index, 'city'] = match2[0][0]\n",
    "            tmp.loc[index, 'zip_code'] = match2[0][1] \n",
    "    #     print(row['city_org'], row['code_org'], match, match2)\n",
    "\n",
    "    tmp = merge_with_official_city_table(\n",
    "        tmp.filter(relevant_columns + ['code_org']), cities, 'zip_code', ('code_org', 'code'))\n",
    "\n",
    "    matched_stores = (pd.concat([matched_stores, missing_stores, tmp[tmp[n.FIELD_CITY].notnull()]], \n",
    "                                axis=0, sort=False)\n",
    "                      .filter(matched_stores.columns))\n",
    "    \n",
    "    unknown_stores = (pd.concat([unknown_stores, tmp[tmp[n.FIELD_CITY].isnull()]], sort=False)\n",
    "                      .filter(unknown_stores.columns))\n",
    "    print(unknown_stores.shape)\n",
    "    \n",
    "    return matched_stores, unknown_stores\n",
    "\n",
    "\n",
    "def manually_match_incomplete_records_with_insee_official_city_list(matched_stores, unknown_stores, cities):\n",
    "    \"\"\" Manual filling of few missing entries \"\"\"\n",
    "    manual_matches = [\n",
    "        ('LA BARRE', 'DEUIL LA BARRE'), \n",
    "        ('JUAN LES PINS', 'ANTIBES'),\n",
    "        ('MORET ', 'MORET SUR LOING'),\n",
    "        ('LE GRAND BORNAND', 'LE GRAND BORNAND'),\n",
    "        ('DISTRIJOLIE', 'MANTES LA JOLIE'),\n",
    "        ('EIFFELDIS', 'ISSY LES MOULINEAUX')\n",
    "        ()\n",
    "    ]\n",
    "    for old, new in manual_matches:\n",
    "        unknown_stores['city'] = unknown_stores['city'].where(\n",
    "            ~unknown_stores['store'].str.contains(old), new)\n",
    "\n",
    "    unknown_stores = (unknown_stores\n",
    "                      .filter([n.FIELD_CUSTOMER, n.FIELD_STORE_NAME, n.FIELD_CITY])\n",
    "                      .merge(cities[[n.FIELD_CITY, 'zip_code', 'iris_code_commune']], on=n.FIELD_CITY, how='left'))\n",
    "\n",
    "    matched_stores = pd.concat([matched_stores, unknown_stores[unknown_stores[n.FIELD_CITY].notnull()]], \n",
    "                               axis=0, sort=False)\n",
    "    \n",
    "    unknown_stores = unknown_stores[unknown_stores[n.FIELD_CITY].isnull()]\n",
    "    print(unknown_stores.shape)\n",
    "    \n",
    "    return matched_stores, unknown_stores\n"
   ]
  },
  {
   "cell_type": "code",
   "execution_count": 16,
   "metadata": {},
   "outputs": [
    {
     "name": "stderr",
     "output_type": "stream",
     "text": [
      "DEBUG 2019-03-06 14:08:58,528 Starting new HTTPS connection (1): atlas.microsoft.com:443\n",
      "DEBUG 2019-03-06 14:09:04,109 https://atlas.microsoft.com:443 \"GET /search/fuzzy/json?Content-Type=application%2Fjson&subscription-key=6j_USCas00Jqmpj2EFtKe18nLWPylj0gPTOLeBypt9U&api-version=1.0&query=CARREFOUR+BERCY+2%2C+France HTTP/1.1\" 200 1121\n",
      "DEBUG 2019-03-06 14:09:04,117 Starting new HTTPS connection (1): atlas.microsoft.com:443\n",
      "DEBUG 2019-03-06 14:09:04,196 https://atlas.microsoft.com:443 \"GET /search/fuzzy/json?Content-Type=application%2Fjson&subscription-key=6j_USCas00Jqmpj2EFtKe18nLWPylj0gPTOLeBypt9U&api-version=1.0&query=CARREFOUR+EVRY%2C+France HTTP/1.1\" 200 3816\n",
      "DEBUG 2019-03-06 14:09:04,204 Starting new HTTPS connection (1): atlas.microsoft.com:443\n",
      "DEBUG 2019-03-06 14:09:04,288 https://atlas.microsoft.com:443 \"GET /search/fuzzy/json?Content-Type=application%2Fjson&subscription-key=6j_USCas00Jqmpj2EFtKe18nLWPylj0gPTOLeBypt9U&api-version=1.0&query=CARREFOUR+LOMME%2C+France HTTP/1.1\" 200 6479\n",
      "DEBUG 2019-03-06 14:09:04,296 Starting new HTTPS connection (1): atlas.microsoft.com:443\n"
     ]
    },
    {
     "name": "stdout",
     "output_type": "stream",
     "text": [
      "Web scrapping at : 0.093% which took 6 seconds to run.\n",
      "Web scrapping at : 0.186% which took 6 seconds to run.\n",
      "Web scrapping at : 0.279% which took 6 seconds to run.\n"
     ]
    },
    {
     "name": "stderr",
     "output_type": "stream",
     "text": [
      "DEBUG 2019-03-06 14:09:04,494 https://atlas.microsoft.com:443 \"GET /search/fuzzy/json?Content-Type=application%2Fjson&subscription-key=6j_USCas00Jqmpj2EFtKe18nLWPylj0gPTOLeBypt9U&api-version=1.0&query=CARREFOUR+LA+PART+DIEU%28LYON%29+DIEU%2C+France HTTP/1.1\" 200 3184\n",
      "DEBUG 2019-03-06 14:09:04,502 Starting new HTTPS connection (1): atlas.microsoft.com:443\n"
     ]
    },
    {
     "name": "stdout",
     "output_type": "stream",
     "text": [
      "Web scrapping at : 0.372% which took 6 seconds to run.\n"
     ]
    },
    {
     "name": "stderr",
     "output_type": "stream",
     "text": [
      "DEBUG 2019-03-06 14:09:05,020 https://atlas.microsoft.com:443 \"GET /search/fuzzy/json?Content-Type=application%2Fjson&subscription-key=6j_USCas00Jqmpj2EFtKe18nLWPylj0gPTOLeBypt9U&api-version=1.0&query=CARREFOUR+STE+GENEVIEVE+DES+BO%2C+France HTTP/1.1\" 200 8170\n",
      "DEBUG 2019-03-06 14:09:05,028 Starting new HTTPS connection (1): atlas.microsoft.com:443\n",
      "DEBUG 2019-03-06 14:09:05,170 https://atlas.microsoft.com:443 \"GET /search/fuzzy/json?Content-Type=application%2Fjson&subscription-key=6j_USCas00Jqmpj2EFtKe18nLWPylj0gPTOLeBypt9U&api-version=1.0&query=CARREFOUR+VITROLLES%2C+France HTTP/1.1\" 200 8262\n",
      "DEBUG 2019-03-06 14:09:05,178 Starting new HTTPS connection (1): atlas.microsoft.com:443\n"
     ]
    },
    {
     "name": "stdout",
     "output_type": "stream",
     "text": [
      "Web scrapping at : 0.466% which took 7 seconds to run.\n",
      "Web scrapping at : 0.559% which took 7 seconds to run.\n"
     ]
    },
    {
     "name": "stderr",
     "output_type": "stream",
     "text": [
      "DEBUG 2019-03-06 14:09:05,264 https://atlas.microsoft.com:443 \"GET /search/fuzzy/json?Content-Type=application%2Fjson&subscription-key=6j_USCas00Jqmpj2EFtKe18nLWPylj0gPTOLeBypt9U&api-version=1.0&query=CARREFOUR+CHATEAUNEUF+LES+MART%2C+France HTTP/1.1\" 200 9256\n",
      "DEBUG 2019-03-06 14:09:05,272 Starting new HTTPS connection (1): atlas.microsoft.com:443\n",
      "DEBUG 2019-03-06 14:09:05,375 https://atlas.microsoft.com:443 \"GET /search/fuzzy/json?Content-Type=application%2Fjson&subscription-key=6j_USCas00Jqmpj2EFtKe18nLWPylj0gPTOLeBypt9U&api-version=1.0&query=CARREFOUR+ST+DENIS%2C+France HTTP/1.1\" 200 8981\n",
      "DEBUG 2019-03-06 14:09:05,382 Starting new HTTPS connection (1): atlas.microsoft.com:443\n"
     ]
    },
    {
     "name": "stdout",
     "output_type": "stream",
     "text": [
      "Web scrapping at : 0.652% which took 7 seconds to run.\n",
      "Web scrapping at : 0.745% which took 7 seconds to run.\n"
     ]
    },
    {
     "name": "stderr",
     "output_type": "stream",
     "text": [
      "DEBUG 2019-03-06 14:09:05,482 https://atlas.microsoft.com:443 \"GET /search/fuzzy/json?Content-Type=application%2Fjson&subscription-key=6j_USCas00Jqmpj2EFtKe18nLWPylj0gPTOLeBypt9U&api-version=1.0&query=CARREFOUR+BELLE+EPINE-RUNGIS+EPINE+RUNGIS%2C+France HTTP/1.1\" 200 4462\n",
      "DEBUG 2019-03-06 14:09:05,489 Starting new HTTPS connection (1): atlas.microsoft.com:443\n",
      "DEBUG 2019-03-06 14:09:05,576 https://atlas.microsoft.com:443 \"GET /search/fuzzy/json?Content-Type=application%2Fjson&subscription-key=6j_USCas00Jqmpj2EFtKe18nLWPylj0gPTOLeBypt9U&api-version=1.0&query=CARREFOUR+MONTREUIL%2C+France HTTP/1.1\" 200 7435\n",
      "DEBUG 2019-03-06 14:09:05,583 Starting new HTTPS connection (1): atlas.microsoft.com:443\n",
      "DEBUG 2019-03-06 14:09:05,676 https://atlas.microsoft.com:443 \"GET /search/fuzzy/json?Content-Type=application%2Fjson&subscription-key=6j_USCas00Jqmpj2EFtKe18nLWPylj0gPTOLeBypt9U&api-version=1.0&query=CARREFOUR+MONACO%2C+France HTTP/1.1\" 200 5607\n",
      "DEBUG 2019-03-06 14:09:05,684 Starting new HTTPS connection (1): atlas.microsoft.com:443\n"
     ]
    },
    {
     "name": "stdout",
     "output_type": "stream",
     "text": [
      "Web scrapping at : 0.838% which took 7 seconds to run.\n",
      "Web scrapping at : 0.931% which took 7 seconds to run.\n",
      "Web scrapping at : 1.024% which took 7 seconds to run.\n"
     ]
    },
    {
     "name": "stderr",
     "output_type": "stream",
     "text": [
      "DEBUG 2019-03-06 14:09:05,780 https://atlas.microsoft.com:443 \"GET /search/fuzzy/json?Content-Type=application%2Fjson&subscription-key=6j_USCas00Jqmpj2EFtKe18nLWPylj0gPTOLeBypt9U&api-version=1.0&query=CARREFOUR+MOULINS%2C+France HTTP/1.1\" 200 7623\n",
      "DEBUG 2019-03-06 14:09:05,789 Starting new HTTPS connection (1): atlas.microsoft.com:443\n",
      "DEBUG 2019-03-06 14:09:05,874 https://atlas.microsoft.com:443 \"GET /search/fuzzy/json?Content-Type=application%2Fjson&subscription-key=6j_USCas00Jqmpj2EFtKe18nLWPylj0gPTOLeBypt9U&api-version=1.0&query=CARREFOUR+LAVAL%2C+France HTTP/1.1\" 200 8307\n",
      "DEBUG 2019-03-06 14:09:05,883 Starting new HTTPS connection (1): atlas.microsoft.com:443\n",
      "DEBUG 2019-03-06 14:09:05,971 https://atlas.microsoft.com:443 \"GET /search/fuzzy/json?Content-Type=application%2Fjson&subscription-key=6j_USCas00Jqmpj2EFtKe18nLWPylj0gPTOLeBypt9U&api-version=1.0&query=CARREFOUR+MERIGNAC%2C+France HTTP/1.1\" 200 8311\n",
      "DEBUG 2019-03-06 14:09:05,979 Starting new HTTPS connection (1): atlas.microsoft.com:443\n"
     ]
    },
    {
     "name": "stdout",
     "output_type": "stream",
     "text": [
      "Web scrapping at : 1.117% which took 7 seconds to run.\n",
      "Web scrapping at : 1.21% which took 7 seconds to run.\n",
      "Web scrapping at : 1.304% which took 7 seconds to run.\n"
     ]
    },
    {
     "name": "stderr",
     "output_type": "stream",
     "text": [
      "DEBUG 2019-03-06 14:09:06,064 https://atlas.microsoft.com:443 \"GET /search/fuzzy/json?Content-Type=application%2Fjson&subscription-key=6j_USCas00Jqmpj2EFtKe18nLWPylj0gPTOLeBypt9U&api-version=1.0&query=CARREFOUR+CARRE+SENART%2C+France HTTP/1.1\" 200 2777\n",
      "DEBUG 2019-03-06 14:09:06,071 Starting new HTTPS connection (1): atlas.microsoft.com:443\n",
      "DEBUG 2019-03-06 14:09:06,155 https://atlas.microsoft.com:443 \"GET /search/fuzzy/json?Content-Type=application%2Fjson&subscription-key=6j_USCas00Jqmpj2EFtKe18nLWPylj0gPTOLeBypt9U&api-version=1.0&query=CARREFOUR+GOUSSAINVILLE%2C+France HTTP/1.1\" 200 5526\n",
      "DEBUG 2019-03-06 14:09:06,163 Starting new HTTPS connection (1): atlas.microsoft.com:443\n"
     ]
    },
    {
     "name": "stdout",
     "output_type": "stream",
     "text": [
      "Web scrapping at : 1.397% which took 8 seconds to run.\n",
      "Web scrapping at : 1.49% which took 8 seconds to run.\n"
     ]
    },
    {
     "name": "stderr",
     "output_type": "stream",
     "text": [
      "DEBUG 2019-03-06 14:09:06,800 https://atlas.microsoft.com:443 \"GET /search/fuzzy/json?Content-Type=application%2Fjson&subscription-key=6j_USCas00Jqmpj2EFtKe18nLWPylj0gPTOLeBypt9U&api-version=1.0&query=CARREFOUR+ST+GEORGES+DES+GROSE%2C+France HTTP/1.1\" 200 7570\n",
      "DEBUG 2019-03-06 14:09:06,808 Starting new HTTPS connection (1): atlas.microsoft.com:443\n",
      "DEBUG 2019-03-06 14:09:06,973 https://atlas.microsoft.com:443 \"GET /search/fuzzy/json?Content-Type=application%2Fjson&subscription-key=6j_USCas00Jqmpj2EFtKe18nLWPylj0gPTOLeBypt9U&api-version=1.0&query=CARREFOUR+VERNON%2C+France HTTP/1.1\" 200 4476\n",
      "DEBUG 2019-03-06 14:09:06,981 Starting new HTTPS connection (1): atlas.microsoft.com:443\n"
     ]
    },
    {
     "name": "stdout",
     "output_type": "stream",
     "text": [
      "Web scrapping at : 1.583% which took 8 seconds to run.\n",
      "Web scrapping at : 1.676% which took 8 seconds to run.\n"
     ]
    },
    {
     "name": "stderr",
     "output_type": "stream",
     "text": [
      "DEBUG 2019-03-06 14:09:07,607 https://atlas.microsoft.com:443 \"GET /search/fuzzy/json?Content-Type=application%2Fjson&subscription-key=6j_USCas00Jqmpj2EFtKe18nLWPylj0gPTOLeBypt9U&api-version=1.0&query=CARREFOUR+VILLEFRANCHE+DE+ROUE%2C+France HTTP/1.1\" 200 8441\n",
      "DEBUG 2019-03-06 14:09:07,615 Starting new HTTPS connection (1): atlas.microsoft.com:443\n",
      "DEBUG 2019-03-06 14:09:07,757 https://atlas.microsoft.com:443 \"GET /search/fuzzy/json?Content-Type=application%2Fjson&subscription-key=6j_USCas00Jqmpj2EFtKe18nLWPylj0gPTOLeBypt9U&api-version=1.0&query=CARREFOUR+MONDEVILLE%2C+France HTTP/1.1\" 200 7979\n",
      "DEBUG 2019-03-06 14:09:07,764 Starting new HTTPS connection (1): atlas.microsoft.com:443\n"
     ]
    },
    {
     "name": "stdout",
     "output_type": "stream",
     "text": [
      "Web scrapping at : 1.769% which took 9 seconds to run.\n",
      "Web scrapping at : 1.862% which took 9 seconds to run.\n"
     ]
    },
    {
     "name": "stderr",
     "output_type": "stream",
     "text": [
      "DEBUG 2019-03-06 14:09:07,846 https://atlas.microsoft.com:443 \"GET /search/fuzzy/json?Content-Type=application%2Fjson&subscription-key=6j_USCas00Jqmpj2EFtKe18nLWPylj0gPTOLeBypt9U&api-version=1.0&query=CARREFOUR+FRANCHEVILLE%2C+France HTTP/1.1\" 200 6474\n",
      "DEBUG 2019-03-06 14:09:07,853 Starting new HTTPS connection (1): atlas.microsoft.com:443\n",
      "DEBUG 2019-03-06 14:09:07,936 https://atlas.microsoft.com:443 \"GET /search/fuzzy/json?Content-Type=application%2Fjson&subscription-key=6j_USCas00Jqmpj2EFtKe18nLWPylj0gPTOLeBypt9U&api-version=1.0&query=CARREFOUR+SALAISE+S%2FSANNE+SOUS+ANNE%2C+France HTTP/1.1\" 200 8172\n",
      "DEBUG 2019-03-06 14:09:07,943 Starting new HTTPS connection (1): atlas.microsoft.com:443\n"
     ]
    },
    {
     "name": "stdout",
     "output_type": "stream",
     "text": [
      "Web scrapping at : 1.955% which took 9 seconds to run.\n",
      "Web scrapping at : 2.048% which took 9 seconds to run.\n"
     ]
    },
    {
     "name": "stderr",
     "output_type": "stream",
     "text": [
      "DEBUG 2019-03-06 14:09:08,078 https://atlas.microsoft.com:443 \"GET /search/fuzzy/json?Content-Type=application%2Fjson&subscription-key=6j_USCas00Jqmpj2EFtKe18nLWPylj0gPTOLeBypt9U&api-version=1.0&query=CARREFOUR+BEAUCAIRE%2C+France HTTP/1.1\" 200 5416\n",
      "DEBUG 2019-03-06 14:09:08,086 Starting new HTTPS connection (1): atlas.microsoft.com:443\n",
      "DEBUG 2019-03-06 14:09:08,171 https://atlas.microsoft.com:443 \"GET /search/fuzzy/json?Content-Type=application%2Fjson&subscription-key=6j_USCas00Jqmpj2EFtKe18nLWPylj0gPTOLeBypt9U&api-version=1.0&query=CARREFOUR+CHELLES%2C+France HTTP/1.1\" 200 6728\n",
      "DEBUG 2019-03-06 14:09:08,178 Starting new HTTPS connection (1): atlas.microsoft.com:443\n",
      "DEBUG 2019-03-06 14:09:08,264 https://atlas.microsoft.com:443 \"GET /search/fuzzy/json?Content-Type=application%2Fjson&subscription-key=6j_USCas00Jqmpj2EFtKe18nLWPylj0gPTOLeBypt9U&api-version=1.0&query=CARREFOUR+ST+MARD%2C+France HTTP/1.1\" 200 2680\n",
      "DEBUG 2019-03-06 14:09:08,272 Starting new HTTPS connection (1): atlas.microsoft.com:443\n"
     ]
    },
    {
     "name": "stdout",
     "output_type": "stream",
     "text": [
      "Web scrapping at : 2.142% which took 10 seconds to run.\n",
      "Web scrapping at : 2.235% which took 10 seconds to run.\n",
      "Web scrapping at : 2.328% which took 10 seconds to run.\n"
     ]
    },
    {
     "name": "stderr",
     "output_type": "stream",
     "text": [
      "DEBUG 2019-03-06 14:09:08,353 https://atlas.microsoft.com:443 \"GET /search/fuzzy/json?Content-Type=application%2Fjson&subscription-key=6j_USCas00Jqmpj2EFtKe18nLWPylj0gPTOLeBypt9U&api-version=1.0&query=INTERMARCHE+DANNEMARIE%2C+France HTTP/1.1\" 200 1980\n",
      "DEBUG 2019-03-06 14:09:08,361 Starting new HTTPS connection (1): atlas.microsoft.com:443\n",
      "DEBUG 2019-03-06 14:09:08,523 https://atlas.microsoft.com:443 \"GET /search/fuzzy/json?Content-Type=application%2Fjson&subscription-key=6j_USCas00Jqmpj2EFtKe18nLWPylj0gPTOLeBypt9U&api-version=1.0&query=INTERMARCHE+LA+ROCHELLE%2C+France HTTP/1.1\" 200 5759\n",
      "DEBUG 2019-03-06 14:09:08,531 Starting new HTTPS connection (1): atlas.microsoft.com:443\n"
     ]
    },
    {
     "name": "stdout",
     "output_type": "stream",
     "text": [
      "Web scrapping at : 2.421% which took 10 seconds to run.\n",
      "Web scrapping at : 2.514% which took 10 seconds to run.\n"
     ]
    },
    {
     "name": "stderr",
     "output_type": "stream",
     "text": [
      "DEBUG 2019-03-06 14:09:08,616 https://atlas.microsoft.com:443 \"GET /search/fuzzy/json?Content-Type=application%2Fjson&subscription-key=6j_USCas00Jqmpj2EFtKe18nLWPylj0gPTOLeBypt9U&api-version=1.0&query=INTERMARCHE+LE+GRAND+LUCE+GRANOTRE+DAME%2C+France HTTP/1.1\" 200 6606\n",
      "DEBUG 2019-03-06 14:09:08,623 Starting new HTTPS connection (1): atlas.microsoft.com:443\n",
      "DEBUG 2019-03-06 14:09:08,780 https://atlas.microsoft.com:443 \"GET /search/fuzzy/json?Content-Type=application%2Fjson&subscription-key=6j_USCas00Jqmpj2EFtKe18nLWPylj0gPTOLeBypt9U&api-version=1.0&query=INTERMARCHE+BORDES%2C+France HTTP/1.1\" 200 8626\n",
      "DEBUG 2019-03-06 14:09:08,787 Starting new HTTPS connection (1): atlas.microsoft.com:443\n"
     ]
    },
    {
     "name": "stdout",
     "output_type": "stream",
     "text": [
      "Web scrapping at : 2.607% which took 10 seconds to run.\n",
      "Web scrapping at : 2.7% which took 10 seconds to run.\n"
     ]
    },
    {
     "name": "stderr",
     "output_type": "stream",
     "text": [
      "DEBUG 2019-03-06 14:09:08,909 https://atlas.microsoft.com:443 \"GET /search/fuzzy/json?Content-Type=application%2Fjson&subscription-key=6j_USCas00Jqmpj2EFtKe18nLWPylj0gPTOLeBypt9U&api-version=1.0&query=INTERMARCHE+CAMON%2C+France HTTP/1.1\" 200 2657\n",
      "DEBUG 2019-03-06 14:09:08,917 Starting new HTTPS connection (1): atlas.microsoft.com:443\n",
      "DEBUG 2019-03-06 14:09:09,001 https://atlas.microsoft.com:443 \"GET /search/fuzzy/json?Content-Type=application%2Fjson&subscription-key=6j_USCas00Jqmpj2EFtKe18nLWPylj0gPTOLeBypt9U&api-version=1.0&query=INTERMARCHE+ST-ERME-OUTRE-%26-RAM.+ST+ERME+OUTRE+%26+RAM.%2C+France HTTP/1.1\" 200 7850\n",
      "DEBUG 2019-03-06 14:09:09,010 Starting new HTTPS connection (1): atlas.microsoft.com:443\n",
      "DEBUG 2019-03-06 14:09:09,096 https://atlas.microsoft.com:443 \"GET /search/fuzzy/json?Content-Type=application%2Fjson&subscription-key=6j_USCas00Jqmpj2EFtKe18nLWPylj0gPTOLeBypt9U&api-version=1.0&query=INTERMARCHE+CAMBRONNE-%2FRIBECOURT+CAMBRONNE+SUR+RIBECOURT%2C+France HTTP/1.1\" 200 7722\n",
      "DEBUG 2019-03-06 14:09:09,104 Starting new HTTPS connection (1): atlas.microsoft.com:443\n"
     ]
    },
    {
     "name": "stdout",
     "output_type": "stream",
     "text": [
      "Web scrapping at : 2.793% which took 10 seconds to run.\n",
      "Web scrapping at : 2.886% which took 10 seconds to run.\n",
      "Web scrapping at : 2.98% which took 11 seconds to run.\n"
     ]
    },
    {
     "name": "stderr",
     "output_type": "stream",
     "text": [
      "DEBUG 2019-03-06 14:09:09,207 https://atlas.microsoft.com:443 \"GET /search/fuzzy/json?Content-Type=application%2Fjson&subscription-key=6j_USCas00Jqmpj2EFtKe18nLWPylj0gPTOLeBypt9U&api-version=1.0&query=INTERMARCHE+GRANDVILLIERS%2C+France HTTP/1.1\" 200 3634\n",
      "DEBUG 2019-03-06 14:09:09,216 Starting new HTTPS connection (1): atlas.microsoft.com:443\n",
      "DEBUG 2019-03-06 14:09:09,302 https://atlas.microsoft.com:443 \"GET /search/fuzzy/json?Content-Type=application%2Fjson&subscription-key=6j_USCas00Jqmpj2EFtKe18nLWPylj0gPTOLeBypt9U&api-version=1.0&query=INTERMARCHE+CLERMONT%2C+France HTTP/1.1\" 200 9155\n",
      "DEBUG 2019-03-06 14:09:09,310 Starting new HTTPS connection (1): atlas.microsoft.com:443\n"
     ]
    },
    {
     "name": "stdout",
     "output_type": "stream",
     "text": [
      "Web scrapping at : 3.073% which took 11 seconds to run.\n",
      "Web scrapping at : 3.166% which took 11 seconds to run.\n"
     ]
    },
    {
     "name": "stderr",
     "output_type": "stream",
     "text": [
      "DEBUG 2019-03-06 14:09:09,680 https://atlas.microsoft.com:443 \"GET /search/fuzzy/json?Content-Type=application%2Fjson&subscription-key=6j_USCas00Jqmpj2EFtKe18nLWPylj0gPTOLeBypt9U&api-version=1.0&query=INTERMARCHE+DECINES+CEDEX%2C+France HTTP/1.1\" 200 6125\n",
      "DEBUG 2019-03-06 14:09:09,689 Starting new HTTPS connection (1): atlas.microsoft.com:443\n",
      "DEBUG 2019-03-06 14:09:09,773 https://atlas.microsoft.com:443 \"GET /search/fuzzy/json?Content-Type=application%2Fjson&subscription-key=6j_USCas00Jqmpj2EFtKe18nLWPylj0gPTOLeBypt9U&api-version=1.0&query=INTERMARCHE+PERONNE%2C+France HTTP/1.1\" 200 8486\n",
      "DEBUG 2019-03-06 14:09:09,782 Starting new HTTPS connection (1): atlas.microsoft.com:443\n",
      "DEBUG 2019-03-06 14:09:09,865 https://atlas.microsoft.com:443 \"GET /search/fuzzy/json?Content-Type=application%2Fjson&subscription-key=6j_USCas00Jqmpj2EFtKe18nLWPylj0gPTOLeBypt9U&api-version=1.0&query=INTERMARCHE+ST+CYPRIEN%2C+France HTTP/1.1\" 200 3691\n",
      "DEBUG 2019-03-06 14:09:09,873 Starting new HTTPS connection (1): atlas.microsoft.com:443\n"
     ]
    },
    {
     "name": "stdout",
     "output_type": "stream",
     "text": [
      "Web scrapping at : 3.259% which took 11 seconds to run.\n",
      "Web scrapping at : 3.352% which took 11 seconds to run.\n",
      "Web scrapping at : 3.445% which took 11 seconds to run.\n"
     ]
    },
    {
     "name": "stderr",
     "output_type": "stream",
     "text": [
      "DEBUG 2019-03-06 14:09:10,000 https://atlas.microsoft.com:443 \"GET /search/fuzzy/json?Content-Type=application%2Fjson&subscription-key=6j_USCas00Jqmpj2EFtKe18nLWPylj0gPTOLeBypt9U&api-version=1.0&query=INTERMARCHE+ROYE%2C+France HTTP/1.1\" 200 4445\n",
      "DEBUG 2019-03-06 14:09:10,008 Starting new HTTPS connection (1): atlas.microsoft.com:443\n",
      "DEBUG 2019-03-06 14:09:10,188 https://atlas.microsoft.com:443 \"GET /search/fuzzy/json?Content-Type=application%2Fjson&subscription-key=6j_USCas00Jqmpj2EFtKe18nLWPylj0gPTOLeBypt9U&api-version=1.0&query=INTERMARCHE+LAVAL%2C+France HTTP/1.1\" 200 8827\n",
      "DEBUG 2019-03-06 14:09:10,196 Starting new HTTPS connection (1): atlas.microsoft.com:443\n"
     ]
    },
    {
     "name": "stdout",
     "output_type": "stream",
     "text": [
      "Web scrapping at : 3.538% which took 11 seconds to run.\n",
      "Web scrapping at : 3.631% which took 12 seconds to run.\n"
     ]
    },
    {
     "name": "stderr",
     "output_type": "stream",
     "text": [
      "DEBUG 2019-03-06 14:09:10,534 https://atlas.microsoft.com:443 \"GET /search/fuzzy/json?Content-Type=application%2Fjson&subscription-key=6j_USCas00Jqmpj2EFtKe18nLWPylj0gPTOLeBypt9U&api-version=1.0&query=INTERMARCHE+MONACO%2C+France HTTP/1.1\" 200 6237\n",
      "DEBUG 2019-03-06 14:09:10,541 Starting new HTTPS connection (1): atlas.microsoft.com:443\n",
      "DEBUG 2019-03-06 14:09:10,712 https://atlas.microsoft.com:443 \"GET /search/fuzzy/json?Content-Type=application%2Fjson&subscription-key=6j_USCas00Jqmpj2EFtKe18nLWPylj0gPTOLeBypt9U&api-version=1.0&query=INTERMARCHE+MOULINS%2C+France HTTP/1.1\" 200 7995\n",
      "DEBUG 2019-03-06 14:09:10,720 Starting new HTTPS connection (1): atlas.microsoft.com:443\n"
     ]
    },
    {
     "name": "stdout",
     "output_type": "stream",
     "text": [
      "Web scrapping at : 3.724% which took 12 seconds to run.\n",
      "Web scrapping at : 3.818% which took 12 seconds to run.\n"
     ]
    },
    {
     "name": "stderr",
     "output_type": "stream",
     "text": [
      "DEBUG 2019-03-06 14:09:10,808 https://atlas.microsoft.com:443 \"GET /search/fuzzy/json?Content-Type=application%2Fjson&subscription-key=6j_USCas00Jqmpj2EFtKe18nLWPylj0gPTOLeBypt9U&api-version=1.0&query=INTERMARCHE+LONGUEVILLE%2C+France HTTP/1.1\" 200 4062\n",
      "DEBUG 2019-03-06 14:09:10,816 Starting new HTTPS connection (1): atlas.microsoft.com:443\n",
      "DEBUG 2019-03-06 14:09:10,902 https://atlas.microsoft.com:443 \"GET /search/fuzzy/json?Content-Type=application%2Fjson&subscription-key=6j_USCas00Jqmpj2EFtKe18nLWPylj0gPTOLeBypt9U&api-version=1.0&query=INTERMARCHE+ST+CATHERINE+LES+ARR%2C+France HTTP/1.1\" 200 8156\n",
      "DEBUG 2019-03-06 14:09:10,911 Starting new HTTPS connection (1): atlas.microsoft.com:443\n",
      "DEBUG 2019-03-06 14:09:10,994 https://atlas.microsoft.com:443 \"GET /search/fuzzy/json?Content-Type=application%2Fjson&subscription-key=6j_USCas00Jqmpj2EFtKe18nLWPylj0gPTOLeBypt9U&api-version=1.0&query=INTERMARCHE+ARQUES%2C+France HTTP/1.1\" 200 2715\n",
      "DEBUG 2019-03-06 14:09:11,002 Starting new HTTPS connection (1): atlas.microsoft.com:443\n"
     ]
    },
    {
     "name": "stdout",
     "output_type": "stream",
     "text": [
      "Web scrapping at : 3.911% which took 12 seconds to run.\n",
      "Web scrapping at : 4.004% which took 12 seconds to run.\n",
      "Web scrapping at : 4.097% which took 12 seconds to run.\n"
     ]
    },
    {
     "name": "stderr",
     "output_type": "stream",
     "text": [
      "DEBUG 2019-03-06 14:09:11,130 https://atlas.microsoft.com:443 \"GET /search/fuzzy/json?Content-Type=application%2Fjson&subscription-key=6j_USCas00Jqmpj2EFtKe18nLWPylj0gPTOLeBypt9U&api-version=1.0&query=INTERMARCHE+SENLIS%2C+France HTTP/1.1\" 200 2672\n",
      "DEBUG 2019-03-06 14:09:11,138 Starting new HTTPS connection (1): atlas.microsoft.com:443\n"
     ]
    },
    {
     "name": "stdout",
     "output_type": "stream",
     "text": [
      "Web scrapping at : 4.19% which took 13 seconds to run.\n"
     ]
    },
    {
     "name": "stderr",
     "output_type": "stream",
     "text": [
      "DEBUG 2019-03-06 14:09:11,484 https://atlas.microsoft.com:443 \"GET /search/fuzzy/json?Content-Type=application%2Fjson&subscription-key=6j_USCas00Jqmpj2EFtKe18nLWPylj0gPTOLeBypt9U&api-version=1.0&query=INTERMARCHE+NEUVILLE+LES+DIEPPE%2C+France HTTP/1.1\" 200 9291\n",
      "DEBUG 2019-03-06 14:09:11,492 Starting new HTTPS connection (1): atlas.microsoft.com:443\n",
      "DEBUG 2019-03-06 14:09:11,576 https://atlas.microsoft.com:443 \"GET /search/fuzzy/json?Content-Type=application%2Fjson&subscription-key=6j_USCas00Jqmpj2EFtKe18nLWPylj0gPTOLeBypt9U&api-version=1.0&query=INTERMARCHE+BAILLEUL%2C+France HTTP/1.1\" 200 2688\n",
      "DEBUG 2019-03-06 14:09:11,584 Starting new HTTPS connection (1): atlas.microsoft.com:443\n"
     ]
    },
    {
     "name": "stdout",
     "output_type": "stream",
     "text": [
      "Web scrapping at : 4.283% which took 13 seconds to run.\n",
      "Web scrapping at : 4.376% which took 13 seconds to run.\n"
     ]
    },
    {
     "name": "stderr",
     "output_type": "stream",
     "text": [
      "DEBUG 2019-03-06 14:09:11,726 https://atlas.microsoft.com:443 \"GET /search/fuzzy/json?Content-Type=application%2Fjson&subscription-key=6j_USCas00Jqmpj2EFtKe18nLWPylj0gPTOLeBypt9U&api-version=1.0&query=INTERMARCHE+CROIX%2C+France HTTP/1.1\" 200 9052\n",
      "DEBUG 2019-03-06 14:09:11,733 Starting new HTTPS connection (1): atlas.microsoft.com:443\n",
      "DEBUG 2019-03-06 14:09:11,816 https://atlas.microsoft.com:443 \"GET /search/fuzzy/json?Content-Type=application%2Fjson&subscription-key=6j_USCas00Jqmpj2EFtKe18nLWPylj0gPTOLeBypt9U&api-version=1.0&query=INTERMARCHE+MERICOURT%2C+France HTTP/1.1\" 200 2716\n",
      "DEBUG 2019-03-06 14:09:11,823 Starting new HTTPS connection (1): atlas.microsoft.com:443\n",
      "DEBUG 2019-03-06 14:09:11,931 https://atlas.microsoft.com:443 \"GET /search/fuzzy/json?Content-Type=application%2Fjson&subscription-key=6j_USCas00Jqmpj2EFtKe18nLWPylj0gPTOLeBypt9U&api-version=1.0&query=INTERMARCHE+GAUVILLE%2C+France HTTP/1.1\" 200 2657\n"
     ]
    },
    {
     "name": "stdout",
     "output_type": "stream",
     "text": [
      "Web scrapping at : 4.469% which took 13 seconds to run.\n",
      "Web scrapping at : 4.562% which took 13 seconds to run.\n"
     ]
    },
    {
     "name": "stderr",
     "output_type": "stream",
     "text": [
      "DEBUG 2019-03-06 14:09:11,939 Starting new HTTPS connection (1): atlas.microsoft.com:443\n",
      "DEBUG 2019-03-06 14:09:12,020 https://atlas.microsoft.com:443 \"GET /search/fuzzy/json?Content-Type=application%2Fjson&subscription-key=6j_USCas00Jqmpj2EFtKe18nLWPylj0gPTOLeBypt9U&api-version=1.0&query=INTERMARCHE+BRUAY+EN+ARTOIS%2C+France HTTP/1.1\" 200 958\n",
      "DEBUG 2019-03-06 14:09:12,028 Starting new HTTPS connection (1): atlas.microsoft.com:443\n",
      "DEBUG 2019-03-06 14:09:12,114 https://atlas.microsoft.com:443 \"GET /search/fuzzy/json?Content-Type=application%2Fjson&subscription-key=6j_USCas00Jqmpj2EFtKe18nLWPylj0gPTOLeBypt9U&api-version=1.0&query=INTERMARCHE+OUZOUER+%2F+LOIRE%2C+France HTTP/1.1\" 200 6327\n",
      "DEBUG 2019-03-06 14:09:12,121 Starting new HTTPS connection (1): atlas.microsoft.com:443\n"
     ]
    },
    {
     "name": "stdout",
     "output_type": "stream",
     "text": [
      "Web scrapping at : 4.655% which took 13 seconds to run.\n",
      "Web scrapping at : 4.749% which took 14 seconds to run.\n",
      "Web scrapping at : 4.842% which took 14 seconds to run.\n"
     ]
    },
    {
     "name": "stderr",
     "output_type": "stream",
     "text": [
      "DEBUG 2019-03-06 14:09:12,312 https://atlas.microsoft.com:443 \"GET /search/fuzzy/json?Content-Type=application%2Fjson&subscription-key=6j_USCas00Jqmpj2EFtKe18nLWPylj0gPTOLeBypt9U&api-version=1.0&query=INTERMARCHE+MONTIGNY+LE+ROI%2C+France HTTP/1.1\" 200 909\n",
      "DEBUG 2019-03-06 14:09:12,320 Starting new HTTPS connection (1): atlas.microsoft.com:443\n",
      "DEBUG 2019-03-06 14:09:12,404 https://atlas.microsoft.com:443 \"GET /search/fuzzy/json?Content-Type=application%2Fjson&subscription-key=6j_USCas00Jqmpj2EFtKe18nLWPylj0gPTOLeBypt9U&api-version=1.0&query=INTERMARCHE+ROSIERES%2C+France HTTP/1.1\" 200 8607\n",
      "DEBUG 2019-03-06 14:09:12,412 Starting new HTTPS connection (1): atlas.microsoft.com:443\n",
      "DEBUG 2019-03-06 14:09:12,515 https://atlas.microsoft.com:443 \"GET /search/fuzzy/json?Content-Type=application%2Fjson&subscription-key=6j_USCas00Jqmpj2EFtKe18nLWPylj0gPTOLeBypt9U&api-version=1.0&query=INTERMARCHE+CHAUMONT%2C+France HTTP/1.1\" 200 1981\n"
     ]
    },
    {
     "name": "stdout",
     "output_type": "stream",
     "text": [
      "Web scrapping at : 4.935% which took 14 seconds to run.\n",
      "Web scrapping at : 5.028% which took 14 seconds to run.\n"
     ]
    },
    {
     "name": "stderr",
     "output_type": "stream",
     "text": [
      "DEBUG 2019-03-06 14:09:12,523 Starting new HTTPS connection (1): atlas.microsoft.com:443\n",
      "DEBUG 2019-03-06 14:09:12,696 https://atlas.microsoft.com:443 \"GET /search/fuzzy/json?Content-Type=application%2Fjson&subscription-key=6j_USCas00Jqmpj2EFtKe18nLWPylj0gPTOLeBypt9U&api-version=1.0&query=INTERMARCHE+VIRE%2C+France HTTP/1.1\" 200 2717\n",
      "DEBUG 2019-03-06 14:09:12,704 Starting new HTTPS connection (1): atlas.microsoft.com:443\n",
      "DEBUG 2019-03-06 14:09:12,834 https://atlas.microsoft.com:443 \"GET /search/fuzzy/json?Content-Type=application%2Fjson&subscription-key=6j_USCas00Jqmpj2EFtKe18nLWPylj0gPTOLeBypt9U&api-version=1.0&query=INTERMARCHE+LOMME%2C+France HTTP/1.1\" 200 2713\n",
      "DEBUG 2019-03-06 14:09:12,842 Starting new HTTPS connection (1): atlas.microsoft.com:443\n"
     ]
    },
    {
     "name": "stdout",
     "output_type": "stream",
     "text": [
      "Web scrapping at : 5.121% which took 14 seconds to run.\n",
      "Web scrapping at : 5.214% which took 14 seconds to run.\n",
      "Web scrapping at : 5.307% which took 14 seconds to run.\n"
     ]
    },
    {
     "name": "stderr",
     "output_type": "stream",
     "text": [
      "DEBUG 2019-03-06 14:09:13,023 https://atlas.microsoft.com:443 \"GET /search/fuzzy/json?Content-Type=application%2Fjson&subscription-key=6j_USCas00Jqmpj2EFtKe18nLWPylj0gPTOLeBypt9U&api-version=1.0&query=INTERMARCHE+ARTIX%2C+France HTTP/1.1\" 200 2762\n",
      "DEBUG 2019-03-06 14:09:13,032 Starting new HTTPS connection (1): atlas.microsoft.com:443\n",
      "DEBUG 2019-03-06 14:09:13,117 https://atlas.microsoft.com:443 \"GET /search/fuzzy/json?Content-Type=application%2Fjson&subscription-key=6j_USCas00Jqmpj2EFtKe18nLWPylj0gPTOLeBypt9U&api-version=1.0&query=INTERMARCHE+MONTREAL%2C+France HTTP/1.1\" 200 1753\n",
      "DEBUG 2019-03-06 14:09:13,125 Starting new HTTPS connection (1): atlas.microsoft.com:443\n",
      "DEBUG 2019-03-06 14:09:13,206 https://atlas.microsoft.com:443 \"GET /search/fuzzy/json?Content-Type=application%2Fjson&subscription-key=6j_USCas00Jqmpj2EFtKe18nLWPylj0gPTOLeBypt9U&api-version=1.0&query=INTERMARCHE+CHELLES%2C+France HTTP/1.1\" 200 3573\n",
      "DEBUG 2019-03-06 14:09:13,213 Starting new HTTPS connection (1): atlas.microsoft.com:443\n"
     ]
    },
    {
     "name": "stdout",
     "output_type": "stream",
     "text": [
      "Web scrapping at : 5.4% which took 15 seconds to run.\n",
      "Web scrapping at : 5.493% which took 15 seconds to run.\n",
      "Web scrapping at : 5.587% which took 15 seconds to run.\n"
     ]
    },
    {
     "name": "stderr",
     "output_type": "stream",
     "text": [
      "DEBUG 2019-03-06 14:09:13,296 https://atlas.microsoft.com:443 \"GET /search/fuzzy/json?Content-Type=application%2Fjson&subscription-key=6j_USCas00Jqmpj2EFtKe18nLWPylj0gPTOLeBypt9U&api-version=1.0&query=INTERMARCHE+MERIGNAC%2C+France HTTP/1.1\" 200 3592\n",
      "DEBUG 2019-03-06 14:09:13,305 Starting new HTTPS connection (1): atlas.microsoft.com:443\n",
      "DEBUG 2019-03-06 14:09:13,481 https://atlas.microsoft.com:443 \"GET /search/fuzzy/json?Content-Type=application%2Fjson&subscription-key=6j_USCas00Jqmpj2EFtKe18nLWPylj0gPTOLeBypt9U&api-version=1.0&query=INTERMARCHE+BERNAY%2C+France HTTP/1.1\" 200 4381\n",
      "DEBUG 2019-03-06 14:09:13,488 Starting new HTTPS connection (1): atlas.microsoft.com:443\n"
     ]
    },
    {
     "name": "stdout",
     "output_type": "stream",
     "text": [
      "Web scrapping at : 5.68% which took 15 seconds to run.\n",
      "Web scrapping at : 5.773% which took 15 seconds to run.\n"
     ]
    },
    {
     "name": "stderr",
     "output_type": "stream",
     "text": [
      "DEBUG 2019-03-06 14:09:13,572 https://atlas.microsoft.com:443 \"GET /search/fuzzy/json?Content-Type=application%2Fjson&subscription-key=6j_USCas00Jqmpj2EFtKe18nLWPylj0gPTOLeBypt9U&api-version=1.0&query=INTERMARCHE+BRIVE%2C+France HTTP/1.1\" 200 9322\n",
      "DEBUG 2019-03-06 14:09:13,581 Starting new HTTPS connection (1): atlas.microsoft.com:443\n",
      "DEBUG 2019-03-06 14:09:13,698 https://atlas.microsoft.com:443 \"GET /search/fuzzy/json?Content-Type=application%2Fjson&subscription-key=6j_USCas00Jqmpj2EFtKe18nLWPylj0gPTOLeBypt9U&api-version=1.0&query=INTERMARCHE+ORGEVAL%2C+France HTTP/1.1\" 200 1039\n",
      "DEBUG 2019-03-06 14:09:13,705 Starting new HTTPS connection (1): atlas.microsoft.com:443\n"
     ]
    },
    {
     "name": "stdout",
     "output_type": "stream",
     "text": [
      "Web scrapping at : 5.866% which took 15 seconds to run.\n",
      "Web scrapping at : 5.959% which took 15 seconds to run.\n"
     ]
    },
    {
     "name": "stderr",
     "output_type": "stream",
     "text": [
      "DEBUG 2019-03-06 14:09:13,789 https://atlas.microsoft.com:443 \"GET /search/fuzzy/json?Content-Type=application%2Fjson&subscription-key=6j_USCas00Jqmpj2EFtKe18nLWPylj0gPTOLeBypt9U&api-version=1.0&query=INTERMARCHE+BOOS%2C+France HTTP/1.1\" 200 2784\n",
      "DEBUG 2019-03-06 14:09:13,796 Starting new HTTPS connection (1): atlas.microsoft.com:443\n",
      "DEBUG 2019-03-06 14:09:13,880 https://atlas.microsoft.com:443 \"GET /search/fuzzy/json?Content-Type=application%2Fjson&subscription-key=6j_USCas00Jqmpj2EFtKe18nLWPylj0gPTOLeBypt9U&api-version=1.0&query=INTERMARCHE+MAINVILLIERS%2C+France HTTP/1.1\" 200 2717\n",
      "DEBUG 2019-03-06 14:09:13,888 Starting new HTTPS connection (1): atlas.microsoft.com:443\n"
     ]
    },
    {
     "name": "stdout",
     "output_type": "stream",
     "text": [
      "Web scrapping at : 6.052% which took 15 seconds to run.\n",
      "Web scrapping at : 6.145% which took 15 seconds to run.\n"
     ]
    },
    {
     "name": "stderr",
     "output_type": "stream",
     "text": [
      "DEBUG 2019-03-06 14:09:14,055 https://atlas.microsoft.com:443 \"GET /search/fuzzy/json?Content-Type=application%2Fjson&subscription-key=6j_USCas00Jqmpj2EFtKe18nLWPylj0gPTOLeBypt9U&api-version=1.0&query=INTERMARCHE+JANVILLE%2C+France HTTP/1.1\" 200 3647\n",
      "DEBUG 2019-03-06 14:09:14,063 Starting new HTTPS connection (1): atlas.microsoft.com:443\n",
      "DEBUG 2019-03-06 14:09:14,149 https://atlas.microsoft.com:443 \"GET /search/fuzzy/json?Content-Type=application%2Fjson&subscription-key=6j_USCas00Jqmpj2EFtKe18nLWPylj0gPTOLeBypt9U&api-version=1.0&query=INTERMARCHE+GRAND+COURONNE+GRANOTRE+DAME%2C+France HTTP/1.1\" 200 5375\n",
      "DEBUG 2019-03-06 14:09:14,157 Starting new HTTPS connection (1): atlas.microsoft.com:443\n"
     ]
    },
    {
     "name": "stdout",
     "output_type": "stream",
     "text": [
      "Web scrapping at : 6.238% which took 16 seconds to run.\n",
      "Web scrapping at : 6.331% which took 16 seconds to run.\n"
     ]
    },
    {
     "name": "stderr",
     "output_type": "stream",
     "text": [
      "DEBUG 2019-03-06 14:09:14,270 https://atlas.microsoft.com:443 \"GET /search/fuzzy/json?Content-Type=application%2Fjson&subscription-key=6j_USCas00Jqmpj2EFtKe18nLWPylj0gPTOLeBypt9U&api-version=1.0&query=INTERMARCHE+BEAUMONT%2C+France HTTP/1.1\" 200 8929\n",
      "DEBUG 2019-03-06 14:09:14,278 Starting new HTTPS connection (1): atlas.microsoft.com:443\n",
      "DEBUG 2019-03-06 14:09:14,391 https://atlas.microsoft.com:443 \"GET /search/fuzzy/json?Content-Type=application%2Fjson&subscription-key=6j_USCas00Jqmpj2EFtKe18nLWPylj0gPTOLeBypt9U&api-version=1.0&query=INTERMARCHE+NEUVIC%2C+France HTTP/1.1\" 200 6040\n",
      "DEBUG 2019-03-06 14:09:14,400 Starting new HTTPS connection (1): atlas.microsoft.com:443\n"
     ]
    },
    {
     "name": "stdout",
     "output_type": "stream",
     "text": [
      "Web scrapping at : 6.425% which took 16 seconds to run.\n",
      "Web scrapping at : 6.518% which took 16 seconds to run.\n"
     ]
    },
    {
     "name": "stderr",
     "output_type": "stream",
     "text": [
      "DEBUG 2019-03-06 14:09:14,488 https://atlas.microsoft.com:443 \"GET /search/fuzzy/json?Content-Type=application%2Fjson&subscription-key=6j_USCas00Jqmpj2EFtKe18nLWPylj0gPTOLeBypt9U&api-version=1.0&query=INTERMARCHE+SAINT-MARCEL+ST+MARCEL%2C+France HTTP/1.1\" 200 8661\n",
      "DEBUG 2019-03-06 14:09:14,497 Starting new HTTPS connection (1): atlas.microsoft.com:443\n",
      "DEBUG 2019-03-06 14:09:14,579 https://atlas.microsoft.com:443 \"GET /search/fuzzy/json?Content-Type=application%2Fjson&subscription-key=6j_USCas00Jqmpj2EFtKe18nLWPylj0gPTOLeBypt9U&api-version=1.0&query=INTERMARCHE+VERNOUILLET%2C+France HTTP/1.1\" 200 2775\n",
      "DEBUG 2019-03-06 14:09:14,587 Starting new HTTPS connection (1): atlas.microsoft.com:443\n"
     ]
    },
    {
     "name": "stdout",
     "output_type": "stream",
     "text": [
      "Web scrapping at : 6.611% which took 16 seconds to run.\n",
      "Web scrapping at : 6.704% which took 16 seconds to run.\n"
     ]
    },
    {
     "name": "stderr",
     "output_type": "stream",
     "text": [
      "DEBUG 2019-03-06 14:09:14,702 https://atlas.microsoft.com:443 \"GET /search/fuzzy/json?Content-Type=application%2Fjson&subscription-key=6j_USCas00Jqmpj2EFtKe18nLWPylj0gPTOLeBypt9U&api-version=1.0&query=INTERMARCHE+SAINT+RAPHAEL+ST%2C+France HTTP/1.1\" 200 2897\n",
      "DEBUG 2019-03-06 14:09:14,710 Starting new HTTPS connection (1): atlas.microsoft.com:443\n",
      "DEBUG 2019-03-06 14:09:14,794 https://atlas.microsoft.com:443 \"GET /search/fuzzy/json?Content-Type=application%2Fjson&subscription-key=6j_USCas00Jqmpj2EFtKe18nLWPylj0gPTOLeBypt9U&api-version=1.0&query=INTERMARCHE+FRENEUSE%2C+France HTTP/1.1\" 200 3591\n",
      "DEBUG 2019-03-06 14:09:14,802 Starting new HTTPS connection (1): atlas.microsoft.com:443\n"
     ]
    },
    {
     "name": "stdout",
     "output_type": "stream",
     "text": [
      "Web scrapping at : 6.797% which took 16 seconds to run.\n",
      "Web scrapping at : 6.89% which took 16 seconds to run.\n"
     ]
    },
    {
     "name": "stderr",
     "output_type": "stream",
     "text": [
      "DEBUG 2019-03-06 14:09:14,973 https://atlas.microsoft.com:443 \"GET /search/fuzzy/json?Content-Type=application%2Fjson&subscription-key=6j_USCas00Jqmpj2EFtKe18nLWPylj0gPTOLeBypt9U&api-version=1.0&query=INTERMARCHE+BUC%2C+France HTTP/1.1\" 200 2552\n",
      "DEBUG 2019-03-06 14:09:14,981 Starting new HTTPS connection (1): atlas.microsoft.com:443\n",
      "DEBUG 2019-03-06 14:09:15,068 https://atlas.microsoft.com:443 \"GET /search/fuzzy/json?Content-Type=application%2Fjson&subscription-key=6j_USCas00Jqmpj2EFtKe18nLWPylj0gPTOLeBypt9U&api-version=1.0&query=INTERMARCHE+ILE+DE+GROIX%2C+France HTTP/1.1\" 200 6374\n",
      "DEBUG 2019-03-06 14:09:15,076 Starting new HTTPS connection (1): atlas.microsoft.com:443\n",
      "DEBUG 2019-03-06 14:09:15,160 https://atlas.microsoft.com:443 \"GET /search/fuzzy/json?Content-Type=application%2Fjson&subscription-key=6j_USCas00Jqmpj2EFtKe18nLWPylj0gPTOLeBypt9U&api-version=1.0&query=INTERMARCHE+PLOUHINEC%2C+France HTTP/1.1\" 200 2710\n",
      "DEBUG 2019-03-06 14:09:15,168 Starting new HTTPS connection (1): atlas.microsoft.com:443\n"
     ]
    },
    {
     "name": "stdout",
     "output_type": "stream",
     "text": [
      "Web scrapping at : 6.983% which took 16 seconds to run.\n",
      "Web scrapping at : 7.076% which took 17 seconds to run.\n",
      "Web scrapping at : 7.169% which took 17 seconds to run.\n"
     ]
    },
    {
     "name": "stderr",
     "output_type": "stream",
     "text": [
      "DEBUG 2019-03-06 14:09:15,252 https://atlas.microsoft.com:443 \"GET /search/fuzzy/json?Content-Type=application%2Fjson&subscription-key=6j_USCas00Jqmpj2EFtKe18nLWPylj0gPTOLeBypt9U&api-version=1.0&query=INTERMARCHE+RIEUX%2C+France HTTP/1.1\" 200 3428\n",
      "DEBUG 2019-03-06 14:09:15,261 Starting new HTTPS connection (1): atlas.microsoft.com:443\n",
      "DEBUG 2019-03-06 14:09:15,346 https://atlas.microsoft.com:443 \"GET /search/fuzzy/json?Content-Type=application%2Fjson&subscription-key=6j_USCas00Jqmpj2EFtKe18nLWPylj0gPTOLeBypt9U&api-version=1.0&query=INTERMARCHE+ST+SYMPHORIEN%2C+France HTTP/1.1\" 200 8596\n",
      "DEBUG 2019-03-06 14:09:15,355 Starting new HTTPS connection (1): atlas.microsoft.com:443\n",
      "DEBUG 2019-03-06 14:09:15,436 https://atlas.microsoft.com:443 \"GET /search/fuzzy/json?Content-Type=application%2Fjson&subscription-key=6j_USCas00Jqmpj2EFtKe18nLWPylj0gPTOLeBypt9U&api-version=1.0&query=INTERMARCHE+ST+SEBASTIEN%2C+France HTTP/1.1\" 200 3965\n",
      "DEBUG 2019-03-06 14:09:15,445 Starting new HTTPS connection (1): atlas.microsoft.com:443\n"
     ]
    },
    {
     "name": "stdout",
     "output_type": "stream",
     "text": [
      "Web scrapping at : 7.263% which took 17 seconds to run.\n",
      "Web scrapping at : 7.356% which took 17 seconds to run.\n",
      "Web scrapping at : 7.449% which took 17 seconds to run.\n"
     ]
    },
    {
     "name": "stderr",
     "output_type": "stream",
     "text": [
      "DEBUG 2019-03-06 14:09:15,526 https://atlas.microsoft.com:443 \"GET /search/fuzzy/json?Content-Type=application%2Fjson&subscription-key=6j_USCas00Jqmpj2EFtKe18nLWPylj0gPTOLeBypt9U&api-version=1.0&query=INTERMARCHE+SAINT+NAZAIRE+ST%2C+France HTTP/1.1\" 200 1168\n",
      "DEBUG 2019-03-06 14:09:15,534 Starting new HTTPS connection (1): atlas.microsoft.com:443\n",
      "DEBUG 2019-03-06 14:09:15,617 https://atlas.microsoft.com:443 \"GET /search/fuzzy/json?Content-Type=application%2Fjson&subscription-key=6j_USCas00Jqmpj2EFtKe18nLWPylj0gPTOLeBypt9U&api-version=1.0&query=INTERMARCHE+PENMARC%27H+PENMARC+H%2C+France HTTP/1.1\" 200 2051\n",
      "DEBUG 2019-03-06 14:09:15,624 Starting new HTTPS connection (1): atlas.microsoft.com:443\n",
      "DEBUG 2019-03-06 14:09:15,708 https://atlas.microsoft.com:443 \"GET /search/fuzzy/json?Content-Type=application%2Fjson&subscription-key=6j_USCas00Jqmpj2EFtKe18nLWPylj0gPTOLeBypt9U&api-version=1.0&query=INTERMARCHE+VIEILLEVIGNE%2C+France HTTP/1.1\" 200 5722\n",
      "DEBUG 2019-03-06 14:09:15,715 Starting new HTTPS connection (1): atlas.microsoft.com:443\n"
     ]
    },
    {
     "name": "stdout",
     "output_type": "stream",
     "text": [
      "Web scrapping at : 7.542% which took 17 seconds to run.\n",
      "Web scrapping at : 7.635% which took 17 seconds to run.\n",
      "Web scrapping at : 7.728% which took 17 seconds to run.\n"
     ]
    },
    {
     "name": "stderr",
     "output_type": "stream",
     "text": [
      "DEBUG 2019-03-06 14:09:15,797 https://atlas.microsoft.com:443 \"GET /search/fuzzy/json?Content-Type=application%2Fjson&subscription-key=6j_USCas00Jqmpj2EFtKe18nLWPylj0gPTOLeBypt9U&api-version=1.0&query=INTERMARCHE+LA+CHAPELLE+%2F+ERDRE%2C+France HTTP/1.1\" 200 4557\n",
      "DEBUG 2019-03-06 14:09:15,804 Starting new HTTPS connection (1): atlas.microsoft.com:443\n",
      "DEBUG 2019-03-06 14:09:15,889 https://atlas.microsoft.com:443 \"GET /search/fuzzy/json?Content-Type=application%2Fjson&subscription-key=6j_USCas00Jqmpj2EFtKe18nLWPylj0gPTOLeBypt9U&api-version=1.0&query=INTERMARCHE+ST+MARTIN-DES-CHAMPS+MARTIN+DES+CHAMPS%2C+France HTTP/1.1\" 200 6740\n",
      "DEBUG 2019-03-06 14:09:15,896 Starting new HTTPS connection (1): atlas.microsoft.com:443\n",
      "DEBUG 2019-03-06 14:09:15,979 https://atlas.microsoft.com:443 \"GET /search/fuzzy/json?Content-Type=application%2Fjson&subscription-key=6j_USCas00Jqmpj2EFtKe18nLWPylj0gPTOLeBypt9U&api-version=1.0&query=INTERMARCHE+FLERS+DE+L%27ORNE+L+ORNE%2C+France HTTP/1.1\" 200 3603\n",
      "DEBUG 2019-03-06 14:09:15,988 Starting new HTTPS connection (1): atlas.microsoft.com:443\n"
     ]
    },
    {
     "name": "stdout",
     "output_type": "stream",
     "text": [
      "Web scrapping at : 7.821% which took 17 seconds to run.\n",
      "Web scrapping at : 7.914% which took 17 seconds to run.\n",
      "Web scrapping at : 8.007% which took 17 seconds to run.\n"
     ]
    },
    {
     "name": "stderr",
     "output_type": "stream",
     "text": [
      "DEBUG 2019-03-06 14:09:16,074 https://atlas.microsoft.com:443 \"GET /search/fuzzy/json?Content-Type=application%2Fjson&subscription-key=6j_USCas00Jqmpj2EFtKe18nLWPylj0gPTOLeBypt9U&api-version=1.0&query=INTERMARCHE+SAINTE+HELENE+STE%2C+France HTTP/1.1\" 200 2798\n",
      "DEBUG 2019-03-06 14:09:16,081 Starting new HTTPS connection (1): atlas.microsoft.com:443\n",
      "DEBUG 2019-03-06 14:09:16,241 https://atlas.microsoft.com:443 \"GET /search/fuzzy/json?Content-Type=application%2Fjson&subscription-key=6j_USCas00Jqmpj2EFtKe18nLWPylj0gPTOLeBypt9U&api-version=1.0&query=INTERMARCHE+LOUVIGNY%2C+France HTTP/1.1\" 200 3331\n",
      "DEBUG 2019-03-06 14:09:16,248 Starting new HTTPS connection (1): atlas.microsoft.com:443\n"
     ]
    },
    {
     "name": "stdout",
     "output_type": "stream",
     "text": [
      "Web scrapping at : 8.101% which took 18 seconds to run.\n",
      "Web scrapping at : 8.194% which took 18 seconds to run.\n"
     ]
    },
    {
     "name": "stderr",
     "output_type": "stream",
     "text": [
      "DEBUG 2019-03-06 14:09:16,331 https://atlas.microsoft.com:443 \"GET /search/fuzzy/json?Content-Type=application%2Fjson&subscription-key=6j_USCas00Jqmpj2EFtKe18nLWPylj0gPTOLeBypt9U&api-version=1.0&query=INTERMARCHE+JARVILLE%2C+France HTTP/1.1\" 200 2920\n",
      "DEBUG 2019-03-06 14:09:16,338 Starting new HTTPS connection (1): atlas.microsoft.com:443\n",
      "DEBUG 2019-03-06 14:09:16,436 https://atlas.microsoft.com:443 \"GET /search/fuzzy/json?Content-Type=application%2Fjson&subscription-key=6j_USCas00Jqmpj2EFtKe18nLWPylj0gPTOLeBypt9U&api-version=1.0&query=INTERMARCHE+VITRE%2C+France HTTP/1.1\" 200 8972\n",
      "DEBUG 2019-03-06 14:09:16,444 Starting new HTTPS connection (1): atlas.microsoft.com:443\n",
      "DEBUG 2019-03-06 14:09:16,531 https://atlas.microsoft.com:443 \"GET /search/fuzzy/json?Content-Type=application%2Fjson&subscription-key=6j_USCas00Jqmpj2EFtKe18nLWPylj0gPTOLeBypt9U&api-version=1.0&query=INTERMARCHE+SAINT+SYMPHORIEN+ST%2C+France HTTP/1.1\" 200 8599\n"
     ]
    },
    {
     "name": "stdout",
     "output_type": "stream",
     "text": [
      "Web scrapping at : 8.287% which took 18 seconds to run.\n",
      "Web scrapping at : 8.38% which took 18 seconds to run.\n"
     ]
    },
    {
     "name": "stderr",
     "output_type": "stream",
     "text": [
      "DEBUG 2019-03-06 14:09:16,540 Starting new HTTPS connection (1): atlas.microsoft.com:443\n",
      "DEBUG 2019-03-06 14:09:16,674 https://atlas.microsoft.com:443 \"GET /search/fuzzy/json?Content-Type=application%2Fjson&subscription-key=6j_USCas00Jqmpj2EFtKe18nLWPylj0gPTOLeBypt9U&api-version=1.0&query=INTERMARCHE+ROQUEFORT%2C+France HTTP/1.1\" 200 5546\n",
      "DEBUG 2019-03-06 14:09:16,682 Starting new HTTPS connection (1): atlas.microsoft.com:443\n",
      "DEBUG 2019-03-06 14:09:16,778 https://atlas.microsoft.com:443 \"GET /search/fuzzy/json?Content-Type=application%2Fjson&subscription-key=6j_USCas00Jqmpj2EFtKe18nLWPylj0gPTOLeBypt9U&api-version=1.0&query=INTERMARCHE+BLAMONT%2C+France HTTP/1.1\" 200 2731\n",
      "DEBUG 2019-03-06 14:09:16,786 Starting new HTTPS connection (1): atlas.microsoft.com:443\n",
      "DEBUG 2019-03-06 14:09:16,870 https://atlas.microsoft.com:443 \"GET /search/fuzzy/json?Content-Type=application%2Fjson&subscription-key=6j_USCas00Jqmpj2EFtKe18nLWPylj0gPTOLeBypt9U&api-version=1.0&query=INTERMARCHE+DOMFRONT%2C+France HTTP/1.1\" 200 2709\n",
      "DEBUG 2019-03-06 14:09:16,878 Starting new HTTPS connection (1): atlas.microsoft.com:443\n"
     ]
    },
    {
     "name": "stdout",
     "output_type": "stream",
     "text": [
      "Web scrapping at : 8.473% which took 18 seconds to run.\n",
      "Web scrapping at : 8.566% which took 18 seconds to run.\n",
      "Web scrapping at : 8.659% which took 18 seconds to run.\n",
      "Web scrapping at : 8.752% which took 18 seconds to run.\n"
     ]
    },
    {
     "name": "stderr",
     "output_type": "stream",
     "text": [
      "DEBUG 2019-03-06 14:09:17,042 https://atlas.microsoft.com:443 \"GET /search/fuzzy/json?Content-Type=application%2Fjson&subscription-key=6j_USCas00Jqmpj2EFtKe18nLWPylj0gPTOLeBypt9U&api-version=1.0&query=INTERMARCHE+ROQUEMAURE%2C+France HTTP/1.1\" 200 1933\n",
      "DEBUG 2019-03-06 14:09:17,049 Starting new HTTPS connection (1): atlas.microsoft.com:443\n",
      "DEBUG 2019-03-06 14:09:17,130 https://atlas.microsoft.com:443 \"GET /search/fuzzy/json?Content-Type=application%2Fjson&subscription-key=6j_USCas00Jqmpj2EFtKe18nLWPylj0gPTOLeBypt9U&api-version=1.0&query=INTERMARCHE+LANCON+DE+PROVENCE%2C+France HTTP/1.1\" 200 3814\n",
      "DEBUG 2019-03-06 14:09:17,138 Starting new HTTPS connection (1): atlas.microsoft.com:443\n"
     ]
    },
    {
     "name": "stdout",
     "output_type": "stream",
     "text": [
      "Web scrapping at : 8.845% which took 19 seconds to run.\n",
      "Web scrapping at : 8.939% which took 19 seconds to run.\n"
     ]
    },
    {
     "name": "stderr",
     "output_type": "stream",
     "text": [
      "DEBUG 2019-03-06 14:09:17,311 https://atlas.microsoft.com:443 \"GET /search/fuzzy/json?Content-Type=application%2Fjson&subscription-key=6j_USCas00Jqmpj2EFtKe18nLWPylj0gPTOLeBypt9U&api-version=1.0&query=INTERMARCHE+BONNEVILLE%2C+France HTTP/1.1\" 200 5326\n",
      "DEBUG 2019-03-06 14:09:17,319 Starting new HTTPS connection (1): atlas.microsoft.com:443\n",
      "DEBUG 2019-03-06 14:09:17,401 https://atlas.microsoft.com:443 \"GET /search/fuzzy/json?Content-Type=application%2Fjson&subscription-key=6j_USCas00Jqmpj2EFtKe18nLWPylj0gPTOLeBypt9U&api-version=1.0&query=INTERMARCHE+SAINT+USAGE+ST%2C+France HTTP/1.1\" 200 3657\n",
      "DEBUG 2019-03-06 14:09:17,409 Starting new HTTPS connection (1): atlas.microsoft.com:443\n"
     ]
    },
    {
     "name": "stdout",
     "output_type": "stream",
     "text": [
      "Web scrapping at : 9.032% which took 19 seconds to run.\n",
      "Web scrapping at : 9.125% which took 19 seconds to run.\n"
     ]
    },
    {
     "name": "stderr",
     "output_type": "stream",
     "text": [
      "DEBUG 2019-03-06 14:09:17,574 https://atlas.microsoft.com:443 \"GET /search/fuzzy/json?Content-Type=application%2Fjson&subscription-key=6j_USCas00Jqmpj2EFtKe18nLWPylj0gPTOLeBypt9U&api-version=1.0&query=INTERMARCHE+CHERISY%2C+France HTTP/1.1\" 200 5328\n",
      "DEBUG 2019-03-06 14:09:17,581 Starting new HTTPS connection (1): atlas.microsoft.com:443\n",
      "DEBUG 2019-03-06 14:09:17,710 https://atlas.microsoft.com:443 \"GET /search/fuzzy/json?Content-Type=application%2Fjson&subscription-key=6j_USCas00Jqmpj2EFtKe18nLWPylj0gPTOLeBypt9U&api-version=1.0&query=INTERMARCHE+LURE%2C+France HTTP/1.1\" 200 3579\n",
      "DEBUG 2019-03-06 14:09:17,717 Starting new HTTPS connection (1): atlas.microsoft.com:443\n"
     ]
    },
    {
     "name": "stdout",
     "output_type": "stream",
     "text": [
      "Web scrapping at : 9.218% which took 19 seconds to run.\n",
      "Web scrapping at : 9.311% which took 19 seconds to run.\n"
     ]
    },
    {
     "name": "stderr",
     "output_type": "stream",
     "text": [
      "DEBUG 2019-03-06 14:09:17,801 https://atlas.microsoft.com:443 \"GET /search/fuzzy/json?Content-Type=application%2Fjson&subscription-key=6j_USCas00Jqmpj2EFtKe18nLWPylj0gPTOLeBypt9U&api-version=1.0&query=INTERMARCHE+PONT-L%27EVEQUE+PONT+L+EVEQUE%2C+France HTTP/1.1\" 200 2796\n",
      "DEBUG 2019-03-06 14:09:17,808 Starting new HTTPS connection (1): atlas.microsoft.com:443\n",
      "DEBUG 2019-03-06 14:09:17,894 https://atlas.microsoft.com:443 \"GET /search/fuzzy/json?Content-Type=application%2Fjson&subscription-key=6j_USCas00Jqmpj2EFtKe18nLWPylj0gPTOLeBypt9U&api-version=1.0&query=INTERMARCHE+ST+MARTIN+DES+CHAMPS%2C+France HTTP/1.1\" 200 6722\n",
      "DEBUG 2019-03-06 14:09:17,902 Starting new HTTPS connection (1): atlas.microsoft.com:443\n",
      "DEBUG 2019-03-06 14:09:17,987 https://atlas.microsoft.com:443 \"GET /search/fuzzy/json?Content-Type=application%2Fjson&subscription-key=6j_USCas00Jqmpj2EFtKe18nLWPylj0gPTOLeBypt9U&api-version=1.0&query=INTERMARCHE+ANGLES%2C+France HTTP/1.1\" 200 2704\n",
      "DEBUG 2019-03-06 14:09:17,995 Starting new HTTPS connection (1): atlas.microsoft.com:443\n"
     ]
    },
    {
     "name": "stdout",
     "output_type": "stream",
     "text": [
      "Web scrapping at : 9.404% which took 19 seconds to run.\n",
      "Web scrapping at : 9.497% which took 19 seconds to run.\n",
      "Web scrapping at : 9.59% which took 19 seconds to run.\n"
     ]
    },
    {
     "name": "stderr",
     "output_type": "stream",
     "text": [
      "DEBUG 2019-03-06 14:09:18,128 https://atlas.microsoft.com:443 \"GET /search/fuzzy/json?Content-Type=application%2Fjson&subscription-key=6j_USCas00Jqmpj2EFtKe18nLWPylj0gPTOLeBypt9U&api-version=1.0&query=INTERMARCHE+BOULOC%2C+France HTTP/1.1\" 200 2500\n",
      "DEBUG 2019-03-06 14:09:18,135 Starting new HTTPS connection (1): atlas.microsoft.com:443\n",
      "DEBUG 2019-03-06 14:09:18,220 https://atlas.microsoft.com:443 \"GET /search/fuzzy/json?Content-Type=application%2Fjson&subscription-key=6j_USCas00Jqmpj2EFtKe18nLWPylj0gPTOLeBypt9U&api-version=1.0&query=INTERMARCHE+FRESNES%2C+France HTTP/1.1\" 200 3532\n",
      "DEBUG 2019-03-06 14:09:18,228 Starting new HTTPS connection (1): atlas.microsoft.com:443\n"
     ]
    },
    {
     "name": "stdout",
     "output_type": "stream",
     "text": [
      "Web scrapping at : 9.683% which took 20 seconds to run.\n",
      "Web scrapping at : 9.777% which took 20 seconds to run.\n"
     ]
    },
    {
     "name": "stderr",
     "output_type": "stream",
     "text": [
      "DEBUG 2019-03-06 14:09:18,431 https://atlas.microsoft.com:443 \"GET /search/fuzzy/json?Content-Type=application%2Fjson&subscription-key=6j_USCas00Jqmpj2EFtKe18nLWPylj0gPTOLeBypt9U&api-version=1.0&query=INTERMARCHE+CHARNY%2C+France HTTP/1.1\" 200 2911\n",
      "DEBUG 2019-03-06 14:09:18,438 Starting new HTTPS connection (1): atlas.microsoft.com:443\n",
      "DEBUG 2019-03-06 14:09:18,520 https://atlas.microsoft.com:443 \"GET /search/fuzzy/json?Content-Type=application%2Fjson&subscription-key=6j_USCas00Jqmpj2EFtKe18nLWPylj0gPTOLeBypt9U&api-version=1.0&query=INTERMARCHE+ST+JEAN+LE+BLANC%2C+France HTTP/1.1\" 200 2904\n",
      "DEBUG 2019-03-06 14:09:18,528 Starting new HTTPS connection (1): atlas.microsoft.com:443\n"
     ]
    },
    {
     "name": "stdout",
     "output_type": "stream",
     "text": [
      "Web scrapping at : 9.87% which took 20 seconds to run.\n",
      "Web scrapping at : 9.963% which took 20 seconds to run.\n"
     ]
    },
    {
     "name": "stderr",
     "output_type": "stream",
     "text": [
      "DEBUG 2019-03-06 14:09:18,667 https://atlas.microsoft.com:443 \"GET /search/fuzzy/json?Content-Type=application%2Fjson&subscription-key=6j_USCas00Jqmpj2EFtKe18nLWPylj0gPTOLeBypt9U&api-version=1.0&query=INTERMARCHE+COURTENAY%2C+France HTTP/1.1\" 200 3658\n",
      "DEBUG 2019-03-06 14:09:18,674 Starting new HTTPS connection (1): atlas.microsoft.com:443\n",
      "DEBUG 2019-03-06 14:09:18,757 https://atlas.microsoft.com:443 \"GET /search/fuzzy/json?Content-Type=application%2Fjson&subscription-key=6j_USCas00Jqmpj2EFtKe18nLWPylj0gPTOLeBypt9U&api-version=1.0&query=INTERMARCHE+VILLEMONBLE%2C+France HTTP/1.1\" 200 5594\n",
      "DEBUG 2019-03-06 14:09:18,765 Starting new HTTPS connection (1): atlas.microsoft.com:443\n"
     ]
    },
    {
     "name": "stdout",
     "output_type": "stream",
     "text": [
      "Web scrapping at : 10.056% which took 20 seconds to run.\n",
      "Web scrapping at : 10.149% which took 20 seconds to run.\n"
     ]
    },
    {
     "name": "stderr",
     "output_type": "stream",
     "text": [
      "DEBUG 2019-03-06 14:09:18,956 https://atlas.microsoft.com:443 \"GET /search/fuzzy/json?Content-Type=application%2Fjson&subscription-key=6j_USCas00Jqmpj2EFtKe18nLWPylj0gPTOLeBypt9U&api-version=1.0&query=INTERMARCHE+AMILLY+2%2C+France HTTP/1.1\" 200 3654\n",
      "DEBUG 2019-03-06 14:09:18,964 Starting new HTTPS connection (1): atlas.microsoft.com:443\n",
      "DEBUG 2019-03-06 14:09:19,046 https://atlas.microsoft.com:443 \"GET /search/fuzzy/json?Content-Type=application%2Fjson&subscription-key=6j_USCas00Jqmpj2EFtKe18nLWPylj0gPTOLeBypt9U&api-version=1.0&query=INTERMARCHE+ST+FLORENTIN%2C+France HTTP/1.1\" 200 2696\n",
      "DEBUG 2019-03-06 14:09:19,054 Starting new HTTPS connection (1): atlas.microsoft.com:443\n"
     ]
    },
    {
     "name": "stdout",
     "output_type": "stream",
     "text": [
      "Web scrapping at : 10.242% which took 20 seconds to run.\n",
      "Web scrapping at : 10.335% which took 21 seconds to run.\n"
     ]
    },
    {
     "name": "stderr",
     "output_type": "stream",
     "text": [
      "DEBUG 2019-03-06 14:09:19,214 https://atlas.microsoft.com:443 \"GET /search/fuzzy/json?Content-Type=application%2Fjson&subscription-key=6j_USCas00Jqmpj2EFtKe18nLWPylj0gPTOLeBypt9U&api-version=1.0&query=INTERMARCHE+CUSSAC%2C+France HTTP/1.1\" 200 3637\n",
      "DEBUG 2019-03-06 14:09:19,223 Starting new HTTPS connection (1): atlas.microsoft.com:443\n",
      "DEBUG 2019-03-06 14:09:19,307 https://atlas.microsoft.com:443 \"GET /search/fuzzy/json?Content-Type=application%2Fjson&subscription-key=6j_USCas00Jqmpj2EFtKe18nLWPylj0gPTOLeBypt9U&api-version=1.0&query=INTERMARCHE+JONQUIERES%2C+France HTTP/1.1\" 200 3812\n",
      "DEBUG 2019-03-06 14:09:19,315 Starting new HTTPS connection (1): atlas.microsoft.com:443\n",
      "DEBUG 2019-03-06 14:09:19,401 https://atlas.microsoft.com:443 \"GET /search/fuzzy/json?Content-Type=application%2Fjson&subscription-key=6j_USCas00Jqmpj2EFtKe18nLWPylj0gPTOLeBypt9U&api-version=1.0&query=INTERMARCHE+ETRECHY%2C+France HTTP/1.1\" 200 2721\n",
      "DEBUG 2019-03-06 14:09:19,408 Starting new HTTPS connection (1): atlas.microsoft.com:443\n"
     ]
    },
    {
     "name": "stdout",
     "output_type": "stream",
     "text": [
      "Web scrapping at : 10.428% which took 21 seconds to run.\n",
      "Web scrapping at : 10.521% which took 21 seconds to run.\n",
      "Web scrapping at : 10.615% which took 21 seconds to run.\n"
     ]
    },
    {
     "name": "stderr",
     "output_type": "stream",
     "text": [
      "DEBUG 2019-03-06 14:09:19,582 https://atlas.microsoft.com:443 \"GET /search/fuzzy/json?Content-Type=application%2Fjson&subscription-key=6j_USCas00Jqmpj2EFtKe18nLWPylj0gPTOLeBypt9U&api-version=1.0&query=INTERMARCHE+THORIGNY%2C+France HTTP/1.1\" 200 3690\n",
      "DEBUG 2019-03-06 14:09:19,590 Starting new HTTPS connection (1): atlas.microsoft.com:443\n",
      "DEBUG 2019-03-06 14:09:19,772 https://atlas.microsoft.com:443 \"GET /search/fuzzy/json?Content-Type=application%2Fjson&subscription-key=6j_USCas00Jqmpj2EFtKe18nLWPylj0gPTOLeBypt9U&api-version=1.0&query=INTERMARCHE+CHATILLON%2C+France HTTP/1.1\" 200 9106\n",
      "DEBUG 2019-03-06 14:09:19,781 Starting new HTTPS connection (1): atlas.microsoft.com:443\n"
     ]
    },
    {
     "name": "stdout",
     "output_type": "stream",
     "text": [
      "Web scrapping at : 10.708% which took 21 seconds to run.\n",
      "Web scrapping at : 10.801% which took 21 seconds to run.\n"
     ]
    },
    {
     "name": "stderr",
     "output_type": "stream",
     "text": [
      "DEBUG 2019-03-06 14:09:19,863 https://atlas.microsoft.com:443 \"GET /search/fuzzy/json?Content-Type=application%2Fjson&subscription-key=6j_USCas00Jqmpj2EFtKe18nLWPylj0gPTOLeBypt9U&api-version=1.0&query=INTERMARCHE+SAINT+APOLLINAIRE+ST%2C+France HTTP/1.1\" 200 2898\n",
      "DEBUG 2019-03-06 14:09:19,872 Starting new HTTPS connection (1): atlas.microsoft.com:443\n",
      "DEBUG 2019-03-06 14:09:19,954 https://atlas.microsoft.com:443 \"GET /search/fuzzy/json?Content-Type=application%2Fjson&subscription-key=6j_USCas00Jqmpj2EFtKe18nLWPylj0gPTOLeBypt9U&api-version=1.0&query=INTERMARCHE+MEREVILLE%2C+France HTTP/1.1\" 200 3588\n",
      "DEBUG 2019-03-06 14:09:19,961 Starting new HTTPS connection (1): atlas.microsoft.com:443\n"
     ]
    },
    {
     "name": "stdout",
     "output_type": "stream",
     "text": [
      "Web scrapping at : 10.894% which took 21 seconds to run.\n",
      "Web scrapping at : 10.987% which took 21 seconds to run.\n"
     ]
    },
    {
     "name": "stderr",
     "output_type": "stream",
     "text": [
      "DEBUG 2019-03-06 14:09:20,139 https://atlas.microsoft.com:443 \"GET /search/fuzzy/json?Content-Type=application%2Fjson&subscription-key=6j_USCas00Jqmpj2EFtKe18nLWPylj0gPTOLeBypt9U&api-version=1.0&query=INTERMARCHE+BUXEROLLES%2C+France HTTP/1.1\" 200 2774\n",
      "DEBUG 2019-03-06 14:09:20,147 Starting new HTTPS connection (1): atlas.microsoft.com:443\n"
     ]
    },
    {
     "name": "stdout",
     "output_type": "stream",
     "text": [
      "Web scrapping at : 11.08% which took 22 seconds to run.\n"
     ]
    },
    {
     "name": "stderr",
     "output_type": "stream",
     "text": [
      "DEBUG 2019-03-06 14:09:20,800 https://atlas.microsoft.com:443 \"GET /search/fuzzy/json?Content-Type=application%2Fjson&subscription-key=6j_USCas00Jqmpj2EFtKe18nLWPylj0gPTOLeBypt9U&api-version=1.0&query=INTERMARCHE+LA+GRAND+COMBE+GRANOTRE+DAME%2C+France HTTP/1.1\" 200 7116\n",
      "DEBUG 2019-03-06 14:09:20,809 Starting new HTTPS connection (1): atlas.microsoft.com:443\n",
      "DEBUG 2019-03-06 14:09:20,941 https://atlas.microsoft.com:443 \"GET /search/fuzzy/json?Content-Type=application%2Fjson&subscription-key=6j_USCas00Jqmpj2EFtKe18nLWPylj0gPTOLeBypt9U&api-version=1.0&query=INTERMARCHE+CREYSSE%2C+France HTTP/1.1\" 200 2549\n",
      "DEBUG 2019-03-06 14:09:20,949 Starting new HTTPS connection (1): atlas.microsoft.com:443\n"
     ]
    },
    {
     "name": "stdout",
     "output_type": "stream",
     "text": [
      "Web scrapping at : 11.173% which took 22 seconds to run.\n",
      "Web scrapping at : 11.266% which took 22 seconds to run.\n"
     ]
    },
    {
     "name": "stderr",
     "output_type": "stream",
     "text": [
      "DEBUG 2019-03-06 14:09:21,100 https://atlas.microsoft.com:443 \"GET /search/fuzzy/json?Content-Type=application%2Fjson&subscription-key=6j_USCas00Jqmpj2EFtKe18nLWPylj0gPTOLeBypt9U&api-version=1.0&query=INTERMARCHE+ST+LAURENT+SALANQUE%2C+France HTTP/1.1\" 200 3908\n",
      "DEBUG 2019-03-06 14:09:21,107 Starting new HTTPS connection (1): atlas.microsoft.com:443\n",
      "DEBUG 2019-03-06 14:09:21,248 https://atlas.microsoft.com:443 \"GET /search/fuzzy/json?Content-Type=application%2Fjson&subscription-key=6j_USCas00Jqmpj2EFtKe18nLWPylj0gPTOLeBypt9U&api-version=1.0&query=INTERMARCHE+INGRANDES+SUR+LOIRE%2C+France HTTP/1.1\" 200 3841\n",
      "DEBUG 2019-03-06 14:09:21,255 Starting new HTTPS connection (1): atlas.microsoft.com:443\n"
     ]
    },
    {
     "name": "stdout",
     "output_type": "stream",
     "text": [
      "Web scrapping at : 11.359% which took 23 seconds to run.\n",
      "Web scrapping at : 11.453% which took 23 seconds to run.\n"
     ]
    },
    {
     "name": "stderr",
     "output_type": "stream",
     "text": [
      "DEBUG 2019-03-06 14:09:21,443 https://atlas.microsoft.com:443 \"GET /search/fuzzy/json?Content-Type=application%2Fjson&subscription-key=6j_USCas00Jqmpj2EFtKe18nLWPylj0gPTOLeBypt9U&api-version=1.0&query=INTERMARCHE+CHAMBOEUF%2C+France HTTP/1.1\" 200 2564\n",
      "DEBUG 2019-03-06 14:09:21,451 Starting new HTTPS connection (1): atlas.microsoft.com:443\n",
      "DEBUG 2019-03-06 14:09:21,618 https://atlas.microsoft.com:443 \"GET /search/fuzzy/json?Content-Type=application%2Fjson&subscription-key=6j_USCas00Jqmpj2EFtKe18nLWPylj0gPTOLeBypt9U&api-version=1.0&query=INTERMARCHE+ORGERES%2C+France HTTP/1.1\" 200 3343\n",
      "DEBUG 2019-03-06 14:09:21,625 Starting new HTTPS connection (1): atlas.microsoft.com:443\n"
     ]
    },
    {
     "name": "stdout",
     "output_type": "stream",
     "text": [
      "Web scrapping at : 11.546% which took 23 seconds to run.\n",
      "Web scrapping at : 11.639% which took 23 seconds to run.\n"
     ]
    },
    {
     "name": "stderr",
     "output_type": "stream",
     "text": [
      "DEBUG 2019-03-06 14:09:21,712 https://atlas.microsoft.com:443 \"GET /search/fuzzy/json?Content-Type=application%2Fjson&subscription-key=6j_USCas00Jqmpj2EFtKe18nLWPylj0gPTOLeBypt9U&api-version=1.0&query=INTERMARCHE+MERVILLE%2C+France HTTP/1.1\" 200 4331\n",
      "DEBUG 2019-03-06 14:09:21,720 Starting new HTTPS connection (1): atlas.microsoft.com:443\n",
      "DEBUG 2019-03-06 14:09:21,805 https://atlas.microsoft.com:443 \"GET /search/fuzzy/json?Content-Type=application%2Fjson&subscription-key=6j_USCas00Jqmpj2EFtKe18nLWPylj0gPTOLeBypt9U&api-version=1.0&query=INTERMARCHE+CASTRES%2C+France HTTP/1.1\" 200 4492\n",
      "DEBUG 2019-03-06 14:09:21,813 Starting new HTTPS connection (1): atlas.microsoft.com:443\n",
      "DEBUG 2019-03-06 14:09:21,896 https://atlas.microsoft.com:443 \"GET /search/fuzzy/json?Content-Type=application%2Fjson&subscription-key=6j_USCas00Jqmpj2EFtKe18nLWPylj0gPTOLeBypt9U&api-version=1.0&query=INTERMARCHE+AUXON%2C+France HTTP/1.1\" 200 3526\n",
      "DEBUG 2019-03-06 14:09:21,904 Starting new HTTPS connection (1): atlas.microsoft.com:443\n"
     ]
    },
    {
     "name": "stdout",
     "output_type": "stream",
     "text": [
      "Web scrapping at : 11.732% which took 23 seconds to run.\n",
      "Web scrapping at : 11.825% which took 23 seconds to run.\n",
      "Web scrapping at : 11.918% which took 23 seconds to run.\n"
     ]
    },
    {
     "name": "stderr",
     "output_type": "stream",
     "text": [
      "DEBUG 2019-03-06 14:09:22,043 https://atlas.microsoft.com:443 \"GET /search/fuzzy/json?Content-Type=application%2Fjson&subscription-key=6j_USCas00Jqmpj2EFtKe18nLWPylj0gPTOLeBypt9U&api-version=1.0&query=INTERMARCHE+CAMPAGNE+WARDRECQUES%2C+France HTTP/1.1\" 200 4489\n",
      "DEBUG 2019-03-06 14:09:22,051 Starting new HTTPS connection (1): atlas.microsoft.com:443\n",
      "DEBUG 2019-03-06 14:09:22,142 https://atlas.microsoft.com:443 \"GET /search/fuzzy/json?Content-Type=application%2Fjson&subscription-key=6j_USCas00Jqmpj2EFtKe18nLWPylj0gPTOLeBypt9U&api-version=1.0&query=INTERMARCHE+ST+PIERRE+VARENGEVIL%2C+France HTTP/1.1\" 200 9211\n",
      "DEBUG 2019-03-06 14:09:22,151 Starting new HTTPS connection (1): atlas.microsoft.com:443\n",
      "DEBUG 2019-03-06 14:09:22,236 https://atlas.microsoft.com:443 \"GET /search/fuzzy/json?Content-Type=application%2Fjson&subscription-key=6j_USCas00Jqmpj2EFtKe18nLWPylj0gPTOLeBypt9U&api-version=1.0&query=INTERMARCHE+ST+CLAUDE%2C+France HTTP/1.1\" 200 1995\n",
      "DEBUG 2019-03-06 14:09:22,243 Starting new HTTPS connection (1): atlas.microsoft.com:443\n"
     ]
    },
    {
     "name": "stdout",
     "output_type": "stream",
     "text": [
      "Web scrapping at : 12.011% which took 24 seconds to run.\n",
      "Web scrapping at : 12.104% which took 24 seconds to run.\n",
      "Web scrapping at : 12.197% which took 24 seconds to run.\n"
     ]
    },
    {
     "name": "stderr",
     "output_type": "stream",
     "text": [
      "DEBUG 2019-03-06 14:09:22,332 https://atlas.microsoft.com:443 \"GET /search/fuzzy/json?Content-Type=application%2Fjson&subscription-key=6j_USCas00Jqmpj2EFtKe18nLWPylj0gPTOLeBypt9U&api-version=1.0&query=INTERMARCHE+CHAGNY%2C+France HTTP/1.1\" 200 2690\n",
      "DEBUG 2019-03-06 14:09:22,341 Starting new HTTPS connection (1): atlas.microsoft.com:443\n",
      "DEBUG 2019-03-06 14:09:22,423 https://atlas.microsoft.com:443 \"GET /search/fuzzy/json?Content-Type=application%2Fjson&subscription-key=6j_USCas00Jqmpj2EFtKe18nLWPylj0gPTOLeBypt9U&api-version=1.0&query=INTERMARCHE+MARNAY%2C+France HTTP/1.1\" 200 2731\n",
      "DEBUG 2019-03-06 14:09:22,432 Starting new HTTPS connection (1): atlas.microsoft.com:443\n"
     ]
    },
    {
     "name": "stdout",
     "output_type": "stream",
     "text": [
      "Web scrapping at : 12.291% which took 24 seconds to run.\n",
      "Web scrapping at : 12.384% which took 24 seconds to run.\n"
     ]
    },
    {
     "name": "stderr",
     "output_type": "stream",
     "text": [
      "DEBUG 2019-03-06 14:09:22,603 https://atlas.microsoft.com:443 \"GET /search/fuzzy/json?Content-Type=application%2Fjson&subscription-key=6j_USCas00Jqmpj2EFtKe18nLWPylj0gPTOLeBypt9U&api-version=1.0&query=INTERMARCHE+GOURDON%2C+France HTTP/1.1\" 200 5992\n",
      "DEBUG 2019-03-06 14:09:22,610 Starting new HTTPS connection (1): atlas.microsoft.com:443\n",
      "DEBUG 2019-03-06 14:09:22,744 https://atlas.microsoft.com:443 \"GET /search/fuzzy/json?Content-Type=application%2Fjson&subscription-key=6j_USCas00Jqmpj2EFtKe18nLWPylj0gPTOLeBypt9U&api-version=1.0&query=INTERMARCHE+POLIGNY%2C+France HTTP/1.1\" 200 2497\n",
      "DEBUG 2019-03-06 14:09:22,751 Starting new HTTPS connection (1): atlas.microsoft.com:443\n"
     ]
    },
    {
     "name": "stdout",
     "output_type": "stream",
     "text": [
      "Web scrapping at : 12.477% which took 24 seconds to run.\n",
      "Web scrapping at : 12.57% which took 24 seconds to run.\n"
     ]
    },
    {
     "name": "stderr",
     "output_type": "stream",
     "text": [
      "DEBUG 2019-03-06 14:09:22,836 https://atlas.microsoft.com:443 \"GET /search/fuzzy/json?Content-Type=application%2Fjson&subscription-key=6j_USCas00Jqmpj2EFtKe18nLWPylj0gPTOLeBypt9U&api-version=1.0&query=INTERMARCHE+LA+GARDE%2C+France HTTP/1.1\" 200 6439\n",
      "DEBUG 2019-03-06 14:09:22,844 Starting new HTTPS connection (1): atlas.microsoft.com:443\n",
      "DEBUG 2019-03-06 14:09:22,998 https://atlas.microsoft.com:443 \"GET /search/fuzzy/json?Content-Type=application%2Fjson&subscription-key=6j_USCas00Jqmpj2EFtKe18nLWPylj0gPTOLeBypt9U&api-version=1.0&query=INTERMARCHE+BAZANCOURT%2C+France HTTP/1.1\" 200 1995\n",
      "DEBUG 2019-03-06 14:09:23,006 Starting new HTTPS connection (1): atlas.microsoft.com:443\n"
     ]
    },
    {
     "name": "stdout",
     "output_type": "stream",
     "text": [
      "Web scrapping at : 12.663% which took 24 seconds to run.\n",
      "Web scrapping at : 12.756% which took 24 seconds to run.\n"
     ]
    },
    {
     "name": "stderr",
     "output_type": "stream",
     "text": [
      "DEBUG 2019-03-06 14:09:23,093 https://atlas.microsoft.com:443 \"GET /search/fuzzy/json?Content-Type=application%2Fjson&subscription-key=6j_USCas00Jqmpj2EFtKe18nLWPylj0gPTOLeBypt9U&api-version=1.0&query=INTERMARCHE+ST+GRATIEN%2C+France HTTP/1.1\" 200 2076\n",
      "DEBUG 2019-03-06 14:09:23,101 Starting new HTTPS connection (1): atlas.microsoft.com:443\n"
     ]
    },
    {
     "name": "stdout",
     "output_type": "stream",
     "text": [
      "Web scrapping at : 12.849% which took 25 seconds to run.\n"
     ]
    },
    {
     "name": "stderr",
     "output_type": "stream",
     "text": [
      "DEBUG 2019-03-06 14:09:23,302 https://atlas.microsoft.com:443 \"GET /search/fuzzy/json?Content-Type=application%2Fjson&subscription-key=6j_USCas00Jqmpj2EFtKe18nLWPylj0gPTOLeBypt9U&api-version=1.0&query=INTERMARCHE+SAINT+PAUL+ST%2C+France HTTP/1.1\" 200 8631\n",
      "DEBUG 2019-03-06 14:09:23,311 Starting new HTTPS connection (1): atlas.microsoft.com:443\n"
     ]
    },
    {
     "name": "stdout",
     "output_type": "stream",
     "text": [
      "Web scrapping at : 12.942% which took 25 seconds to run.\n"
     ]
    },
    {
     "name": "stderr",
     "output_type": "stream",
     "text": [
      "DEBUG 2019-03-06 14:09:23,706 https://atlas.microsoft.com:443 \"GET /search/fuzzy/json?Content-Type=application%2Fjson&subscription-key=6j_USCas00Jqmpj2EFtKe18nLWPylj0gPTOLeBypt9U&api-version=1.0&query=INTERMARCHE+CHAMPIGNY%2C+France HTTP/1.1\" 200 7619\n",
      "DEBUG 2019-03-06 14:09:23,714 Starting new HTTPS connection (1): atlas.microsoft.com:443\n",
      "DEBUG 2019-03-06 14:09:23,860 https://atlas.microsoft.com:443 \"GET /search/fuzzy/json?Content-Type=application%2Fjson&subscription-key=6j_USCas00Jqmpj2EFtKe18nLWPylj0gPTOLeBypt9U&api-version=1.0&query=INTERMARCHE+CHAMPAGNE%2C+France HTTP/1.1\" 200 7892\n",
      "DEBUG 2019-03-06 14:09:23,867 Starting new HTTPS connection (1): atlas.microsoft.com:443\n"
     ]
    },
    {
     "name": "stdout",
     "output_type": "stream",
     "text": [
      "Web scrapping at : 13.035% which took 25 seconds to run.\n",
      "Web scrapping at : 13.128% which took 25 seconds to run.\n"
     ]
    },
    {
     "name": "stderr",
     "output_type": "stream",
     "text": [
      "DEBUG 2019-03-06 14:09:24,017 https://atlas.microsoft.com:443 \"GET /search/fuzzy/json?Content-Type=application%2Fjson&subscription-key=6j_USCas00Jqmpj2EFtKe18nLWPylj0gPTOLeBypt9U&api-version=1.0&query=INTERMARCHE+ST+VALLIER%2C+France HTTP/1.1\" 200 8916\n",
      "DEBUG 2019-03-06 14:09:24,025 Starting new HTTPS connection (1): atlas.microsoft.com:443\n",
      "DEBUG 2019-03-06 14:09:24,118 https://atlas.microsoft.com:443 \"GET /search/fuzzy/json?Content-Type=application%2Fjson&subscription-key=6j_USCas00Jqmpj2EFtKe18nLWPylj0gPTOLeBypt9U&api-version=1.0&query=INTERMARCHE+VINEUIL%2C+France HTTP/1.1\" 200 2672\n",
      "DEBUG 2019-03-06 14:09:24,127 Starting new HTTPS connection (1): atlas.microsoft.com:443\n",
      "DEBUG 2019-03-06 14:09:24,214 https://atlas.microsoft.com:443 \"GET /search/fuzzy/json?Content-Type=application%2Fjson&subscription-key=6j_USCas00Jqmpj2EFtKe18nLWPylj0gPTOLeBypt9U&api-version=1.0&query=INTERMARCHE+ST+AMAND+MONTROND+AMANOTRE+DAME%2C+France HTTP/1.1\" 200 8206\n",
      "DEBUG 2019-03-06 14:09:24,222 Starting new HTTPS connection (1): atlas.microsoft.com:443\n"
     ]
    },
    {
     "name": "stdout",
     "output_type": "stream",
     "text": [
      "Web scrapping at : 13.222% which took 25 seconds to run.\n",
      "Web scrapping at : 13.315% which took 26 seconds to run.\n",
      "Web scrapping at : 13.408% which took 26 seconds to run.\n"
     ]
    },
    {
     "name": "stderr",
     "output_type": "stream",
     "text": [
      "DEBUG 2019-03-06 14:09:24,363 https://atlas.microsoft.com:443 \"GET /search/fuzzy/json?Content-Type=application%2Fjson&subscription-key=6j_USCas00Jqmpj2EFtKe18nLWPylj0gPTOLeBypt9U&api-version=1.0&query=INTERMARCHE+AUBUSSON%2C+France HTTP/1.1\" 200 6505\n",
      "DEBUG 2019-03-06 14:09:24,370 Starting new HTTPS connection (1): atlas.microsoft.com:443\n",
      "DEBUG 2019-03-06 14:09:24,498 https://atlas.microsoft.com:443 \"GET /search/fuzzy/json?Content-Type=application%2Fjson&subscription-key=6j_USCas00Jqmpj2EFtKe18nLWPylj0gPTOLeBypt9U&api-version=1.0&query=INTERMARCHE+CONTRES%2C+France HTTP/1.1\" 200 4517\n",
      "DEBUG 2019-03-06 14:09:24,505 Starting new HTTPS connection (1): atlas.microsoft.com:443\n"
     ]
    },
    {
     "name": "stdout",
     "output_type": "stream",
     "text": [
      "Web scrapping at : 13.501% which took 26 seconds to run.\n",
      "Web scrapping at : 13.594% which took 26 seconds to run.\n"
     ]
    },
    {
     "name": "stderr",
     "output_type": "stream",
     "text": [
      "DEBUG 2019-03-06 14:09:24,685 https://atlas.microsoft.com:443 \"GET /search/fuzzy/json?Content-Type=application%2Fjson&subscription-key=6j_USCas00Jqmpj2EFtKe18nLWPylj0gPTOLeBypt9U&api-version=1.0&query=INTERMARCHE+MALICORNE%2C+France HTTP/1.1\" 200 2711\n",
      "DEBUG 2019-03-06 14:09:24,692 Starting new HTTPS connection (1): atlas.microsoft.com:443\n",
      "DEBUG 2019-03-06 14:09:24,857 https://atlas.microsoft.com:443 \"GET /search/fuzzy/json?Content-Type=application%2Fjson&subscription-key=6j_USCas00Jqmpj2EFtKe18nLWPylj0gPTOLeBypt9U&api-version=1.0&query=INTERMARCHE+NEUVIC+SUR+L%27ISLE+L+ISLE%2C+France HTTP/1.1\" 200 1085\n",
      "DEBUG 2019-03-06 14:09:24,865 Starting new HTTPS connection (1): atlas.microsoft.com:443\n"
     ]
    },
    {
     "name": "stdout",
     "output_type": "stream",
     "text": [
      "Web scrapping at : 13.687% which took 26 seconds to run.\n",
      "Web scrapping at : 13.78% which took 26 seconds to run.\n"
     ]
    },
    {
     "name": "stderr",
     "output_type": "stream",
     "text": [
      "DEBUG 2019-03-06 14:09:24,951 https://atlas.microsoft.com:443 \"GET /search/fuzzy/json?Content-Type=application%2Fjson&subscription-key=6j_USCas00Jqmpj2EFtKe18nLWPylj0gPTOLeBypt9U&api-version=1.0&query=INTERMARCHE+CHALAIS%2C+France HTTP/1.1\" 200 6277\n",
      "DEBUG 2019-03-06 14:09:24,959 Starting new HTTPS connection (1): atlas.microsoft.com:443\n",
      "DEBUG 2019-03-06 14:09:25,046 https://atlas.microsoft.com:443 \"GET /search/fuzzy/json?Content-Type=application%2Fjson&subscription-key=6j_USCas00Jqmpj2EFtKe18nLWPylj0gPTOLeBypt9U&api-version=1.0&query=INTERMARCHE+RUFFEC%2C+France HTTP/1.1\" 200 1949\n",
      "DEBUG 2019-03-06 14:09:25,054 Starting new HTTPS connection (1): atlas.microsoft.com:443\n"
     ]
    },
    {
     "name": "stdout",
     "output_type": "stream",
     "text": [
      "Web scrapping at : 13.873% which took 26 seconds to run.\n",
      "Web scrapping at : 13.966% which took 27 seconds to run.\n"
     ]
    },
    {
     "name": "stderr",
     "output_type": "stream",
     "text": [
      "DEBUG 2019-03-06 14:09:25,181 https://atlas.microsoft.com:443 \"GET /search/fuzzy/json?Content-Type=application%2Fjson&subscription-key=6j_USCas00Jqmpj2EFtKe18nLWPylj0gPTOLeBypt9U&api-version=1.0&query=INTERMARCHE+MARANS%2C+France HTTP/1.1\" 200 3740\n",
      "DEBUG 2019-03-06 14:09:25,189 Starting new HTTPS connection (1): atlas.microsoft.com:443\n"
     ]
    },
    {
     "name": "stdout",
     "output_type": "stream",
     "text": [
      "Web scrapping at : 14.06% which took 27 seconds to run.\n"
     ]
    },
    {
     "name": "stderr",
     "output_type": "stream",
     "text": [
      "DEBUG 2019-03-06 14:09:25,593 https://atlas.microsoft.com:443 \"GET /search/fuzzy/json?Content-Type=application%2Fjson&subscription-key=6j_USCas00Jqmpj2EFtKe18nLWPylj0gPTOLeBypt9U&api-version=1.0&query=INTERMARCHE+TERRASSON+CEDEX%2C+France HTTP/1.1\" 200 6416\n",
      "DEBUG 2019-03-06 14:09:25,602 Starting new HTTPS connection (1): atlas.microsoft.com:443\n"
     ]
    },
    {
     "name": "stdout",
     "output_type": "stream",
     "text": [
      "Web scrapping at : 14.153% which took 27 seconds to run.\n"
     ]
    },
    {
     "name": "stderr",
     "output_type": "stream",
     "text": [
      "DEBUG 2019-03-06 14:09:26,636 https://atlas.microsoft.com:443 \"GET /search/fuzzy/json?Content-Type=application%2Fjson&subscription-key=6j_USCas00Jqmpj2EFtKe18nLWPylj0gPTOLeBypt9U&api-version=1.0&query=INTERMARCHE+AULNAY+DE+SAINTONGE+STONGE%2C+France HTTP/1.1\" 200 9071\n",
      "DEBUG 2019-03-06 14:09:26,645 Starting new HTTPS connection (1): atlas.microsoft.com:443\n",
      "DEBUG 2019-03-06 14:09:26,773 https://atlas.microsoft.com:443 \"GET /search/fuzzy/json?Content-Type=application%2Fjson&subscription-key=6j_USCas00Jqmpj2EFtKe18nLWPylj0gPTOLeBypt9U&api-version=1.0&query=INTERMARCHE+SEGONZAC%2C+France HTTP/1.1\" 200 2761\n",
      "DEBUG 2019-03-06 14:09:26,781 Starting new HTTPS connection (1): atlas.microsoft.com:443\n"
     ]
    },
    {
     "name": "stdout",
     "output_type": "stream",
     "text": [
      "Web scrapping at : 14.246% which took 28 seconds to run.\n",
      "Web scrapping at : 14.339% which took 28 seconds to run.\n"
     ]
    },
    {
     "name": "stderr",
     "output_type": "stream",
     "text": [
      "DEBUG 2019-03-06 14:09:26,868 https://atlas.microsoft.com:443 \"GET /search/fuzzy/json?Content-Type=application%2Fjson&subscription-key=6j_USCas00Jqmpj2EFtKe18nLWPylj0gPTOLeBypt9U&api-version=1.0&query=INTERMARCHE+CHAMPNIERS%2C+France HTTP/1.1\" 200 2758\n",
      "DEBUG 2019-03-06 14:09:26,876 Starting new HTTPS connection (1): atlas.microsoft.com:443\n",
      "DEBUG 2019-03-06 14:09:27,011 https://atlas.microsoft.com:443 \"GET /search/fuzzy/json?Content-Type=application%2Fjson&subscription-key=6j_USCas00Jqmpj2EFtKe18nLWPylj0gPTOLeBypt9U&api-version=1.0&query=INTERMARCHE+MONTAIGU%2C+France HTTP/1.1\" 200 5545\n",
      "DEBUG 2019-03-06 14:09:27,019 Starting new HTTPS connection (1): atlas.microsoft.com:443\n"
     ]
    },
    {
     "name": "stdout",
     "output_type": "stream",
     "text": [
      "Web scrapping at : 14.432% which took 28 seconds to run.\n",
      "Web scrapping at : 14.525% which took 28 seconds to run.\n"
     ]
    },
    {
     "name": "stderr",
     "output_type": "stream",
     "text": [
      "DEBUG 2019-03-06 14:09:28,118 https://atlas.microsoft.com:443 \"GET /search/fuzzy/json?Content-Type=application%2Fjson&subscription-key=6j_USCas00Jqmpj2EFtKe18nLWPylj0gPTOLeBypt9U&api-version=1.0&query=INTERMARCHE+LA+PALLICE%2C+France HTTP/1.1\" 200 8762\n",
      "DEBUG 2019-03-06 14:09:28,126 Starting new HTTPS connection (1): atlas.microsoft.com:443\n",
      "DEBUG 2019-03-06 14:09:28,314 https://atlas.microsoft.com:443 \"GET /search/fuzzy/json?Content-Type=application%2Fjson&subscription-key=6j_USCas00Jqmpj2EFtKe18nLWPylj0gPTOLeBypt9U&api-version=1.0&query=INTERMARCHE+ST+LEGER+MARTINIERE%2C+France HTTP/1.1\" 200 2953\n",
      "DEBUG 2019-03-06 14:09:28,321 Starting new HTTPS connection (1): atlas.microsoft.com:443\n"
     ]
    },
    {
     "name": "stdout",
     "output_type": "stream",
     "text": [
      "Web scrapping at : 14.618% which took 30 seconds to run.\n",
      "Web scrapping at : 14.711% which took 30 seconds to run.\n"
     ]
    },
    {
     "name": "stderr",
     "output_type": "stream",
     "text": [
      "DEBUG 2019-03-06 14:09:28,439 https://atlas.microsoft.com:443 \"GET /search/fuzzy/json?Content-Type=application%2Fjson&subscription-key=6j_USCas00Jqmpj2EFtKe18nLWPylj0gPTOLeBypt9U&api-version=1.0&query=INTERMARCHE+CIVRAY%2C+France HTTP/1.1\" 200 900\n",
      "DEBUG 2019-03-06 14:09:28,447 Starting new HTTPS connection (1): atlas.microsoft.com:443\n",
      "DEBUG 2019-03-06 14:09:28,566 https://atlas.microsoft.com:443 \"GET /search/fuzzy/json?Content-Type=application%2Fjson&subscription-key=6j_USCas00Jqmpj2EFtKe18nLWPylj0gPTOLeBypt9U&api-version=1.0&query=INTERMARCHE+CHALUS%2C+France HTTP/1.1\" 200 3668\n",
      "DEBUG 2019-03-06 14:09:28,575 Starting new HTTPS connection (1): atlas.microsoft.com:443\n"
     ]
    },
    {
     "name": "stdout",
     "output_type": "stream",
     "text": [
      "Web scrapping at : 14.804% which took 30 seconds to run.\n",
      "Web scrapping at : 14.898% which took 30 seconds to run.\n"
     ]
    },
    {
     "name": "stderr",
     "output_type": "stream",
     "text": [
      "DEBUG 2019-03-06 14:09:28,695 https://atlas.microsoft.com:443 \"GET /search/fuzzy/json?Content-Type=application%2Fjson&subscription-key=6j_USCas00Jqmpj2EFtKe18nLWPylj0gPTOLeBypt9U&api-version=1.0&query=INTERMARCHE+USSEL%2C+France HTTP/1.1\" 200 1112\n",
      "DEBUG 2019-03-06 14:09:28,703 Starting new HTTPS connection (1): atlas.microsoft.com:443\n",
      "DEBUG 2019-03-06 14:09:28,787 https://atlas.microsoft.com:443 \"GET /search/fuzzy/json?Content-Type=application%2Fjson&subscription-key=6j_USCas00Jqmpj2EFtKe18nLWPylj0gPTOLeBypt9U&api-version=1.0&query=INTERMARCHE+L%27ISLE+JOURDAIN+L+ISLE%2C+France HTTP/1.1\" 200 3658\n",
      "DEBUG 2019-03-06 14:09:28,796 Starting new HTTPS connection (1): atlas.microsoft.com:443\n"
     ]
    },
    {
     "name": "stdout",
     "output_type": "stream",
     "text": [
      "Web scrapping at : 14.991% which took 30 seconds to run.\n",
      "Web scrapping at : 15.084% which took 30 seconds to run.\n"
     ]
    },
    {
     "name": "stderr",
     "output_type": "stream",
     "text": [
      "DEBUG 2019-03-06 14:09:28,917 https://atlas.microsoft.com:443 \"GET /search/fuzzy/json?Content-Type=application%2Fjson&subscription-key=6j_USCas00Jqmpj2EFtKe18nLWPylj0gPTOLeBypt9U&api-version=1.0&query=INTERMARCHE+FROMENTINE%2C+France HTTP/1.1\" 200 1818\n",
      "DEBUG 2019-03-06 14:09:28,926 Starting new HTTPS connection (1): atlas.microsoft.com:443\n",
      "DEBUG 2019-03-06 14:09:29,008 https://atlas.microsoft.com:443 \"GET /search/fuzzy/json?Content-Type=application%2Fjson&subscription-key=6j_USCas00Jqmpj2EFtKe18nLWPylj0gPTOLeBypt9U&api-version=1.0&query=INTERMARCHE+MARENNES%2C+France HTTP/1.1\" 200 3542\n",
      "DEBUG 2019-03-06 14:09:29,017 Starting new HTTPS connection (1): atlas.microsoft.com:443\n"
     ]
    },
    {
     "name": "stdout",
     "output_type": "stream",
     "text": [
      "Web scrapping at : 15.177% which took 30 seconds to run.\n",
      "Web scrapping at : 15.27% which took 30 seconds to run.\n"
     ]
    },
    {
     "name": "stderr",
     "output_type": "stream",
     "text": [
      "DEBUG 2019-03-06 14:09:29,218 https://atlas.microsoft.com:443 \"GET /search/fuzzy/json?Content-Type=application%2Fjson&subscription-key=6j_USCas00Jqmpj2EFtKe18nLWPylj0gPTOLeBypt9U&api-version=1.0&query=INTERMARCHE+ROCHEFORT+S%2FMER+SUR+MER%2C+France HTTP/1.1\" 200 1049\n",
      "DEBUG 2019-03-06 14:09:29,226 Starting new HTTPS connection (1): atlas.microsoft.com:443\n",
      "DEBUG 2019-03-06 14:09:29,361 https://atlas.microsoft.com:443 \"GET /search/fuzzy/json?Content-Type=application%2Fjson&subscription-key=6j_USCas00Jqmpj2EFtKe18nLWPylj0gPTOLeBypt9U&api-version=1.0&query=INTERMARCHE+RUELLE%2C+France HTTP/1.1\" 200 5561\n",
      "DEBUG 2019-03-06 14:09:29,369 Starting new HTTPS connection (1): atlas.microsoft.com:443\n"
     ]
    },
    {
     "name": "stdout",
     "output_type": "stream",
     "text": [
      "Web scrapping at : 15.363% which took 31 seconds to run.\n",
      "Web scrapping at : 15.456% which took 31 seconds to run.\n"
     ]
    },
    {
     "name": "stderr",
     "output_type": "stream",
     "text": [
      "DEBUG 2019-03-06 14:09:29,498 https://atlas.microsoft.com:443 \"GET /search/fuzzy/json?Content-Type=application%2Fjson&subscription-key=6j_USCas00Jqmpj2EFtKe18nLWPylj0gPTOLeBypt9U&api-version=1.0&query=INTERMARCHE+MONTIGNAC%2C+France HTTP/1.1\" 200 3431\n",
      "DEBUG 2019-03-06 14:09:29,507 Starting new HTTPS connection (1): atlas.microsoft.com:443\n",
      "DEBUG 2019-03-06 14:09:29,705 https://atlas.microsoft.com:443 \"GET /search/fuzzy/json?Content-Type=application%2Fjson&subscription-key=6j_USCas00Jqmpj2EFtKe18nLWPylj0gPTOLeBypt9U&api-version=1.0&query=INTERMARCHE+VALENCE%2C+France HTTP/1.1\" 200 8812\n"
     ]
    },
    {
     "name": "stdout",
     "output_type": "stream",
     "text": [
      "Web scrapping at : 15.549% which took 31 seconds to run.\n"
     ]
    },
    {
     "name": "stderr",
     "output_type": "stream",
     "text": [
      "DEBUG 2019-03-06 14:09:29,715 Starting new HTTPS connection (1): atlas.microsoft.com:443\n"
     ]
    },
    {
     "name": "stdout",
     "output_type": "stream",
     "text": [
      "Web scrapping at : 15.642% which took 31 seconds to run.\n"
     ]
    },
    {
     "name": "stderr",
     "output_type": "stream",
     "text": [
      "DEBUG 2019-03-06 14:09:30,246 https://atlas.microsoft.com:443 \"GET /search/fuzzy/json?Content-Type=application%2Fjson&subscription-key=6j_USCas00Jqmpj2EFtKe18nLWPylj0gPTOLeBypt9U&api-version=1.0&query=INTERMARCHE+BELLEVILLE+SUR+SAONE%2C+France HTTP/1.1\" 200 9103\n",
      "DEBUG 2019-03-06 14:09:30,254 Starting new HTTPS connection (1): atlas.microsoft.com:443\n",
      "DEBUG 2019-03-06 14:09:30,388 https://atlas.microsoft.com:443 \"GET /search/fuzzy/json?Content-Type=application%2Fjson&subscription-key=6j_USCas00Jqmpj2EFtKe18nLWPylj0gPTOLeBypt9U&api-version=1.0&query=INTERMARCHE+MONTBRISON%2C+France HTTP/1.1\" 200 2775\n",
      "DEBUG 2019-03-06 14:09:30,396 Starting new HTTPS connection (1): atlas.microsoft.com:443\n"
     ]
    },
    {
     "name": "stdout",
     "output_type": "stream",
     "text": [
      "Web scrapping at : 15.736% which took 32 seconds to run.\n",
      "Web scrapping at : 15.829% which took 32 seconds to run.\n"
     ]
    },
    {
     "name": "stderr",
     "output_type": "stream",
     "text": [
      "DEBUG 2019-03-06 14:09:30,481 https://atlas.microsoft.com:443 \"GET /search/fuzzy/json?Content-Type=application%2Fjson&subscription-key=6j_USCas00Jqmpj2EFtKe18nLWPylj0gPTOLeBypt9U&api-version=1.0&query=INTERMARCHE+LAROQUE%2C+France HTTP/1.1\" 200 5869\n",
      "DEBUG 2019-03-06 14:09:30,489 Starting new HTTPS connection (1): atlas.microsoft.com:443\n",
      "DEBUG 2019-03-06 14:09:30,627 https://atlas.microsoft.com:443 \"GET /search/fuzzy/json?Content-Type=application%2Fjson&subscription-key=6j_USCas00Jqmpj2EFtKe18nLWPylj0gPTOLeBypt9U&api-version=1.0&query=INTERMARCHE+LE+CHEYLARD%2C+France HTTP/1.1\" 200 3638\n",
      "DEBUG 2019-03-06 14:09:30,635 Starting new HTTPS connection (1): atlas.microsoft.com:443\n"
     ]
    },
    {
     "name": "stdout",
     "output_type": "stream",
     "text": [
      "Web scrapping at : 15.922% which took 32 seconds to run.\n",
      "Web scrapping at : 16.015% which took 32 seconds to run.\n"
     ]
    },
    {
     "name": "stderr",
     "output_type": "stream",
     "text": [
      "DEBUG 2019-03-06 14:09:30,831 https://atlas.microsoft.com:443 \"GET /search/fuzzy/json?Content-Type=application%2Fjson&subscription-key=6j_USCas00Jqmpj2EFtKe18nLWPylj0gPTOLeBypt9U&api-version=1.0&query=INTERMARCHE+VILLENEUVE+LES+MAGUE%2C+France HTTP/1.1\" 200 979\n",
      "DEBUG 2019-03-06 14:09:30,839 Starting new HTTPS connection (1): atlas.microsoft.com:443\n",
      "DEBUG 2019-03-06 14:09:31,035 https://atlas.microsoft.com:443 \"GET /search/fuzzy/json?Content-Type=application%2Fjson&subscription-key=6j_USCas00Jqmpj2EFtKe18nLWPylj0gPTOLeBypt9U&api-version=1.0&query=INTERMARCHE+VILLARDS+SUR+THONES%2C+France HTTP/1.1\" 200 3811\n"
     ]
    },
    {
     "name": "stdout",
     "output_type": "stream",
     "text": [
      "Web scrapping at : 16.108% which took 32 seconds to run.\n"
     ]
    },
    {
     "name": "stderr",
     "output_type": "stream",
     "text": [
      "DEBUG 2019-03-06 14:09:31,044 Starting new HTTPS connection (1): atlas.microsoft.com:443\n",
      "DEBUG 2019-03-06 14:09:31,130 https://atlas.microsoft.com:443 \"GET /search/fuzzy/json?Content-Type=application%2Fjson&subscription-key=6j_USCas00Jqmpj2EFtKe18nLWPylj0gPTOLeBypt9U&api-version=1.0&query=INTERMARCHE+LE+TEIL%2C+France HTTP/1.1\" 200 3561\n",
      "DEBUG 2019-03-06 14:09:31,137 Starting new HTTPS connection (1): atlas.microsoft.com:443\n",
      "DEBUG 2019-03-06 14:09:31,324 https://atlas.microsoft.com:443 \"GET /search/fuzzy/json?Content-Type=application%2Fjson&subscription-key=6j_USCas00Jqmpj2EFtKe18nLWPylj0gPTOLeBypt9U&api-version=1.0&query=INTERMARCHE+LA+VOULTE+SUR+RHONE%2C+France HTTP/1.1\" 200 2855\n",
      "DEBUG 2019-03-06 14:09:31,331 Starting new HTTPS connection (1): atlas.microsoft.com:443\n"
     ]
    },
    {
     "name": "stdout",
     "output_type": "stream",
     "text": [
      "Web scrapping at : 16.201% which took 33 seconds to run.\n",
      "Web scrapping at : 16.294% which took 33 seconds to run.\n",
      "Web scrapping at : 16.387% which took 33 seconds to run.\n"
     ]
    },
    {
     "name": "stderr",
     "output_type": "stream",
     "text": [
      "DEBUG 2019-03-06 14:09:31,415 https://atlas.microsoft.com:443 \"GET /search/fuzzy/json?Content-Type=application%2Fjson&subscription-key=6j_USCas00Jqmpj2EFtKe18nLWPylj0gPTOLeBypt9U&api-version=1.0&query=INTERMARCHE+QUISSAC%2C+France HTTP/1.1\" 200 1932\n",
      "DEBUG 2019-03-06 14:09:31,423 Starting new HTTPS connection (1): atlas.microsoft.com:443\n",
      "DEBUG 2019-03-06 14:09:31,605 https://atlas.microsoft.com:443 \"GET /search/fuzzy/json?Content-Type=application%2Fjson&subscription-key=6j_USCas00Jqmpj2EFtKe18nLWPylj0gPTOLeBypt9U&api-version=1.0&query=INTERMARCHE+LE+POUZIN%2C+France HTTP/1.1\" 200 1984\n",
      "DEBUG 2019-03-06 14:09:31,613 Starting new HTTPS connection (1): atlas.microsoft.com:443\n"
     ]
    },
    {
     "name": "stdout",
     "output_type": "stream",
     "text": [
      "Web scrapping at : 16.48% which took 33 seconds to run.\n",
      "Web scrapping at : 16.574% which took 33 seconds to run.\n"
     ]
    },
    {
     "name": "stderr",
     "output_type": "stream",
     "text": [
      "DEBUG 2019-03-06 14:09:32,004 https://atlas.microsoft.com:443 \"GET /search/fuzzy/json?Content-Type=application%2Fjson&subscription-key=6j_USCas00Jqmpj2EFtKe18nLWPylj0gPTOLeBypt9U&api-version=1.0&query=INTERMARCHE+CHATILLON+%2FCHALARONN%2C+France HTTP/1.1\" 200 7846\n",
      "DEBUG 2019-03-06 14:09:32,012 Starting new HTTPS connection (1): atlas.microsoft.com:443\n",
      "DEBUG 2019-03-06 14:09:32,191 https://atlas.microsoft.com:443 \"GET /search/fuzzy/json?Content-Type=application%2Fjson&subscription-key=6j_USCas00Jqmpj2EFtKe18nLWPylj0gPTOLeBypt9U&api-version=1.0&query=INTERMARCHE+ST+SAUVEUR%2C+France HTTP/1.1\" 200 2797\n",
      "DEBUG 2019-03-06 14:09:32,199 Starting new HTTPS connection (1): atlas.microsoft.com:443\n"
     ]
    },
    {
     "name": "stdout",
     "output_type": "stream",
     "text": [
      "Web scrapping at : 16.667% which took 33 seconds to run.\n",
      "Web scrapping at : 16.76% which took 34 seconds to run.\n"
     ]
    },
    {
     "name": "stderr",
     "output_type": "stream",
     "text": [
      "DEBUG 2019-03-06 14:09:32,359 https://atlas.microsoft.com:443 \"GET /search/fuzzy/json?Content-Type=application%2Fjson&subscription-key=6j_USCas00Jqmpj2EFtKe18nLWPylj0gPTOLeBypt9U&api-version=1.0&query=INTERMARCHE+GRIGNY%2C+France HTTP/1.1\" 200 3526\n",
      "DEBUG 2019-03-06 14:09:32,368 Starting new HTTPS connection (1): atlas.microsoft.com:443\n",
      "DEBUG 2019-03-06 14:09:32,491 https://atlas.microsoft.com:443 \"GET /search/fuzzy/json?Content-Type=application%2Fjson&subscription-key=6j_USCas00Jqmpj2EFtKe18nLWPylj0gPTOLeBypt9U&api-version=1.0&query=INTERMARCHE+FOURNEAUX%2C+France HTTP/1.1\" 200 2581\n",
      "DEBUG 2019-03-06 14:09:32,498 Starting new HTTPS connection (1): atlas.microsoft.com:443\n"
     ]
    },
    {
     "name": "stdout",
     "output_type": "stream",
     "text": [
      "Web scrapping at : 16.853% which took 34 seconds to run.\n",
      "Web scrapping at : 16.946% which took 34 seconds to run.\n"
     ]
    },
    {
     "name": "stderr",
     "output_type": "stream",
     "text": [
      "DEBUG 2019-03-06 14:09:32,688 https://atlas.microsoft.com:443 \"GET /search/fuzzy/json?Content-Type=application%2Fjson&subscription-key=6j_USCas00Jqmpj2EFtKe18nLWPylj0gPTOLeBypt9U&api-version=1.0&query=INTERMARCHE+ST+PAUL+3+CHATEAUX%2C+France HTTP/1.1\" 200 2880\n",
      "DEBUG 2019-03-06 14:09:32,698 Starting new HTTPS connection (1): atlas.microsoft.com:443\n",
      "DEBUG 2019-03-06 14:09:32,876 https://atlas.microsoft.com:443 \"GET /search/fuzzy/json?Content-Type=application%2Fjson&subscription-key=6j_USCas00Jqmpj2EFtKe18nLWPylj0gPTOLeBypt9U&api-version=1.0&query=INTERMARCHE+RUMILLY%2C+France HTTP/1.1\" 200 3672\n",
      "DEBUG 2019-03-06 14:09:32,886 Starting new HTTPS connection (1): atlas.microsoft.com:443\n"
     ]
    },
    {
     "name": "stdout",
     "output_type": "stream",
     "text": [
      "Web scrapping at : 17.039% which took 34 seconds to run.\n",
      "Web scrapping at : 17.132% which took 34 seconds to run.\n"
     ]
    },
    {
     "name": "stderr",
     "output_type": "stream",
     "text": [
      "DEBUG 2019-03-06 14:09:32,979 https://atlas.microsoft.com:443 \"GET /search/fuzzy/json?Content-Type=application%2Fjson&subscription-key=6j_USCas00Jqmpj2EFtKe18nLWPylj0gPTOLeBypt9U&api-version=1.0&query=INTERMARCHE+AVEZE%2C+France HTTP/1.1\" 200 2685\n",
      "DEBUG 2019-03-06 14:09:32,987 Starting new HTTPS connection (1): atlas.microsoft.com:443\n",
      "DEBUG 2019-03-06 14:09:33,091 https://atlas.microsoft.com:443 \"GET /search/fuzzy/json?Content-Type=application%2Fjson&subscription-key=6j_USCas00Jqmpj2EFtKe18nLWPylj0gPTOLeBypt9U&api-version=1.0&query=INTERMARCHE+SAINT+VALLIER+ST%2C+France HTTP/1.1\" 200 8924\n",
      "DEBUG 2019-03-06 14:09:33,099 Starting new HTTPS connection (1): atlas.microsoft.com:443\n",
      "DEBUG 2019-03-06 14:09:33,182 https://atlas.microsoft.com:443 \"GET /search/fuzzy/json?Content-Type=application%2Fjson&subscription-key=6j_USCas00Jqmpj2EFtKe18nLWPylj0gPTOLeBypt9U&api-version=1.0&query=INTERMARCHE+SAINT+AMBROIX+ST%2C+France HTTP/1.1\" 200 2733\n"
     ]
    },
    {
     "name": "stdout",
     "output_type": "stream",
     "text": [
      "Web scrapping at : 17.225% which took 34 seconds to run.\n",
      "Web scrapping at : 17.318% which took 35 seconds to run.\n"
     ]
    },
    {
     "name": "stderr",
     "output_type": "stream",
     "text": [
      "DEBUG 2019-03-06 14:09:33,190 Starting new HTTPS connection (1): atlas.microsoft.com:443\n",
      "DEBUG 2019-03-06 14:09:33,504 https://atlas.microsoft.com:443 \"GET /search/fuzzy/json?Content-Type=application%2Fjson&subscription-key=6j_USCas00Jqmpj2EFtKe18nLWPylj0gPTOLeBypt9U&api-version=1.0&query=INTERMARCHE+AMPLEPLUIS%2C+France HTTP/1.1\" 200 7058\n",
      "DEBUG 2019-03-06 14:09:33,512 Starting new HTTPS connection (1): atlas.microsoft.com:443\n",
      "DEBUG 2019-03-06 14:09:33,650 https://atlas.microsoft.com:443 \"GET /search/fuzzy/json?Content-Type=application%2Fjson&subscription-key=6j_USCas00Jqmpj2EFtKe18nLWPylj0gPTOLeBypt9U&api-version=1.0&query=INTERMARCHE+GIGNAC%2C+France HTTP/1.1\" 200 3533\n",
      "DEBUG 2019-03-06 14:09:33,658 Starting new HTTPS connection (1): atlas.microsoft.com:443\n"
     ]
    },
    {
     "name": "stdout",
     "output_type": "stream",
     "text": [
      "Web scrapping at : 17.412% which took 35 seconds to run.\n",
      "Web scrapping at : 17.505% which took 35 seconds to run.\n",
      "Web scrapping at : 17.598% which took 35 seconds to run.\n"
     ]
    },
    {
     "name": "stderr",
     "output_type": "stream",
     "text": [
      "DEBUG 2019-03-06 14:09:33,853 https://atlas.microsoft.com:443 \"GET /search/fuzzy/json?Content-Type=application%2Fjson&subscription-key=6j_USCas00Jqmpj2EFtKe18nLWPylj0gPTOLeBypt9U&api-version=1.0&query=INTERMARCHE+SAINT+GILLES+ST%2C+France HTTP/1.1\" 200 6362\n",
      "DEBUG 2019-03-06 14:09:33,861 Starting new HTTPS connection (1): atlas.microsoft.com:443\n"
     ]
    },
    {
     "name": "stdout",
     "output_type": "stream",
     "text": [
      "Web scrapping at : 17.691% which took 35 seconds to run.\n"
     ]
    },
    {
     "name": "stderr",
     "output_type": "stream",
     "text": [
      "DEBUG 2019-03-06 14:09:34,328 https://atlas.microsoft.com:443 \"GET /search/fuzzy/json?Content-Type=application%2Fjson&subscription-key=6j_USCas00Jqmpj2EFtKe18nLWPylj0gPTOLeBypt9U&api-version=1.0&query=INTERMARCHE+PONT+DE+BEAUVOISIN%2C+France HTTP/1.1\" 200 3781\n",
      "DEBUG 2019-03-06 14:09:34,337 Starting new HTTPS connection (1): atlas.microsoft.com:443\n"
     ]
    },
    {
     "name": "stdout",
     "output_type": "stream",
     "text": [
      "Web scrapping at : 17.784% which took 36 seconds to run.\n"
     ]
    },
    {
     "name": "stderr",
     "output_type": "stream",
     "text": [
      "DEBUG 2019-03-06 14:09:34,795 https://atlas.microsoft.com:443 \"GET /search/fuzzy/json?Content-Type=application%2Fjson&subscription-key=6j_USCas00Jqmpj2EFtKe18nLWPylj0gPTOLeBypt9U&api-version=1.0&query=INTERMARCHE+MARTIGNAS+EN+JALLES%2C+France HTTP/1.1\" 200 6758\n",
      "DEBUG 2019-03-06 14:09:34,804 Starting new HTTPS connection (1): atlas.microsoft.com:443\n"
     ]
    },
    {
     "name": "stdout",
     "output_type": "stream",
     "text": [
      "Web scrapping at : 17.877% which took 36 seconds to run.\n"
     ]
    },
    {
     "name": "stderr",
     "output_type": "stream",
     "text": [
      "DEBUG 2019-03-06 14:09:35,618 https://atlas.microsoft.com:443 \"GET /search/fuzzy/json?Content-Type=application%2Fjson&subscription-key=6j_USCas00Jqmpj2EFtKe18nLWPylj0gPTOLeBypt9U&api-version=1.0&query=INTERMARCHE+SAINT+PALAIS+ST%2C+France HTTP/1.1\" 200 6996\n",
      "DEBUG 2019-03-06 14:09:35,627 Starting new HTTPS connection (1): atlas.microsoft.com:443\n",
      "DEBUG 2019-03-06 14:09:35,763 https://atlas.microsoft.com:443 \"GET /search/fuzzy/json?Content-Type=application%2Fjson&subscription-key=6j_USCas00Jqmpj2EFtKe18nLWPylj0gPTOLeBypt9U&api-version=1.0&query=INTERMARCHE+PRADES%2C+France HTTP/1.1\" 200 7919\n",
      "DEBUG 2019-03-06 14:09:35,773 Starting new HTTPS connection (1): atlas.microsoft.com:443\n"
     ]
    },
    {
     "name": "stdout",
     "output_type": "stream",
     "text": [
      "Web scrapping at : 17.97% which took 37 seconds to run.\n",
      "Web scrapping at : 18.063% which took 37 seconds to run.\n"
     ]
    },
    {
     "name": "stderr",
     "output_type": "stream",
     "text": [
      "DEBUG 2019-03-06 14:09:35,961 https://atlas.microsoft.com:443 \"GET /search/fuzzy/json?Content-Type=application%2Fjson&subscription-key=6j_USCas00Jqmpj2EFtKe18nLWPylj0gPTOLeBypt9U&api-version=1.0&query=INTERMARCHE+ST+FLOUR%2C+France HTTP/1.1\" 200 2788\n",
      "DEBUG 2019-03-06 14:09:35,969 Starting new HTTPS connection (1): atlas.microsoft.com:443\n",
      "DEBUG 2019-03-06 14:09:36,097 https://atlas.microsoft.com:443 \"GET /search/fuzzy/json?Content-Type=application%2Fjson&subscription-key=6j_USCas00Jqmpj2EFtKe18nLWPylj0gPTOLeBypt9U&api-version=1.0&query=INTERMARCHE+ARTIGUES%2C+France HTTP/1.1\" 200 3634\n",
      "DEBUG 2019-03-06 14:09:36,105 Starting new HTTPS connection (1): atlas.microsoft.com:443\n"
     ]
    },
    {
     "name": "stdout",
     "output_type": "stream",
     "text": [
      "Web scrapping at : 18.156% which took 37 seconds to run.\n",
      "Web scrapping at : 18.25% which took 38 seconds to run.\n"
     ]
    },
    {
     "name": "stderr",
     "output_type": "stream",
     "text": [
      "DEBUG 2019-03-06 14:09:36,660 https://atlas.microsoft.com:443 \"GET /search/fuzzy/json?Content-Type=application%2Fjson&subscription-key=6j_USCas00Jqmpj2EFtKe18nLWPylj0gPTOLeBypt9U&api-version=1.0&query=INTERMARCHE+VILLEFRANCHE%2FROUERGU+VILLEFRANCHE+SUR+ROUERGU%2C+France HTTP/1.1\" 200 8474\n",
      "DEBUG 2019-03-06 14:09:36,669 Starting new HTTPS connection (1): atlas.microsoft.com:443\n",
      "DEBUG 2019-03-06 14:09:36,845 https://atlas.microsoft.com:443 \"GET /search/fuzzy/json?Content-Type=application%2Fjson&subscription-key=6j_USCas00Jqmpj2EFtKe18nLWPylj0gPTOLeBypt9U&api-version=1.0&query=INTERMARCHE+CAUDERAN%2C+France HTTP/1.1\" 200 910\n",
      "DEBUG 2019-03-06 14:09:36,853 Starting new HTTPS connection (1): atlas.microsoft.com:443\n"
     ]
    },
    {
     "name": "stdout",
     "output_type": "stream",
     "text": [
      "Web scrapping at : 18.343% which took 38 seconds to run.\n",
      "Web scrapping at : 18.436% which took 38 seconds to run.\n"
     ]
    },
    {
     "name": "stderr",
     "output_type": "stream",
     "text": [
      "DEBUG 2019-03-06 14:09:37,020 https://atlas.microsoft.com:443 \"GET /search/fuzzy/json?Content-Type=application%2Fjson&subscription-key=6j_USCas00Jqmpj2EFtKe18nLWPylj0gPTOLeBypt9U&api-version=1.0&query=INTERMARCHE+ST+SAVIN+DE+BLAYE%2C+France HTTP/1.1\" 200 937\n",
      "DEBUG 2019-03-06 14:09:37,028 Starting new HTTPS connection (1): atlas.microsoft.com:443\n",
      "DEBUG 2019-03-06 14:09:37,158 https://atlas.microsoft.com:443 \"GET /search/fuzzy/json?Content-Type=application%2Fjson&subscription-key=6j_USCas00Jqmpj2EFtKe18nLWPylj0gPTOLeBypt9U&api-version=1.0&query=INTERMARCHE+POUILLON%2C+France HTTP/1.1\" 200 2749\n",
      "DEBUG 2019-03-06 14:09:37,167 Starting new HTTPS connection (1): atlas.microsoft.com:443\n"
     ]
    },
    {
     "name": "stdout",
     "output_type": "stream",
     "text": [
      "Web scrapping at : 18.529% which took 39 seconds to run.\n",
      "Web scrapping at : 18.622% which took 39 seconds to run.\n"
     ]
    },
    {
     "name": "stderr",
     "output_type": "stream",
     "text": [
      "DEBUG 2019-03-06 14:09:37,253 https://atlas.microsoft.com:443 \"GET /search/fuzzy/json?Content-Type=application%2Fjson&subscription-key=6j_USCas00Jqmpj2EFtKe18nLWPylj0gPTOLeBypt9U&api-version=1.0&query=INTERMARCHE+AUREILHAN%2C+France HTTP/1.1\" 200 2002\n",
      "DEBUG 2019-03-06 14:09:37,261 Starting new HTTPS connection (1): atlas.microsoft.com:443\n",
      "DEBUG 2019-03-06 14:09:37,394 https://atlas.microsoft.com:443 \"GET /search/fuzzy/json?Content-Type=application%2Fjson&subscription-key=6j_USCas00Jqmpj2EFtKe18nLWPylj0gPTOLeBypt9U&api-version=1.0&query=INTERMARCHE+PLAISANCE+DU+GERS%2C+France HTTP/1.1\" 200 2712\n",
      "DEBUG 2019-03-06 14:09:37,402 Starting new HTTPS connection (1): atlas.microsoft.com:443\n"
     ]
    },
    {
     "name": "stdout",
     "output_type": "stream",
     "text": [
      "Web scrapping at : 18.715% which took 39 seconds to run.\n",
      "Web scrapping at : 18.808% which took 39 seconds to run.\n"
     ]
    },
    {
     "name": "stderr",
     "output_type": "stream",
     "text": [
      "DEBUG 2019-03-06 14:09:37,615 https://atlas.microsoft.com:443 \"GET /search/fuzzy/json?Content-Type=application%2Fjson&subscription-key=6j_USCas00Jqmpj2EFtKe18nLWPylj0gPTOLeBypt9U&api-version=1.0&query=INTERMARCHE+VALENCE+D%27AGEN+D+AGEN%2C+France HTTP/1.1\" 200 1813\n",
      "DEBUG 2019-03-06 14:09:37,624 Starting new HTTPS connection (1): atlas.microsoft.com:443\n",
      "DEBUG 2019-03-06 14:09:37,780 https://atlas.microsoft.com:443 \"GET /search/fuzzy/json?Content-Type=application%2Fjson&subscription-key=6j_USCas00Jqmpj2EFtKe18nLWPylj0gPTOLeBypt9U&api-version=1.0&query=INTERMARCHE+SAINT+ANDRE+ST%2C+France HTTP/1.1\" 200 9113\n",
      "DEBUG 2019-03-06 14:09:37,788 Starting new HTTPS connection (1): atlas.microsoft.com:443\n"
     ]
    },
    {
     "name": "stdout",
     "output_type": "stream",
     "text": [
      "Web scrapping at : 18.901% which took 39 seconds to run.\n",
      "Web scrapping at : 18.994% which took 39 seconds to run.\n"
     ]
    },
    {
     "name": "stderr",
     "output_type": "stream",
     "text": [
      "DEBUG 2019-03-06 14:09:37,933 https://atlas.microsoft.com:443 \"GET /search/fuzzy/json?Content-Type=application%2Fjson&subscription-key=6j_USCas00Jqmpj2EFtKe18nLWPylj0gPTOLeBypt9U&api-version=1.0&query=INTERMARCHE+LE+PASSAGE%2C+France HTTP/1.1\" 200 3575\n",
      "DEBUG 2019-03-06 14:09:37,942 Starting new HTTPS connection (1): atlas.microsoft.com:443\n",
      "DEBUG 2019-03-06 14:09:38,100 https://atlas.microsoft.com:443 \"GET /search/fuzzy/json?Content-Type=application%2Fjson&subscription-key=6j_USCas00Jqmpj2EFtKe18nLWPylj0gPTOLeBypt9U&api-version=1.0&query=INTERMARCHE+MURAT%2C+France HTTP/1.1\" 200 7783\n",
      "DEBUG 2019-03-06 14:09:38,108 Starting new HTTPS connection (1): atlas.microsoft.com:443\n"
     ]
    },
    {
     "name": "stdout",
     "output_type": "stream",
     "text": [
      "Web scrapping at : 19.088% which took 39 seconds to run.\n",
      "Web scrapping at : 19.181% which took 40 seconds to run.\n"
     ]
    },
    {
     "name": "stderr",
     "output_type": "stream",
     "text": [
      "DEBUG 2019-03-06 14:09:38,190 https://atlas.microsoft.com:443 \"GET /search/fuzzy/json?Content-Type=application%2Fjson&subscription-key=6j_USCas00Jqmpj2EFtKe18nLWPylj0gPTOLeBypt9U&api-version=1.0&query=INTERMARCHE+MAURIAC%2C+France HTTP/1.1\" 200 2710\n",
      "DEBUG 2019-03-06 14:09:38,199 Starting new HTTPS connection (1): atlas.microsoft.com:443\n",
      "DEBUG 2019-03-06 14:09:38,374 https://atlas.microsoft.com:443 \"GET /search/fuzzy/json?Content-Type=application%2Fjson&subscription-key=6j_USCas00Jqmpj2EFtKe18nLWPylj0gPTOLeBypt9U&api-version=1.0&query=INTERMARCHE+MANE%2C+France HTTP/1.1\" 200 2531\n",
      "DEBUG 2019-03-06 14:09:38,382 Starting new HTTPS connection (1): atlas.microsoft.com:443\n"
     ]
    },
    {
     "name": "stdout",
     "output_type": "stream",
     "text": [
      "Web scrapping at : 19.274% which took 40 seconds to run.\n",
      "Web scrapping at : 19.367% which took 40 seconds to run.\n"
     ]
    },
    {
     "name": "stderr",
     "output_type": "stream",
     "text": [
      "DEBUG 2019-03-06 14:09:38,512 https://atlas.microsoft.com:443 \"GET /search/fuzzy/json?Content-Type=application%2Fjson&subscription-key=6j_USCas00Jqmpj2EFtKe18nLWPylj0gPTOLeBypt9U&api-version=1.0&query=INTERMARCHE+MONTEILS%2C+France HTTP/1.1\" 200 3530\n",
      "DEBUG 2019-03-06 14:09:38,522 Starting new HTTPS connection (1): atlas.microsoft.com:443\n",
      "DEBUG 2019-03-06 14:09:38,606 https://atlas.microsoft.com:443 \"GET /search/fuzzy/json?Content-Type=application%2Fjson&subscription-key=6j_USCas00Jqmpj2EFtKe18nLWPylj0gPTOLeBypt9U&api-version=1.0&query=INTERMARCHE+LANGON%2C+France HTTP/1.1\" 200 2738\n",
      "DEBUG 2019-03-06 14:09:38,614 Starting new HTTPS connection (1): atlas.microsoft.com:443\n"
     ]
    },
    {
     "name": "stdout",
     "output_type": "stream",
     "text": [
      "Web scrapping at : 19.46% which took 40 seconds to run.\n",
      "Web scrapping at : 19.553% which took 40 seconds to run.\n"
     ]
    },
    {
     "name": "stderr",
     "output_type": "stream",
     "text": [
      "DEBUG 2019-03-06 14:09:38,731 https://atlas.microsoft.com:443 \"GET /search/fuzzy/json?Content-Type=application%2Fjson&subscription-key=6j_USCas00Jqmpj2EFtKe18nLWPylj0gPTOLeBypt9U&api-version=1.0&query=INTERMARCHE+LAVAUR%2C+France HTTP/1.1\" 200 1915\n",
      "DEBUG 2019-03-06 14:09:38,739 Starting new HTTPS connection (1): atlas.microsoft.com:443\n",
      "DEBUG 2019-03-06 14:09:38,877 https://atlas.microsoft.com:443 \"GET /search/fuzzy/json?Content-Type=application%2Fjson&subscription-key=6j_USCas00Jqmpj2EFtKe18nLWPylj0gPTOLeBypt9U&api-version=1.0&query=INTERMARCHE+REVEL%2C+France HTTP/1.1\" 200 6907\n",
      "DEBUG 2019-03-06 14:09:38,885 Starting new HTTPS connection (1): atlas.microsoft.com:443\n"
     ]
    },
    {
     "name": "stdout",
     "output_type": "stream",
     "text": [
      "Web scrapping at : 19.646% which took 40 seconds to run.\n",
      "Web scrapping at : 19.739% which took 40 seconds to run.\n"
     ]
    },
    {
     "name": "stderr",
     "output_type": "stream",
     "text": [
      "DEBUG 2019-03-06 14:09:39,064 https://atlas.microsoft.com:443 \"GET /search/fuzzy/json?Content-Type=application%2Fjson&subscription-key=6j_USCas00Jqmpj2EFtKe18nLWPylj0gPTOLeBypt9U&api-version=1.0&query=INTERMARCHE+VITROLLES%2C+France HTTP/1.1\" 200 2038\n",
      "DEBUG 2019-03-06 14:09:39,072 Starting new HTTPS connection (1): atlas.microsoft.com:443\n"
     ]
    },
    {
     "name": "stdout",
     "output_type": "stream",
     "text": [
      "Web scrapping at : 19.832% which took 41 seconds to run.\n"
     ]
    },
    {
     "name": "stderr",
     "output_type": "stream",
     "text": [
      "DEBUG 2019-03-06 14:09:39,468 https://atlas.microsoft.com:443 \"GET /search/fuzzy/json?Content-Type=application%2Fjson&subscription-key=6j_USCas00Jqmpj2EFtKe18nLWPylj0gPTOLeBypt9U&api-version=1.0&query=INTERMARCHE+LES+MEES%2C+France HTTP/1.1\" 200 2760\n",
      "DEBUG 2019-03-06 14:09:39,477 Starting new HTTPS connection (1): atlas.microsoft.com:443\n"
     ]
    },
    {
     "name": "stdout",
     "output_type": "stream",
     "text": [
      "Web scrapping at : 19.926% which took 41 seconds to run.\n"
     ]
    },
    {
     "name": "stderr",
     "output_type": "stream",
     "text": [
      "DEBUG 2019-03-06 14:09:40,017 https://atlas.microsoft.com:443 \"GET /search/fuzzy/json?Content-Type=application%2Fjson&subscription-key=6j_USCas00Jqmpj2EFtKe18nLWPylj0gPTOLeBypt9U&api-version=1.0&query=INTERMARCHE+LONGUEVILLE+S%2FSCIE+SOUS+CIE%2C+France HTTP/1.1\" 200 8569\n",
      "DEBUG 2019-03-06 14:09:40,026 Starting new HTTPS connection (1): atlas.microsoft.com:443\n",
      "DEBUG 2019-03-06 14:09:40,107 https://atlas.microsoft.com:443 \"GET /search/fuzzy/json?Content-Type=application%2Fjson&subscription-key=6j_USCas00Jqmpj2EFtKe18nLWPylj0gPTOLeBypt9U&api-version=1.0&query=INTERMARCHE+ST+SAVIN%2C+France HTTP/1.1\" 200 6412\n",
      "DEBUG 2019-03-06 14:09:40,115 Starting new HTTPS connection (1): atlas.microsoft.com:443\n"
     ]
    },
    {
     "name": "stdout",
     "output_type": "stream",
     "text": [
      "Web scrapping at : 20.019% which took 41 seconds to run.\n",
      "Web scrapping at : 20.112% which took 42 seconds to run.\n"
     ]
    },
    {
     "name": "stderr",
     "output_type": "stream",
     "text": [
      "DEBUG 2019-03-06 14:09:40,264 https://atlas.microsoft.com:443 \"GET /search/fuzzy/json?Content-Type=application%2Fjson&subscription-key=6j_USCas00Jqmpj2EFtKe18nLWPylj0gPTOLeBypt9U&api-version=1.0&query=INTERMARCHE+VERFEIL%2C+France HTTP/1.1\" 200 3593\n",
      "DEBUG 2019-03-06 14:09:40,272 Starting new HTTPS connection (1): atlas.microsoft.com:443\n",
      "DEBUG 2019-03-06 14:09:40,414 https://atlas.microsoft.com:443 \"GET /search/fuzzy/json?Content-Type=application%2Fjson&subscription-key=6j_USCas00Jqmpj2EFtKe18nLWPylj0gPTOLeBypt9U&api-version=1.0&query=INTERMARCHE+LES+ROUSSES%2C+France HTTP/1.1\" 200 5524\n",
      "DEBUG 2019-03-06 14:09:40,422 Starting new HTTPS connection (1): atlas.microsoft.com:443\n"
     ]
    },
    {
     "name": "stdout",
     "output_type": "stream",
     "text": [
      "Web scrapping at : 20.205% which took 42 seconds to run.\n",
      "Web scrapping at : 20.298% which took 42 seconds to run.\n"
     ]
    },
    {
     "name": "stderr",
     "output_type": "stream",
     "text": [
      "DEBUG 2019-03-06 14:09:40,608 https://atlas.microsoft.com:443 \"GET /search/fuzzy/json?Content-Type=application%2Fjson&subscription-key=6j_USCas00Jqmpj2EFtKe18nLWPylj0gPTOLeBypt9U&api-version=1.0&query=INTERMARCHE+ST+GERMAIN+LAVAL%2C+France HTTP/1.1\" 200 3757\n",
      "DEBUG 2019-03-06 14:09:40,616 Starting new HTTPS connection (1): atlas.microsoft.com:443\n",
      "DEBUG 2019-03-06 14:09:40,704 https://atlas.microsoft.com:443 \"GET /search/fuzzy/json?Content-Type=application%2Fjson&subscription-key=6j_USCas00Jqmpj2EFtKe18nLWPylj0gPTOLeBypt9U&api-version=1.0&query=INTERMARCHE+AIGREFFEUILLE%2C+France HTTP/1.1\" 200 8417\n",
      "DEBUG 2019-03-06 14:09:40,711 Starting new HTTPS connection (1): atlas.microsoft.com:443\n",
      "DEBUG 2019-03-06 14:09:40,798 https://atlas.microsoft.com:443 \"GET /search/fuzzy/json?Content-Type=application%2Fjson&subscription-key=6j_USCas00Jqmpj2EFtKe18nLWPylj0gPTOLeBypt9U&api-version=1.0&query=INTERMARCHE+PERCY%2C+France HTTP/1.1\" 200 4497\n",
      "DEBUG 2019-03-06 14:09:40,805 Starting new HTTPS connection (1): atlas.microsoft.com:443\n"
     ]
    },
    {
     "name": "stdout",
     "output_type": "stream",
     "text": [
      "Web scrapping at : 20.391% which took 42 seconds to run.\n",
      "Web scrapping at : 20.484% which took 42 seconds to run.\n",
      "Web scrapping at : 20.577% which took 42 seconds to run.\n"
     ]
    },
    {
     "name": "stderr",
     "output_type": "stream",
     "text": [
      "DEBUG 2019-03-06 14:09:40,970 https://atlas.microsoft.com:443 \"GET /search/fuzzy/json?Content-Type=application%2Fjson&subscription-key=6j_USCas00Jqmpj2EFtKe18nLWPylj0gPTOLeBypt9U&api-version=1.0&query=INTERMARCHE+LA+ROCHE+BLANCHE%2C+France HTTP/1.1\" 200 2973\n",
      "DEBUG 2019-03-06 14:09:40,978 Starting new HTTPS connection (1): atlas.microsoft.com:443\n",
      "DEBUG 2019-03-06 14:09:41,099 https://atlas.microsoft.com:443 \"GET /search/fuzzy/json?Content-Type=application%2Fjson&subscription-key=6j_USCas00Jqmpj2EFtKe18nLWPylj0gPTOLeBypt9U&api-version=1.0&query=INTERMARCHE+BEON%2C+France HTTP/1.1\" 200 1032\n",
      "DEBUG 2019-03-06 14:09:41,107 Starting new HTTPS connection (1): atlas.microsoft.com:443\n"
     ]
    },
    {
     "name": "stdout",
     "output_type": "stream",
     "text": [
      "Web scrapping at : 20.67% which took 42 seconds to run.\n",
      "Web scrapping at : 20.764% which took 43 seconds to run.\n"
     ]
    },
    {
     "name": "stderr",
     "output_type": "stream",
     "text": [
      "DEBUG 2019-03-06 14:09:41,257 https://atlas.microsoft.com:443 \"GET /search/fuzzy/json?Content-Type=application%2Fjson&subscription-key=6j_USCas00Jqmpj2EFtKe18nLWPylj0gPTOLeBypt9U&api-version=1.0&query=INTERMARCHE+MORET+LOING+ORVANNE%2C+France HTTP/1.1\" 200 3928\n",
      "DEBUG 2019-03-06 14:09:41,266 Starting new HTTPS connection (1): atlas.microsoft.com:443\n",
      "DEBUG 2019-03-06 14:09:41,423 https://atlas.microsoft.com:443 \"GET /search/fuzzy/json?Content-Type=application%2Fjson&subscription-key=6j_USCas00Jqmpj2EFtKe18nLWPylj0gPTOLeBypt9U&api-version=1.0&query=INTERMARCHE+ST+ETIENNE+DU+BOIS%2C+France HTTP/1.1\" 200 2745\n",
      "DEBUG 2019-03-06 14:09:41,431 Starting new HTTPS connection (1): atlas.microsoft.com:443\n"
     ]
    },
    {
     "name": "stdout",
     "output_type": "stream",
     "text": [
      "Web scrapping at : 20.857% which took 43 seconds to run.\n",
      "Web scrapping at : 20.95% which took 43 seconds to run.\n"
     ]
    },
    {
     "name": "stderr",
     "output_type": "stream",
     "text": [
      "DEBUG 2019-03-06 14:09:42,046 https://atlas.microsoft.com:443 \"GET /search/fuzzy/json?Content-Type=application%2Fjson&subscription-key=6j_USCas00Jqmpj2EFtKe18nLWPylj0gPTOLeBypt9U&api-version=1.0&query=INTERMARCHE+VILLEFRANCHE+DE+LAUR%2C+France HTTP/1.1\" 200 6653\n",
      "DEBUG 2019-03-06 14:09:42,056 Starting new HTTPS connection (1): atlas.microsoft.com:443\n",
      "DEBUG 2019-03-06 14:09:42,174 https://atlas.microsoft.com:443 \"GET /search/fuzzy/json?Content-Type=application%2Fjson&subscription-key=6j_USCas00Jqmpj2EFtKe18nLWPylj0gPTOLeBypt9U&api-version=1.0&query=INTERMARCHE+SERVAS%2C+France HTTP/1.1\" 200 782\n",
      "DEBUG 2019-03-06 14:09:42,184 Starting new HTTPS connection (1): atlas.microsoft.com:443\n"
     ]
    },
    {
     "name": "stdout",
     "output_type": "stream",
     "text": [
      "Web scrapping at : 21.043% which took 44 seconds to run.\n",
      "Web scrapping at : 21.136% which took 44 seconds to run.\n"
     ]
    },
    {
     "name": "stderr",
     "output_type": "stream",
     "text": [
      "DEBUG 2019-03-06 14:09:42,263 https://atlas.microsoft.com:443 \"GET /search/fuzzy/json?Content-Type=application%2Fjson&subscription-key=6j_USCas00Jqmpj2EFtKe18nLWPylj0gPTOLeBypt9U&api-version=1.0&query=INTERMARCHE+GAUJAC%2C+France HTTP/1.1\" 200 996\n",
      "DEBUG 2019-03-06 14:09:42,271 Starting new HTTPS connection (1): atlas.microsoft.com:443\n",
      "DEBUG 2019-03-06 14:09:42,357 https://atlas.microsoft.com:443 \"GET /search/fuzzy/json?Content-Type=application%2Fjson&subscription-key=6j_USCas00Jqmpj2EFtKe18nLWPylj0gPTOLeBypt9U&api-version=1.0&query=INTERMARCHE+ST+ERME+OUTRE+%26+RAM.%2C+France HTTP/1.1\" 200 7825\n",
      "DEBUG 2019-03-06 14:09:42,365 Starting new HTTPS connection (1): atlas.microsoft.com:443\n",
      "DEBUG 2019-03-06 14:09:42,452 https://atlas.microsoft.com:443 \"GET /search/fuzzy/json?Content-Type=application%2Fjson&subscription-key=6j_USCas00Jqmpj2EFtKe18nLWPylj0gPTOLeBypt9U&api-version=1.0&query=INTERMARCHE+LE+BOSC%2C+France HTTP/1.1\" 200 1003\n",
      "DEBUG 2019-03-06 14:09:42,459 Starting new HTTPS connection (1): atlas.microsoft.com:443\n"
     ]
    },
    {
     "name": "stdout",
     "output_type": "stream",
     "text": [
      "Web scrapping at : 21.229% which took 44 seconds to run.\n",
      "Web scrapping at : 21.322% which took 44 seconds to run.\n",
      "Web scrapping at : 21.415% which took 44 seconds to run.\n"
     ]
    },
    {
     "name": "stderr",
     "output_type": "stream",
     "text": [
      "DEBUG 2019-03-06 14:09:42,544 https://atlas.microsoft.com:443 \"GET /search/fuzzy/json?Content-Type=application%2Fjson&subscription-key=6j_USCas00Jqmpj2EFtKe18nLWPylj0gPTOLeBypt9U&api-version=1.0&query=CARREFOUR+MARKET+CMA+LES+VANS%2C+France HTTP/1.1\" 200 7895\n",
      "DEBUG 2019-03-06 14:09:42,553 Starting new HTTPS connection (1): atlas.microsoft.com:443\n"
     ]
    },
    {
     "name": "stdout",
     "output_type": "stream",
     "text": [
      "Web scrapping at : 21.508% which took 44 seconds to run.\n"
     ]
    },
    {
     "name": "stderr",
     "output_type": "stream",
     "text": [
      "DEBUG 2019-03-06 14:09:43,146 https://atlas.microsoft.com:443 \"GET /search/fuzzy/json?Content-Type=application%2Fjson&subscription-key=6j_USCas00Jqmpj2EFtKe18nLWPylj0gPTOLeBypt9U&api-version=1.0&query=CARREFOUR+MARKET+CMA+ST+MARTIN+BOUL+-SUD%2C+France HTTP/1.1\" 200 9200\n",
      "DEBUG 2019-03-06 14:09:43,154 Starting new HTTPS connection (1): atlas.microsoft.com:443\n"
     ]
    },
    {
     "name": "stdout",
     "output_type": "stream",
     "text": [
      "Web scrapping at : 21.601% which took 45 seconds to run.\n"
     ]
    },
    {
     "name": "stderr",
     "output_type": "stream",
     "text": [
      "DEBUG 2019-03-06 14:09:44,071 https://atlas.microsoft.com:443 \"GET /search/fuzzy/json?Content-Type=application%2Fjson&subscription-key=6j_USCas00Jqmpj2EFtKe18nLWPylj0gPTOLeBypt9U&api-version=1.0&query=CARREFOUR+MARKET+CMA+ST+MARTIN+BOUL+-NORD%2C+France HTTP/1.1\" 200 9261\n",
      "DEBUG 2019-03-06 14:09:44,080 Starting new HTTPS connection (1): atlas.microsoft.com:443\n"
     ]
    },
    {
     "name": "stdout",
     "output_type": "stream",
     "text": [
      "Web scrapping at : 21.695% which took 46 seconds to run.\n"
     ]
    },
    {
     "name": "stderr",
     "output_type": "stream",
     "text": [
      "DEBUG 2019-03-06 14:09:44,823 https://atlas.microsoft.com:443 \"GET /search/fuzzy/json?Content-Type=application%2Fjson&subscription-key=6j_USCas00Jqmpj2EFtKe18nLWPylj0gPTOLeBypt9U&api-version=1.0&query=CARREFOUR+MARKET+CMA+CLERMONT+FERRAND+JAUDE+FERRANOTRE+DAME%2C+France HTTP/1.1\" 200 10577\n",
      "DEBUG 2019-03-06 14:09:44,832 Starting new HTTPS connection (1): atlas.microsoft.com:443\n"
     ]
    },
    {
     "name": "stdout",
     "output_type": "stream",
     "text": [
      "Web scrapping at : 21.788% which took 46 seconds to run.\n"
     ]
    },
    {
     "name": "stderr",
     "output_type": "stream",
     "text": [
      "DEBUG 2019-03-06 14:09:45,556 https://atlas.microsoft.com:443 \"GET /search/fuzzy/json?Content-Type=application%2Fjson&subscription-key=6j_USCas00Jqmpj2EFtKe18nLWPylj0gPTOLeBypt9U&api-version=1.0&query=CARREFOUR+MARKET+CMA+GRISOLLES%2C+France HTTP/1.1\" 200 9156\n",
      "DEBUG 2019-03-06 14:09:45,564 Starting new HTTPS connection (1): atlas.microsoft.com:443\n"
     ]
    },
    {
     "name": "stdout",
     "output_type": "stream",
     "text": [
      "Web scrapping at : 21.881% which took 47 seconds to run.\n"
     ]
    },
    {
     "name": "stderr",
     "output_type": "stream",
     "text": [
      "DEBUG 2019-03-06 14:09:46,018 https://atlas.microsoft.com:443 \"GET /search/fuzzy/json?Content-Type=application%2Fjson&subscription-key=6j_USCas00Jqmpj2EFtKe18nLWPylj0gPTOLeBypt9U&api-version=1.0&query=CARREFOUR+MARKET+CMA+MASSY+-2%2C+France HTTP/1.1\" 200 9095\n",
      "DEBUG 2019-03-06 14:09:46,027 Starting new HTTPS connection (1): atlas.microsoft.com:443\n"
     ]
    },
    {
     "name": "stdout",
     "output_type": "stream",
     "text": [
      "Web scrapping at : 21.974% which took 47 seconds to run.\n"
     ]
    },
    {
     "name": "stderr",
     "output_type": "stream",
     "text": [
      "DEBUG 2019-03-06 14:09:46,568 https://atlas.microsoft.com:443 \"GET /search/fuzzy/json?Content-Type=application%2Fjson&subscription-key=6j_USCas00Jqmpj2EFtKe18nLWPylj0gPTOLeBypt9U&api-version=1.0&query=CARREFOUR+MARKET+CMA+CHATILLON+-PARIS%2C+France HTTP/1.1\" 200 9316\n",
      "DEBUG 2019-03-06 14:09:46,577 Starting new HTTPS connection (1): atlas.microsoft.com:443\n"
     ]
    },
    {
     "name": "stdout",
     "output_type": "stream",
     "text": [
      "Web scrapping at : 22.067% which took 48 seconds to run.\n"
     ]
    },
    {
     "name": "stderr",
     "output_type": "stream",
     "text": [
      "DEBUG 2019-03-06 14:09:47,148 https://atlas.microsoft.com:443 \"GET /search/fuzzy/json?Content-Type=application%2Fjson&subscription-key=6j_USCas00Jqmpj2EFtKe18nLWPylj0gPTOLeBypt9U&api-version=1.0&query=CARREFOUR+MARKET+CMA+LE+PONTET%2C+France HTTP/1.1\" 200 10079\n",
      "DEBUG 2019-03-06 14:09:47,156 Starting new HTTPS connection (1): atlas.microsoft.com:443\n"
     ]
    },
    {
     "name": "stdout",
     "output_type": "stream",
     "text": [
      "Web scrapping at : 22.16% which took 49 seconds to run.\n"
     ]
    },
    {
     "name": "stderr",
     "output_type": "stream",
     "text": [
      "DEBUG 2019-03-06 14:09:47,567 https://atlas.microsoft.com:443 \"GET /search/fuzzy/json?Content-Type=application%2Fjson&subscription-key=6j_USCas00Jqmpj2EFtKe18nLWPylj0gPTOLeBypt9U&api-version=1.0&query=CARREFOUR+MARKET+CMA+SOLESMES%2C+France HTTP/1.1\" 200 8287\n",
      "DEBUG 2019-03-06 14:09:47,576 Starting new HTTPS connection (1): atlas.microsoft.com:443\n"
     ]
    },
    {
     "name": "stdout",
     "output_type": "stream",
     "text": [
      "Web scrapping at : 22.253% which took 49 seconds to run.\n"
     ]
    },
    {
     "name": "stderr",
     "output_type": "stream",
     "text": [
      "DEBUG 2019-03-06 14:09:48,287 https://atlas.microsoft.com:443 \"GET /search/fuzzy/json?Content-Type=application%2Fjson&subscription-key=6j_USCas00Jqmpj2EFtKe18nLWPylj0gPTOLeBypt9U&api-version=1.0&query=CARREFOUR+MARKET+CMA+MONTBRISON+2%2C+France HTTP/1.1\" 200 8731\n",
      "DEBUG 2019-03-06 14:09:48,295 Starting new HTTPS connection (1): atlas.microsoft.com:443\n",
      "DEBUG 2019-03-06 14:09:48,382 https://atlas.microsoft.com:443 \"GET /search/fuzzy/json?Content-Type=application%2Fjson&subscription-key=6j_USCas00Jqmpj2EFtKe18nLWPylj0gPTOLeBypt9U&api-version=1.0&query=CARREFOUR+MARKET+CMA+ST+FLOUR%2C+France HTTP/1.1\" 200 9530\n",
      "DEBUG 2019-03-06 14:09:48,390 Starting new HTTPS connection (1): atlas.microsoft.com:443\n"
     ]
    },
    {
     "name": "stdout",
     "output_type": "stream",
     "text": [
      "Web scrapping at : 22.346% which took 50 seconds to run.\n",
      "Web scrapping at : 22.439% which took 50 seconds to run.\n"
     ]
    },
    {
     "name": "stderr",
     "output_type": "stream",
     "text": [
      "DEBUG 2019-03-06 14:09:48,977 https://atlas.microsoft.com:443 \"GET /search/fuzzy/json?Content-Type=application%2Fjson&subscription-key=6j_USCas00Jqmpj2EFtKe18nLWPylj0gPTOLeBypt9U&api-version=1.0&query=CARREFOUR+MARKET+CMA+ST+JULIEN+EN+G+-GENE%2C+France HTTP/1.1\" 200 10248\n",
      "DEBUG 2019-03-06 14:09:48,985 Starting new HTTPS connection (1): atlas.microsoft.com:443\n"
     ]
    },
    {
     "name": "stdout",
     "output_type": "stream",
     "text": [
      "Web scrapping at : 22.533% which took 50 seconds to run.\n"
     ]
    },
    {
     "name": "stderr",
     "output_type": "stream",
     "text": [
      "DEBUG 2019-03-06 14:09:49,532 https://atlas.microsoft.com:443 \"GET /search/fuzzy/json?Content-Type=application%2Fjson&subscription-key=6j_USCas00Jqmpj2EFtKe18nLWPylj0gPTOLeBypt9U&api-version=1.0&query=CARREFOUR+MARKET+CMA+MOUTIERS+-SALINES%2C+France HTTP/1.1\" 200 9027\n",
      "DEBUG 2019-03-06 14:09:49,541 Starting new HTTPS connection (1): atlas.microsoft.com:443\n"
     ]
    },
    {
     "name": "stdout",
     "output_type": "stream",
     "text": [
      "Web scrapping at : 22.626% which took 51 seconds to run.\n"
     ]
    },
    {
     "name": "stderr",
     "output_type": "stream",
     "text": [
      "DEBUG 2019-03-06 14:09:50,009 https://atlas.microsoft.com:443 \"GET /search/fuzzy/json?Content-Type=application%2Fjson&subscription-key=6j_USCas00Jqmpj2EFtKe18nLWPylj0gPTOLeBypt9U&api-version=1.0&query=CARREFOUR+MARKET+NON+DEFIN+BELLEY%2C+France HTTP/1.1\" 200 9532\n",
      "DEBUG 2019-03-06 14:09:50,017 Starting new HTTPS connection (1): atlas.microsoft.com:443\n",
      "DEBUG 2019-03-06 14:09:50,114 https://atlas.microsoft.com:443 \"GET /search/fuzzy/json?Content-Type=application%2Fjson&subscription-key=6j_USCas00Jqmpj2EFtKe18nLWPylj0gPTOLeBypt9U&api-version=1.0&query=CARREFOUR+MARKET+CMA+LESIGNY%2C+France HTTP/1.1\" 200 9186\n",
      "DEBUG 2019-03-06 14:09:50,124 Starting new HTTPS connection (1): atlas.microsoft.com:443\n"
     ]
    },
    {
     "name": "stdout",
     "output_type": "stream",
     "text": [
      "Web scrapping at : 22.719% which took 51 seconds to run.\n",
      "Web scrapping at : 22.812% which took 52 seconds to run.\n"
     ]
    },
    {
     "name": "stderr",
     "output_type": "stream",
     "text": [
      "DEBUG 2019-03-06 14:09:50,645 https://atlas.microsoft.com:443 \"GET /search/fuzzy/json?Content-Type=application%2Fjson&subscription-key=6j_USCas00Jqmpj2EFtKe18nLWPylj0gPTOLeBypt9U&api-version=1.0&query=CARREFOUR+MARKET+CMA+ST+CYPRIEN%2C+France HTTP/1.1\" 200 9399\n",
      "DEBUG 2019-03-06 14:09:50,654 Starting new HTTPS connection (1): atlas.microsoft.com:443\n"
     ]
    },
    {
     "name": "stdout",
     "output_type": "stream",
     "text": [
      "Web scrapping at : 22.905% which took 52 seconds to run.\n"
     ]
    },
    {
     "name": "stderr",
     "output_type": "stream",
     "text": [
      "DEBUG 2019-03-06 14:09:51,075 https://atlas.microsoft.com:443 \"GET /search/fuzzy/json?Content-Type=application%2Fjson&subscription-key=6j_USCas00Jqmpj2EFtKe18nLWPylj0gPTOLeBypt9U&api-version=1.0&query=CARREFOUR+MARKET+CMA+CHARLEVAL%2C+France HTTP/1.1\" 200 9043\n",
      "DEBUG 2019-03-06 14:09:51,084 Starting new HTTPS connection (1): atlas.microsoft.com:443\n",
      "DEBUG 2019-03-06 14:09:51,169 https://atlas.microsoft.com:443 \"GET /search/fuzzy/json?Content-Type=application%2Fjson&subscription-key=6j_USCas00Jqmpj2EFtKe18nLWPylj0gPTOLeBypt9U&api-version=1.0&query=CARREFOUR+MARKET+CMA+CHATILLON+-G.PERI%2C+France HTTP/1.1\" 200 9704\n",
      "DEBUG 2019-03-06 14:09:51,177 Starting new HTTPS connection (1): atlas.microsoft.com:443\n"
     ]
    },
    {
     "name": "stdout",
     "output_type": "stream",
     "text": [
      "Web scrapping at : 22.998% which took 53 seconds to run.\n",
      "Web scrapping at : 23.091% which took 53 seconds to run.\n"
     ]
    },
    {
     "name": "stderr",
     "output_type": "stream",
     "text": [
      "DEBUG 2019-03-06 14:09:51,611 https://atlas.microsoft.com:443 \"GET /search/fuzzy/json?Content-Type=application%2Fjson&subscription-key=6j_USCas00Jqmpj2EFtKe18nLWPylj0gPTOLeBypt9U&api-version=1.0&query=CARREFOUR+MARKET+CMA+GOURDON%2C+France HTTP/1.1\" 200 8996\n",
      "DEBUG 2019-03-06 14:09:51,620 Starting new HTTPS connection (1): atlas.microsoft.com:443\n"
     ]
    },
    {
     "name": "stdout",
     "output_type": "stream",
     "text": [
      "Web scrapping at : 23.184% which took 53 seconds to run.\n"
     ]
    },
    {
     "name": "stderr",
     "output_type": "stream",
     "text": [
      "DEBUG 2019-03-06 14:09:52,003 https://atlas.microsoft.com:443 \"GET /search/fuzzy/json?Content-Type=application%2Fjson&subscription-key=6j_USCas00Jqmpj2EFtKe18nLWPylj0gPTOLeBypt9U&api-version=1.0&query=CARREFOUR+MARKET+CMA+MEZZAVIA%2C+France HTTP/1.1\" 200 9381\n",
      "DEBUG 2019-03-06 14:09:52,012 Starting new HTTPS connection (1): atlas.microsoft.com:443\n"
     ]
    },
    {
     "name": "stdout",
     "output_type": "stream",
     "text": [
      "Web scrapping at : 23.277% which took 53 seconds to run.\n"
     ]
    },
    {
     "name": "stderr",
     "output_type": "stream",
     "text": [
      "DEBUG 2019-03-06 14:09:52,479 https://atlas.microsoft.com:443 \"GET /search/fuzzy/json?Content-Type=application%2Fjson&subscription-key=6j_USCas00Jqmpj2EFtKe18nLWPylj0gPTOLeBypt9U&api-version=1.0&query=CARREFOUR+MARKET+CMA+PORTICCIO%2C+France HTTP/1.1\" 200 9427\n",
      "DEBUG 2019-03-06 14:09:52,487 Starting new HTTPS connection (1): atlas.microsoft.com:443\n"
     ]
    },
    {
     "name": "stdout",
     "output_type": "stream",
     "text": [
      "Web scrapping at : 23.371% which took 54 seconds to run.\n"
     ]
    },
    {
     "name": "stderr",
     "output_type": "stream",
     "text": [
      "DEBUG 2019-03-06 14:09:53,133 https://atlas.microsoft.com:443 \"GET /search/fuzzy/json?Content-Type=application%2Fjson&subscription-key=6j_USCas00Jqmpj2EFtKe18nLWPylj0gPTOLeBypt9U&api-version=1.0&query=CARREFOUR+MARKET+CHAMPION+PARIS+MARCADET%2C+France HTTP/1.1\" 200 9632\n",
      "DEBUG 2019-03-06 14:09:53,141 Starting new HTTPS connection (1): atlas.microsoft.com:443\n"
     ]
    },
    {
     "name": "stdout",
     "output_type": "stream",
     "text": [
      "Web scrapping at : 23.464% which took 55 seconds to run.\n"
     ]
    },
    {
     "name": "stderr",
     "output_type": "stream",
     "text": [
      "DEBUG 2019-03-06 14:09:53,791 https://atlas.microsoft.com:443 \"GET /search/fuzzy/json?Content-Type=application%2Fjson&subscription-key=6j_USCas00Jqmpj2EFtKe18nLWPylj0gPTOLeBypt9U&api-version=1.0&query=CARREFOUR+MARKET+CMA+ENTRAIGUES+S%2FSORGUES+SOUS+ORGUES%2C+France HTTP/1.1\" 200 9409\n",
      "DEBUG 2019-03-06 14:09:53,800 Starting new HTTPS connection (1): atlas.microsoft.com:443\n"
     ]
    },
    {
     "name": "stdout",
     "output_type": "stream",
     "text": [
      "Web scrapping at : 23.557% which took 55 seconds to run.\n"
     ]
    },
    {
     "name": "stderr",
     "output_type": "stream",
     "text": [
      "DEBUG 2019-03-06 14:09:54,420 https://atlas.microsoft.com:443 \"GET /search/fuzzy/json?Content-Type=application%2Fjson&subscription-key=6j_USCas00Jqmpj2EFtKe18nLWPylj0gPTOLeBypt9U&api-version=1.0&query=CARREFOUR+MARKET+CMA+ST+GIRONS+-RESIST+2%2C+France HTTP/1.1\" 200 9691\n",
      "DEBUG 2019-03-06 14:09:54,429 Starting new HTTPS connection (1): atlas.microsoft.com:443\n",
      "DEBUG 2019-03-06 14:09:54,516 https://atlas.microsoft.com:443 \"GET /search/fuzzy/json?Content-Type=application%2Fjson&subscription-key=6j_USCas00Jqmpj2EFtKe18nLWPylj0gPTOLeBypt9U&api-version=1.0&query=CARREFOUR+MARKET+CMA+BELLEGARDE%2C+France HTTP/1.1\" 200 9279\n",
      "DEBUG 2019-03-06 14:09:54,525 Starting new HTTPS connection (1): atlas.microsoft.com:443\n"
     ]
    },
    {
     "name": "stdout",
     "output_type": "stream",
     "text": [
      "Web scrapping at : 23.65% which took 56 seconds to run.\n",
      "Web scrapping at : 23.743% which took 56 seconds to run.\n"
     ]
    },
    {
     "name": "stderr",
     "output_type": "stream",
     "text": [
      "DEBUG 2019-03-06 14:09:54,921 https://atlas.microsoft.com:443 \"GET /search/fuzzy/json?Content-Type=application%2Fjson&subscription-key=6j_USCas00Jqmpj2EFtKe18nLWPylj0gPTOLeBypt9U&api-version=1.0&query=CARREFOUR+MARKET+CMA+BEAUREPAIRE%2C+France HTTP/1.1\" 200 9055\n",
      "DEBUG 2019-03-06 14:09:54,930 Starting new HTTPS connection (1): atlas.microsoft.com:443\n"
     ]
    },
    {
     "name": "stdout",
     "output_type": "stream",
     "text": [
      "Web scrapping at : 23.836% which took 56 seconds to run.\n"
     ]
    },
    {
     "name": "stderr",
     "output_type": "stream",
     "text": [
      "DEBUG 2019-03-06 14:09:55,467 https://atlas.microsoft.com:443 \"GET /search/fuzzy/json?Content-Type=application%2Fjson&subscription-key=6j_USCas00Jqmpj2EFtKe18nLWPylj0gPTOLeBypt9U&api-version=1.0&query=CARREFOUR+MARKET+CMA+BRANNE-GREZILLAC+BRANNE+GREZILLAC%2C+France HTTP/1.1\" 200 6193\n",
      "DEBUG 2019-03-06 14:09:55,476 Starting new HTTPS connection (1): atlas.microsoft.com:443\n",
      "DEBUG 2019-03-06 14:09:55,562 https://atlas.microsoft.com:443 \"GET /search/fuzzy/json?Content-Type=application%2Fjson&subscription-key=6j_USCas00Jqmpj2EFtKe18nLWPylj0gPTOLeBypt9U&api-version=1.0&query=CARREFOUR+MARKET+CMA+ECUELLES%2C+France HTTP/1.1\" 200 9378\n",
      "DEBUG 2019-03-06 14:09:55,570 Starting new HTTPS connection (1): atlas.microsoft.com:443\n"
     ]
    },
    {
     "name": "stdout",
     "output_type": "stream",
     "text": [
      "Web scrapping at : 23.929% which took 57 seconds to run.\n",
      "Web scrapping at : 24.022% which took 57 seconds to run.\n"
     ]
    },
    {
     "name": "stderr",
     "output_type": "stream",
     "text": [
      "DEBUG 2019-03-06 14:09:56,048 https://atlas.microsoft.com:443 \"GET /search/fuzzy/json?Content-Type=application%2Fjson&subscription-key=6j_USCas00Jqmpj2EFtKe18nLWPylj0gPTOLeBypt9U&api-version=1.0&query=CARREFOUR+MARKET+CMA+CASTRES%2C+France HTTP/1.1\" 200 9247\n",
      "DEBUG 2019-03-06 14:09:56,057 Starting new HTTPS connection (1): atlas.microsoft.com:443\n",
      "DEBUG 2019-03-06 14:09:56,144 https://atlas.microsoft.com:443 \"GET /search/fuzzy/json?Content-Type=application%2Fjson&subscription-key=6j_USCas00Jqmpj2EFtKe18nLWPylj0gPTOLeBypt9U&api-version=1.0&query=CARREFOUR+MARKET+CMA+LES+ROUSSES%2C+France HTTP/1.1\" 200 9801\n",
      "DEBUG 2019-03-06 14:09:56,153 Starting new HTTPS connection (1): atlas.microsoft.com:443\n"
     ]
    },
    {
     "name": "stdout",
     "output_type": "stream",
     "text": [
      "Web scrapping at : 24.115% which took 58 seconds to run.\n",
      "Web scrapping at : 24.209% which took 58 seconds to run.\n"
     ]
    },
    {
     "name": "stderr",
     "output_type": "stream",
     "text": [
      "DEBUG 2019-03-06 14:09:56,627 https://atlas.microsoft.com:443 \"GET /search/fuzzy/json?Content-Type=application%2Fjson&subscription-key=6j_USCas00Jqmpj2EFtKe18nLWPylj0gPTOLeBypt9U&api-version=1.0&query=CARREFOUR+MARKET+CMA+SALLES%2C+France HTTP/1.1\" 200 8197\n",
      "DEBUG 2019-03-06 14:09:56,636 Starting new HTTPS connection (1): atlas.microsoft.com:443\n",
      "DEBUG 2019-03-06 14:09:56,721 https://atlas.microsoft.com:443 \"GET /search/fuzzy/json?Content-Type=application%2Fjson&subscription-key=6j_USCas00Jqmpj2EFtKe18nLWPylj0gPTOLeBypt9U&api-version=1.0&query=CARREFOUR+MARKET+CMA+CORMEILLES%2C+France HTTP/1.1\" 200 9385\n",
      "DEBUG 2019-03-06 14:09:56,729 Starting new HTTPS connection (1): atlas.microsoft.com:443\n"
     ]
    },
    {
     "name": "stdout",
     "output_type": "stream",
     "text": [
      "Web scrapping at : 24.302% which took 58 seconds to run.\n",
      "Web scrapping at : 24.395% which took 58 seconds to run.\n"
     ]
    },
    {
     "name": "stderr",
     "output_type": "stream",
     "text": [
      "DEBUG 2019-03-06 14:09:57,297 https://atlas.microsoft.com:443 \"GET /search/fuzzy/json?Content-Type=application%2Fjson&subscription-key=6j_USCas00Jqmpj2EFtKe18nLWPylj0gPTOLeBypt9U&api-version=1.0&query=CARREFOUR+MARKET+CMA+LA+VOULTE%2C+France HTTP/1.1\" 200 8866\n",
      "DEBUG 2019-03-06 14:09:57,306 Starting new HTTPS connection (1): atlas.microsoft.com:443\n"
     ]
    },
    {
     "name": "stdout",
     "output_type": "stream",
     "text": [
      "Web scrapping at : 24.488% which took 59 seconds to run.\n"
     ]
    },
    {
     "name": "stderr",
     "output_type": "stream",
     "text": [
      "DEBUG 2019-03-06 14:09:57,919 https://atlas.microsoft.com:443 \"GET /search/fuzzy/json?Content-Type=application%2Fjson&subscription-key=6j_USCas00Jqmpj2EFtKe18nLWPylj0gPTOLeBypt9U&api-version=1.0&query=CARREFOUR+MARKET+CMA+ST+JULIEN+EN+G+-AMED%2C+France HTTP/1.1\" 200 10248\n",
      "DEBUG 2019-03-06 14:09:57,927 Starting new HTTPS connection (1): atlas.microsoft.com:443\n"
     ]
    },
    {
     "name": "stdout",
     "output_type": "stream",
     "text": [
      "Web scrapping at : 24.581% which took 59 seconds to run.\n"
     ]
    },
    {
     "name": "stderr",
     "output_type": "stream",
     "text": [
      "DEBUG 2019-03-06 14:09:58,508 https://atlas.microsoft.com:443 \"GET /search/fuzzy/json?Content-Type=application%2Fjson&subscription-key=6j_USCas00Jqmpj2EFtKe18nLWPylj0gPTOLeBypt9U&api-version=1.0&query=CARREFOUR+MARKET+CMA+ST+SULPICE%2C+France HTTP/1.1\" 200 9823\n",
      "DEBUG 2019-03-06 14:09:58,517 Starting new HTTPS connection (1): atlas.microsoft.com:443\n"
     ]
    },
    {
     "name": "stdout",
     "output_type": "stream",
     "text": [
      "Web scrapping at : 24.674% which took 60 seconds to run.\n"
     ]
    },
    {
     "name": "stderr",
     "output_type": "stream",
     "text": [
      "DEBUG 2019-03-06 14:09:59,793 https://atlas.microsoft.com:443 \"GET /search/fuzzy/json?Content-Type=application%2Fjson&subscription-key=6j_USCas00Jqmpj2EFtKe18nLWPylj0gPTOLeBypt9U&api-version=1.0&query=CARREFOUR+MARKET+CMA+SEYSSEL%2C+France HTTP/1.1\" 200 9138\n",
      "DEBUG 2019-03-06 14:09:59,801 Starting new HTTPS connection (1): atlas.microsoft.com:443\n",
      "DEBUG 2019-03-06 14:09:59,887 https://atlas.microsoft.com:443 \"GET /search/fuzzy/json?Content-Type=application%2Fjson&subscription-key=6j_USCas00Jqmpj2EFtKe18nLWPylj0gPTOLeBypt9U&api-version=1.0&query=CARREFOUR+MARKET+CMA+BOURG+S%2FGIRONDE+SUR+GIRONDE%2C+France HTTP/1.1\" 200 8764\n",
      "DEBUG 2019-03-06 14:09:59,895 Starting new HTTPS connection (1): atlas.microsoft.com:443\n"
     ]
    },
    {
     "name": "stdout",
     "output_type": "stream",
     "text": [
      "Web scrapping at : 24.767% which took 61 seconds to run.\n",
      "Web scrapping at : 24.86% which took 61 seconds to run.\n"
     ]
    },
    {
     "name": "stderr",
     "output_type": "stream",
     "text": [
      "DEBUG 2019-03-06 14:10:00,528 https://atlas.microsoft.com:443 \"GET /search/fuzzy/json?Content-Type=application%2Fjson&subscription-key=6j_USCas00Jqmpj2EFtKe18nLWPylj0gPTOLeBypt9U&api-version=1.0&query=CARREFOUR+MARKET+CMA+PLOEUC-L%27HERMITAGE+PLOEUC+L+HERMITAGE%2C+France HTTP/1.1\" 200 6750\n",
      "DEBUG 2019-03-06 14:10:00,536 Starting new HTTPS connection (1): atlas.microsoft.com:443\n"
     ]
    },
    {
     "name": "stdout",
     "output_type": "stream",
     "text": [
      "Web scrapping at : 24.953% which took 62 seconds to run.\n"
     ]
    },
    {
     "name": "stderr",
     "output_type": "stream",
     "text": [
      "DEBUG 2019-03-06 14:10:01,231 https://atlas.microsoft.com:443 \"GET /search/fuzzy/json?Content-Type=application%2Fjson&subscription-key=6j_USCas00Jqmpj2EFtKe18nLWPylj0gPTOLeBypt9U&api-version=1.0&query=CARREFOUR+MARKET+CMA+BRETEUIL+S%2FITON+SUR+ITON%2C+France HTTP/1.1\" 200 9082\n",
      "DEBUG 2019-03-06 14:10:01,239 Starting new HTTPS connection (1): atlas.microsoft.com:443\n",
      "DEBUG 2019-03-06 14:10:01,323 https://atlas.microsoft.com:443 \"GET /search/fuzzy/json?Content-Type=application%2Fjson&subscription-key=6j_USCas00Jqmpj2EFtKe18nLWPylj0gPTOLeBypt9U&api-version=1.0&query=CARREFOUR+MARKET+CMA+ST+AMAND+LES+EAUX+AMANOTRE+DAME%2C+France HTTP/1.1\" 200 9279\n",
      "DEBUG 2019-03-06 14:10:01,332 Starting new HTTPS connection (1): atlas.microsoft.com:443\n"
     ]
    },
    {
     "name": "stdout",
     "output_type": "stream",
     "text": [
      "Web scrapping at : 25.047% which took 63 seconds to run.\n",
      "Web scrapping at : 25.14% which took 63 seconds to run.\n"
     ]
    },
    {
     "name": "stderr",
     "output_type": "stream",
     "text": [
      "DEBUG 2019-03-06 14:10:01,980 https://atlas.microsoft.com:443 \"GET /search/fuzzy/json?Content-Type=application%2Fjson&subscription-key=6j_USCas00Jqmpj2EFtKe18nLWPylj0gPTOLeBypt9U&api-version=1.0&query=CARREFOUR+MARKET+CMA+MORANGIS%2C+France HTTP/1.1\" 200 9127\n",
      "DEBUG 2019-03-06 14:10:01,989 Starting new HTTPS connection (1): atlas.microsoft.com:443\n",
      "DEBUG 2019-03-06 14:10:02,076 https://atlas.microsoft.com:443 \"GET /search/fuzzy/json?Content-Type=application%2Fjson&subscription-key=6j_USCas00Jqmpj2EFtKe18nLWPylj0gPTOLeBypt9U&api-version=1.0&query=CARREFOUR+MARKET+CMA+ROUVROY-DROCOURT+ROUVROY+DROCOURT%2C+France HTTP/1.1\" 200 8049\n",
      "DEBUG 2019-03-06 14:10:02,084 Starting new HTTPS connection (1): atlas.microsoft.com:443\n",
      "DEBUG 2019-03-06 14:10:02,168 https://atlas.microsoft.com:443 \"GET /search/fuzzy/json?Content-Type=application%2Fjson&subscription-key=6j_USCas00Jqmpj2EFtKe18nLWPylj0gPTOLeBypt9U&api-version=1.0&query=CARREFOUR+MARKET+CMA+AVON+-ROOSEVELT%2C+France HTTP/1.1\" 200 9314\n",
      "DEBUG 2019-03-06 14:10:02,176 Starting new HTTPS connection (1): atlas.microsoft.com:443\n"
     ]
    },
    {
     "name": "stdout",
     "output_type": "stream",
     "text": [
      "Web scrapping at : 25.233% which took 63 seconds to run.\n",
      "Web scrapping at : 25.326% which took 64 seconds to run.\n",
      "Web scrapping at : 25.419% which took 64 seconds to run.\n"
     ]
    },
    {
     "name": "stderr",
     "output_type": "stream",
     "text": [
      "DEBUG 2019-03-06 14:10:02,678 https://atlas.microsoft.com:443 \"GET /search/fuzzy/json?Content-Type=application%2Fjson&subscription-key=6j_USCas00Jqmpj2EFtKe18nLWPylj0gPTOLeBypt9U&api-version=1.0&query=CARREFOUR+MARKET+CMA+MARLY+LES+VALENCIENNES%2C+France HTTP/1.1\" 200 9812\n",
      "DEBUG 2019-03-06 14:10:02,687 Starting new HTTPS connection (1): atlas.microsoft.com:443\n",
      "DEBUG 2019-03-06 14:10:02,773 https://atlas.microsoft.com:443 \"GET /search/fuzzy/json?Content-Type=application%2Fjson&subscription-key=6j_USCas00Jqmpj2EFtKe18nLWPylj0gPTOLeBypt9U&api-version=1.0&query=CARREFOUR+MARKET+CMA+ST+AMBROIX%2C+France HTTP/1.1\" 200 9705\n",
      "DEBUG 2019-03-06 14:10:02,782 Starting new HTTPS connection (1): atlas.microsoft.com:443\n"
     ]
    },
    {
     "name": "stdout",
     "output_type": "stream",
     "text": [
      "Web scrapping at : 25.512% which took 64 seconds to run.\n",
      "Web scrapping at : 25.605% which took 64 seconds to run.\n"
     ]
    },
    {
     "name": "stderr",
     "output_type": "stream",
     "text": [
      "DEBUG 2019-03-06 14:10:03,172 https://atlas.microsoft.com:443 \"GET /search/fuzzy/json?Content-Type=application%2Fjson&subscription-key=6j_USCas00Jqmpj2EFtKe18nLWPylj0gPTOLeBypt9U&api-version=1.0&query=CARREFOUR+MARKET+CMA+VERNOUILLET%2C+France HTTP/1.1\" 200 9113\n",
      "DEBUG 2019-03-06 14:10:03,182 Starting new HTTPS connection (1): atlas.microsoft.com:443\n"
     ]
    },
    {
     "name": "stdout",
     "output_type": "stream",
     "text": [
      "Web scrapping at : 25.698% which took 65 seconds to run.\n"
     ]
    },
    {
     "name": "stderr",
     "output_type": "stream",
     "text": [
      "DEBUG 2019-03-06 14:10:03,611 https://atlas.microsoft.com:443 \"GET /search/fuzzy/json?Content-Type=application%2Fjson&subscription-key=6j_USCas00Jqmpj2EFtKe18nLWPylj0gPTOLeBypt9U&api-version=1.0&query=CARREFOUR+MARKET+CMA+BOISMONT%2C+France HTTP/1.1\" 200 8936\n",
      "DEBUG 2019-03-06 14:10:03,620 Starting new HTTPS connection (1): atlas.microsoft.com:443\n"
     ]
    },
    {
     "name": "stdout",
     "output_type": "stream",
     "text": [
      "Web scrapping at : 25.791% which took 65 seconds to run.\n"
     ]
    },
    {
     "name": "stderr",
     "output_type": "stream",
     "text": [
      "DEBUG 2019-03-06 14:10:04,160 https://atlas.microsoft.com:443 \"GET /search/fuzzy/json?Content-Type=application%2Fjson&subscription-key=6j_USCas00Jqmpj2EFtKe18nLWPylj0gPTOLeBypt9U&api-version=1.0&query=CARREFOUR+MARKET+CMA+VILLERS+BOCAGE+-80%2C+France HTTP/1.1\" 200 9082\n",
      "DEBUG 2019-03-06 14:10:04,169 Starting new HTTPS connection (1): atlas.microsoft.com:443\n"
     ]
    },
    {
     "name": "stdout",
     "output_type": "stream",
     "text": [
      "Web scrapping at : 25.885% which took 66 seconds to run.\n"
     ]
    },
    {
     "name": "stderr",
     "output_type": "stream",
     "text": [
      "DEBUG 2019-03-06 14:10:04,739 https://atlas.microsoft.com:443 \"GET /search/fuzzy/json?Content-Type=application%2Fjson&subscription-key=6j_USCas00Jqmpj2EFtKe18nLWPylj0gPTOLeBypt9U&api-version=1.0&query=CARREFOUR+MARKET+CMA+ST+GRATIEN%2C+France HTTP/1.1\" 200 9834\n",
      "DEBUG 2019-03-06 14:10:04,747 Starting new HTTPS connection (1): atlas.microsoft.com:443\n",
      "DEBUG 2019-03-06 14:10:04,835 https://atlas.microsoft.com:443 \"GET /search/fuzzy/json?Content-Type=application%2Fjson&subscription-key=6j_USCas00Jqmpj2EFtKe18nLWPylj0gPTOLeBypt9U&api-version=1.0&query=CARREFOUR+MARKET+CMA+PARIGNY%2C+France HTTP/1.1\" 200 9099\n",
      "DEBUG 2019-03-06 14:10:04,843 Starting new HTTPS connection (1): atlas.microsoft.com:443\n",
      "DEBUG 2019-03-06 14:10:04,929 https://atlas.microsoft.com:443 \"GET /search/fuzzy/json?Content-Type=application%2Fjson&subscription-key=6j_USCas00Jqmpj2EFtKe18nLWPylj0gPTOLeBypt9U&api-version=1.0&query=CARREFOUR+MARKET+CMA+ST+AMAND+-2%2C+France HTTP/1.1\" 200 9445\n",
      "DEBUG 2019-03-06 14:10:04,937 Starting new HTTPS connection (1): atlas.microsoft.com:443\n"
     ]
    },
    {
     "name": "stdout",
     "output_type": "stream",
     "text": [
      "Web scrapping at : 25.978% which took 66 seconds to run.\n",
      "Web scrapping at : 26.071% which took 66 seconds to run.\n",
      "Web scrapping at : 26.164% which took 66 seconds to run.\n"
     ]
    },
    {
     "name": "stderr",
     "output_type": "stream",
     "text": [
      "DEBUG 2019-03-06 14:10:05,591 https://atlas.microsoft.com:443 \"GET /search/fuzzy/json?Content-Type=application%2Fjson&subscription-key=6j_USCas00Jqmpj2EFtKe18nLWPylj0gPTOLeBypt9U&api-version=1.0&query=CARREFOUR+MARKET+CMA+ST+ANDRE%2C+France HTTP/1.1\" 200 8695\n",
      "DEBUG 2019-03-06 14:10:05,600 Starting new HTTPS connection (1): atlas.microsoft.com:443\n",
      "DEBUG 2019-03-06 14:10:05,680 https://atlas.microsoft.com:443 \"GET /search/fuzzy/json?Content-Type=application%2Fjson&subscription-key=6j_USCas00Jqmpj2EFtKe18nLWPylj0gPTOLeBypt9U&api-version=1.0&query=CARREFOUR+MARKET+CMA+REIGNIER+BIS%2C+France HTTP/1.1\" 200 9153\n",
      "DEBUG 2019-03-06 14:10:05,689 Starting new HTTPS connection (1): atlas.microsoft.com:443\n"
     ]
    },
    {
     "name": "stdout",
     "output_type": "stream",
     "text": [
      "Web scrapping at : 26.257% which took 67 seconds to run.\n",
      "Web scrapping at : 26.35% which took 67 seconds to run.\n"
     ]
    },
    {
     "name": "stderr",
     "output_type": "stream",
     "text": [
      "DEBUG 2019-03-06 14:10:06,235 https://atlas.microsoft.com:443 \"GET /search/fuzzy/json?Content-Type=application%2Fjson&subscription-key=6j_USCas00Jqmpj2EFtKe18nLWPylj0gPTOLeBypt9U&api-version=1.0&query=CARREFOUR+MARKET+CMA+BONNEVILLE+-BORDETS%2C+France HTTP/1.1\" 200 9307\n",
      "DEBUG 2019-03-06 14:10:06,244 Starting new HTTPS connection (1): atlas.microsoft.com:443\n"
     ]
    },
    {
     "name": "stdout",
     "output_type": "stream",
     "text": [
      "Web scrapping at : 26.443% which took 68 seconds to run.\n"
     ]
    },
    {
     "name": "stderr",
     "output_type": "stream",
     "text": [
      "DEBUG 2019-03-06 14:10:06,856 https://atlas.microsoft.com:443 \"GET /search/fuzzy/json?Content-Type=application%2Fjson&subscription-key=6j_USCas00Jqmpj2EFtKe18nLWPylj0gPTOLeBypt9U&api-version=1.0&query=CARREFOUR+MARKET+CMA+GRAND-CHAMP+GRANOTRE+DAME+CHAMP%2C+France HTTP/1.1\" 200 8726\n",
      "DEBUG 2019-03-06 14:10:06,864 Starting new HTTPS connection (1): atlas.microsoft.com:443\n"
     ]
    },
    {
     "name": "stdout",
     "output_type": "stream",
     "text": [
      "Web scrapping at : 26.536% which took 68 seconds to run.\n"
     ]
    },
    {
     "name": "stderr",
     "output_type": "stream",
     "text": [
      "DEBUG 2019-03-06 14:10:07,451 https://atlas.microsoft.com:443 \"GET /search/fuzzy/json?Content-Type=application%2Fjson&subscription-key=6j_USCas00Jqmpj2EFtKe18nLWPylj0gPTOLeBypt9U&api-version=1.0&query=CARREFOUR+MARKET+CMA+ST+JUERY%2C+France HTTP/1.1\" 200 9684\n",
      "DEBUG 2019-03-06 14:10:07,460 Starting new HTTPS connection (1): atlas.microsoft.com:443\n",
      "DEBUG 2019-03-06 14:10:07,546 https://atlas.microsoft.com:443 \"GET /search/fuzzy/json?Content-Type=application%2Fjson&subscription-key=6j_USCas00Jqmpj2EFtKe18nLWPylj0gPTOLeBypt9U&api-version=1.0&query=CARREFOUR+MARKET+CMA+FALAISE+-CLEMENCEAU%2C+France HTTP/1.1\" 200 9101\n",
      "DEBUG 2019-03-06 14:10:07,554 Starting new HTTPS connection (1): atlas.microsoft.com:443\n",
      "DEBUG 2019-03-06 14:10:07,641 https://atlas.microsoft.com:443 \"GET /search/fuzzy/json?Content-Type=application%2Fjson&subscription-key=6j_USCas00Jqmpj2EFtKe18nLWPylj0gPTOLeBypt9U&api-version=1.0&query=CARREFOUR+MARKET+CMA+BUCHY+2%2C+France HTTP/1.1\" 200 8521\n",
      "DEBUG 2019-03-06 14:10:07,648 Starting new HTTPS connection (1): atlas.microsoft.com:443\n"
     ]
    },
    {
     "name": "stdout",
     "output_type": "stream",
     "text": [
      "Web scrapping at : 26.629% which took 69 seconds to run.\n",
      "Web scrapping at : 26.723% which took 69 seconds to run.\n",
      "Web scrapping at : 26.816% which took 69 seconds to run.\n"
     ]
    },
    {
     "name": "stderr",
     "output_type": "stream",
     "text": [
      "DEBUG 2019-03-06 14:10:08,139 https://atlas.microsoft.com:443 \"GET /search/fuzzy/json?Content-Type=application%2Fjson&subscription-key=6j_USCas00Jqmpj2EFtKe18nLWPylj0gPTOLeBypt9U&api-version=1.0&query=CARREFOUR+MARKET+CMA+BRETEUIL+-HIEBLES%2C+France HTTP/1.1\" 200 8914\n",
      "DEBUG 2019-03-06 14:10:08,149 Starting new HTTPS connection (1): atlas.microsoft.com:443\n"
     ]
    },
    {
     "name": "stdout",
     "output_type": "stream",
     "text": [
      "Web scrapping at : 26.909% which took 70 seconds to run.\n"
     ]
    },
    {
     "name": "stderr",
     "output_type": "stream",
     "text": [
      "DEBUG 2019-03-06 14:10:08,554 https://atlas.microsoft.com:443 \"GET /search/fuzzy/json?Content-Type=application%2Fjson&subscription-key=6j_USCas00Jqmpj2EFtKe18nLWPylj0gPTOLeBypt9U&api-version=1.0&query=CARREFOUR+MARKET+CMA+PLOUHINEC%2C+France HTTP/1.1\" 200 9154\n",
      "DEBUG 2019-03-06 14:10:08,563 Starting new HTTPS connection (1): atlas.microsoft.com:443\n",
      "DEBUG 2019-03-06 14:10:08,653 https://atlas.microsoft.com:443 \"GET /search/fuzzy/json?Content-Type=application%2Fjson&subscription-key=6j_USCas00Jqmpj2EFtKe18nLWPylj0gPTOLeBypt9U&api-version=1.0&query=CARREFOUR+MARKET+CMA+BALLANCOURT-PINET+BALLANCOURT+PINET%2C+France HTTP/1.1\" 200 8483\n",
      "DEBUG 2019-03-06 14:10:08,660 Starting new HTTPS connection (1): atlas.microsoft.com:443\n"
     ]
    },
    {
     "name": "stdout",
     "output_type": "stream",
     "text": [
      "Web scrapping at : 27.002% which took 70 seconds to run.\n",
      "Web scrapping at : 27.095% which took 70 seconds to run.\n"
     ]
    },
    {
     "name": "stderr",
     "output_type": "stream",
     "text": [
      "DEBUG 2019-03-06 14:10:09,286 https://atlas.microsoft.com:443 \"GET /search/fuzzy/json?Content-Type=application%2Fjson&subscription-key=6j_USCas00Jqmpj2EFtKe18nLWPylj0gPTOLeBypt9U&api-version=1.0&query=CARREFOUR+MARKET+CMA+BUSSY+ST+G+-MARTEL%2C+France HTTP/1.1\" 200 9436\n",
      "DEBUG 2019-03-06 14:10:09,294 Starting new HTTPS connection (1): atlas.microsoft.com:443\n"
     ]
    },
    {
     "name": "stdout",
     "output_type": "stream",
     "text": [
      "Web scrapping at : 27.188% which took 71 seconds to run.\n"
     ]
    },
    {
     "name": "stderr",
     "output_type": "stream",
     "text": [
      "DEBUG 2019-03-06 14:10:10,135 https://atlas.microsoft.com:443 \"GET /search/fuzzy/json?Content-Type=application%2Fjson&subscription-key=6j_USCas00Jqmpj2EFtKe18nLWPylj0gPTOLeBypt9U&api-version=1.0&query=CARREFOUR+MARKET+CMA+ST+PRIEST+-HERRIOT%2C+France HTTP/1.1\" 200 9758\n",
      "DEBUG 2019-03-06 14:10:10,144 Starting new HTTPS connection (1): atlas.microsoft.com:443\n"
     ]
    },
    {
     "name": "stdout",
     "output_type": "stream",
     "text": [
      "Web scrapping at : 27.281% which took 72 seconds to run.\n"
     ]
    },
    {
     "name": "stderr",
     "output_type": "stream",
     "text": [
      "DEBUG 2019-03-06 14:10:10,665 https://atlas.microsoft.com:443 \"GET /search/fuzzy/json?Content-Type=application%2Fjson&subscription-key=6j_USCas00Jqmpj2EFtKe18nLWPylj0gPTOLeBypt9U&api-version=1.0&query=CARREFOUR+MARKET+CMA+LA+ROCHETTE%2C+France HTTP/1.1\" 200 8578\n",
      "DEBUG 2019-03-06 14:10:10,673 Starting new HTTPS connection (1): atlas.microsoft.com:443\n"
     ]
    },
    {
     "name": "stdout",
     "output_type": "stream",
     "text": [
      "Web scrapping at : 27.374% which took 72 seconds to run.\n"
     ]
    },
    {
     "name": "stderr",
     "output_type": "stream",
     "text": [
      "DEBUG 2019-03-06 14:10:11,107 https://atlas.microsoft.com:443 \"GET /search/fuzzy/json?Content-Type=application%2Fjson&subscription-key=6j_USCas00Jqmpj2EFtKe18nLWPylj0gPTOLeBypt9U&api-version=1.0&query=CARREFOUR+MARKET+CMA+MARIGNY%2C+France HTTP/1.1\" 200 9266\n",
      "DEBUG 2019-03-06 14:10:11,117 Starting new HTTPS connection (1): atlas.microsoft.com:443\n"
     ]
    },
    {
     "name": "stdout",
     "output_type": "stream",
     "text": [
      "Web scrapping at : 27.467% which took 73 seconds to run.\n"
     ]
    },
    {
     "name": "stderr",
     "output_type": "stream",
     "text": [
      "DEBUG 2019-03-06 14:10:11,652 https://atlas.microsoft.com:443 \"GET /search/fuzzy/json?Content-Type=application%2Fjson&subscription-key=6j_USCas00Jqmpj2EFtKe18nLWPylj0gPTOLeBypt9U&api-version=1.0&query=CARREFOUR+MARKET+CMA+LE+FAOUET%2C+France HTTP/1.1\" 200 9610\n",
      "DEBUG 2019-03-06 14:10:11,661 Starting new HTTPS connection (1): atlas.microsoft.com:443\n"
     ]
    },
    {
     "name": "stdout",
     "output_type": "stream",
     "text": [
      "Web scrapping at : 27.561% which took 73 seconds to run.\n"
     ]
    },
    {
     "name": "stderr",
     "output_type": "stream",
     "text": [
      "DEBUG 2019-03-06 14:10:12,203 https://atlas.microsoft.com:443 \"GET /search/fuzzy/json?Content-Type=application%2Fjson&subscription-key=6j_USCas00Jqmpj2EFtKe18nLWPylj0gPTOLeBypt9U&api-version=1.0&query=CARREFOUR+MARKET+CMA+ST+GERMAIN+PUY+-FENE%2C+France HTTP/1.1\" 200 9417\n",
      "DEBUG 2019-03-06 14:10:12,212 Starting new HTTPS connection (1): atlas.microsoft.com:443\n"
     ]
    },
    {
     "name": "stdout",
     "output_type": "stream",
     "text": [
      "Web scrapping at : 27.654% which took 74 seconds to run.\n"
     ]
    },
    {
     "name": "stderr",
     "output_type": "stream",
     "text": [
      "DEBUG 2019-03-06 14:10:12,646 https://atlas.microsoft.com:443 \"GET /search/fuzzy/json?Content-Type=application%2Fjson&subscription-key=6j_USCas00Jqmpj2EFtKe18nLWPylj0gPTOLeBypt9U&api-version=1.0&query=CARREFOUR+MARKET+CMA+ENNERY%2C+France HTTP/1.1\" 200 8844\n",
      "DEBUG 2019-03-06 14:10:12,655 Starting new HTTPS connection (1): atlas.microsoft.com:443\n",
      "DEBUG 2019-03-06 14:10:12,744 https://atlas.microsoft.com:443 \"GET /search/fuzzy/json?Content-Type=application%2Fjson&subscription-key=6j_USCas00Jqmpj2EFtKe18nLWPylj0gPTOLeBypt9U&api-version=1.0&query=CARREFOUR+MARKET+CMA+MERIGNAC+-MONTESQUIEU%2C+France HTTP/1.1\" 200 9850\n",
      "DEBUG 2019-03-06 14:10:12,752 Starting new HTTPS connection (1): atlas.microsoft.com:443\n"
     ]
    },
    {
     "name": "stdout",
     "output_type": "stream",
     "text": [
      "Web scrapping at : 27.747% which took 74 seconds to run.\n",
      "Web scrapping at : 27.84% which took 74 seconds to run.\n"
     ]
    },
    {
     "name": "stderr",
     "output_type": "stream",
     "text": [
      "DEBUG 2019-03-06 14:10:13,943 https://atlas.microsoft.com:443 \"GET /search/fuzzy/json?Content-Type=application%2Fjson&subscription-key=6j_USCas00Jqmpj2EFtKe18nLWPylj0gPTOLeBypt9U&api-version=1.0&query=CARREFOUR+MARKET+CMA+L%27ISLE+JOURDAIN+2+L+ISLE%2C+France HTTP/1.1\" 200 7728\n",
      "DEBUG 2019-03-06 14:10:13,951 Starting new HTTPS connection (1): atlas.microsoft.com:443\n"
     ]
    },
    {
     "name": "stdout",
     "output_type": "stream",
     "text": [
      "Web scrapping at : 27.933% which took 75 seconds to run.\n"
     ]
    },
    {
     "name": "stderr",
     "output_type": "stream",
     "text": [
      "DEBUG 2019-03-06 14:10:14,645 https://atlas.microsoft.com:443 \"GET /search/fuzzy/json?Content-Type=application%2Fjson&subscription-key=6j_USCas00Jqmpj2EFtKe18nLWPylj0gPTOLeBypt9U&api-version=1.0&query=CARREFOUR+MARKET+CMA+ARQUES+-FRAIS+FONDS%2C+France HTTP/1.1\" 200 6528\n",
      "DEBUG 2019-03-06 14:10:14,653 Starting new HTTPS connection (1): atlas.microsoft.com:443\n"
     ]
    },
    {
     "name": "stdout",
     "output_type": "stream",
     "text": [
      "Web scrapping at : 28.026% which took 76 seconds to run.\n"
     ]
    },
    {
     "name": "stderr",
     "output_type": "stream",
     "text": [
      "DEBUG 2019-03-06 14:10:15,363 https://atlas.microsoft.com:443 \"GET /search/fuzzy/json?Content-Type=application%2Fjson&subscription-key=6j_USCas00Jqmpj2EFtKe18nLWPylj0gPTOLeBypt9U&api-version=1.0&query=CARREFOUR+MARKET+CMA+MONTREUIL+-C+DE+VILL%2C+France HTTP/1.1\" 200 9455\n",
      "DEBUG 2019-03-06 14:10:15,372 Starting new HTTPS connection (1): atlas.microsoft.com:443\n"
     ]
    },
    {
     "name": "stdout",
     "output_type": "stream",
     "text": [
      "Web scrapping at : 28.119% which took 77 seconds to run.\n"
     ]
    },
    {
     "name": "stderr",
     "output_type": "stream",
     "text": [
      "DEBUG 2019-03-06 14:10:15,942 https://atlas.microsoft.com:443 \"GET /search/fuzzy/json?Content-Type=application%2Fjson&subscription-key=6j_USCas00Jqmpj2EFtKe18nLWPylj0gPTOLeBypt9U&api-version=1.0&query=CARREFOUR+MARKET+CMA+MARSEILLAN+-BESSAN%2C+France HTTP/1.1\" 200 8209\n",
      "DEBUG 2019-03-06 14:10:15,951 Starting new HTTPS connection (1): atlas.microsoft.com:443\n"
     ]
    },
    {
     "name": "stdout",
     "output_type": "stream",
     "text": [
      "Web scrapping at : 28.212% which took 77 seconds to run.\n"
     ]
    },
    {
     "name": "stderr",
     "output_type": "stream",
     "text": [
      "DEBUG 2019-03-06 14:10:16,379 https://atlas.microsoft.com:443 \"GET /search/fuzzy/json?Content-Type=application%2Fjson&subscription-key=6j_USCas00Jqmpj2EFtKe18nLWPylj0gPTOLeBypt9U&api-version=1.0&query=CARREFOUR+MARKET+CMA+AUTERIVE+-MIDI+INT%2C+France HTTP/1.1\" 200 4567\n",
      "DEBUG 2019-03-06 14:10:16,388 Starting new HTTPS connection (1): atlas.microsoft.com:443\n"
     ]
    },
    {
     "name": "stdout",
     "output_type": "stream",
     "text": [
      "Web scrapping at : 28.305% which took 78 seconds to run.\n"
     ]
    },
    {
     "name": "stderr",
     "output_type": "stream",
     "text": [
      "DEBUG 2019-03-06 14:10:17,256 https://atlas.microsoft.com:443 \"GET /search/fuzzy/json?Content-Type=application%2Fjson&subscription-key=6j_USCas00Jqmpj2EFtKe18nLWPylj0gPTOLeBypt9U&api-version=1.0&query=CARREFOUR+MARKET+CMA+FERRIERES+D%27AUNIS+D+AUNIS%2C+France HTTP/1.1\" 200 9035\n",
      "DEBUG 2019-03-06 14:10:17,265 Starting new HTTPS connection (1): atlas.microsoft.com:443\n"
     ]
    },
    {
     "name": "stdout",
     "output_type": "stream",
     "text": [
      "Web scrapping at : 28.399% which took 79 seconds to run.\n"
     ]
    },
    {
     "name": "stderr",
     "output_type": "stream",
     "text": [
      "DEBUG 2019-03-06 14:10:17,831 https://atlas.microsoft.com:443 \"GET /search/fuzzy/json?Content-Type=application%2Fjson&subscription-key=6j_USCas00Jqmpj2EFtKe18nLWPylj0gPTOLeBypt9U&api-version=1.0&query=CARREFOUR+MARKET+CMA+AIGUEPERSE+2%2C+France HTTP/1.1\" 200 8904\n",
      "DEBUG 2019-03-06 14:10:17,839 Starting new HTTPS connection (1): atlas.microsoft.com:443\n"
     ]
    },
    {
     "name": "stdout",
     "output_type": "stream",
     "text": [
      "Web scrapping at : 28.492% which took 79 seconds to run.\n"
     ]
    },
    {
     "name": "stderr",
     "output_type": "stream",
     "text": [
      "DEBUG 2019-03-06 14:10:18,373 https://atlas.microsoft.com:443 \"GET /search/fuzzy/json?Content-Type=application%2Fjson&subscription-key=6j_USCas00Jqmpj2EFtKe18nLWPylj0gPTOLeBypt9U&api-version=1.0&query=CARREFOUR+MARKET+CMA+MAURIAC+2%2C+France HTTP/1.1\" 200 8512\n",
      "DEBUG 2019-03-06 14:10:18,381 Starting new HTTPS connection (1): atlas.microsoft.com:443\n"
     ]
    },
    {
     "name": "stdout",
     "output_type": "stream",
     "text": [
      "Web scrapping at : 28.585% which took 80 seconds to run.\n"
     ]
    },
    {
     "name": "stderr",
     "output_type": "stream",
     "text": [
      "DEBUG 2019-03-06 14:10:18,808 https://atlas.microsoft.com:443 \"GET /search/fuzzy/json?Content-Type=application%2Fjson&subscription-key=6j_USCas00Jqmpj2EFtKe18nLWPylj0gPTOLeBypt9U&api-version=1.0&query=CARREFOUR+MARKET+CMA+VIRE+-DOUITEE%2C+France HTTP/1.1\" 200 9082\n",
      "DEBUG 2019-03-06 14:10:18,816 Starting new HTTPS connection (1): atlas.microsoft.com:443\n"
     ]
    },
    {
     "name": "stdout",
     "output_type": "stream",
     "text": [
      "Web scrapping at : 28.678% which took 80 seconds to run.\n"
     ]
    },
    {
     "name": "stderr",
     "output_type": "stream",
     "text": [
      "DEBUG 2019-03-06 14:10:19,542 https://atlas.microsoft.com:443 \"GET /search/fuzzy/json?Content-Type=application%2Fjson&subscription-key=6j_USCas00Jqmpj2EFtKe18nLWPylj0gPTOLeBypt9U&api-version=1.0&query=CARREFOUR+MARKET+CMA+VERNEUIL+S%2FA-PT+ROUGE+SUR+A+PT%2C+France HTTP/1.1\" 200 9606\n",
      "DEBUG 2019-03-06 14:10:19,550 Starting new HTTPS connection (1): atlas.microsoft.com:443\n"
     ]
    },
    {
     "name": "stdout",
     "output_type": "stream",
     "text": [
      "Web scrapping at : 28.771% which took 81 seconds to run.\n"
     ]
    },
    {
     "name": "stderr",
     "output_type": "stream",
     "text": [
      "DEBUG 2019-03-06 14:10:20,148 https://atlas.microsoft.com:443 \"GET /search/fuzzy/json?Content-Type=application%2Fjson&subscription-key=6j_USCas00Jqmpj2EFtKe18nLWPylj0gPTOLeBypt9U&api-version=1.0&query=CARREFOUR+MARKET+CMA+DIVONNE+BAINS+-CRET%2C+France HTTP/1.1\" 200 9706\n",
      "DEBUG 2019-03-06 14:10:20,156 Starting new HTTPS connection (1): atlas.microsoft.com:443\n"
     ]
    },
    {
     "name": "stdout",
     "output_type": "stream",
     "text": [
      "Web scrapping at : 28.864% which took 82 seconds to run.\n"
     ]
    },
    {
     "name": "stderr",
     "output_type": "stream",
     "text": [
      "DEBUG 2019-03-06 14:10:20,698 https://atlas.microsoft.com:443 \"GET /search/fuzzy/json?Content-Type=application%2Fjson&subscription-key=6j_USCas00Jqmpj2EFtKe18nLWPylj0gPTOLeBypt9U&api-version=1.0&query=CARREFOUR+MARKET+CMA+LUC+LA+PRIMAUBE%2C+France HTTP/1.1\" 200 8085\n",
      "DEBUG 2019-03-06 14:10:20,707 Starting new HTTPS connection (1): atlas.microsoft.com:443\n",
      "DEBUG 2019-03-06 14:10:20,806 https://atlas.microsoft.com:443 \"GET /search/fuzzy/json?Content-Type=application%2Fjson&subscription-key=6j_USCas00Jqmpj2EFtKe18nLWPylj0gPTOLeBypt9U&api-version=1.0&query=CARREFOUR+MARKET+CMA+BONNEVAL+-LOUVETERIE%2C+France HTTP/1.1\" 200 9219\n",
      "DEBUG 2019-03-06 14:10:20,814 Starting new HTTPS connection (1): atlas.microsoft.com:443\n"
     ]
    },
    {
     "name": "stdout",
     "output_type": "stream",
     "text": [
      "Web scrapping at : 28.957% which took 82 seconds to run.\n",
      "Web scrapping at : 29.05% which took 82 seconds to run.\n"
     ]
    },
    {
     "name": "stderr",
     "output_type": "stream",
     "text": [
      "DEBUG 2019-03-06 14:10:21,434 https://atlas.microsoft.com:443 \"GET /search/fuzzy/json?Content-Type=application%2Fjson&subscription-key=6j_USCas00Jqmpj2EFtKe18nLWPylj0gPTOLeBypt9U&api-version=1.0&query=CARREFOUR+MARKET+CMA+AIX+-LES+2+ORMES%2C+France HTTP/1.1\" 200 9321\n",
      "DEBUG 2019-03-06 14:10:21,442 Starting new HTTPS connection (1): atlas.microsoft.com:443\n"
     ]
    },
    {
     "name": "stdout",
     "output_type": "stream",
     "text": [
      "Web scrapping at : 29.143% which took 83 seconds to run.\n"
     ]
    },
    {
     "name": "stderr",
     "output_type": "stream",
     "text": [
      "DEBUG 2019-03-06 14:10:21,894 https://atlas.microsoft.com:443 \"GET /search/fuzzy/json?Content-Type=application%2Fjson&subscription-key=6j_USCas00Jqmpj2EFtKe18nLWPylj0gPTOLeBypt9U&api-version=1.0&query=CARREFOUR+MARKET+CMA+CALLIAN%2C+France HTTP/1.1\" 200 9300\n",
      "DEBUG 2019-03-06 14:10:21,902 Starting new HTTPS connection (1): atlas.microsoft.com:443\n"
     ]
    },
    {
     "name": "stdout",
     "output_type": "stream",
     "text": [
      "Web scrapping at : 29.236% which took 83 seconds to run.\n"
     ]
    },
    {
     "name": "stderr",
     "output_type": "stream",
     "text": [
      "DEBUG 2019-03-06 14:10:22,406 https://atlas.microsoft.com:443 \"GET /search/fuzzy/json?Content-Type=application%2Fjson&subscription-key=6j_USCas00Jqmpj2EFtKe18nLWPylj0gPTOLeBypt9U&api-version=1.0&query=CARREFOUR+MARKET+CMA+LES+ANGLES%2C+France HTTP/1.1\" 200 10272\n",
      "DEBUG 2019-03-06 14:10:22,414 Starting new HTTPS connection (1): atlas.microsoft.com:443\n"
     ]
    },
    {
     "name": "stdout",
     "output_type": "stream",
     "text": [
      "Web scrapping at : 29.33% which took 84 seconds to run.\n"
     ]
    },
    {
     "name": "stderr",
     "output_type": "stream",
     "text": [
      "DEBUG 2019-03-06 14:10:23,340 https://atlas.microsoft.com:443 \"GET /search/fuzzy/json?Content-Type=application%2Fjson&subscription-key=6j_USCas00Jqmpj2EFtKe18nLWPylj0gPTOLeBypt9U&api-version=1.0&query=CARREFOUR+MARKET+CMA+STE+ANNE+D%27EVENOS+D+EVENOS%2C+France HTTP/1.1\" 200 8212\n",
      "DEBUG 2019-03-06 14:10:23,348 Starting new HTTPS connection (1): atlas.microsoft.com:443\n"
     ]
    },
    {
     "name": "stdout",
     "output_type": "stream",
     "text": [
      "Web scrapping at : 29.423% which took 85 seconds to run.\n"
     ]
    },
    {
     "name": "stderr",
     "output_type": "stream",
     "text": [
      "DEBUG 2019-03-06 14:10:23,827 https://atlas.microsoft.com:443 \"GET /search/fuzzy/json?Content-Type=application%2Fjson&subscription-key=6j_USCas00Jqmpj2EFtKe18nLWPylj0gPTOLeBypt9U&api-version=1.0&query=CARREFOUR+MARKET+CMA+BOURGOIN+-RIVET%2C+France HTTP/1.1\" 200 8996\n",
      "DEBUG 2019-03-06 14:10:23,836 Starting new HTTPS connection (1): atlas.microsoft.com:443\n"
     ]
    },
    {
     "name": "stdout",
     "output_type": "stream",
     "text": [
      "Web scrapping at : 29.516% which took 85 seconds to run.\n"
     ]
    },
    {
     "name": "stderr",
     "output_type": "stream",
     "text": [
      "DEBUG 2019-03-06 14:10:24,271 https://atlas.microsoft.com:443 \"GET /search/fuzzy/json?Content-Type=application%2Fjson&subscription-key=6j_USCas00Jqmpj2EFtKe18nLWPylj0gPTOLeBypt9U&api-version=1.0&query=CARREFOUR+MARKET+CMA+CAGNY+%2880%29%2C+France HTTP/1.1\" 200 8993\n",
      "DEBUG 2019-03-06 14:10:24,279 Starting new HTTPS connection (1): atlas.microsoft.com:443\n"
     ]
    },
    {
     "name": "stdout",
     "output_type": "stream",
     "text": [
      "Web scrapping at : 29.609% which took 86 seconds to run.\n"
     ]
    },
    {
     "name": "stderr",
     "output_type": "stream",
     "text": [
      "DEBUG 2019-03-06 14:10:24,799 https://atlas.microsoft.com:443 \"GET /search/fuzzy/json?Content-Type=application%2Fjson&subscription-key=6j_USCas00Jqmpj2EFtKe18nLWPylj0gPTOLeBypt9U&api-version=1.0&query=CARREFOUR+MARKET+CMA+DURY+LES+AMIENS%2C+France HTTP/1.1\" 200 9877\n",
      "DEBUG 2019-03-06 14:10:24,807 Starting new HTTPS connection (1): atlas.microsoft.com:443\n"
     ]
    },
    {
     "name": "stdout",
     "output_type": "stream",
     "text": [
      "Web scrapping at : 29.702% which took 86 seconds to run.\n"
     ]
    },
    {
     "name": "stderr",
     "output_type": "stream",
     "text": [
      "DEBUG 2019-03-06 14:10:25,213 https://atlas.microsoft.com:443 \"GET /search/fuzzy/json?Content-Type=application%2Fjson&subscription-key=6j_USCas00Jqmpj2EFtKe18nLWPylj0gPTOLeBypt9U&api-version=1.0&query=CARREFOUR+MARKET+CMA+ROUSSILLON%2C+France HTTP/1.1\" 200 9238\n",
      "DEBUG 2019-03-06 14:10:25,222 Starting new HTTPS connection (1): atlas.microsoft.com:443\n"
     ]
    },
    {
     "name": "stdout",
     "output_type": "stream",
     "text": [
      "Web scrapping at : 29.795% which took 87 seconds to run.\n"
     ]
    },
    {
     "name": "stderr",
     "output_type": "stream",
     "text": [
      "DEBUG 2019-03-06 14:10:25,681 https://atlas.microsoft.com:443 \"GET /search/fuzzy/json?Content-Type=application%2Fjson&subscription-key=6j_USCas00Jqmpj2EFtKe18nLWPylj0gPTOLeBypt9U&api-version=1.0&query=CARREFOUR+MARKET+CMA+GENERAC%2C+France HTTP/1.1\" 200 9710\n",
      "DEBUG 2019-03-06 14:10:25,689 Starting new HTTPS connection (1): atlas.microsoft.com:443\n"
     ]
    },
    {
     "name": "stdout",
     "output_type": "stream",
     "text": [
      "Web scrapping at : 29.888% which took 87 seconds to run.\n"
     ]
    },
    {
     "name": "stderr",
     "output_type": "stream",
     "text": [
      "DEBUG 2019-03-06 14:10:26,079 https://atlas.microsoft.com:443 \"GET /search/fuzzy/json?Content-Type=application%2Fjson&subscription-key=6j_USCas00Jqmpj2EFtKe18nLWPylj0gPTOLeBypt9U&api-version=1.0&query=CARREFOUR+MARKET+CMA+RUMILLY%2C+France HTTP/1.1\" 200 9537\n",
      "DEBUG 2019-03-06 14:10:26,087 Starting new HTTPS connection (1): atlas.microsoft.com:443\n"
     ]
    },
    {
     "name": "stdout",
     "output_type": "stream",
     "text": [
      "Web scrapping at : 29.981% which took 88 seconds to run.\n"
     ]
    },
    {
     "name": "stderr",
     "output_type": "stream",
     "text": [
      "DEBUG 2019-03-06 14:10:26,683 https://atlas.microsoft.com:443 \"GET /search/fuzzy/json?Content-Type=application%2Fjson&subscription-key=6j_USCas00Jqmpj2EFtKe18nLWPylj0gPTOLeBypt9U&api-version=1.0&query=CARREFOUR+MARKET+CMA+FONTAINE+-LANGEVIN%2C+France HTTP/1.1\" 200 10109\n",
      "DEBUG 2019-03-06 14:10:26,691 Starting new HTTPS connection (1): atlas.microsoft.com:443\n"
     ]
    },
    {
     "name": "stdout",
     "output_type": "stream",
     "text": [
      "Web scrapping at : 30.074% which took 88 seconds to run.\n"
     ]
    },
    {
     "name": "stderr",
     "output_type": "stream",
     "text": [
      "DEBUG 2019-03-06 14:10:27,520 https://atlas.microsoft.com:443 \"GET /search/fuzzy/json?Content-Type=application%2Fjson&subscription-key=6j_USCas00Jqmpj2EFtKe18nLWPylj0gPTOLeBypt9U&api-version=1.0&query=CARREFOUR+MARKET+CMA+SALON+DE+P+-MORGAN%2C+France HTTP/1.1\" 200 8885\n",
      "DEBUG 2019-03-06 14:10:27,528 Starting new HTTPS connection (1): atlas.microsoft.com:443\n"
     ]
    },
    {
     "name": "stdout",
     "output_type": "stream",
     "text": [
      "Web scrapping at : 30.168% which took 89 seconds to run.\n"
     ]
    },
    {
     "name": "stderr",
     "output_type": "stream",
     "text": [
      "DEBUG 2019-03-06 14:10:27,977 https://atlas.microsoft.com:443 \"GET /search/fuzzy/json?Content-Type=application%2Fjson&subscription-key=6j_USCas00Jqmpj2EFtKe18nLWPylj0gPTOLeBypt9U&api-version=1.0&query=CARREFOUR+MARKET+CMA+MIRIBEL%2C+France HTTP/1.1\" 200 9075\n",
      "DEBUG 2019-03-06 14:10:27,985 Starting new HTTPS connection (1): atlas.microsoft.com:443\n"
     ]
    },
    {
     "name": "stdout",
     "output_type": "stream",
     "text": [
      "Web scrapping at : 30.261% which took 89 seconds to run.\n"
     ]
    },
    {
     "name": "stderr",
     "output_type": "stream",
     "text": [
      "DEBUG 2019-03-06 14:10:28,635 https://atlas.microsoft.com:443 \"GET /search/fuzzy/json?Content-Type=application%2Fjson&subscription-key=6j_USCas00Jqmpj2EFtKe18nLWPylj0gPTOLeBypt9U&api-version=1.0&query=CARREFOUR+MARKET+CMA+RIVES+S%2FFURES+SUR+FURES%2C+France HTTP/1.1\" 200 9178\n",
      "DEBUG 2019-03-06 14:10:28,643 Starting new HTTPS connection (1): atlas.microsoft.com:443\n"
     ]
    },
    {
     "name": "stdout",
     "output_type": "stream",
     "text": [
      "Web scrapping at : 30.354% which took 90 seconds to run.\n"
     ]
    },
    {
     "name": "stderr",
     "output_type": "stream",
     "text": [
      "DEBUG 2019-03-06 14:10:29,235 https://atlas.microsoft.com:443 \"GET /search/fuzzy/json?Content-Type=application%2Fjson&subscription-key=6j_USCas00Jqmpj2EFtKe18nLWPylj0gPTOLeBypt9U&api-version=1.0&query=CARREFOUR+MARKET+CMA+ST+MARCEL%2C+France HTTP/1.1\" 200 9393\n",
      "DEBUG 2019-03-06 14:10:29,243 Starting new HTTPS connection (1): atlas.microsoft.com:443\n"
     ]
    },
    {
     "name": "stdout",
     "output_type": "stream",
     "text": [
      "Web scrapping at : 30.447% which took 91 seconds to run.\n"
     ]
    },
    {
     "name": "stderr",
     "output_type": "stream",
     "text": [
      "DEBUG 2019-03-06 14:10:29,696 https://atlas.microsoft.com:443 \"GET /search/fuzzy/json?Content-Type=application%2Fjson&subscription-key=6j_USCas00Jqmpj2EFtKe18nLWPylj0gPTOLeBypt9U&api-version=1.0&query=CARREFOUR+MARKET+CMA+CLAIX%2C+France HTTP/1.1\" 200 9568\n",
      "DEBUG 2019-03-06 14:10:29,704 Starting new HTTPS connection (1): atlas.microsoft.com:443\n"
     ]
    },
    {
     "name": "stdout",
     "output_type": "stream",
     "text": [
      "Web scrapping at : 30.54% which took 91 seconds to run.\n"
     ]
    },
    {
     "name": "stderr",
     "output_type": "stream",
     "text": [
      "DEBUG 2019-03-06 14:10:30,454 https://atlas.microsoft.com:443 \"GET /search/fuzzy/json?Content-Type=application%2Fjson&subscription-key=6j_USCas00Jqmpj2EFtKe18nLWPylj0gPTOLeBypt9U&api-version=1.0&query=CARREFOUR+MARKET+CMA+MONTROND+LES+BAINS+MONTRONOTRE+DAME%2C+France HTTP/1.1\" 200 9160\n",
      "DEBUG 2019-03-06 14:10:30,463 Starting new HTTPS connection (1): atlas.microsoft.com:443\n"
     ]
    },
    {
     "name": "stdout",
     "output_type": "stream",
     "text": [
      "Web scrapping at : 30.633% which took 92 seconds to run.\n"
     ]
    },
    {
     "name": "stderr",
     "output_type": "stream",
     "text": [
      "DEBUG 2019-03-06 14:10:31,164 https://atlas.microsoft.com:443 \"GET /search/fuzzy/json?Content-Type=application%2Fjson&subscription-key=6j_USCas00Jqmpj2EFtKe18nLWPylj0gPTOLeBypt9U&api-version=1.0&query=CARREFOUR+MARKET+CMA+BELLEVILLE+S%2FSAONE+SUR+SAONE%2C+France HTTP/1.1\" 200 10234\n",
      "DEBUG 2019-03-06 14:10:31,173 Starting new HTTPS connection (1): atlas.microsoft.com:443\n"
     ]
    },
    {
     "name": "stdout",
     "output_type": "stream",
     "text": [
      "Web scrapping at : 30.726% which took 93 seconds to run.\n"
     ]
    },
    {
     "name": "stderr",
     "output_type": "stream",
     "text": [
      "DEBUG 2019-03-06 14:10:31,783 https://atlas.microsoft.com:443 \"GET /search/fuzzy/json?Content-Type=application%2Fjson&subscription-key=6j_USCas00Jqmpj2EFtKe18nLWPylj0gPTOLeBypt9U&api-version=1.0&query=CARREFOUR+MARKET+CMA+SORBIERS%2C+France HTTP/1.1\" 200 9166\n",
      "DEBUG 2019-03-06 14:10:31,792 Starting new HTTPS connection (1): atlas.microsoft.com:443\n"
     ]
    },
    {
     "name": "stdout",
     "output_type": "stream",
     "text": [
      "Web scrapping at : 30.819% which took 93 seconds to run.\n"
     ]
    },
    {
     "name": "stderr",
     "output_type": "stream",
     "text": [
      "DEBUG 2019-03-06 14:10:32,479 https://atlas.microsoft.com:443 \"GET /search/fuzzy/json?Content-Type=application%2Fjson&subscription-key=6j_USCas00Jqmpj2EFtKe18nLWPylj0gPTOLeBypt9U&api-version=1.0&query=CARREFOUR+MARKET+CMA+BELLEGARDE+S%2FVAL-REPNE+SUR+VAL+REPNE%2C+France HTTP/1.1\" 200 9159\n",
      "DEBUG 2019-03-06 14:10:32,488 Starting new HTTPS connection (1): atlas.microsoft.com:443\n"
     ]
    },
    {
     "name": "stdout",
     "output_type": "stream",
     "text": [
      "Web scrapping at : 30.912% which took 94 seconds to run.\n"
     ]
    },
    {
     "name": "stderr",
     "output_type": "stream",
     "text": [
      "DEBUG 2019-03-06 14:10:32,901 https://atlas.microsoft.com:443 \"GET /search/fuzzy/json?Content-Type=application%2Fjson&subscription-key=6j_USCas00Jqmpj2EFtKe18nLWPylj0gPTOLeBypt9U&api-version=1.0&query=CARREFOUR+MARKET+CMA+PERRIGNY%2C+France HTTP/1.1\" 200 9082\n",
      "DEBUG 2019-03-06 14:10:32,910 Starting new HTTPS connection (1): atlas.microsoft.com:443\n"
     ]
    },
    {
     "name": "stdout",
     "output_type": "stream",
     "text": [
      "Web scrapping at : 31.006% which took 94 seconds to run.\n"
     ]
    },
    {
     "name": "stderr",
     "output_type": "stream",
     "text": [
      "DEBUG 2019-03-06 14:10:33,533 https://atlas.microsoft.com:443 \"GET /search/fuzzy/json?Content-Type=application%2Fjson&subscription-key=6j_USCas00Jqmpj2EFtKe18nLWPylj0gPTOLeBypt9U&api-version=1.0&query=CARREFOUR+MARKET+CMA+SALON+DE+PROV+-BRETA%2C+France HTTP/1.1\" 200 9404\n",
      "DEBUG 2019-03-06 14:10:33,541 Starting new HTTPS connection (1): atlas.microsoft.com:443\n"
     ]
    },
    {
     "name": "stdout",
     "output_type": "stream",
     "text": [
      "Web scrapping at : 31.099% which took 95 seconds to run.\n"
     ]
    },
    {
     "name": "stderr",
     "output_type": "stream",
     "text": [
      "DEBUG 2019-03-06 14:10:33,981 https://atlas.microsoft.com:443 \"GET /search/fuzzy/json?Content-Type=application%2Fjson&subscription-key=6j_USCas00Jqmpj2EFtKe18nLWPylj0gPTOLeBypt9U&api-version=1.0&query=CARREFOUR+MARKET+CMA+LAVAL%2C+France HTTP/1.1\" 200 9038\n",
      "DEBUG 2019-03-06 14:10:33,989 Starting new HTTPS connection (1): atlas.microsoft.com:443\n"
     ]
    },
    {
     "name": "stdout",
     "output_type": "stream",
     "text": [
      "Web scrapping at : 31.192% which took 95 seconds to run.\n"
     ]
    },
    {
     "name": "stderr",
     "output_type": "stream",
     "text": [
      "DEBUG 2019-03-06 14:10:34,587 https://atlas.microsoft.com:443 \"GET /search/fuzzy/json?Content-Type=application%2Fjson&subscription-key=6j_USCas00Jqmpj2EFtKe18nLWPylj0gPTOLeBypt9U&api-version=1.0&query=CARREFOUR+MARKET+CMA+LE+PT+QUEVILLY+-JAURES%2C+France HTTP/1.1\" 200 8157\n",
      "DEBUG 2019-03-06 14:10:34,595 Starting new HTTPS connection (1): atlas.microsoft.com:443\n"
     ]
    },
    {
     "name": "stdout",
     "output_type": "stream",
     "text": [
      "Web scrapping at : 31.285% which took 96 seconds to run.\n"
     ]
    },
    {
     "name": "stderr",
     "output_type": "stream",
     "text": [
      "DEBUG 2019-03-06 14:10:35,159 https://atlas.microsoft.com:443 \"GET /search/fuzzy/json?Content-Type=application%2Fjson&subscription-key=6j_USCas00Jqmpj2EFtKe18nLWPylj0gPTOLeBypt9U&api-version=1.0&query=CARREFOUR+MARKET+CMA+SABLE+S%2FSARTHE+SOUS+ARTHE%2C+France HTTP/1.1\" 200 9642\n",
      "DEBUG 2019-03-06 14:10:35,167 Starting new HTTPS connection (1): atlas.microsoft.com:443\n"
     ]
    },
    {
     "name": "stdout",
     "output_type": "stream",
     "text": [
      "Web scrapping at : 31.378% which took 97 seconds to run.\n"
     ]
    },
    {
     "name": "stderr",
     "output_type": "stream",
     "text": [
      "DEBUG 2019-03-06 14:10:35,684 https://atlas.microsoft.com:443 \"GET /search/fuzzy/json?Content-Type=application%2Fjson&subscription-key=6j_USCas00Jqmpj2EFtKe18nLWPylj0gPTOLeBypt9U&api-version=1.0&query=CARREFOUR+MARKET+CMA+AVRILLE+-MENDESFRANC%2C+France HTTP/1.1\" 200 9228\n",
      "DEBUG 2019-03-06 14:10:35,692 Starting new HTTPS connection (1): atlas.microsoft.com:443\n"
     ]
    },
    {
     "name": "stdout",
     "output_type": "stream",
     "text": [
      "Web scrapping at : 31.471% which took 97 seconds to run.\n"
     ]
    },
    {
     "name": "stderr",
     "output_type": "stream",
     "text": [
      "DEBUG 2019-03-06 14:10:36,176 https://atlas.microsoft.com:443 \"GET /search/fuzzy/json?Content-Type=application%2Fjson&subscription-key=6j_USCas00Jqmpj2EFtKe18nLWPylj0gPTOLeBypt9U&api-version=1.0&query=CARREFOUR+MARKET+CMA+PIERRES%2C+France HTTP/1.1\" 200 8658\n",
      "DEBUG 2019-03-06 14:10:36,185 Starting new HTTPS connection (1): atlas.microsoft.com:443\n"
     ]
    },
    {
     "name": "stdout",
     "output_type": "stream",
     "text": [
      "Web scrapping at : 31.564% which took 98 seconds to run.\n"
     ]
    },
    {
     "name": "stderr",
     "output_type": "stream",
     "text": [
      "DEBUG 2019-03-06 14:10:36,647 https://atlas.microsoft.com:443 \"GET /search/fuzzy/json?Content-Type=application%2Fjson&subscription-key=6j_USCas00Jqmpj2EFtKe18nLWPylj0gPTOLeBypt9U&api-version=1.0&query=CARREFOUR+MARKET+CMA+NEUVILLE+-LIBERATION%2C+France HTTP/1.1\" 200 9238\n",
      "DEBUG 2019-03-06 14:10:36,657 Starting new HTTPS connection (1): atlas.microsoft.com:443\n"
     ]
    },
    {
     "name": "stdout",
     "output_type": "stream",
     "text": [
      "Web scrapping at : 31.657% which took 98 seconds to run.\n"
     ]
    },
    {
     "name": "stderr",
     "output_type": "stream",
     "text": [
      "DEBUG 2019-03-06 14:10:37,092 https://atlas.microsoft.com:443 \"GET /search/fuzzy/json?Content-Type=application%2Fjson&subscription-key=6j_USCas00Jqmpj2EFtKe18nLWPylj0gPTOLeBypt9U&api-version=1.0&query=CARREFOUR+MARKET+CMA+BERNAY%2C+France HTTP/1.1\" 200 9432\n",
      "DEBUG 2019-03-06 14:10:37,101 Starting new HTTPS connection (1): atlas.microsoft.com:443\n"
     ]
    },
    {
     "name": "stdout",
     "output_type": "stream",
     "text": [
      "Web scrapping at : 31.75% which took 99 seconds to run.\n"
     ]
    },
    {
     "name": "stderr",
     "output_type": "stream",
     "text": [
      "DEBUG 2019-03-06 14:10:37,565 https://atlas.microsoft.com:443 \"GET /search/fuzzy/json?Content-Type=application%2Fjson&subscription-key=6j_USCas00Jqmpj2EFtKe18nLWPylj0gPTOLeBypt9U&api-version=1.0&query=CARREFOUR+MARKET+CMA+ST+MARTIN+VX+BELLEME%2C+France HTTP/1.1\" 200 9181\n",
      "DEBUG 2019-03-06 14:10:37,574 Starting new HTTPS connection (1): atlas.microsoft.com:443\n"
     ]
    },
    {
     "name": "stdout",
     "output_type": "stream",
     "text": [
      "Web scrapping at : 31.844% which took 99 seconds to run.\n"
     ]
    },
    {
     "name": "stderr",
     "output_type": "stream",
     "text": [
      "DEBUG 2019-03-06 14:10:38,014 https://atlas.microsoft.com:443 \"GET /search/fuzzy/json?Content-Type=application%2Fjson&subscription-key=6j_USCas00Jqmpj2EFtKe18nLWPylj0gPTOLeBypt9U&api-version=1.0&query=CARREFOUR+MARKET+CMA+SAUSSAY%2C+France HTTP/1.1\" 200 9124\n",
      "DEBUG 2019-03-06 14:10:38,023 Starting new HTTPS connection (1): atlas.microsoft.com:443\n"
     ]
    },
    {
     "name": "stdout",
     "output_type": "stream",
     "text": [
      "Web scrapping at : 31.937% which took 99 seconds to run.\n"
     ]
    },
    {
     "name": "stderr",
     "output_type": "stream",
     "text": [
      "DEBUG 2019-03-06 14:10:38,559 https://atlas.microsoft.com:443 \"GET /search/fuzzy/json?Content-Type=application%2Fjson&subscription-key=6j_USCas00Jqmpj2EFtKe18nLWPylj0gPTOLeBypt9U&api-version=1.0&query=CARREFOUR+MARKET+CMA+CHANGE+LES+LAVAL%2C+France HTTP/1.1\" 200 9659\n",
      "DEBUG 2019-03-06 14:10:38,568 Starting new HTTPS connection (1): atlas.microsoft.com:443\n"
     ]
    },
    {
     "name": "stdout",
     "output_type": "stream",
     "text": [
      "Web scrapping at : 32.03% which took 100 seconds to run.\n"
     ]
    },
    {
     "name": "stderr",
     "output_type": "stream",
     "text": [
      "DEBUG 2019-03-06 14:10:38,974 https://atlas.microsoft.com:443 \"GET /search/fuzzy/json?Content-Type=application%2Fjson&subscription-key=6j_USCas00Jqmpj2EFtKe18nLWPylj0gPTOLeBypt9U&api-version=1.0&query=CARREFOUR+MARKET+CMA+DOMFRONT%2C+France HTTP/1.1\" 200 9130\n",
      "DEBUG 2019-03-06 14:10:38,983 Starting new HTTPS connection (1): atlas.microsoft.com:443\n"
     ]
    },
    {
     "name": "stdout",
     "output_type": "stream",
     "text": [
      "Web scrapping at : 32.123% which took 100 seconds to run.\n"
     ]
    },
    {
     "name": "stderr",
     "output_type": "stream",
     "text": [
      "DEBUG 2019-03-06 14:10:39,590 https://atlas.microsoft.com:443 \"GET /search/fuzzy/json?Content-Type=application%2Fjson&subscription-key=6j_USCas00Jqmpj2EFtKe18nLWPylj0gPTOLeBypt9U&api-version=1.0&query=CARREFOUR+MARKET+CMA+ST+NAZAIRE+-VILLEPORT%2C+France HTTP/1.1\" 200 10246\n",
      "DEBUG 2019-03-06 14:10:39,599 Starting new HTTPS connection (1): atlas.microsoft.com:443\n"
     ]
    },
    {
     "name": "stdout",
     "output_type": "stream",
     "text": [
      "Web scrapping at : 32.216% which took 101 seconds to run.\n"
     ]
    },
    {
     "name": "stderr",
     "output_type": "stream",
     "text": [
      "DEBUG 2019-03-06 14:10:40,198 https://atlas.microsoft.com:443 \"GET /search/fuzzy/json?Content-Type=application%2Fjson&subscription-key=6j_USCas00Jqmpj2EFtKe18nLWPylj0gPTOLeBypt9U&api-version=1.0&query=CARREFOUR+MARKET+CMA+VILLERS+BOCAGE%2814%29+BOCAGE%2C+France HTTP/1.1\" 200 7866\n",
      "DEBUG 2019-03-06 14:10:40,207 Starting new HTTPS connection (1): atlas.microsoft.com:443\n",
      "DEBUG 2019-03-06 14:10:40,296 https://atlas.microsoft.com:443 \"GET /search/fuzzy/json?Content-Type=application%2Fjson&subscription-key=6j_USCas00Jqmpj2EFtKe18nLWPylj0gPTOLeBypt9U&api-version=1.0&query=CARREFOUR+MARKET+CMA+GRANDVILLIERS%2C+France HTTP/1.1\" 200 9125\n",
      "DEBUG 2019-03-06 14:10:40,304 Starting new HTTPS connection (1): atlas.microsoft.com:443\n",
      "DEBUG 2019-03-06 14:10:40,386 https://atlas.microsoft.com:443 \"GET /search/fuzzy/json?Content-Type=application%2Fjson&subscription-key=6j_USCas00Jqmpj2EFtKe18nLWPylj0gPTOLeBypt9U&api-version=1.0&query=CARREFOUR+MARKET+CMA+AUTREVILLE%2C+France HTTP/1.1\" 200 9150\n",
      "DEBUG 2019-03-06 14:10:40,395 Starting new HTTPS connection (1): atlas.microsoft.com:443\n"
     ]
    },
    {
     "name": "stdout",
     "output_type": "stream",
     "text": [
      "Web scrapping at : 32.309% which took 102 seconds to run.\n",
      "Web scrapping at : 32.402% which took 102 seconds to run.\n",
      "Web scrapping at : 32.495% which took 102 seconds to run.\n"
     ]
    },
    {
     "name": "stderr",
     "output_type": "stream",
     "text": [
      "DEBUG 2019-03-06 14:10:40,484 https://atlas.microsoft.com:443 \"GET /search/fuzzy/json?Content-Type=application%2Fjson&subscription-key=6j_USCas00Jqmpj2EFtKe18nLWPylj0gPTOLeBypt9U&api-version=1.0&query=CARREFOUR+MARKET+CMA+MONTMIRAIL%2C+France HTTP/1.1\" 200 9109\n",
      "DEBUG 2019-03-06 14:10:40,493 Starting new HTTPS connection (1): atlas.microsoft.com:443\n"
     ]
    },
    {
     "name": "stdout",
     "output_type": "stream",
     "text": [
      "Web scrapping at : 32.588% which took 102 seconds to run.\n"
     ]
    },
    {
     "name": "stderr",
     "output_type": "stream",
     "text": [
      "DEBUG 2019-03-06 14:10:40,922 https://atlas.microsoft.com:443 \"GET /search/fuzzy/json?Content-Type=application%2Fjson&subscription-key=6j_USCas00Jqmpj2EFtKe18nLWPylj0gPTOLeBypt9U&api-version=1.0&query=CARREFOUR+MARKET+CMA+FERRIERES+EN+GATINAIS%2C+France HTTP/1.1\" 200 8138\n",
      "DEBUG 2019-03-06 14:10:40,931 Starting new HTTPS connection (1): atlas.microsoft.com:443\n"
     ]
    },
    {
     "name": "stdout",
     "output_type": "stream",
     "text": [
      "Web scrapping at : 32.682% which took 102 seconds to run.\n"
     ]
    },
    {
     "name": "stderr",
     "output_type": "stream",
     "text": [
      "DEBUG 2019-03-06 14:10:41,494 https://atlas.microsoft.com:443 \"GET /search/fuzzy/json?Content-Type=application%2Fjson&subscription-key=6j_USCas00Jqmpj2EFtKe18nLWPylj0gPTOLeBypt9U&api-version=1.0&query=CARREFOUR+MARKET+CMA+BREUILLET+CHERON%2C+France HTTP/1.1\" 200 9683\n",
      "DEBUG 2019-03-06 14:10:41,503 Starting new HTTPS connection (1): atlas.microsoft.com:443\n"
     ]
    },
    {
     "name": "stdout",
     "output_type": "stream",
     "text": [
      "Web scrapping at : 32.775% which took 103 seconds to run.\n"
     ]
    },
    {
     "name": "stderr",
     "output_type": "stream",
     "text": [
      "DEBUG 2019-03-06 14:10:42,052 https://atlas.microsoft.com:443 \"GET /search/fuzzy/json?Content-Type=application%2Fjson&subscription-key=6j_USCas00Jqmpj2EFtKe18nLWPylj0gPTOLeBypt9U&api-version=1.0&query=CARREFOUR+MARKET+CMA+ST+MAURICE%2C+France HTTP/1.1\" 200 9536\n",
      "DEBUG 2019-03-06 14:10:42,060 Starting new HTTPS connection (1): atlas.microsoft.com:443\n"
     ]
    },
    {
     "name": "stdout",
     "output_type": "stream",
     "text": [
      "Web scrapping at : 32.868% which took 104 seconds to run.\n"
     ]
    },
    {
     "name": "stderr",
     "output_type": "stream",
     "text": [
      "DEBUG 2019-03-06 14:10:42,816 https://atlas.microsoft.com:443 \"GET /search/fuzzy/json?Content-Type=application%2Fjson&subscription-key=6j_USCas00Jqmpj2EFtKe18nLWPylj0gPTOLeBypt9U&api-version=1.0&query=CARREFOUR+MARKET+CMA+FRENEUSE%2C+France HTTP/1.1\" 200 9125\n",
      "DEBUG 2019-03-06 14:10:42,826 Starting new HTTPS connection (1): atlas.microsoft.com:443\n"
     ]
    },
    {
     "name": "stdout",
     "output_type": "stream",
     "text": [
      "Web scrapping at : 32.961% which took 104 seconds to run.\n"
     ]
    },
    {
     "name": "stderr",
     "output_type": "stream",
     "text": [
      "DEBUG 2019-03-06 14:10:45,678 https://atlas.microsoft.com:443 \"GET /search/fuzzy/json?Content-Type=application%2Fjson&subscription-key=6j_USCas00Jqmpj2EFtKe18nLWPylj0gPTOLeBypt9U&api-version=1.0&query=CARREFOUR+MARKET+CMA+BOUSSAC+-BOURBONNAIS%2C+France HTTP/1.1\" 200 9164\n",
      "DEBUG 2019-03-06 14:10:45,686 Starting new HTTPS connection (1): atlas.microsoft.com:443\n"
     ]
    },
    {
     "name": "stdout",
     "output_type": "stream",
     "text": [
      "Web scrapping at : 33.054% which took 107 seconds to run.\n"
     ]
    },
    {
     "name": "stderr",
     "output_type": "stream",
     "text": [
      "DEBUG 2019-03-06 14:10:46,149 https://atlas.microsoft.com:443 \"GET /search/fuzzy/json?Content-Type=application%2Fjson&subscription-key=6j_USCas00Jqmpj2EFtKe18nLWPylj0gPTOLeBypt9U&api-version=1.0&query=CARREFOUR+MARKET+CMA+DESERTINES%2C+France HTTP/1.1\" 200 9128\n",
      "DEBUG 2019-03-06 14:10:46,158 Starting new HTTPS connection (1): atlas.microsoft.com:443\n"
     ]
    },
    {
     "name": "stdout",
     "output_type": "stream",
     "text": [
      "Web scrapping at : 33.147% which took 108 seconds to run.\n"
     ]
    },
    {
     "name": "stderr",
     "output_type": "stream",
     "text": [
      "DEBUG 2019-03-06 14:10:46,607 https://atlas.microsoft.com:443 \"GET /search/fuzzy/json?Content-Type=application%2Fjson&subscription-key=6j_USCas00Jqmpj2EFtKe18nLWPylj0gPTOLeBypt9U&api-version=1.0&query=CARREFOUR+MARKET+CMA+AUBUSSON%2C+France HTTP/1.1\" 200 9130\n",
      "DEBUG 2019-03-06 14:10:46,615 Starting new HTTPS connection (1): atlas.microsoft.com:443\n"
     ]
    },
    {
     "name": "stdout",
     "output_type": "stream",
     "text": [
      "Web scrapping at : 33.24% which took 108 seconds to run.\n"
     ]
    },
    {
     "name": "stderr",
     "output_type": "stream",
     "text": [
      "DEBUG 2019-03-06 14:10:47,477 https://atlas.microsoft.com:443 \"GET /search/fuzzy/json?Content-Type=application%2Fjson&subscription-key=6j_USCas00Jqmpj2EFtKe18nLWPylj0gPTOLeBypt9U&api-version=1.0&query=CARREFOUR+MARKET+CMA+ST+POURCAIN+S%2FSIOULE+SOUS+IOULE%2C+France HTTP/1.1\" 200 9573\n",
      "DEBUG 2019-03-06 14:10:47,485 Starting new HTTPS connection (1): atlas.microsoft.com:443\n"
     ]
    },
    {
     "name": "stdout",
     "output_type": "stream",
     "text": [
      "Web scrapping at : 33.333% which took 109 seconds to run.\n"
     ]
    },
    {
     "name": "stderr",
     "output_type": "stream",
     "text": [
      "DEBUG 2019-03-06 14:10:47,854 https://atlas.microsoft.com:443 \"GET /search/fuzzy/json?Content-Type=application%2Fjson&subscription-key=6j_USCas00Jqmpj2EFtKe18nLWPylj0gPTOLeBypt9U&api-version=1.0&query=CARREFOUR+MARKET+CMA+BEAUMONT%2C+France HTTP/1.1\" 200 9192\n",
      "DEBUG 2019-03-06 14:10:47,862 Starting new HTTPS connection (1): atlas.microsoft.com:443\n"
     ]
    },
    {
     "name": "stdout",
     "output_type": "stream",
     "text": [
      "Web scrapping at : 33.426% which took 109 seconds to run.\n"
     ]
    },
    {
     "name": "stderr",
     "output_type": "stream",
     "text": [
      "DEBUG 2019-03-06 14:10:48,467 https://atlas.microsoft.com:443 \"GET /search/fuzzy/json?Content-Type=application%2Fjson&subscription-key=6j_USCas00Jqmpj2EFtKe18nLWPylj0gPTOLeBypt9U&api-version=1.0&query=CARREFOUR+MARKET+CMA+ST+AMAND+MONTROND+AMANOTRE+DAME%2C+France HTTP/1.1\" 200 9414\n",
      "DEBUG 2019-03-06 14:10:48,476 Starting new HTTPS connection (1): atlas.microsoft.com:443\n"
     ]
    },
    {
     "name": "stdout",
     "output_type": "stream",
     "text": [
      "Web scrapping at : 33.52% which took 110 seconds to run.\n"
     ]
    },
    {
     "name": "stderr",
     "output_type": "stream",
     "text": [
      "DEBUG 2019-03-06 14:10:49,017 https://atlas.microsoft.com:443 \"GET /search/fuzzy/json?Content-Type=application%2Fjson&subscription-key=6j_USCas00Jqmpj2EFtKe18nLWPylj0gPTOLeBypt9U&api-version=1.0&query=CARREFOUR+MARKET+CMA+BOURBON+-GUILLAUMIN%2C+France HTTP/1.1\" 200 9600\n",
      "DEBUG 2019-03-06 14:10:49,026 Starting new HTTPS connection (1): atlas.microsoft.com:443\n"
     ]
    },
    {
     "name": "stdout",
     "output_type": "stream",
     "text": [
      "Web scrapping at : 33.613% which took 110 seconds to run.\n"
     ]
    },
    {
     "name": "stderr",
     "output_type": "stream",
     "text": [
      "DEBUG 2019-03-06 14:10:49,447 https://atlas.microsoft.com:443 \"GET /search/fuzzy/json?Content-Type=application%2Fjson&subscription-key=6j_USCas00Jqmpj2EFtKe18nLWPylj0gPTOLeBypt9U&api-version=1.0&query=CARREFOUR+MARKET+CMA+LIGNIERES%2C+France HTTP/1.1\" 200 9090\n",
      "DEBUG 2019-03-06 14:10:49,456 Starting new HTTPS connection (1): atlas.microsoft.com:443\n"
     ]
    },
    {
     "name": "stdout",
     "output_type": "stream",
     "text": [
      "Web scrapping at : 33.706% which took 111 seconds to run.\n"
     ]
    },
    {
     "name": "stderr",
     "output_type": "stream",
     "text": [
      "DEBUG 2019-03-06 14:10:50,012 https://atlas.microsoft.com:443 \"GET /search/fuzzy/json?Content-Type=application%2Fjson&subscription-key=6j_USCas00Jqmpj2EFtKe18nLWPylj0gPTOLeBypt9U&api-version=1.0&query=CARREFOUR+MARKET+CMA+SOLESMES+2%2C+France HTTP/1.1\" 200 7843\n",
      "DEBUG 2019-03-06 14:10:50,020 Starting new HTTPS connection (1): atlas.microsoft.com:443\n"
     ]
    },
    {
     "name": "stdout",
     "output_type": "stream",
     "text": [
      "Web scrapping at : 33.799% which took 111 seconds to run.\n"
     ]
    },
    {
     "name": "stderr",
     "output_type": "stream",
     "text": [
      "DEBUG 2019-03-06 14:10:50,644 https://atlas.microsoft.com:443 \"GET /search/fuzzy/json?Content-Type=application%2Fjson&subscription-key=6j_USCas00Jqmpj2EFtKe18nLWPylj0gPTOLeBypt9U&api-version=1.0&query=CARREFOUR+MARKET+CMA+BELLEGARDE+S%2FV-CHATI+SUR+V+CHATI%2C+France HTTP/1.1\" 200 9454\n",
      "DEBUG 2019-03-06 14:10:50,654 Starting new HTTPS connection (1): atlas.microsoft.com:443\n"
     ]
    },
    {
     "name": "stdout",
     "output_type": "stream",
     "text": [
      "Web scrapping at : 33.892% which took 112 seconds to run.\n"
     ]
    },
    {
     "name": "stderr",
     "output_type": "stream",
     "text": [
      "DEBUG 2019-03-06 14:10:51,185 https://atlas.microsoft.com:443 \"GET /search/fuzzy/json?Content-Type=application%2Fjson&subscription-key=6j_USCas00Jqmpj2EFtKe18nLWPylj0gPTOLeBypt9U&api-version=1.0&query=CARREFOUR+MARKET+CMA+BELLEGARDE+ARENES%2C+France HTTP/1.1\" 200 9396\n",
      "DEBUG 2019-03-06 14:10:51,195 Starting new HTTPS connection (1): atlas.microsoft.com:443\n"
     ]
    },
    {
     "name": "stdout",
     "output_type": "stream",
     "text": [
      "Web scrapping at : 33.985% which took 113 seconds to run.\n"
     ]
    },
    {
     "name": "stderr",
     "output_type": "stream",
     "text": [
      "DEBUG 2019-03-06 14:10:51,941 https://atlas.microsoft.com:443 \"GET /search/fuzzy/json?Content-Type=application%2Fjson&subscription-key=6j_USCas00Jqmpj2EFtKe18nLWPylj0gPTOLeBypt9U&api-version=1.0&query=CARREFOUR+MARKET+FER+STE+ANNE+D%27EVENOS+D+EVENOS%2C+France HTTP/1.1\" 200 8212\n",
      "DEBUG 2019-03-06 14:10:51,949 Starting new HTTPS connection (1): atlas.microsoft.com:443\n"
     ]
    },
    {
     "name": "stdout",
     "output_type": "stream",
     "text": [
      "Web scrapping at : 34.078% which took 113 seconds to run.\n"
     ]
    },
    {
     "name": "stderr",
     "output_type": "stream",
     "text": [
      "DEBUG 2019-03-06 14:10:52,682 https://atlas.microsoft.com:443 \"GET /search/fuzzy/json?Content-Type=application%2Fjson&subscription-key=6j_USCas00Jqmpj2EFtKe18nLWPylj0gPTOLeBypt9U&api-version=1.0&query=CARREFOUR+MARKET+CMA+MASSY+-GRAND+OUEST%2C+France HTTP/1.1\" 200 8701\n",
      "DEBUG 2019-03-06 14:10:52,690 Starting new HTTPS connection (1): atlas.microsoft.com:443\n"
     ]
    },
    {
     "name": "stdout",
     "output_type": "stream",
     "text": [
      "Web scrapping at : 34.171% which took 114 seconds to run.\n"
     ]
    },
    {
     "name": "stderr",
     "output_type": "stream",
     "text": [
      "DEBUG 2019-03-06 14:10:53,435 https://atlas.microsoft.com:443 \"GET /search/fuzzy/json?Content-Type=application%2Fjson&subscription-key=6j_USCas00Jqmpj2EFtKe18nLWPylj0gPTOLeBypt9U&api-version=1.0&query=CARREFOUR+MARKET+CMA+LA+ROCHELLE%2C+France HTTP/1.1\" 200 10189\n",
      "DEBUG 2019-03-06 14:10:53,443 Starting new HTTPS connection (1): atlas.microsoft.com:443\n"
     ]
    },
    {
     "name": "stdout",
     "output_type": "stream",
     "text": [
      "Web scrapping at : 34.264% which took 115 seconds to run.\n"
     ]
    },
    {
     "name": "stderr",
     "output_type": "stream",
     "text": [
      "DEBUG 2019-03-06 14:10:54,057 https://atlas.microsoft.com:443 \"GET /search/fuzzy/json?Content-Type=application%2Fjson&subscription-key=6j_USCas00Jqmpj2EFtKe18nLWPylj0gPTOLeBypt9U&api-version=1.0&query=CARREFOUR+MARKET+CMA+BELLEGARDE+S%2FVAL-REP+SUR+VAL+REP%2C+France HTTP/1.1\" 200 9092\n",
      "DEBUG 2019-03-06 14:10:54,066 Starting new HTTPS connection (1): atlas.microsoft.com:443\n"
     ]
    },
    {
     "name": "stdout",
     "output_type": "stream",
     "text": [
      "Web scrapping at : 34.358% which took 116 seconds to run.\n"
     ]
    },
    {
     "name": "stderr",
     "output_type": "stream",
     "text": [
      "DEBUG 2019-03-06 14:10:55,085 https://atlas.microsoft.com:443 \"GET /search/fuzzy/json?Content-Type=application%2Fjson&subscription-key=6j_USCas00Jqmpj2EFtKe18nLWPylj0gPTOLeBypt9U&api-version=1.0&query=CARREFOUR+MARKET+CMA+SALON+DE+PROV+-CANOURGUES%2C+France HTTP/1.1\" 200 9410\n",
      "DEBUG 2019-03-06 14:10:55,093 Starting new HTTPS connection (1): atlas.microsoft.com:443\n"
     ]
    },
    {
     "name": "stdout",
     "output_type": "stream",
     "text": [
      "Web scrapping at : 34.451% which took 117 seconds to run.\n"
     ]
    },
    {
     "name": "stderr",
     "output_type": "stream",
     "text": [
      "DEBUG 2019-03-06 14:10:55,450 https://atlas.microsoft.com:443 \"GET /search/fuzzy/json?Content-Type=application%2Fjson&subscription-key=6j_USCas00Jqmpj2EFtKe18nLWPylj0gPTOLeBypt9U&api-version=1.0&query=FRANPRIX+CYDIS+ST+CYPRIEN%2C+France HTTP/1.1\" 200 5280\n",
      "DEBUG 2019-03-06 14:10:55,458 Starting new HTTPS connection (1): atlas.microsoft.com:443\n"
     ]
    },
    {
     "name": "stdout",
     "output_type": "stream",
     "text": [
      "Web scrapping at : 34.544% which took 117 seconds to run.\n"
     ]
    },
    {
     "name": "stderr",
     "output_type": "stream",
     "text": [
      "DEBUG 2019-03-06 14:10:55,846 https://atlas.microsoft.com:443 \"GET /search/fuzzy/json?Content-Type=application%2Fjson&subscription-key=6j_USCas00Jqmpj2EFtKe18nLWPylj0gPTOLeBypt9U&api-version=1.0&query=FRANPRIX+MENANA+ST+MAURICE%2C+France HTTP/1.1\" 200 7856\n",
      "DEBUG 2019-03-06 14:10:55,854 Starting new HTTPS connection (1): atlas.microsoft.com:443\n"
     ]
    },
    {
     "name": "stdout",
     "output_type": "stream",
     "text": [
      "Web scrapping at : 34.637% which took 117 seconds to run.\n"
     ]
    },
    {
     "name": "stderr",
     "output_type": "stream",
     "text": [
      "DEBUG 2019-03-06 14:10:56,230 https://atlas.microsoft.com:443 \"GET /search/fuzzy/json?Content-Type=application%2Fjson&subscription-key=6j_USCas00Jqmpj2EFtKe18nLWPylj0gPTOLeBypt9U&api-version=1.0&query=FRANPRIX+AVA+VILLE+AVRAY%2C+France HTTP/1.1\" 200 5914\n",
      "DEBUG 2019-03-06 14:10:56,238 Starting new HTTPS connection (1): atlas.microsoft.com:443\n"
     ]
    },
    {
     "name": "stdout",
     "output_type": "stream",
     "text": [
      "Web scrapping at : 34.73% which took 118 seconds to run.\n"
     ]
    },
    {
     "name": "stderr",
     "output_type": "stream",
     "text": [
      "DEBUG 2019-03-06 14:10:56,751 https://atlas.microsoft.com:443 \"GET /search/fuzzy/json?Content-Type=application%2Fjson&subscription-key=6j_USCas00Jqmpj2EFtKe18nLWPylj0gPTOLeBypt9U&api-version=1.0&query=FRANPRIX+LISER+PAVILLONS+SUR+BOIS%2C+France HTTP/1.1\" 200 7436\n",
      "DEBUG 2019-03-06 14:10:56,760 Starting new HTTPS connection (1): atlas.microsoft.com:443\n",
      "DEBUG 2019-03-06 14:10:56,848 https://atlas.microsoft.com:443 \"GET /search/fuzzy/json?Content-Type=application%2Fjson&subscription-key=6j_USCas00Jqmpj2EFtKe18nLWPylj0gPTOLeBypt9U&api-version=1.0&query=FRANPRIX+OLMANO+ST+MAURICE%2C+France HTTP/1.1\" 200 7584\n",
      "DEBUG 2019-03-06 14:10:56,856 Starting new HTTPS connection (1): atlas.microsoft.com:443\n"
     ]
    },
    {
     "name": "stdout",
     "output_type": "stream",
     "text": [
      "Web scrapping at : 34.823% which took 118 seconds to run.\n",
      "Web scrapping at : 34.916% which took 118 seconds to run.\n"
     ]
    },
    {
     "name": "stderr",
     "output_type": "stream",
     "text": [
      "DEBUG 2019-03-06 14:10:57,220 https://atlas.microsoft.com:443 \"GET /search/fuzzy/json?Content-Type=application%2Fjson&subscription-key=6j_USCas00Jqmpj2EFtKe18nLWPylj0gPTOLeBypt9U&api-version=1.0&query=FRANPRIX+ELMADIS+CHATILLON%2C+France HTTP/1.1\" 200 7795\n",
      "DEBUG 2019-03-06 14:10:57,228 Starting new HTTPS connection (1): atlas.microsoft.com:443\n"
     ]
    },
    {
     "name": "stdout",
     "output_type": "stream",
     "text": [
      "Web scrapping at : 35.009% which took 119 seconds to run.\n"
     ]
    },
    {
     "name": "stderr",
     "output_type": "stream",
     "text": [
      "DEBUG 2019-03-06 14:10:57,781 https://atlas.microsoft.com:443 \"GET /search/fuzzy/json?Content-Type=application%2Fjson&subscription-key=6j_USCas00Jqmpj2EFtKe18nLWPylj0gPTOLeBypt9U&api-version=1.0&query=FRANPRIX+GELY+LA+VARENNE+ST+MAUR%2C+France HTTP/1.1\" 200 8047\n",
      "DEBUG 2019-03-06 14:10:57,789 Starting new HTTPS connection (1): atlas.microsoft.com:443\n",
      "DEBUG 2019-03-06 14:10:57,873 https://atlas.microsoft.com:443 \"GET /search/fuzzy/json?Content-Type=application%2Fjson&subscription-key=6j_USCas00Jqmpj2EFtKe18nLWPylj0gPTOLeBypt9U&api-version=1.0&query=FRANPRIX+JOGOLDIS+BUC%2C+France HTTP/1.1\" 200 5449\n",
      "DEBUG 2019-03-06 14:10:57,881 Starting new HTTPS connection (1): atlas.microsoft.com:443\n"
     ]
    },
    {
     "name": "stdout",
     "output_type": "stream",
     "text": [
      "Web scrapping at : 35.102% which took 119 seconds to run.\n",
      "Web scrapping at : 35.196% which took 119 seconds to run.\n"
     ]
    },
    {
     "name": "stderr",
     "output_type": "stream",
     "text": [
      "DEBUG 2019-03-06 14:10:58,308 https://atlas.microsoft.com:443 \"GET /search/fuzzy/json?Content-Type=application%2Fjson&subscription-key=6j_USCas00Jqmpj2EFtKe18nLWPylj0gPTOLeBypt9U&api-version=1.0&query=FRANPRIX+MR+MAJOUR+ST+MAUR%2C+France HTTP/1.1\" 200 8667\n",
      "DEBUG 2019-03-06 14:10:58,317 Starting new HTTPS connection (1): atlas.microsoft.com:443\n"
     ]
    },
    {
     "name": "stdout",
     "output_type": "stream",
     "text": [
      "Web scrapping at : 35.289% which took 120 seconds to run.\n"
     ]
    },
    {
     "name": "stderr",
     "output_type": "stream",
     "text": [
      "DEBUG 2019-03-06 14:10:58,527 https://atlas.microsoft.com:443 \"GET /search/fuzzy/json?Content-Type=application%2Fjson&subscription-key=6j_USCas00Jqmpj2EFtKe18nLWPylj0gPTOLeBypt9U&api-version=1.0&query=FRANPRIX+S+P+F+MONTREUIL%2C+France HTTP/1.1\" 200 9662\n",
      "DEBUG 2019-03-06 14:10:58,535 Starting new HTTPS connection (1): atlas.microsoft.com:443\n"
     ]
    },
    {
     "name": "stdout",
     "output_type": "stream",
     "text": [
      "Web scrapping at : 35.382% which took 120 seconds to run.\n"
     ]
    },
    {
     "name": "stderr",
     "output_type": "stream",
     "text": [
      "DEBUG 2019-03-06 14:10:59,106 https://atlas.microsoft.com:443 \"GET /search/fuzzy/json?Content-Type=application%2Fjson&subscription-key=6j_USCas00Jqmpj2EFtKe18nLWPylj0gPTOLeBypt9U&api-version=1.0&query=FRANPRIX+ANISS+ST+DENIS%2C+France HTTP/1.1\" 200 8858\n",
      "DEBUG 2019-03-06 14:10:59,115 Starting new HTTPS connection (1): atlas.microsoft.com:443\n"
     ]
    },
    {
     "name": "stdout",
     "output_type": "stream",
     "text": [
      "Web scrapping at : 35.475% which took 121 seconds to run.\n"
     ]
    },
    {
     "name": "stderr",
     "output_type": "stream",
     "text": [
      "DEBUG 2019-03-06 14:10:59,699 https://atlas.microsoft.com:443 \"GET /search/fuzzy/json?Content-Type=application%2Fjson&subscription-key=6j_USCas00Jqmpj2EFtKe18nLWPylj0gPTOLeBypt9U&api-version=1.0&query=FRANPRIX+NEWFPMAG+2+-+TORCY+LA+MOGOTTE%2C+France HTTP/1.1\" 200 6978\n",
      "DEBUG 2019-03-06 14:10:59,707 Starting new HTTPS connection (1): atlas.microsoft.com:443\n",
      "DEBUG 2019-03-06 14:10:59,879 https://atlas.microsoft.com:443 \"GET /search/fuzzy/json?Content-Type=application%2Fjson&subscription-key=6j_USCas00Jqmpj2EFtKe18nLWPylj0gPTOLeBypt9U&api-version=1.0&query=FRANPRIX+S+M+E+SENLIS%2C+France HTTP/1.1\" 200 1071\n",
      "DEBUG 2019-03-06 14:10:59,887 Starting new HTTPS connection (1): atlas.microsoft.com:443\n"
     ]
    },
    {
     "name": "stdout",
     "output_type": "stream",
     "text": [
      "Web scrapping at : 35.568% which took 121 seconds to run.\n",
      "Web scrapping at : 35.661% which took 121 seconds to run.\n"
     ]
    },
    {
     "name": "stderr",
     "output_type": "stream",
     "text": [
      "DEBUG 2019-03-06 14:11:00,602 https://atlas.microsoft.com:443 \"GET /search/fuzzy/json?Content-Type=application%2Fjson&subscription-key=6j_USCas00Jqmpj2EFtKe18nLWPylj0gPTOLeBypt9U&api-version=1.0&query=FRANPRIX+M+SADIQ+ST+DENIS%2C+France HTTP/1.1\" 200 9378\n",
      "DEBUG 2019-03-06 14:11:00,615 Starting new HTTPS connection (1): atlas.microsoft.com:443\n"
     ]
    },
    {
     "name": "stdout",
     "output_type": "stream",
     "text": [
      "Web scrapping at : 35.754% which took 122 seconds to run.\n"
     ]
    },
    {
     "name": "stderr",
     "output_type": "stream",
     "text": [
      "DEBUG 2019-03-06 14:11:03,137 https://atlas.microsoft.com:443 \"GET /search/fuzzy/json?Content-Type=application%2Fjson&subscription-key=6j_USCas00Jqmpj2EFtKe18nLWPylj0gPTOLeBypt9U&api-version=1.0&query=FRANPRIX+MINIMARCHE+ILE+DE+FRANCE+CHAMPIGNY%2C+France HTTP/1.1\" 200 6932\n",
      "DEBUG 2019-03-06 14:11:03,145 Starting new HTTPS connection (1): atlas.microsoft.com:443\n"
     ]
    },
    {
     "name": "stdout",
     "output_type": "stream",
     "text": [
      "Web scrapping at : 35.847% which took 125 seconds to run.\n"
     ]
    },
    {
     "name": "stderr",
     "output_type": "stream",
     "text": [
      "DEBUG 2019-03-06 14:11:03,899 https://atlas.microsoft.com:443 \"GET /search/fuzzy/json?Content-Type=application%2Fjson&subscription-key=6j_USCas00Jqmpj2EFtKe18nLWPylj0gPTOLeBypt9U&api-version=1.0&query=FRANPRIX+PRIMA+5+ST+DENIS%2C+France HTTP/1.1\" 200 6625\n",
      "DEBUG 2019-03-06 14:11:03,907 Starting new HTTPS connection (1): atlas.microsoft.com:443\n"
     ]
    },
    {
     "name": "stdout",
     "output_type": "stream",
     "text": [
      "Web scrapping at : 35.94% which took 125 seconds to run.\n"
     ]
    },
    {
     "name": "stderr",
     "output_type": "stream",
     "text": [
      "DEBUG 2019-03-06 14:11:04,263 https://atlas.microsoft.com:443 \"GET /search/fuzzy/json?Content-Type=application%2Fjson&subscription-key=6j_USCas00Jqmpj2EFtKe18nLWPylj0gPTOLeBypt9U&api-version=1.0&query=FRANPRIX+DISTRIPA+MONTREUIL%2C+France HTTP/1.1\" 200 9667\n",
      "DEBUG 2019-03-06 14:11:04,272 Starting new HTTPS connection (1): atlas.microsoft.com:443\n"
     ]
    },
    {
     "name": "stdout",
     "output_type": "stream",
     "text": [
      "Web scrapping at : 36.034% which took 126 seconds to run.\n"
     ]
    },
    {
     "name": "stderr",
     "output_type": "stream",
     "text": [
      "DEBUG 2019-03-06 14:11:04,725 https://atlas.microsoft.com:443 \"GET /search/fuzzy/json?Content-Type=application%2Fjson&subscription-key=6j_USCas00Jqmpj2EFtKe18nLWPylj0gPTOLeBypt9U&api-version=1.0&query=FRANPRIX+SESAM+ST+OUEN%2C+France HTTP/1.1\" 200 9001\n",
      "DEBUG 2019-03-06 14:11:04,734 Starting new HTTPS connection (1): atlas.microsoft.com:443\n"
     ]
    },
    {
     "name": "stdout",
     "output_type": "stream",
     "text": [
      "Web scrapping at : 36.127% which took 126 seconds to run.\n"
     ]
    },
    {
     "name": "stderr",
     "output_type": "stream",
     "text": [
      "DEBUG 2019-03-06 14:11:05,253 https://atlas.microsoft.com:443 \"GET /search/fuzzy/json?Content-Type=application%2Fjson&subscription-key=6j_USCas00Jqmpj2EFtKe18nLWPylj0gPTOLeBypt9U&api-version=1.0&query=FRANPRIX+DISTRI+CESAR+PLESSIS+BOUCHARD%2C+France HTTP/1.1\" 200 5036\n",
      "DEBUG 2019-03-06 14:11:05,261 Starting new HTTPS connection (1): atlas.microsoft.com:443\n"
     ]
    },
    {
     "name": "stdout",
     "output_type": "stream",
     "text": [
      "Web scrapping at : 36.22% which took 127 seconds to run.\n"
     ]
    },
    {
     "name": "stderr",
     "output_type": "stream",
     "text": [
      "DEBUG 2019-03-06 14:11:05,867 https://atlas.microsoft.com:443 \"GET /search/fuzzy/json?Content-Type=application%2Fjson&subscription-key=6j_USCas00Jqmpj2EFtKe18nLWPylj0gPTOLeBypt9U&api-version=1.0&query=FRANPRIX+WILSON+DISTRIBUTION+ST+DENIS%2C+France HTTP/1.1\" 200 6099\n",
      "DEBUG 2019-03-06 14:11:05,874 Starting new HTTPS connection (1): atlas.microsoft.com:443\n"
     ]
    },
    {
     "name": "stdout",
     "output_type": "stream",
     "text": [
      "Web scrapping at : 36.313% which took 127 seconds to run.\n"
     ]
    },
    {
     "name": "stderr",
     "output_type": "stream",
     "text": [
      "DEBUG 2019-03-06 14:11:06,406 https://atlas.microsoft.com:443 \"GET /search/fuzzy/json?Content-Type=application%2Fjson&subscription-key=6j_USCas00Jqmpj2EFtKe18nLWPylj0gPTOLeBypt9U&api-version=1.0&query=FRANPRIX+BLANC+MESNIL+BLANCMESNIL%2C+France HTTP/1.1\" 200 6600\n",
      "DEBUG 2019-03-06 14:11:06,415 Starting new HTTPS connection (1): atlas.microsoft.com:443\n"
     ]
    },
    {
     "name": "stdout",
     "output_type": "stream",
     "text": [
      "Web scrapping at : 36.406% which took 128 seconds to run.\n"
     ]
    },
    {
     "name": "stderr",
     "output_type": "stream",
     "text": [
      "DEBUG 2019-03-06 14:11:06,821 https://atlas.microsoft.com:443 \"GET /search/fuzzy/json?Content-Type=application%2Fjson&subscription-key=6j_USCas00Jqmpj2EFtKe18nLWPylj0gPTOLeBypt9U&api-version=1.0&query=FRANPRIX+JANCRY+KREMLIN+BICETRE%2C+France HTTP/1.1\" 200 7712\n",
      "DEBUG 2019-03-06 14:11:06,829 Starting new HTTPS connection (1): atlas.microsoft.com:443\n"
     ]
    },
    {
     "name": "stdout",
     "output_type": "stream",
     "text": [
      "Web scrapping at : 36.499% which took 128 seconds to run.\n"
     ]
    },
    {
     "name": "stderr",
     "output_type": "stream",
     "text": [
      "DEBUG 2019-03-06 14:11:07,366 https://atlas.microsoft.com:443 \"GET /search/fuzzy/json?Content-Type=application%2Fjson&subscription-key=6j_USCas00Jqmpj2EFtKe18nLWPylj0gPTOLeBypt9U&api-version=1.0&query=FRANPRIX+STEED+VILLEPINTE%2C+France HTTP/1.1\" 200 8662\n",
      "DEBUG 2019-03-06 14:11:07,374 Starting new HTTPS connection (1): atlas.microsoft.com:443\n"
     ]
    },
    {
     "name": "stdout",
     "output_type": "stream",
     "text": [
      "Web scrapping at : 36.592% which took 129 seconds to run.\n"
     ]
    },
    {
     "name": "stderr",
     "output_type": "stream",
     "text": [
      "DEBUG 2019-03-06 14:11:07,734 https://atlas.microsoft.com:443 \"GET /search/fuzzy/json?Content-Type=application%2Fjson&subscription-key=6j_USCas00Jqmpj2EFtKe18nLWPylj0gPTOLeBypt9U&api-version=1.0&query=FRANPRIX+AGA+SCEAUX%2C+France HTTP/1.1\" 200 6149\n",
      "DEBUG 2019-03-06 14:11:07,743 Starting new HTTPS connection (1): atlas.microsoft.com:443\n"
     ]
    },
    {
     "name": "stdout",
     "output_type": "stream",
     "text": [
      "Web scrapping at : 36.685% which took 129 seconds to run.\n"
     ]
    },
    {
     "name": "stderr",
     "output_type": "stream",
     "text": [
      "DEBUG 2019-03-06 14:11:08,327 https://atlas.microsoft.com:443 \"GET /search/fuzzy/json?Content-Type=application%2Fjson&subscription-key=6j_USCas00Jqmpj2EFtKe18nLWPylj0gPTOLeBypt9U&api-version=1.0&query=FRANPRIX+J+B+DISTRIB+ST+OUEN%2C+France HTTP/1.1\" 200 7153\n",
      "DEBUG 2019-03-06 14:11:08,335 Starting new HTTPS connection (1): atlas.microsoft.com:443\n"
     ]
    },
    {
     "name": "stdout",
     "output_type": "stream",
     "text": [
      "Web scrapping at : 36.778% which took 130 seconds to run.\n"
     ]
    },
    {
     "name": "stderr",
     "output_type": "stream",
     "text": [
      "DEBUG 2019-03-06 14:11:08,703 https://atlas.microsoft.com:443 \"GET /search/fuzzy/json?Content-Type=application%2Fjson&subscription-key=6j_USCas00Jqmpj2EFtKe18nLWPylj0gPTOLeBypt9U&api-version=1.0&query=FRANPRIX+DEAM+BONNEUIL%2C+France HTTP/1.1\" 200 5803\n",
      "DEBUG 2019-03-06 14:11:08,711 Starting new HTTPS connection (1): atlas.microsoft.com:443\n"
     ]
    },
    {
     "name": "stdout",
     "output_type": "stream",
     "text": [
      "Web scrapping at : 36.872% which took 130 seconds to run.\n"
     ]
    },
    {
     "name": "stderr",
     "output_type": "stream",
     "text": [
      "DEBUG 2019-03-06 14:11:09,340 https://atlas.microsoft.com:443 \"GET /search/fuzzy/json?Content-Type=application%2Fjson&subscription-key=6j_USCas00Jqmpj2EFtKe18nLWPylj0gPTOLeBypt9U&api-version=1.0&query=FRANPRIX+BREC+2+MANTESUR+VILLE%2C+France HTTP/1.1\" 200 6981\n",
      "DEBUG 2019-03-06 14:11:09,348 Starting new HTTPS connection (1): atlas.microsoft.com:443\n",
      "DEBUG 2019-03-06 14:11:09,434 https://atlas.microsoft.com:443 \"GET /search/fuzzy/json?Content-Type=application%2Fjson&subscription-key=6j_USCas00Jqmpj2EFtKe18nLWPylj0gPTOLeBypt9U&api-version=1.0&query=FRANPRIX+FPX+LEADER-MONTREUIL+MONTREUIL%2C+France HTTP/1.1\" 200 9676\n",
      "DEBUG 2019-03-06 14:11:09,442 Starting new HTTPS connection (1): atlas.microsoft.com:443\n"
     ]
    },
    {
     "name": "stdout",
     "output_type": "stream",
     "text": [
      "Web scrapping at : 36.965% which took 131 seconds to run.\n",
      "Web scrapping at : 37.058% which took 131 seconds to run.\n"
     ]
    },
    {
     "name": "stderr",
     "output_type": "stream",
     "text": [
      "DEBUG 2019-03-06 14:11:09,835 https://atlas.microsoft.com:443 \"GET /search/fuzzy/json?Content-Type=application%2Fjson&subscription-key=6j_USCas00Jqmpj2EFtKe18nLWPylj0gPTOLeBypt9U&api-version=1.0&query=FRANPRIX+FPX+FRESNES+DISTRIBUTION%2C+France HTTP/1.1\" 200 7614\n",
      "DEBUG 2019-03-06 14:11:09,843 Starting new HTTPS connection (1): atlas.microsoft.com:443\n"
     ]
    },
    {
     "name": "stdout",
     "output_type": "stream",
     "text": [
      "Web scrapping at : 37.151% which took 131 seconds to run.\n"
     ]
    },
    {
     "name": "stderr",
     "output_type": "stream",
     "text": [
      "DEBUG 2019-03-06 14:11:10,240 https://atlas.microsoft.com:443 \"GET /search/fuzzy/json?Content-Type=application%2Fjson&subscription-key=6j_USCas00Jqmpj2EFtKe18nLWPylj0gPTOLeBypt9U&api-version=1.0&query=FRANPRIX+MID+MONTREUIL%2C+France HTTP/1.1\" 200 9662\n",
      "DEBUG 2019-03-06 14:11:10,248 Starting new HTTPS connection (1): atlas.microsoft.com:443\n"
     ]
    },
    {
     "name": "stdout",
     "output_type": "stream",
     "text": [
      "Web scrapping at : 37.244% which took 132 seconds to run.\n"
     ]
    },
    {
     "name": "stderr",
     "output_type": "stream",
     "text": [
      "DEBUG 2019-03-06 14:11:10,878 https://atlas.microsoft.com:443 \"GET /search/fuzzy/json?Content-Type=application%2Fjson&subscription-key=6j_USCas00Jqmpj2EFtKe18nLWPylj0gPTOLeBypt9U&api-version=1.0&query=FRANPRIX+A.F.L.+EP%C3%83%C2%83%C3%82%C2%8FNAY+SUR+SEINE%2C+France HTTP/1.1\" 200 9921\n",
      "DEBUG 2019-03-06 14:11:10,887 Starting new HTTPS connection (1): atlas.microsoft.com:443\n"
     ]
    },
    {
     "name": "stdout",
     "output_type": "stream",
     "text": [
      "Web scrapping at : 37.337% which took 132 seconds to run.\n"
     ]
    },
    {
     "name": "stderr",
     "output_type": "stream",
     "text": [
      "DEBUG 2019-03-06 14:11:11,272 https://atlas.microsoft.com:443 \"GET /search/fuzzy/json?Content-Type=application%2Fjson&subscription-key=6j_USCas00Jqmpj2EFtKe18nLWPylj0gPTOLeBypt9U&api-version=1.0&query=FRANPRIX+MEUNIER+DISTR+MONTREUIL%2C+France HTTP/1.1\" 200 9670\n",
      "DEBUG 2019-03-06 14:11:11,280 Starting new HTTPS connection (1): atlas.microsoft.com:443\n"
     ]
    },
    {
     "name": "stdout",
     "output_type": "stream",
     "text": [
      "Web scrapping at : 37.43% which took 133 seconds to run.\n"
     ]
    },
    {
     "name": "stderr",
     "output_type": "stream",
     "text": [
      "DEBUG 2019-03-06 14:11:12,458 https://atlas.microsoft.com:443 \"GET /search/fuzzy/json?Content-Type=application%2Fjson&subscription-key=6j_USCas00Jqmpj2EFtKe18nLWPylj0gPTOLeBypt9U&api-version=1.0&query=FRANPRIX+DISTRI+SAINT+OUEN+ST%2C+France HTTP/1.1\" 200 8589\n",
      "DEBUG 2019-03-06 14:11:12,466 Starting new HTTPS connection (1): atlas.microsoft.com:443\n"
     ]
    },
    {
     "name": "stdout",
     "output_type": "stream",
     "text": [
      "Web scrapping at : 37.523% which took 134 seconds to run.\n"
     ]
    },
    {
     "name": "stderr",
     "output_type": "stream",
     "text": [
      "DEBUG 2019-03-06 14:11:12,932 https://atlas.microsoft.com:443 \"GET /search/fuzzy/json?Content-Type=application%2Fjson&subscription-key=6j_USCas00Jqmpj2EFtKe18nLWPylj0gPTOLeBypt9U&api-version=1.0&query=FRANPRIX+SODILAC+ENGHIEN+SUR+BAINS%2C+France HTTP/1.1\" 200 6858\n",
      "DEBUG 2019-03-06 14:11:12,940 Starting new HTTPS connection (1): atlas.microsoft.com:443\n"
     ]
    },
    {
     "name": "stdout",
     "output_type": "stream",
     "text": [
      "Web scrapping at : 37.616% which took 134 seconds to run.\n"
     ]
    },
    {
     "name": "stderr",
     "output_type": "stream",
     "text": [
      "DEBUG 2019-03-06 14:11:13,420 https://atlas.microsoft.com:443 \"GET /search/fuzzy/json?Content-Type=application%2Fjson&subscription-key=6j_USCas00Jqmpj2EFtKe18nLWPylj0gPTOLeBypt9U&api-version=1.0&query=FRANPRIX+FP+NIDIS+NISSAN+LEZ+ENSURINE%2C+France HTTP/1.1\" 200 2884\n",
      "DEBUG 2019-03-06 14:11:13,429 Starting new HTTPS connection (1): atlas.microsoft.com:443\n"
     ]
    },
    {
     "name": "stdout",
     "output_type": "stream",
     "text": [
      "Web scrapping at : 37.709% which took 135 seconds to run.\n"
     ]
    },
    {
     "name": "stderr",
     "output_type": "stream",
     "text": [
      "DEBUG 2019-03-06 14:11:13,798 https://atlas.microsoft.com:443 \"GET /search/fuzzy/json?Content-Type=application%2Fjson&subscription-key=6j_USCas00Jqmpj2EFtKe18nLWPylj0gPTOLeBypt9U&api-version=1.0&query=FRANPRIX+FPX+SAC+CHATILLON%2C+France HTTP/1.1\" 200 5897\n",
      "DEBUG 2019-03-06 14:11:13,806 Starting new HTTPS connection (1): atlas.microsoft.com:443\n",
      "DEBUG 2019-03-06 14:11:13,923 https://atlas.microsoft.com:443 \"GET /search/fuzzy/json?Content-Type=application%2Fjson&subscription-key=6j_USCas00Jqmpj2EFtKe18nLWPylj0gPTOLeBypt9U&api-version=1.0&query=FRANPRIX+J+S+ALFORVILLE%2C+France HTTP/1.1\" 200 8378\n",
      "DEBUG 2019-03-06 14:11:13,932 Starting new HTTPS connection (1): atlas.microsoft.com:443\n"
     ]
    },
    {
     "name": "stdout",
     "output_type": "stream",
     "text": [
      "Web scrapping at : 37.803% which took 135 seconds to run.\n",
      "Web scrapping at : 37.896% which took 135 seconds to run.\n"
     ]
    },
    {
     "name": "stderr",
     "output_type": "stream",
     "text": [
      "DEBUG 2019-03-06 14:11:14,490 https://atlas.microsoft.com:443 \"GET /search/fuzzy/json?Content-Type=application%2Fjson&subscription-key=6j_USCas00Jqmpj2EFtKe18nLWPylj0gPTOLeBypt9U&api-version=1.0&query=FRANPRIX+DISTRICAP+BOURG+SUR+REINE%2C+France HTTP/1.1\" 200 5735\n",
      "DEBUG 2019-03-06 14:11:14,500 Starting new HTTPS connection (1): atlas.microsoft.com:443\n"
     ]
    },
    {
     "name": "stdout",
     "output_type": "stream",
     "text": [
      "Web scrapping at : 37.989% which took 136 seconds to run.\n"
     ]
    },
    {
     "name": "stderr",
     "output_type": "stream",
     "text": [
      "DEBUG 2019-03-06 14:11:14,851 https://atlas.microsoft.com:443 \"GET /search/fuzzy/json?Content-Type=application%2Fjson&subscription-key=6j_USCas00Jqmpj2EFtKe18nLWPylj0gPTOLeBypt9U&api-version=1.0&query=FRANPRIX+C.V.C.L.+SUPERETTE+FRANCONVILLE%2C+France HTTP/1.1\" 200 979\n",
      "DEBUG 2019-03-06 14:11:14,860 Starting new HTTPS connection (1): atlas.microsoft.com:443\n"
     ]
    },
    {
     "name": "stdout",
     "output_type": "stream",
     "text": [
      "Web scrapping at : 38.082% which took 136 seconds to run.\n"
     ]
    },
    {
     "name": "stderr",
     "output_type": "stream",
     "text": [
      "DEBUG 2019-03-06 14:11:15,376 https://atlas.microsoft.com:443 \"GET /search/fuzzy/json?Content-Type=application%2Fjson&subscription-key=6j_USCas00Jqmpj2EFtKe18nLWPylj0gPTOLeBypt9U&api-version=1.0&query=FRANPRIX+DARCY+DISTRIBUTION+BOIS+D+ARCY%2C+France HTTP/1.1\" 200 5699\n",
      "DEBUG 2019-03-06 14:11:15,385 Starting new HTTPS connection (1): atlas.microsoft.com:443\n"
     ]
    },
    {
     "name": "stdout",
     "output_type": "stream",
     "text": [
      "Web scrapping at : 38.175% which took 137 seconds to run.\n"
     ]
    },
    {
     "name": "stderr",
     "output_type": "stream",
     "text": [
      "DEBUG 2019-03-06 14:11:15,668 https://atlas.microsoft.com:443 \"GET /search/fuzzy/json?Content-Type=application%2Fjson&subscription-key=6j_USCas00Jqmpj2EFtKe18nLWPylj0gPTOLeBypt9U&api-version=1.0&query=FRANPRIX+BLT+FRANCHEVILLE%2C+France HTTP/1.1\" 200 6437\n",
      "DEBUG 2019-03-06 14:11:15,677 Starting new HTTPS connection (1): atlas.microsoft.com:443\n"
     ]
    },
    {
     "name": "stdout",
     "output_type": "stream",
     "text": [
      "Web scrapping at : 38.268% which took 137 seconds to run.\n"
     ]
    },
    {
     "name": "stderr",
     "output_type": "stream",
     "text": [
      "DEBUG 2019-03-06 14:11:15,988 https://atlas.microsoft.com:443 \"GET /search/fuzzy/json?Content-Type=application%2Fjson&subscription-key=6j_USCas00Jqmpj2EFtKe18nLWPylj0gPTOLeBypt9U&api-version=1.0&query=FRANPRIX+ACHERES%2C+France HTTP/1.1\" 200 4715\n",
      "DEBUG 2019-03-06 14:11:15,998 Starting new HTTPS connection (1): atlas.microsoft.com:443\n"
     ]
    },
    {
     "name": "stdout",
     "output_type": "stream",
     "text": [
      "Web scrapping at : 38.361% which took 137 seconds to run.\n"
     ]
    },
    {
     "name": "stderr",
     "output_type": "stream",
     "text": [
      "DEBUG 2019-03-06 14:11:16,369 https://atlas.microsoft.com:443 \"GET /search/fuzzy/json?Content-Type=application%2Fjson&subscription-key=6j_USCas00Jqmpj2EFtKe18nLWPylj0gPTOLeBypt9U&api-version=1.0&query=FRANPRIX+CHAMPIDIS+CHAMPIGNY%2C+France HTTP/1.1\" 200 8199\n",
      "DEBUG 2019-03-06 14:11:16,377 Starting new HTTPS connection (1): atlas.microsoft.com:443\n"
     ]
    },
    {
     "name": "stdout",
     "output_type": "stream",
     "text": [
      "Web scrapping at : 38.454% which took 138 seconds to run.\n"
     ]
    },
    {
     "name": "stderr",
     "output_type": "stream",
     "text": [
      "DEBUG 2019-03-06 14:11:16,786 https://atlas.microsoft.com:443 \"GET /search/fuzzy/json?Content-Type=application%2Fjson&subscription-key=6j_USCas00Jqmpj2EFtKe18nLWPylj0gPTOLeBypt9U&api-version=1.0&query=FRANPRIX+ARTEL+ALFORVILLE%2C+France HTTP/1.1\" 200 9157\n",
      "DEBUG 2019-03-06 14:11:16,794 Starting new HTTPS connection (1): atlas.microsoft.com:443\n"
     ]
    },
    {
     "name": "stdout",
     "output_type": "stream",
     "text": [
      "Web scrapping at : 38.547% which took 138 seconds to run.\n"
     ]
    },
    {
     "name": "stderr",
     "output_type": "stream",
     "text": [
      "DEBUG 2019-03-06 14:11:17,072 https://atlas.microsoft.com:443 \"GET /search/fuzzy/json?Content-Type=application%2Fjson&subscription-key=6j_USCas00Jqmpj2EFtKe18nLWPylj0gPTOLeBypt9U&api-version=1.0&query=FRANPRIX+EMRIDIS+BUC%2C+France HTTP/1.1\" 200 5337\n",
      "DEBUG 2019-03-06 14:11:17,080 Starting new HTTPS connection (1): atlas.microsoft.com:443\n"
     ]
    },
    {
     "name": "stdout",
     "output_type": "stream",
     "text": [
      "Web scrapping at : 38.641% which took 139 seconds to run.\n"
     ]
    },
    {
     "name": "stderr",
     "output_type": "stream",
     "text": [
      "DEBUG 2019-03-06 14:11:17,601 https://atlas.microsoft.com:443 \"GET /search/fuzzy/json?Content-Type=application%2Fjson&subscription-key=6j_USCas00Jqmpj2EFtKe18nLWPylj0gPTOLeBypt9U&api-version=1.0&query=FRANPRIX+DISTRIALESIA+ST+MAUR%2C+France HTTP/1.1\" 200 7785\n",
      "DEBUG 2019-03-06 14:11:17,610 Starting new HTTPS connection (1): atlas.microsoft.com:443\n"
     ]
    },
    {
     "name": "stdout",
     "output_type": "stream",
     "text": [
      "Web scrapping at : 38.734% which took 139 seconds to run.\n"
     ]
    },
    {
     "name": "stderr",
     "output_type": "stream",
     "text": [
      "DEBUG 2019-03-06 14:11:18,020 https://atlas.microsoft.com:443 \"GET /search/fuzzy/json?Content-Type=application%2Fjson&subscription-key=6j_USCas00Jqmpj2EFtKe18nLWPylj0gPTOLeBypt9U&api-version=1.0&query=FRANPRIX+MS+DISTRIBUTION+BLANCMESNIL%2C+France HTTP/1.1\" 200 9125\n",
      "DEBUG 2019-03-06 14:11:18,029 Starting new HTTPS connection (1): atlas.microsoft.com:443\n"
     ]
    },
    {
     "name": "stdout",
     "output_type": "stream",
     "text": [
      "Web scrapping at : 38.827% which took 140 seconds to run.\n"
     ]
    },
    {
     "name": "stderr",
     "output_type": "stream",
     "text": [
      "DEBUG 2019-03-06 14:11:18,405 https://atlas.microsoft.com:443 \"GET /search/fuzzy/json?Content-Type=application%2Fjson&subscription-key=6j_USCas00Jqmpj2EFtKe18nLWPylj0gPTOLeBypt9U&api-version=1.0&query=FRANPRIX+RENELY+CHARENTON%2C+France HTTP/1.1\" 200 7301\n",
      "DEBUG 2019-03-06 14:11:18,413 Starting new HTTPS connection (1): atlas.microsoft.com:443\n"
     ]
    },
    {
     "name": "stdout",
     "output_type": "stream",
     "text": [
      "Web scrapping at : 38.92% which took 140 seconds to run.\n"
     ]
    },
    {
     "name": "stderr",
     "output_type": "stream",
     "text": [
      "DEBUG 2019-03-06 14:11:18,824 https://atlas.microsoft.com:443 \"GET /search/fuzzy/json?Content-Type=application%2Fjson&subscription-key=6j_USCas00Jqmpj2EFtKe18nLWPylj0gPTOLeBypt9U&api-version=1.0&query=FRANPRIX+FREDIS+FRESNES%2C+France HTTP/1.1\" 200 7970\n",
      "DEBUG 2019-03-06 14:11:18,832 Starting new HTTPS connection (1): atlas.microsoft.com:443\n"
     ]
    },
    {
     "name": "stdout",
     "output_type": "stream",
     "text": [
      "Web scrapping at : 39.013% which took 140 seconds to run.\n"
     ]
    },
    {
     "name": "stderr",
     "output_type": "stream",
     "text": [
      "DEBUG 2019-03-06 14:11:19,197 https://atlas.microsoft.com:443 \"GET /search/fuzzy/json?Content-Type=application%2Fjson&subscription-key=6j_USCas00Jqmpj2EFtKe18nLWPylj0gPTOLeBypt9U&api-version=1.0&query=FRANPRIX+DISTRICHATILLON+CHATILLON%2C+France HTTP/1.1\" 200 7803\n",
      "DEBUG 2019-03-06 14:11:19,205 Starting new HTTPS connection (1): atlas.microsoft.com:443\n"
     ]
    },
    {
     "name": "stdout",
     "output_type": "stream",
     "text": [
      "Web scrapping at : 39.106% which took 141 seconds to run.\n"
     ]
    },
    {
     "name": "stderr",
     "output_type": "stream",
     "text": [
      "DEBUG 2019-03-06 14:11:19,533 https://atlas.microsoft.com:443 \"GET /search/fuzzy/json?Content-Type=application%2Fjson&subscription-key=6j_USCas00Jqmpj2EFtKe18nLWPylj0gPTOLeBypt9U&api-version=1.0&query=FRANPRIX+Fx+DISTRIVAL+%2F+VALENCE%2C+France HTTP/1.1\" 200 1113\n",
      "DEBUG 2019-03-06 14:11:19,541 Starting new HTTPS connection (1): atlas.microsoft.com:443\n"
     ]
    },
    {
     "name": "stdout",
     "output_type": "stream",
     "text": [
      "Web scrapping at : 39.199% which took 141 seconds to run.\n"
     ]
    },
    {
     "name": "stderr",
     "output_type": "stream",
     "text": [
      "DEBUG 2019-03-06 14:11:19,884 https://atlas.microsoft.com:443 \"GET /search/fuzzy/json?Content-Type=application%2Fjson&subscription-key=6j_USCas00Jqmpj2EFtKe18nLWPylj0gPTOLeBypt9U&api-version=1.0&query=FRANPRIX+FPX+SODIBAG+BAGNEUX%2C+France HTTP/1.1\" 200 1994\n",
      "DEBUG 2019-03-06 14:11:19,892 Starting new HTTPS connection (1): atlas.microsoft.com:443\n"
     ]
    },
    {
     "name": "stdout",
     "output_type": "stream",
     "text": [
      "Web scrapping at : 39.292% which took 141 seconds to run.\n"
     ]
    },
    {
     "name": "stderr",
     "output_type": "stream",
     "text": [
      "DEBUG 2019-03-06 14:11:20,199 https://atlas.microsoft.com:443 \"GET /search/fuzzy/json?Content-Type=application%2Fjson&subscription-key=6j_USCas00Jqmpj2EFtKe18nLWPylj0gPTOLeBypt9U&api-version=1.0&query=FRANPRIX+PARAMOT+LIEUST%2C+France HTTP/1.1\" 200 5379\n",
      "DEBUG 2019-03-06 14:11:20,208 Starting new HTTPS connection (1): atlas.microsoft.com:443\n"
     ]
    },
    {
     "name": "stdout",
     "output_type": "stream",
     "text": [
      "Web scrapping at : 39.385% which took 142 seconds to run.\n"
     ]
    },
    {
     "name": "stderr",
     "output_type": "stream",
     "text": [
      "DEBUG 2019-03-06 14:11:20,599 https://atlas.microsoft.com:443 \"GET /search/fuzzy/json?Content-Type=application%2Fjson&subscription-key=6j_USCas00Jqmpj2EFtKe18nLWPylj0gPTOLeBypt9U&api-version=1.0&query=FRANPRIX+PYRAMIDE+DISTRIBUTION+EVRY%2C+France HTTP/1.1\" 200 9245\n",
      "DEBUG 2019-03-06 14:11:20,607 Starting new HTTPS connection (1): atlas.microsoft.com:443\n"
     ]
    },
    {
     "name": "stdout",
     "output_type": "stream",
     "text": [
      "Web scrapping at : 39.479% which took 142 seconds to run.\n"
     ]
    },
    {
     "name": "stderr",
     "output_type": "stream",
     "text": [
      "DEBUG 2019-03-06 14:11:21,728 https://atlas.microsoft.com:443 \"GET /search/fuzzy/json?Content-Type=application%2Fjson&subscription-key=6j_USCas00Jqmpj2EFtKe18nLWPylj0gPTOLeBypt9U&api-version=1.0&query=FRANPRIX+NEWDNERA+9+-+SAINT+OUEN+ST%2C+France HTTP/1.1\" 200 6640\n",
      "DEBUG 2019-03-06 14:11:21,736 Starting new HTTPS connection (1): atlas.microsoft.com:443\n"
     ]
    },
    {
     "name": "stdout",
     "output_type": "stream",
     "text": [
      "Web scrapping at : 39.572% which took 143 seconds to run.\n"
     ]
    },
    {
     "name": "stderr",
     "output_type": "stream",
     "text": [
      "DEBUG 2019-03-06 14:11:22,319 https://atlas.microsoft.com:443 \"GET /search/fuzzy/json?Content-Type=application%2Fjson&subscription-key=6j_USCas00Jqmpj2EFtKe18nLWPylj0gPTOLeBypt9U&api-version=1.0&query=FRANPRIX+DISTRIMAHON+-+ST+DENIS%2C+France HTTP/1.1\" 200 8864\n",
      "DEBUG 2019-03-06 14:11:22,327 Starting new HTTPS connection (1): atlas.microsoft.com:443\n"
     ]
    },
    {
     "name": "stdout",
     "output_type": "stream",
     "text": [
      "Web scrapping at : 39.665% which took 144 seconds to run.\n"
     ]
    },
    {
     "name": "stderr",
     "output_type": "stream",
     "text": [
      "DEBUG 2019-03-06 14:11:22,844 https://atlas.microsoft.com:443 \"GET /search/fuzzy/json?Content-Type=application%2Fjson&subscription-key=6j_USCas00Jqmpj2EFtKe18nLWPylj0gPTOLeBypt9U&api-version=1.0&query=FRANPRIX+AULDIS+AULNAY+SUR+BOIS%2C+France HTTP/1.1\" 200 7161\n",
      "DEBUG 2019-03-06 14:11:22,852 Starting new HTTPS connection (1): atlas.microsoft.com:443\n"
     ]
    },
    {
     "name": "stdout",
     "output_type": "stream",
     "text": [
      "Web scrapping at : 39.758% which took 144 seconds to run.\n"
     ]
    },
    {
     "name": "stderr",
     "output_type": "stream",
     "text": [
      "DEBUG 2019-03-06 14:11:23,341 https://atlas.microsoft.com:443 \"GET /search/fuzzy/json?Content-Type=application%2Fjson&subscription-key=6j_USCas00Jqmpj2EFtKe18nLWPylj0gPTOLeBypt9U&api-version=1.0&query=FRANPRIX+BRADIS+CONFLANS+SUR+H%2C+France HTTP/1.1\" 200 6141\n",
      "DEBUG 2019-03-06 14:11:23,349 Starting new HTTPS connection (1): atlas.microsoft.com:443\n"
     ]
    },
    {
     "name": "stdout",
     "output_type": "stream",
     "text": [
      "Web scrapping at : 39.851% which took 145 seconds to run.\n"
     ]
    },
    {
     "name": "stderr",
     "output_type": "stream",
     "text": [
      "DEBUG 2019-03-06 14:11:23,804 https://atlas.microsoft.com:443 \"GET /search/fuzzy/json?Content-Type=application%2Fjson&subscription-key=6j_USCas00Jqmpj2EFtKe18nLWPylj0gPTOLeBypt9U&api-version=1.0&query=FRANPRIX+SDA+LA+BARRE+DEUIL+SUR%2C+France HTTP/1.1\" 200 4913\n",
      "DEBUG 2019-03-06 14:11:23,813 Starting new HTTPS connection (1): atlas.microsoft.com:443\n"
     ]
    },
    {
     "name": "stdout",
     "output_type": "stream",
     "text": [
      "Web scrapping at : 39.944% which took 145 seconds to run.\n"
     ]
    },
    {
     "name": "stderr",
     "output_type": "stream",
     "text": [
      "DEBUG 2019-03-06 14:11:24,262 https://atlas.microsoft.com:443 \"GET /search/fuzzy/json?Content-Type=application%2Fjson&subscription-key=6j_USCas00Jqmpj2EFtKe18nLWPylj0gPTOLeBypt9U&api-version=1.0&query=FRANPRIX+EMDIS+VILLENEUVE+SUR+ROI%2C+France HTTP/1.1\" 200 6224\n",
      "DEBUG 2019-03-06 14:11:24,271 Starting new HTTPS connection (1): atlas.microsoft.com:443\n"
     ]
    },
    {
     "name": "stdout",
     "output_type": "stream",
     "text": [
      "Web scrapping at : 40.037% which took 146 seconds to run.\n"
     ]
    },
    {
     "name": "stderr",
     "output_type": "stream",
     "text": [
      "DEBUG 2019-03-06 14:11:24,855 https://atlas.microsoft.com:443 \"GET /search/fuzzy/json?Content-Type=application%2Fjson&subscription-key=6j_USCas00Jqmpj2EFtKe18nLWPylj0gPTOLeBypt9U&api-version=1.0&query=FRANPRIX+DISTRILAIN+ST+DENIS%2C+France HTTP/1.1\" 200 8822\n",
      "DEBUG 2019-03-06 14:11:24,863 Starting new HTTPS connection (1): atlas.microsoft.com:443\n"
     ]
    },
    {
     "name": "stdout",
     "output_type": "stream",
     "text": [
      "Web scrapping at : 40.13% which took 146 seconds to run.\n"
     ]
    },
    {
     "name": "stderr",
     "output_type": "stream",
     "text": [
      "DEBUG 2019-03-06 14:11:25,316 https://atlas.microsoft.com:443 \"GET /search/fuzzy/json?Content-Type=application%2Fjson&subscription-key=6j_USCas00Jqmpj2EFtKe18nLWPylj0gPTOLeBypt9U&api-version=1.0&query=FRANPRIX+PERI+DISTRIB+MONTREUIL%2C+France HTTP/1.1\" 200 9279\n",
      "DEBUG 2019-03-06 14:11:25,325 Starting new HTTPS connection (1): atlas.microsoft.com:443\n"
     ]
    },
    {
     "name": "stdout",
     "output_type": "stream",
     "text": [
      "Web scrapping at : 40.223% which took 147 seconds to run.\n"
     ]
    },
    {
     "name": "stderr",
     "output_type": "stream",
     "text": [
      "DEBUG 2019-03-06 14:11:25,679 https://atlas.microsoft.com:443 \"GET /search/fuzzy/json?Content-Type=application%2Fjson&subscription-key=6j_USCas00Jqmpj2EFtKe18nLWPylj0gPTOLeBypt9U&api-version=1.0&query=FRANPRIX+DISTRIJOLIE+MANTESUR+JOLIE%2C+France HTTP/1.1\" 200 2099\n",
      "DEBUG 2019-03-06 14:11:25,687 Starting new HTTPS connection (1): atlas.microsoft.com:443\n",
      "DEBUG 2019-03-06 14:11:25,803 https://atlas.microsoft.com:443 \"GET /search/fuzzy/json?Content-Type=application%2Fjson&subscription-key=6j_USCas00Jqmpj2EFtKe18nLWPylj0gPTOLeBypt9U&api-version=1.0&query=FRANPRIX+JUSSY%2C+France HTTP/1.1\" 200 1085\n",
      "DEBUG 2019-03-06 14:11:25,811 Starting new HTTPS connection (1): atlas.microsoft.com:443\n"
     ]
    },
    {
     "name": "stdout",
     "output_type": "stream",
     "text": [
      "Web scrapping at : 40.317% which took 147 seconds to run.\n",
      "Web scrapping at : 40.41% which took 147 seconds to run.\n"
     ]
    },
    {
     "name": "stderr",
     "output_type": "stream",
     "text": [
      "DEBUG 2019-03-06 14:11:26,267 https://atlas.microsoft.com:443 \"GET /search/fuzzy/json?Content-Type=application%2Fjson&subscription-key=6j_USCas00Jqmpj2EFtKe18nLWPylj0gPTOLeBypt9U&api-version=1.0&query=FRANPRIX+NOUVELLE+DORAN+MONSOULT%2C+France HTTP/1.1\" 200 6692\n",
      "DEBUG 2019-03-06 14:11:26,275 Starting new HTTPS connection (1): atlas.microsoft.com:443\n"
     ]
    },
    {
     "name": "stdout",
     "output_type": "stream",
     "text": [
      "Web scrapping at : 40.503% which took 148 seconds to run.\n"
     ]
    },
    {
     "name": "stderr",
     "output_type": "stream",
     "text": [
      "DEBUG 2019-03-06 14:11:26,677 https://atlas.microsoft.com:443 \"GET /search/fuzzy/json?Content-Type=application%2Fjson&subscription-key=6j_USCas00Jqmpj2EFtKe18nLWPylj0gPTOLeBypt9U&api-version=1.0&query=FRANPRIX+DISTRICACH+MONTREUIL%2C+France HTTP/1.1\" 200 9669\n",
      "DEBUG 2019-03-06 14:11:26,685 Starting new HTTPS connection (1): atlas.microsoft.com:443\n"
     ]
    },
    {
     "name": "stdout",
     "output_type": "stream",
     "text": [
      "Web scrapping at : 40.596% which took 148 seconds to run.\n"
     ]
    },
    {
     "name": "stderr",
     "output_type": "stream",
     "text": [
      "DEBUG 2019-03-06 14:11:27,827 https://atlas.microsoft.com:443 \"GET /search/fuzzy/json?Content-Type=application%2Fjson&subscription-key=6j_USCas00Jqmpj2EFtKe18nLWPylj0gPTOLeBypt9U&api-version=1.0&query=FRANPRIX+LP+MONTROND+LES+BAINS+MONTRONOTRE+DAME%2C+France HTTP/1.1\" 200 6313\n",
      "DEBUG 2019-03-06 14:11:27,836 Starting new HTTPS connection (1): atlas.microsoft.com:443\n"
     ]
    },
    {
     "name": "stdout",
     "output_type": "stream",
     "text": [
      "Web scrapping at : 40.689% which took 149 seconds to run.\n"
     ]
    },
    {
     "name": "stderr",
     "output_type": "stream",
     "text": [
      "DEBUG 2019-03-06 14:11:28,172 https://atlas.microsoft.com:443 \"GET /search/fuzzy/json?Content-Type=application%2Fjson&subscription-key=6j_USCas00Jqmpj2EFtKe18nLWPylj0gPTOLeBypt9U&api-version=1.0&query=FRANPRIX+DISPANORD%2C+France HTTP/1.1\" 200 9772\n",
      "DEBUG 2019-03-06 14:11:28,180 Starting new HTTPS connection (1): atlas.microsoft.com:443\n"
     ]
    },
    {
     "name": "stdout",
     "output_type": "stream",
     "text": [
      "Web scrapping at : 40.782% which took 150 seconds to run.\n"
     ]
    },
    {
     "name": "stderr",
     "output_type": "stream",
     "text": [
      "DEBUG 2019-03-06 14:11:28,535 https://atlas.microsoft.com:443 \"GET /search/fuzzy/json?Content-Type=application%2Fjson&subscription-key=6j_USCas00Jqmpj2EFtKe18nLWPylj0gPTOLeBypt9U&api-version=1.0&query=FRANPRIX+ELIAVA+DISTRIBUTION+MORANGIS%2C+France HTTP/1.1\" 200 5679\n",
      "DEBUG 2019-03-06 14:11:28,544 Starting new HTTPS connection (1): atlas.microsoft.com:443\n",
      "DEBUG 2019-03-06 14:11:28,631 https://atlas.microsoft.com:443 \"GET /search/fuzzy/json?Content-Type=application%2Fjson&subscription-key=6j_USCas00Jqmpj2EFtKe18nLWPylj0gPTOLeBypt9U&api-version=1.0&query=FRANPRIX+DAF+GARGES+SUR+GONESSES%2C+France HTTP/1.1\" 200 7332\n",
      "DEBUG 2019-03-06 14:11:28,639 Starting new HTTPS connection (1): atlas.microsoft.com:443\n"
     ]
    },
    {
     "name": "stdout",
     "output_type": "stream",
     "text": [
      "Web scrapping at : 40.875% which took 150 seconds to run.\n",
      "Web scrapping at : 40.968% which took 150 seconds to run.\n"
     ]
    },
    {
     "name": "stderr",
     "output_type": "stream",
     "text": [
      "DEBUG 2019-03-06 14:11:29,145 https://atlas.microsoft.com:443 \"GET /search/fuzzy/json?Content-Type=application%2Fjson&subscription-key=6j_USCas00Jqmpj2EFtKe18nLWPylj0gPTOLeBypt9U&api-version=1.0&query=FRANPRIX+SOGESAR+SUCY+SUR+BRIE%2C+France HTTP/1.1\" 200 6783\n",
      "DEBUG 2019-03-06 14:11:29,154 Starting new HTTPS connection (1): atlas.microsoft.com:443\n"
     ]
    },
    {
     "name": "stdout",
     "output_type": "stream",
     "text": [
      "Web scrapping at : 41.061% which took 151 seconds to run.\n"
     ]
    },
    {
     "name": "stderr",
     "output_type": "stream",
     "text": [
      "DEBUG 2019-03-06 14:11:29,644 https://atlas.microsoft.com:443 \"GET /search/fuzzy/json?Content-Type=application%2Fjson&subscription-key=6j_USCas00Jqmpj2EFtKe18nLWPylj0gPTOLeBypt9U&api-version=1.0&query=FRANPRIX+EIFFELDIS+ISSY+SUR+MOULINEAU%2C+France HTTP/1.1\" 200 8866\n",
      "DEBUG 2019-03-06 14:11:29,653 Starting new HTTPS connection (1): atlas.microsoft.com:443\n"
     ]
    },
    {
     "name": "stdout",
     "output_type": "stream",
     "text": [
      "Web scrapping at : 41.155% which took 151 seconds to run.\n"
     ]
    },
    {
     "name": "stderr",
     "output_type": "stream",
     "text": [
      "DEBUG 2019-03-06 14:11:29,979 https://atlas.microsoft.com:443 \"GET /search/fuzzy/json?Content-Type=application%2Fjson&subscription-key=6j_USCas00Jqmpj2EFtKe18nLWPylj0gPTOLeBypt9U&api-version=1.0&query=FRANPRIX+LP+SOLESMES%2C+France HTTP/1.1\" 200 5178\n",
      "DEBUG 2019-03-06 14:11:29,988 Starting new HTTPS connection (1): atlas.microsoft.com:443\n"
     ]
    },
    {
     "name": "stdout",
     "output_type": "stream",
     "text": [
      "Web scrapping at : 41.248% which took 151 seconds to run.\n"
     ]
    },
    {
     "name": "stderr",
     "output_type": "stream",
     "text": [
      "DEBUG 2019-03-06 14:11:30,360 https://atlas.microsoft.com:443 \"GET /search/fuzzy/json?Content-Type=application%2Fjson&subscription-key=6j_USCas00Jqmpj2EFtKe18nLWPylj0gPTOLeBypt9U&api-version=1.0&query=FRANPRIX+ELIAS+DISTRIBUTION+MONTREUIL%2C+France HTTP/1.1\" 200 9608\n",
      "DEBUG 2019-03-06 14:11:30,369 Starting new HTTPS connection (1): atlas.microsoft.com:443\n"
     ]
    },
    {
     "name": "stdout",
     "output_type": "stream",
     "text": [
      "Web scrapping at : 41.341% which took 152 seconds to run.\n"
     ]
    },
    {
     "name": "stderr",
     "output_type": "stream",
     "text": [
      "DEBUG 2019-03-06 14:11:30,918 https://atlas.microsoft.com:443 \"GET /search/fuzzy/json?Content-Type=application%2Fjson&subscription-key=6j_USCas00Jqmpj2EFtKe18nLWPylj0gPTOLeBypt9U&api-version=1.0&query=FRANPRIX+SENTHURAN+VILLEN+SUR+GEORGES%2C+France HTTP/1.1\" 200 8709\n",
      "DEBUG 2019-03-06 14:11:30,928 Starting new HTTPS connection (1): atlas.microsoft.com:443\n"
     ]
    },
    {
     "name": "stdout",
     "output_type": "stream",
     "text": [
      "Web scrapping at : 41.434% which took 152 seconds to run.\n"
     ]
    },
    {
     "name": "stderr",
     "output_type": "stream",
     "text": [
      "DEBUG 2019-03-06 14:11:31,244 https://atlas.microsoft.com:443 \"GET /search/fuzzy/json?Content-Type=application%2Fjson&subscription-key=6j_USCas00Jqmpj2EFtKe18nLWPylj0gPTOLeBypt9U&api-version=1.0&query=FRANPRIX+GUTAL+LIEUST%2C+France HTTP/1.1\" 200 5807\n",
      "DEBUG 2019-03-06 14:11:31,252 Starting new HTTPS connection (1): atlas.microsoft.com:443\n"
     ]
    },
    {
     "name": "stdout",
     "output_type": "stream",
     "text": [
      "Web scrapping at : 41.527% which took 153 seconds to run.\n"
     ]
    },
    {
     "name": "stderr",
     "output_type": "stream",
     "text": [
      "DEBUG 2019-03-06 14:11:31,821 https://atlas.microsoft.com:443 \"GET /search/fuzzy/json?Content-Type=application%2Fjson&subscription-key=6j_USCas00Jqmpj2EFtKe18nLWPylj0gPTOLeBypt9U&api-version=1.0&query=FRANPRIX+LES+GOUJONS+ALFORVILLE%2C+France HTTP/1.1\" 200 5577\n",
      "DEBUG 2019-03-06 14:11:31,830 Starting new HTTPS connection (1): atlas.microsoft.com:443\n"
     ]
    },
    {
     "name": "stdout",
     "output_type": "stream",
     "text": [
      "Web scrapping at : 41.62% which took 153 seconds to run.\n"
     ]
    },
    {
     "name": "stderr",
     "output_type": "stream",
     "text": [
      "DEBUG 2019-03-06 14:11:32,369 https://atlas.microsoft.com:443 \"GET /search/fuzzy/json?Content-Type=application%2Fjson&subscription-key=6j_USCas00Jqmpj2EFtKe18nLWPylj0gPTOLeBypt9U&api-version=1.0&query=FRANPRIX+PERIDIS+ST+DENIS%2C+France HTTP/1.1\" 200 8811\n",
      "DEBUG 2019-03-06 14:11:32,378 Starting new HTTPS connection (1): atlas.microsoft.com:443\n"
     ]
    },
    {
     "name": "stdout",
     "output_type": "stream",
     "text": [
      "Web scrapping at : 41.713% which took 154 seconds to run.\n"
     ]
    },
    {
     "name": "stderr",
     "output_type": "stream",
     "text": [
      "DEBUG 2019-03-06 14:11:32,699 https://atlas.microsoft.com:443 \"GET /search/fuzzy/json?Content-Type=application%2Fjson&subscription-key=6j_USCas00Jqmpj2EFtKe18nLWPylj0gPTOLeBypt9U&api-version=1.0&query=FRANPRIX+MR+KARIMI+MONTREUIL%2C+France HTTP/1.1\" 200 9666\n",
      "DEBUG 2019-03-06 14:11:32,708 Starting new HTTPS connection (1): atlas.microsoft.com:443\n"
     ]
    },
    {
     "name": "stdout",
     "output_type": "stream",
     "text": [
      "Web scrapping at : 41.806% which took 154 seconds to run.\n"
     ]
    },
    {
     "name": "stderr",
     "output_type": "stream",
     "text": [
      "DEBUG 2019-03-06 14:11:33,031 https://atlas.microsoft.com:443 \"GET /search/fuzzy/json?Content-Type=application%2Fjson&subscription-key=6j_USCas00Jqmpj2EFtKe18nLWPylj0gPTOLeBypt9U&api-version=1.0&query=FRANPRIX+FX+SOGEROUET+VERNON%2C+France HTTP/1.1\" 200 1088\n",
      "DEBUG 2019-03-06 14:11:33,039 Starting new HTTPS connection (1): atlas.microsoft.com:443\n"
     ]
    },
    {
     "name": "stdout",
     "output_type": "stream",
     "text": [
      "Web scrapping at : 41.899% which took 155 seconds to run.\n"
     ]
    },
    {
     "name": "stderr",
     "output_type": "stream",
     "text": [
      "DEBUG 2019-03-06 14:11:33,619 https://atlas.microsoft.com:443 \"GET /search/fuzzy/json?Content-Type=application%2Fjson&subscription-key=6j_USCas00Jqmpj2EFtKe18nLWPylj0gPTOLeBypt9U&api-version=1.0&query=FRANPRIX+MORANDIS+MORANGIS%2C+France HTTP/1.1\" 200 4648\n",
      "DEBUG 2019-03-06 14:11:33,627 Starting new HTTPS connection (1): atlas.microsoft.com:443\n"
     ]
    },
    {
     "name": "stdout",
     "output_type": "stream",
     "text": [
      "Web scrapping at : 41.993% which took 155 seconds to run.\n"
     ]
    },
    {
     "name": "stderr",
     "output_type": "stream",
     "text": [
      "DEBUG 2019-03-06 14:11:33,976 https://atlas.microsoft.com:443 \"GET /search/fuzzy/json?Content-Type=application%2Fjson&subscription-key=6j_USCas00Jqmpj2EFtKe18nLWPylj0gPTOLeBypt9U&api-version=1.0&query=FRANPRIX+MASSYDIS+MASSY%2C+France HTTP/1.1\" 200 7734\n",
      "DEBUG 2019-03-06 14:11:33,984 Starting new HTTPS connection (1): atlas.microsoft.com:443\n"
     ]
    },
    {
     "name": "stdout",
     "output_type": "stream",
     "text": [
      "Web scrapping at : 42.086% which took 155 seconds to run.\n"
     ]
    },
    {
     "name": "stderr",
     "output_type": "stream",
     "text": [
      "DEBUG 2019-03-06 14:11:34,474 https://atlas.microsoft.com:443 \"GET /search/fuzzy/json?Content-Type=application%2Fjson&subscription-key=6j_USCas00Jqmpj2EFtKe18nLWPylj0gPTOLeBypt9U&api-version=1.0&query=FRANPRIX+SOGISAINT+MAUR+ST%2C+France HTTP/1.1\" 200 7781\n",
      "DEBUG 2019-03-06 14:11:34,482 Starting new HTTPS connection (1): atlas.microsoft.com:443\n"
     ]
    },
    {
     "name": "stdout",
     "output_type": "stream",
     "text": [
      "Web scrapping at : 42.179% which took 156 seconds to run.\n"
     ]
    },
    {
     "name": "stderr",
     "output_type": "stream",
     "text": [
      "DEBUG 2019-03-06 14:11:34,809 https://atlas.microsoft.com:443 \"GET /search/fuzzy/json?Content-Type=application%2Fjson&subscription-key=6j_USCas00Jqmpj2EFtKe18nLWPylj0gPTOLeBypt9U&api-version=1.0&query=FRANPRIX+FRENDIS+FRESNES%2C+France HTTP/1.1\" 200 8432\n",
      "DEBUG 2019-03-06 14:11:34,818 Starting new HTTPS connection (1): atlas.microsoft.com:443\n"
     ]
    },
    {
     "name": "stdout",
     "output_type": "stream",
     "text": [
      "Web scrapping at : 42.272% which took 156 seconds to run.\n"
     ]
    },
    {
     "name": "stderr",
     "output_type": "stream",
     "text": [
      "DEBUG 2019-03-06 14:11:35,282 https://atlas.microsoft.com:443 \"GET /search/fuzzy/json?Content-Type=application%2Fjson&subscription-key=6j_USCas00Jqmpj2EFtKe18nLWPylj0gPTOLeBypt9U&api-version=1.0&query=FRANPRIX+LP+GOURDON+DISPRICE%2C+France HTTP/1.1\" 200 5468\n",
      "DEBUG 2019-03-06 14:11:35,291 Starting new HTTPS connection (1): atlas.microsoft.com:443\n",
      "DEBUG 2019-03-06 14:11:35,380 https://atlas.microsoft.com:443 \"GET /search/fuzzy/json?Content-Type=application%2Fjson&subscription-key=6j_USCas00Jqmpj2EFtKe18nLWPylj0gPTOLeBypt9U&api-version=1.0&query=FRANPRIX+LISERAP-MONTREUIL+5P+MONTREUIL%2C+France HTTP/1.1\" 200 9640\n",
      "DEBUG 2019-03-06 14:11:35,389 Starting new HTTPS connection (1): atlas.microsoft.com:443\n"
     ]
    },
    {
     "name": "stdout",
     "output_type": "stream",
     "text": [
      "Web scrapping at : 42.365% which took 157 seconds to run.\n",
      "Web scrapping at : 42.458% which took 157 seconds to run.\n"
     ]
    },
    {
     "name": "stderr",
     "output_type": "stream",
     "text": [
      "DEBUG 2019-03-06 14:11:35,573 https://atlas.microsoft.com:443 \"GET /search/fuzzy/json?Content-Type=application%2Fjson&subscription-key=6j_USCas00Jqmpj2EFtKe18nLWPylj0gPTOLeBypt9U&api-version=1.0&query=FRANPRIX+LE+PLESSIS+MARKET+TREVISE%2C+France HTTP/1.1\" 200 1143\n",
      "DEBUG 2019-03-06 14:11:35,582 Starting new HTTPS connection (1): atlas.microsoft.com:443\n"
     ]
    },
    {
     "name": "stdout",
     "output_type": "stream",
     "text": [
      "Web scrapping at : 42.551% which took 157 seconds to run.\n"
     ]
    },
    {
     "name": "stderr",
     "output_type": "stream",
     "text": [
      "DEBUG 2019-03-06 14:11:36,260 https://atlas.microsoft.com:443 \"GET /search/fuzzy/json?Content-Type=application%2Fjson&subscription-key=6j_USCas00Jqmpj2EFtKe18nLWPylj0gPTOLeBypt9U&api-version=1.0&query=FRANPRIX+RASPAIL+DISTRIBUTION+MONTREUIL%2C+France HTTP/1.1\" 200 9230\n",
      "DEBUG 2019-03-06 14:11:36,269 Starting new HTTPS connection (1): atlas.microsoft.com:443\n"
     ]
    },
    {
     "name": "stdout",
     "output_type": "stream",
     "text": [
      "Web scrapping at : 42.644% which took 158 seconds to run.\n"
     ]
    },
    {
     "name": "stderr",
     "output_type": "stream",
     "text": [
      "DEBUG 2019-03-06 14:11:36,552 https://atlas.microsoft.com:443 \"GET /search/fuzzy/json?Content-Type=application%2Fjson&subscription-key=6j_USCas00Jqmpj2EFtKe18nLWPylj0gPTOLeBypt9U&api-version=1.0&query=FRANPRIX+SORETTI%2C+France HTTP/1.1\" 200 9771\n",
      "DEBUG 2019-03-06 14:11:36,560 Starting new HTTPS connection (1): atlas.microsoft.com:443\n"
     ]
    },
    {
     "name": "stdout",
     "output_type": "stream",
     "text": [
      "Web scrapping at : 42.737% which took 158 seconds to run.\n"
     ]
    },
    {
     "name": "stderr",
     "output_type": "stream",
     "text": [
      "DEBUG 2019-03-06 14:11:36,963 https://atlas.microsoft.com:443 \"GET /search/fuzzy/json?Content-Type=application%2Fjson&subscription-key=6j_USCas00Jqmpj2EFtKe18nLWPylj0gPTOLeBypt9U&api-version=1.0&query=FRANPRIX+FELIDIS+MONTREUIL%2C+France HTTP/1.1\" 200 9666\n",
      "DEBUG 2019-03-06 14:11:36,972 Starting new HTTPS connection (1): atlas.microsoft.com:443\n"
     ]
    },
    {
     "name": "stdout",
     "output_type": "stream",
     "text": [
      "Web scrapping at : 42.831% which took 158 seconds to run.\n"
     ]
    },
    {
     "name": "stderr",
     "output_type": "stream",
     "text": [
      "DEBUG 2019-03-06 14:11:37,406 https://atlas.microsoft.com:443 \"GET /search/fuzzy/json?Content-Type=application%2Fjson&subscription-key=6j_USCas00Jqmpj2EFtKe18nLWPylj0gPTOLeBypt9U&api-version=1.0&query=FRANPRIX+BAKDISCOUNT+ST+DENIS%2C+France HTTP/1.1\" 200 8864\n",
      "DEBUG 2019-03-06 14:11:37,415 Starting new HTTPS connection (1): atlas.microsoft.com:443\n",
      "DEBUG 2019-03-06 14:11:37,500 https://atlas.microsoft.com:443 \"GET /search/fuzzy/json?Content-Type=application%2Fjson&subscription-key=6j_USCas00Jqmpj2EFtKe18nLWPylj0gPTOLeBypt9U&api-version=1.0&query=FRANPRIX+COCCI+MARKET+BAILLY%2C+France HTTP/1.1\" 200 9153\n",
      "DEBUG 2019-03-06 14:11:37,508 Starting new HTTPS connection (1): atlas.microsoft.com:443\n"
     ]
    },
    {
     "name": "stdout",
     "output_type": "stream",
     "text": [
      "Web scrapping at : 42.924% which took 159 seconds to run.\n",
      "Web scrapping at : 43.017% which took 159 seconds to run.\n"
     ]
    },
    {
     "name": "stderr",
     "output_type": "stream",
     "text": [
      "DEBUG 2019-03-06 14:11:37,956 https://atlas.microsoft.com:443 \"GET /search/fuzzy/json?Content-Type=application%2Fjson&subscription-key=6j_USCas00Jqmpj2EFtKe18nLWPylj0gPTOLeBypt9U&api-version=1.0&query=FRANPRIX+LP+COLOMBIERS%2C+France HTTP/1.1\" 200 5276\n",
      "DEBUG 2019-03-06 14:11:37,965 Starting new HTTPS connection (1): atlas.microsoft.com:443\n",
      "DEBUG 2019-03-06 14:11:38,151 https://atlas.microsoft.com:443 \"GET /search/fuzzy/json?Content-Type=application%2Fjson&subscription-key=6j_USCas00Jqmpj2EFtKe18nLWPylj0gPTOLeBypt9U&api-version=1.0&query=FRANPRIX+RASPAIL+MONTREUIL%2C+France HTTP/1.1\" 200 1102\n",
      "DEBUG 2019-03-06 14:11:38,160 Starting new HTTPS connection (1): atlas.microsoft.com:443\n"
     ]
    },
    {
     "name": "stdout",
     "output_type": "stream",
     "text": [
      "Web scrapping at : 43.11% which took 159 seconds to run.\n",
      "Web scrapping at : 43.203% which took 160 seconds to run.\n"
     ]
    },
    {
     "name": "stderr",
     "output_type": "stream",
     "text": [
      "DEBUG 2019-03-06 14:11:38,547 https://atlas.microsoft.com:443 \"GET /search/fuzzy/json?Content-Type=application%2Fjson&subscription-key=6j_USCas00Jqmpj2EFtKe18nLWPylj0gPTOLeBypt9U&api-version=1.0&query=FRANPRIX+BABISE+DISTR+CHARENTON%2C+France HTTP/1.1\" 200 4036\n",
      "DEBUG 2019-03-06 14:11:38,555 Starting new HTTPS connection (1): atlas.microsoft.com:443\n"
     ]
    },
    {
     "name": "stdout",
     "output_type": "stream",
     "text": [
      "Web scrapping at : 43.296% which took 160 seconds to run.\n"
     ]
    },
    {
     "name": "stderr",
     "output_type": "stream",
     "text": [
      "DEBUG 2019-03-06 14:11:38,970 https://atlas.microsoft.com:443 \"GET /search/fuzzy/json?Content-Type=application%2Fjson&subscription-key=6j_USCas00Jqmpj2EFtKe18nLWPylj0gPTOLeBypt9U&api-version=1.0&query=FRANPRIX+SARAH+ST+MAURICE%2C+France HTTP/1.1\" 200 8610\n",
      "DEBUG 2019-03-06 14:11:38,979 Starting new HTTPS connection (1): atlas.microsoft.com:443\n"
     ]
    },
    {
     "name": "stdout",
     "output_type": "stream",
     "text": [
      "Web scrapping at : 43.389% which took 160 seconds to run.\n"
     ]
    },
    {
     "name": "stderr",
     "output_type": "stream",
     "text": [
      "DEBUG 2019-03-06 14:11:39,309 https://atlas.microsoft.com:443 \"GET /search/fuzzy/json?Content-Type=application%2Fjson&subscription-key=6j_USCas00Jqmpj2EFtKe18nLWPylj0gPTOLeBypt9U&api-version=1.0&query=FRANPRIX+AGRIDIS+MASSY%2C+France HTTP/1.1\" 200 7731\n",
      "DEBUG 2019-03-06 14:11:39,317 Starting new HTTPS connection (1): atlas.microsoft.com:443\n"
     ]
    },
    {
     "name": "stdout",
     "output_type": "stream",
     "text": [
      "Web scrapping at : 43.482% which took 161 seconds to run.\n"
     ]
    },
    {
     "name": "stderr",
     "output_type": "stream",
     "text": [
      "DEBUG 2019-03-06 14:11:39,902 https://atlas.microsoft.com:443 \"GET /search/fuzzy/json?Content-Type=application%2Fjson&subscription-key=6j_USCas00Jqmpj2EFtKe18nLWPylj0gPTOLeBypt9U&api-version=1.0&query=FRANPRIX+SIVAN+PIERREFITTE+SUR+S%2C+France HTTP/1.1\" 200 5384\n",
      "DEBUG 2019-03-06 14:11:39,911 Starting new HTTPS connection (1): atlas.microsoft.com:443\n",
      "DEBUG 2019-03-06 14:11:40,019 https://atlas.microsoft.com:443 \"GET /search/fuzzy/json?Content-Type=application%2Fjson&subscription-key=6j_USCas00Jqmpj2EFtKe18nLWPylj0gPTOLeBypt9U&api-version=1.0&query=FRANPRIX+LPE+MONTREUIL+COUTURIER%2C+France HTTP/1.1\" 200 8874\n",
      "DEBUG 2019-03-06 14:11:40,028 Starting new HTTPS connection (1): atlas.microsoft.com:443\n"
     ]
    },
    {
     "name": "stdout",
     "output_type": "stream",
     "text": [
      "Web scrapping at : 43.575% which took 161 seconds to run.\n",
      "Web scrapping at : 43.669% which took 162 seconds to run.\n"
     ]
    },
    {
     "name": "stderr",
     "output_type": "stream",
     "text": [
      "DEBUG 2019-03-06 14:11:40,443 https://atlas.microsoft.com:443 \"GET /search/fuzzy/json?Content-Type=application%2Fjson&subscription-key=6j_USCas00Jqmpj2EFtKe18nLWPylj0gPTOLeBypt9U&api-version=1.0&query=FRANPRIX+COCOSUN+%28SISOUK%29+MONTREUIL%2C+France HTTP/1.1\" 200 9549\n",
      "DEBUG 2019-03-06 14:11:40,451 Starting new HTTPS connection (1): atlas.microsoft.com:443\n"
     ]
    },
    {
     "name": "stdout",
     "output_type": "stream",
     "text": [
      "Web scrapping at : 43.762% which took 162 seconds to run.\n"
     ]
    },
    {
     "name": "stderr",
     "output_type": "stream",
     "text": [
      "DEBUG 2019-03-06 14:11:40,762 https://atlas.microsoft.com:443 \"GET /search/fuzzy/json?Content-Type=application%2Fjson&subscription-key=6j_USCas00Jqmpj2EFtKe18nLWPylj0gPTOLeBypt9U&api-version=1.0&query=FRANPRIX+LPE+FRESNES%2C+France HTTP/1.1\" 200 7708\n",
      "DEBUG 2019-03-06 14:11:40,770 Starting new HTTPS connection (1): atlas.microsoft.com:443\n"
     ]
    },
    {
     "name": "stdout",
     "output_type": "stream",
     "text": [
      "Web scrapping at : 43.855% which took 162 seconds to run.\n"
     ]
    },
    {
     "name": "stderr",
     "output_type": "stream",
     "text": [
      "DEBUG 2019-03-06 14:11:41,077 https://atlas.microsoft.com:443 \"GET /search/fuzzy/json?Content-Type=application%2Fjson&subscription-key=6j_USCas00Jqmpj2EFtKe18nLWPylj0gPTOLeBypt9U&api-version=1.0&query=FRANPRIX+LPE+CHESSY%2C+France HTTP/1.1\" 200 5351\n",
      "DEBUG 2019-03-06 14:11:41,086 Starting new HTTPS connection (1): atlas.microsoft.com:443\n",
      "DEBUG 2019-03-06 14:11:41,168 https://atlas.microsoft.com:443 \"GET /search/fuzzy/json?Content-Type=application%2Fjson&subscription-key=6j_USCas00Jqmpj2EFtKe18nLWPylj0gPTOLeBypt9U&api-version=1.0&query=FRANPRIX+SHUGHANDHA+GRIGNY%2C+France HTTP/1.1\" 200 4628\n",
      "DEBUG 2019-03-06 14:11:41,177 Starting new HTTPS connection (1): atlas.microsoft.com:443\n"
     ]
    },
    {
     "name": "stdout",
     "output_type": "stream",
     "text": [
      "Web scrapping at : 43.948% which took 163 seconds to run.\n",
      "Web scrapping at : 44.041% which took 163 seconds to run.\n"
     ]
    },
    {
     "name": "stderr",
     "output_type": "stream",
     "text": [
      "DEBUG 2019-03-06 14:11:41,313 https://atlas.microsoft.com:443 \"GET /search/fuzzy/json?Content-Type=application%2Fjson&subscription-key=6j_USCas00Jqmpj2EFtKe18nLWPylj0gPTOLeBypt9U&api-version=1.0&query=FRANPRIX+LP+BIRON%2C+France HTTP/1.1\" 200 5227\n",
      "DEBUG 2019-03-06 14:11:41,320 Starting new HTTPS connection (1): atlas.microsoft.com:443\n"
     ]
    },
    {
     "name": "stdout",
     "output_type": "stream",
     "text": [
      "Web scrapping at : 44.134% which took 163 seconds to run.\n"
     ]
    },
    {
     "name": "stderr",
     "output_type": "stream",
     "text": [
      "DEBUG 2019-03-06 14:11:41,702 https://atlas.microsoft.com:443 \"GET /search/fuzzy/json?Content-Type=application%2Fjson&subscription-key=6j_USCas00Jqmpj2EFtKe18nLWPylj0gPTOLeBypt9U&api-version=1.0&query=FRANPRIX+BEN+DAAMAR+IMAD+FRANCHEVILLE%2C+France HTTP/1.1\" 200 9188\n",
      "DEBUG 2019-03-06 14:11:41,710 Starting new HTTPS connection (1): atlas.microsoft.com:443\n",
      "DEBUG 2019-03-06 14:11:41,816 https://atlas.microsoft.com:443 \"GET /search/fuzzy/json?Content-Type=application%2Fjson&subscription-key=6j_USCas00Jqmpj2EFtKe18nLWPylj0gPTOLeBypt9U&api-version=1.0&query=FRANPRIX+LP+ST+MAXIMIN%2C+France HTTP/1.1\" 200 5868\n",
      "DEBUG 2019-03-06 14:11:41,824 Starting new HTTPS connection (1): atlas.microsoft.com:443\n"
     ]
    },
    {
     "name": "stdout",
     "output_type": "stream",
     "text": [
      "Web scrapping at : 44.227% which took 163 seconds to run.\n",
      "Web scrapping at : 44.32% which took 163 seconds to run.\n"
     ]
    },
    {
     "name": "stderr",
     "output_type": "stream",
     "text": [
      "DEBUG 2019-03-06 14:11:41,914 https://atlas.microsoft.com:443 \"GET /search/fuzzy/json?Content-Type=application%2Fjson&subscription-key=6j_USCas00Jqmpj2EFtKe18nLWPylj0gPTOLeBypt9U&api-version=1.0&query=FRANPRIX+MIR+HMIRICH+MAHJOUB+MONTREUIL%2C+France HTTP/1.1\" 200 9666\n",
      "DEBUG 2019-03-06 14:11:41,922 Starting new HTTPS connection (1): atlas.microsoft.com:443\n"
     ]
    },
    {
     "name": "stdout",
     "output_type": "stream",
     "text": [
      "Web scrapping at : 44.413% which took 163 seconds to run.\n"
     ]
    },
    {
     "name": "stderr",
     "output_type": "stream",
     "text": [
      "DEBUG 2019-03-06 14:11:42,350 https://atlas.microsoft.com:443 \"GET /search/fuzzy/json?Content-Type=application%2Fjson&subscription-key=6j_USCas00Jqmpj2EFtKe18nLWPylj0gPTOLeBypt9U&api-version=1.0&query=FRANPRIX+MR+EDDAOUDI+ST+GRATIEN%2C+France HTTP/1.1\" 200 5708\n",
      "DEBUG 2019-03-06 14:11:42,358 Starting new HTTPS connection (1): atlas.microsoft.com:443\n"
     ]
    },
    {
     "name": "stdout",
     "output_type": "stream",
     "text": [
      "Web scrapping at : 44.507% which took 164 seconds to run.\n"
     ]
    },
    {
     "name": "stderr",
     "output_type": "stream",
     "text": [
      "DEBUG 2019-03-06 14:11:42,746 https://atlas.microsoft.com:443 \"GET /search/fuzzy/json?Content-Type=application%2Fjson&subscription-key=6j_USCas00Jqmpj2EFtKe18nLWPylj0gPTOLeBypt9U&api-version=1.0&query=FRANPRIX+LPE+BUC%2C+France HTTP/1.1\" 200 5333\n",
      "DEBUG 2019-03-06 14:11:42,754 Starting new HTTPS connection (1): atlas.microsoft.com:443\n",
      "DEBUG 2019-03-06 14:11:42,841 https://atlas.microsoft.com:443 \"GET /search/fuzzy/json?Content-Type=application%2Fjson&subscription-key=6j_USCas00Jqmpj2EFtKe18nLWPylj0gPTOLeBypt9U&api-version=1.0&query=FRANPRIX+NAJAH+MOHAMED+BIEVRES%2C+France HTTP/1.1\" 200 6340\n",
      "DEBUG 2019-03-06 14:11:42,849 Starting new HTTPS connection (1): atlas.microsoft.com:443\n"
     ]
    },
    {
     "name": "stdout",
     "output_type": "stream",
     "text": [
      "Web scrapping at : 44.6% which took 164 seconds to run.\n",
      "Web scrapping at : 44.693% which took 164 seconds to run.\n"
     ]
    },
    {
     "name": "stderr",
     "output_type": "stream",
     "text": [
      "DEBUG 2019-03-06 14:11:43,212 https://atlas.microsoft.com:443 \"GET /search/fuzzy/json?Content-Type=application%2Fjson&subscription-key=6j_USCas00Jqmpj2EFtKe18nLWPylj0gPTOLeBypt9U&api-version=1.0&query=FRANPRIX+LP+BASSENS%2C+France HTTP/1.1\" 200 5203\n",
      "DEBUG 2019-03-06 14:11:43,220 Starting new HTTPS connection (1): atlas.microsoft.com:443\n"
     ]
    },
    {
     "name": "stdout",
     "output_type": "stream",
     "text": [
      "Web scrapping at : 44.786% which took 165 seconds to run.\n"
     ]
    },
    {
     "name": "stderr",
     "output_type": "stream",
     "text": [
      "DEBUG 2019-03-06 14:11:43,539 https://atlas.microsoft.com:443 \"GET /search/fuzzy/json?Content-Type=application%2Fjson&subscription-key=6j_USCas00Jqmpj2EFtKe18nLWPylj0gPTOLeBypt9U&api-version=1.0&query=FRANPRIX+LP+VITROLLES%2C+France HTTP/1.1\" 200 6219\n",
      "DEBUG 2019-03-06 14:11:43,548 Starting new HTTPS connection (1): atlas.microsoft.com:443\n",
      "DEBUG 2019-03-06 14:11:43,632 https://atlas.microsoft.com:443 \"GET /search/fuzzy/json?Content-Type=application%2Fjson&subscription-key=6j_USCas00Jqmpj2EFtKe18nLWPylj0gPTOLeBypt9U&api-version=1.0&query=FRANPRIX+LP+LAVAUR%2C+France HTTP/1.1\" 200 6255\n",
      "DEBUG 2019-03-06 14:11:43,641 Starting new HTTPS connection (1): atlas.microsoft.com:443\n"
     ]
    },
    {
     "name": "stdout",
     "output_type": "stream",
     "text": [
      "Web scrapping at : 44.879% which took 165 seconds to run.\n",
      "Web scrapping at : 44.972% which took 165 seconds to run.\n"
     ]
    },
    {
     "name": "stderr",
     "output_type": "stream",
     "text": [
      "DEBUG 2019-03-06 14:11:44,041 https://atlas.microsoft.com:443 \"GET /search/fuzzy/json?Content-Type=application%2Fjson&subscription-key=6j_USCas00Jqmpj2EFtKe18nLWPylj0gPTOLeBypt9U&api-version=1.0&query=FRANPRIX+LP+CASTRES+II%2C+France HTTP/1.1\" 200 5945\n",
      "DEBUG 2019-03-06 14:11:44,049 Starting new HTTPS connection (1): atlas.microsoft.com:443\n"
     ]
    },
    {
     "name": "stdout",
     "output_type": "stream",
     "text": [
      "Web scrapping at : 45.065% which took 166 seconds to run.\n"
     ]
    },
    {
     "name": "stderr",
     "output_type": "stream",
     "text": [
      "DEBUG 2019-03-06 14:11:44,476 https://atlas.microsoft.com:443 \"GET /search/fuzzy/json?Content-Type=application%2Fjson&subscription-key=6j_USCas00Jqmpj2EFtKe18nLWPylj0gPTOLeBypt9U&api-version=1.0&query=FRANPRIX+LP+CHAMPNIERS+SOJODIS%2C+France HTTP/1.1\" 200 5311\n",
      "DEBUG 2019-03-06 14:11:44,485 Starting new HTTPS connection (1): atlas.microsoft.com:443\n",
      "DEBUG 2019-03-06 14:11:44,572 https://atlas.microsoft.com:443 \"GET /search/fuzzy/json?Content-Type=application%2Fjson&subscription-key=6j_USCas00Jqmpj2EFtKe18nLWPylj0gPTOLeBypt9U&api-version=1.0&query=FRANPRIX+KANIS+ST+DENIS%2C+France HTTP/1.1\" 200 8782\n",
      "DEBUG 2019-03-06 14:11:44,581 Starting new HTTPS connection (1): atlas.microsoft.com:443\n"
     ]
    },
    {
     "name": "stdout",
     "output_type": "stream",
     "text": [
      "Web scrapping at : 45.158% which took 166 seconds to run.\n",
      "Web scrapping at : 45.251% which took 166 seconds to run.\n"
     ]
    },
    {
     "name": "stderr",
     "output_type": "stream",
     "text": [
      "DEBUG 2019-03-06 14:11:44,983 https://atlas.microsoft.com:443 \"GET /search/fuzzy/json?Content-Type=application%2Fjson&subscription-key=6j_USCas00Jqmpj2EFtKe18nLWPylj0gPTOLeBypt9U&api-version=1.0&query=FRANPRIX+LPE+CHATILLON+ST+EXUPERY%2C+France HTTP/1.1\" 200 6099\n",
      "DEBUG 2019-03-06 14:11:44,992 Starting new HTTPS connection (1): atlas.microsoft.com:443\n"
     ]
    },
    {
     "name": "stdout",
     "output_type": "stream",
     "text": [
      "Web scrapping at : 45.345% which took 166 seconds to run.\n"
     ]
    },
    {
     "name": "stderr",
     "output_type": "stream",
     "text": [
      "DEBUG 2019-03-06 14:11:45,324 https://atlas.microsoft.com:443 \"GET /search/fuzzy/json?Content-Type=application%2Fjson&subscription-key=6j_USCas00Jqmpj2EFtKe18nLWPylj0gPTOLeBypt9U&api-version=1.0&query=FRANPRIX+LP+SAUSSAY+ANET%2C+France HTTP/1.1\" 200 4387\n",
      "DEBUG 2019-03-06 14:11:45,332 Starting new HTTPS connection (1): atlas.microsoft.com:443\n",
      "DEBUG 2019-03-06 14:11:45,430 https://atlas.microsoft.com:443 \"GET /search/fuzzy/json?Content-Type=application%2Fjson&subscription-key=6j_USCas00Jqmpj2EFtKe18nLWPylj0gPTOLeBypt9U&api-version=1.0&query=FRANPRIX+LP+MONTBRISON%2C+France HTTP/1.1\" 200 5709\n",
      "DEBUG 2019-03-06 14:11:45,438 Starting new HTTPS connection (1): atlas.microsoft.com:443\n",
      "DEBUG 2019-03-06 14:11:45,519 https://atlas.microsoft.com:443 \"GET /search/fuzzy/json?Content-Type=application%2Fjson&subscription-key=6j_USCas00Jqmpj2EFtKe18nLWPylj0gPTOLeBypt9U&api-version=1.0&query=FRANPRIX+LP+AUTERIVE%2C+France HTTP/1.1\" 200 6210\n",
      "DEBUG 2019-03-06 14:11:45,527 Starting new HTTPS connection (1): atlas.microsoft.com:443\n"
     ]
    },
    {
     "name": "stdout",
     "output_type": "stream",
     "text": [
      "Web scrapping at : 45.438% which took 167 seconds to run.\n",
      "Web scrapping at : 45.531% which took 167 seconds to run.\n",
      "Web scrapping at : 45.624% which took 167 seconds to run.\n"
     ]
    },
    {
     "name": "stderr",
     "output_type": "stream",
     "text": [
      "DEBUG 2019-03-06 14:11:46,182 https://atlas.microsoft.com:443 \"GET /search/fuzzy/json?Content-Type=application%2Fjson&subscription-key=6j_USCas00Jqmpj2EFtKe18nLWPylj0gPTOLeBypt9U&api-version=1.0&query=FRANPRIX+LP+ST+PIERRE+DU+MONT+MONTS%2C+France HTTP/1.1\" 200 5150\n",
      "DEBUG 2019-03-06 14:11:46,191 Starting new HTTPS connection (1): atlas.microsoft.com:443\n"
     ]
    },
    {
     "name": "stdout",
     "output_type": "stream",
     "text": [
      "Web scrapping at : 45.717% which took 168 seconds to run.\n"
     ]
    },
    {
     "name": "stderr",
     "output_type": "stream",
     "text": [
      "DEBUG 2019-03-06 14:11:46,788 https://atlas.microsoft.com:443 \"GET /search/fuzzy/json?Content-Type=application%2Fjson&subscription-key=6j_USCas00Jqmpj2EFtKe18nLWPylj0gPTOLeBypt9U&api-version=1.0&query=FRANPRIX+LP+BIAS+%24%2C+France HTTP/1.1\" 200 5113\n",
      "DEBUG 2019-03-06 14:11:46,796 Starting new HTTPS connection (1): atlas.microsoft.com:443\n",
      "DEBUG 2019-03-06 14:11:46,886 https://atlas.microsoft.com:443 \"GET /search/fuzzy/json?Content-Type=application%2Fjson&subscription-key=6j_USCas00Jqmpj2EFtKe18nLWPylj0gPTOLeBypt9U&api-version=1.0&query=FRANPRIX+LP+ST+ALBAN%2C+France HTTP/1.1\" 200 5983\n",
      "DEBUG 2019-03-06 14:11:46,894 Starting new HTTPS connection (1): atlas.microsoft.com:443\n"
     ]
    },
    {
     "name": "stdout",
     "output_type": "stream",
     "text": [
      "Web scrapping at : 45.81% which took 168 seconds to run.\n",
      "Web scrapping at : 45.903% which took 168 seconds to run.\n"
     ]
    },
    {
     "name": "stderr",
     "output_type": "stream",
     "text": [
      "DEBUG 2019-03-06 14:11:47,302 https://atlas.microsoft.com:443 \"GET /search/fuzzy/json?Content-Type=application%2Fjson&subscription-key=6j_USCas00Jqmpj2EFtKe18nLWPylj0gPTOLeBypt9U&api-version=1.0&query=FRANPRIX+LP+CORMEILLES%24+CORMEILLES%2C+France HTTP/1.1\" 200 6565\n",
      "DEBUG 2019-03-06 14:11:47,310 Starting new HTTPS connection (1): atlas.microsoft.com:443\n"
     ]
    },
    {
     "name": "stdout",
     "output_type": "stream",
     "text": [
      "Web scrapping at : 45.996% which took 169 seconds to run.\n"
     ]
    },
    {
     "name": "stderr",
     "output_type": "stream",
     "text": [
      "DEBUG 2019-03-06 14:11:47,911 https://atlas.microsoft.com:443 \"GET /search/fuzzy/json?Content-Type=application%2Fjson&subscription-key=6j_USCas00Jqmpj2EFtKe18nLWPylj0gPTOLeBypt9U&api-version=1.0&query=FRANPRIX+LPE+SAINT+OUEN+MICHELET+ST%2C+France HTTP/1.1\" 200 8019\n",
      "DEBUG 2019-03-06 14:11:47,919 Starting new HTTPS connection (1): atlas.microsoft.com:443\n"
     ]
    },
    {
     "name": "stdout",
     "output_type": "stream",
     "text": [
      "Web scrapping at : 46.089% which took 169 seconds to run.\n"
     ]
    },
    {
     "name": "stderr",
     "output_type": "stream",
     "text": [
      "DEBUG 2019-03-06 14:11:48,275 https://atlas.microsoft.com:443 \"GET /search/fuzzy/json?Content-Type=application%2Fjson&subscription-key=6j_USCas00Jqmpj2EFtKe18nLWPylj0gPTOLeBypt9U&api-version=1.0&query=FRANPRIX+Mr+BELLA+ANDILLY%2C+France HTTP/1.1\" 200 9231\n",
      "DEBUG 2019-03-06 14:11:48,284 Starting new HTTPS connection (1): atlas.microsoft.com:443\n",
      "DEBUG 2019-03-06 14:11:48,372 https://atlas.microsoft.com:443 \"GET /search/fuzzy/json?Content-Type=application%2Fjson&subscription-key=6j_USCas00Jqmpj2EFtKe18nLWPylj0gPTOLeBypt9U&api-version=1.0&query=FRANPRIX+LP+SAINT+DENIS+GENIN+%40+ST%2C+France HTTP/1.1\" 200 6463\n",
      "DEBUG 2019-03-06 14:11:48,380 Starting new HTTPS connection (1): atlas.microsoft.com:443\n",
      "DEBUG 2019-03-06 14:11:48,471 https://atlas.microsoft.com:443 \"GET /search/fuzzy/json?Content-Type=application%2Fjson&subscription-key=6j_USCas00Jqmpj2EFtKe18nLWPylj0gPTOLeBypt9U&api-version=1.0&query=FRANPRIX+LP+ROYE%24+ROYE%2C+France HTTP/1.1\" 200 6012\n",
      "DEBUG 2019-03-06 14:11:48,480 Starting new HTTPS connection (1): atlas.microsoft.com:443\n"
     ]
    },
    {
     "name": "stdout",
     "output_type": "stream",
     "text": [
      "Web scrapping at : 46.182% which took 170 seconds to run.\n",
      "Web scrapping at : 46.276% which took 170 seconds to run.\n",
      "Web scrapping at : 46.369% which took 170 seconds to run.\n"
     ]
    },
    {
     "name": "stderr",
     "output_type": "stream",
     "text": [
      "DEBUG 2019-03-06 14:11:48,570 https://atlas.microsoft.com:443 \"GET /search/fuzzy/json?Content-Type=application%2Fjson&subscription-key=6j_USCas00Jqmpj2EFtKe18nLWPylj0gPTOLeBypt9U&api-version=1.0&query=FRANPRIX+LP+AVIGNON+SUD+MONTFAVET%2C+France HTTP/1.1\" 200 9802\n",
      "DEBUG 2019-03-06 14:11:48,579 Starting new HTTPS connection (1): atlas.microsoft.com:443\n",
      "DEBUG 2019-03-06 14:11:48,661 https://atlas.microsoft.com:443 \"GET /search/fuzzy/json?Content-Type=application%2Fjson&subscription-key=6j_USCas00Jqmpj2EFtKe18nLWPylj0gPTOLeBypt9U&api-version=1.0&query=FRANPRIX+LP+GRAND+COURONNE+GRANOTRE+DAME%2C+France HTTP/1.1\" 200 4970\n",
      "DEBUG 2019-03-06 14:11:48,669 Starting new HTTPS connection (1): atlas.microsoft.com:443\n"
     ]
    },
    {
     "name": "stdout",
     "output_type": "stream",
     "text": [
      "Web scrapping at : 46.462% which took 170 seconds to run.\n",
      "Web scrapping at : 46.555% which took 170 seconds to run.\n"
     ]
    },
    {
     "name": "stderr",
     "output_type": "stream",
     "text": [
      "DEBUG 2019-03-06 14:11:49,059 https://atlas.microsoft.com:443 \"GET /search/fuzzy/json?Content-Type=application%2Fjson&subscription-key=6j_USCas00Jqmpj2EFtKe18nLWPylj0gPTOLeBypt9U&api-version=1.0&query=FRANPRIX+LP+ST+MARD+%2F%2F+%40%2C+France HTTP/1.1\" 200 5744\n",
      "DEBUG 2019-03-06 14:11:49,067 Starting new HTTPS connection (1): atlas.microsoft.com:443\n"
     ]
    },
    {
     "name": "stdout",
     "output_type": "stream",
     "text": [
      "Web scrapping at : 46.648% which took 171 seconds to run.\n"
     ]
    },
    {
     "name": "stderr",
     "output_type": "stream",
     "text": [
      "DEBUG 2019-03-06 14:11:49,447 https://atlas.microsoft.com:443 \"GET /search/fuzzy/json?Content-Type=application%2Fjson&subscription-key=6j_USCas00Jqmpj2EFtKe18nLWPylj0gPTOLeBypt9U&api-version=1.0&query=FRANPRIX+LP+ORVAL%24+ORVAL%2C+France HTTP/1.1\" 200 5959\n",
      "DEBUG 2019-03-06 14:11:49,455 Starting new HTTPS connection (1): atlas.microsoft.com:443\n"
     ]
    },
    {
     "name": "stdout",
     "output_type": "stream",
     "text": [
      "Web scrapping at : 46.741% which took 171 seconds to run.\n"
     ]
    },
    {
     "name": "stderr",
     "output_type": "stream",
     "text": [
      "DEBUG 2019-03-06 14:11:50,004 https://atlas.microsoft.com:443 \"GET /search/fuzzy/json?Content-Type=application%2Fjson&subscription-key=6j_USCas00Jqmpj2EFtKe18nLWPylj0gPTOLeBypt9U&api-version=1.0&query=FRANPRIX+LP+TORCY+LE+PETIT%2C+France HTTP/1.1\" 200 5258\n",
      "DEBUG 2019-03-06 14:11:50,012 Starting new HTTPS connection (1): atlas.microsoft.com:443\n"
     ]
    },
    {
     "name": "stdout",
     "output_type": "stream",
     "text": [
      "Web scrapping at : 46.834% which took 171 seconds to run.\n"
     ]
    },
    {
     "name": "stderr",
     "output_type": "stream",
     "text": [
      "DEBUG 2019-03-06 14:11:50,440 https://atlas.microsoft.com:443 \"GET /search/fuzzy/json?Content-Type=application%2Fjson&subscription-key=6j_USCas00Jqmpj2EFtKe18nLWPylj0gPTOLeBypt9U&api-version=1.0&query=FRANPRIX+LP+VINEUIL+%40%2C+France HTTP/1.1\" 200 5213\n",
      "DEBUG 2019-03-06 14:11:50,448 Starting new HTTPS connection (1): atlas.microsoft.com:443\n"
     ]
    },
    {
     "name": "stdout",
     "output_type": "stream",
     "text": [
      "Web scrapping at : 46.927% which took 172 seconds to run.\n"
     ]
    },
    {
     "name": "stderr",
     "output_type": "stream",
     "text": [
      "DEBUG 2019-03-06 14:11:50,906 https://atlas.microsoft.com:443 \"GET /search/fuzzy/json?Content-Type=application%2Fjson&subscription-key=6j_USCas00Jqmpj2EFtKe18nLWPylj0gPTOLeBypt9U&api-version=1.0&query=FRANPRIX+MIRANDA+BASRI+MOHAMED+ARCEUIL%2C+France HTTP/1.1\" 200 9329\n",
      "DEBUG 2019-03-06 14:11:50,915 Starting new HTTPS connection (1): atlas.microsoft.com:443\n"
     ]
    },
    {
     "name": "stdout",
     "output_type": "stream",
     "text": [
      "Web scrapping at : 47.02% which took 172 seconds to run.\n"
     ]
    },
    {
     "name": "stderr",
     "output_type": "stream",
     "text": [
      "DEBUG 2019-03-06 14:11:51,286 https://atlas.microsoft.com:443 \"GET /search/fuzzy/json?Content-Type=application%2Fjson&subscription-key=6j_USCas00Jqmpj2EFtKe18nLWPylj0gPTOLeBypt9U&api-version=1.0&query=FRANPRIX+LP+ARTIX%2C+France HTTP/1.1\" 200 6272\n",
      "DEBUG 2019-03-06 14:11:51,296 Starting new HTTPS connection (1): atlas.microsoft.com:443\n"
     ]
    },
    {
     "name": "stdout",
     "output_type": "stream",
     "text": [
      "Web scrapping at : 47.114% which took 173 seconds to run.\n"
     ]
    },
    {
     "name": "stderr",
     "output_type": "stream",
     "text": [
      "DEBUG 2019-03-06 14:11:51,864 https://atlas.microsoft.com:443 \"GET /search/fuzzy/json?Content-Type=application%2Fjson&subscription-key=6j_USCas00Jqmpj2EFtKe18nLWPylj0gPTOLeBypt9U&api-version=1.0&query=FRANPRIX+LP+MALMORT+MALEMORTOISE+DISTR+MALEMORT%2C+France HTTP/1.1\" 200 6771\n",
      "DEBUG 2019-03-06 14:11:51,873 Starting new HTTPS connection (1): atlas.microsoft.com:443\n"
     ]
    },
    {
     "name": "stdout",
     "output_type": "stream",
     "text": [
      "Web scrapping at : 47.207% which took 173 seconds to run.\n"
     ]
    },
    {
     "name": "stderr",
     "output_type": "stream",
     "text": [
      "DEBUG 2019-03-06 14:11:52,232 https://atlas.microsoft.com:443 \"GET /search/fuzzy/json?Content-Type=application%2Fjson&subscription-key=6j_USCas00Jqmpj2EFtKe18nLWPylj0gPTOLeBypt9U&api-version=1.0&query=FRANPRIX+LP+MOUZON+%2F%2F%40%2C+France HTTP/1.1\" 200 5245\n",
      "DEBUG 2019-03-06 14:11:52,239 Starting new HTTPS connection (1): atlas.microsoft.com:443\n"
     ]
    },
    {
     "name": "stdout",
     "output_type": "stream",
     "text": [
      "Web scrapping at : 47.3% which took 174 seconds to run.\n"
     ]
    },
    {
     "name": "stderr",
     "output_type": "stream",
     "text": [
      "DEBUG 2019-03-06 14:11:52,507 https://atlas.microsoft.com:443 \"GET /search/fuzzy/json?Content-Type=application%2Fjson&subscription-key=6j_USCas00Jqmpj2EFtKe18nLWPylj0gPTOLeBypt9U&api-version=1.0&query=FRANPRIX+LP+VOUILLE%2C+France HTTP/1.1\" 200 4830\n",
      "DEBUG 2019-03-06 14:11:52,515 Starting new HTTPS connection (1): atlas.microsoft.com:443\n"
     ]
    },
    {
     "name": "stdout",
     "output_type": "stream",
     "text": [
      "Web scrapping at : 47.393% which took 174 seconds to run.\n"
     ]
    },
    {
     "name": "stderr",
     "output_type": "stream",
     "text": [
      "DEBUG 2019-03-06 14:11:52,859 https://atlas.microsoft.com:443 \"GET /search/fuzzy/json?Content-Type=application%2Fjson&subscription-key=6j_USCas00Jqmpj2EFtKe18nLWPylj0gPTOLeBypt9U&api-version=1.0&query=FRANPRIX+LP+REVEL%2C+France HTTP/1.1\" 200 5938\n",
      "DEBUG 2019-03-06 14:11:52,867 Starting new HTTPS connection (1): atlas.microsoft.com:443\n"
     ]
    },
    {
     "name": "stdout",
     "output_type": "stream",
     "text": [
      "Web scrapping at : 47.486% which took 174 seconds to run.\n"
     ]
    },
    {
     "name": "stderr",
     "output_type": "stream",
     "text": [
      "DEBUG 2019-03-06 14:11:53,294 https://atlas.microsoft.com:443 \"GET /search/fuzzy/json?Content-Type=application%2Fjson&subscription-key=6j_USCas00Jqmpj2EFtKe18nLWPylj0gPTOLeBypt9U&api-version=1.0&query=FRANPRIX+LP+CARRE+SENART+LIEUST%2C+France HTTP/1.1\" 200 9173\n",
      "DEBUG 2019-03-06 14:11:53,302 Starting new HTTPS connection (1): atlas.microsoft.com:443\n",
      "DEBUG 2019-03-06 14:11:53,397 https://atlas.microsoft.com:443 \"GET /search/fuzzy/json?Content-Type=application%2Fjson&subscription-key=6j_USCas00Jqmpj2EFtKe18nLWPylj0gPTOLeBypt9U&api-version=1.0&query=FRANPRIX+LP+ST+FLOUR%2C+France HTTP/1.1\" 200 5044\n",
      "DEBUG 2019-03-06 14:11:53,405 Starting new HTTPS connection (1): atlas.microsoft.com:443\n"
     ]
    },
    {
     "name": "stdout",
     "output_type": "stream",
     "text": [
      "Web scrapping at : 47.579% which took 175 seconds to run.\n",
      "Web scrapping at : 47.672% which took 175 seconds to run.\n"
     ]
    },
    {
     "name": "stderr",
     "output_type": "stream",
     "text": [
      "DEBUG 2019-03-06 14:11:53,888 https://atlas.microsoft.com:443 \"GET /search/fuzzy/json?Content-Type=application%2Fjson&subscription-key=6j_USCas00Jqmpj2EFtKe18nLWPylj0gPTOLeBypt9U&api-version=1.0&query=FRANPRIX+LP+MERIGNAC+AV.+LA+LIBERATION%2C+France HTTP/1.1\" 200 6928\n",
      "DEBUG 2019-03-06 14:11:53,896 Starting new HTTPS connection (1): atlas.microsoft.com:443\n",
      "DEBUG 2019-03-06 14:11:53,979 https://atlas.microsoft.com:443 \"GET /search/fuzzy/json?Content-Type=application%2Fjson&subscription-key=6j_USCas00Jqmpj2EFtKe18nLWPylj0gPTOLeBypt9U&api-version=1.0&query=FRANPRIX+LP+FLERS+%24%2C+France HTTP/1.1\" 200 5818\n",
      "DEBUG 2019-03-06 14:11:53,987 Starting new HTTPS connection (1): atlas.microsoft.com:443\n"
     ]
    },
    {
     "name": "stdout",
     "output_type": "stream",
     "text": [
      "Web scrapping at : 47.765% which took 175 seconds to run.\n",
      "Web scrapping at : 47.858% which took 175 seconds to run.\n"
     ]
    },
    {
     "name": "stderr",
     "output_type": "stream",
     "text": [
      "DEBUG 2019-03-06 14:11:54,358 https://atlas.microsoft.com:443 \"GET /search/fuzzy/json?Content-Type=application%2Fjson&subscription-key=6j_USCas00Jqmpj2EFtKe18nLWPylj0gPTOLeBypt9U&api-version=1.0&query=FRANPRIX+LP+FRENEUSE%2C+France HTTP/1.1\" 200 4659\n",
      "DEBUG 2019-03-06 14:11:54,368 Starting new HTTPS connection (1): atlas.microsoft.com:443\n"
     ]
    },
    {
     "name": "stdout",
     "output_type": "stream",
     "text": [
      "Web scrapping at : 47.952% which took 176 seconds to run.\n"
     ]
    },
    {
     "name": "stderr",
     "output_type": "stream",
     "text": [
      "DEBUG 2019-03-06 14:11:54,781 https://atlas.microsoft.com:443 \"GET /search/fuzzy/json?Content-Type=application%2Fjson&subscription-key=6j_USCas00Jqmpj2EFtKe18nLWPylj0gPTOLeBypt9U&api-version=1.0&query=FRANPRIX+LP+CHAUMONT%2F%2F%40+%24+CHAUMONT%2C+France HTTP/1.1\" 200 5699\n",
      "DEBUG 2019-03-06 14:11:54,790 Starting new HTTPS connection (1): atlas.microsoft.com:443\n"
     ]
    },
    {
     "name": "stdout",
     "output_type": "stream",
     "text": [
      "Web scrapping at : 48.045% which took 176 seconds to run.\n"
     ]
    },
    {
     "name": "stderr",
     "output_type": "stream",
     "text": [
      "DEBUG 2019-03-06 14:11:55,158 https://atlas.microsoft.com:443 \"GET /search/fuzzy/json?Content-Type=application%2Fjson&subscription-key=6j_USCas00Jqmpj2EFtKe18nLWPylj0gPTOLeBypt9U&api-version=1.0&query=FRANPRIX+LP+MONTREUIL%2C+France HTTP/1.1\" 200 5342\n",
      "DEBUG 2019-03-06 14:11:55,166 Starting new HTTPS connection (1): atlas.microsoft.com:443\n"
     ]
    },
    {
     "name": "stdout",
     "output_type": "stream",
     "text": [
      "Web scrapping at : 48.138% which took 177 seconds to run.\n"
     ]
    },
    {
     "name": "stderr",
     "output_type": "stream",
     "text": [
      "DEBUG 2019-03-06 14:11:55,544 https://atlas.microsoft.com:443 \"GET /search/fuzzy/json?Content-Type=application%2Fjson&subscription-key=6j_USCas00Jqmpj2EFtKe18nLWPylj0gPTOLeBypt9U&api-version=1.0&query=FRANPRIX+LP+NORMANVILLE%2C+France HTTP/1.1\" 200 5254\n",
      "DEBUG 2019-03-06 14:11:55,554 Starting new HTTPS connection (1): atlas.microsoft.com:443\n"
     ]
    },
    {
     "name": "stdout",
     "output_type": "stream",
     "text": [
      "Web scrapping at : 48.231% which took 177 seconds to run.\n"
     ]
    },
    {
     "name": "stderr",
     "output_type": "stream",
     "text": [
      "DEBUG 2019-03-06 14:11:55,937 https://atlas.microsoft.com:443 \"GET /search/fuzzy/json?Content-Type=application%2Fjson&subscription-key=6j_USCas00Jqmpj2EFtKe18nLWPylj0gPTOLeBypt9U&api-version=1.0&query=FRANPRIX+LP+MARTAINVILLE%2C+France HTTP/1.1\" 200 5827\n",
      "DEBUG 2019-03-06 14:11:55,945 Starting new HTTPS connection (1): atlas.microsoft.com:443\n",
      "DEBUG 2019-03-06 14:11:56,029 https://atlas.microsoft.com:443 \"GET /search/fuzzy/json?Content-Type=application%2Fjson&subscription-key=6j_USCas00Jqmpj2EFtKe18nLWPylj0gPTOLeBypt9U&api-version=1.0&query=FRANPRIX+LP+ST+THIBAULT+%40%2C+France HTTP/1.1\" 200 4692\n",
      "DEBUG 2019-03-06 14:11:56,038 Starting new HTTPS connection (1): atlas.microsoft.com:443\n"
     ]
    },
    {
     "name": "stdout",
     "output_type": "stream",
     "text": [
      "Web scrapping at : 48.324% which took 177 seconds to run.\n",
      "Web scrapping at : 48.417% which took 178 seconds to run.\n"
     ]
    },
    {
     "name": "stderr",
     "output_type": "stream",
     "text": [
      "DEBUG 2019-03-06 14:11:56,422 https://atlas.microsoft.com:443 \"GET /search/fuzzy/json?Content-Type=application%2Fjson&subscription-key=6j_USCas00Jqmpj2EFtKe18nLWPylj0gPTOLeBypt9U&api-version=1.0&query=FRANPRIX+LP+FRIVILLE%24+FRIVILLE%2C+France HTTP/1.1\" 200 5579\n",
      "DEBUG 2019-03-06 14:11:56,431 Starting new HTTPS connection (1): atlas.microsoft.com:443\n"
     ]
    },
    {
     "name": "stdout",
     "output_type": "stream",
     "text": [
      "Web scrapping at : 48.51% which took 178 seconds to run.\n"
     ]
    },
    {
     "name": "stderr",
     "output_type": "stream",
     "text": [
      "DEBUG 2019-03-06 14:11:56,757 https://atlas.microsoft.com:443 \"GET /search/fuzzy/json?Content-Type=application%2Fjson&subscription-key=6j_USCas00Jqmpj2EFtKe18nLWPylj0gPTOLeBypt9U&api-version=1.0&query=FRANPRIX+LP+ROCHEFORT%2C+France HTTP/1.1\" 200 5532\n",
      "DEBUG 2019-03-06 14:11:56,765 Starting new HTTPS connection (1): atlas.microsoft.com:443\n"
     ]
    },
    {
     "name": "stdout",
     "output_type": "stream",
     "text": [
      "Web scrapping at : 48.603% which took 178 seconds to run.\n"
     ]
    },
    {
     "name": "stderr",
     "output_type": "stream",
     "text": [
      "DEBUG 2019-03-06 14:11:57,122 https://atlas.microsoft.com:443 \"GET /search/fuzzy/json?Content-Type=application%2Fjson&subscription-key=6j_USCas00Jqmpj2EFtKe18nLWPylj0gPTOLeBypt9U&api-version=1.0&query=FRANPRIX+LP+MONTMIRAIL+%2F%2F%40%2C+France HTTP/1.1\" 200 6043\n",
      "DEBUG 2019-03-06 14:11:57,131 Starting new HTTPS connection (1): atlas.microsoft.com:443\n"
     ]
    },
    {
     "name": "stdout",
     "output_type": "stream",
     "text": [
      "Web scrapping at : 48.696% which took 179 seconds to run.\n"
     ]
    },
    {
     "name": "stderr",
     "output_type": "stream",
     "text": [
      "DEBUG 2019-03-06 14:11:57,519 https://atlas.microsoft.com:443 \"GET /search/fuzzy/json?Content-Type=application%2Fjson&subscription-key=6j_USCas00Jqmpj2EFtKe18nLWPylj0gPTOLeBypt9U&api-version=1.0&query=FRANPRIX+LP+ST+VALLIER%2C+France HTTP/1.1\" 200 6266\n",
      "DEBUG 2019-03-06 14:11:57,527 Starting new HTTPS connection (1): atlas.microsoft.com:443\n"
     ]
    },
    {
     "name": "stdout",
     "output_type": "stream",
     "text": [
      "Web scrapping at : 48.79% which took 179 seconds to run.\n"
     ]
    },
    {
     "name": "stderr",
     "output_type": "stream",
     "text": [
      "DEBUG 2019-03-06 14:11:58,121 https://atlas.microsoft.com:443 \"GET /search/fuzzy/json?Content-Type=application%2Fjson&subscription-key=6j_USCas00Jqmpj2EFtKe18nLWPylj0gPTOLeBypt9U&api-version=1.0&query=FRANPRIX+LP+ST+DENIS+LES+SENS+%40%2C+France HTTP/1.1\" 200 6602\n",
      "DEBUG 2019-03-06 14:11:58,130 Starting new HTTPS connection (1): atlas.microsoft.com:443\n"
     ]
    },
    {
     "name": "stdout",
     "output_type": "stream",
     "text": [
      "Web scrapping at : 48.883% which took 180 seconds to run.\n"
     ]
    },
    {
     "name": "stderr",
     "output_type": "stream",
     "text": [
      "DEBUG 2019-03-06 14:11:58,457 https://atlas.microsoft.com:443 \"GET /search/fuzzy/json?Content-Type=application%2Fjson&subscription-key=6j_USCas00Jqmpj2EFtKe18nLWPylj0gPTOLeBypt9U&api-version=1.0&query=FRANPRIX+LP+MONTIGNAC%2C+France HTTP/1.1\" 200 5258\n",
      "DEBUG 2019-03-06 14:11:58,465 Starting new HTTPS connection (1): atlas.microsoft.com:443\n"
     ]
    },
    {
     "name": "stdout",
     "output_type": "stream",
     "text": [
      "Web scrapping at : 48.976% which took 180 seconds to run.\n"
     ]
    },
    {
     "name": "stderr",
     "output_type": "stream",
     "text": [
      "DEBUG 2019-03-06 14:11:58,813 https://atlas.microsoft.com:443 \"GET /search/fuzzy/json?Content-Type=application%2Fjson&subscription-key=6j_USCas00Jqmpj2EFtKe18nLWPylj0gPTOLeBypt9U&api-version=1.0&query=FRANPRIX+LP+MONTIVILLIERS+MONTIVILLLIERS%2C+France HTTP/1.1\" 200 3538\n",
      "DEBUG 2019-03-06 14:11:58,822 Starting new HTTPS connection (1): atlas.microsoft.com:443\n",
      "DEBUG 2019-03-06 14:11:58,908 https://atlas.microsoft.com:443 \"GET /search/fuzzy/json?Content-Type=application%2Fjson&subscription-key=6j_USCas00Jqmpj2EFtKe18nLWPylj0gPTOLeBypt9U&api-version=1.0&query=FRANPRIX+LP+PONT+DE+BEAUVOISIN+LE%2C+France HTTP/1.1\" 200 5666\n",
      "DEBUG 2019-03-06 14:11:58,918 Starting new HTTPS connection (1): atlas.microsoft.com:443\n"
     ]
    },
    {
     "name": "stdout",
     "output_type": "stream",
     "text": [
      "Web scrapping at : 49.069% which took 180 seconds to run.\n",
      "Web scrapping at : 49.162% which took 180 seconds to run.\n"
     ]
    },
    {
     "name": "stderr",
     "output_type": "stream",
     "text": [
      "DEBUG 2019-03-06 14:11:59,225 https://atlas.microsoft.com:443 \"GET /search/fuzzy/json?Content-Type=application%2Fjson&subscription-key=6j_USCas00Jqmpj2EFtKe18nLWPylj0gPTOLeBypt9U&api-version=1.0&query=FRANPRIX+LP+GOUSSAINVILLE+%40%2C+France HTTP/1.1\" 200 5217\n",
      "DEBUG 2019-03-06 14:11:59,234 Starting new HTTPS connection (1): atlas.microsoft.com:443\n"
     ]
    },
    {
     "name": "stdout",
     "output_type": "stream",
     "text": [
      "Web scrapping at : 49.255% which took 181 seconds to run.\n"
     ]
    },
    {
     "name": "stderr",
     "output_type": "stream",
     "text": [
      "DEBUG 2019-03-06 14:11:59,943 https://atlas.microsoft.com:443 \"GET /search/fuzzy/json?Content-Type=application%2Fjson&subscription-key=6j_USCas00Jqmpj2EFtKe18nLWPylj0gPTOLeBypt9U&api-version=1.0&query=FRANPRIX+ARCHIVES+DISTRIBUTION+ST+DENIS%2C+France HTTP/1.1\" 200 8814\n",
      "DEBUG 2019-03-06 14:11:59,951 Starting new HTTPS connection (1): atlas.microsoft.com:443\n"
     ]
    },
    {
     "name": "stdout",
     "output_type": "stream",
     "text": [
      "Web scrapping at : 49.348% which took 181 seconds to run.\n"
     ]
    },
    {
     "name": "stderr",
     "output_type": "stream",
     "text": [
      "DEBUG 2019-03-06 14:12:00,356 https://atlas.microsoft.com:443 \"GET /search/fuzzy/json?Content-Type=application%2Fjson&subscription-key=6j_USCas00Jqmpj2EFtKe18nLWPylj0gPTOLeBypt9U&api-version=1.0&query=FRANPRIX+FRANVALE+VALENCE%2C+France HTTP/1.1\" 200 6838\n",
      "DEBUG 2019-03-06 14:12:00,364 Starting new HTTPS connection (1): atlas.microsoft.com:443\n"
     ]
    },
    {
     "name": "stdout",
     "output_type": "stream",
     "text": [
      "Web scrapping at : 49.441% which took 182 seconds to run.\n"
     ]
    },
    {
     "name": "stderr",
     "output_type": "stream",
     "text": [
      "DEBUG 2019-03-06 14:12:00,933 https://atlas.microsoft.com:443 \"GET /search/fuzzy/json?Content-Type=application%2Fjson&subscription-key=6j_USCas00Jqmpj2EFtKe18nLWPylj0gPTOLeBypt9U&api-version=1.0&query=FRANPRIX+STD+DISTRIBUTION+ST+DENIS%2C+France HTTP/1.1\" 200 8834\n",
      "DEBUG 2019-03-06 14:12:00,941 Starting new HTTPS connection (1): atlas.microsoft.com:443\n"
     ]
    },
    {
     "name": "stdout",
     "output_type": "stream",
     "text": [
      "Web scrapping at : 49.534% which took 182 seconds to run.\n"
     ]
    },
    {
     "name": "stderr",
     "output_type": "stream",
     "text": [
      "DEBUG 2019-03-06 14:12:01,319 https://atlas.microsoft.com:443 \"GET /search/fuzzy/json?Content-Type=application%2Fjson&subscription-key=6j_USCas00Jqmpj2EFtKe18nLWPylj0gPTOLeBypt9U&api-version=1.0&query=FRANPRIX+NEWDNERA+11+-+BAGNEUX%2C+France HTTP/1.1\" 200 6988\n",
      "DEBUG 2019-03-06 14:12:01,327 Starting new HTTPS connection (1): atlas.microsoft.com:443\n"
     ]
    },
    {
     "name": "stdout",
     "output_type": "stream",
     "text": [
      "Web scrapping at : 49.628% which took 183 seconds to run.\n"
     ]
    },
    {
     "name": "stderr",
     "output_type": "stream",
     "text": [
      "DEBUG 2019-03-06 14:12:01,747 https://atlas.microsoft.com:443 \"GET /search/fuzzy/json?Content-Type=application%2Fjson&subscription-key=6j_USCas00Jqmpj2EFtKe18nLWPylj0gPTOLeBypt9U&api-version=1.0&query=FRANPRIX+MAJOUR+MOHAMED+ST+MAUR%2C+France HTTP/1.1\" 200 8683\n",
      "DEBUG 2019-03-06 14:12:01,755 Starting new HTTPS connection (1): atlas.microsoft.com:443\n"
     ]
    },
    {
     "name": "stdout",
     "output_type": "stream",
     "text": [
      "Web scrapping at : 49.721% which took 183 seconds to run.\n"
     ]
    },
    {
     "name": "stderr",
     "output_type": "stream",
     "text": [
      "DEBUG 2019-03-06 14:12:02,094 https://atlas.microsoft.com:443 \"GET /search/fuzzy/json?Content-Type=application%2Fjson&subscription-key=6j_USCas00Jqmpj2EFtKe18nLWPylj0gPTOLeBypt9U&api-version=1.0&query=FRANPRIX+YU+FRANCONVILLE%2C+France HTTP/1.1\" 200 5154\n",
      "DEBUG 2019-03-06 14:12:02,103 Starting new HTTPS connection (1): atlas.microsoft.com:443\n"
     ]
    },
    {
     "name": "stdout",
     "output_type": "stream",
     "text": [
      "Web scrapping at : 49.814% which took 184 seconds to run.\n"
     ]
    },
    {
     "name": "stderr",
     "output_type": "stream",
     "text": [
      "DEBUG 2019-03-06 14:12:02,529 https://atlas.microsoft.com:443 \"GET /search/fuzzy/json?Content-Type=application%2Fjson&subscription-key=6j_USCas00Jqmpj2EFtKe18nLWPylj0gPTOLeBypt9U&api-version=1.0&query=FRANPRIX+ETABLISSEMENT+VION+-+MONTREUIL%2C+France HTTP/1.1\" 200 9619\n",
      "DEBUG 2019-03-06 14:12:02,537 Starting new HTTPS connection (1): atlas.microsoft.com:443\n"
     ]
    },
    {
     "name": "stdout",
     "output_type": "stream",
     "text": [
      "Web scrapping at : 49.907% which took 184 seconds to run.\n"
     ]
    },
    {
     "name": "stderr",
     "output_type": "stream",
     "text": [
      "DEBUG 2019-03-06 14:12:02,870 https://atlas.microsoft.com:443 \"GET /search/fuzzy/json?Content-Type=application%2Fjson&subscription-key=6j_USCas00Jqmpj2EFtKe18nLWPylj0gPTOLeBypt9U&api-version=1.0&query=FRANPRIX+LP+USSEL%2C+France HTTP/1.1\" 200 5571\n",
      "DEBUG 2019-03-06 14:12:02,877 Starting new HTTPS connection (1): atlas.microsoft.com:443\n"
     ]
    },
    {
     "name": "stdout",
     "output_type": "stream",
     "text": [
      "Web scrapping at : 50.0% which took 184 seconds to run.\n"
     ]
    },
    {
     "name": "stderr",
     "output_type": "stream",
     "text": [
      "DEBUG 2019-03-06 14:12:03,169 https://atlas.microsoft.com:443 \"GET /search/fuzzy/json?Content-Type=application%2Fjson&subscription-key=6j_USCas00Jqmpj2EFtKe18nLWPylj0gPTOLeBypt9U&api-version=1.0&query=FRANPRIX+LP+BEAUCAIRE%2C+France HTTP/1.1\" 200 5860\n",
      "DEBUG 2019-03-06 14:12:03,177 Starting new HTTPS connection (1): atlas.microsoft.com:443\n"
     ]
    },
    {
     "name": "stdout",
     "output_type": "stream",
     "text": [
      "Web scrapping at : 50.093% which took 185 seconds to run.\n"
     ]
    },
    {
     "name": "stderr",
     "output_type": "stream",
     "text": [
      "DEBUG 2019-03-06 14:12:03,526 https://atlas.microsoft.com:443 \"GET /search/fuzzy/json?Content-Type=application%2Fjson&subscription-key=6j_USCas00Jqmpj2EFtKe18nLWPylj0gPTOLeBypt9U&api-version=1.0&query=FRANPRIX+LP+ORGEVAL%2C+France HTTP/1.1\" 200 5539\n",
      "DEBUG 2019-03-06 14:12:03,536 Starting new HTTPS connection (1): atlas.microsoft.com:443\n"
     ]
    },
    {
     "name": "stdout",
     "output_type": "stream",
     "text": [
      "Web scrapping at : 50.186% which took 185 seconds to run.\n"
     ]
    },
    {
     "name": "stderr",
     "output_type": "stream",
     "text": [
      "DEBUG 2019-03-06 14:12:03,879 https://atlas.microsoft.com:443 \"GET /search/fuzzy/json?Content-Type=application%2Fjson&subscription-key=6j_USCas00Jqmpj2EFtKe18nLWPylj0gPTOLeBypt9U&api-version=1.0&query=FRANPRIX+LP+SOULTZ%24+SOULTZ%2C+France HTTP/1.1\" 200 4924\n",
      "DEBUG 2019-03-06 14:12:03,888 Starting new HTTPS connection (1): atlas.microsoft.com:443\n"
     ]
    },
    {
     "name": "stdout",
     "output_type": "stream",
     "text": [
      "Web scrapping at : 50.279% which took 185 seconds to run.\n"
     ]
    },
    {
     "name": "stderr",
     "output_type": "stream",
     "text": [
      "DEBUG 2019-03-06 14:12:04,194 https://atlas.microsoft.com:443 \"GET /search/fuzzy/json?Content-Type=application%2Fjson&subscription-key=6j_USCas00Jqmpj2EFtKe18nLWPylj0gPTOLeBypt9U&api-version=1.0&query=FRANPRIX+LP+RUFFEC%2C+France HTTP/1.1\" 200 6779\n",
      "DEBUG 2019-03-06 14:12:04,204 Starting new HTTPS connection (1): atlas.microsoft.com:443\n"
     ]
    },
    {
     "name": "stdout",
     "output_type": "stream",
     "text": [
      "Web scrapping at : 50.372% which took 186 seconds to run.\n"
     ]
    },
    {
     "name": "stderr",
     "output_type": "stream",
     "text": [
      "DEBUG 2019-03-06 14:12:04,530 https://atlas.microsoft.com:443 \"GET /search/fuzzy/json?Content-Type=application%2Fjson&subscription-key=6j_USCas00Jqmpj2EFtKe18nLWPylj0gPTOLeBypt9U&api-version=1.0&query=FRANPRIX+LP+ALLONNES%2C+France HTTP/1.1\" 200 5171\n",
      "DEBUG 2019-03-06 14:12:04,539 Starting new HTTPS connection (1): atlas.microsoft.com:443\n"
     ]
    },
    {
     "name": "stdout",
     "output_type": "stream",
     "text": [
      "Web scrapping at : 50.466% which took 186 seconds to run.\n"
     ]
    },
    {
     "name": "stderr",
     "output_type": "stream",
     "text": [
      "DEBUG 2019-03-06 14:12:05,042 https://atlas.microsoft.com:443 \"GET /search/fuzzy/json?Content-Type=application%2Fjson&subscription-key=6j_USCas00Jqmpj2EFtKe18nLWPylj0gPTOLeBypt9U&api-version=1.0&query=FRANPRIX+LP+CHELLES+AV.+DE+RESISTANCE%2C+France HTTP/1.1\" 200 8913\n",
      "DEBUG 2019-03-06 14:12:05,052 Starting new HTTPS connection (1): atlas.microsoft.com:443\n"
     ]
    },
    {
     "name": "stdout",
     "output_type": "stream",
     "text": [
      "Web scrapping at : 50.559% which took 187 seconds to run.\n"
     ]
    },
    {
     "name": "stderr",
     "output_type": "stream",
     "text": [
      "DEBUG 2019-03-06 14:12:05,623 https://atlas.microsoft.com:443 \"GET /search/fuzzy/json?Content-Type=application%2Fjson&subscription-key=6j_USCas00Jqmpj2EFtKe18nLWPylj0gPTOLeBypt9U&api-version=1.0&query=FRANPRIX+LP+STE+GENEVIEVE%2F%2F%40+GENEVIEVE+DES+BOIS%2C+France HTTP/1.1\" 200 4108\n",
      "DEBUG 2019-03-06 14:12:05,633 Starting new HTTPS connection (1): atlas.microsoft.com:443\n"
     ]
    },
    {
     "name": "stdout",
     "output_type": "stream",
     "text": [
      "Web scrapping at : 50.652% which took 187 seconds to run.\n"
     ]
    },
    {
     "name": "stderr",
     "output_type": "stream",
     "text": [
      "DEBUG 2019-03-06 14:12:05,967 https://atlas.microsoft.com:443 \"GET /search/fuzzy/json?Content-Type=application%2Fjson&subscription-key=6j_USCas00Jqmpj2EFtKe18nLWPylj0gPTOLeBypt9U&api-version=1.0&query=FRANPRIX+LP+LANGON%2C+France HTTP/1.1\" 200 5587\n",
      "DEBUG 2019-03-06 14:12:05,979 Starting new HTTPS connection (1): atlas.microsoft.com:443\n"
     ]
    },
    {
     "name": "stdout",
     "output_type": "stream",
     "text": [
      "Web scrapping at : 50.745% which took 187 seconds to run.\n"
     ]
    },
    {
     "name": "stderr",
     "output_type": "stream",
     "text": [
      "DEBUG 2019-03-06 14:12:06,358 https://atlas.microsoft.com:443 \"GET /search/fuzzy/json?Content-Type=application%2Fjson&subscription-key=6j_USCas00Jqmpj2EFtKe18nLWPylj0gPTOLeBypt9U&api-version=1.0&query=FRANPRIX+LP+VIRE+%24%2C+France HTTP/1.1\" 200 5499\n",
      "DEBUG 2019-03-06 14:12:06,368 Starting new HTTPS connection (1): atlas.microsoft.com:443\n"
     ]
    },
    {
     "name": "stdout",
     "output_type": "stream",
     "text": [
      "Web scrapping at : 50.838% which took 188 seconds to run.\n"
     ]
    },
    {
     "name": "stderr",
     "output_type": "stream",
     "text": [
      "DEBUG 2019-03-06 14:12:07,261 https://atlas.microsoft.com:443 \"GET /search/fuzzy/json?Content-Type=application%2Fjson&subscription-key=6j_USCas00Jqmpj2EFtKe18nLWPylj0gPTOLeBypt9U&api-version=1.0&query=FRANPRIX+LP+CASTRES+SODIP+%24%2C+France HTTP/1.1\" 200 5907\n",
      "DEBUG 2019-03-06 14:12:07,270 Starting new HTTPS connection (1): atlas.microsoft.com:443\n"
     ]
    },
    {
     "name": "stdout",
     "output_type": "stream",
     "text": [
      "Web scrapping at : 50.931% which took 189 seconds to run.\n"
     ]
    },
    {
     "name": "stderr",
     "output_type": "stream",
     "text": [
      "DEBUG 2019-03-06 14:12:07,651 https://atlas.microsoft.com:443 \"GET /search/fuzzy/json?Content-Type=application%2Fjson&subscription-key=6j_USCas00Jqmpj2EFtKe18nLWPylj0gPTOLeBypt9U&api-version=1.0&query=FRANPRIX+LP+BRIVE%2C+France HTTP/1.1\" 200 5584\n",
      "DEBUG 2019-03-06 14:12:07,659 Starting new HTTPS connection (1): atlas.microsoft.com:443\n"
     ]
    },
    {
     "name": "stdout",
     "output_type": "stream",
     "text": [
      "Web scrapping at : 51.024% which took 189 seconds to run.\n"
     ]
    },
    {
     "name": "stderr",
     "output_type": "stream",
     "text": [
      "DEBUG 2019-03-06 14:12:08,024 https://atlas.microsoft.com:443 \"GET /search/fuzzy/json?Content-Type=application%2Fjson&subscription-key=6j_USCas00Jqmpj2EFtKe18nLWPylj0gPTOLeBypt9U&api-version=1.0&query=FRANPRIX+LP+ST+FELIX%2C+France HTTP/1.1\" 200 5684\n",
      "DEBUG 2019-03-06 14:12:08,032 Starting new HTTPS connection (1): atlas.microsoft.com:443\n"
     ]
    },
    {
     "name": "stdout",
     "output_type": "stream",
     "text": [
      "Web scrapping at : 51.117% which took 190 seconds to run.\n"
     ]
    },
    {
     "name": "stderr",
     "output_type": "stream",
     "text": [
      "DEBUG 2019-03-06 14:12:08,402 https://atlas.microsoft.com:443 \"GET /search/fuzzy/json?Content-Type=application%2Fjson&subscription-key=6j_USCas00Jqmpj2EFtKe18nLWPylj0gPTOLeBypt9U&api-version=1.0&query=FRANPRIX+LP+JANVILLE%2C+France HTTP/1.1\" 200 6300\n",
      "DEBUG 2019-03-06 14:12:08,411 Starting new HTTPS connection (1): atlas.microsoft.com:443\n"
     ]
    },
    {
     "name": "stdout",
     "output_type": "stream",
     "text": [
      "Web scrapping at : 51.21% which took 190 seconds to run.\n"
     ]
    },
    {
     "name": "stderr",
     "output_type": "stream",
     "text": [
      "DEBUG 2019-03-06 14:12:08,748 https://atlas.microsoft.com:443 \"GET /search/fuzzy/json?Content-Type=application%2Fjson&subscription-key=6j_USCas00Jqmpj2EFtKe18nLWPylj0gPTOLeBypt9U&api-version=1.0&query=FRANPRIX+LP+HORNU+%2F%2F+BELGIQUE%2C+France HTTP/1.1\" 200 7820\n",
      "DEBUG 2019-03-06 14:12:08,757 Starting new HTTPS connection (1): atlas.microsoft.com:443\n"
     ]
    },
    {
     "name": "stdout",
     "output_type": "stream",
     "text": [
      "Web scrapping at : 51.304% which took 190 seconds to run.\n"
     ]
    },
    {
     "name": "stderr",
     "output_type": "stream",
     "text": [
      "DEBUG 2019-03-06 14:12:09,093 https://atlas.microsoft.com:443 \"GET /search/fuzzy/json?Content-Type=application%2Fjson&subscription-key=6j_USCas00Jqmpj2EFtKe18nLWPylj0gPTOLeBypt9U&api-version=1.0&query=FRANPRIX+LP+FRANCONVILLE+%40%2C+France HTTP/1.1\" 200 5148\n",
      "DEBUG 2019-03-06 14:12:09,102 Starting new HTTPS connection (1): atlas.microsoft.com:443\n"
     ]
    },
    {
     "name": "stdout",
     "output_type": "stream",
     "text": [
      "Web scrapping at : 51.397% which took 191 seconds to run.\n"
     ]
    },
    {
     "name": "stderr",
     "output_type": "stream",
     "text": [
      "DEBUG 2019-03-06 14:12:09,864 https://atlas.microsoft.com:443 \"GET /search/fuzzy/json?Content-Type=application%2Fjson&subscription-key=6j_USCas00Jqmpj2EFtKe18nLWPylj0gPTOLeBypt9U&api-version=1.0&query=FRANPRIX+LP%2F%2FCOSNES%2FLOIRE%24+COSNE+SUR+LOIRE%2C+France HTTP/1.1\" 200 8617\n",
      "DEBUG 2019-03-06 14:12:09,873 Starting new HTTPS connection (1): atlas.microsoft.com:443\n",
      "DEBUG 2019-03-06 14:12:09,962 https://atlas.microsoft.com:443 \"GET /search/fuzzy/json?Content-Type=application%2Fjson&subscription-key=6j_USCas00Jqmpj2EFtKe18nLWPylj0gPTOLeBypt9U&api-version=1.0&query=FRANPRIX+LP+L%27ARGENTIERE+L+ARGENTIERE%2C+France HTTP/1.1\" 200 5394\n",
      "DEBUG 2019-03-06 14:12:09,970 Starting new HTTPS connection (1): atlas.microsoft.com:443\n"
     ]
    },
    {
     "name": "stdout",
     "output_type": "stream",
     "text": [
      "Web scrapping at : 51.49% which took 191 seconds to run.\n",
      "Web scrapping at : 51.583% which took 191 seconds to run.\n"
     ]
    },
    {
     "name": "stderr",
     "output_type": "stream",
     "text": [
      "DEBUG 2019-03-06 14:12:10,679 https://atlas.microsoft.com:443 \"GET /search/fuzzy/json?Content-Type=application%2Fjson&subscription-key=6j_USCas00Jqmpj2EFtKe18nLWPylj0gPTOLeBypt9U&api-version=1.0&query=FRANPRIX+LP+ST+RAPHAEL+BD+CERCERON%2C+France HTTP/1.1\" 200 3097\n",
      "DEBUG 2019-03-06 14:12:10,687 Starting new HTTPS connection (1): atlas.microsoft.com:443\n"
     ]
    },
    {
     "name": "stdout",
     "output_type": "stream",
     "text": [
      "Web scrapping at : 51.676% which took 192 seconds to run.\n"
     ]
    },
    {
     "name": "stderr",
     "output_type": "stream",
     "text": [
      "DEBUG 2019-03-06 14:12:11,097 https://atlas.microsoft.com:443 \"GET /search/fuzzy/json?Content-Type=application%2Fjson&subscription-key=6j_USCas00Jqmpj2EFtKe18nLWPylj0gPTOLeBypt9U&api-version=1.0&query=FRANPRIX+ANTEP+MARKET+VILLEPINTE%2C+France HTTP/1.1\" 200 9462\n",
      "DEBUG 2019-03-06 14:12:11,106 Starting new HTTPS connection (1): atlas.microsoft.com:443\n"
     ]
    },
    {
     "name": "stdout",
     "output_type": "stream",
     "text": [
      "Web scrapping at : 51.769% which took 193 seconds to run.\n"
     ]
    },
    {
     "name": "stderr",
     "output_type": "stream",
     "text": [
      "DEBUG 2019-03-06 14:12:11,503 https://atlas.microsoft.com:443 \"GET /search/fuzzy/json?Content-Type=application%2Fjson&subscription-key=6j_USCas00Jqmpj2EFtKe18nLWPylj0gPTOLeBypt9U&api-version=1.0&query=FRANPRIX+LP+MOULINS+%2F%2FDISTRI+LOIRE%24%2C+France HTTP/1.1\" 200 5413\n",
      "DEBUG 2019-03-06 14:12:11,512 Starting new HTTPS connection (1): atlas.microsoft.com:443\n"
     ]
    },
    {
     "name": "stdout",
     "output_type": "stream",
     "text": [
      "Web scrapping at : 51.862% which took 193 seconds to run.\n"
     ]
    },
    {
     "name": "stderr",
     "output_type": "stream",
     "text": [
      "DEBUG 2019-03-06 14:12:11,819 https://atlas.microsoft.com:443 \"GET /search/fuzzy/json?Content-Type=application%2Fjson&subscription-key=6j_USCas00Jqmpj2EFtKe18nLWPylj0gPTOLeBypt9U&api-version=1.0&query=FRANPRIX+LP+BELLEVILLE%2C+France HTTP/1.1\" 200 5749\n",
      "DEBUG 2019-03-06 14:12:11,828 Starting new HTTPS connection (1): atlas.microsoft.com:443\n"
     ]
    },
    {
     "name": "stdout",
     "output_type": "stream",
     "text": [
      "Web scrapping at : 51.955% which took 193 seconds to run.\n"
     ]
    },
    {
     "name": "stderr",
     "output_type": "stream",
     "text": [
      "DEBUG 2019-03-06 14:12:12,230 https://atlas.microsoft.com:443 \"GET /search/fuzzy/json?Content-Type=application%2Fjson&subscription-key=6j_USCas00Jqmpj2EFtKe18nLWPylj0gPTOLeBypt9U&api-version=1.0&query=FRANPRIX+RT+TROPICAL+MONTREUIL%2C+France HTTP/1.1\" 200 8438\n",
      "DEBUG 2019-03-06 14:12:12,242 Starting new HTTPS connection (1): atlas.microsoft.com:443\n",
      "DEBUG 2019-03-06 14:12:12,352 https://atlas.microsoft.com:443 \"GET /search/fuzzy/json?Content-Type=application%2Fjson&subscription-key=6j_USCas00Jqmpj2EFtKe18nLWPylj0gPTOLeBypt9U&api-version=1.0&query=FRANPRIX+LP+CHATEAUBOURG%2C+France HTTP/1.1\" 200 4849\n",
      "DEBUG 2019-03-06 14:12:12,361 Starting new HTTPS connection (1): atlas.microsoft.com:443\n"
     ]
    },
    {
     "name": "stdout",
     "output_type": "stream",
     "text": [
      "Web scrapping at : 52.048% which took 194 seconds to run.\n",
      "Web scrapping at : 52.142% which took 194 seconds to run.\n"
     ]
    },
    {
     "name": "stderr",
     "output_type": "stream",
     "text": [
      "DEBUG 2019-03-06 14:12:12,739 https://atlas.microsoft.com:443 \"GET /search/fuzzy/json?Content-Type=application%2Fjson&subscription-key=6j_USCas00Jqmpj2EFtKe18nLWPylj0gPTOLeBypt9U&api-version=1.0&query=FRANPRIX+LP+HALLOY%2C+France HTTP/1.1\" 200 5517\n",
      "DEBUG 2019-03-06 14:12:12,748 Starting new HTTPS connection (1): atlas.microsoft.com:443\n"
     ]
    },
    {
     "name": "stdout",
     "output_type": "stream",
     "text": [
      "Web scrapping at : 52.235% which took 194 seconds to run.\n"
     ]
    },
    {
     "name": "stderr",
     "output_type": "stream",
     "text": [
      "DEBUG 2019-03-06 14:12:13,153 https://atlas.microsoft.com:443 \"GET /search/fuzzy/json?Content-Type=application%2Fjson&subscription-key=6j_USCas00Jqmpj2EFtKe18nLWPylj0gPTOLeBypt9U&api-version=1.0&query=FRANPRIX+LP+MERIGNAC%2C+France HTTP/1.1\" 200 5769\n",
      "DEBUG 2019-03-06 14:12:13,162 Starting new HTTPS connection (1): atlas.microsoft.com:443\n"
     ]
    },
    {
     "name": "stdout",
     "output_type": "stream",
     "text": [
      "Web scrapping at : 52.328% which took 195 seconds to run.\n"
     ]
    },
    {
     "name": "stderr",
     "output_type": "stream",
     "text": [
      "DEBUG 2019-03-06 14:12:14,314 https://atlas.microsoft.com:443 \"GET /search/fuzzy/json?Content-Type=application%2Fjson&subscription-key=6j_USCas00Jqmpj2EFtKe18nLWPylj0gPTOLeBypt9U&api-version=1.0&query=FRANPRIX+LP+DADB+BELGIQUE%2F%2FCHARLEROI+BELGIQUE+SUR+CHARLEROI%2C+France HTTP/1.1\" 200 9865\n",
      "DEBUG 2019-03-06 14:12:14,324 Starting new HTTPS connection (1): atlas.microsoft.com:443\n"
     ]
    },
    {
     "name": "stdout",
     "output_type": "stream",
     "text": [
      "Web scrapping at : 52.421% which took 196 seconds to run.\n"
     ]
    },
    {
     "name": "stderr",
     "output_type": "stream",
     "text": [
      "DEBUG 2019-03-06 14:12:14,712 https://atlas.microsoft.com:443 \"GET /search/fuzzy/json?Content-Type=application%2Fjson&subscription-key=6j_USCas00Jqmpj2EFtKe18nLWPylj0gPTOLeBypt9U&api-version=1.0&query=FRANPRIX+LP+ST+NAZAIRE%2C+France HTTP/1.1\" 200 6162\n",
      "DEBUG 2019-03-06 14:12:14,721 Starting new HTTPS connection (1): atlas.microsoft.com:443\n"
     ]
    },
    {
     "name": "stdout",
     "output_type": "stream",
     "text": [
      "Web scrapping at : 52.514% which took 196 seconds to run.\n"
     ]
    },
    {
     "name": "stderr",
     "output_type": "stream",
     "text": [
      "DEBUG 2019-03-06 14:12:15,054 https://atlas.microsoft.com:443 \"GET /search/fuzzy/json?Content-Type=application%2Fjson&subscription-key=6j_USCas00Jqmpj2EFtKe18nLWPylj0gPTOLeBypt9U&api-version=1.0&query=FRANPRIX+LP+ST+BENOIT%2C+France HTTP/1.1\" 200 5167\n",
      "DEBUG 2019-03-06 14:12:15,063 Starting new HTTPS connection (1): atlas.microsoft.com:443\n"
     ]
    },
    {
     "name": "stdout",
     "output_type": "stream",
     "text": [
      "Web scrapping at : 52.607% which took 197 seconds to run.\n"
     ]
    },
    {
     "name": "stderr",
     "output_type": "stream",
     "text": [
      "DEBUG 2019-03-06 14:12:15,431 https://atlas.microsoft.com:443 \"GET /search/fuzzy/json?Content-Type=application%2Fjson&subscription-key=6j_USCas00Jqmpj2EFtKe18nLWPylj0gPTOLeBypt9U&api-version=1.0&query=FRANPRIX+LP+LAVAL%2C+France HTTP/1.1\" 200 5152\n",
      "DEBUG 2019-03-06 14:12:15,439 Starting new HTTPS connection (1): atlas.microsoft.com:443\n"
     ]
    },
    {
     "name": "stdout",
     "output_type": "stream",
     "text": [
      "Web scrapping at : 52.7% which took 197 seconds to run.\n"
     ]
    },
    {
     "name": "stderr",
     "output_type": "stream",
     "text": [
      "DEBUG 2019-03-06 14:12:15,742 https://atlas.microsoft.com:443 \"GET /search/fuzzy/json?Content-Type=application%2Fjson&subscription-key=6j_USCas00Jqmpj2EFtKe18nLWPylj0gPTOLeBypt9U&api-version=1.0&query=FRANPRIX+LP+ACHERES%2C+France HTTP/1.1\" 200 6058\n",
      "DEBUG 2019-03-06 14:12:15,754 Starting new HTTPS connection (1): atlas.microsoft.com:443\n"
     ]
    },
    {
     "name": "stdout",
     "output_type": "stream",
     "text": [
      "Web scrapping at : 52.793% which took 197 seconds to run.\n"
     ]
    },
    {
     "name": "stderr",
     "output_type": "stream",
     "text": [
      "DEBUG 2019-03-06 14:12:16,152 https://atlas.microsoft.com:443 \"GET /search/fuzzy/json?Content-Type=application%2Fjson&subscription-key=6j_USCas00Jqmpj2EFtKe18nLWPylj0gPTOLeBypt9U&api-version=1.0&query=FRANPRIX+LP+VERDUN+%24%2C+France HTTP/1.1\" 200 5127\n",
      "DEBUG 2019-03-06 14:12:16,161 Starting new HTTPS connection (1): atlas.microsoft.com:443\n"
     ]
    },
    {
     "name": "stdout",
     "output_type": "stream",
     "text": [
      "Web scrapping at : 52.886% which took 198 seconds to run.\n"
     ]
    },
    {
     "name": "stderr",
     "output_type": "stream",
     "text": [
      "DEBUG 2019-03-06 14:12:16,742 https://atlas.microsoft.com:443 \"GET /search/fuzzy/json?Content-Type=application%2Fjson&subscription-key=6j_USCas00Jqmpj2EFtKe18nLWPylj0gPTOLeBypt9U&api-version=1.0&query=FRANPRIX+LP+ST+DENIS+LES+SENS%2C+France HTTP/1.1\" 200 6602\n",
      "DEBUG 2019-03-06 14:12:16,753 Starting new HTTPS connection (1): atlas.microsoft.com:443\n"
     ]
    },
    {
     "name": "stdout",
     "output_type": "stream",
     "text": [
      "Web scrapping at : 52.98% which took 198 seconds to run.\n"
     ]
    },
    {
     "name": "stderr",
     "output_type": "stream",
     "text": [
      "DEBUG 2019-03-06 14:12:17,048 https://atlas.microsoft.com:443 \"GET /search/fuzzy/json?Content-Type=application%2Fjson&subscription-key=6j_USCas00Jqmpj2EFtKe18nLWPylj0gPTOLeBypt9U&api-version=1.0&query=FRANPRIX+LP+MIRAMBEAU%2C+France HTTP/1.1\" 200 5655\n",
      "DEBUG 2019-03-06 14:12:17,057 Starting new HTTPS connection (1): atlas.microsoft.com:443\n"
     ]
    },
    {
     "name": "stdout",
     "output_type": "stream",
     "text": [
      "Web scrapping at : 53.073% which took 199 seconds to run.\n"
     ]
    },
    {
     "name": "stderr",
     "output_type": "stream",
     "text": [
      "DEBUG 2019-03-06 14:12:17,548 https://atlas.microsoft.com:443 \"GET /search/fuzzy/json?Content-Type=application%2Fjson&subscription-key=6j_USCas00Jqmpj2EFtKe18nLWPylj0gPTOLeBypt9U&api-version=1.0&query=FRANPRIX+LP+BRETEUIL+SUR+ITON%2C+France HTTP/1.1\" 200 9276\n",
      "DEBUG 2019-03-06 14:12:17,556 Starting new HTTPS connection (1): atlas.microsoft.com:443\n"
     ]
    },
    {
     "name": "stdout",
     "output_type": "stream",
     "text": [
      "Web scrapping at : 53.166% which took 199 seconds to run.\n"
     ]
    },
    {
     "name": "stderr",
     "output_type": "stream",
     "text": [
      "DEBUG 2019-03-06 14:12:17,937 https://atlas.microsoft.com:443 \"GET /search/fuzzy/json?Content-Type=application%2Fjson&subscription-key=6j_USCas00Jqmpj2EFtKe18nLWPylj0gPTOLeBypt9U&api-version=1.0&query=FRANPRIX+LP+CHELLES+2%2C+France HTTP/1.1\" 200 7107\n",
      "DEBUG 2019-03-06 14:12:17,950 Starting new HTTPS connection (1): atlas.microsoft.com:443\n"
     ]
    },
    {
     "name": "stdout",
     "output_type": "stream",
     "text": [
      "Web scrapping at : 53.259% which took 199 seconds to run.\n"
     ]
    },
    {
     "name": "stderr",
     "output_type": "stream",
     "text": [
      "DEBUG 2019-03-06 14:12:18,360 https://atlas.microsoft.com:443 \"GET /search/fuzzy/json?Content-Type=application%2Fjson&subscription-key=6j_USCas00Jqmpj2EFtKe18nLWPylj0gPTOLeBypt9U&api-version=1.0&query=FRANPRIX+LP+FLEURUS%2C+France HTTP/1.1\" 200 5748\n",
      "DEBUG 2019-03-06 14:12:18,368 Starting new HTTPS connection (1): atlas.microsoft.com:443\n"
     ]
    },
    {
     "name": "stdout",
     "output_type": "stream",
     "text": [
      "Web scrapping at : 53.352% which took 200 seconds to run.\n"
     ]
    },
    {
     "name": "stderr",
     "output_type": "stream",
     "text": [
      "DEBUG 2019-03-06 14:12:18,736 https://atlas.microsoft.com:443 \"GET /search/fuzzy/json?Content-Type=application%2Fjson&subscription-key=6j_USCas00Jqmpj2EFtKe18nLWPylj0gPTOLeBypt9U&api-version=1.0&query=FRANPRIX+LP+MELLE%2C+France HTTP/1.1\" 200 5568\n",
      "DEBUG 2019-03-06 14:12:18,744 Starting new HTTPS connection (1): atlas.microsoft.com:443\n"
     ]
    },
    {
     "name": "stdout",
     "output_type": "stream",
     "text": [
      "Web scrapping at : 53.445% which took 200 seconds to run.\n"
     ]
    },
    {
     "name": "stderr",
     "output_type": "stream",
     "text": [
      "DEBUG 2019-03-06 14:12:19,058 https://atlas.microsoft.com:443 \"GET /search/fuzzy/json?Content-Type=application%2Fjson&subscription-key=6j_USCas00Jqmpj2EFtKe18nLWPylj0gPTOLeBypt9U&api-version=1.0&query=FRANPRIX+LP+HERSTAL%2C+France HTTP/1.1\" 200 8033\n",
      "DEBUG 2019-03-06 14:12:19,067 Starting new HTTPS connection (1): atlas.microsoft.com:443\n"
     ]
    },
    {
     "name": "stdout",
     "output_type": "stream",
     "text": [
      "Web scrapping at : 53.538% which took 201 seconds to run.\n"
     ]
    },
    {
     "name": "stderr",
     "output_type": "stream",
     "text": [
      "DEBUG 2019-03-06 14:12:19,429 https://atlas.microsoft.com:443 \"GET /search/fuzzy/json?Content-Type=application%2Fjson&subscription-key=6j_USCas00Jqmpj2EFtKe18nLWPylj0gPTOLeBypt9U&api-version=1.0&query=FRANPRIX+LP+BLANC+MESNIL+%2F%2F+%40%2C+France HTTP/1.1\" 200 6566\n",
      "DEBUG 2019-03-06 14:12:19,438 Starting new HTTPS connection (1): atlas.microsoft.com:443\n"
     ]
    },
    {
     "name": "stdout",
     "output_type": "stream",
     "text": [
      "Web scrapping at : 53.631% which took 201 seconds to run.\n"
     ]
    },
    {
     "name": "stderr",
     "output_type": "stream",
     "text": [
      "DEBUG 2019-03-06 14:12:19,767 https://atlas.microsoft.com:443 \"GET /search/fuzzy/json?Content-Type=application%2Fjson&subscription-key=6j_USCas00Jqmpj2EFtKe18nLWPylj0gPTOLeBypt9U&api-version=1.0&query=FRANPRIX+LP+FALAISE+%24%2C+France HTTP/1.1\" 200 5960\n",
      "DEBUG 2019-03-06 14:12:19,776 Starting new HTTPS connection (1): atlas.microsoft.com:443\n"
     ]
    },
    {
     "name": "stdout",
     "output_type": "stream",
     "text": [
      "Web scrapping at : 53.724% which took 201 seconds to run.\n"
     ]
    },
    {
     "name": "stderr",
     "output_type": "stream",
     "text": [
      "DEBUG 2019-03-06 14:12:21,004 https://atlas.microsoft.com:443 \"GET /search/fuzzy/json?Content-Type=application%2Fjson&subscription-key=6j_USCas00Jqmpj2EFtKe18nLWPylj0gPTOLeBypt9U&api-version=1.0&query=FRANPRIX+LP+SAINT+DENIS+ST%2C+France HTTP/1.1\" 200 5353\n",
      "DEBUG 2019-03-06 14:12:21,013 Starting new HTTPS connection (1): atlas.microsoft.com:443\n"
     ]
    },
    {
     "name": "stdout",
     "output_type": "stream",
     "text": [
      "Web scrapping at : 53.818% which took 202 seconds to run.\n"
     ]
    },
    {
     "name": "stderr",
     "output_type": "stream",
     "text": [
      "DEBUG 2019-03-06 14:12:21,338 https://atlas.microsoft.com:443 \"GET /search/fuzzy/json?Content-Type=application%2Fjson&subscription-key=6j_USCas00Jqmpj2EFtKe18nLWPylj0gPTOLeBypt9U&api-version=1.0&query=FRANPRIX+LP+BINCHE+BELGIQUE%2C+France HTTP/1.1\" 200 8881\n",
      "DEBUG 2019-03-06 14:12:21,347 Starting new HTTPS connection (1): atlas.microsoft.com:443\n"
     ]
    },
    {
     "name": "stdout",
     "output_type": "stream",
     "text": [
      "Web scrapping at : 53.911% which took 203 seconds to run.\n"
     ]
    },
    {
     "name": "stderr",
     "output_type": "stream",
     "text": [
      "DEBUG 2019-03-06 14:12:21,673 https://atlas.microsoft.com:443 \"GET /search/fuzzy/json?Content-Type=application%2Fjson&subscription-key=6j_USCas00Jqmpj2EFtKe18nLWPylj0gPTOLeBypt9U&api-version=1.0&query=FRANPRIX+LP+TIHANGE+THIANGE%2C+France HTTP/1.1\" 200 4373\n",
      "DEBUG 2019-03-06 14:12:21,681 Starting new HTTPS connection (1): atlas.microsoft.com:443\n"
     ]
    },
    {
     "name": "stdout",
     "output_type": "stream",
     "text": [
      "Web scrapping at : 54.004% which took 203 seconds to run.\n"
     ]
    },
    {
     "name": "stderr",
     "output_type": "stream",
     "text": [
      "DEBUG 2019-03-06 14:12:21,985 https://atlas.microsoft.com:443 \"GET /search/fuzzy/json?Content-Type=application%2Fjson&subscription-key=6j_USCas00Jqmpj2EFtKe18nLWPylj0gPTOLeBypt9U&api-version=1.0&query=FRANPRIX+LP+COURCELLES%2C+France HTTP/1.1\" 200 5371\n",
      "DEBUG 2019-03-06 14:12:21,994 Starting new HTTPS connection (1): atlas.microsoft.com:443\n"
     ]
    },
    {
     "name": "stdout",
     "output_type": "stream",
     "text": [
      "Web scrapping at : 54.097% which took 203 seconds to run.\n"
     ]
    },
    {
     "name": "stderr",
     "output_type": "stream",
     "text": [
      "DEBUG 2019-03-06 14:12:22,439 https://atlas.microsoft.com:443 \"GET /search/fuzzy/json?Content-Type=application%2Fjson&subscription-key=6j_USCas00Jqmpj2EFtKe18nLWPylj0gPTOLeBypt9U&api-version=1.0&query=FRANPRIX+LP+GRACE+HOLLOGNE%2C+France HTTP/1.1\" 200 7505\n",
      "DEBUG 2019-03-06 14:12:22,448 Starting new HTTPS connection (1): atlas.microsoft.com:443\n"
     ]
    },
    {
     "name": "stdout",
     "output_type": "stream",
     "text": [
      "Web scrapping at : 54.19% which took 204 seconds to run.\n"
     ]
    },
    {
     "name": "stderr",
     "output_type": "stream",
     "text": [
      "DEBUG 2019-03-06 14:12:22,947 https://atlas.microsoft.com:443 \"GET /search/fuzzy/json?Content-Type=application%2Fjson&subscription-key=6j_USCas00Jqmpj2EFtKe18nLWPylj0gPTOLeBypt9U&api-version=1.0&query=FRANPRIX+SOCODIS+-+DEUIL+LA+BARRE+SUR%2C+France HTTP/1.1\" 200 5374\n",
      "DEBUG 2019-03-06 14:12:22,956 Starting new HTTPS connection (1): atlas.microsoft.com:443\n"
     ]
    },
    {
     "name": "stdout",
     "output_type": "stream",
     "text": [
      "Web scrapping at : 54.283% which took 204 seconds to run.\n"
     ]
    },
    {
     "name": "stderr",
     "output_type": "stream",
     "text": [
      "DEBUG 2019-03-06 14:12:23,393 https://atlas.microsoft.com:443 \"GET /search/fuzzy/json?Content-Type=application%2Fjson&subscription-key=6j_USCas00Jqmpj2EFtKe18nLWPylj0gPTOLeBypt9U&api-version=1.0&query=FRANPRIX+3BKM+TORCY%2C+France HTTP/1.1\" 200 6841\n",
      "DEBUG 2019-03-06 14:12:23,401 Starting new HTTPS connection (1): atlas.microsoft.com:443\n"
     ]
    },
    {
     "name": "stdout",
     "output_type": "stream",
     "text": [
      "Web scrapping at : 54.376% which took 205 seconds to run.\n"
     ]
    },
    {
     "name": "stderr",
     "output_type": "stream",
     "text": [
      "DEBUG 2019-03-06 14:12:23,987 https://atlas.microsoft.com:443 \"GET /search/fuzzy/json?Content-Type=application%2Fjson&subscription-key=6j_USCas00Jqmpj2EFtKe18nLWPylj0gPTOLeBypt9U&api-version=1.0&query=GEANT+-+CASINO+ST+CHAMOND+LOUIS+COMTE+CHAMONOTRE+DAME%2C+France HTTP/1.1\" 200 7160\n",
      "DEBUG 2019-03-06 14:12:23,995 Starting new HTTPS connection (1): atlas.microsoft.com:443\n",
      "DEBUG 2019-03-06 14:12:24,081 https://atlas.microsoft.com:443 \"GET /search/fuzzy/json?Content-Type=application%2Fjson&subscription-key=6j_USCas00Jqmpj2EFtKe18nLWPylj0gPTOLeBypt9U&api-version=1.0&query=GEANT+-+CASINO+PS+BEAUREPAIRE%2C+France HTTP/1.1\" 200 8039\n",
      "DEBUG 2019-03-06 14:12:24,089 Starting new HTTPS connection (1): atlas.microsoft.com:443\n"
     ]
    },
    {
     "name": "stdout",
     "output_type": "stream",
     "text": [
      "Web scrapping at : 54.469% which took 205 seconds to run.\n",
      "Web scrapping at : 54.562% which took 206 seconds to run.\n"
     ]
    },
    {
     "name": "stderr",
     "output_type": "stream",
     "text": [
      "DEBUG 2019-03-06 14:12:24,629 https://atlas.microsoft.com:443 \"GET /search/fuzzy/json?Content-Type=application%2Fjson&subscription-key=6j_USCas00Jqmpj2EFtKe18nLWPylj0gPTOLeBypt9U&api-version=1.0&query=GEANT+-+CASINO+PS+VILLARS%2C+France HTTP/1.1\" 200 8037\n",
      "DEBUG 2019-03-06 14:12:24,637 Starting new HTTPS connection (1): atlas.microsoft.com:443\n",
      "DEBUG 2019-03-06 14:12:24,722 https://atlas.microsoft.com:443 \"GET /search/fuzzy/json?Content-Type=application%2Fjson&subscription-key=6j_USCas00Jqmpj2EFtKe18nLWPylj0gPTOLeBypt9U&api-version=1.0&query=GEANT+-+CASINO+ANDREZIEUX+FOREZ%2C+France HTTP/1.1\" 200 8041\n",
      "DEBUG 2019-03-06 14:12:24,730 Starting new HTTPS connection (1): atlas.microsoft.com:443\n",
      "DEBUG 2019-03-06 14:12:24,813 https://atlas.microsoft.com:443 \"GET /search/fuzzy/json?Content-Type=application%2Fjson&subscription-key=6j_USCas00Jqmpj2EFtKe18nLWPylj0gPTOLeBypt9U&api-version=1.0&query=GEANT+-+CASINO+PS+MONTFAUCON%2C+France HTTP/1.1\" 200 8038\n",
      "DEBUG 2019-03-06 14:12:24,821 Starting new HTTPS connection (1): atlas.microsoft.com:443\n"
     ]
    },
    {
     "name": "stdout",
     "output_type": "stream",
     "text": [
      "Web scrapping at : 54.655% which took 206 seconds to run.\n",
      "Web scrapping at : 54.749% which took 206 seconds to run.\n",
      "Web scrapping at : 54.842% which took 206 seconds to run.\n"
     ]
    },
    {
     "name": "stderr",
     "output_type": "stream",
     "text": [
      "DEBUG 2019-03-06 14:12:25,628 https://atlas.microsoft.com:443 \"GET /search/fuzzy/json?Content-Type=application%2Fjson&subscription-key=6j_USCas00Jqmpj2EFtKe18nLWPylj0gPTOLeBypt9U&api-version=1.0&query=GEANT+-+CASINO+ROSIERES+GRANDE+RUE%2C+France HTTP/1.1\" 200 9261\n",
      "DEBUG 2019-03-06 14:12:25,636 Starting new HTTPS connection (1): atlas.microsoft.com:443\n",
      "DEBUG 2019-03-06 14:12:25,722 https://atlas.microsoft.com:443 \"GET /search/fuzzy/json?Content-Type=application%2Fjson&subscription-key=6j_USCas00Jqmpj2EFtKe18nLWPylj0gPTOLeBypt9U&api-version=1.0&query=GEANT+-+CASINO+LPE+LE+PUY+RUE+ST+GILLES%2C+France HTTP/1.1\" 200 8800\n",
      "DEBUG 2019-03-06 14:12:25,730 Starting new HTTPS connection (1): atlas.microsoft.com:443\n"
     ]
    },
    {
     "name": "stdout",
     "output_type": "stream",
     "text": [
      "Web scrapping at : 54.935% which took 207 seconds to run.\n",
      "Web scrapping at : 55.028% which took 207 seconds to run.\n"
     ]
    },
    {
     "name": "stderr",
     "output_type": "stream",
     "text": [
      "DEBUG 2019-03-06 14:12:26,194 https://atlas.microsoft.com:443 \"GET /search/fuzzy/json?Content-Type=application%2Fjson&subscription-key=6j_USCas00Jqmpj2EFtKe18nLWPylj0gPTOLeBypt9U&api-version=1.0&query=GEANT+-+CASINO+LPE+ST+NAZAIRE+JAURES%2C+France HTTP/1.1\" 200 7787\n",
      "DEBUG 2019-03-06 14:12:26,202 Starting new HTTPS connection (1): atlas.microsoft.com:443\n"
     ]
    },
    {
     "name": "stdout",
     "output_type": "stream",
     "text": [
      "Web scrapping at : 55.121% which took 208 seconds to run.\n"
     ]
    },
    {
     "name": "stderr",
     "output_type": "stream",
     "text": [
      "DEBUG 2019-03-06 14:12:26,727 https://atlas.microsoft.com:443 \"GET /search/fuzzy/json?Content-Type=application%2Fjson&subscription-key=6j_USCas00Jqmpj2EFtKe18nLWPylj0gPTOLeBypt9U&api-version=1.0&query=GEANT+-+CASINO+PS+ST+BEAUZIRE%2C+France HTTP/1.1\" 200 9054\n",
      "DEBUG 2019-03-06 14:12:26,736 Starting new HTTPS connection (1): atlas.microsoft.com:443\n"
     ]
    },
    {
     "name": "stdout",
     "output_type": "stream",
     "text": [
      "Web scrapping at : 55.214% which took 208 seconds to run.\n"
     ]
    },
    {
     "name": "stderr",
     "output_type": "stream",
     "text": [
      "DEBUG 2019-03-06 14:12:27,090 https://atlas.microsoft.com:443 \"GET /search/fuzzy/json?Content-Type=application%2Fjson&subscription-key=6j_USCas00Jqmpj2EFtKe18nLWPylj0gPTOLeBypt9U&api-version=1.0&query=GEANT+-+CASINO+PS+MARMAGNE%2C+France HTTP/1.1\" 200 8038\n",
      "DEBUG 2019-03-06 14:12:27,099 Starting new HTTPS connection (1): atlas.microsoft.com:443\n"
     ]
    },
    {
     "name": "stdout",
     "output_type": "stream",
     "text": [
      "Web scrapping at : 55.307% which took 209 seconds to run.\n"
     ]
    },
    {
     "name": "stderr",
     "output_type": "stream",
     "text": [
      "DEBUG 2019-03-06 14:12:27,473 https://atlas.microsoft.com:443 \"GET /search/fuzzy/json?Content-Type=application%2Fjson&subscription-key=6j_USCas00Jqmpj2EFtKe18nLWPylj0gPTOLeBypt9U&api-version=1.0&query=GEANT+-+CASINO+PS+AIGUEPERSE%2C+France HTTP/1.1\" 200 8040\n",
      "DEBUG 2019-03-06 14:12:27,481 Starting new HTTPS connection (1): atlas.microsoft.com:443\n"
     ]
    },
    {
     "name": "stdout",
     "output_type": "stream",
     "text": [
      "Web scrapping at : 55.4% which took 209 seconds to run.\n"
     ]
    },
    {
     "name": "stderr",
     "output_type": "stream",
     "text": [
      "DEBUG 2019-03-06 14:12:28,020 https://atlas.microsoft.com:443 \"GET /search/fuzzy/json?Content-Type=application%2Fjson&subscription-key=6j_USCas00Jqmpj2EFtKe18nLWPylj0gPTOLeBypt9U&api-version=1.0&query=GEANT+-+CASINO+MOULINS+RUE+COUTELIERS%2C+France HTTP/1.1\" 200 8847\n",
      "DEBUG 2019-03-06 14:12:28,029 Starting new HTTPS connection (1): atlas.microsoft.com:443\n"
     ]
    },
    {
     "name": "stdout",
     "output_type": "stream",
     "text": [
      "Web scrapping at : 55.493% which took 210 seconds to run.\n"
     ]
    },
    {
     "name": "stderr",
     "output_type": "stream",
     "text": [
      "DEBUG 2019-03-06 14:12:28,477 https://atlas.microsoft.com:443 \"GET /search/fuzzy/json?Content-Type=application%2Fjson&subscription-key=6j_USCas00Jqmpj2EFtKe18nLWPylj0gPTOLeBypt9U&api-version=1.0&query=GEANT+-+CASINO+MOULINS+RUE+CERF+VOLANT%2C+France HTTP/1.1\" 200 4874\n",
      "DEBUG 2019-03-06 14:12:28,486 Starting new HTTPS connection (1): atlas.microsoft.com:443\n"
     ]
    },
    {
     "name": "stdout",
     "output_type": "stream",
     "text": [
      "Web scrapping at : 55.587% which took 210 seconds to run.\n"
     ]
    },
    {
     "name": "stderr",
     "output_type": "stream",
     "text": [
      "DEBUG 2019-03-06 14:12:29,234 https://atlas.microsoft.com:443 \"GET /search/fuzzy/json?Content-Type=application%2Fjson&subscription-key=6j_USCas00Jqmpj2EFtKe18nLWPylj0gPTOLeBypt9U&api-version=1.0&query=GEANT+-+CASINO+MONTFERRAND+FONTAINE+MONTFERRANOTRE+DAME%2C+France HTTP/1.1\" 200 8947\n",
      "DEBUG 2019-03-06 14:12:29,243 Starting new HTTPS connection (1): atlas.microsoft.com:443\n"
     ]
    },
    {
     "name": "stdout",
     "output_type": "stream",
     "text": [
      "Web scrapping at : 55.68% which took 211 seconds to run.\n"
     ]
    },
    {
     "name": "stderr",
     "output_type": "stream",
     "text": [
      "DEBUG 2019-03-06 14:12:29,778 https://atlas.microsoft.com:443 \"GET /search/fuzzy/json?Content-Type=application%2Fjson&subscription-key=6j_USCas00Jqmpj2EFtKe18nLWPylj0gPTOLeBypt9U&api-version=1.0&query=GEANT+-+CASINO+CLERMONT+FD+PONCILLON+FERRANOTRE+DAME%2C+France HTTP/1.1\" 200 9257\n",
      "DEBUG 2019-03-06 14:12:29,788 Starting new HTTPS connection (1): atlas.microsoft.com:443\n"
     ]
    },
    {
     "name": "stdout",
     "output_type": "stream",
     "text": [
      "Web scrapping at : 55.773% which took 211 seconds to run.\n"
     ]
    },
    {
     "name": "stderr",
     "output_type": "stream",
     "text": [
      "DEBUG 2019-03-06 14:12:30,518 https://atlas.microsoft.com:443 \"GET /search/fuzzy/json?Content-Type=application%2Fjson&subscription-key=6j_USCas00Jqmpj2EFtKe18nLWPylj0gPTOLeBypt9U&api-version=1.0&query=GEANT+-+CASINO+LPE+LA+ROCHELLE+MINAGE+13%2C+France HTTP/1.1\" 200 8133\n",
      "DEBUG 2019-03-06 14:12:30,527 Starting new HTTPS connection (1): atlas.microsoft.com:443\n"
     ]
    },
    {
     "name": "stdout",
     "output_type": "stream",
     "text": [
      "Web scrapping at : 55.866% which took 212 seconds to run.\n"
     ]
    },
    {
     "name": "stderr",
     "output_type": "stream",
     "text": [
      "DEBUG 2019-03-06 14:12:31,195 https://atlas.microsoft.com:443 \"GET /search/fuzzy/json?Content-Type=application%2Fjson&subscription-key=6j_USCas00Jqmpj2EFtKe18nLWPylj0gPTOLeBypt9U&api-version=1.0&query=GEANT+-+CASINO+LPE+LA+ROCHELLE+MONNET+8%2C+France HTTP/1.1\" 200 8639\n",
      "DEBUG 2019-03-06 14:12:31,203 Starting new HTTPS connection (1): atlas.microsoft.com:443\n"
     ]
    },
    {
     "name": "stdout",
     "output_type": "stream",
     "text": [
      "Web scrapping at : 55.959% which took 213 seconds to run.\n"
     ]
    },
    {
     "name": "stderr",
     "output_type": "stream",
     "text": [
      "DEBUG 2019-03-06 14:12:31,594 https://atlas.microsoft.com:443 \"GET /search/fuzzy/json?Content-Type=application%2Fjson&subscription-key=6j_USCas00Jqmpj2EFtKe18nLWPylj0gPTOLeBypt9U&api-version=1.0&query=GEANT+-+CASINO+OLIVET+BELOT%2C+France HTTP/1.1\" 200 7971\n",
      "DEBUG 2019-03-06 14:12:31,602 Starting new HTTPS connection (1): atlas.microsoft.com:443\n"
     ]
    },
    {
     "name": "stdout",
     "output_type": "stream",
     "text": [
      "Web scrapping at : 56.052% which took 213 seconds to run.\n"
     ]
    },
    {
     "name": "stderr",
     "output_type": "stream",
     "text": [
      "DEBUG 2019-03-06 14:12:32,294 https://atlas.microsoft.com:443 \"GET /search/fuzzy/json?Content-Type=application%2Fjson&subscription-key=6j_USCas00Jqmpj2EFtKe18nLWPylj0gPTOLeBypt9U&api-version=1.0&query=GEANT+-+CASINO+PS+MONTREUIL+47+BD+JEANNE+D%27ARC%2C+France HTTP/1.1\" 200 8193\n",
      "DEBUG 2019-03-06 14:12:32,303 Starting new HTTPS connection (1): atlas.microsoft.com:443\n"
     ]
    },
    {
     "name": "stdout",
     "output_type": "stream",
     "text": [
      "Web scrapping at : 56.145% which took 214 seconds to run.\n"
     ]
    },
    {
     "name": "stderr",
     "output_type": "stream",
     "text": [
      "DEBUG 2019-03-06 14:12:35,928 https://atlas.microsoft.com:443 \"GET /search/fuzzy/json?Content-Type=application%2Fjson&subscription-key=6j_USCas00Jqmpj2EFtKe18nLWPylj0gPTOLeBypt9U&api-version=1.0&query=GEANT+-+CASINO+PS+CHARLY%2C+France HTTP/1.1\" 200 8036\n",
      "DEBUG 2019-03-06 14:12:35,937 Starting new HTTPS connection (1): atlas.microsoft.com:443\n"
     ]
    },
    {
     "name": "stdout",
     "output_type": "stream",
     "text": [
      "Web scrapping at : 56.238% which took 217 seconds to run.\n"
     ]
    },
    {
     "name": "stderr",
     "output_type": "stream",
     "text": [
      "DEBUG 2019-03-06 14:12:36,289 https://atlas.microsoft.com:443 \"GET /search/fuzzy/json?Content-Type=application%2Fjson&subscription-key=6j_USCas00Jqmpj2EFtKe18nLWPylj0gPTOLeBypt9U&api-version=1.0&query=GEANT+-+CASINO+PS+CALUIRE+MONTESSUY%2C+France HTTP/1.1\" 200 8047\n",
      "DEBUG 2019-03-06 14:12:36,297 Starting new HTTPS connection (1): atlas.microsoft.com:443\n"
     ]
    },
    {
     "name": "stdout",
     "output_type": "stream",
     "text": [
      "Web scrapping at : 56.331% which took 218 seconds to run.\n"
     ]
    },
    {
     "name": "stderr",
     "output_type": "stream",
     "text": [
      "DEBUG 2019-03-06 14:12:36,811 https://atlas.microsoft.com:443 \"GET /search/fuzzy/json?Content-Type=application%2Fjson&subscription-key=6j_USCas00Jqmpj2EFtKe18nLWPylj0gPTOLeBypt9U&api-version=1.0&query=GEANT+-+CASINO+PS+LA+ROCHETTE+DAUMIER%2C+France HTTP/1.1\" 200 8705\n",
      "DEBUG 2019-03-06 14:12:36,820 Starting new HTTPS connection (1): atlas.microsoft.com:443\n",
      "DEBUG 2019-03-06 14:12:36,902 https://atlas.microsoft.com:443 \"GET /search/fuzzy/json?Content-Type=application%2Fjson&subscription-key=6j_USCas00Jqmpj2EFtKe18nLWPylj0gPTOLeBypt9U&api-version=1.0&query=GEANT+-+CASINO+LPE+FRESNES+AV.+8+MAI+1945%2C+France HTTP/1.1\" 200 6429\n",
      "DEBUG 2019-03-06 14:12:36,910 Starting new HTTPS connection (1): atlas.microsoft.com:443\n"
     ]
    },
    {
     "name": "stdout",
     "output_type": "stream",
     "text": [
      "Web scrapping at : 56.425% which took 218 seconds to run.\n",
      "Web scrapping at : 56.518% which took 218 seconds to run.\n"
     ]
    },
    {
     "name": "stderr",
     "output_type": "stream",
     "text": [
      "DEBUG 2019-03-06 14:12:37,419 https://atlas.microsoft.com:443 \"GET /search/fuzzy/json?Content-Type=application%2Fjson&subscription-key=6j_USCas00Jqmpj2EFtKe18nLWPylj0gPTOLeBypt9U&api-version=1.0&query=GEANT+-+CASINO+PS+RIVES+SUR+FURE%2C+France HTTP/1.1\" 200 9208\n",
      "DEBUG 2019-03-06 14:12:37,428 Starting new HTTPS connection (1): atlas.microsoft.com:443\n"
     ]
    },
    {
     "name": "stdout",
     "output_type": "stream",
     "text": [
      "Web scrapping at : 56.611% which took 219 seconds to run.\n"
     ]
    },
    {
     "name": "stderr",
     "output_type": "stream",
     "text": [
      "DEBUG 2019-03-06 14:12:37,928 https://atlas.microsoft.com:443 \"GET /search/fuzzy/json?Content-Type=application%2Fjson&subscription-key=6j_USCas00Jqmpj2EFtKe18nLWPylj0gPTOLeBypt9U&api-version=1.0&query=GEANT+-+CASINO+PS+ST+ANTOINE+RUE+GARAUD%2C+France HTTP/1.1\" 200 9176\n",
      "DEBUG 2019-03-06 14:12:37,936 Starting new HTTPS connection (1): atlas.microsoft.com:443\n"
     ]
    },
    {
     "name": "stdout",
     "output_type": "stream",
     "text": [
      "Web scrapping at : 56.704% which took 219 seconds to run.\n"
     ]
    },
    {
     "name": "stderr",
     "output_type": "stream",
     "text": [
      "DEBUG 2019-03-06 14:12:38,411 https://atlas.microsoft.com:443 \"GET /search/fuzzy/json?Content-Type=application%2Fjson&subscription-key=6j_USCas00Jqmpj2EFtKe18nLWPylj0gPTOLeBypt9U&api-version=1.0&query=GEANT+-+CASINO+PS+BEAUFORT+SUR+DORON%2C+France HTTP/1.1\" 200 9097\n",
      "DEBUG 2019-03-06 14:12:38,420 Starting new HTTPS connection (1): atlas.microsoft.com:443\n"
     ]
    },
    {
     "name": "stdout",
     "output_type": "stream",
     "text": [
      "Web scrapping at : 56.797% which took 220 seconds to run.\n"
     ]
    },
    {
     "name": "stderr",
     "output_type": "stream",
     "text": [
      "DEBUG 2019-03-06 14:12:38,829 https://atlas.microsoft.com:443 \"GET /search/fuzzy/json?Content-Type=application%2Fjson&subscription-key=6j_USCas00Jqmpj2EFtKe18nLWPylj0gPTOLeBypt9U&api-version=1.0&query=GEANT+-+CASINO+PS+CHAMONIX+RAVANEL%2C+France HTTP/1.1\" 200 8051\n",
      "DEBUG 2019-03-06 14:12:38,837 Starting new HTTPS connection (1): atlas.microsoft.com:443\n"
     ]
    },
    {
     "name": "stdout",
     "output_type": "stream",
     "text": [
      "Web scrapping at : 56.89% which took 220 seconds to run.\n"
     ]
    },
    {
     "name": "stderr",
     "output_type": "stream",
     "text": [
      "DEBUG 2019-03-06 14:12:39,224 https://atlas.microsoft.com:443 \"GET /search/fuzzy/json?Content-Type=application%2Fjson&subscription-key=6j_USCas00Jqmpj2EFtKe18nLWPylj0gPTOLeBypt9U&api-version=1.0&query=GEANT+-+CASINO+PS+VEYRIER+LA+TOURNETTE%2C+France HTTP/1.1\" 200 8067\n",
      "DEBUG 2019-03-06 14:12:39,232 Starting new HTTPS connection (1): atlas.microsoft.com:443\n"
     ]
    },
    {
     "name": "stdout",
     "output_type": "stream",
     "text": [
      "Web scrapping at : 56.983% which took 221 seconds to run.\n"
     ]
    },
    {
     "name": "stderr",
     "output_type": "stream",
     "text": [
      "DEBUG 2019-03-06 14:12:39,734 https://atlas.microsoft.com:443 \"GET /search/fuzzy/json?Content-Type=application%2Fjson&subscription-key=6j_USCas00Jqmpj2EFtKe18nLWPylj0gPTOLeBypt9U&api-version=1.0&query=GEANT+-+CASINO+LPE+BOURG+D+OISANS%2C+France HTTP/1.1\" 200 6873\n",
      "DEBUG 2019-03-06 14:12:39,743 Starting new HTTPS connection (1): atlas.microsoft.com:443\n"
     ]
    },
    {
     "name": "stdout",
     "output_type": "stream",
     "text": [
      "Web scrapping at : 57.076% which took 221 seconds to run.\n"
     ]
    },
    {
     "name": "stderr",
     "output_type": "stream",
     "text": [
      "DEBUG 2019-03-06 14:12:40,510 https://atlas.microsoft.com:443 \"GET /search/fuzzy/json?Content-Type=application%2Fjson&subscription-key=6j_USCas00Jqmpj2EFtKe18nLWPylj0gPTOLeBypt9U&api-version=1.0&query=GEANT+-+CASINO+PS+L+ALPE+D+HUEZ+AD%2C+France HTTP/1.1\" 200 8396\n",
      "DEBUG 2019-03-06 14:12:40,518 Starting new HTTPS connection (1): atlas.microsoft.com:443\n"
     ]
    },
    {
     "name": "stdout",
     "output_type": "stream",
     "text": [
      "Web scrapping at : 57.169% which took 222 seconds to run.\n"
     ]
    },
    {
     "name": "stderr",
     "output_type": "stream",
     "text": [
      "DEBUG 2019-03-06 14:12:41,112 https://atlas.microsoft.com:443 \"GET /search/fuzzy/json?Content-Type=application%2Fjson&subscription-key=6j_USCas00Jqmpj2EFtKe18nLWPylj0gPTOLeBypt9U&api-version=1.0&query=GEANT+-+CASINO+PS+LES+DEUX+ALPES+VENOSC%2C+France HTTP/1.1\" 200 6577\n",
      "DEBUG 2019-03-06 14:12:41,121 Starting new HTTPS connection (1): atlas.microsoft.com:443\n"
     ]
    },
    {
     "name": "stdout",
     "output_type": "stream",
     "text": [
      "Web scrapping at : 57.263% which took 223 seconds to run.\n"
     ]
    },
    {
     "name": "stderr",
     "output_type": "stream",
     "text": [
      "DEBUG 2019-03-06 14:12:41,689 https://atlas.microsoft.com:443 \"GET /search/fuzzy/json?Content-Type=application%2Fjson&subscription-key=6j_USCas00Jqmpj2EFtKe18nLWPylj0gPTOLeBypt9U&api-version=1.0&query=GEANT+-+CASINO+PS+ST+HILAIRE+DU+TOUVET%2C+France HTTP/1.1\" 200 6750\n",
      "DEBUG 2019-03-06 14:12:41,698 Starting new HTTPS connection (1): atlas.microsoft.com:443\n"
     ]
    },
    {
     "name": "stdout",
     "output_type": "stream",
     "text": [
      "Web scrapping at : 57.356% which took 223 seconds to run.\n"
     ]
    },
    {
     "name": "stderr",
     "output_type": "stream",
     "text": [
      "DEBUG 2019-03-06 14:12:42,105 https://atlas.microsoft.com:443 \"GET /search/fuzzy/json?Content-Type=application%2Fjson&subscription-key=6j_USCas00Jqmpj2EFtKe18nLWPylj0gPTOLeBypt9U&api-version=1.0&query=GEANT+-+CASINO+PS+VILLEMONBLE%2C+France HTTP/1.1\" 200 8041\n",
      "DEBUG 2019-03-06 14:12:42,113 Starting new HTTPS connection (1): atlas.microsoft.com:443\n"
     ]
    },
    {
     "name": "stdout",
     "output_type": "stream",
     "text": [
      "Web scrapping at : 57.449% which took 224 seconds to run.\n"
     ]
    },
    {
     "name": "stderr",
     "output_type": "stream",
     "text": [
      "DEBUG 2019-03-06 14:12:42,501 https://atlas.microsoft.com:443 \"GET /search/fuzzy/json?Content-Type=application%2Fjson&subscription-key=6j_USCas00Jqmpj2EFtKe18nLWPylj0gPTOLeBypt9U&api-version=1.0&query=GEANT+-+CASINO+PS+RUMILLY%2C+France HTTP/1.1\" 200 8037\n",
      "DEBUG 2019-03-06 14:12:42,509 Starting new HTTPS connection (1): atlas.microsoft.com:443\n"
     ]
    },
    {
     "name": "stdout",
     "output_type": "stream",
     "text": [
      "Web scrapping at : 57.542% which took 224 seconds to run.\n"
     ]
    },
    {
     "name": "stderr",
     "output_type": "stream",
     "text": [
      "DEBUG 2019-03-06 14:12:42,898 https://atlas.microsoft.com:443 \"GET /search/fuzzy/json?Content-Type=application%2Fjson&subscription-key=6j_USCas00Jqmpj2EFtKe18nLWPylj0gPTOLeBypt9U&api-version=1.0&query=GEANT+-+CASINO+THOIRY%2C+France HTTP/1.1\" 200 8034\n",
      "DEBUG 2019-03-06 14:12:42,907 Starting new HTTPS connection (1): atlas.microsoft.com:443\n"
     ]
    },
    {
     "name": "stdout",
     "output_type": "stream",
     "text": [
      "Web scrapping at : 57.635% which took 224 seconds to run.\n"
     ]
    },
    {
     "name": "stderr",
     "output_type": "stream",
     "text": [
      "DEBUG 2019-03-06 14:12:46,237 https://atlas.microsoft.com:443 \"GET /search/fuzzy/json?Content-Type=application%2Fjson&subscription-key=6j_USCas00Jqmpj2EFtKe18nLWPylj0gPTOLeBypt9U&api-version=1.0&query=GEANT+-+CASINO+BELLEGARDE+RUE+DE+LA+REPUBLIQUE%2C+France HTTP/1.1\" 200 7242\n",
      "DEBUG 2019-03-06 14:12:46,246 Starting new HTTPS connection (1): atlas.microsoft.com:443\n"
     ]
    },
    {
     "name": "stdout",
     "output_type": "stream",
     "text": [
      "Web scrapping at : 57.728% which took 228 seconds to run.\n"
     ]
    },
    {
     "name": "stderr",
     "output_type": "stream",
     "text": [
      "DEBUG 2019-03-06 14:12:46,830 https://atlas.microsoft.com:443 \"GET /search/fuzzy/json?Content-Type=application%2Fjson&subscription-key=6j_USCas00Jqmpj2EFtKe18nLWPylj0gPTOLeBypt9U&api-version=1.0&query=GEANT+-+CASINO+PS+LES+CARROZ+D+ARACHES%2C+France HTTP/1.1\" 200 8954\n",
      "DEBUG 2019-03-06 14:12:46,839 Starting new HTTPS connection (1): atlas.microsoft.com:443\n"
     ]
    },
    {
     "name": "stdout",
     "output_type": "stream",
     "text": [
      "Web scrapping at : 57.821% which took 228 seconds to run.\n"
     ]
    },
    {
     "name": "stderr",
     "output_type": "stream",
     "text": [
      "DEBUG 2019-03-06 14:12:47,274 https://atlas.microsoft.com:443 \"GET /search/fuzzy/json?Content-Type=application%2Fjson&subscription-key=6j_USCas00Jqmpj2EFtKe18nLWPylj0gPTOLeBypt9U&api-version=1.0&query=GEANT+-+CASINO+PS+CHAMONIX+CROZ%2C+France HTTP/1.1\" 200 8157\n",
      "DEBUG 2019-03-06 14:12:47,283 Starting new HTTPS connection (1): atlas.microsoft.com:443\n",
      "DEBUG 2019-03-06 14:12:47,371 https://atlas.microsoft.com:443 \"GET /search/fuzzy/json?Content-Type=application%2Fjson&subscription-key=6j_USCas00Jqmpj2EFtKe18nLWPylj0gPTOLeBypt9U&api-version=1.0&query=GEANT+-+CASINO+PS+BONNEVILLE+HOTEL+VILLE+II%2C+France HTTP/1.1\" 200 7979\n",
      "DEBUG 2019-03-06 14:12:47,379 Starting new HTTPS connection (1): atlas.microsoft.com:443\n"
     ]
    },
    {
     "name": "stdout",
     "output_type": "stream",
     "text": [
      "Web scrapping at : 57.914% which took 229 seconds to run.\n",
      "Web scrapping at : 58.007% which took 229 seconds to run.\n"
     ]
    },
    {
     "name": "stderr",
     "output_type": "stream",
     "text": [
      "DEBUG 2019-03-06 14:12:47,808 https://atlas.microsoft.com:443 \"GET /search/fuzzy/json?Content-Type=application%2Fjson&subscription-key=6j_USCas00Jqmpj2EFtKe18nLWPylj0gPTOLeBypt9U&api-version=1.0&query=GEANT+-+CASINO+PS+BEAUMONT+LE+CHABLE%2C+France HTTP/1.1\" 200 8639\n",
      "DEBUG 2019-03-06 14:12:47,817 Starting new HTTPS connection (1): atlas.microsoft.com:443\n"
     ]
    },
    {
     "name": "stdout",
     "output_type": "stream",
     "text": [
      "Web scrapping at : 58.101% which took 229 seconds to run.\n"
     ]
    },
    {
     "name": "stderr",
     "output_type": "stream",
     "text": [
      "DEBUG 2019-03-06 14:12:48,354 https://atlas.microsoft.com:443 \"GET /search/fuzzy/json?Content-Type=application%2Fjson&subscription-key=6j_USCas00Jqmpj2EFtKe18nLWPylj0gPTOLeBypt9U&api-version=1.0&query=GEANT+-+CASINO+PS+ALLAUCH+RUE+CHEVILLON+ALLAU%2C+France HTTP/1.1\" 200 8915\n",
      "DEBUG 2019-03-06 14:12:48,363 Starting new HTTPS connection (1): atlas.microsoft.com:443\n"
     ]
    },
    {
     "name": "stdout",
     "output_type": "stream",
     "text": [
      "Web scrapping at : 58.194% which took 230 seconds to run.\n"
     ]
    },
    {
     "name": "stderr",
     "output_type": "stream",
     "text": [
      "DEBUG 2019-03-06 14:12:48,959 https://atlas.microsoft.com:443 \"GET /search/fuzzy/json?Content-Type=application%2Fjson&subscription-key=6j_USCas00Jqmpj2EFtKe18nLWPylj0gPTOLeBypt9U&api-version=1.0&query=GEANT+-+CASINO+PS+ALLAUCH+LE+LOGIS+NEUF+ALLAU%2C+France HTTP/1.1\" 200 7497\n",
      "DEBUG 2019-03-06 14:12:48,968 Starting new HTTPS connection (1): atlas.microsoft.com:443\n"
     ]
    },
    {
     "name": "stdout",
     "output_type": "stream",
     "text": [
      "Web scrapping at : 58.287% which took 230 seconds to run.\n"
     ]
    },
    {
     "name": "stderr",
     "output_type": "stream",
     "text": [
      "DEBUG 2019-03-06 14:12:49,639 https://atlas.microsoft.com:443 \"GET /search/fuzzy/json?Content-Type=application%2Fjson&subscription-key=6j_USCas00Jqmpj2EFtKe18nLWPylj0gPTOLeBypt9U&api-version=1.0&query=GEANT+-+CASINO+PS+ALLAUCH+ROUTE+DES+4+SAISONS+ALLAU%2C+France HTTP/1.1\" 200 5520\n",
      "DEBUG 2019-03-06 14:12:49,647 Starting new HTTPS connection (1): atlas.microsoft.com:443\n"
     ]
    },
    {
     "name": "stdout",
     "output_type": "stream",
     "text": [
      "Web scrapping at : 58.38% which took 231 seconds to run.\n"
     ]
    },
    {
     "name": "stderr",
     "output_type": "stream",
     "text": [
      "DEBUG 2019-03-06 14:12:50,170 https://atlas.microsoft.com:443 \"GET /search/fuzzy/json?Content-Type=application%2Fjson&subscription-key=6j_USCas00Jqmpj2EFtKe18nLWPylj0gPTOLeBypt9U&api-version=1.0&query=GEANT+-+CASINO+PS+VERNOUILLET+DE+GAULLE%2C+France HTTP/1.1\" 200 9680\n",
      "DEBUG 2019-03-06 14:12:50,178 Starting new HTTPS connection (1): atlas.microsoft.com:443\n"
     ]
    },
    {
     "name": "stdout",
     "output_type": "stream",
     "text": [
      "Web scrapping at : 58.473% which took 232 seconds to run.\n"
     ]
    },
    {
     "name": "stderr",
     "output_type": "stream",
     "text": [
      "DEBUG 2019-03-06 14:12:50,805 https://atlas.microsoft.com:443 \"GET /search/fuzzy/json?Content-Type=application%2Fjson&subscription-key=6j_USCas00Jqmpj2EFtKe18nLWPylj0gPTOLeBypt9U&api-version=1.0&query=GEANT+-+CASINO+PS+NOZAY+LA+FUTAIE+ST+CLAIR%2C+France HTTP/1.1\" 200 15678\n",
      "DEBUG 2019-03-06 14:12:50,814 Starting new HTTPS connection (1): atlas.microsoft.com:443\n"
     ]
    },
    {
     "name": "stdout",
     "output_type": "stream",
     "text": [
      "Web scrapping at : 58.566% which took 232 seconds to run.\n"
     ]
    },
    {
     "name": "stderr",
     "output_type": "stream",
     "text": [
      "DEBUG 2019-03-06 14:12:51,590 https://atlas.microsoft.com:443 \"GET /search/fuzzy/json?Content-Type=application%2Fjson&subscription-key=6j_USCas00Jqmpj2EFtKe18nLWPylj0gPTOLeBypt9U&api-version=1.0&query=GEANT+-+CASINO+PS+BOIS+D%27ARCY+D+ARCY%2C+France HTTP/1.1\" 200 5776\n",
      "DEBUG 2019-03-06 14:12:51,599 Starting new HTTPS connection (1): atlas.microsoft.com:443\n"
     ]
    },
    {
     "name": "stdout",
     "output_type": "stream",
     "text": [
      "Web scrapping at : 58.659% which took 233 seconds to run.\n"
     ]
    },
    {
     "name": "stderr",
     "output_type": "stream",
     "text": [
      "DEBUG 2019-03-06 14:12:52,022 https://atlas.microsoft.com:443 \"GET /search/fuzzy/json?Content-Type=application%2Fjson&subscription-key=6j_USCas00Jqmpj2EFtKe18nLWPylj0gPTOLeBypt9U&api-version=1.0&query=GEANT+-+CASINO+PS+FRANCONVILLE+REPUBLIQUE%2C+France HTTP/1.1\" 200 8169\n",
      "DEBUG 2019-03-06 14:12:52,031 Starting new HTTPS connection (1): atlas.microsoft.com:443\n"
     ]
    },
    {
     "name": "stdout",
     "output_type": "stream",
     "text": [
      "Web scrapping at : 58.752% which took 234 seconds to run.\n"
     ]
    },
    {
     "name": "stderr",
     "output_type": "stream",
     "text": [
      "DEBUG 2019-03-06 14:12:52,455 https://atlas.microsoft.com:443 \"GET /search/fuzzy/json?Content-Type=application%2Fjson&subscription-key=6j_USCas00Jqmpj2EFtKe18nLWPylj0gPTOLeBypt9U&api-version=1.0&query=GEANT+-+CASINO+PS+BRETEUIL+SUR+NOYE%2C+France HTTP/1.1\" 200 9203\n",
      "DEBUG 2019-03-06 14:12:52,463 Starting new HTTPS connection (1): atlas.microsoft.com:443\n",
      "DEBUG 2019-03-06 14:12:52,545 https://atlas.microsoft.com:443 \"GET /search/fuzzy/json?Content-Type=application%2Fjson&subscription-key=6j_USCas00Jqmpj2EFtKe18nLWPylj0gPTOLeBypt9U&api-version=1.0&query=GEANT+-+CASINO+PS+ST+MAXIMIN%2C+France HTTP/1.1\" 200 8402\n",
      "DEBUG 2019-03-06 14:12:52,554 Starting new HTTPS connection (1): atlas.microsoft.com:443\n"
     ]
    },
    {
     "name": "stdout",
     "output_type": "stream",
     "text": [
      "Web scrapping at : 58.845% which took 234 seconds to run.\n",
      "Web scrapping at : 58.939% which took 234 seconds to run.\n"
     ]
    },
    {
     "name": "stderr",
     "output_type": "stream",
     "text": [
      "DEBUG 2019-03-06 14:12:53,405 https://atlas.microsoft.com:443 \"GET /search/fuzzy/json?Content-Type=application%2Fjson&subscription-key=6j_USCas00Jqmpj2EFtKe18nLWPylj0gPTOLeBypt9U&api-version=1.0&query=GEANT+-+CASINO+PS+LA+GARDE%2C+France HTTP/1.1\" 200 8702\n",
      "DEBUG 2019-03-06 14:12:53,413 Starting new HTTPS connection (1): atlas.microsoft.com:443\n"
     ]
    },
    {
     "name": "stdout",
     "output_type": "stream",
     "text": [
      "Web scrapping at : 59.032% which took 235 seconds to run.\n"
     ]
    },
    {
     "name": "stderr",
     "output_type": "stream",
     "text": [
      "DEBUG 2019-03-06 14:12:53,943 https://atlas.microsoft.com:443 \"GET /search/fuzzy/json?Content-Type=application%2Fjson&subscription-key=6j_USCas00Jqmpj2EFtKe18nLWPylj0gPTOLeBypt9U&api-version=1.0&query=GEANT+-+CASINO+PS+SIX+FOURS+EMBIEZ%2C+France HTTP/1.1\" 200 8005\n",
      "DEBUG 2019-03-06 14:12:53,953 Starting new HTTPS connection (1): atlas.microsoft.com:443\n"
     ]
    },
    {
     "name": "stdout",
     "output_type": "stream",
     "text": [
      "Web scrapping at : 59.125% which took 235 seconds to run.\n"
     ]
    },
    {
     "name": "stderr",
     "output_type": "stream",
     "text": [
      "DEBUG 2019-03-06 14:12:54,632 https://atlas.microsoft.com:443 \"GET /search/fuzzy/json?Content-Type=application%2Fjson&subscription-key=6j_USCas00Jqmpj2EFtKe18nLWPylj0gPTOLeBypt9U&api-version=1.0&query=GEANT+-+CASINO+PS+MONACO+MONTE+CARLO+ST+LEON%2C+France HTTP/1.1\" 200 26486\n",
      "DEBUG 2019-03-06 14:12:54,649 Starting new HTTPS connection (1): atlas.microsoft.com:443\n"
     ]
    },
    {
     "name": "stdout",
     "output_type": "stream",
     "text": [
      "Web scrapping at : 59.218% which took 236 seconds to run.\n"
     ]
    },
    {
     "name": "stderr",
     "output_type": "stream",
     "text": [
      "DEBUG 2019-03-06 14:12:55,198 https://atlas.microsoft.com:443 \"GET /search/fuzzy/json?Content-Type=application%2Fjson&subscription-key=6j_USCas00Jqmpj2EFtKe18nLWPylj0gPTOLeBypt9U&api-version=1.0&query=GEANT+-+CASINO+PS+CALLIAN+MAISONS+NEUVES%2C+France HTTP/1.1\" 200 2251\n",
      "DEBUG 2019-03-06 14:12:55,207 Starting new HTTPS connection (1): atlas.microsoft.com:443\n"
     ]
    },
    {
     "name": "stdout",
     "output_type": "stream",
     "text": [
      "Web scrapping at : 59.311% which took 237 seconds to run.\n"
     ]
    },
    {
     "name": "stderr",
     "output_type": "stream",
     "text": [
      "DEBUG 2019-03-06 14:12:55,697 https://atlas.microsoft.com:443 \"GET /search/fuzzy/json?Content-Type=application%2Fjson&subscription-key=6j_USCas00Jqmpj2EFtKe18nLWPylj0gPTOLeBypt9U&api-version=1.0&query=GEANT+-+CASINO+LPE+ST+RAPHAEL+RUE+ALLONGUE%2C+France HTTP/1.1\" 200 9595\n",
      "DEBUG 2019-03-06 14:12:55,706 Starting new HTTPS connection (1): atlas.microsoft.com:443\n"
     ]
    },
    {
     "name": "stdout",
     "output_type": "stream",
     "text": [
      "Web scrapping at : 59.404% which took 237 seconds to run.\n"
     ]
    },
    {
     "name": "stderr",
     "output_type": "stream",
     "text": [
      "DEBUG 2019-03-06 14:12:56,198 https://atlas.microsoft.com:443 \"GET /search/fuzzy/json?Content-Type=application%2Fjson&subscription-key=6j_USCas00Jqmpj2EFtKe18nLWPylj0gPTOLeBypt9U&api-version=1.0&query=GEANT+-+CASINO+PS+LES+ISSAMBRES%2C+France HTTP/1.1\" 200 9456\n",
      "DEBUG 2019-03-06 14:12:56,207 Starting new HTTPS connection (1): atlas.microsoft.com:443\n"
     ]
    },
    {
     "name": "stdout",
     "output_type": "stream",
     "text": [
      "Web scrapping at : 59.497% which took 238 seconds to run.\n"
     ]
    },
    {
     "name": "stderr",
     "output_type": "stream",
     "text": [
      "DEBUG 2019-03-06 14:12:56,780 https://atlas.microsoft.com:443 \"GET /search/fuzzy/json?Content-Type=application%2Fjson&subscription-key=6j_USCas00Jqmpj2EFtKe18nLWPylj0gPTOLeBypt9U&api-version=1.0&query=GEANT+-+CASINO+PS+LA+CAPTE+D+HYERES%2C+France HTTP/1.1\" 200 8020\n",
      "DEBUG 2019-03-06 14:12:56,789 Starting new HTTPS connection (1): atlas.microsoft.com:443\n"
     ]
    },
    {
     "name": "stdout",
     "output_type": "stream",
     "text": [
      "Web scrapping at : 59.59% which took 238 seconds to run.\n"
     ]
    },
    {
     "name": "stderr",
     "output_type": "stream",
     "text": [
      "DEBUG 2019-03-06 14:12:57,235 https://atlas.microsoft.com:443 \"GET /search/fuzzy/json?Content-Type=application%2Fjson&subscription-key=6j_USCas00Jqmpj2EFtKe18nLWPylj0gPTOLeBypt9U&api-version=1.0&query=GEANT+-+CASINO+PS+ST+AYGULF%2C+France HTTP/1.1\" 200 9062\n",
      "DEBUG 2019-03-06 14:12:57,243 Starting new HTTPS connection (1): atlas.microsoft.com:443\n"
     ]
    },
    {
     "name": "stdout",
     "output_type": "stream",
     "text": [
      "Web scrapping at : 59.683% which took 239 seconds to run.\n"
     ]
    },
    {
     "name": "stderr",
     "output_type": "stream",
     "text": [
      "DEBUG 2019-03-06 14:12:57,636 https://atlas.microsoft.com:443 \"GET /search/fuzzy/json?Content-Type=application%2Fjson&subscription-key=6j_USCas00Jqmpj2EFtKe18nLWPylj0gPTOLeBypt9U&api-version=1.0&query=GEANT+-+CASINO+PS+ST+RAPHAEL+VALROSE%2C+France HTTP/1.1\" 200 7959\n",
      "DEBUG 2019-03-06 14:12:57,644 Starting new HTTPS connection (1): atlas.microsoft.com:443\n",
      "DEBUG 2019-03-06 14:12:57,733 https://atlas.microsoft.com:443 \"GET /search/fuzzy/json?Content-Type=application%2Fjson&subscription-key=6j_USCas00Jqmpj2EFtKe18nLWPylj0gPTOLeBypt9U&api-version=1.0&query=GEANT+-+CASINO+PS+ST+RAPHAEL+AV+CHRISTIAN+LAFON%2C+France HTTP/1.1\" 200 6704\n",
      "DEBUG 2019-03-06 14:12:57,742 Starting new HTTPS connection (1): atlas.microsoft.com:443\n"
     ]
    },
    {
     "name": "stdout",
     "output_type": "stream",
     "text": [
      "Web scrapping at : 59.777% which took 239 seconds to run.\n",
      "Web scrapping at : 59.87% which took 239 seconds to run.\n"
     ]
    },
    {
     "name": "stderr",
     "output_type": "stream",
     "text": [
      "DEBUG 2019-03-06 14:12:58,329 https://atlas.microsoft.com:443 \"GET /search/fuzzy/json?Content-Type=application%2Fjson&subscription-key=6j_USCas00Jqmpj2EFtKe18nLWPylj0gPTOLeBypt9U&api-version=1.0&query=GEANT+-+CASINO+PS+GOLFE+JUAN%2C+France HTTP/1.1\" 200 9563\n",
      "DEBUG 2019-03-06 14:12:58,337 Starting new HTTPS connection (1): atlas.microsoft.com:443\n"
     ]
    },
    {
     "name": "stdout",
     "output_type": "stream",
     "text": [
      "Web scrapping at : 59.963% which took 240 seconds to run.\n"
     ]
    },
    {
     "name": "stderr",
     "output_type": "stream",
     "text": [
      "DEBUG 2019-03-06 14:12:58,952 https://atlas.microsoft.com:443 \"GET /search/fuzzy/json?Content-Type=application%2Fjson&subscription-key=6j_USCas00Jqmpj2EFtKe18nLWPylj0gPTOLeBypt9U&api-version=1.0&query=GEANT+-+CASINO+PS+CROS+DE+CAGNES+AV+OLIVIERS%2C+France HTTP/1.1\" 200 8412\n",
      "DEBUG 2019-03-06 14:12:58,960 Starting new HTTPS connection (1): atlas.microsoft.com:443\n"
     ]
    },
    {
     "name": "stdout",
     "output_type": "stream",
     "text": [
      "Web scrapping at : 60.056% which took 240 seconds to run.\n"
     ]
    },
    {
     "name": "stderr",
     "output_type": "stream",
     "text": [
      "DEBUG 2019-03-06 14:12:59,356 https://atlas.microsoft.com:443 \"GET /search/fuzzy/json?Content-Type=application%2Fjson&subscription-key=6j_USCas00Jqmpj2EFtKe18nLWPylj0gPTOLeBypt9U&api-version=1.0&query=GEANT+-+CASINO+PS+THEOULE+DAHON%2C+France HTTP/1.1\" 200 8046\n",
      "DEBUG 2019-03-06 14:12:59,365 Starting new HTTPS connection (1): atlas.microsoft.com:443\n"
     ]
    },
    {
     "name": "stdout",
     "output_type": "stream",
     "text": [
      "Web scrapping at : 60.149% which took 241 seconds to run.\n"
     ]
    },
    {
     "name": "stderr",
     "output_type": "stream",
     "text": [
      "DEBUG 2019-03-06 14:12:59,834 https://atlas.microsoft.com:443 \"GET /search/fuzzy/json?Content-Type=application%2Fjson&subscription-key=6j_USCas00Jqmpj2EFtKe18nLWPylj0gPTOLeBypt9U&api-version=1.0&query=GEANT+-+CASINO+PS+ROUSSILLON+BURLIERE%2C+France HTTP/1.1\" 200 7995\n",
      "DEBUG 2019-03-06 14:12:59,843 Starting new HTTPS connection (1): atlas.microsoft.com:443\n"
     ]
    },
    {
     "name": "stdout",
     "output_type": "stream",
     "text": [
      "Web scrapping at : 60.242% which took 241 seconds to run.\n"
     ]
    },
    {
     "name": "stderr",
     "output_type": "stream",
     "text": [
      "DEBUG 2019-03-06 14:13:00,784 https://atlas.microsoft.com:443 \"GET /search/fuzzy/json?Content-Type=application%2Fjson&subscription-key=6j_USCas00Jqmpj2EFtKe18nLWPylj0gPTOLeBypt9U&api-version=1.0&query=GEANT+-+CASINO+PS+L+ISLE+SUR+SORGUE+RUE+REPUBLIQUE%2C+France HTTP/1.1\" 200 7090\n",
      "DEBUG 2019-03-06 14:13:00,793 Starting new HTTPS connection (1): atlas.microsoft.com:443\n"
     ]
    },
    {
     "name": "stdout",
     "output_type": "stream",
     "text": [
      "Web scrapping at : 60.335% which took 242 seconds to run.\n"
     ]
    },
    {
     "name": "stderr",
     "output_type": "stream",
     "text": [
      "DEBUG 2019-03-06 14:13:01,173 https://atlas.microsoft.com:443 \"GET /search/fuzzy/json?Content-Type=application%2Fjson&subscription-key=6j_USCas00Jqmpj2EFtKe18nLWPylj0gPTOLeBypt9U&api-version=1.0&query=GEANT+-+CASINO+PS+ALBA%2C+France HTTP/1.1\" 200 7739\n",
      "DEBUG 2019-03-06 14:13:01,183 Starting new HTTPS connection (1): atlas.microsoft.com:443\n"
     ]
    },
    {
     "name": "stdout",
     "output_type": "stream",
     "text": [
      "Web scrapping at : 60.428% which took 243 seconds to run.\n"
     ]
    },
    {
     "name": "stderr",
     "output_type": "stream",
     "text": [
      "DEBUG 2019-03-06 14:13:01,655 https://atlas.microsoft.com:443 \"GET /search/fuzzy/json?Content-Type=application%2Fjson&subscription-key=6j_USCas00Jqmpj2EFtKe18nLWPylj0gPTOLeBypt9U&api-version=1.0&query=GEANT+-+CASINO+PS+ST+PRIVAT%2C+France HTTP/1.1\" 200 7794\n",
      "DEBUG 2019-03-06 14:13:01,664 Starting new HTTPS connection (1): atlas.microsoft.com:443\n"
     ]
    },
    {
     "name": "stdout",
     "output_type": "stream",
     "text": [
      "Web scrapping at : 60.521% which took 243 seconds to run.\n"
     ]
    },
    {
     "name": "stderr",
     "output_type": "stream",
     "text": [
      "DEBUG 2019-03-06 14:13:02,538 https://atlas.microsoft.com:443 \"GET /search/fuzzy/json?Content-Type=application%2Fjson&subscription-key=6j_USCas00Jqmpj2EFtKe18nLWPylj0gPTOLeBypt9U&api-version=1.0&query=GEANT+-+CASINO+PS+VALENCE+RUE+DES+ALPES%2C+France HTTP/1.1\" 200 6462\n",
      "DEBUG 2019-03-06 14:13:02,547 Starting new HTTPS connection (1): atlas.microsoft.com:443\n"
     ]
    },
    {
     "name": "stdout",
     "output_type": "stream",
     "text": [
      "Web scrapping at : 60.615% which took 244 seconds to run.\n"
     ]
    },
    {
     "name": "stderr",
     "output_type": "stream",
     "text": [
      "DEBUG 2019-03-06 14:13:03,345 https://atlas.microsoft.com:443 \"GET /search/fuzzy/json?Content-Type=application%2Fjson&subscription-key=6j_USCas00Jqmpj2EFtKe18nLWPylj0gPTOLeBypt9U&api-version=1.0&query=GEANT+-+CASINO+PS+LES+VANS%2C+France HTTP/1.1\" 200 9029\n",
      "DEBUG 2019-03-06 14:13:03,355 Starting new HTTPS connection (1): atlas.microsoft.com:443\n"
     ]
    },
    {
     "name": "stdout",
     "output_type": "stream",
     "text": [
      "Web scrapping at : 60.708% which took 245 seconds to run.\n"
     ]
    },
    {
     "name": "stderr",
     "output_type": "stream",
     "text": [
      "DEBUG 2019-03-06 14:13:03,980 https://atlas.microsoft.com:443 \"GET /search/fuzzy/json?Content-Type=application%2Fjson&subscription-key=6j_USCas00Jqmpj2EFtKe18nLWPylj0gPTOLeBypt9U&api-version=1.0&query=GEANT+-+CASINO+PS+ROMANS+CODE+DES+POIDS+ET+FARINES%2C+France HTTP/1.1\" 200 6248\n",
      "DEBUG 2019-03-06 14:13:03,988 Starting new HTTPS connection (1): atlas.microsoft.com:443\n"
     ]
    },
    {
     "name": "stdout",
     "output_type": "stream",
     "text": [
      "Web scrapping at : 60.801% which took 245 seconds to run.\n"
     ]
    },
    {
     "name": "stderr",
     "output_type": "stream",
     "text": [
      "DEBUG 2019-03-06 14:13:04,352 https://atlas.microsoft.com:443 \"GET /search/fuzzy/json?Content-Type=application%2Fjson&subscription-key=6j_USCas00Jqmpj2EFtKe18nLWPylj0gPTOLeBypt9U&api-version=1.0&query=GEANT+-+CASINO+PS+SAILLANS%2C+France HTTP/1.1\" 200 8038\n",
      "DEBUG 2019-03-06 14:13:04,360 Starting new HTTPS connection (1): atlas.microsoft.com:443\n"
     ]
    },
    {
     "name": "stdout",
     "output_type": "stream",
     "text": [
      "Web scrapping at : 60.894% which took 246 seconds to run.\n"
     ]
    },
    {
     "name": "stderr",
     "output_type": "stream",
     "text": [
      "DEBUG 2019-03-06 14:13:04,902 https://atlas.microsoft.com:443 \"GET /search/fuzzy/json?Content-Type=application%2Fjson&subscription-key=6j_USCas00Jqmpj2EFtKe18nLWPylj0gPTOLeBypt9U&api-version=1.0&query=GEANT+-+CASINO+PS+VALENCE+MADIER+DE+MONTJAU%2C+France HTTP/1.1\" 200 7596\n",
      "DEBUG 2019-03-06 14:13:04,911 Starting new HTTPS connection (1): atlas.microsoft.com:443\n"
     ]
    },
    {
     "name": "stdout",
     "output_type": "stream",
     "text": [
      "Web scrapping at : 60.987% which took 246 seconds to run.\n"
     ]
    },
    {
     "name": "stderr",
     "output_type": "stream",
     "text": [
      "DEBUG 2019-03-06 14:13:05,336 https://atlas.microsoft.com:443 \"GET /search/fuzzy/json?Content-Type=application%2Fjson&subscription-key=6j_USCas00Jqmpj2EFtKe18nLWPylj0gPTOLeBypt9U&api-version=1.0&query=GEANT+-+CASINO+PS+PUYRICARD%2C+France HTTP/1.1\" 200 8039\n",
      "DEBUG 2019-03-06 14:13:05,344 Starting new HTTPS connection (1): atlas.microsoft.com:443\n"
     ]
    },
    {
     "name": "stdout",
     "output_type": "stream",
     "text": [
      "Web scrapping at : 61.08% which took 247 seconds to run.\n"
     ]
    },
    {
     "name": "stderr",
     "output_type": "stream",
     "text": [
      "DEBUG 2019-03-06 14:13:05,743 https://atlas.microsoft.com:443 \"GET /search/fuzzy/json?Content-Type=application%2Fjson&subscription-key=6j_USCas00Jqmpj2EFtKe18nLWPylj0gPTOLeBypt9U&api-version=1.0&query=GEANT+-+CASINO+LARMOR+LORIENT%2C+France HTTP/1.1\" 200 1954\n",
      "DEBUG 2019-03-06 14:13:05,752 Starting new HTTPS connection (1): atlas.microsoft.com:443\n"
     ]
    },
    {
     "name": "stdout",
     "output_type": "stream",
     "text": [
      "Web scrapping at : 61.173% which took 247 seconds to run.\n"
     ]
    },
    {
     "name": "stderr",
     "output_type": "stream",
     "text": [
      "DEBUG 2019-03-06 14:13:06,146 https://atlas.microsoft.com:443 \"GET /search/fuzzy/json?Content-Type=application%2Fjson&subscription-key=6j_USCas00Jqmpj2EFtKe18nLWPylj0gPTOLeBypt9U&api-version=1.0&query=GEANT+-+CASINO+VALENCE+NORD%2C+France HTTP/1.1\" 200 8700\n",
      "DEBUG 2019-03-06 14:13:06,158 Starting new HTTPS connection (1): atlas.microsoft.com:443\n"
     ]
    },
    {
     "name": "stdout",
     "output_type": "stream",
     "text": [
      "Web scrapping at : 61.266% which took 248 seconds to run.\n"
     ]
    },
    {
     "name": "stderr",
     "output_type": "stream",
     "text": [
      "DEBUG 2019-03-06 14:13:06,679 https://atlas.microsoft.com:443 \"GET /search/fuzzy/json?Content-Type=application%2Fjson&subscription-key=6j_USCas00Jqmpj2EFtKe18nLWPylj0gPTOLeBypt9U&api-version=1.0&query=GEANT+-+CASINO+ST+NAZAIRE+OCEANIS+I%2C+France HTTP/1.1\" 200 7488\n",
      "DEBUG 2019-03-06 14:13:06,687 Starting new HTTPS connection (1): atlas.microsoft.com:443\n",
      "DEBUG 2019-03-06 14:13:06,811 https://atlas.microsoft.com:443 \"GET /search/fuzzy/json?Content-Type=application%2Fjson&subscription-key=6j_USCas00Jqmpj2EFtKe18nLWPylj0gPTOLeBypt9U&api-version=1.0&query=GEANT+-+CASINO+MASSENA%2C+France HTTP/1.1\" 200 1139\n",
      "DEBUG 2019-03-06 14:13:06,819 Starting new HTTPS connection (1): atlas.microsoft.com:443\n"
     ]
    },
    {
     "name": "stdout",
     "output_type": "stream",
     "text": [
      "Web scrapping at : 61.359% which took 248 seconds to run.\n",
      "Web scrapping at : 61.453% which took 248 seconds to run.\n"
     ]
    },
    {
     "name": "stderr",
     "output_type": "stream",
     "text": [
      "DEBUG 2019-03-06 14:13:07,068 https://atlas.microsoft.com:443 \"GET /search/fuzzy/json?Content-Type=application%2Fjson&subscription-key=6j_USCas00Jqmpj2EFtKe18nLWPylj0gPTOLeBypt9U&api-version=1.0&query=GEANT+-+CASINO+BRIVE+MALEMORT%2C+France HTTP/1.1\" 200 2034\n",
      "DEBUG 2019-03-06 14:13:07,076 Starting new HTTPS connection (1): atlas.microsoft.com:443\n",
      "DEBUG 2019-03-06 14:13:07,164 https://atlas.microsoft.com:443 \"GET /search/fuzzy/json?Content-Type=application%2Fjson&subscription-key=6j_USCas00Jqmpj2EFtKe18nLWPylj0gPTOLeBypt9U&api-version=1.0&query=GEANT+-+CASINO+FONTAINE%2C+France HTTP/1.1\" 200 6217\n",
      "DEBUG 2019-03-06 14:13:07,172 Starting new HTTPS connection (1): atlas.microsoft.com:443\n"
     ]
    },
    {
     "name": "stdout",
     "output_type": "stream",
     "text": [
      "Web scrapping at : 61.546% which took 249 seconds to run.\n",
      "Web scrapping at : 61.639% which took 249 seconds to run.\n"
     ]
    },
    {
     "name": "stderr",
     "output_type": "stream",
     "text": [
      "DEBUG 2019-03-06 14:13:07,371 https://atlas.microsoft.com:443 \"GET /search/fuzzy/json?Content-Type=application%2Fjson&subscription-key=6j_USCas00Jqmpj2EFtKe18nLWPylj0gPTOLeBypt9U&api-version=1.0&query=GEANT+-+CASINO+CHAUMONT%2C+France HTTP/1.1\" 200 3672\n",
      "DEBUG 2019-03-06 14:13:07,380 Starting new HTTPS connection (1): atlas.microsoft.com:443\n",
      "DEBUG 2019-03-06 14:13:07,561 https://atlas.microsoft.com:443 \"GET /search/fuzzy/json?Content-Type=application%2Fjson&subscription-key=6j_USCas00Jqmpj2EFtKe18nLWPylj0gPTOLeBypt9U&api-version=1.0&query=GEANT+-+CASINO+ST+LOUIS%2C+France HTTP/1.1\" 200 3804\n",
      "DEBUG 2019-03-06 14:13:07,570 Starting new HTTPS connection (1): atlas.microsoft.com:443\n"
     ]
    },
    {
     "name": "stdout",
     "output_type": "stream",
     "text": [
      "Web scrapping at : 61.732% which took 249 seconds to run.\n",
      "Web scrapping at : 61.825% which took 249 seconds to run.\n"
     ]
    },
    {
     "name": "stderr",
     "output_type": "stream",
     "text": [
      "DEBUG 2019-03-06 14:13:07,744 https://atlas.microsoft.com:443 \"GET /search/fuzzy/json?Content-Type=application%2Fjson&subscription-key=6j_USCas00Jqmpj2EFtKe18nLWPylj0gPTOLeBypt9U&api-version=1.0&query=GEANT+-+CASINO+CASTRES%2C+France HTTP/1.1\" 200 4093\n",
      "DEBUG 2019-03-06 14:13:07,753 Starting new HTTPS connection (1): atlas.microsoft.com:443\n",
      "DEBUG 2019-03-06 14:13:07,911 https://atlas.microsoft.com:443 \"GET /search/fuzzy/json?Content-Type=application%2Fjson&subscription-key=6j_USCas00Jqmpj2EFtKe18nLWPylj0gPTOLeBypt9U&api-version=1.0&query=GEANT+-+CASINO+LA+FOUX+GASSIN%2C+France HTTP/1.1\" 200 2814\n",
      "DEBUG 2019-03-06 14:13:07,919 Starting new HTTPS connection (1): atlas.microsoft.com:443\n"
     ]
    },
    {
     "name": "stdout",
     "output_type": "stream",
     "text": [
      "Web scrapping at : 61.918% which took 249 seconds to run.\n",
      "Web scrapping at : 62.011% which took 249 seconds to run.\n"
     ]
    },
    {
     "name": "stderr",
     "output_type": "stream",
     "text": [
      "DEBUG 2019-03-06 14:13:08,386 https://atlas.microsoft.com:443 \"GET /search/fuzzy/json?Content-Type=application%2Fjson&subscription-key=6j_USCas00Jqmpj2EFtKe18nLWPylj0gPTOLeBypt9U&api-version=1.0&query=GEANT+-+CASINO+TORCY+MONTCHANIN%2C+France HTTP/1.1\" 200 7986\n",
      "DEBUG 2019-03-06 14:13:08,394 Starting new HTTPS connection (1): atlas.microsoft.com:443\n",
      "DEBUG 2019-03-06 14:13:08,538 https://atlas.microsoft.com:443 \"GET /search/fuzzy/json?Content-Type=application%2Fjson&subscription-key=6j_USCas00Jqmpj2EFtKe18nLWPylj0gPTOLeBypt9U&api-version=1.0&query=GEANT+-+CASINO+VALENCE+SUD%2C+France HTTP/1.1\" 200 2657\n",
      "DEBUG 2019-03-06 14:13:08,546 Starting new HTTPS connection (1): atlas.microsoft.com:443\n"
     ]
    },
    {
     "name": "stdout",
     "output_type": "stream",
     "text": [
      "Web scrapping at : 62.104% which took 250 seconds to run.\n",
      "Web scrapping at : 62.197% which took 250 seconds to run.\n"
     ]
    },
    {
     "name": "stderr",
     "output_type": "stream",
     "text": [
      "DEBUG 2019-03-06 14:13:08,628 https://atlas.microsoft.com:443 \"GET /search/fuzzy/json?Content-Type=application%2Fjson&subscription-key=6j_USCas00Jqmpj2EFtKe18nLWPylj0gPTOLeBypt9U&api-version=1.0&query=GEANT+-+CASINO+SM+COLOMBIERS%2C+France HTTP/1.1\" 200 8038\n",
      "DEBUG 2019-03-06 14:13:08,637 Starting new HTTPS connection (1): atlas.microsoft.com:443\n"
     ]
    },
    {
     "name": "stdout",
     "output_type": "stream",
     "text": [
      "Web scrapping at : 62.291% which took 250 seconds to run.\n"
     ]
    },
    {
     "name": "stderr",
     "output_type": "stream",
     "text": [
      "DEBUG 2019-03-06 14:13:09,007 https://atlas.microsoft.com:443 \"GET /search/fuzzy/json?Content-Type=application%2Fjson&subscription-key=6j_USCas00Jqmpj2EFtKe18nLWPylj0gPTOLeBypt9U&api-version=1.0&query=GEANT+-+CASINO+SM+MONTBRISON%2C+France HTTP/1.1\" 200 8040\n",
      "DEBUG 2019-03-06 14:13:09,017 Starting new HTTPS connection (1): atlas.microsoft.com:443\n"
     ]
    },
    {
     "name": "stdout",
     "output_type": "stream",
     "text": [
      "Web scrapping at : 62.384% which took 250 seconds to run.\n"
     ]
    },
    {
     "name": "stderr",
     "output_type": "stream",
     "text": [
      "DEBUG 2019-03-06 14:13:09,429 https://atlas.microsoft.com:443 \"GET /search/fuzzy/json?Content-Type=application%2Fjson&subscription-key=6j_USCas00Jqmpj2EFtKe18nLWPylj0gPTOLeBypt9U&api-version=1.0&query=GEANT+-+CASINO+SM+BOURG+D+OISANS%2C+France HTTP/1.1\" 200 6872\n",
      "DEBUG 2019-03-06 14:13:09,438 Starting new HTTPS connection (1): atlas.microsoft.com:443\n",
      "DEBUG 2019-03-06 14:13:09,526 https://atlas.microsoft.com:443 \"GET /search/fuzzy/json?Content-Type=application%2Fjson&subscription-key=6j_USCas00Jqmpj2EFtKe18nLWPylj0gPTOLeBypt9U&api-version=1.0&query=GEANT+-+CASINO+SM+ST+CLAUDE%2C+France HTTP/1.1\" 200 9042\n",
      "DEBUG 2019-03-06 14:13:09,535 Starting new HTTPS connection (1): atlas.microsoft.com:443\n"
     ]
    },
    {
     "name": "stdout",
     "output_type": "stream",
     "text": [
      "Web scrapping at : 62.477% which took 251 seconds to run.\n",
      "Web scrapping at : 62.57% which took 251 seconds to run.\n"
     ]
    },
    {
     "name": "stderr",
     "output_type": "stream",
     "text": [
      "DEBUG 2019-03-06 14:13:09,988 https://atlas.microsoft.com:443 \"GET /search/fuzzy/json?Content-Type=application%2Fjson&subscription-key=6j_USCas00Jqmpj2EFtKe18nLWPylj0gPTOLeBypt9U&api-version=1.0&query=GEANT+-+CASINO+SM+ST+RAPHAEL%2C+France HTTP/1.1\" 200 9075\n",
      "DEBUG 2019-03-06 14:13:09,997 Starting new HTTPS connection (1): atlas.microsoft.com:443\n"
     ]
    },
    {
     "name": "stdout",
     "output_type": "stream",
     "text": [
      "Web scrapping at : 62.663% which took 251 seconds to run.\n"
     ]
    },
    {
     "name": "stderr",
     "output_type": "stream",
     "text": [
      "DEBUG 2019-03-06 14:13:10,535 https://atlas.microsoft.com:443 \"GET /search/fuzzy/json?Content-Type=application%2Fjson&subscription-key=6j_USCas00Jqmpj2EFtKe18nLWPylj0gPTOLeBypt9U&api-version=1.0&query=GEANT+-+CASINO+SM+ST+BARTHELEMY%2C+France HTTP/1.1\" 200 9015\n",
      "DEBUG 2019-03-06 14:13:10,544 Starting new HTTPS connection (1): atlas.microsoft.com:443\n"
     ]
    },
    {
     "name": "stdout",
     "output_type": "stream",
     "text": [
      "Web scrapping at : 62.756% which took 252 seconds to run.\n"
     ]
    },
    {
     "name": "stderr",
     "output_type": "stream",
     "text": [
      "DEBUG 2019-03-06 14:13:11,017 https://atlas.microsoft.com:443 \"GET /search/fuzzy/json?Content-Type=application%2Fjson&subscription-key=6j_USCas00Jqmpj2EFtKe18nLWPylj0gPTOLeBypt9U&api-version=1.0&query=GEANT+-+CASINO+SM+SANARY+LA+BUGE%2C+France HTTP/1.1\" 200 7452\n",
      "DEBUG 2019-03-06 14:13:11,026 Starting new HTTPS connection (1): atlas.microsoft.com:443\n"
     ]
    },
    {
     "name": "stdout",
     "output_type": "stream",
     "text": [
      "Web scrapping at : 62.849% which took 252 seconds to run.\n"
     ]
    },
    {
     "name": "stderr",
     "output_type": "stream",
     "text": [
      "DEBUG 2019-03-06 14:13:11,531 https://atlas.microsoft.com:443 \"GET /search/fuzzy/json?Content-Type=application%2Fjson&subscription-key=6j_USCas00Jqmpj2EFtKe18nLWPylj0gPTOLeBypt9U&api-version=1.0&query=GEANT+-+CASINO+SM+SANARY+LES+PRATS%2C+France HTTP/1.1\" 200 9132\n",
      "DEBUG 2019-03-06 14:13:11,540 Starting new HTTPS connection (1): atlas.microsoft.com:443\n"
     ]
    },
    {
     "name": "stdout",
     "output_type": "stream",
     "text": [
      "Web scrapping at : 62.942% which took 253 seconds to run.\n"
     ]
    },
    {
     "name": "stderr",
     "output_type": "stream",
     "text": [
      "DEBUG 2019-03-06 14:13:12,022 https://atlas.microsoft.com:443 \"GET /search/fuzzy/json?Content-Type=application%2Fjson&subscription-key=6j_USCas00Jqmpj2EFtKe18nLWPylj0gPTOLeBypt9U&api-version=1.0&query=GEANT+-+CASINO+SM+CHORUS+CRAN+GEVRIER%2C+France HTTP/1.1\" 200 7721\n",
      "DEBUG 2019-03-06 14:13:12,030 Starting new HTTPS connection (1): atlas.microsoft.com:443\n"
     ]
    },
    {
     "name": "stdout",
     "output_type": "stream",
     "text": [
      "Web scrapping at : 63.035% which took 254 seconds to run.\n"
     ]
    },
    {
     "name": "stderr",
     "output_type": "stream",
     "text": [
      "DEBUG 2019-03-06 14:13:12,435 https://atlas.microsoft.com:443 \"GET /search/fuzzy/json?Content-Type=application%2Fjson&subscription-key=6j_USCas00Jqmpj2EFtKe18nLWPylj0gPTOLeBypt9U&api-version=1.0&query=GEANT+-+CASINO+SM+SALAISE%2C+France HTTP/1.1\" 200 8037\n",
      "DEBUG 2019-03-06 14:13:12,444 Starting new HTTPS connection (1): atlas.microsoft.com:443\n"
     ]
    },
    {
     "name": "stdout",
     "output_type": "stream",
     "text": [
      "Web scrapping at : 63.128% which took 254 seconds to run.\n"
     ]
    },
    {
     "name": "stderr",
     "output_type": "stream",
     "text": [
      "DEBUG 2019-03-06 14:13:12,887 https://atlas.microsoft.com:443 \"GET /search/fuzzy/json?Content-Type=application%2Fjson&subscription-key=6j_USCas00Jqmpj2EFtKe18nLWPylj0gPTOLeBypt9U&api-version=1.0&query=GEANT+-+CASINO+SM+CHAGNY%2C+France HTTP/1.1\" 200 8036\n",
      "DEBUG 2019-03-06 14:13:12,896 Starting new HTTPS connection (1): atlas.microsoft.com:443\n"
     ]
    },
    {
     "name": "stdout",
     "output_type": "stream",
     "text": [
      "Web scrapping at : 63.222% which took 254 seconds to run.\n"
     ]
    },
    {
     "name": "stderr",
     "output_type": "stream",
     "text": [
      "DEBUG 2019-03-06 14:13:13,298 https://atlas.microsoft.com:443 \"GET /search/fuzzy/json?Content-Type=application%2Fjson&subscription-key=6j_USCas00Jqmpj2EFtKe18nLWPylj0gPTOLeBypt9U&api-version=1.0&query=GEANT+-+CASINO+SM+VEUZAIN%2C+France HTTP/1.1\" 200 8037\n",
      "DEBUG 2019-03-06 14:13:13,306 Starting new HTTPS connection (1): atlas.microsoft.com:443\n"
     ]
    },
    {
     "name": "stdout",
     "output_type": "stream",
     "text": [
      "Web scrapping at : 63.315% which took 255 seconds to run.\n"
     ]
    },
    {
     "name": "stderr",
     "output_type": "stream",
     "text": [
      "DEBUG 2019-03-06 14:13:14,090 https://atlas.microsoft.com:443 \"GET /search/fuzzy/json?Content-Type=application%2Fjson&subscription-key=6j_USCas00Jqmpj2EFtKe18nLWPylj0gPTOLeBypt9U&api-version=1.0&query=GEANT+-+CASINO+SM+LE+PASSAGE+D+AGEN%2C+France HTTP/1.1\" 200 8880\n",
      "DEBUG 2019-03-06 14:13:14,100 Starting new HTTPS connection (1): atlas.microsoft.com:443\n"
     ]
    },
    {
     "name": "stdout",
     "output_type": "stream",
     "text": [
      "Web scrapping at : 63.408% which took 256 seconds to run.\n"
     ]
    },
    {
     "name": "stderr",
     "output_type": "stream",
     "text": [
      "DEBUG 2019-03-06 14:13:14,648 https://atlas.microsoft.com:443 \"GET /search/fuzzy/json?Content-Type=application%2Fjson&subscription-key=6j_USCas00Jqmpj2EFtKe18nLWPylj0gPTOLeBypt9U&api-version=1.0&query=GEANT+-+CASINO+SM+VALENCE+D+AGEN%2C+France HTTP/1.1\" 200 7622\n",
      "DEBUG 2019-03-06 14:13:14,657 Starting new HTTPS connection (1): atlas.microsoft.com:443\n"
     ]
    },
    {
     "name": "stdout",
     "output_type": "stream",
     "text": [
      "Web scrapping at : 63.501% which took 256 seconds to run.\n"
     ]
    },
    {
     "name": "stderr",
     "output_type": "stream",
     "text": [
      "DEBUG 2019-03-06 14:13:15,062 https://atlas.microsoft.com:443 \"GET /search/fuzzy/json?Content-Type=application%2Fjson&subscription-key=6j_USCas00Jqmpj2EFtKe18nLWPylj0gPTOLeBypt9U&api-version=1.0&query=GEANT+-+CASINO+SM+REVEL%2C+France HTTP/1.1\" 200 8035\n",
      "DEBUG 2019-03-06 14:13:15,072 Starting new HTTPS connection (1): atlas.microsoft.com:443\n"
     ]
    },
    {
     "name": "stdout",
     "output_type": "stream",
     "text": [
      "Web scrapping at : 63.594% which took 257 seconds to run.\n"
     ]
    },
    {
     "name": "stderr",
     "output_type": "stream",
     "text": [
      "DEBUG 2019-03-06 14:13:15,490 https://atlas.microsoft.com:443 \"GET /search/fuzzy/json?Content-Type=application%2Fjson&subscription-key=6j_USCas00Jqmpj2EFtKe18nLWPylj0gPTOLeBypt9U&api-version=1.0&query=GEANT+-+CASINO+SM+AIX+EST%2C+France HTTP/1.1\" 200 8903\n",
      "DEBUG 2019-03-06 14:13:15,498 Starting new HTTPS connection (1): atlas.microsoft.com:443\n"
     ]
    },
    {
     "name": "stdout",
     "output_type": "stream",
     "text": [
      "Web scrapping at : 63.687% which took 257 seconds to run.\n"
     ]
    },
    {
     "name": "stderr",
     "output_type": "stream",
     "text": [
      "DEBUG 2019-03-06 14:13:15,975 https://atlas.microsoft.com:443 \"GET /search/fuzzy/json?Content-Type=application%2Fjson&subscription-key=6j_USCas00Jqmpj2EFtKe18nLWPylj0gPTOLeBypt9U&api-version=1.0&query=GEANT+-+CASINO+SM+DONVILLE%2C+France HTTP/1.1\" 200 8038\n",
      "DEBUG 2019-03-06 14:13:15,984 Starting new HTTPS connection (1): atlas.microsoft.com:443\n"
     ]
    },
    {
     "name": "stdout",
     "output_type": "stream",
     "text": [
      "Web scrapping at : 63.78% which took 257 seconds to run.\n"
     ]
    },
    {
     "name": "stderr",
     "output_type": "stream",
     "text": [
      "DEBUG 2019-03-06 14:13:16,454 https://atlas.microsoft.com:443 \"GET /search/fuzzy/json?Content-Type=application%2Fjson&subscription-key=6j_USCas00Jqmpj2EFtKe18nLWPylj0gPTOLeBypt9U&api-version=1.0&query=GEANT+-+CASINO+SM+CROS+DE+CAGNES%2C+France HTTP/1.1\" 200 9094\n",
      "DEBUG 2019-03-06 14:13:16,462 Starting new HTTPS connection (1): atlas.microsoft.com:443\n"
     ]
    },
    {
     "name": "stdout",
     "output_type": "stream",
     "text": [
      "Web scrapping at : 63.873% which took 258 seconds to run.\n"
     ]
    },
    {
     "name": "stderr",
     "output_type": "stream",
     "text": [
      "DEBUG 2019-03-06 14:13:16,963 https://atlas.microsoft.com:443 \"GET /search/fuzzy/json?Content-Type=application%2Fjson&subscription-key=6j_USCas00Jqmpj2EFtKe18nLWPylj0gPTOLeBypt9U&api-version=1.0&query=GEANT+-+CASINO+SM+MONTPON%2C+France HTTP/1.1\" 200 8037\n",
      "DEBUG 2019-03-06 14:13:16,971 Starting new HTTPS connection (1): atlas.microsoft.com:443\n"
     ]
    },
    {
     "name": "stdout",
     "output_type": "stream",
     "text": [
      "Web scrapping at : 63.966% which took 258 seconds to run.\n"
     ]
    },
    {
     "name": "stderr",
     "output_type": "stream",
     "text": [
      "DEBUG 2019-03-06 14:13:17,308 https://atlas.microsoft.com:443 \"GET /search/fuzzy/json?Content-Type=application%2Fjson&subscription-key=6j_USCas00Jqmpj2EFtKe18nLWPylj0gPTOLeBypt9U&api-version=1.0&query=GEANT+-+CASINO+SM+FOUILLOY%2C+France HTTP/1.1\" 200 8038\n",
      "DEBUG 2019-03-06 14:13:17,317 Starting new HTTPS connection (1): atlas.microsoft.com:443\n"
     ]
    },
    {
     "name": "stdout",
     "output_type": "stream",
     "text": [
      "Web scrapping at : 64.06% which took 259 seconds to run.\n"
     ]
    },
    {
     "name": "stderr",
     "output_type": "stream",
     "text": [
      "DEBUG 2019-03-06 14:13:17,748 https://atlas.microsoft.com:443 \"GET /search/fuzzy/json?Content-Type=application%2Fjson&subscription-key=6j_USCas00Jqmpj2EFtKe18nLWPylj0gPTOLeBypt9U&api-version=1.0&query=GEANT+-+CASINO+SM+MERIGNAC+ARLAC%2C+France HTTP/1.1\" 200 8023\n",
      "DEBUG 2019-03-06 14:13:17,756 Starting new HTTPS connection (1): atlas.microsoft.com:443\n"
     ]
    },
    {
     "name": "stdout",
     "output_type": "stream",
     "text": [
      "Web scrapping at : 64.153% which took 259 seconds to run.\n"
     ]
    },
    {
     "name": "stderr",
     "output_type": "stream",
     "text": [
      "DEBUG 2019-03-06 14:13:18,136 https://atlas.microsoft.com:443 \"GET /search/fuzzy/json?Content-Type=application%2Fjson&subscription-key=6j_USCas00Jqmpj2EFtKe18nLWPylj0gPTOLeBypt9U&api-version=1.0&query=GEANT+-+CASINO+SM+MERIGNAC+YSER%2C+France HTTP/1.1\" 200 8017\n",
      "DEBUG 2019-03-06 14:13:18,145 Starting new HTTPS connection (1): atlas.microsoft.com:443\n"
     ]
    },
    {
     "name": "stdout",
     "output_type": "stream",
     "text": [
      "Web scrapping at : 64.246% which took 260 seconds to run.\n"
     ]
    },
    {
     "name": "stderr",
     "output_type": "stream",
     "text": [
      "DEBUG 2019-03-06 14:13:18,701 https://atlas.microsoft.com:443 \"GET /search/fuzzy/json?Content-Type=application%2Fjson&subscription-key=6j_USCas00Jqmpj2EFtKe18nLWPylj0gPTOLeBypt9U&api-version=1.0&query=GEANT+-+CASINO+SM+ST+MAUR+PONT+DE+CRETEIL%2C+France HTTP/1.1\" 200 4778\n",
      "DEBUG 2019-03-06 14:13:18,711 Starting new HTTPS connection (1): atlas.microsoft.com:443\n"
     ]
    },
    {
     "name": "stdout",
     "output_type": "stream",
     "text": [
      "Web scrapping at : 64.339% which took 260 seconds to run.\n"
     ]
    },
    {
     "name": "stderr",
     "output_type": "stream",
     "text": [
      "DEBUG 2019-03-06 14:13:19,293 https://atlas.microsoft.com:443 \"GET /search/fuzzy/json?Content-Type=application%2Fjson&subscription-key=6j_USCas00Jqmpj2EFtKe18nLWPylj0gPTOLeBypt9U&api-version=1.0&query=GEANT+-+CASINO+SM+ST+YRIEIX+LE+CLOS%2C+France HTTP/1.1\" 200 6502\n",
      "DEBUG 2019-03-06 14:13:19,301 Starting new HTTPS connection (1): atlas.microsoft.com:443\n"
     ]
    },
    {
     "name": "stdout",
     "output_type": "stream",
     "text": [
      "Web scrapping at : 64.432% which took 261 seconds to run.\n"
     ]
    },
    {
     "name": "stderr",
     "output_type": "stream",
     "text": [
      "DEBUG 2019-03-06 14:13:19,811 https://atlas.microsoft.com:443 \"GET /search/fuzzy/json?Content-Type=application%2Fjson&subscription-key=6j_USCas00Jqmpj2EFtKe18nLWPylj0gPTOLeBypt9U&api-version=1.0&query=GEANT+-+CASINO+SM+PORT+FREJUS%2C+France HTTP/1.1\" 200 8924\n",
      "DEBUG 2019-03-06 14:13:19,820 Starting new HTTPS connection (1): atlas.microsoft.com:443\n"
     ]
    },
    {
     "name": "stdout",
     "output_type": "stream",
     "text": [
      "Web scrapping at : 64.525% which took 261 seconds to run.\n"
     ]
    },
    {
     "name": "stderr",
     "output_type": "stream",
     "text": [
      "DEBUG 2019-03-06 14:13:20,259 https://atlas.microsoft.com:443 \"GET /search/fuzzy/json?Content-Type=application%2Fjson&subscription-key=6j_USCas00Jqmpj2EFtKe18nLWPylj0gPTOLeBypt9U&api-version=1.0&query=GEANT+-+CASINO+SM+CLERMONT+BERTHELOT%2C+France HTTP/1.1\" 200 8309\n",
      "DEBUG 2019-03-06 14:13:20,268 Starting new HTTPS connection (1): atlas.microsoft.com:443\n"
     ]
    },
    {
     "name": "stdout",
     "output_type": "stream",
     "text": [
      "Web scrapping at : 64.618% which took 262 seconds to run.\n"
     ]
    },
    {
     "name": "stderr",
     "output_type": "stream",
     "text": [
      "DEBUG 2019-03-06 14:13:20,928 https://atlas.microsoft.com:443 \"GET /search/fuzzy/json?Content-Type=application%2Fjson&subscription-key=6j_USCas00Jqmpj2EFtKe18nLWPylj0gPTOLeBypt9U&api-version=1.0&query=GEANT+-+CASINO+SM+LE+PUY%2C+France HTTP/1.1\" 200 9165\n",
      "DEBUG 2019-03-06 14:13:20,937 Starting new HTTPS connection (1): atlas.microsoft.com:443\n"
     ]
    },
    {
     "name": "stdout",
     "output_type": "stream",
     "text": [
      "Web scrapping at : 64.711% which took 262 seconds to run.\n"
     ]
    },
    {
     "name": "stderr",
     "output_type": "stream",
     "text": [
      "DEBUG 2019-03-06 14:13:21,466 https://atlas.microsoft.com:443 \"GET /search/fuzzy/json?Content-Type=application%2Fjson&subscription-key=6j_USCas00Jqmpj2EFtKe18nLWPylj0gPTOLeBypt9U&api-version=1.0&query=GEANT+-+CASINO+SM+CLERMONT+SALINS%2C+France HTTP/1.1\" 200 8142\n",
      "DEBUG 2019-03-06 14:13:21,475 Starting new HTTPS connection (1): atlas.microsoft.com:443\n"
     ]
    },
    {
     "name": "stdout",
     "output_type": "stream",
     "text": [
      "Web scrapping at : 64.804% which took 263 seconds to run.\n"
     ]
    },
    {
     "name": "stderr",
     "output_type": "stream",
     "text": [
      "DEBUG 2019-03-06 14:13:22,121 https://atlas.microsoft.com:443 \"GET /search/fuzzy/json?Content-Type=application%2Fjson&subscription-key=6j_USCas00Jqmpj2EFtKe18nLWPylj0gPTOLeBypt9U&api-version=1.0&query=GEANT+-+CASINO+SM+AIX+AVENUE+D+AVIGNON%2C+France HTTP/1.1\" 200 9228\n",
      "DEBUG 2019-03-06 14:13:22,130 Starting new HTTPS connection (1): atlas.microsoft.com:443\n"
     ]
    },
    {
     "name": "stdout",
     "output_type": "stream",
     "text": [
      "Web scrapping at : 64.898% which took 264 seconds to run.\n"
     ]
    },
    {
     "name": "stderr",
     "output_type": "stream",
     "text": [
      "DEBUG 2019-03-06 14:13:22,543 https://atlas.microsoft.com:443 \"GET /search/fuzzy/json?Content-Type=application%2Fjson&subscription-key=6j_USCas00Jqmpj2EFtKe18nLWPylj0gPTOLeBypt9U&api-version=1.0&query=GEANT+-+CASINO+SM+BAGNEUX+NATIONALE+20%2C+France HTTP/1.1\" 200 1964\n",
      "DEBUG 2019-03-06 14:13:22,551 Starting new HTTPS connection (1): atlas.microsoft.com:443\n"
     ]
    },
    {
     "name": "stdout",
     "output_type": "stream",
     "text": [
      "Web scrapping at : 64.991% which took 264 seconds to run.\n"
     ]
    },
    {
     "name": "stderr",
     "output_type": "stream",
     "text": [
      "DEBUG 2019-03-06 14:13:22,903 https://atlas.microsoft.com:443 \"GET /search/fuzzy/json?Content-Type=application%2Fjson&subscription-key=6j_USCas00Jqmpj2EFtKe18nLWPylj0gPTOLeBypt9U&api-version=1.0&query=GEANT+-+CASINO+PS+GOURDON%2C+France HTTP/1.1\" 200 8037\n",
      "DEBUG 2019-03-06 14:13:22,912 Starting new HTTPS connection (1): atlas.microsoft.com:443\n"
     ]
    },
    {
     "name": "stdout",
     "output_type": "stream",
     "text": [
      "Web scrapping at : 65.084% which took 264 seconds to run.\n"
     ]
    },
    {
     "name": "stderr",
     "output_type": "stream",
     "text": [
      "DEBUG 2019-03-06 14:13:23,511 https://atlas.microsoft.com:443 \"GET /search/fuzzy/json?Content-Type=application%2Fjson&subscription-key=6j_USCas00Jqmpj2EFtKe18nLWPylj0gPTOLeBypt9U&api-version=1.0&query=GEANT+-+CASINO+PS+LUZECH+BERGERIE+SUD+LUZE%2C+France HTTP/1.1\" 200 7913\n",
      "DEBUG 2019-03-06 14:13:23,519 Starting new HTTPS connection (1): atlas.microsoft.com:443\n"
     ]
    },
    {
     "name": "stdout",
     "output_type": "stream",
     "text": [
      "Web scrapping at : 65.177% which took 265 seconds to run.\n"
     ]
    },
    {
     "name": "stderr",
     "output_type": "stream",
     "text": [
      "DEBUG 2019-03-06 14:13:24,081 https://atlas.microsoft.com:443 \"GET /search/fuzzy/json?Content-Type=application%2Fjson&subscription-key=6j_USCas00Jqmpj2EFtKe18nLWPylj0gPTOLeBypt9U&api-version=1.0&query=GEANT+-+CASINO+PS+STE+GENEVIEVE+RD+531+ANGLADE%2C+France HTTP/1.1\" 200 3390\n",
      "DEBUG 2019-03-06 14:13:24,089 Starting new HTTPS connection (1): atlas.microsoft.com:443\n"
     ]
    },
    {
     "name": "stdout",
     "output_type": "stream",
     "text": [
      "Web scrapping at : 65.27% which took 266 seconds to run.\n"
     ]
    },
    {
     "name": "stderr",
     "output_type": "stream",
     "text": [
      "DEBUG 2019-03-06 14:13:24,493 https://atlas.microsoft.com:443 \"GET /search/fuzzy/json?Content-Type=application%2Fjson&subscription-key=6j_USCas00Jqmpj2EFtKe18nLWPylj0gPTOLeBypt9U&api-version=1.0&query=GEANT+-+CASINO+PS+CAZALS%2C+France HTTP/1.1\" 200 8036\n",
      "DEBUG 2019-03-06 14:13:24,501 Starting new HTTPS connection (1): atlas.microsoft.com:443\n"
     ]
    },
    {
     "name": "stdout",
     "output_type": "stream",
     "text": [
      "Web scrapping at : 65.363% which took 266 seconds to run.\n"
     ]
    },
    {
     "name": "stderr",
     "output_type": "stream",
     "text": [
      "DEBUG 2019-03-06 14:13:25,069 https://atlas.microsoft.com:443 \"GET /search/fuzzy/json?Content-Type=application%2Fjson&subscription-key=6j_USCas00Jqmpj2EFtKe18nLWPylj0gPTOLeBypt9U&api-version=1.0&query=GEANT+-+CASINO+PS+COULOUNIEIX+GL+DE+GAULLE%2C+France HTTP/1.1\" 200 9596\n",
      "DEBUG 2019-03-06 14:13:25,078 Starting new HTTPS connection (1): atlas.microsoft.com:443\n"
     ]
    },
    {
     "name": "stdout",
     "output_type": "stream",
     "text": [
      "Web scrapping at : 65.456% which took 267 seconds to run.\n"
     ]
    },
    {
     "name": "stderr",
     "output_type": "stream",
     "text": [
      "DEBUG 2019-03-06 14:13:25,669 https://atlas.microsoft.com:443 \"GET /search/fuzzy/json?Content-Type=application%2Fjson&subscription-key=6j_USCas00Jqmpj2EFtKe18nLWPylj0gPTOLeBypt9U&api-version=1.0&query=GEANT+-+CASINO+PS+LE+CAP+D+AGDE%2C+France HTTP/1.1\" 200 8221\n",
      "DEBUG 2019-03-06 14:13:25,679 Starting new HTTPS connection (1): atlas.microsoft.com:443\n"
     ]
    },
    {
     "name": "stdout",
     "output_type": "stream",
     "text": [
      "Web scrapping at : 65.549% which took 267 seconds to run.\n"
     ]
    },
    {
     "name": "stderr",
     "output_type": "stream",
     "text": [
      "DEBUG 2019-03-06 14:13:26,191 https://atlas.microsoft.com:443 \"GET /search/fuzzy/json?Content-Type=application%2Fjson&subscription-key=6j_USCas00Jqmpj2EFtKe18nLWPylj0gPTOLeBypt9U&api-version=1.0&query=GEANT+-+CASINO+PS+PORT+LEUCATE%2C+France HTTP/1.1\" 200 8236\n",
      "DEBUG 2019-03-06 14:13:26,200 Starting new HTTPS connection (1): atlas.microsoft.com:443\n"
     ]
    },
    {
     "name": "stdout",
     "output_type": "stream",
     "text": [
      "Web scrapping at : 65.642% which took 268 seconds to run.\n"
     ]
    },
    {
     "name": "stderr",
     "output_type": "stream",
     "text": [
      "DEBUG 2019-03-06 14:13:26,894 https://atlas.microsoft.com:443 \"GET /search/fuzzy/json?Content-Type=application%2Fjson&subscription-key=6j_USCas00Jqmpj2EFtKe18nLWPylj0gPTOLeBypt9U&api-version=1.0&query=GEANT+-+CASINO+LPE+CANET+ROUSSILLON+JETEE+23%2C+France HTTP/1.1\" 200 7813\n",
      "DEBUG 2019-03-06 14:13:26,903 Starting new HTTPS connection (1): atlas.microsoft.com:443\n"
     ]
    },
    {
     "name": "stdout",
     "output_type": "stream",
     "text": [
      "Web scrapping at : 65.736% which took 268 seconds to run.\n"
     ]
    },
    {
     "name": "stderr",
     "output_type": "stream",
     "text": [
      "DEBUG 2019-03-06 14:13:27,226 https://atlas.microsoft.com:443 \"GET /search/fuzzy/json?Content-Type=application%2Fjson&subscription-key=6j_USCas00Jqmpj2EFtKe18nLWPylj0gPTOLeBypt9U&api-version=1.0&query=GEANT+-+CASINO+BELLEGARDE+BEAUCAIRE%2C+France HTTP/1.1\" 200 8047\n",
      "DEBUG 2019-03-06 14:13:27,235 Starting new HTTPS connection (1): atlas.microsoft.com:443\n"
     ]
    },
    {
     "name": "stdout",
     "output_type": "stream",
     "text": [
      "Web scrapping at : 65.829% which took 269 seconds to run.\n"
     ]
    },
    {
     "name": "stderr",
     "output_type": "stream",
     "text": [
      "DEBUG 2019-03-06 14:13:27,691 https://atlas.microsoft.com:443 \"GET /search/fuzzy/json?Content-Type=application%2Fjson&subscription-key=6j_USCas00Jqmpj2EFtKe18nLWPylj0gPTOLeBypt9U&api-version=1.0&query=GEANT+-+CASINO+PS+LE+BUISSON%2C+France HTTP/1.1\" 200 9003\n",
      "DEBUG 2019-03-06 14:13:27,700 Starting new HTTPS connection (1): atlas.microsoft.com:443\n"
     ]
    },
    {
     "name": "stdout",
     "output_type": "stream",
     "text": [
      "Web scrapping at : 65.922% which took 269 seconds to run.\n"
     ]
    },
    {
     "name": "stderr",
     "output_type": "stream",
     "text": [
      "DEBUG 2019-03-06 14:13:28,256 https://atlas.microsoft.com:443 \"GET /search/fuzzy/json?Content-Type=application%2Fjson&subscription-key=6j_USCas00Jqmpj2EFtKe18nLWPylj0gPTOLeBypt9U&api-version=1.0&query=GEANT+-+CASINO+PS+CAP+FERRET+RUE+DES+FAUVETTES%2C+France HTTP/1.1\" 200 7048\n",
      "DEBUG 2019-03-06 14:13:28,265 Starting new HTTPS connection (1): atlas.microsoft.com:443\n"
     ]
    },
    {
     "name": "stdout",
     "output_type": "stream",
     "text": [
      "Web scrapping at : 66.015% which took 270 seconds to run.\n"
     ]
    },
    {
     "name": "stderr",
     "output_type": "stream",
     "text": [
      "DEBUG 2019-03-06 14:13:28,881 https://atlas.microsoft.com:443 \"GET /search/fuzzy/json?Content-Type=application%2Fjson&subscription-key=6j_USCas00Jqmpj2EFtKe18nLWPylj0gPTOLeBypt9U&api-version=1.0&query=GEANT+-+CASINO+PS+ST+PALAIS+SUR+MER%2C+France HTTP/1.1\" 200 6155\n",
      "DEBUG 2019-03-06 14:13:28,890 Starting new HTTPS connection (1): atlas.microsoft.com:443\n"
     ]
    },
    {
     "name": "stdout",
     "output_type": "stream",
     "text": [
      "Web scrapping at : 66.108% which took 270 seconds to run.\n"
     ]
    },
    {
     "name": "stderr",
     "output_type": "stream",
     "text": [
      "DEBUG 2019-03-06 14:13:29,480 https://atlas.microsoft.com:443 \"GET /search/fuzzy/json?Content-Type=application%2Fjson&subscription-key=6j_USCas00Jqmpj2EFtKe18nLWPylj0gPTOLeBypt9U&api-version=1.0&query=GEANT+-+CASINO+PS+GRIGNOLS+1+ALLEE+ST+MICHEL%2C+France HTTP/1.1\" 200 6036\n",
      "DEBUG 2019-03-06 14:13:29,488 Starting new HTTPS connection (1): atlas.microsoft.com:443\n"
     ]
    },
    {
     "name": "stdout",
     "output_type": "stream",
     "text": [
      "Web scrapping at : 66.201% which took 271 seconds to run.\n"
     ]
    },
    {
     "name": "stderr",
     "output_type": "stream",
     "text": [
      "DEBUG 2019-03-06 14:13:30,222 https://atlas.microsoft.com:443 \"GET /search/fuzzy/json?Content-Type=application%2Fjson&subscription-key=6j_USCas00Jqmpj2EFtKe18nLWPylj0gPTOLeBypt9U&api-version=1.0&query=GEANT+-+CASINO+GENERAC+GRAND+RUE+GRANOTRE+DAME%2C+France HTTP/1.1\" 200 8906\n",
      "DEBUG 2019-03-06 14:13:30,231 Starting new HTTPS connection (1): atlas.microsoft.com:443\n"
     ]
    },
    {
     "name": "stdout",
     "output_type": "stream",
     "text": [
      "Web scrapping at : 66.294% which took 272 seconds to run.\n"
     ]
    },
    {
     "name": "stderr",
     "output_type": "stream",
     "text": [
      "DEBUG 2019-03-06 14:13:30,643 https://atlas.microsoft.com:443 \"GET /search/fuzzy/json?Content-Type=application%2Fjson&subscription-key=6j_USCas00Jqmpj2EFtKe18nLWPylj0gPTOLeBypt9U&api-version=1.0&query=GEANT+-+CASINO+PS+MONTAIGU+BRECHE%2C+France HTTP/1.1\" 200 8045\n",
      "DEBUG 2019-03-06 14:13:30,651 Starting new HTTPS connection (1): atlas.microsoft.com:443\n"
     ]
    },
    {
     "name": "stdout",
     "output_type": "stream",
     "text": [
      "Web scrapping at : 66.387% which took 272 seconds to run.\n"
     ]
    },
    {
     "name": "stderr",
     "output_type": "stream",
     "text": [
      "DEBUG 2019-03-06 14:13:31,116 https://atlas.microsoft.com:443 \"GET /search/fuzzy/json?Content-Type=application%2Fjson&subscription-key=6j_USCas00Jqmpj2EFtKe18nLWPylj0gPTOLeBypt9U&api-version=1.0&query=GEANT+-+CASINO+MAURIAC+REPUBLIQUE+27%2C+France HTTP/1.1\" 200 8042\n",
      "DEBUG 2019-03-06 14:13:31,125 Starting new HTTPS connection (1): atlas.microsoft.com:443\n"
     ]
    },
    {
     "name": "stdout",
     "output_type": "stream",
     "text": [
      "Web scrapping at : 66.48% which took 273 seconds to run.\n"
     ]
    },
    {
     "name": "stderr",
     "output_type": "stream",
     "text": [
      "DEBUG 2019-03-06 14:13:31,656 https://atlas.microsoft.com:443 \"GET /search/fuzzy/json?Content-Type=application%2Fjson&subscription-key=6j_USCas00Jqmpj2EFtKe18nLWPylj0gPTOLeBypt9U&api-version=1.0&query=GEANT+-+CASINO+PS+USSEL+SADI+CARNOT%2C+France HTTP/1.1\" 200 5609\n",
      "DEBUG 2019-03-06 14:13:31,665 Starting new HTTPS connection (1): atlas.microsoft.com:443\n"
     ]
    },
    {
     "name": "stdout",
     "output_type": "stream",
     "text": [
      "Web scrapping at : 66.574% which took 273 seconds to run.\n"
     ]
    },
    {
     "name": "stderr",
     "output_type": "stream",
     "text": [
      "DEBUG 2019-03-06 14:13:32,335 https://atlas.microsoft.com:443 \"GET /search/fuzzy/json?Content-Type=application%2Fjson&subscription-key=6j_USCas00Jqmpj2EFtKe18nLWPylj0gPTOLeBypt9U&api-version=1.0&query=GEANT+-+CASINO+PS+AUBUSSON+GRANDE+RUE%2C+France HTTP/1.1\" 200 9262\n",
      "DEBUG 2019-03-06 14:13:32,343 Starting new HTTPS connection (1): atlas.microsoft.com:443\n",
      "DEBUG 2019-03-06 14:13:32,429 https://atlas.microsoft.com:443 \"GET /search/fuzzy/json?Content-Type=application%2Fjson&subscription-key=6j_USCas00Jqmpj2EFtKe18nLWPylj0gPTOLeBypt9U&api-version=1.0&query=GEANT+-+CASINO+PS+SAINTES+GAMBETTA+STES%2C+France HTTP/1.1\" 200 6299\n",
      "DEBUG 2019-03-06 14:13:32,437 Starting new HTTPS connection (1): atlas.microsoft.com:443\n"
     ]
    },
    {
     "name": "stdout",
     "output_type": "stream",
     "text": [
      "Web scrapping at : 66.667% which took 274 seconds to run.\n",
      "Web scrapping at : 66.76% which took 274 seconds to run.\n"
     ]
    },
    {
     "name": "stderr",
     "output_type": "stream",
     "text": [
      "DEBUG 2019-03-06 14:13:32,866 https://atlas.microsoft.com:443 \"GET /search/fuzzy/json?Content-Type=application%2Fjson&subscription-key=6j_USCas00Jqmpj2EFtKe18nLWPylj0gPTOLeBypt9U&api-version=1.0&query=GEANT+-+CASINO+PS+VALLIERES+GRANDE+RUE%2C+France HTTP/1.1\" 200 9307\n",
      "DEBUG 2019-03-06 14:13:32,875 Starting new HTTPS connection (1): atlas.microsoft.com:443\n"
     ]
    },
    {
     "name": "stdout",
     "output_type": "stream",
     "text": [
      "Web scrapping at : 66.853% which took 274 seconds to run.\n"
     ]
    },
    {
     "name": "stderr",
     "output_type": "stream",
     "text": [
      "DEBUG 2019-03-06 14:13:33,384 https://atlas.microsoft.com:443 \"GET /search/fuzzy/json?Content-Type=application%2Fjson&subscription-key=6j_USCas00Jqmpj2EFtKe18nLWPylj0gPTOLeBypt9U&api-version=1.0&query=GEANT+-+CASINO+ST+GIRONS+AV.+CAMEL%2C+France HTTP/1.1\" 200 9565\n",
      "DEBUG 2019-03-06 14:13:33,393 Starting new HTTPS connection (1): atlas.microsoft.com:443\n"
     ]
    },
    {
     "name": "stdout",
     "output_type": "stream",
     "text": [
      "Web scrapping at : 66.946% which took 275 seconds to run.\n"
     ]
    },
    {
     "name": "stderr",
     "output_type": "stream",
     "text": [
      "DEBUG 2019-03-06 14:13:33,902 https://atlas.microsoft.com:443 \"GET /search/fuzzy/json?Content-Type=application%2Fjson&subscription-key=6j_USCas00Jqmpj2EFtKe18nLWPylj0gPTOLeBypt9U&api-version=1.0&query=GEANT+-+CASINO+LPE+LA+ROCHELLE+SISLEY%2C+France HTTP/1.1\" 200 8644\n",
      "DEBUG 2019-03-06 14:13:33,910 Starting new HTTPS connection (1): atlas.microsoft.com:443\n"
     ]
    },
    {
     "name": "stdout",
     "output_type": "stream",
     "text": [
      "Web scrapping at : 67.039% which took 275 seconds to run.\n"
     ]
    },
    {
     "name": "stderr",
     "output_type": "stream",
     "text": [
      "DEBUG 2019-03-06 14:13:34,287 https://atlas.microsoft.com:443 \"GET /search/fuzzy/json?Content-Type=application%2Fjson&subscription-key=6j_USCas00Jqmpj2EFtKe18nLWPylj0gPTOLeBypt9U&api-version=1.0&query=GEANT+-+CASINO+LPE+ROCHEFORT+AV.+GAMBETTA%2C+France HTTP/1.1\" 200 9154\n",
      "DEBUG 2019-03-06 14:13:34,296 Starting new HTTPS connection (1): atlas.microsoft.com:443\n"
     ]
    },
    {
     "name": "stdout",
     "output_type": "stream",
     "text": [
      "Web scrapping at : 67.132% which took 276 seconds to run.\n"
     ]
    },
    {
     "name": "stderr",
     "output_type": "stream",
     "text": [
      "DEBUG 2019-03-06 14:13:34,678 https://atlas.microsoft.com:443 \"GET /search/fuzzy/json?Content-Type=application%2Fjson&subscription-key=6j_USCas00Jqmpj2EFtKe18nLWPylj0gPTOLeBypt9U&api-version=1.0&query=GEANT+-+CASINO+PS+CARNON%2C+France HTTP/1.1\" 200 8036\n",
      "DEBUG 2019-03-06 14:13:34,687 Starting new HTTPS connection (1): atlas.microsoft.com:443\n"
     ]
    },
    {
     "name": "stdout",
     "output_type": "stream",
     "text": [
      "Web scrapping at : 67.225% which took 276 seconds to run.\n"
     ]
    },
    {
     "name": "stderr",
     "output_type": "stream",
     "text": [
      "DEBUG 2019-03-06 14:13:35,462 https://atlas.microsoft.com:443 \"GET /search/fuzzy/json?Content-Type=application%2Fjson&subscription-key=6j_USCas00Jqmpj2EFtKe18nLWPylj0gPTOLeBypt9U&api-version=1.0&query=GEANT+-+CASINO+PS+PORT+CAMARGUE%2C+France HTTP/1.1\" 200 7936\n",
      "DEBUG 2019-03-06 14:13:35,471 Starting new HTTPS connection (1): atlas.microsoft.com:443\n"
     ]
    },
    {
     "name": "stdout",
     "output_type": "stream",
     "text": [
      "Web scrapping at : 67.318% which took 277 seconds to run.\n"
     ]
    },
    {
     "name": "stderr",
     "output_type": "stream",
     "text": [
      "DEBUG 2019-03-06 14:13:36,013 https://atlas.microsoft.com:443 \"GET /search/fuzzy/json?Content-Type=application%2Fjson&subscription-key=6j_USCas00Jqmpj2EFtKe18nLWPylj0gPTOLeBypt9U&api-version=1.0&query=GEANT+-+CASINO+PS+SALIN+DE+GIRAUD+CAMARGUE%2C+France HTTP/1.1\" 200 9069\n",
      "DEBUG 2019-03-06 14:13:36,022 Starting new HTTPS connection (1): atlas.microsoft.com:443\n"
     ]
    },
    {
     "name": "stdout",
     "output_type": "stream",
     "text": [
      "Web scrapping at : 67.412% which took 277 seconds to run.\n"
     ]
    },
    {
     "name": "stderr",
     "output_type": "stream",
     "text": [
      "DEBUG 2019-03-06 14:13:36,453 https://atlas.microsoft.com:443 \"GET /search/fuzzy/json?Content-Type=application%2Fjson&subscription-key=6j_USCas00Jqmpj2EFtKe18nLWPylj0gPTOLeBypt9U&api-version=1.0&query=GEANT+-+CASINO+PS+MONTAGNAC+VERDUN+ESPLANADE%2C+France HTTP/1.1\" 200 183\n",
      "DEBUG 2019-03-06 14:13:36,462 Starting new HTTPS connection (1): atlas.microsoft.com:443\n"
     ]
    },
    {
     "name": "stdout",
     "output_type": "stream",
     "text": [
      "Web scrapping at : 67.505% which took 278 seconds to run.\n"
     ]
    },
    {
     "name": "stderr",
     "output_type": "stream",
     "text": [
      "DEBUG 2019-03-06 14:13:36,924 https://atlas.microsoft.com:443 \"GET /search/fuzzy/json?Content-Type=application%2Fjson&subscription-key=6j_USCas00Jqmpj2EFtKe18nLWPylj0gPTOLeBypt9U&api-version=1.0&query=GEANT+-+CASINO+PS+CARNON+SOLIGNAC%2C+France HTTP/1.1\" 200 8045\n",
      "DEBUG 2019-03-06 14:13:36,933 Starting new HTTPS connection (1): atlas.microsoft.com:443\n"
     ]
    },
    {
     "name": "stdout",
     "output_type": "stream",
     "text": [
      "Web scrapping at : 67.598% which took 278 seconds to run.\n"
     ]
    },
    {
     "name": "stderr",
     "output_type": "stream",
     "text": [
      "DEBUG 2019-03-06 14:13:37,315 https://atlas.microsoft.com:443 \"GET /search/fuzzy/json?Content-Type=application%2Fjson&subscription-key=6j_USCas00Jqmpj2EFtKe18nLWPylj0gPTOLeBypt9U&api-version=1.0&query=GEANT+-+CASINO+PS+ROQUEFORT%2C+France HTTP/1.1\" 200 8039\n",
      "DEBUG 2019-03-06 14:13:37,324 Starting new HTTPS connection (1): atlas.microsoft.com:443\n"
     ]
    },
    {
     "name": "stdout",
     "output_type": "stream",
     "text": [
      "Web scrapping at : 67.691% which took 279 seconds to run.\n"
     ]
    },
    {
     "name": "stderr",
     "output_type": "stream",
     "text": [
      "DEBUG 2019-03-06 14:13:37,672 https://atlas.microsoft.com:443 \"GET /search/fuzzy/json?Content-Type=application%2Fjson&subscription-key=6j_USCas00Jqmpj2EFtKe18nLWPylj0gPTOLeBypt9U&api-version=1.0&query=GEANT+-+CASINO+PS+MAUVEZIN%2C+France HTTP/1.1\" 200 8038\n",
      "DEBUG 2019-03-06 14:13:37,680 Starting new HTTPS connection (1): atlas.microsoft.com:443\n"
     ]
    },
    {
     "name": "stdout",
     "output_type": "stream",
     "text": [
      "Web scrapping at : 67.784% which took 279 seconds to run.\n"
     ]
    },
    {
     "name": "stderr",
     "output_type": "stream",
     "text": [
      "DEBUG 2019-03-06 14:13:38,181 https://atlas.microsoft.com:443 \"GET /search/fuzzy/json?Content-Type=application%2Fjson&subscription-key=6j_USCas00Jqmpj2EFtKe18nLWPylj0gPTOLeBypt9U&api-version=1.0&query=GEANT+-+CASINO+PS+L+ISLE+JOURDAIN%2C+France HTTP/1.1\" 200 4056\n",
      "DEBUG 2019-03-06 14:13:38,189 Starting new HTTPS connection (1): atlas.microsoft.com:443\n"
     ]
    },
    {
     "name": "stdout",
     "output_type": "stream",
     "text": [
      "Web scrapping at : 67.877% which took 280 seconds to run.\n"
     ]
    },
    {
     "name": "stderr",
     "output_type": "stream",
     "text": [
      "DEBUG 2019-03-06 14:13:38,618 https://atlas.microsoft.com:443 \"GET /search/fuzzy/json?Content-Type=application%2Fjson&subscription-key=6j_USCas00Jqmpj2EFtKe18nLWPylj0gPTOLeBypt9U&api-version=1.0&query=GEANT+-+CASINO+PS+DAUMAZAN%2C+France HTTP/1.1\" 200 8038\n",
      "DEBUG 2019-03-06 14:13:38,626 Starting new HTTPS connection (1): atlas.microsoft.com:443\n"
     ]
    },
    {
     "name": "stdout",
     "output_type": "stream",
     "text": [
      "Web scrapping at : 67.97% which took 280 seconds to run.\n"
     ]
    },
    {
     "name": "stderr",
     "output_type": "stream",
     "text": [
      "DEBUG 2019-03-06 14:13:38,981 https://atlas.microsoft.com:443 \"GET /search/fuzzy/json?Content-Type=application%2Fjson&subscription-key=6j_USCas00Jqmpj2EFtKe18nLWPylj0gPTOLeBypt9U&api-version=1.0&query=GEANT+-+CASINO+PS+NAY+MARCADIEU%2C+France HTTP/1.1\" 200 8043\n",
      "DEBUG 2019-03-06 14:13:38,990 Starting new HTTPS connection (1): atlas.microsoft.com:443\n"
     ]
    },
    {
     "name": "stdout",
     "output_type": "stream",
     "text": [
      "Web scrapping at : 68.063% which took 280 seconds to run.\n"
     ]
    },
    {
     "name": "stderr",
     "output_type": "stream",
     "text": [
      "DEBUG 2019-03-06 14:13:39,387 https://atlas.microsoft.com:443 \"GET /search/fuzzy/json?Content-Type=application%2Fjson&subscription-key=6j_USCas00Jqmpj2EFtKe18nLWPylj0gPTOLeBypt9U&api-version=1.0&query=GEANT+-+CASINO+PS+TARDETS%2C+France HTTP/1.1\" 200 8037\n",
      "DEBUG 2019-03-06 14:13:39,396 Starting new HTTPS connection (1): atlas.microsoft.com:443\n"
     ]
    },
    {
     "name": "stdout",
     "output_type": "stream",
     "text": [
      "Web scrapping at : 68.156% which took 281 seconds to run.\n"
     ]
    },
    {
     "name": "stderr",
     "output_type": "stream",
     "text": [
      "DEBUG 2019-03-06 14:13:39,770 https://atlas.microsoft.com:443 \"GET /search/fuzzy/json?Content-Type=application%2Fjson&subscription-key=6j_USCas00Jqmpj2EFtKe18nLWPylj0gPTOLeBypt9U&api-version=1.0&query=GEANT+-+CASINO+PS+HOSSEGOR%2C+France HTTP/1.1\" 200 8038\n",
      "DEBUG 2019-03-06 14:13:39,778 Starting new HTTPS connection (1): atlas.microsoft.com:443\n"
     ]
    },
    {
     "name": "stdout",
     "output_type": "stream",
     "text": [
      "Web scrapping at : 68.25% which took 281 seconds to run.\n"
     ]
    },
    {
     "name": "stderr",
     "output_type": "stream",
     "text": [
      "DEBUG 2019-03-06 14:13:40,492 https://atlas.microsoft.com:443 \"GET /search/fuzzy/json?Content-Type=application%2Fjson&subscription-key=6j_USCas00Jqmpj2EFtKe18nLWPylj0gPTOLeBypt9U&api-version=1.0&query=GEANT+-+CASINO+PS+NAY+PLACE+DE+LA+REPUBLIQUE%2C+France HTTP/1.1\" 200 8353\n",
      "DEBUG 2019-03-06 14:13:40,500 Starting new HTTPS connection (1): atlas.microsoft.com:443\n"
     ]
    },
    {
     "name": "stdout",
     "output_type": "stream",
     "text": [
      "Web scrapping at : 68.343% which took 282 seconds to run.\n"
     ]
    },
    {
     "name": "stderr",
     "output_type": "stream",
     "text": [
      "DEBUG 2019-03-06 14:13:40,948 https://atlas.microsoft.com:443 \"GET /search/fuzzy/json?Content-Type=application%2Fjson&subscription-key=6j_USCas00Jqmpj2EFtKe18nLWPylj0gPTOLeBypt9U&api-version=1.0&query=GEANT+-+CASINO+PS+LABARTHE+DE+RIVIERE%2C+France HTTP/1.1\" 200 8765\n",
      "DEBUG 2019-03-06 14:13:40,957 Starting new HTTPS connection (1): atlas.microsoft.com:443\n"
     ]
    },
    {
     "name": "stdout",
     "output_type": "stream",
     "text": [
      "Web scrapping at : 68.436% which took 282 seconds to run.\n"
     ]
    },
    {
     "name": "stderr",
     "output_type": "stream",
     "text": [
      "DEBUG 2019-03-06 14:13:41,488 https://atlas.microsoft.com:443 \"GET /search/fuzzy/json?Content-Type=application%2Fjson&subscription-key=6j_USCas00Jqmpj2EFtKe18nLWPylj0gPTOLeBypt9U&api-version=1.0&query=GEANT+-+CASINO+PS+LUCHON+ALLEE+D+ETIGNY%2C+France HTTP/1.1\" 200 8970\n",
      "DEBUG 2019-03-06 14:13:41,497 Starting new HTTPS connection (1): atlas.microsoft.com:443\n"
     ]
    },
    {
     "name": "stdout",
     "output_type": "stream",
     "text": [
      "Web scrapping at : 68.529% which took 283 seconds to run.\n"
     ]
    },
    {
     "name": "stderr",
     "output_type": "stream",
     "text": [
      "DEBUG 2019-03-06 14:13:41,925 https://atlas.microsoft.com:443 \"GET /search/fuzzy/json?Content-Type=application%2Fjson&subscription-key=6j_USCas00Jqmpj2EFtKe18nLWPylj0gPTOLeBypt9U&api-version=1.0&query=GEANT+-+CASINO+PS+PLAISANCE+DU+GERS%2C+France HTTP/1.1\" 200 8477\n",
      "DEBUG 2019-03-06 14:13:41,934 Starting new HTTPS connection (1): atlas.microsoft.com:443\n",
      "DEBUG 2019-03-06 14:13:42,021 https://atlas.microsoft.com:443 \"GET /search/fuzzy/json?Content-Type=application%2Fjson&subscription-key=6j_USCas00Jqmpj2EFtKe18nLWPylj0gPTOLeBypt9U&api-version=1.0&query=GEANT+-+CASINO+PS+AUCH+RUE+VICTOR+HUGO+AU%2C+France HTTP/1.1\" 200 4426\n",
      "DEBUG 2019-03-06 14:13:42,031 Starting new HTTPS connection (1): atlas.microsoft.com:443\n"
     ]
    },
    {
     "name": "stdout",
     "output_type": "stream",
     "text": [
      "Web scrapping at : 68.622% which took 283 seconds to run.\n",
      "Web scrapping at : 68.715% which took 284 seconds to run.\n"
     ]
    },
    {
     "name": "stderr",
     "output_type": "stream",
     "text": [
      "DEBUG 2019-03-06 14:13:42,566 https://atlas.microsoft.com:443 \"GET /search/fuzzy/json?Content-Type=application%2Fjson&subscription-key=6j_USCas00Jqmpj2EFtKe18nLWPylj0gPTOLeBypt9U&api-version=1.0&query=GEANT+-+CASINO+PS+AUCH+AV+D+ALSACE+AU%2C+France HTTP/1.1\" 200 7746\n",
      "DEBUG 2019-03-06 14:13:42,574 Starting new HTTPS connection (1): atlas.microsoft.com:443\n"
     ]
    },
    {
     "name": "stdout",
     "output_type": "stream",
     "text": [
      "Web scrapping at : 68.808% which took 284 seconds to run.\n"
     ]
    },
    {
     "name": "stderr",
     "output_type": "stream",
     "text": [
      "DEBUG 2019-03-06 14:13:43,340 https://atlas.microsoft.com:443 \"GET /search/fuzzy/json?Content-Type=application%2Fjson&subscription-key=6j_USCas00Jqmpj2EFtKe18nLWPylj0gPTOLeBypt9U&api-version=1.0&query=GEANT+-+CASINO+PS+ST+PALAIS+DE+GAULLE%2C+France HTTP/1.1\" 200 6047\n",
      "DEBUG 2019-03-06 14:13:43,348 Starting new HTTPS connection (1): atlas.microsoft.com:443\n"
     ]
    },
    {
     "name": "stdout",
     "output_type": "stream",
     "text": [
      "Web scrapping at : 68.901% which took 285 seconds to run.\n"
     ]
    },
    {
     "name": "stderr",
     "output_type": "stream",
     "text": [
      "DEBUG 2019-03-06 14:13:43,868 https://atlas.microsoft.com:443 \"GET /search/fuzzy/json?Content-Type=application%2Fjson&subscription-key=6j_USCas00Jqmpj2EFtKe18nLWPylj0gPTOLeBypt9U&api-version=1.0&query=GEANT+-+CASINO+PS+FONTAINE+CURIE+128%2C+France HTTP/1.1\" 200 8549\n",
      "DEBUG 2019-03-06 14:13:43,876 Starting new HTTPS connection (1): atlas.microsoft.com:443\n"
     ]
    },
    {
     "name": "stdout",
     "output_type": "stream",
     "text": [
      "Web scrapping at : 68.994% which took 285 seconds to run.\n"
     ]
    },
    {
     "name": "stderr",
     "output_type": "stream",
     "text": [
      "DEBUG 2019-03-06 14:13:44,571 https://atlas.microsoft.com:443 \"GET /search/fuzzy/json?Content-Type=application%2Fjson&subscription-key=6j_USCas00Jqmpj2EFtKe18nLWPylj0gPTOLeBypt9U&api-version=1.0&query=GEANT+-+CASINO+PS+LE+CHAMBON+LIGNON+CHAMP+DE+MARS%2C+France HTTP/1.1\" 200 7076\n",
      "DEBUG 2019-03-06 14:13:44,579 Starting new HTTPS connection (1): atlas.microsoft.com:443\n"
     ]
    },
    {
     "name": "stdout",
     "output_type": "stream",
     "text": [
      "Web scrapping at : 69.088% which took 286 seconds to run.\n"
     ]
    },
    {
     "name": "stderr",
     "output_type": "stream",
     "text": [
      "DEBUG 2019-03-06 14:13:44,982 https://atlas.microsoft.com:443 \"GET /search/fuzzy/json?Content-Type=application%2Fjson&subscription-key=6j_USCas00Jqmpj2EFtKe18nLWPylj0gPTOLeBypt9U&api-version=1.0&query=GEANT+-+CASINO+PS+MURAT+BON+SECOURS%2C+France HTTP/1.1\" 200 3124\n",
      "DEBUG 2019-03-06 14:13:44,990 Starting new HTTPS connection (1): atlas.microsoft.com:443\n"
     ]
    },
    {
     "name": "stdout",
     "output_type": "stream",
     "text": [
      "Web scrapping at : 69.181% which took 286 seconds to run.\n"
     ]
    },
    {
     "name": "stderr",
     "output_type": "stream",
     "text": [
      "DEBUG 2019-03-06 14:13:45,407 https://atlas.microsoft.com:443 \"GET /search/fuzzy/json?Content-Type=application%2Fjson&subscription-key=6j_USCas00Jqmpj2EFtKe18nLWPylj0gPTOLeBypt9U&api-version=1.0&query=GEANT+-+CASINO+PS+ST+FLOUR+MARCHANDE%2C+France HTTP/1.1\" 200 8782\n",
      "DEBUG 2019-03-06 14:13:45,416 Starting new HTTPS connection (1): atlas.microsoft.com:443\n"
     ]
    },
    {
     "name": "stdout",
     "output_type": "stream",
     "text": [
      "Web scrapping at : 69.274% which took 287 seconds to run.\n"
     ]
    },
    {
     "name": "stderr",
     "output_type": "stream",
     "text": [
      "DEBUG 2019-03-06 14:13:45,981 https://atlas.microsoft.com:443 \"GET /search/fuzzy/json?Content-Type=application%2Fjson&subscription-key=6j_USCas00Jqmpj2EFtKe18nLWPylj0gPTOLeBypt9U&api-version=1.0&query=GEANT+-+CASINO+PS+QUISSAC+AV+DU+11+NOVEMBRE%2C+France HTTP/1.1\" 200 7010\n",
      "DEBUG 2019-03-06 14:13:45,989 Starting new HTTPS connection (1): atlas.microsoft.com:443\n"
     ]
    },
    {
     "name": "stdout",
     "output_type": "stream",
     "text": [
      "Web scrapping at : 69.367% which took 287 seconds to run.\n"
     ]
    },
    {
     "name": "stderr",
     "output_type": "stream",
     "text": [
      "DEBUG 2019-03-06 14:13:46,825 https://atlas.microsoft.com:443 \"GET /search/fuzzy/json?Content-Type=application%2Fjson&subscription-key=6j_USCas00Jqmpj2EFtKe18nLWPylj0gPTOLeBypt9U&api-version=1.0&query=GEANT+-+CASINO+PS+ST+CLEMENT+C.C+LE+BOULIDOU%2C+France HTTP/1.1\" 200 5649\n",
      "DEBUG 2019-03-06 14:13:46,833 Starting new HTTPS connection (1): atlas.microsoft.com:443\n"
     ]
    },
    {
     "name": "stdout",
     "output_type": "stream",
     "text": [
      "Web scrapping at : 69.46% which took 288 seconds to run.\n"
     ]
    },
    {
     "name": "stderr",
     "output_type": "stream",
     "text": [
      "DEBUG 2019-03-06 14:13:47,427 https://atlas.microsoft.com:443 \"GET /search/fuzzy/json?Content-Type=application%2Fjson&subscription-key=6j_USCas00Jqmpj2EFtKe18nLWPylj0gPTOLeBypt9U&api-version=1.0&query=GEANT+-+CASINO+PS+CONTES+PLACE+ALBERT+OLIVIER%2C+France HTTP/1.1\" 200 7260\n",
      "DEBUG 2019-03-06 14:13:47,435 Starting new HTTPS connection (1): atlas.microsoft.com:443\n",
      "DEBUG 2019-03-06 14:13:47,521 https://atlas.microsoft.com:443 \"GET /search/fuzzy/json?Content-Type=application%2Fjson&subscription-key=6j_USCas00Jqmpj2EFtKe18nLWPylj0gPTOLeBypt9U&api-version=1.0&query=GEANT+-+CASINO+PS+ST+AYGULF+GRANDS+CHATEAUX%2C+France HTTP/1.1\" 200 8727\n",
      "DEBUG 2019-03-06 14:13:47,530 Starting new HTTPS connection (1): atlas.microsoft.com:443\n"
     ]
    },
    {
     "name": "stdout",
     "output_type": "stream",
     "text": [
      "Web scrapping at : 69.553% which took 289 seconds to run.\n",
      "Web scrapping at : 69.646% which took 289 seconds to run.\n"
     ]
    },
    {
     "name": "stderr",
     "output_type": "stream",
     "text": [
      "DEBUG 2019-03-06 14:13:47,953 https://atlas.microsoft.com:443 \"GET /search/fuzzy/json?Content-Type=application%2Fjson&subscription-key=6j_USCas00Jqmpj2EFtKe18nLWPylj0gPTOLeBypt9U&api-version=1.0&query=GEANT+-+CASINO+PS+MARSEILLAN+CHARLEMAGNE%2C+France HTTP/1.1\" 200 8052\n",
      "DEBUG 2019-03-06 14:13:47,962 Starting new HTTPS connection (1): atlas.microsoft.com:443\n"
     ]
    },
    {
     "name": "stdout",
     "output_type": "stream",
     "text": [
      "Web scrapping at : 69.739% which took 289 seconds to run.\n"
     ]
    },
    {
     "name": "stderr",
     "output_type": "stream",
     "text": [
      "DEBUG 2019-03-06 14:13:48,984 https://atlas.microsoft.com:443 \"GET /search/fuzzy/json?Content-Type=application%2Fjson&subscription-key=6j_USCas00Jqmpj2EFtKe18nLWPylj0gPTOLeBypt9U&api-version=1.0&query=GEANT+-+CASINO+SAINTE+MARIE+LA+MER+STE%2C+France HTTP/1.1\" 200 7815\n",
      "DEBUG 2019-03-06 14:13:48,993 Starting new HTTPS connection (1): atlas.microsoft.com:443\n"
     ]
    },
    {
     "name": "stdout",
     "output_type": "stream",
     "text": [
      "Web scrapping at : 69.832% which took 290 seconds to run.\n"
     ]
    },
    {
     "name": "stderr",
     "output_type": "stream",
     "text": [
      "DEBUG 2019-03-06 14:13:49,424 https://atlas.microsoft.com:443 \"GET /search/fuzzy/json?Content-Type=application%2Fjson&subscription-key=6j_USCas00Jqmpj2EFtKe18nLWPylj0gPTOLeBypt9U&api-version=1.0&query=GEANT+-+CASINO+PS+BUSSIERES+REPUBLIQUE%2C+France HTTP/1.1\" 200 8277\n",
      "DEBUG 2019-03-06 14:13:49,433 Starting new HTTPS connection (1): atlas.microsoft.com:443\n"
     ]
    },
    {
     "name": "stdout",
     "output_type": "stream",
     "text": [
      "Web scrapping at : 69.926% which took 291 seconds to run.\n"
     ]
    },
    {
     "name": "stderr",
     "output_type": "stream",
     "text": [
      "DEBUG 2019-03-06 14:13:49,852 https://atlas.microsoft.com:443 \"GET /search/fuzzy/json?Content-Type=application%2Fjson&subscription-key=6j_USCas00Jqmpj2EFtKe18nLWPylj0gPTOLeBypt9U&api-version=1.0&query=GEANT+-+CASINO+PS+MILLERY+SENTIER%2C+France HTTP/1.1\" 200 14876\n",
      "DEBUG 2019-03-06 14:13:49,861 Starting new HTTPS connection (1): atlas.microsoft.com:443\n",
      "DEBUG 2019-03-06 14:13:49,948 https://atlas.microsoft.com:443 \"GET /search/fuzzy/json?Content-Type=application%2Fjson&subscription-key=6j_USCas00Jqmpj2EFtKe18nLWPylj0gPTOLeBypt9U&api-version=1.0&query=GEANT+-+CASINO+PS+CLERMONT+FERRAND+GERGOVIA+FERRANOTRE+DAME%2C+France HTTP/1.1\" 200 6840\n",
      "DEBUG 2019-03-06 14:13:49,957 Starting new HTTPS connection (1): atlas.microsoft.com:443\n"
     ]
    },
    {
     "name": "stdout",
     "output_type": "stream",
     "text": [
      "Web scrapping at : 70.019% which took 291 seconds to run.\n",
      "Web scrapping at : 70.112% which took 291 seconds to run.\n"
     ]
    },
    {
     "name": "stderr",
     "output_type": "stream",
     "text": [
      "DEBUG 2019-03-06 14:13:50,533 https://atlas.microsoft.com:443 \"GET /search/fuzzy/json?Content-Type=application%2Fjson&subscription-key=6j_USCas00Jqmpj2EFtKe18nLWPylj0gPTOLeBypt9U&api-version=1.0&query=GEANT+-+CASINO+PS+FONTAINE+SUR+SAONE+CARBON%2C+France HTTP/1.1\" 200 8781\n",
      "DEBUG 2019-03-06 14:13:50,541 Starting new HTTPS connection (1): atlas.microsoft.com:443\n"
     ]
    },
    {
     "name": "stdout",
     "output_type": "stream",
     "text": [
      "Web scrapping at : 70.205% which took 292 seconds to run.\n"
     ]
    },
    {
     "name": "stderr",
     "output_type": "stream",
     "text": [
      "DEBUG 2019-03-06 14:13:51,147 https://atlas.microsoft.com:443 \"GET /search/fuzzy/json?Content-Type=application%2Fjson&subscription-key=6j_USCas00Jqmpj2EFtKe18nLWPylj0gPTOLeBypt9U&api-version=1.0&query=GEANT+-+CASINO+PS+LE+TOUQUET+METZ%2C+France HTTP/1.1\" 200 9259\n",
      "DEBUG 2019-03-06 14:13:51,155 Starting new HTTPS connection (1): atlas.microsoft.com:443\n"
     ]
    },
    {
     "name": "stdout",
     "output_type": "stream",
     "text": [
      "Web scrapping at : 70.298% which took 293 seconds to run.\n"
     ]
    },
    {
     "name": "stderr",
     "output_type": "stream",
     "text": [
      "DEBUG 2019-03-06 14:13:51,712 https://atlas.microsoft.com:443 \"GET /search/fuzzy/json?Content-Type=application%2Fjson&subscription-key=6j_USCas00Jqmpj2EFtKe18nLWPylj0gPTOLeBypt9U&api-version=1.0&query=GEANT+-+CASINO+PS+LA+CELLE+ST+C.LAMARTINE%2C+France HTTP/1.1\" 200 6721\n",
      "DEBUG 2019-03-06 14:13:51,720 Starting new HTTPS connection (1): atlas.microsoft.com:443\n"
     ]
    },
    {
     "name": "stdout",
     "output_type": "stream",
     "text": [
      "Web scrapping at : 70.391% which took 293 seconds to run.\n"
     ]
    },
    {
     "name": "stderr",
     "output_type": "stream",
     "text": [
      "DEBUG 2019-03-06 14:13:52,304 https://atlas.microsoft.com:443 \"GET /search/fuzzy/json?Content-Type=application%2Fjson&subscription-key=6j_USCas00Jqmpj2EFtKe18nLWPylj0gPTOLeBypt9U&api-version=1.0&query=GEANT+-+CASINO+PS+LECROTOY+PORTE+DU+PONT+PO%2C+France HTTP/1.1\" 200 8117\n",
      "DEBUG 2019-03-06 14:13:52,313 Starting new HTTPS connection (1): atlas.microsoft.com:443\n"
     ]
    },
    {
     "name": "stdout",
     "output_type": "stream",
     "text": [
      "Web scrapping at : 70.484% which took 294 seconds to run.\n"
     ]
    },
    {
     "name": "stderr",
     "output_type": "stream",
     "text": [
      "DEBUG 2019-03-06 14:13:52,801 https://atlas.microsoft.com:443 \"GET /search/fuzzy/json?Content-Type=application%2Fjson&subscription-key=6j_USCas00Jqmpj2EFtKe18nLWPylj0gPTOLeBypt9U&api-version=1.0&query=GEANT+-+CASINO+LPE+ST+OUEN+MICHELET+108%2C+France HTTP/1.1\" 200 8095\n",
      "DEBUG 2019-03-06 14:13:52,810 Starting new HTTPS connection (1): atlas.microsoft.com:443\n"
     ]
    },
    {
     "name": "stdout",
     "output_type": "stream",
     "text": [
      "Web scrapping at : 70.577% which took 294 seconds to run.\n"
     ]
    },
    {
     "name": "stderr",
     "output_type": "stream",
     "text": [
      "DEBUG 2019-03-06 14:13:53,264 https://atlas.microsoft.com:443 \"GET /search/fuzzy/json?Content-Type=application%2Fjson&subscription-key=6j_USCas00Jqmpj2EFtKe18nLWPylj0gPTOLeBypt9U&api-version=1.0&query=GEANT+-+CASINO+VAUX+AUBIGNY+CHAMPAGNE%2C+France HTTP/1.1\" 200 6749\n",
      "DEBUG 2019-03-06 14:13:53,273 Starting new HTTPS connection (1): atlas.microsoft.com:443\n",
      "DEBUG 2019-03-06 14:13:53,385 https://atlas.microsoft.com:443 \"GET /search/fuzzy/json?Content-Type=application%2Fjson&subscription-key=6j_USCas00Jqmpj2EFtKe18nLWPylj0gPTOLeBypt9U&api-version=1.0&query=GEANT+-+CASINO+PS+LUGNY%2C+France HTTP/1.1\" 200 8033\n",
      "DEBUG 2019-03-06 14:13:53,393 Starting new HTTPS connection (1): atlas.microsoft.com:443\n"
     ]
    },
    {
     "name": "stdout",
     "output_type": "stream",
     "text": [
      "Web scrapping at : 70.67% which took 295 seconds to run.\n",
      "Web scrapping at : 70.764% which took 295 seconds to run.\n"
     ]
    },
    {
     "name": "stderr",
     "output_type": "stream",
     "text": [
      "DEBUG 2019-03-06 14:13:53,852 https://atlas.microsoft.com:443 \"GET /search/fuzzy/json?Content-Type=application%2Fjson&subscription-key=6j_USCas00Jqmpj2EFtKe18nLWPylj0gPTOLeBypt9U&api-version=1.0&query=GEANT+-+CASINO+PS+LES+ROUSSES+NOIRMONT%2C+France HTTP/1.1\" 200 7147\n",
      "DEBUG 2019-03-06 14:13:53,861 Starting new HTTPS connection (1): atlas.microsoft.com:443\n"
     ]
    },
    {
     "name": "stdout",
     "output_type": "stream",
     "text": [
      "Web scrapping at : 70.857% which took 295 seconds to run.\n"
     ]
    },
    {
     "name": "stderr",
     "output_type": "stream",
     "text": [
      "DEBUG 2019-03-06 14:13:54,525 https://atlas.microsoft.com:443 \"GET /search/fuzzy/json?Content-Type=application%2Fjson&subscription-key=6j_USCas00Jqmpj2EFtKe18nLWPylj0gPTOLeBypt9U&api-version=1.0&query=GEANT+-+CASINO+PS+FONTAINE+MALADIERE%2C+France HTTP/1.1\" 200 8759\n",
      "DEBUG 2019-03-06 14:13:54,534 Starting new HTTPS connection (1): atlas.microsoft.com:443\n"
     ]
    },
    {
     "name": "stdout",
     "output_type": "stream",
     "text": [
      "Web scrapping at : 70.95% which took 296 seconds to run.\n"
     ]
    },
    {
     "name": "stderr",
     "output_type": "stream",
     "text": [
      "DEBUG 2019-03-06 14:13:54,981 https://atlas.microsoft.com:443 \"GET /search/fuzzy/json?Content-Type=application%2Fjson&subscription-key=6j_USCas00Jqmpj2EFtKe18nLWPylj0gPTOLeBypt9U&api-version=1.0&query=GEANT+-+CASINO+PS+POLIGNY+GRANDE+RUE%2C+France HTTP/1.1\" 200 9261\n",
      "DEBUG 2019-03-06 14:13:54,989 Starting new HTTPS connection (1): atlas.microsoft.com:443\n"
     ]
    },
    {
     "name": "stdout",
     "output_type": "stream",
     "text": [
      "Web scrapping at : 71.043% which took 296 seconds to run.\n"
     ]
    },
    {
     "name": "stderr",
     "output_type": "stream",
     "text": [
      "DEBUG 2019-03-06 14:13:55,881 https://atlas.microsoft.com:443 \"GET /search/fuzzy/json?Content-Type=application%2Fjson&subscription-key=6j_USCas00Jqmpj2EFtKe18nLWPylj0gPTOLeBypt9U&api-version=1.0&query=GEANT+-+CASINO+PS+CHAUMONT+RUE+L+ALPHANDERY%2C+France HTTP/1.1\" 200 8759\n",
      "DEBUG 2019-03-06 14:13:55,889 Starting new HTTPS connection (1): atlas.microsoft.com:443\n"
     ]
    },
    {
     "name": "stdout",
     "output_type": "stream",
     "text": [
      "Web scrapping at : 71.136% which took 297 seconds to run.\n"
     ]
    },
    {
     "name": "stderr",
     "output_type": "stream",
     "text": [
      "DEBUG 2019-03-06 14:13:56,407 https://atlas.microsoft.com:443 \"GET /search/fuzzy/json?Content-Type=application%2Fjson&subscription-key=6j_USCas00Jqmpj2EFtKe18nLWPylj0gPTOLeBypt9U&api-version=1.0&query=GEANT+-+CASINO+ST+VALERIEN+REPUBLIQUE%2C+France HTTP/1.1\" 200 8839\n",
      "DEBUG 2019-03-06 14:13:56,415 Starting new HTTPS connection (1): atlas.microsoft.com:443\n"
     ]
    },
    {
     "name": "stdout",
     "output_type": "stream",
     "text": [
      "Web scrapping at : 71.229% which took 298 seconds to run.\n"
     ]
    },
    {
     "name": "stderr",
     "output_type": "stream",
     "text": [
      "DEBUG 2019-03-06 14:13:56,882 https://atlas.microsoft.com:443 \"GET /search/fuzzy/json?Content-Type=application%2Fjson&subscription-key=6j_USCas00Jqmpj2EFtKe18nLWPylj0gPTOLeBypt9U&api-version=1.0&query=GEANT+-+CASINO+LPE+ST+VALLIER+DORMOY%2C+France HTTP/1.1\" 200 7409\n",
      "DEBUG 2019-03-06 14:13:56,890 Starting new HTTPS connection (1): atlas.microsoft.com:443\n"
     ]
    },
    {
     "name": "stdout",
     "output_type": "stream",
     "text": [
      "Web scrapping at : 71.322% which took 298 seconds to run.\n"
     ]
    },
    {
     "name": "stderr",
     "output_type": "stream",
     "text": [
      "DEBUG 2019-03-06 14:13:57,656 https://atlas.microsoft.com:443 \"GET /search/fuzzy/json?Content-Type=application%2Fjson&subscription-key=6j_USCas00Jqmpj2EFtKe18nLWPylj0gPTOLeBypt9U&api-version=1.0&query=GEANT+-+CASINO+LPE+ST+VALLIER+RUE+GAMBETTA%2C+France HTTP/1.1\" 200 8038\n",
      "DEBUG 2019-03-06 14:13:57,665 Starting new HTTPS connection (1): atlas.microsoft.com:443\n"
     ]
    },
    {
     "name": "stdout",
     "output_type": "stream",
     "text": [
      "Web scrapping at : 71.415% which took 299 seconds to run.\n"
     ]
    },
    {
     "name": "stderr",
     "output_type": "stream",
     "text": [
      "DEBUG 2019-03-06 14:13:58,079 https://atlas.microsoft.com:443 \"GET /search/fuzzy/json?Content-Type=application%2Fjson&subscription-key=6j_USCas00Jqmpj2EFtKe18nLWPylj0gPTOLeBypt9U&api-version=1.0&query=GEANT+-+CASINO+LPE+NOLAY+REPUBLIQUE%2C+France HTTP/1.1\" 200 8163\n",
      "DEBUG 2019-03-06 14:13:58,087 Starting new HTTPS connection (1): atlas.microsoft.com:443\n",
      "DEBUG 2019-03-06 14:13:58,175 https://atlas.microsoft.com:443 \"GET /search/fuzzy/json?Content-Type=application%2Fjson&subscription-key=6j_USCas00Jqmpj2EFtKe18nLWPylj0gPTOLeBypt9U&api-version=1.0&query=GEANT+-+CASINO+PS+COSNE+COURS+SUR+LOIRE%2C+France HTTP/1.1\" 200 7452\n",
      "DEBUG 2019-03-06 14:13:58,184 Starting new HTTPS connection (1): atlas.microsoft.com:443\n"
     ]
    },
    {
     "name": "stdout",
     "output_type": "stream",
     "text": [
      "Web scrapping at : 71.508% which took 300 seconds to run.\n",
      "Web scrapping at : 71.601% which took 300 seconds to run.\n"
     ]
    },
    {
     "name": "stderr",
     "output_type": "stream",
     "text": [
      "DEBUG 2019-03-06 14:13:58,718 https://atlas.microsoft.com:443 \"GET /search/fuzzy/json?Content-Type=application%2Fjson&subscription-key=6j_USCas00Jqmpj2EFtKe18nLWPylj0gPTOLeBypt9U&api-version=1.0&query=GEANT+-+CASINO+LPE+MASSY+UNION+EUROPEENNE+10%2C+France HTTP/1.1\" 200 724\n",
      "DEBUG 2019-03-06 14:13:58,727 Starting new HTTPS connection (1): atlas.microsoft.com:443\n"
     ]
    },
    {
     "name": "stdout",
     "output_type": "stream",
     "text": [
      "Web scrapping at : 71.695% which took 300 seconds to run.\n"
     ]
    },
    {
     "name": "stderr",
     "output_type": "stream",
     "text": [
      "DEBUG 2019-03-06 14:14:01,232 https://atlas.microsoft.com:443 \"GET /search/fuzzy/json?Content-Type=application%2Fjson&subscription-key=6j_USCas00Jqmpj2EFtKe18nLWPylj0gPTOLeBypt9U&api-version=1.0&query=GEANT+-+CASINO+LPE+ROSNY+GARDEBLED+9%2C+France HTTP/1.1\" 200 2487\n",
      "DEBUG 2019-03-06 14:14:01,240 Starting new HTTPS connection (1): atlas.microsoft.com:443\n"
     ]
    },
    {
     "name": "stdout",
     "output_type": "stream",
     "text": [
      "Web scrapping at : 71.788% which took 303 seconds to run.\n"
     ]
    },
    {
     "name": "stderr",
     "output_type": "stream",
     "text": [
      "DEBUG 2019-03-06 14:14:01,659 https://atlas.microsoft.com:443 \"GET /search/fuzzy/json?Content-Type=application%2Fjson&subscription-key=6j_USCas00Jqmpj2EFtKe18nLWPylj0gPTOLeBypt9U&api-version=1.0&query=GEANT+-+CASINO+LPE+BUC+BLERIOT%2C+France HTTP/1.1\" 200 8042\n",
      "DEBUG 2019-03-06 14:14:01,667 Starting new HTTPS connection (1): atlas.microsoft.com:443\n"
     ]
    },
    {
     "name": "stdout",
     "output_type": "stream",
     "text": [
      "Web scrapping at : 71.881% which took 303 seconds to run.\n"
     ]
    },
    {
     "name": "stderr",
     "output_type": "stream",
     "text": [
      "DEBUG 2019-03-06 14:14:02,186 https://atlas.microsoft.com:443 \"GET /search/fuzzy/json?Content-Type=application%2Fjson&subscription-key=6j_USCas00Jqmpj2EFtKe18nLWPylj0gPTOLeBypt9U&api-version=1.0&query=GEANT+-+CASINO+PS+CHESSY+LES+MINES%2C+France HTTP/1.1\" 200 8958\n",
      "DEBUG 2019-03-06 14:14:02,195 Starting new HTTPS connection (1): atlas.microsoft.com:443\n"
     ]
    },
    {
     "name": "stdout",
     "output_type": "stream",
     "text": [
      "Web scrapping at : 71.974% which took 304 seconds to run.\n"
     ]
    },
    {
     "name": "stderr",
     "output_type": "stream",
     "text": [
      "DEBUG 2019-03-06 14:14:02,603 https://atlas.microsoft.com:443 \"GET /search/fuzzy/json?Content-Type=application%2Fjson&subscription-key=6j_USCas00Jqmpj2EFtKe18nLWPylj0gPTOLeBypt9U&api-version=1.0&query=GEANT+-+CASINO+MIRIBEL%2C+France HTTP/1.1\" 200 8035\n",
      "DEBUG 2019-03-06 14:14:02,612 Starting new HTTPS connection (1): atlas.microsoft.com:443\n"
     ]
    },
    {
     "name": "stdout",
     "output_type": "stream",
     "text": [
      "Web scrapping at : 72.067% which took 304 seconds to run.\n"
     ]
    },
    {
     "name": "stderr",
     "output_type": "stream",
     "text": [
      "DEBUG 2019-03-06 14:14:03,155 https://atlas.microsoft.com:443 \"GET /search/fuzzy/json?Content-Type=application%2Fjson&subscription-key=6j_USCas00Jqmpj2EFtKe18nLWPylj0gPTOLeBypt9U&api-version=1.0&query=GEANT+-+CASINO+PS+ENTRAINS+NOHAIN+PLACE+DU+MARCHE%2C+France HTTP/1.1\" 200 7162\n",
      "DEBUG 2019-03-06 14:14:03,164 Starting new HTTPS connection (1): atlas.microsoft.com:443\n"
     ]
    },
    {
     "name": "stdout",
     "output_type": "stream",
     "text": [
      "Web scrapping at : 72.16% which took 305 seconds to run.\n"
     ]
    },
    {
     "name": "stderr",
     "output_type": "stream",
     "text": [
      "DEBUG 2019-03-06 14:14:03,611 https://atlas.microsoft.com:443 \"GET /search/fuzzy/json?Content-Type=application%2Fjson&subscription-key=6j_USCas00Jqmpj2EFtKe18nLWPylj0gPTOLeBypt9U&api-version=1.0&query=GEANT+-+CASINO+PS+VILLEFRANCHE+PLACE+CARNOT%2C+France HTTP/1.1\" 200 6137\n",
      "DEBUG 2019-03-06 14:14:03,620 Starting new HTTPS connection (1): atlas.microsoft.com:443\n"
     ]
    },
    {
     "name": "stdout",
     "output_type": "stream",
     "text": [
      "Web scrapping at : 72.253% which took 305 seconds to run.\n"
     ]
    },
    {
     "name": "stderr",
     "output_type": "stream",
     "text": [
      "DEBUG 2019-03-06 14:14:04,174 https://atlas.microsoft.com:443 \"GET /search/fuzzy/json?Content-Type=application%2Fjson&subscription-key=6j_USCas00Jqmpj2EFtKe18nLWPylj0gPTOLeBypt9U&api-version=1.0&query=GEANT+-+CASINO+LPE+VILLEFRANCHE+RUE+NATIONALE+664%2C+France HTTP/1.1\" 200 7843\n",
      "DEBUG 2019-03-06 14:14:04,182 Starting new HTTPS connection (1): atlas.microsoft.com:443\n"
     ]
    },
    {
     "name": "stdout",
     "output_type": "stream",
     "text": [
      "Web scrapping at : 72.346% which took 306 seconds to run.\n"
     ]
    },
    {
     "name": "stderr",
     "output_type": "stream",
     "text": [
      "DEBUG 2019-03-06 14:14:04,838 https://atlas.microsoft.com:443 \"GET /search/fuzzy/json?Content-Type=application%2Fjson&subscription-key=6j_USCas00Jqmpj2EFtKe18nLWPylj0gPTOLeBypt9U&api-version=1.0&query=GEANT+-+CASINO+PS+CHEVANNES+PORTE+D+EN+HAUT+PO%2C+France HTTP/1.1\" 200 6072\n",
      "DEBUG 2019-03-06 14:14:04,846 Starting new HTTPS connection (1): atlas.microsoft.com:443\n"
     ]
    },
    {
     "name": "stdout",
     "output_type": "stream",
     "text": [
      "Web scrapping at : 72.439% which took 306 seconds to run.\n"
     ]
    },
    {
     "name": "stderr",
     "output_type": "stream",
     "text": [
      "DEBUG 2019-03-06 14:14:05,306 https://atlas.microsoft.com:443 \"GET /search/fuzzy/json?Content-Type=application%2Fjson&subscription-key=6j_USCas00Jqmpj2EFtKe18nLWPylj0gPTOLeBypt9U&api-version=1.0&query=GEANT+-+CASINO+ROUFFACH+MARCHE+ROUFFA%2C+France HTTP/1.1\" 200 9822\n",
      "DEBUG 2019-03-06 14:14:05,315 Starting new HTTPS connection (1): atlas.microsoft.com:443\n",
      "DEBUG 2019-03-06 14:14:05,402 https://atlas.microsoft.com:443 \"GET /search/fuzzy/json?Content-Type=application%2Fjson&subscription-key=6j_USCas00Jqmpj2EFtKe18nLWPylj0gPTOLeBypt9U&api-version=1.0&query=GEANT+-+CASINO+ST+CHAMOND+LIBERTE+CHAMONOTRE+DAME%2C+France HTTP/1.1\" 200 9200\n",
      "DEBUG 2019-03-06 14:14:05,411 Starting new HTTPS connection (1): atlas.microsoft.com:443\n"
     ]
    },
    {
     "name": "stdout",
     "output_type": "stream",
     "text": [
      "Web scrapping at : 72.533% which took 307 seconds to run.\n",
      "Web scrapping at : 72.626% which took 307 seconds to run.\n"
     ]
    },
    {
     "name": "stderr",
     "output_type": "stream",
     "text": [
      "DEBUG 2019-03-06 14:14:06,372 https://atlas.microsoft.com:443 \"GET /search/fuzzy/json?Content-Type=application%2Fjson&subscription-key=6j_USCas00Jqmpj2EFtKe18nLWPylj0gPTOLeBypt9U&api-version=1.0&query=GEANT+-+CASINO+LE+PUY+RUE+ST+GILLES%2C+France HTTP/1.1\" 200 8799\n",
      "DEBUG 2019-03-06 14:14:06,381 Starting new HTTPS connection (1): atlas.microsoft.com:443\n"
     ]
    },
    {
     "name": "stdout",
     "output_type": "stream",
     "text": [
      "Web scrapping at : 72.719% which took 308 seconds to run.\n"
     ]
    },
    {
     "name": "stderr",
     "output_type": "stream",
     "text": [
      "DEBUG 2019-03-06 14:14:07,064 https://atlas.microsoft.com:443 \"GET /search/fuzzy/json?Content-Type=application%2Fjson&subscription-key=6j_USCas00Jqmpj2EFtKe18nLWPylj0gPTOLeBypt9U&api-version=1.0&query=GEANT+-+CASINO+CLERMONT+FD+ST+PIERRE+FERRANOTRE+DAME%2C+France HTTP/1.1\" 200 8622\n",
      "DEBUG 2019-03-06 14:14:07,072 Starting new HTTPS connection (1): atlas.microsoft.com:443\n"
     ]
    },
    {
     "name": "stdout",
     "output_type": "stream",
     "text": [
      "Web scrapping at : 72.812% which took 309 seconds to run.\n"
     ]
    },
    {
     "name": "stderr",
     "output_type": "stream",
     "text": [
      "DEBUG 2019-03-06 14:14:07,607 https://atlas.microsoft.com:443 \"GET /search/fuzzy/json?Content-Type=application%2Fjson&subscription-key=6j_USCas00Jqmpj2EFtKe18nLWPylj0gPTOLeBypt9U&api-version=1.0&query=GEANT+-+CASINO+FRESNES+8+MAI+1945%2C+France HTTP/1.1\" 200 6282\n",
      "DEBUG 2019-03-06 14:14:07,615 Starting new HTTPS connection (1): atlas.microsoft.com:443\n"
     ]
    },
    {
     "name": "stdout",
     "output_type": "stream",
     "text": [
      "Web scrapping at : 72.905% which took 309 seconds to run.\n"
     ]
    },
    {
     "name": "stderr",
     "output_type": "stream",
     "text": [
      "DEBUG 2019-03-06 14:14:08,174 https://atlas.microsoft.com:443 \"GET /search/fuzzy/json?Content-Type=application%2Fjson&subscription-key=6j_USCas00Jqmpj2EFtKe18nLWPylj0gPTOLeBypt9U&api-version=1.0&query=GEANT+-+CASINO+BOURG+D+OISANS%2C+France HTTP/1.1\" 200 6871\n",
      "DEBUG 2019-03-06 14:14:08,183 Starting new HTTPS connection (1): atlas.microsoft.com:443\n"
     ]
    },
    {
     "name": "stdout",
     "output_type": "stream",
     "text": [
      "Web scrapping at : 72.998% which took 310 seconds to run.\n"
     ]
    },
    {
     "name": "stderr",
     "output_type": "stream",
     "text": [
      "DEBUG 2019-03-06 14:14:08,659 https://atlas.microsoft.com:443 \"GET /search/fuzzy/json?Content-Type=application%2Fjson&subscription-key=6j_USCas00Jqmpj2EFtKe18nLWPylj0gPTOLeBypt9U&api-version=1.0&query=GEANT+-+CASINO+ISSY+LES+MOLINEAUX+RENAN%2C+France HTTP/1.1\" 200 7321\n",
      "DEBUG 2019-03-06 14:14:08,667 Starting new HTTPS connection (1): atlas.microsoft.com:443\n"
     ]
    },
    {
     "name": "stdout",
     "output_type": "stream",
     "text": [
      "Web scrapping at : 73.091% which took 310 seconds to run.\n"
     ]
    },
    {
     "name": "stderr",
     "output_type": "stream",
     "text": [
      "DEBUG 2019-03-06 14:14:09,150 https://atlas.microsoft.com:443 \"GET /search/fuzzy/json?Content-Type=application%2Fjson&subscription-key=6j_USCas00Jqmpj2EFtKe18nLWPylj0gPTOLeBypt9U&api-version=1.0&query=GEANT+-+CASINO+SIX+FOURS+LE+SUZY%2C+France HTTP/1.1\" 200 9371\n",
      "DEBUG 2019-03-06 14:14:09,159 Starting new HTTPS connection (1): atlas.microsoft.com:443\n"
     ]
    },
    {
     "name": "stdout",
     "output_type": "stream",
     "text": [
      "Web scrapping at : 73.184% which took 311 seconds to run.\n"
     ]
    },
    {
     "name": "stderr",
     "output_type": "stream",
     "text": [
      "DEBUG 2019-03-06 14:14:09,578 https://atlas.microsoft.com:443 \"GET /search/fuzzy/json?Content-Type=application%2Fjson&subscription-key=6j_USCas00Jqmpj2EFtKe18nLWPylj0gPTOLeBypt9U&api-version=1.0&query=GEANT+-+CASINO+ROCHEFORT+AV.+GAMBETTA%2C+France HTTP/1.1\" 200 9151\n",
      "DEBUG 2019-03-06 14:14:09,587 Starting new HTTPS connection (1): atlas.microsoft.com:443\n"
     ]
    },
    {
     "name": "stdout",
     "output_type": "stream",
     "text": [
      "Web scrapping at : 73.277% which took 311 seconds to run.\n"
     ]
    },
    {
     "name": "stderr",
     "output_type": "stream",
     "text": [
      "DEBUG 2019-03-06 14:14:10,200 https://atlas.microsoft.com:443 \"GET /search/fuzzy/json?Content-Type=application%2Fjson&subscription-key=6j_USCas00Jqmpj2EFtKe18nLWPylj0gPTOLeBypt9U&api-version=1.0&query=GEANT+-+CASINO+PS+SALIN+DE+GIRAUD+ECOLES%2C+France HTTP/1.1\" 200 8521\n",
      "DEBUG 2019-03-06 14:14:10,209 Starting new HTTPS connection (1): atlas.microsoft.com:443\n"
     ]
    },
    {
     "name": "stdout",
     "output_type": "stream",
     "text": [
      "Web scrapping at : 73.371% which took 312 seconds to run.\n"
     ]
    },
    {
     "name": "stderr",
     "output_type": "stream",
     "text": [
      "DEBUG 2019-03-06 14:14:10,732 https://atlas.microsoft.com:443 \"GET /search/fuzzy/json?Content-Type=application%2Fjson&subscription-key=6j_USCas00Jqmpj2EFtKe18nLWPylj0gPTOLeBypt9U&api-version=1.0&query=GEANT+-+CASINO+ST+OUEN+MICHELET+108%2C+France HTTP/1.1\" 200 8091\n",
      "DEBUG 2019-03-06 14:14:10,742 Starting new HTTPS connection (1): atlas.microsoft.com:443\n"
     ]
    },
    {
     "name": "stdout",
     "output_type": "stream",
     "text": [
      "Web scrapping at : 73.464% which took 312 seconds to run.\n"
     ]
    },
    {
     "name": "stderr",
     "output_type": "stream",
     "text": [
      "DEBUG 2019-03-06 14:14:11,275 https://atlas.microsoft.com:443 \"GET /search/fuzzy/json?Content-Type=application%2Fjson&subscription-key=6j_USCas00Jqmpj2EFtKe18nLWPylj0gPTOLeBypt9U&api-version=1.0&query=GEANT+-+CASINO+ST+VALLIER+DORMOY%2C+France HTTP/1.1\" 200 7407\n",
      "DEBUG 2019-03-06 14:14:11,284 Starting new HTTPS connection (1): atlas.microsoft.com:443\n"
     ]
    },
    {
     "name": "stdout",
     "output_type": "stream",
     "text": [
      "Web scrapping at : 73.557% which took 313 seconds to run.\n"
     ]
    },
    {
     "name": "stderr",
     "output_type": "stream",
     "text": [
      "DEBUG 2019-03-06 14:14:11,786 https://atlas.microsoft.com:443 \"GET /search/fuzzy/json?Content-Type=application%2Fjson&subscription-key=6j_USCas00Jqmpj2EFtKe18nLWPylj0gPTOLeBypt9U&api-version=1.0&query=GEANT+-+CASINO+ST+VALLIER+GAMBETTA%2C+France HTTP/1.1\" 200 7830\n",
      "DEBUG 2019-03-06 14:14:11,795 Starting new HTTPS connection (1): atlas.microsoft.com:443\n"
     ]
    },
    {
     "name": "stdout",
     "output_type": "stream",
     "text": [
      "Web scrapping at : 73.65% which took 313 seconds to run.\n"
     ]
    },
    {
     "name": "stderr",
     "output_type": "stream",
     "text": [
      "DEBUG 2019-03-06 14:14:12,231 https://atlas.microsoft.com:443 \"GET /search/fuzzy/json?Content-Type=application%2Fjson&subscription-key=6j_USCas00Jqmpj2EFtKe18nLWPylj0gPTOLeBypt9U&api-version=1.0&query=GEANT+-+CASINO+ROSNY+GARDEBLED+9%2C+France HTTP/1.1\" 200 6775\n",
      "DEBUG 2019-03-06 14:14:12,240 Starting new HTTPS connection (1): atlas.microsoft.com:443\n"
     ]
    },
    {
     "name": "stdout",
     "output_type": "stream",
     "text": [
      "Web scrapping at : 73.743% which took 314 seconds to run.\n"
     ]
    },
    {
     "name": "stderr",
     "output_type": "stream",
     "text": [
      "DEBUG 2019-03-06 14:14:12,639 https://atlas.microsoft.com:443 \"GET /search/fuzzy/json?Content-Type=application%2Fjson&subscription-key=6j_USCas00Jqmpj2EFtKe18nLWPylj0gPTOLeBypt9U&api-version=1.0&query=GEANT+-+CASINO+BUC+BLERIOT%2C+France HTTP/1.1\" 200 8038\n",
      "DEBUG 2019-03-06 14:14:12,647 Starting new HTTPS connection (1): atlas.microsoft.com:443\n"
     ]
    },
    {
     "name": "stdout",
     "output_type": "stream",
     "text": [
      "Web scrapping at : 73.836% which took 314 seconds to run.\n"
     ]
    },
    {
     "name": "stderr",
     "output_type": "stream",
     "text": [
      "DEBUG 2019-03-06 14:14:13,187 https://atlas.microsoft.com:443 \"GET /search/fuzzy/json?Content-Type=application%2Fjson&subscription-key=6j_USCas00Jqmpj2EFtKe18nLWPylj0gPTOLeBypt9U&api-version=1.0&query=GEANT+-+CASINO+ENTRAINS+NOHAIN+PLACE+MARCHE%2C+France HTTP/1.1\" 200 9339\n",
      "DEBUG 2019-03-06 14:14:13,196 Starting new HTTPS connection (1): atlas.microsoft.com:443\n"
     ]
    },
    {
     "name": "stdout",
     "output_type": "stream",
     "text": [
      "Web scrapping at : 73.929% which took 315 seconds to run.\n"
     ]
    },
    {
     "name": "stderr",
     "output_type": "stream",
     "text": [
      "DEBUG 2019-03-06 14:14:13,651 https://atlas.microsoft.com:443 \"GET /search/fuzzy/json?Content-Type=application%2Fjson&subscription-key=6j_USCas00Jqmpj2EFtKe18nLWPylj0gPTOLeBypt9U&api-version=1.0&query=GEANT+-+CASINO+VILLEFRANCHE+RN664+RN%2C+France HTTP/1.1\" 200 8206\n",
      "DEBUG 2019-03-06 14:14:13,660 Starting new HTTPS connection (1): atlas.microsoft.com:443\n"
     ]
    },
    {
     "name": "stdout",
     "output_type": "stream",
     "text": [
      "Web scrapping at : 74.022% which took 315 seconds to run.\n"
     ]
    },
    {
     "name": "stderr",
     "output_type": "stream",
     "text": [
      "DEBUG 2019-03-06 14:14:14,150 https://atlas.microsoft.com:443 \"GET /search/fuzzy/json?Content-Type=application%2Fjson&subscription-key=6j_USCas00Jqmpj2EFtKe18nLWPylj0gPTOLeBypt9U&api-version=1.0&query=GEANT+-+CASINO+PS+MERIBEL+LES+ALLUES%2C+France HTTP/1.1\" 200 7749\n",
      "DEBUG 2019-03-06 14:14:14,159 Starting new HTTPS connection (1): atlas.microsoft.com:443\n"
     ]
    },
    {
     "name": "stdout",
     "output_type": "stream",
     "text": [
      "Web scrapping at : 74.115% which took 316 seconds to run.\n"
     ]
    },
    {
     "name": "stderr",
     "output_type": "stream",
     "text": [
      "DEBUG 2019-03-06 14:14:14,606 https://atlas.microsoft.com:443 \"GET /search/fuzzy/json?Content-Type=application%2Fjson&subscription-key=6j_USCas00Jqmpj2EFtKe18nLWPylj0gPTOLeBypt9U&api-version=1.0&query=GEANT+-+CASINO+ST+GIRONS+AV%2C+CAMEL%2C+France HTTP/1.1\" 200 9565\n",
      "DEBUG 2019-03-06 14:14:14,616 Starting new HTTPS connection (1): atlas.microsoft.com:443\n"
     ]
    },
    {
     "name": "stdout",
     "output_type": "stream",
     "text": [
      "Web scrapping at : 74.209% which took 316 seconds to run.\n"
     ]
    },
    {
     "name": "stderr",
     "output_type": "stream",
     "text": [
      "DEBUG 2019-03-06 14:14:15,072 https://atlas.microsoft.com:443 \"GET /search/fuzzy/json?Content-Type=application%2Fjson&subscription-key=6j_USCas00Jqmpj2EFtKe18nLWPylj0gPTOLeBypt9U&api-version=1.0&query=GEANT+-+CASINO+ROCHEFORT+AV%2C+GAMBETTA%2C+France HTTP/1.1\" 200 9151\n",
      "DEBUG 2019-03-06 14:14:15,081 Starting new HTTPS connection (1): atlas.microsoft.com:443\n"
     ]
    },
    {
     "name": "stdout",
     "output_type": "stream",
     "text": [
      "Web scrapping at : 74.302% which took 317 seconds to run.\n"
     ]
    },
    {
     "name": "stderr",
     "output_type": "stream",
     "text": [
      "DEBUG 2019-03-06 14:14:16,162 https://atlas.microsoft.com:443 \"GET /search/fuzzy/json?Content-Type=application%2Fjson&subscription-key=6j_USCas00Jqmpj2EFtKe18nLWPylj0gPTOLeBypt9U&api-version=1.0&query=GEANT+-+CASINO+PS+ST+CLEMENT+C%2CC+LE+BOULIDOU%2C+France HTTP/1.1\" 200 5649\n",
      "DEBUG 2019-03-06 14:14:16,171 Starting new HTTPS connection (1): atlas.microsoft.com:443\n"
     ]
    },
    {
     "name": "stdout",
     "output_type": "stream",
     "text": [
      "Web scrapping at : 74.395% which took 318 seconds to run.\n"
     ]
    },
    {
     "name": "stderr",
     "output_type": "stream",
     "text": [
      "DEBUG 2019-03-06 14:14:16,717 https://atlas.microsoft.com:443 \"GET /search/fuzzy/json?Content-Type=application%2Fjson&subscription-key=6j_USCas00Jqmpj2EFtKe18nLWPylj0gPTOLeBypt9U&api-version=1.0&query=GEANT+-+CASINO+PS+LA+CELLE+ST+C%2CLAMARTINE%2C+France HTTP/1.1\" 200 6721\n",
      "DEBUG 2019-03-06 14:14:16,725 Starting new HTTPS connection (1): atlas.microsoft.com:443\n"
     ]
    },
    {
     "name": "stdout",
     "output_type": "stream",
     "text": [
      "Web scrapping at : 74.488% which took 318 seconds to run.\n"
     ]
    },
    {
     "name": "stderr",
     "output_type": "stream",
     "text": [
      "DEBUG 2019-03-06 14:14:17,149 https://atlas.microsoft.com:443 \"GET /search/fuzzy/json?Content-Type=application%2Fjson&subscription-key=6j_USCas00Jqmpj2EFtKe18nLWPylj0gPTOLeBypt9U&api-version=1.0&query=GEANT+-+CASINO+PORT+LEUCATE+MALLARDEAU%2C+France HTTP/1.1\" 200 8243\n",
      "DEBUG 2019-03-06 14:14:17,157 Starting new HTTPS connection (1): atlas.microsoft.com:443\n"
     ]
    },
    {
     "name": "stdout",
     "output_type": "stream",
     "text": [
      "Web scrapping at : 74.581% which took 319 seconds to run.\n"
     ]
    },
    {
     "name": "stderr",
     "output_type": "stream",
     "text": [
      "DEBUG 2019-03-06 14:14:17,584 https://atlas.microsoft.com:443 \"GET /search/fuzzy/json?Content-Type=application%2Fjson&subscription-key=6j_USCas00Jqmpj2EFtKe18nLWPylj0gPTOLeBypt9U&api-version=1.0&query=GEANT+-+CASINO+MONTMERLE+MARCHE%2C+France HTTP/1.1\" 200 9816\n",
      "DEBUG 2019-03-06 14:14:17,593 Starting new HTTPS connection (1): atlas.microsoft.com:443\n"
     ]
    },
    {
     "name": "stdout",
     "output_type": "stream",
     "text": [
      "Web scrapping at : 74.674% which took 319 seconds to run.\n"
     ]
    },
    {
     "name": "stderr",
     "output_type": "stream",
     "text": [
      "DEBUG 2019-03-06 14:14:18,103 https://atlas.microsoft.com:443 \"GET /search/fuzzy/json?Content-Type=application%2Fjson&subscription-key=6j_USCas00Jqmpj2EFtKe18nLWPylj0gPTOLeBypt9U&api-version=1.0&query=GEANT+-+CASINO+ST+RAPHAEL+VALROSE%2C+France HTTP/1.1\" 200 8712\n",
      "DEBUG 2019-03-06 14:14:18,111 Starting new HTTPS connection (1): atlas.microsoft.com:443\n"
     ]
    },
    {
     "name": "stdout",
     "output_type": "stream",
     "text": [
      "Web scrapping at : 74.767% which took 320 seconds to run.\n"
     ]
    },
    {
     "name": "stderr",
     "output_type": "stream",
     "text": [
      "DEBUG 2019-03-06 14:14:18,622 https://atlas.microsoft.com:443 \"GET /search/fuzzy/json?Content-Type=application%2Fjson&subscription-key=6j_USCas00Jqmpj2EFtKe18nLWPylj0gPTOLeBypt9U&api-version=1.0&query=GEANT+-+CASINO+PORT+CAMARGUE+LASSERRE%2C+France HTTP/1.1\" 200 7941\n",
      "DEBUG 2019-03-06 14:14:18,630 Starting new HTTPS connection (1): atlas.microsoft.com:443\n"
     ]
    },
    {
     "name": "stdout",
     "output_type": "stream",
     "text": [
      "Web scrapping at : 74.86% which took 320 seconds to run.\n"
     ]
    },
    {
     "name": "stderr",
     "output_type": "stream",
     "text": [
      "DEBUG 2019-03-06 14:14:19,122 https://atlas.microsoft.com:443 \"GET /search/fuzzy/json?Content-Type=application%2Fjson&subscription-key=6j_USCas00Jqmpj2EFtKe18nLWPylj0gPTOLeBypt9U&api-version=1.0&query=GEANT+-+CASINO+FONTAINE+CURIE+128%2C+France HTTP/1.1\" 200 8547\n",
      "DEBUG 2019-03-06 14:14:19,131 Starting new HTTPS connection (1): atlas.microsoft.com:443\n",
      "DEBUG 2019-03-06 14:14:19,226 https://atlas.microsoft.com:443 \"GET /search/fuzzy/json?Content-Type=application%2Fjson&subscription-key=6j_USCas00Jqmpj2EFtKe18nLWPylj0gPTOLeBypt9U&api-version=1.0&query=GEANT+-+CASINO+LE+TOUQUET+METZ%2C+France HTTP/1.1\" 200 9256\n",
      "DEBUG 2019-03-06 14:14:19,235 Starting new HTTPS connection (1): atlas.microsoft.com:443\n"
     ]
    },
    {
     "name": "stdout",
     "output_type": "stream",
     "text": [
      "Web scrapping at : 74.953% which took 321 seconds to run.\n",
      "Web scrapping at : 75.047% which took 321 seconds to run.\n"
     ]
    },
    {
     "name": "stderr",
     "output_type": "stream",
     "text": [
      "DEBUG 2019-03-06 14:14:19,724 https://atlas.microsoft.com:443 \"GET /search/fuzzy/json?Content-Type=application%2Fjson&subscription-key=6j_USCas00Jqmpj2EFtKe18nLWPylj0gPTOLeBypt9U&api-version=1.0&query=GEANT+-+CASINO+NOZAY+LA+FUTAIE+ST+CLAIR%2C+France HTTP/1.1\" 200 14901\n",
      "DEBUG 2019-03-06 14:14:19,734 Starting new HTTPS connection (1): atlas.microsoft.com:443\n"
     ]
    },
    {
     "name": "stdout",
     "output_type": "stream",
     "text": [
      "Web scrapping at : 75.14% which took 321 seconds to run.\n"
     ]
    },
    {
     "name": "stderr",
     "output_type": "stream",
     "text": [
      "DEBUG 2019-03-06 14:14:20,327 https://atlas.microsoft.com:443 \"GET /search/fuzzy/json?Content-Type=application%2Fjson&subscription-key=6j_USCas00Jqmpj2EFtKe18nLWPylj0gPTOLeBypt9U&api-version=1.0&query=GEANT+-+CASINO+PS+ST+CHAMOND+LE+CREUX+CHAMONOTRE+DAME%2C+France HTTP/1.1\" 200 7376\n",
      "DEBUG 2019-03-06 14:14:20,336 Starting new HTTPS connection (1): atlas.microsoft.com:443\n"
     ]
    },
    {
     "name": "stdout",
     "output_type": "stream",
     "text": [
      "Web scrapping at : 75.233% which took 322 seconds to run.\n"
     ]
    },
    {
     "name": "stderr",
     "output_type": "stream",
     "text": [
      "DEBUG 2019-03-06 14:14:20,901 https://atlas.microsoft.com:443 \"GET /search/fuzzy/json?Content-Type=application%2Fjson&subscription-key=6j_USCas00Jqmpj2EFtKe18nLWPylj0gPTOLeBypt9U&api-version=1.0&query=GEANT+-+CASINO+LPE+ROSIERES+GRANDE+RUE%2C+France HTTP/1.1\" 200 9262\n",
      "DEBUG 2019-03-06 14:14:20,910 Starting new HTTPS connection (1): atlas.microsoft.com:443\n"
     ]
    },
    {
     "name": "stdout",
     "output_type": "stream",
     "text": [
      "Web scrapping at : 75.326% which took 322 seconds to run.\n"
     ]
    },
    {
     "name": "stderr",
     "output_type": "stream",
     "text": [
      "DEBUG 2019-03-06 14:14:21,415 https://atlas.microsoft.com:443 \"GET /search/fuzzy/json?Content-Type=application%2Fjson&subscription-key=6j_USCas00Jqmpj2EFtKe18nLWPylj0gPTOLeBypt9U&api-version=1.0&query=GEANT+-+CASINO+LPE+CLERMONT+FD+PONCILLON+FERRANOTRE+DAME%2C+France HTTP/1.1\" 200 2782\n",
      "DEBUG 2019-03-06 14:14:21,424 Starting new HTTPS connection (1): atlas.microsoft.com:443\n"
     ]
    },
    {
     "name": "stdout",
     "output_type": "stream",
     "text": [
      "Web scrapping at : 75.419% which took 323 seconds to run.\n"
     ]
    },
    {
     "name": "stderr",
     "output_type": "stream",
     "text": [
      "DEBUG 2019-03-06 14:14:22,450 https://atlas.microsoft.com:443 \"GET /search/fuzzy/json?Content-Type=application%2Fjson&subscription-key=6j_USCas00Jqmpj2EFtKe18nLWPylj0gPTOLeBypt9U&api-version=1.0&query=GEANT+-+CASINO+PS+OLIVET+BELOT%2C+France HTTP/1.1\" 200 7974\n",
      "DEBUG 2019-03-06 14:14:22,459 Starting new HTTPS connection (1): atlas.microsoft.com:443\n"
     ]
    },
    {
     "name": "stdout",
     "output_type": "stream",
     "text": [
      "Web scrapping at : 75.512% which took 324 seconds to run.\n"
     ]
    },
    {
     "name": "stderr",
     "output_type": "stream",
     "text": [
      "DEBUG 2019-03-06 14:14:22,901 https://atlas.microsoft.com:443 \"GET /search/fuzzy/json?Content-Type=application%2Fjson&subscription-key=6j_USCas00Jqmpj2EFtKe18nLWPylj0gPTOLeBypt9U&api-version=1.0&query=GEANT+-+CASINO+PS+GENAY%2C+France HTTP/1.1\" 200 8035\n",
      "DEBUG 2019-03-06 14:14:22,909 Starting new HTTPS connection (1): atlas.microsoft.com:443\n"
     ]
    },
    {
     "name": "stdout",
     "output_type": "stream",
     "text": [
      "Web scrapping at : 75.605% which took 324 seconds to run.\n"
     ]
    },
    {
     "name": "stderr",
     "output_type": "stream",
     "text": [
      "DEBUG 2019-03-06 14:14:23,448 https://atlas.microsoft.com:443 \"GET /search/fuzzy/json?Content-Type=application%2Fjson&subscription-key=6j_USCas00Jqmpj2EFtKe18nLWPylj0gPTOLeBypt9U&api-version=1.0&query=GEANT+-+CASINO+PS+LES+DEUX+ALPES+MUZELLE%2C+France HTTP/1.1\" 200 6500\n",
      "DEBUG 2019-03-06 14:14:23,458 Starting new HTTPS connection (1): atlas.microsoft.com:443\n"
     ]
    },
    {
     "name": "stdout",
     "output_type": "stream",
     "text": [
      "Web scrapping at : 75.698% which took 325 seconds to run.\n"
     ]
    },
    {
     "name": "stderr",
     "output_type": "stream",
     "text": [
      "DEBUG 2019-03-06 14:14:23,895 https://atlas.microsoft.com:443 \"GET /search/fuzzy/json?Content-Type=application%2Fjson&subscription-key=6j_USCas00Jqmpj2EFtKe18nLWPylj0gPTOLeBypt9U&api-version=1.0&query=GEANT+-+CASINO+PS+FONTAINE+RUE+MICHEL%2C+France HTTP/1.1\" 200 6883\n",
      "DEBUG 2019-03-06 14:14:23,904 Starting new HTTPS connection (1): atlas.microsoft.com:443\n"
     ]
    },
    {
     "name": "stdout",
     "output_type": "stream",
     "text": [
      "Web scrapping at : 75.791% which took 325 seconds to run.\n"
     ]
    },
    {
     "name": "stderr",
     "output_type": "stream",
     "text": [
      "DEBUG 2019-03-06 14:14:24,492 https://atlas.microsoft.com:443 \"GET /search/fuzzy/json?Content-Type=application%2Fjson&subscription-key=6j_USCas00Jqmpj2EFtKe18nLWPylj0gPTOLeBypt9U&api-version=1.0&query=GEANT+-+CASINO+LPE+SIX+FOURS+DE+TASSIGNY+584%2C+France HTTP/1.1\" 200 5720\n",
      "DEBUG 2019-03-06 14:14:24,501 Starting new HTTPS connection (1): atlas.microsoft.com:443\n"
     ]
    },
    {
     "name": "stdout",
     "output_type": "stream",
     "text": [
      "Web scrapping at : 75.885% which took 326 seconds to run.\n"
     ]
    },
    {
     "name": "stderr",
     "output_type": "stream",
     "text": [
      "DEBUG 2019-03-06 14:14:25,070 https://atlas.microsoft.com:443 \"GET /search/fuzzy/json?Content-Type=application%2Fjson&subscription-key=6j_USCas00Jqmpj2EFtKe18nLWPylj0gPTOLeBypt9U&api-version=1.0&query=GEANT+-+CASINO+PS+ST+RAPHAEL+AGAY%2C+France HTTP/1.1\" 200 7949\n",
      "DEBUG 2019-03-06 14:14:25,079 Starting new HTTPS connection (1): atlas.microsoft.com:443\n"
     ]
    },
    {
     "name": "stdout",
     "output_type": "stream",
     "text": [
      "Web scrapping at : 75.978% which took 327 seconds to run.\n"
     ]
    },
    {
     "name": "stderr",
     "output_type": "stream",
     "text": [
      "DEBUG 2019-03-06 14:14:25,513 https://atlas.microsoft.com:443 \"GET /search/fuzzy/json?Content-Type=application%2Fjson&subscription-key=6j_USCas00Jqmpj2EFtKe18nLWPylj0gPTOLeBypt9U&api-version=1.0&query=GEANT+-+CASINO+LPE+RIANS+REPUBLIQUE%2C+France HTTP/1.1\" 200 8163\n",
      "DEBUG 2019-03-06 14:14:25,522 Starting new HTTPS connection (1): atlas.microsoft.com:443\n"
     ]
    },
    {
     "name": "stdout",
     "output_type": "stream",
     "text": [
      "Web scrapping at : 76.071% which took 327 seconds to run.\n"
     ]
    },
    {
     "name": "stderr",
     "output_type": "stream",
     "text": [
      "DEBUG 2019-03-06 14:14:26,131 https://atlas.microsoft.com:443 \"GET /search/fuzzy/json?Content-Type=application%2Fjson&subscription-key=6j_USCas00Jqmpj2EFtKe18nLWPylj0gPTOLeBypt9U&api-version=1.0&query=GEANT+-+CASINO+SM+BRIVE%2C+France HTTP/1.1\" 200 8041\n",
      "DEBUG 2019-03-06 14:14:26,140 Starting new HTTPS connection (1): atlas.microsoft.com:443\n"
     ]
    },
    {
     "name": "stdout",
     "output_type": "stream",
     "text": [
      "Web scrapping at : 76.164% which took 328 seconds to run.\n"
     ]
    },
    {
     "name": "stderr",
     "output_type": "stream",
     "text": [
      "DEBUG 2019-03-06 14:14:26,634 https://atlas.microsoft.com:443 \"GET /search/fuzzy/json?Content-Type=application%2Fjson&subscription-key=6j_USCas00Jqmpj2EFtKe18nLWPylj0gPTOLeBypt9U&api-version=1.0&query=GEANT+-+CASINO+LPE+ST+SULPICE+LA+LOUBATIERE%2C+France HTTP/1.1\" 200 7573\n",
      "DEBUG 2019-03-06 14:14:26,644 Starting new HTTPS connection (1): atlas.microsoft.com:443\n"
     ]
    },
    {
     "name": "stdout",
     "output_type": "stream",
     "text": [
      "Web scrapping at : 76.257% which took 328 seconds to run.\n"
     ]
    },
    {
     "name": "stderr",
     "output_type": "stream",
     "text": [
      "DEBUG 2019-03-06 14:14:27,285 https://atlas.microsoft.com:443 \"GET /search/fuzzy/json?Content-Type=application%2Fjson&subscription-key=6j_USCas00Jqmpj2EFtKe18nLWPylj0gPTOLeBypt9U&api-version=1.0&query=GEANT+-+CASINO+PS+PORT+BARCARES+GD+PLAGE%2C+France HTTP/1.1\" 200 8541\n",
      "DEBUG 2019-03-06 14:14:27,294 Starting new HTTPS connection (1): atlas.microsoft.com:443\n"
     ]
    },
    {
     "name": "stdout",
     "output_type": "stream",
     "text": [
      "Web scrapping at : 76.35% which took 329 seconds to run.\n"
     ]
    },
    {
     "name": "stderr",
     "output_type": "stream",
     "text": [
      "DEBUG 2019-03-06 14:14:27,736 https://atlas.microsoft.com:443 \"GET /search/fuzzy/json?Content-Type=application%2Fjson&subscription-key=6j_USCas00Jqmpj2EFtKe18nLWPylj0gPTOLeBypt9U&api-version=1.0&query=GEANT+-+CASINO+LPE+ST+CYPRIEN+MIRABEAU%2C+France HTTP/1.1\" 200 8650\n",
      "DEBUG 2019-03-06 14:14:27,745 Starting new HTTPS connection (1): atlas.microsoft.com:443\n"
     ]
    },
    {
     "name": "stdout",
     "output_type": "stream",
     "text": [
      "Web scrapping at : 76.443% which took 329 seconds to run.\n"
     ]
    },
    {
     "name": "stderr",
     "output_type": "stream",
     "text": [
      "DEBUG 2019-03-06 14:14:28,336 https://atlas.microsoft.com:443 \"GET /search/fuzzy/json?Content-Type=application%2Fjson&subscription-key=6j_USCas00Jqmpj2EFtKe18nLWPylj0gPTOLeBypt9U&api-version=1.0&query=GEANT+-+CASINO+LPE+BELLEGARDE+RUE+DE+BEAUCAIRE%2C+France HTTP/1.1\" 200 5568\n",
      "DEBUG 2019-03-06 14:14:28,345 Starting new HTTPS connection (1): atlas.microsoft.com:443\n"
     ]
    },
    {
     "name": "stdout",
     "output_type": "stream",
     "text": [
      "Web scrapping at : 76.536% which took 330 seconds to run.\n"
     ]
    },
    {
     "name": "stderr",
     "output_type": "stream",
     "text": [
      "DEBUG 2019-03-06 14:14:28,948 https://atlas.microsoft.com:443 \"GET /search/fuzzy/json?Content-Type=application%2Fjson&subscription-key=6j_USCas00Jqmpj2EFtKe18nLWPylj0gPTOLeBypt9U&api-version=1.0&query=GEANT+-+CASINO+LPE+GENERAC+GRAND+RUE+GRANOTRE+DAME%2C+France HTTP/1.1\" 200 8908\n",
      "DEBUG 2019-03-06 14:14:28,958 Starting new HTTPS connection (1): atlas.microsoft.com:443\n"
     ]
    },
    {
     "name": "stdout",
     "output_type": "stream",
     "text": [
      "Web scrapping at : 76.629% which took 330 seconds to run.\n"
     ]
    },
    {
     "name": "stderr",
     "output_type": "stream",
     "text": [
      "DEBUG 2019-03-06 14:14:29,414 https://atlas.microsoft.com:443 \"GET /search/fuzzy/json?Content-Type=application%2Fjson&subscription-key=6j_USCas00Jqmpj2EFtKe18nLWPylj0gPTOLeBypt9U&api-version=1.0&query=GEANT+-+CASINO+LPE+MAURIAC+REPUBLIQUE+27%2C+France HTTP/1.1\" 200 6394\n",
      "DEBUG 2019-03-06 14:14:29,423 Starting new HTTPS connection (1): atlas.microsoft.com:443\n"
     ]
    },
    {
     "name": "stdout",
     "output_type": "stream",
     "text": [
      "Web scrapping at : 76.723% which took 331 seconds to run.\n"
     ]
    },
    {
     "name": "stderr",
     "output_type": "stream",
     "text": [
      "DEBUG 2019-03-06 14:14:30,387 https://atlas.microsoft.com:443 \"GET /search/fuzzy/json?Content-Type=application%2Fjson&subscription-key=6j_USCas00Jqmpj2EFtKe18nLWPylj0gPTOLeBypt9U&api-version=1.0&query=GEANT+-+CASINO+LPE+VALENCE+D+AGEN+NATIONALE+24%2C+France HTTP/1.1\" 200 8750\n",
      "DEBUG 2019-03-06 14:14:30,395 Starting new HTTPS connection (1): atlas.microsoft.com:443\n"
     ]
    },
    {
     "name": "stdout",
     "output_type": "stream",
     "text": [
      "Web scrapping at : 76.816% which took 332 seconds to run.\n"
     ]
    },
    {
     "name": "stderr",
     "output_type": "stream",
     "text": [
      "DEBUG 2019-03-06 14:14:31,343 https://atlas.microsoft.com:443 \"GET /search/fuzzy/json?Content-Type=application%2Fjson&subscription-key=6j_USCas00Jqmpj2EFtKe18nLWPylj0gPTOLeBypt9U&api-version=1.0&query=GEANT+-+CASINO+PS+ST+PIERRE+LA+MER%2C+France HTTP/1.1\" 200 7174\n",
      "DEBUG 2019-03-06 14:14:31,352 Starting new HTTPS connection (1): atlas.microsoft.com:443\n"
     ]
    },
    {
     "name": "stdout",
     "output_type": "stream",
     "text": [
      "Web scrapping at : 76.909% which took 333 seconds to run.\n"
     ]
    },
    {
     "name": "stderr",
     "output_type": "stream",
     "text": [
      "DEBUG 2019-03-06 14:14:31,990 https://atlas.microsoft.com:443 \"GET /search/fuzzy/json?Content-Type=application%2Fjson&subscription-key=6j_USCas00Jqmpj2EFtKe18nLWPylj0gPTOLeBypt9U&api-version=1.0&query=GEANT+-+CASINO+LPE+VALENCE+377+AV.+VICTOR+HUGO%2C+France HTTP/1.1\" 200 5967\n",
      "DEBUG 2019-03-06 14:14:31,999 Starting new HTTPS connection (1): atlas.microsoft.com:443\n"
     ]
    },
    {
     "name": "stdout",
     "output_type": "stream",
     "text": [
      "Web scrapping at : 77.002% which took 333 seconds to run.\n"
     ]
    },
    {
     "name": "stderr",
     "output_type": "stream",
     "text": [
      "DEBUG 2019-03-06 14:14:32,844 https://atlas.microsoft.com:443 \"GET /search/fuzzy/json?Content-Type=application%2Fjson&subscription-key=6j_USCas00Jqmpj2EFtKe18nLWPylj0gPTOLeBypt9U&api-version=1.0&query=GEANT+-+CASINO+GD-QUEVILLY+CORROY+RUE+M.CORROY+GD+QUEVILLY%2C+France HTTP/1.1\" 200 7184\n",
      "DEBUG 2019-03-06 14:14:32,852 Starting new HTTPS connection (1): atlas.microsoft.com:443\n"
     ]
    },
    {
     "name": "stdout",
     "output_type": "stream",
     "text": [
      "Web scrapping at : 77.095% which took 334 seconds to run.\n"
     ]
    },
    {
     "name": "stderr",
     "output_type": "stream",
     "text": [
      "DEBUG 2019-03-06 14:14:33,380 https://atlas.microsoft.com:443 \"GET /search/fuzzy/json?Content-Type=application%2Fjson&subscription-key=6j_USCas00Jqmpj2EFtKe18nLWPylj0gPTOLeBypt9U&api-version=1.0&query=GEANT+-+CASINO+LPE+MONTREUIL+COUTURIER+39%2C+France HTTP/1.1\" 200 3864\n",
      "DEBUG 2019-03-06 14:14:33,388 Starting new HTTPS connection (1): atlas.microsoft.com:443\n"
     ]
    },
    {
     "name": "stdout",
     "output_type": "stream",
     "text": [
      "Web scrapping at : 77.188% which took 335 seconds to run.\n"
     ]
    },
    {
     "name": "stderr",
     "output_type": "stream",
     "text": [
      "DEBUG 2019-03-06 14:14:34,176 https://atlas.microsoft.com:443 \"GET /search/fuzzy/json?Content-Type=application%2Fjson&subscription-key=6j_USCas00Jqmpj2EFtKe18nLWPylj0gPTOLeBypt9U&api-version=1.0&query=GEANT+-+CASINO+LPE+FONTENAY+S+BOIS+ROUSSEAU+3%2C+France HTTP/1.1\" 200 7456\n",
      "DEBUG 2019-03-06 14:14:34,185 Starting new HTTPS connection (1): atlas.microsoft.com:443\n"
     ]
    },
    {
     "name": "stdout",
     "output_type": "stream",
     "text": [
      "Web scrapping at : 77.281% which took 336 seconds to run.\n"
     ]
    },
    {
     "name": "stderr",
     "output_type": "stream",
     "text": [
      "DEBUG 2019-03-06 14:14:34,770 https://atlas.microsoft.com:443 \"GET /search/fuzzy/json?Content-Type=application%2Fjson&subscription-key=6j_USCas00Jqmpj2EFtKe18nLWPylj0gPTOLeBypt9U&api-version=1.0&query=GEANT+-+CASINO+LPE+ST+REMY+PARON+6%2C+France HTTP/1.1\" 200 8362\n",
      "DEBUG 2019-03-06 14:14:34,778 Starting new HTTPS connection (1): atlas.microsoft.com:443\n"
     ]
    },
    {
     "name": "stdout",
     "output_type": "stream",
     "text": [
      "Web scrapping at : 77.374% which took 336 seconds to run.\n"
     ]
    },
    {
     "name": "stderr",
     "output_type": "stream",
     "text": [
      "DEBUG 2019-03-06 14:14:35,204 https://atlas.microsoft.com:443 \"GET /search/fuzzy/json?Content-Type=application%2Fjson&subscription-key=6j_USCas00Jqmpj2EFtKe18nLWPylj0gPTOLeBypt9U&api-version=1.0&query=GEANT+-+CASINO+LPE+CHALON+RUE+LECLERC%2C+France HTTP/1.1\" 200 9096\n",
      "DEBUG 2019-03-06 14:14:35,213 Starting new HTTPS connection (1): atlas.microsoft.com:443\n"
     ]
    },
    {
     "name": "stdout",
     "output_type": "stream",
     "text": [
      "Web scrapping at : 77.467% which took 337 seconds to run.\n"
     ]
    },
    {
     "name": "stderr",
     "output_type": "stream",
     "text": [
      "DEBUG 2019-03-06 14:14:35,704 https://atlas.microsoft.com:443 \"GET /search/fuzzy/json?Content-Type=application%2Fjson&subscription-key=6j_USCas00Jqmpj2EFtKe18nLWPylj0gPTOLeBypt9U&api-version=1.0&query=GEANT+-+CASINO+LPE+ST+VALERIEN+REPUBLIQUE%2C+France HTTP/1.1\" 200 8841\n",
      "DEBUG 2019-03-06 14:14:35,712 Starting new HTTPS connection (1): atlas.microsoft.com:443\n"
     ]
    },
    {
     "name": "stdout",
     "output_type": "stream",
     "text": [
      "Web scrapping at : 77.561% which took 337 seconds to run.\n"
     ]
    },
    {
     "name": "stderr",
     "output_type": "stream",
     "text": [
      "DEBUG 2019-03-06 14:14:36,166 https://atlas.microsoft.com:443 \"GET /search/fuzzy/json?Content-Type=application%2Fjson&subscription-key=6j_USCas00Jqmpj2EFtKe18nLWPylj0gPTOLeBypt9U&api-version=1.0&query=GEANT+-+CASINO+PS+FOURS%2C+France HTTP/1.1\" 200 7905\n",
      "DEBUG 2019-03-06 14:14:36,175 Starting new HTTPS connection (1): atlas.microsoft.com:443\n"
     ]
    },
    {
     "name": "stdout",
     "output_type": "stream",
     "text": [
      "Web scrapping at : 77.654% which took 338 seconds to run.\n"
     ]
    },
    {
     "name": "stderr",
     "output_type": "stream",
     "text": [
      "DEBUG 2019-03-06 14:14:37,135 https://atlas.microsoft.com:443 \"GET /search/fuzzy/json?Content-Type=application%2Fjson&subscription-key=6j_USCas00Jqmpj2EFtKe18nLWPylj0gPTOLeBypt9U&api-version=1.0&query=GEANT+-+CASINO+LPE+ST+DENIS+TIMBAUD+2%2C+France HTTP/1.1\" 200 7470\n",
      "DEBUG 2019-03-06 14:14:37,144 Starting new HTTPS connection (1): atlas.microsoft.com:443\n"
     ]
    },
    {
     "name": "stdout",
     "output_type": "stream",
     "text": [
      "Web scrapping at : 77.747% which took 339 seconds to run.\n"
     ]
    },
    {
     "name": "stderr",
     "output_type": "stream",
     "text": [
      "DEBUG 2019-03-06 14:14:37,668 https://atlas.microsoft.com:443 \"GET /search/fuzzy/json?Content-Type=application%2Fjson&subscription-key=6j_USCas00Jqmpj2EFtKe18nLWPylj0gPTOLeBypt9U&api-version=1.0&query=GEANT+-+CASINO+PS+CHAZAY+D+AZERGUE+MARCHE%2C+France HTTP/1.1\" 200 9890\n",
      "DEBUG 2019-03-06 14:14:37,677 Starting new HTTPS connection (1): atlas.microsoft.com:443\n"
     ]
    },
    {
     "name": "stdout",
     "output_type": "stream",
     "text": [
      "Web scrapping at : 77.84% which took 339 seconds to run.\n"
     ]
    },
    {
     "name": "stderr",
     "output_type": "stream",
     "text": [
      "DEBUG 2019-03-06 14:14:38,181 https://atlas.microsoft.com:443 \"GET /search/fuzzy/json?Content-Type=application%2Fjson&subscription-key=6j_USCas00Jqmpj2EFtKe18nLWPylj0gPTOLeBypt9U&api-version=1.0&query=GEANT+-+CASINO+PS+ROUFFACH+MARCHE+ROUFFA%2C+France HTTP/1.1\" 200 9824\n",
      "DEBUG 2019-03-06 14:14:38,190 Starting new HTTPS connection (1): atlas.microsoft.com:443\n"
     ]
    },
    {
     "name": "stdout",
     "output_type": "stream",
     "text": [
      "Web scrapping at : 77.933% which took 340 seconds to run.\n"
     ]
    },
    {
     "name": "stderr",
     "output_type": "stream",
     "text": [
      "DEBUG 2019-03-06 14:14:38,719 https://atlas.microsoft.com:443 \"GET /search/fuzzy/json?Content-Type=application%2Fjson&subscription-key=6j_USCas00Jqmpj2EFtKe18nLWPylj0gPTOLeBypt9U&api-version=1.0&query=GEANT+-+CASINO+LPE+ST+PRIEST+BALAVOINE%2C+France HTTP/1.1\" 200 8815\n",
      "DEBUG 2019-03-06 14:14:38,727 Starting new HTTPS connection (1): atlas.microsoft.com:443\n"
     ]
    },
    {
     "name": "stdout",
     "output_type": "stream",
     "text": [
      "Web scrapping at : 78.026% which took 340 seconds to run.\n"
     ]
    },
    {
     "name": "stderr",
     "output_type": "stream",
     "text": [
      "DEBUG 2019-03-06 14:14:39,159 https://atlas.microsoft.com:443 \"GET /search/fuzzy/json?Content-Type=application%2Fjson&subscription-key=6j_USCas00Jqmpj2EFtKe18nLWPylj0gPTOLeBypt9U&api-version=1.0&query=GEANT+-+CASINO+LPE+CLERMONT+BLATIN+27%2C+France HTTP/1.1\" 200 4321\n",
      "DEBUG 2019-03-06 14:14:39,167 Starting new HTTPS connection (1): atlas.microsoft.com:443\n",
      "DEBUG 2019-03-06 14:14:39,257 https://atlas.microsoft.com:443 \"GET /search/fuzzy/json?Content-Type=application%2Fjson&subscription-key=6j_USCas00Jqmpj2EFtKe18nLWPylj0gPTOLeBypt9U&api-version=1.0&query=GEANT+-+CASINO+LPE+CHALON+SAONE+PIAF+1588%2C+France HTTP/1.1\" 200 9044\n",
      "DEBUG 2019-03-06 14:14:39,266 Starting new HTTPS connection (1): atlas.microsoft.com:443\n"
     ]
    },
    {
     "name": "stdout",
     "output_type": "stream",
     "text": [
      "Web scrapping at : 78.119% which took 341 seconds to run.\n",
      "Web scrapping at : 78.212% which took 341 seconds to run.\n"
     ]
    },
    {
     "name": "stderr",
     "output_type": "stream",
     "text": [
      "DEBUG 2019-03-06 14:14:39,813 https://atlas.microsoft.com:443 \"GET /search/fuzzy/json?Content-Type=application%2Fjson&subscription-key=6j_USCas00Jqmpj2EFtKe18nLWPylj0gPTOLeBypt9U&api-version=1.0&query=GEANT+-+CASINO+LPE+FONS+PLASSE+44%2C+France HTTP/1.1\" 200 5288\n",
      "DEBUG 2019-03-06 14:14:39,824 Starting new HTTPS connection (1): atlas.microsoft.com:443\n",
      "DEBUG 2019-03-06 14:14:39,909 https://atlas.microsoft.com:443 \"GET /search/fuzzy/json?Content-Type=application%2Fjson&subscription-key=6j_USCas00Jqmpj2EFtKe18nLWPylj0gPTOLeBypt9U&api-version=1.0&query=GEANT+-+CASINO+SM+GRIGNY%2C+France HTTP/1.1\" 200 8034\n",
      "DEBUG 2019-03-06 14:14:39,918 Starting new HTTPS connection (1): atlas.microsoft.com:443\n"
     ]
    },
    {
     "name": "stdout",
     "output_type": "stream",
     "text": [
      "Web scrapping at : 78.305% which took 341 seconds to run.\n",
      "Web scrapping at : 78.399% which took 341 seconds to run.\n"
     ]
    },
    {
     "name": "stderr",
     "output_type": "stream",
     "text": [
      "DEBUG 2019-03-06 14:14:40,502 https://atlas.microsoft.com:443 \"GET /search/fuzzy/json?Content-Type=application%2Fjson&subscription-key=6j_USCas00Jqmpj2EFtKe18nLWPylj0gPTOLeBypt9U&api-version=1.0&query=GEANT+-+CASINO+LPE+CHATILLON+ST+EXUPERY+13%2C+France HTTP/1.1\" 200 6733\n",
      "DEBUG 2019-03-06 14:14:40,511 Starting new HTTPS connection (1): atlas.microsoft.com:443\n"
     ]
    },
    {
     "name": "stdout",
     "output_type": "stream",
     "text": [
      "Web scrapping at : 78.492% which took 342 seconds to run.\n"
     ]
    },
    {
     "name": "stderr",
     "output_type": "stream",
     "text": [
      "DEBUG 2019-03-06 14:14:40,901 https://atlas.microsoft.com:443 \"GET /search/fuzzy/json?Content-Type=application%2Fjson&subscription-key=6j_USCas00Jqmpj2EFtKe18nLWPylj0gPTOLeBypt9U&api-version=1.0&query=GEANT+-+CASINO+PS+MONTFAVET%2C+France HTTP/1.1\" 200 8039\n",
      "DEBUG 2019-03-06 14:14:40,910 Starting new HTTPS connection (1): atlas.microsoft.com:443\n"
     ]
    },
    {
     "name": "stdout",
     "output_type": "stream",
     "text": [
      "Web scrapping at : 78.585% which took 342 seconds to run.\n"
     ]
    },
    {
     "name": "stderr",
     "output_type": "stream",
     "text": [
      "DEBUG 2019-03-06 14:14:41,414 https://atlas.microsoft.com:443 \"GET /search/fuzzy/json?Content-Type=application%2Fjson&subscription-key=6j_USCas00Jqmpj2EFtKe18nLWPylj0gPTOLeBypt9U&api-version=1.0&query=GEANT+-+CASINO+0116+MARTIGUES+FRERES+LUMIERE%2C+France HTTP/1.1\" 200 2641\n",
      "DEBUG 2019-03-06 14:14:41,422 Starting new HTTPS connection (1): atlas.microsoft.com:443\n"
     ]
    },
    {
     "name": "stdout",
     "output_type": "stream",
     "text": [
      "Web scrapping at : 78.678% which took 343 seconds to run.\n"
     ]
    },
    {
     "name": "stderr",
     "output_type": "stream",
     "text": [
      "DEBUG 2019-03-06 14:14:42,085 https://atlas.microsoft.com:443 \"GET /search/fuzzy/json?Content-Type=application%2Fjson&subscription-key=6j_USCas00Jqmpj2EFtKe18nLWPylj0gPTOLeBypt9U&api-version=1.0&query=GEANT+-+CASINO+MAISON+ET+LOISIRS+ST+CYR+SUR+MER%2C+France HTTP/1.1\" 200 8803\n",
      "DEBUG 2019-03-06 14:14:42,094 Starting new HTTPS connection (1): atlas.microsoft.com:443\n"
     ]
    },
    {
     "name": "stdout",
     "output_type": "stream",
     "text": [
      "Web scrapping at : 78.771% which took 344 seconds to run.\n"
     ]
    },
    {
     "name": "stderr",
     "output_type": "stream",
     "text": [
      "DEBUG 2019-03-06 14:14:42,470 https://atlas.microsoft.com:443 \"GET /search/fuzzy/json?Content-Type=application%2Fjson&subscription-key=6j_USCas00Jqmpj2EFtKe18nLWPylj0gPTOLeBypt9U&api-version=1.0&query=GEANT+-+CASINO+NAY+REPUBLIQUE%2C+France HTTP/1.1\" 200 8282\n",
      "DEBUG 2019-03-06 14:14:42,478 Starting new HTTPS connection (1): atlas.microsoft.com:443\n"
     ]
    },
    {
     "name": "stdout",
     "output_type": "stream",
     "text": [
      "Web scrapping at : 78.864% which took 344 seconds to run.\n"
     ]
    },
    {
     "name": "stderr",
     "output_type": "stream",
     "text": [
      "DEBUG 2019-03-06 14:14:42,906 https://atlas.microsoft.com:443 \"GET /search/fuzzy/json?Content-Type=application%2Fjson&subscription-key=6j_USCas00Jqmpj2EFtKe18nLWPylj0gPTOLeBypt9U&api-version=1.0&query=GEANT+-+CASINO+AUPS+CLEMENCEAU+AUCLEMENCEAU%2C+France HTTP/1.1\" 200 8055\n",
      "DEBUG 2019-03-06 14:14:42,914 Starting new HTTPS connection (1): atlas.microsoft.com:443\n"
     ]
    },
    {
     "name": "stdout",
     "output_type": "stream",
     "text": [
      "Web scrapping at : 78.957% which took 344 seconds to run.\n"
     ]
    },
    {
     "name": "stderr",
     "output_type": "stream",
     "text": [
      "DEBUG 2019-03-06 14:14:43,523 https://atlas.microsoft.com:443 \"GET /search/fuzzy/json?Content-Type=application%2Fjson&subscription-key=6j_USCas00Jqmpj2EFtKe18nLWPylj0gPTOLeBypt9U&api-version=1.0&query=GEANT+-+CASINO+PS+ST+CHAMOND+LA+VALETTE+CHAMONOTRE+DAME%2C+France HTTP/1.1\" 200 7581\n",
      "DEBUG 2019-03-06 14:14:43,531 Starting new HTTPS connection (1): atlas.microsoft.com:443\n"
     ]
    },
    {
     "name": "stdout",
     "output_type": "stream",
     "text": [
      "Web scrapping at : 79.05% which took 345 seconds to run.\n"
     ]
    },
    {
     "name": "stderr",
     "output_type": "stream",
     "text": [
      "DEBUG 2019-03-06 14:14:44,153 https://atlas.microsoft.com:443 \"GET /search/fuzzy/json?Content-Type=application%2Fjson&subscription-key=6j_USCas00Jqmpj2EFtKe18nLWPylj0gPTOLeBypt9U&api-version=1.0&query=GEANT+-+CASINO+PS+LE+PUY+RUE+FRANCHETERRE%2C+France HTTP/1.1\" 200 9011\n",
      "DEBUG 2019-03-06 14:14:44,161 Starting new HTTPS connection (1): atlas.microsoft.com:443\n"
     ]
    },
    {
     "name": "stdout",
     "output_type": "stream",
     "text": [
      "Web scrapping at : 79.143% which took 346 seconds to run.\n"
     ]
    },
    {
     "name": "stderr",
     "output_type": "stream",
     "text": [
      "DEBUG 2019-03-06 14:14:44,615 https://atlas.microsoft.com:443 \"GET /search/fuzzy/json?Content-Type=application%2Fjson&subscription-key=6j_USCas00Jqmpj2EFtKe18nLWPylj0gPTOLeBypt9U&api-version=1.0&query=GEANT+-+CASINO+LPE+CHESSY+PL.+EDMOND+CHARTIER%2C+France HTTP/1.1\" 200 6699\n",
      "DEBUG 2019-03-06 14:14:44,624 Starting new HTTPS connection (1): atlas.microsoft.com:443\n"
     ]
    },
    {
     "name": "stdout",
     "output_type": "stream",
     "text": [
      "Web scrapping at : 79.236% which took 346 seconds to run.\n"
     ]
    },
    {
     "name": "stderr",
     "output_type": "stream",
     "text": [
      "DEBUG 2019-03-06 14:14:45,077 https://atlas.microsoft.com:443 \"GET /search/fuzzy/json?Content-Type=application%2Fjson&subscription-key=6j_USCas00Jqmpj2EFtKe18nLWPylj0gPTOLeBypt9U&api-version=1.0&query=GEANT+-+CASINO+PS+MOULINS+RUE+COUTELIERS%2C+France HTTP/1.1\" 200 8593\n",
      "DEBUG 2019-03-06 14:14:45,085 Starting new HTTPS connection (1): atlas.microsoft.com:443\n"
     ]
    },
    {
     "name": "stdout",
     "output_type": "stream",
     "text": [
      "Web scrapping at : 79.33% which took 347 seconds to run.\n"
     ]
    },
    {
     "name": "stderr",
     "output_type": "stream",
     "text": [
      "DEBUG 2019-03-06 14:14:45,586 https://atlas.microsoft.com:443 \"GET /search/fuzzy/json?Content-Type=application%2Fjson&subscription-key=6j_USCas00Jqmpj2EFtKe18nLWPylj0gPTOLeBypt9U&api-version=1.0&query=GEANT+-+CASINO+PS+MOULINS+RUE+CERF+VOLANT%2C+France HTTP/1.1\" 200 4877\n",
      "DEBUG 2019-03-06 14:14:45,594 Starting new HTTPS connection (1): atlas.microsoft.com:443\n"
     ]
    },
    {
     "name": "stdout",
     "output_type": "stream",
     "text": [
      "Web scrapping at : 79.423% which took 347 seconds to run.\n"
     ]
    },
    {
     "name": "stderr",
     "output_type": "stream",
     "text": [
      "DEBUG 2019-03-06 14:14:46,081 https://atlas.microsoft.com:443 \"GET /search/fuzzy/json?Content-Type=application%2Fjson&subscription-key=6j_USCas00Jqmpj2EFtKe18nLWPylj0gPTOLeBypt9U&api-version=1.0&query=GEANT+-+CASINO+LPE+MOULINS+ILOT+THONIER%2C+France HTTP/1.1\" 200 5814\n",
      "DEBUG 2019-03-06 14:14:46,089 Starting new HTTPS connection (1): atlas.microsoft.com:443\n"
     ]
    },
    {
     "name": "stdout",
     "output_type": "stream",
     "text": [
      "Web scrapping at : 79.516% which took 348 seconds to run.\n"
     ]
    },
    {
     "name": "stderr",
     "output_type": "stream",
     "text": [
      "DEBUG 2019-03-06 14:14:46,622 https://atlas.microsoft.com:443 \"GET /search/fuzzy/json?Content-Type=application%2Fjson&subscription-key=6j_USCas00Jqmpj2EFtKe18nLWPylj0gPTOLeBypt9U&api-version=1.0&query=GEANT+-+CASINO+LPE+CLERMONT+FD+GUYNEMER+FERRANOTRE+DAME%2C+France HTTP/1.1\" 200 2781\n",
      "DEBUG 2019-03-06 14:14:46,630 Starting new HTTPS connection (1): atlas.microsoft.com:443\n"
     ]
    },
    {
     "name": "stdout",
     "output_type": "stream",
     "text": [
      "Web scrapping at : 79.609% which took 348 seconds to run.\n"
     ]
    },
    {
     "name": "stderr",
     "output_type": "stream",
     "text": [
      "DEBUG 2019-03-06 14:14:47,098 https://atlas.microsoft.com:443 \"GET /search/fuzzy/json?Content-Type=application%2Fjson&subscription-key=6j_USCas00Jqmpj2EFtKe18nLWPylj0gPTOLeBypt9U&api-version=1.0&query=GEANT+-+CASINO+PS+COURTENAY+CHESNEAU%2C+France HTTP/1.1\" 200 8048\n",
      "DEBUG 2019-03-06 14:14:47,107 Starting new HTTPS connection (1): atlas.microsoft.com:443\n"
     ]
    },
    {
     "name": "stdout",
     "output_type": "stream",
     "text": [
      "Web scrapping at : 79.702% which took 349 seconds to run.\n"
     ]
    },
    {
     "name": "stderr",
     "output_type": "stream",
     "text": [
      "DEBUG 2019-03-06 14:14:47,912 https://atlas.microsoft.com:443 \"GET /search/fuzzy/json?Content-Type=application%2Fjson&subscription-key=6j_USCas00Jqmpj2EFtKe18nLWPylj0gPTOLeBypt9U&api-version=1.0&query=GEANT+-+CASINO+LPE+QUICAMPOIX+PL.+DE+LA+MAIRIE%2C+France HTTP/1.1\" 200 7130\n",
      "DEBUG 2019-03-06 14:14:47,921 Starting new HTTPS connection (1): atlas.microsoft.com:443\n"
     ]
    },
    {
     "name": "stdout",
     "output_type": "stream",
     "text": [
      "Web scrapping at : 79.795% which took 349 seconds to run.\n"
     ]
    },
    {
     "name": "stderr",
     "output_type": "stream",
     "text": [
      "DEBUG 2019-03-06 14:14:48,321 https://atlas.microsoft.com:443 \"GET /search/fuzzy/json?Content-Type=application%2Fjson&subscription-key=6j_USCas00Jqmpj2EFtKe18nLWPylj0gPTOLeBypt9U&api-version=1.0&query=GEANT+-+CASINO+LPE+FLERS+DOMFRONT%2C+France HTTP/1.1\" 200 8045\n",
      "DEBUG 2019-03-06 14:14:48,329 Starting new HTTPS connection (1): atlas.microsoft.com:443\n"
     ]
    },
    {
     "name": "stdout",
     "output_type": "stream",
     "text": [
      "Web scrapping at : 79.888% which took 350 seconds to run.\n"
     ]
    },
    {
     "name": "stderr",
     "output_type": "stream",
     "text": [
      "DEBUG 2019-03-06 14:14:48,789 https://atlas.microsoft.com:443 \"GET /search/fuzzy/json?Content-Type=application%2Fjson&subscription-key=6j_USCas00Jqmpj2EFtKe18nLWPylj0gPTOLeBypt9U&api-version=1.0&query=GEANT+-+CASINO+LPE+CHARBONNIERES+DE+GAULLE%2C+France HTTP/1.1\" 200 9379\n",
      "DEBUG 2019-03-06 14:14:48,797 Starting new HTTPS connection (1): atlas.microsoft.com:443\n"
     ]
    },
    {
     "name": "stdout",
     "output_type": "stream",
     "text": [
      "Web scrapping at : 79.981% which took 350 seconds to run.\n"
     ]
    },
    {
     "name": "stderr",
     "output_type": "stream",
     "text": [
      "DEBUG 2019-03-06 14:14:49,182 https://atlas.microsoft.com:443 \"GET /search/fuzzy/json?Content-Type=application%2Fjson&subscription-key=6j_USCas00Jqmpj2EFtKe18nLWPylj0gPTOLeBypt9U&api-version=1.0&query=GEANT+-+CASINO+PS+THOIRY%2C+France HTTP/1.1\" 200 8036\n",
      "DEBUG 2019-03-06 14:14:49,191 Starting new HTTPS connection (1): atlas.microsoft.com:443\n"
     ]
    },
    {
     "name": "stdout",
     "output_type": "stream",
     "text": [
      "Web scrapping at : 80.074% which took 351 seconds to run.\n"
     ]
    },
    {
     "name": "stderr",
     "output_type": "stream",
     "text": [
      "DEBUG 2019-03-06 14:14:50,277 https://atlas.microsoft.com:443 \"GET /search/fuzzy/json?Content-Type=application%2Fjson&subscription-key=6j_USCas00Jqmpj2EFtKe18nLWPylj0gPTOLeBypt9U&api-version=1.0&query=GEANT+-+CASINO+PS+BELLEGARDE+RUE+DE+LA+REPUBLIQUE%2C+France HTTP/1.1\" 200 7750\n",
      "DEBUG 2019-03-06 14:14:50,286 Starting new HTTPS connection (1): atlas.microsoft.com:443\n"
     ]
    },
    {
     "name": "stdout",
     "output_type": "stream",
     "text": [
      "Web scrapping at : 80.168% which took 352 seconds to run.\n"
     ]
    },
    {
     "name": "stderr",
     "output_type": "stream",
     "text": [
      "DEBUG 2019-03-06 14:14:50,729 https://atlas.microsoft.com:443 \"GET /search/fuzzy/json?Content-Type=application%2Fjson&subscription-key=6j_USCas00Jqmpj2EFtKe18nLWPylj0gPTOLeBypt9U&api-version=1.0&query=GEANT+-+CASINO+LPE+BEAUJEU+REPUBLIQUE%2C+France HTTP/1.1\" 200 8165\n",
      "DEBUG 2019-03-06 14:14:50,737 Starting new HTTPS connection (1): atlas.microsoft.com:443\n",
      "DEBUG 2019-03-06 14:14:50,819 https://atlas.microsoft.com:443 \"GET /search/fuzzy/json?Content-Type=application%2Fjson&subscription-key=6j_USCas00Jqmpj2EFtKe18nLWPylj0gPTOLeBypt9U&api-version=1.0&query=GEANT+-+CASINO+PS+LE+GRAND+BORNAND+GRANOTRE+DAME%2C+France HTTP/1.1\" 200 1162\n",
      "DEBUG 2019-03-06 14:14:50,828 Starting new HTTPS connection (1): atlas.microsoft.com:443\n",
      "DEBUG 2019-03-06 14:14:50,911 https://atlas.microsoft.com:443 \"GET /search/fuzzy/json?Content-Type=application%2Fjson&subscription-key=6j_USCas00Jqmpj2EFtKe18nLWPylj0gPTOLeBypt9U&api-version=1.0&query=GEANT+-+CASINO+PS+LE+GRAND+BORNAND+BOUCHET+GRANOTRE+DAME+BORNANOTRE%2C+France HTTP/1.1\" 200 204\n",
      "DEBUG 2019-03-06 14:14:50,919 Starting new HTTPS connection (1): atlas.microsoft.com:443\n"
     ]
    },
    {
     "name": "stdout",
     "output_type": "stream",
     "text": [
      "Web scrapping at : 80.261% which took 352 seconds to run.\n",
      "Web scrapping at : 80.354% which took 352 seconds to run.\n",
      "Web scrapping at : 80.447% which took 352 seconds to run.\n"
     ]
    },
    {
     "name": "stderr",
     "output_type": "stream",
     "text": [
      "DEBUG 2019-03-06 14:14:51,385 https://atlas.microsoft.com:443 \"GET /search/fuzzy/json?Content-Type=application%2Fjson&subscription-key=6j_USCas00Jqmpj2EFtKe18nLWPylj0gPTOLeBypt9U&api-version=1.0&query=GEANT+-+CASINO+PS+ISSY+LES+MOLINEAUX+RENAN%2C+France HTTP/1.1\" 200 6468\n",
      "DEBUG 2019-03-06 14:14:51,393 Starting new HTTPS connection (1): atlas.microsoft.com:443\n"
     ]
    },
    {
     "name": "stdout",
     "output_type": "stream",
     "text": [
      "Web scrapping at : 80.54% which took 353 seconds to run.\n"
     ]
    },
    {
     "name": "stderr",
     "output_type": "stream",
     "text": [
      "DEBUG 2019-03-06 14:14:51,929 https://atlas.microsoft.com:443 \"GET /search/fuzzy/json?Content-Type=application%2Fjson&subscription-key=6j_USCas00Jqmpj2EFtKe18nLWPylj0gPTOLeBypt9U&api-version=1.0&query=GEANT+-+CASINO+LPE+LA+CHAPELLE+GAUTHIER+GD+RUE%2C+France HTTP/1.1\" 200 4119\n",
      "DEBUG 2019-03-06 14:14:51,938 Starting new HTTPS connection (1): atlas.microsoft.com:443\n"
     ]
    },
    {
     "name": "stdout",
     "output_type": "stream",
     "text": [
      "Web scrapping at : 80.633% which took 353 seconds to run.\n"
     ]
    },
    {
     "name": "stderr",
     "output_type": "stream",
     "text": [
      "DEBUG 2019-03-06 14:14:52,391 https://atlas.microsoft.com:443 \"GET /search/fuzzy/json?Content-Type=application%2Fjson&subscription-key=6j_USCas00Jqmpj2EFtKe18nLWPylj0gPTOLeBypt9U&api-version=1.0&query=GEANT+-+CASINO+LPE+ROQUEMAURE+CARNOT%2C+France HTTP/1.1\" 200 8048\n",
      "DEBUG 2019-03-06 14:14:52,399 Starting new HTTPS connection (1): atlas.microsoft.com:443\n",
      "DEBUG 2019-03-06 14:14:52,497 https://atlas.microsoft.com:443 \"GET /search/fuzzy/json?Content-Type=application%2Fjson&subscription-key=6j_USCas00Jqmpj2EFtKe18nLWPylj0gPTOLeBypt9U&api-version=1.0&query=GEANT+-+CASINO+LPE+LE+TEIL+RUE+REPUBLIQUE%2C+France HTTP/1.1\" 200 7852\n",
      "DEBUG 2019-03-06 14:14:52,505 Starting new HTTPS connection (1): atlas.microsoft.com:443\n"
     ]
    },
    {
     "name": "stdout",
     "output_type": "stream",
     "text": [
      "Web scrapping at : 80.726% which took 354 seconds to run.\n",
      "Web scrapping at : 80.819% which took 354 seconds to run.\n"
     ]
    },
    {
     "name": "stderr",
     "output_type": "stream",
     "text": [
      "DEBUG 2019-03-06 14:14:52,874 https://atlas.microsoft.com:443 \"GET /search/fuzzy/json?Content-Type=application%2Fjson&subscription-key=6j_USCas00Jqmpj2EFtKe18nLWPylj0gPTOLeBypt9U&api-version=1.0&query=GEANT+-+CASINO+SM+MERE%2C+France HTTP/1.1\" 200 8067\n",
      "DEBUG 2019-03-06 14:14:52,883 Starting new HTTPS connection (1): atlas.microsoft.com:443\n"
     ]
    },
    {
     "name": "stdout",
     "output_type": "stream",
     "text": [
      "Web scrapping at : 80.912% which took 354 seconds to run.\n"
     ]
    },
    {
     "name": "stderr",
     "output_type": "stream",
     "text": [
      "DEBUG 2019-03-06 14:14:53,305 https://atlas.microsoft.com:443 \"GET /search/fuzzy/json?Content-Type=application%2Fjson&subscription-key=6j_USCas00Jqmpj2EFtKe18nLWPylj0gPTOLeBypt9U&api-version=1.0&query=GEANT+-+CASINO+SM+BLANC+MESNIL%2C+France HTTP/1.1\" 200 6020\n",
      "DEBUG 2019-03-06 14:14:53,313 Starting new HTTPS connection (1): atlas.microsoft.com:443\n"
     ]
    },
    {
     "name": "stdout",
     "output_type": "stream",
     "text": [
      "Web scrapping at : 81.006% which took 355 seconds to run.\n"
     ]
    },
    {
     "name": "stderr",
     "output_type": "stream",
     "text": [
      "DEBUG 2019-03-06 14:14:53,694 https://atlas.microsoft.com:443 \"GET /search/fuzzy/json?Content-Type=application%2Fjson&subscription-key=6j_USCas00Jqmpj2EFtKe18nLWPylj0gPTOLeBypt9U&api-version=1.0&query=GEANT+-+CASINO+SM+FRESNES%2C+France HTTP/1.1\" 200 8037\n",
      "DEBUG 2019-03-06 14:14:53,702 Starting new HTTPS connection (1): atlas.microsoft.com:443\n"
     ]
    },
    {
     "name": "stdout",
     "output_type": "stream",
     "text": [
      "Web scrapping at : 81.099% which took 355 seconds to run.\n"
     ]
    },
    {
     "name": "stderr",
     "output_type": "stream",
     "text": [
      "DEBUG 2019-03-06 14:14:54,095 https://atlas.microsoft.com:443 \"GET /search/fuzzy/json?Content-Type=application%2Fjson&subscription-key=6j_USCas00Jqmpj2EFtKe18nLWPylj0gPTOLeBypt9U&api-version=1.0&query=GEANT+-+CASINO+PS+BOULOC%2C+France HTTP/1.1\" 200 8036\n",
      "DEBUG 2019-03-06 14:14:54,104 Starting new HTTPS connection (1): atlas.microsoft.com:443\n"
     ]
    },
    {
     "name": "stdout",
     "output_type": "stream",
     "text": [
      "Web scrapping at : 81.192% which took 356 seconds to run.\n"
     ]
    },
    {
     "name": "stderr",
     "output_type": "stream",
     "text": [
      "DEBUG 2019-03-06 14:14:54,549 https://atlas.microsoft.com:443 \"GET /search/fuzzy/json?Content-Type=application%2Fjson&subscription-key=6j_USCas00Jqmpj2EFtKe18nLWPylj0gPTOLeBypt9U&api-version=1.0&query=GEANT+-+CASINO+LPE+MERVILLE+LES+BUIS%2C+France HTTP/1.1\" 200 9336\n",
      "DEBUG 2019-03-06 14:14:54,558 Starting new HTTPS connection (1): atlas.microsoft.com:443\n"
     ]
    },
    {
     "name": "stdout",
     "output_type": "stream",
     "text": [
      "Web scrapping at : 81.285% which took 356 seconds to run.\n"
     ]
    },
    {
     "name": "stderr",
     "output_type": "stream",
     "text": [
      "DEBUG 2019-03-06 14:14:55,077 https://atlas.microsoft.com:443 \"GET /search/fuzzy/json?Content-Type=application%2Fjson&subscription-key=6j_USCas00Jqmpj2EFtKe18nLWPylj0gPTOLeBypt9U&api-version=1.0&query=GEANT+-+CASINO+LPE+CANET+PLAGE+AV+MEDITERRANEE%2C+France HTTP/1.1\" 200 9228\n",
      "DEBUG 2019-03-06 14:14:55,086 Starting new HTTPS connection (1): atlas.microsoft.com:443\n"
     ]
    },
    {
     "name": "stdout",
     "output_type": "stream",
     "text": [
      "Web scrapping at : 81.378% which took 357 seconds to run.\n"
     ]
    },
    {
     "name": "stderr",
     "output_type": "stream",
     "text": [
      "DEBUG 2019-03-06 14:14:55,777 https://atlas.microsoft.com:443 \"GET /search/fuzzy/json?Content-Type=application%2Fjson&subscription-key=6j_USCas00Jqmpj2EFtKe18nLWPylj0gPTOLeBypt9U&api-version=1.0&query=GEANT+-+CASINO+LPE+CANET+PLAGE+AV.+DE+TOULOUSE%2C+France HTTP/1.1\" 200 7757\n",
      "DEBUG 2019-03-06 14:14:55,786 Starting new HTTPS connection (1): atlas.microsoft.com:443\n"
     ]
    },
    {
     "name": "stdout",
     "output_type": "stream",
     "text": [
      "Web scrapping at : 81.471% which took 357 seconds to run.\n"
     ]
    },
    {
     "name": "stderr",
     "output_type": "stream",
     "text": [
      "DEBUG 2019-03-06 14:14:56,166 https://atlas.microsoft.com:443 \"GET /search/fuzzy/json?Content-Type=application%2Fjson&subscription-key=6j_USCas00Jqmpj2EFtKe18nLWPylj0gPTOLeBypt9U&api-version=1.0&query=GEANT+-+CASINO+PS+BEAUMONT%2C+France HTTP/1.1\" 200 8038\n",
      "DEBUG 2019-03-06 14:14:56,175 Starting new HTTPS connection (1): atlas.microsoft.com:443\n"
     ]
    },
    {
     "name": "stdout",
     "output_type": "stream",
     "text": [
      "Web scrapping at : 81.564% which took 358 seconds to run.\n"
     ]
    },
    {
     "name": "stderr",
     "output_type": "stream",
     "text": [
      "DEBUG 2019-03-06 14:14:56,597 https://atlas.microsoft.com:443 \"GET /search/fuzzy/json?Content-Type=application%2Fjson&subscription-key=6j_USCas00Jqmpj2EFtKe18nLWPylj0gPTOLeBypt9U&api-version=1.0&query=GEANT+-+CASINO+LPE+MARSAC+LIMOUSIN%2C+France HTTP/1.1\" 200 8046\n",
      "DEBUG 2019-03-06 14:14:56,606 Starting new HTTPS connection (1): atlas.microsoft.com:443\n"
     ]
    },
    {
     "name": "stdout",
     "output_type": "stream",
     "text": [
      "Web scrapping at : 81.657% which took 358 seconds to run.\n"
     ]
    },
    {
     "name": "stderr",
     "output_type": "stream",
     "text": [
      "DEBUG 2019-03-06 14:14:57,114 https://atlas.microsoft.com:443 \"GET /search/fuzzy/json?Content-Type=application%2Fjson&subscription-key=6j_USCas00Jqmpj2EFtKe18nLWPylj0gPTOLeBypt9U&api-version=1.0&query=GEANT+-+CASINO+PS+BARBEZIEUX+HUGO+DU+FOUR%2C+France HTTP/1.1\" 200 8317\n",
      "DEBUG 2019-03-06 14:14:57,123 Starting new HTTPS connection (1): atlas.microsoft.com:443\n"
     ]
    },
    {
     "name": "stdout",
     "output_type": "stream",
     "text": [
      "Web scrapping at : 81.75% which took 359 seconds to run.\n"
     ]
    },
    {
     "name": "stderr",
     "output_type": "stream",
     "text": [
      "DEBUG 2019-03-06 14:14:57,647 https://atlas.microsoft.com:443 \"GET /search/fuzzy/json?Content-Type=application%2Fjson&subscription-key=6j_USCas00Jqmpj2EFtKe18nLWPylj0gPTOLeBypt9U&api-version=1.0&query=GEANT+-+CASINO+PS+HOSSEGOR+TOURING+CLUB+FRANCE%2C+France HTTP/1.1\" 200 7240\n",
      "DEBUG 2019-03-06 14:14:57,655 Starting new HTTPS connection (1): atlas.microsoft.com:443\n"
     ]
    },
    {
     "name": "stdout",
     "output_type": "stream",
     "text": [
      "Web scrapping at : 81.844% which took 359 seconds to run.\n"
     ]
    },
    {
     "name": "stderr",
     "output_type": "stream",
     "text": [
      "DEBUG 2019-03-06 14:14:58,184 https://atlas.microsoft.com:443 \"GET /search/fuzzy/json?Content-Type=application%2Fjson&subscription-key=6j_USCas00Jqmpj2EFtKe18nLWPylj0gPTOLeBypt9U&api-version=1.0&query=GEANT+-+CASINO+PS+MIREPOIX+DR+CHABAUD%2C+France HTTP/1.1\" 200 4769\n",
      "DEBUG 2019-03-06 14:14:58,192 Starting new HTTPS connection (1): atlas.microsoft.com:443\n"
     ]
    },
    {
     "name": "stdout",
     "output_type": "stream",
     "text": [
      "Web scrapping at : 81.937% which took 360 seconds to run.\n"
     ]
    },
    {
     "name": "stderr",
     "output_type": "stream",
     "text": [
      "DEBUG 2019-03-06 14:14:58,780 https://atlas.microsoft.com:443 \"GET /search/fuzzy/json?Content-Type=application%2Fjson&subscription-key=6j_USCas00Jqmpj2EFtKe18nLWPylj0gPTOLeBypt9U&api-version=1.0&query=GEANT+-+CASINO+GD-QUEVILLY+RUE+DU+DR+LAENNEC+GD+QUEVILLY%2C+France HTTP/1.1\" 200 7103\n",
      "DEBUG 2019-03-06 14:14:58,788 Starting new HTTPS connection (1): atlas.microsoft.com:443\n"
     ]
    },
    {
     "name": "stdout",
     "output_type": "stream",
     "text": [
      "Web scrapping at : 82.03% which took 360 seconds to run.\n"
     ]
    },
    {
     "name": "stderr",
     "output_type": "stream",
     "text": [
      "DEBUG 2019-03-06 14:14:59,295 https://atlas.microsoft.com:443 \"GET /search/fuzzy/json?Content-Type=application%2Fjson&subscription-key=6j_USCas00Jqmpj2EFtKe18nLWPylj0gPTOLeBypt9U&api-version=1.0&query=GEANT+-+CASINO+PS+BELLEVILLE+SUR+SAONE%2C+France HTTP/1.1\" 200 9399\n",
      "DEBUG 2019-03-06 14:14:59,304 Starting new HTTPS connection (1): atlas.microsoft.com:443\n"
     ]
    },
    {
     "name": "stdout",
     "output_type": "stream",
     "text": [
      "Web scrapping at : 82.123% which took 361 seconds to run.\n"
     ]
    },
    {
     "name": "stderr",
     "output_type": "stream",
     "text": [
      "DEBUG 2019-03-06 14:14:59,672 https://atlas.microsoft.com:443 \"GET /search/fuzzy/json?Content-Type=application%2Fjson&subscription-key=6j_USCas00Jqmpj2EFtKe18nLWPylj0gPTOLeBypt9U&api-version=1.0&query=GEANT+-+CASINO+PS+MIRIBEL%2C+France HTTP/1.1\" 200 8037\n",
      "DEBUG 2019-03-06 14:14:59,680 Starting new HTTPS connection (1): atlas.microsoft.com:443\n"
     ]
    },
    {
     "name": "stdout",
     "output_type": "stream",
     "text": [
      "Web scrapping at : 82.216% which took 361 seconds to run.\n"
     ]
    },
    {
     "name": "stderr",
     "output_type": "stream",
     "text": [
      "DEBUG 2019-03-06 14:15:00,157 https://atlas.microsoft.com:443 \"GET /search/fuzzy/json?Content-Type=application%2Fjson&subscription-key=6j_USCas00Jqmpj2EFtKe18nLWPylj0gPTOLeBypt9U&api-version=1.0&query=GEANT+-+CASINO+PS+ST+CYPRIEN+PLAGE+LES+CAPELLANS%2C+France HTTP/1.1\" 200 7717\n",
      "DEBUG 2019-03-06 14:15:00,165 Starting new HTTPS connection (1): atlas.microsoft.com:443\n"
     ]
    },
    {
     "name": "stdout",
     "output_type": "stream",
     "text": [
      "Web scrapping at : 82.309% which took 362 seconds to run.\n"
     ]
    },
    {
     "name": "stderr",
     "output_type": "stream",
     "text": [
      "DEBUG 2019-03-06 14:15:00,657 https://atlas.microsoft.com:443 \"GET /search/fuzzy/json?Content-Type=application%2Fjson&subscription-key=6j_USCas00Jqmpj2EFtKe18nLWPylj0gPTOLeBypt9U&api-version=1.0&query=GEANT+-+CASINO+PS+PORT+LEUCATE+VIXIEGE%2C+France HTTP/1.1\" 200 8349\n",
      "DEBUG 2019-03-06 14:15:00,666 Starting new HTTPS connection (1): atlas.microsoft.com:443\n"
     ]
    },
    {
     "name": "stdout",
     "output_type": "stream",
     "text": [
      "Web scrapping at : 82.402% which took 362 seconds to run.\n"
     ]
    },
    {
     "name": "stderr",
     "output_type": "stream",
     "text": [
      "DEBUG 2019-03-06 14:15:01,185 https://atlas.microsoft.com:443 \"GET /search/fuzzy/json?Content-Type=application%2Fjson&subscription-key=6j_USCas00Jqmpj2EFtKe18nLWPylj0gPTOLeBypt9U&api-version=1.0&query=GEANT+-+CASINO+ST+CHAMOND+LA+VALETTE+CHAMONOTRE+DAME%2C+France HTTP/1.1\" 200 7577\n",
      "DEBUG 2019-03-06 14:15:01,194 Starting new HTTPS connection (1): atlas.microsoft.com:443\n"
     ]
    },
    {
     "name": "stdout",
     "output_type": "stream",
     "text": [
      "Web scrapping at : 82.495% which took 363 seconds to run.\n"
     ]
    },
    {
     "name": "stderr",
     "output_type": "stream",
     "text": [
      "DEBUG 2019-03-06 14:15:01,597 https://atlas.microsoft.com:443 \"GET /search/fuzzy/json?Content-Type=application%2Fjson&subscription-key=6j_USCas00Jqmpj2EFtKe18nLWPylj0gPTOLeBypt9U&api-version=1.0&query=GEANT+-+CASINO+PS+MARSEILLAN+FLORIDE%2C+France HTTP/1.1\" 200 8048\n",
      "DEBUG 2019-03-06 14:15:01,606 Starting new HTTPS connection (1): atlas.microsoft.com:443\n"
     ]
    },
    {
     "name": "stdout",
     "output_type": "stream",
     "text": [
      "Web scrapping at : 82.588% which took 363 seconds to run.\n"
     ]
    },
    {
     "name": "stderr",
     "output_type": "stream",
     "text": [
      "DEBUG 2019-03-06 14:15:02,119 https://atlas.microsoft.com:443 \"GET /search/fuzzy/json?Content-Type=application%2Fjson&subscription-key=6j_USCas00Jqmpj2EFtKe18nLWPylj0gPTOLeBypt9U&api-version=1.0&query=GEANT+-+CASINO+LPE+ST+DENIS+JEUMONT+23%2C+France HTTP/1.1\" 200 8902\n",
      "DEBUG 2019-03-06 14:15:02,128 Starting new HTTPS connection (1): atlas.microsoft.com:443\n"
     ]
    },
    {
     "name": "stdout",
     "output_type": "stream",
     "text": [
      "Web scrapping at : 82.682% which took 364 seconds to run.\n"
     ]
    },
    {
     "name": "stderr",
     "output_type": "stream",
     "text": [
      "DEBUG 2019-03-06 14:15:02,555 https://atlas.microsoft.com:443 \"GET /search/fuzzy/json?Content-Type=application%2Fjson&subscription-key=6j_USCas00Jqmpj2EFtKe18nLWPylj0gPTOLeBypt9U&api-version=1.0&query=GEANT+-+CASINO+FOURS%2C+France HTTP/1.1\" 200 7904\n",
      "DEBUG 2019-03-06 14:15:02,564 Starting new HTTPS connection (1): atlas.microsoft.com:443\n"
     ]
    },
    {
     "name": "stdout",
     "output_type": "stream",
     "text": [
      "Web scrapping at : 82.775% which took 364 seconds to run.\n"
     ]
    },
    {
     "name": "stderr",
     "output_type": "stream",
     "text": [
      "DEBUG 2019-03-06 14:15:03,041 https://atlas.microsoft.com:443 \"GET /search/fuzzy/json?Content-Type=application%2Fjson&subscription-key=6j_USCas00Jqmpj2EFtKe18nLWPylj0gPTOLeBypt9U&api-version=1.0&query=GEANT+-+CASINO+0252+SARRIANS+ALBIN+DURAND%2C+France HTTP/1.1\" 200 6119\n",
      "DEBUG 2019-03-06 14:15:03,050 Starting new HTTPS connection (1): atlas.microsoft.com:443\n"
     ]
    },
    {
     "name": "stdout",
     "output_type": "stream",
     "text": [
      "Web scrapping at : 82.868% which took 365 seconds to run.\n"
     ]
    },
    {
     "name": "stderr",
     "output_type": "stream",
     "text": [
      "DEBUG 2019-03-06 14:15:03,477 https://atlas.microsoft.com:443 \"GET /search/fuzzy/json?Content-Type=application%2Fjson&subscription-key=6j_USCas00Jqmpj2EFtKe18nLWPylj0gPTOLeBypt9U&api-version=1.0&query=GEANT+-+CASINO+CARNON+SOLIGNAC%2C+France HTTP/1.1\" 200 8042\n",
      "DEBUG 2019-03-06 14:15:03,486 Starting new HTTPS connection (1): atlas.microsoft.com:443\n"
     ]
    },
    {
     "name": "stdout",
     "output_type": "stream",
     "text": [
      "Web scrapping at : 82.961% which took 365 seconds to run.\n"
     ]
    },
    {
     "name": "stderr",
     "output_type": "stream",
     "text": [
      "DEBUG 2019-03-06 14:15:04,067 https://atlas.microsoft.com:443 \"GET /search/fuzzy/json?Content-Type=application%2Fjson&subscription-key=6j_USCas00Jqmpj2EFtKe18nLWPylj0gPTOLeBypt9U&api-version=1.0&query=GEANT+-+CASINO+LE+GRAND+QUEVILLY+CORROY+GRANOTRE+DAME%2C+France HTTP/1.1\" 200 6840\n",
      "DEBUG 2019-03-06 14:15:04,076 Starting new HTTPS connection (1): atlas.microsoft.com:443\n"
     ]
    },
    {
     "name": "stdout",
     "output_type": "stream",
     "text": [
      "Web scrapping at : 83.054% which took 366 seconds to run.\n"
     ]
    },
    {
     "name": "stderr",
     "output_type": "stream",
     "text": [
      "DEBUG 2019-03-06 14:15:04,504 https://atlas.microsoft.com:443 \"GET /search/fuzzy/json?Content-Type=application%2Fjson&subscription-key=6j_USCas00Jqmpj2EFtKe18nLWPylj0gPTOLeBypt9U&api-version=1.0&query=LEADERPRICE+LP+ST+BENOIT%2C+France HTTP/1.1\" 200 5513\n",
      "DEBUG 2019-03-06 14:15:04,512 Starting new HTTPS connection (1): atlas.microsoft.com:443\n"
     ]
    },
    {
     "name": "stdout",
     "output_type": "stream",
     "text": [
      "Web scrapping at : 83.147% which took 366 seconds to run.\n"
     ]
    },
    {
     "name": "stderr",
     "output_type": "stream",
     "text": [
      "DEBUG 2019-03-06 14:15:04,846 https://atlas.microsoft.com:443 \"GET /search/fuzzy/json?Content-Type=application%2Fjson&subscription-key=6j_USCas00Jqmpj2EFtKe18nLWPylj0gPTOLeBypt9U&api-version=1.0&query=LEADERPRICE+LP+MOUZON+%2F%2F%40%2C+France HTTP/1.1\" 200 5651\n",
      "DEBUG 2019-03-06 14:15:04,856 Starting new HTTPS connection (1): atlas.microsoft.com:443\n",
      "DEBUG 2019-03-06 14:15:04,946 https://atlas.microsoft.com:443 \"GET /search/fuzzy/json?Content-Type=application%2Fjson&subscription-key=6j_USCas00Jqmpj2EFtKe18nLWPylj0gPTOLeBypt9U&api-version=1.0&query=LEADERPRICE+LP+ARTIX%2C+France HTTP/1.1\" 200 6496\n",
      "DEBUG 2019-03-06 14:15:04,955 Starting new HTTPS connection (1): atlas.microsoft.com:443\n"
     ]
    },
    {
     "name": "stdout",
     "output_type": "stream",
     "text": [
      "Web scrapping at : 83.24% which took 366 seconds to run.\n",
      "Web scrapping at : 83.333% which took 366 seconds to run.\n"
     ]
    },
    {
     "name": "stderr",
     "output_type": "stream",
     "text": [
      "DEBUG 2019-03-06 14:15:05,279 https://atlas.microsoft.com:443 \"GET /search/fuzzy/json?Content-Type=application%2Fjson&subscription-key=6j_USCas00Jqmpj2EFtKe18nLWPylj0gPTOLeBypt9U&api-version=1.0&query=LEADERPRICE+LP+LAVAUR%2C+France HTTP/1.1\" 200 6826\n",
      "DEBUG 2019-03-06 14:15:05,288 Starting new HTTPS connection (1): atlas.microsoft.com:443\n"
     ]
    },
    {
     "name": "stdout",
     "output_type": "stream",
     "text": [
      "Web scrapping at : 83.426% which took 367 seconds to run.\n"
     ]
    },
    {
     "name": "stderr",
     "output_type": "stream",
     "text": [
      "DEBUG 2019-03-06 14:15:07,846 https://atlas.microsoft.com:443 \"GET /search/fuzzy/json?Content-Type=application%2Fjson&subscription-key=6j_USCas00Jqmpj2EFtKe18nLWPylj0gPTOLeBypt9U&api-version=1.0&query=LEADERPRICE+LP+ST+VALLIER%2C+France HTTP/1.1\" 200 7127\n",
      "DEBUG 2019-03-06 14:15:07,855 Starting new HTTPS connection (1): atlas.microsoft.com:443\n"
     ]
    },
    {
     "name": "stdout",
     "output_type": "stream",
     "text": [
      "Web scrapping at : 83.52% which took 369 seconds to run.\n"
     ]
    },
    {
     "name": "stderr",
     "output_type": "stream",
     "text": [
      "DEBUG 2019-03-06 14:15:08,401 https://atlas.microsoft.com:443 \"GET /search/fuzzy/json?Content-Type=application%2Fjson&subscription-key=6j_USCas00Jqmpj2EFtKe18nLWPylj0gPTOLeBypt9U&api-version=1.0&query=LEADERPRICE+LP+STE+GENEVIEVE%2F%2F%40+GENEVIEVE+DES+BOIS%2C+France HTTP/1.1\" 200 5240\n",
      "DEBUG 2019-03-06 14:15:08,410 Starting new HTTPS connection (1): atlas.microsoft.com:443\n"
     ]
    },
    {
     "name": "stdout",
     "output_type": "stream",
     "text": [
      "Web scrapping at : 83.613% which took 370 seconds to run.\n"
     ]
    },
    {
     "name": "stderr",
     "output_type": "stream",
     "text": [
      "DEBUG 2019-03-06 14:15:08,743 https://atlas.microsoft.com:443 \"GET /search/fuzzy/json?Content-Type=application%2Fjson&subscription-key=6j_USCas00Jqmpj2EFtKe18nLWPylj0gPTOLeBypt9U&api-version=1.0&query=LEADERPRICE+LP+CHAMPNIERS+SOJODIS%2C+France HTTP/1.1\" 200 6195\n",
      "DEBUG 2019-03-06 14:15:08,751 Starting new HTTPS connection (1): atlas.microsoft.com:443\n"
     ]
    },
    {
     "name": "stdout",
     "output_type": "stream",
     "text": [
      "Web scrapping at : 83.706% which took 370 seconds to run.\n"
     ]
    },
    {
     "name": "stderr",
     "output_type": "stream",
     "text": [
      "DEBUG 2019-03-06 14:15:09,241 https://atlas.microsoft.com:443 \"GET /search/fuzzy/json?Content-Type=application%2Fjson&subscription-key=6j_USCas00Jqmpj2EFtKe18nLWPylj0gPTOLeBypt9U&api-version=1.0&query=LEADERPRICE+LP+FRENEUSE%2C+France HTTP/1.1\" 200 5572\n",
      "DEBUG 2019-03-06 14:15:09,250 Starting new HTTPS connection (1): atlas.microsoft.com:443\n"
     ]
    },
    {
     "name": "stdout",
     "output_type": "stream",
     "text": [
      "Web scrapping at : 83.799% which took 371 seconds to run.\n"
     ]
    },
    {
     "name": "stderr",
     "output_type": "stream",
     "text": [
      "DEBUG 2019-03-06 14:15:09,598 https://atlas.microsoft.com:443 \"GET /search/fuzzy/json?Content-Type=application%2Fjson&subscription-key=6j_USCas00Jqmpj2EFtKe18nLWPylj0gPTOLeBypt9U&api-version=1.0&query=LEADERPRICE+LP+GOURDON+DISPRICE%2C+France HTTP/1.1\" 200 5471\n",
      "DEBUG 2019-03-06 14:15:09,607 Starting new HTTPS connection (1): atlas.microsoft.com:443\n"
     ]
    },
    {
     "name": "stdout",
     "output_type": "stream",
     "text": [
      "Web scrapping at : 83.892% which took 371 seconds to run.\n"
     ]
    },
    {
     "name": "stderr",
     "output_type": "stream",
     "text": [
      "DEBUG 2019-03-06 14:15:10,005 https://atlas.microsoft.com:443 \"GET /search/fuzzy/json?Content-Type=application%2Fjson&subscription-key=6j_USCas00Jqmpj2EFtKe18nLWPylj0gPTOLeBypt9U&api-version=1.0&query=LEADERPRICE+LP+ROYE%24+ROYE%2C+France HTTP/1.1\" 200 6420\n",
      "DEBUG 2019-03-06 14:15:10,014 Starting new HTTPS connection (1): atlas.microsoft.com:443\n"
     ]
    },
    {
     "name": "stdout",
     "output_type": "stream",
     "text": [
      "Web scrapping at : 83.985% which took 371 seconds to run.\n"
     ]
    },
    {
     "name": "stderr",
     "output_type": "stream",
     "text": [
      "DEBUG 2019-03-06 14:15:10,353 https://atlas.microsoft.com:443 \"GET /search/fuzzy/json?Content-Type=application%2Fjson&subscription-key=6j_USCas00Jqmpj2EFtKe18nLWPylj0gPTOLeBypt9U&api-version=1.0&query=LEADERPRICE+LP+MARTAINVILLE%2C+France HTTP/1.1\" 200 6272\n",
      "DEBUG 2019-03-06 14:15:10,362 Starting new HTTPS connection (1): atlas.microsoft.com:443\n",
      "DEBUG 2019-03-06 14:15:10,448 https://atlas.microsoft.com:443 \"GET /search/fuzzy/json?Content-Type=application%2Fjson&subscription-key=6j_USCas00Jqmpj2EFtKe18nLWPylj0gPTOLeBypt9U&api-version=1.0&query=LEADERPRICE+LP+MONTROND+LES+BAINS+MONTRONOTRE+DAME%2C+France HTTP/1.1\" 200 6342\n",
      "DEBUG 2019-03-06 14:15:10,456 Starting new HTTPS connection (1): atlas.microsoft.com:443\n"
     ]
    },
    {
     "name": "stdout",
     "output_type": "stream",
     "text": [
      "Web scrapping at : 84.078% which took 372 seconds to run.\n",
      "Web scrapping at : 84.171% which took 372 seconds to run.\n"
     ]
    },
    {
     "name": "stderr",
     "output_type": "stream",
     "text": [
      "DEBUG 2019-03-06 14:15:10,871 https://atlas.microsoft.com:443 \"GET /search/fuzzy/json?Content-Type=application%2Fjson&subscription-key=6j_USCas00Jqmpj2EFtKe18nLWPylj0gPTOLeBypt9U&api-version=1.0&query=LEADERPRICE+LP+USSEL%2C+France HTTP/1.1\" 200 5574\n",
      "DEBUG 2019-03-06 14:15:10,879 Starting new HTTPS connection (1): atlas.microsoft.com:443\n"
     ]
    },
    {
     "name": "stdout",
     "output_type": "stream",
     "text": [
      "Web scrapping at : 84.264% which took 372 seconds to run.\n"
     ]
    },
    {
     "name": "stderr",
     "output_type": "stream",
     "text": [
      "DEBUG 2019-03-06 14:15:11,410 https://atlas.microsoft.com:443 \"GET /search/fuzzy/json?Content-Type=application%2Fjson&subscription-key=6j_USCas00Jqmpj2EFtKe18nLWPylj0gPTOLeBypt9U&api-version=1.0&query=LEADERPRICE+LP+TORCY+LE+PETIT%2C+France HTTP/1.1\" 200 5660\n",
      "DEBUG 2019-03-06 14:15:11,419 Starting new HTTPS connection (1): atlas.microsoft.com:443\n"
     ]
    },
    {
     "name": "stdout",
     "output_type": "stream",
     "text": [
      "Web scrapping at : 84.358% which took 373 seconds to run.\n"
     ]
    },
    {
     "name": "stderr",
     "output_type": "stream",
     "text": [
      "DEBUG 2019-03-06 14:15:11,743 https://atlas.microsoft.com:443 \"GET /search/fuzzy/json?Content-Type=application%2Fjson&subscription-key=6j_USCas00Jqmpj2EFtKe18nLWPylj0gPTOLeBypt9U&api-version=1.0&query=LEADERPRICE+LPE+BUC%2C+France HTTP/1.1\" 200 5351\n",
      "DEBUG 2019-03-06 14:15:11,752 Starting new HTTPS connection (1): atlas.microsoft.com:443\n"
     ]
    },
    {
     "name": "stdout",
     "output_type": "stream",
     "text": [
      "Web scrapping at : 84.451% which took 373 seconds to run.\n"
     ]
    },
    {
     "name": "stderr",
     "output_type": "stream",
     "text": [
      "DEBUG 2019-03-06 14:15:12,193 https://atlas.microsoft.com:443 \"GET /search/fuzzy/json?Content-Type=application%2Fjson&subscription-key=6j_USCas00Jqmpj2EFtKe18nLWPylj0gPTOLeBypt9U&api-version=1.0&query=LEADERPRICE+LP+CORMEILLES%24+CORMEILLES%2C+France HTTP/1.1\" 200 7199\n",
      "DEBUG 2019-03-06 14:15:12,202 Starting new HTTPS connection (1): atlas.microsoft.com:443\n"
     ]
    },
    {
     "name": "stdout",
     "output_type": "stream",
     "text": [
      "Web scrapping at : 84.544% which took 374 seconds to run.\n"
     ]
    },
    {
     "name": "stderr",
     "output_type": "stream",
     "text": [
      "DEBUG 2019-03-06 14:15:12,499 https://atlas.microsoft.com:443 \"GET /search/fuzzy/json?Content-Type=application%2Fjson&subscription-key=6j_USCas00Jqmpj2EFtKe18nLWPylj0gPTOLeBypt9U&api-version=1.0&query=LEADERPRICE+LP+ROCHEFORT%2C+France HTTP/1.1\" 200 5535\n",
      "DEBUG 2019-03-06 14:15:12,508 Starting new HTTPS connection (1): atlas.microsoft.com:443\n"
     ]
    },
    {
     "name": "stdout",
     "output_type": "stream",
     "text": [
      "Web scrapping at : 84.637% which took 374 seconds to run.\n"
     ]
    },
    {
     "name": "stderr",
     "output_type": "stream",
     "text": [
      "DEBUG 2019-03-06 14:15:12,894 https://atlas.microsoft.com:443 \"GET /search/fuzzy/json?Content-Type=application%2Fjson&subscription-key=6j_USCas00Jqmpj2EFtKe18nLWPylj0gPTOLeBypt9U&api-version=1.0&query=LEADERPRICE+LP+CHAUMONT%2F%2F%40+%24+CHAUMONT%2C+France HTTP/1.1\" 200 5702\n",
      "DEBUG 2019-03-06 14:15:12,902 Starting new HTTPS connection (1): atlas.microsoft.com:443\n"
     ]
    },
    {
     "name": "stdout",
     "output_type": "stream",
     "text": [
      "Web scrapping at : 84.73% which took 374 seconds to run.\n"
     ]
    },
    {
     "name": "stderr",
     "output_type": "stream",
     "text": [
      "DEBUG 2019-03-06 14:15:13,216 https://atlas.microsoft.com:443 \"GET /search/fuzzy/json?Content-Type=application%2Fjson&subscription-key=6j_USCas00Jqmpj2EFtKe18nLWPylj0gPTOLeBypt9U&api-version=1.0&query=LEADERPRICE+LP+LANGON%2C+France HTTP/1.1\" 200 5590\n",
      "DEBUG 2019-03-06 14:15:13,224 Starting new HTTPS connection (1): atlas.microsoft.com:443\n",
      "DEBUG 2019-03-06 14:15:13,310 https://atlas.microsoft.com:443 \"GET /search/fuzzy/json?Content-Type=application%2Fjson&subscription-key=6j_USCas00Jqmpj2EFtKe18nLWPylj0gPTOLeBypt9U&api-version=1.0&query=LEADERPRICE+LP+BINCHE+BELGIQUE%2C+France HTTP/1.1\" 200 8964\n",
      "DEBUG 2019-03-06 14:15:13,318 Starting new HTTPS connection (1): atlas.microsoft.com:443\n"
     ]
    },
    {
     "name": "stdout",
     "output_type": "stream",
     "text": [
      "Web scrapping at : 84.823% which took 375 seconds to run.\n",
      "Web scrapping at : 84.916% which took 375 seconds to run.\n"
     ]
    },
    {
     "name": "stderr",
     "output_type": "stream",
     "text": [
      "DEBUG 2019-03-06 14:15:13,660 https://atlas.microsoft.com:443 \"GET /search/fuzzy/json?Content-Type=application%2Fjson&subscription-key=6j_USCas00Jqmpj2EFtKe18nLWPylj0gPTOLeBypt9U&api-version=1.0&query=LEADERPRICE+LPE+CHESSY%2C+France HTTP/1.1\" 200 5993\n",
      "DEBUG 2019-03-06 14:15:13,668 Starting new HTTPS connection (1): atlas.microsoft.com:443\n"
     ]
    },
    {
     "name": "stdout",
     "output_type": "stream",
     "text": [
      "Web scrapping at : 85.009% which took 375 seconds to run.\n"
     ]
    },
    {
     "name": "stderr",
     "output_type": "stream",
     "text": [
      "DEBUG 2019-03-06 14:15:14,031 https://atlas.microsoft.com:443 \"GET /search/fuzzy/json?Content-Type=application%2Fjson&subscription-key=6j_USCas00Jqmpj2EFtKe18nLWPylj0gPTOLeBypt9U&api-version=1.0&query=LEADERPRICE+LP+SOLESMES%2C+France HTTP/1.1\" 200 5562\n",
      "DEBUG 2019-03-06 14:15:14,040 Starting new HTTPS connection (1): atlas.microsoft.com:443\n"
     ]
    },
    {
     "name": "stdout",
     "output_type": "stream",
     "text": [
      "Web scrapping at : 85.102% which took 376 seconds to run.\n"
     ]
    },
    {
     "name": "stderr",
     "output_type": "stream",
     "text": [
      "DEBUG 2019-03-06 14:15:14,437 https://atlas.microsoft.com:443 \"GET /search/fuzzy/json?Content-Type=application%2Fjson&subscription-key=6j_USCas00Jqmpj2EFtKe18nLWPylj0gPTOLeBypt9U&api-version=1.0&query=LEADERPRICE+LP+MONTREUIL%2C+France HTTP/1.1\" 200 5345\n",
      "DEBUG 2019-03-06 14:15:14,445 Starting new HTTPS connection (1): atlas.microsoft.com:443\n",
      "DEBUG 2019-03-06 14:15:14,530 https://atlas.microsoft.com:443 \"GET /search/fuzzy/json?Content-Type=application%2Fjson&subscription-key=6j_USCas00Jqmpj2EFtKe18nLWPylj0gPTOLeBypt9U&api-version=1.0&query=LEADERPRICE+LP+ORGEVAL%2C+France HTTP/1.1\" 200 5473\n",
      "DEBUG 2019-03-06 14:15:14,538 Starting new HTTPS connection (1): atlas.microsoft.com:443\n"
     ]
    },
    {
     "name": "stdout",
     "output_type": "stream",
     "text": [
      "Web scrapping at : 85.196% which took 376 seconds to run.\n",
      "Web scrapping at : 85.289% which took 376 seconds to run.\n"
     ]
    },
    {
     "name": "stderr",
     "output_type": "stream",
     "text": [
      "DEBUG 2019-03-06 14:15:14,912 https://atlas.microsoft.com:443 \"GET /search/fuzzy/json?Content-Type=application%2Fjson&subscription-key=6j_USCas00Jqmpj2EFtKe18nLWPylj0gPTOLeBypt9U&api-version=1.0&query=LEADERPRICE+LP+ST+THIBAULT+%40%2C+France HTTP/1.1\" 200 5017\n",
      "DEBUG 2019-03-06 14:15:14,921 Starting new HTTPS connection (1): atlas.microsoft.com:443\n"
     ]
    },
    {
     "name": "stdout",
     "output_type": "stream",
     "text": [
      "Web scrapping at : 85.382% which took 376 seconds to run.\n"
     ]
    },
    {
     "name": "stderr",
     "output_type": "stream",
     "text": [
      "DEBUG 2019-03-06 14:15:15,634 https://atlas.microsoft.com:443 \"GET /search/fuzzy/json?Content-Type=application%2Fjson&subscription-key=6j_USCas00Jqmpj2EFtKe18nLWPylj0gPTOLeBypt9U&api-version=1.0&query=LEADERPRICE+LP+PONT+DE+BEAUVOISIN+LE%2C+France HTTP/1.1\" 200 5692\n",
      "DEBUG 2019-03-06 14:15:15,644 Starting new HTTPS connection (1): atlas.microsoft.com:443\n"
     ]
    },
    {
     "name": "stdout",
     "output_type": "stream",
     "text": [
      "Web scrapping at : 85.475% which took 377 seconds to run.\n"
     ]
    },
    {
     "name": "stderr",
     "output_type": "stream",
     "text": [
      "DEBUG 2019-03-06 14:15:15,955 https://atlas.microsoft.com:443 \"GET /search/fuzzy/json?Content-Type=application%2Fjson&subscription-key=6j_USCas00Jqmpj2EFtKe18nLWPylj0gPTOLeBypt9U&api-version=1.0&query=LEADERPRICE+LP+MIRAMBEAU%2C+France HTTP/1.1\" 200 6840\n",
      "DEBUG 2019-03-06 14:15:15,963 Starting new HTTPS connection (1): atlas.microsoft.com:443\n"
     ]
    },
    {
     "name": "stdout",
     "output_type": "stream",
     "text": [
      "Web scrapping at : 85.568% which took 377 seconds to run.\n"
     ]
    },
    {
     "name": "stderr",
     "output_type": "stream",
     "text": [
      "DEBUG 2019-03-06 14:15:16,338 https://atlas.microsoft.com:443 \"GET /search/fuzzy/json?Content-Type=application%2Fjson&subscription-key=6j_USCas00Jqmpj2EFtKe18nLWPylj0gPTOLeBypt9U&api-version=1.0&query=LEADERPRICE+LP+CARRE+SENART+LIEUST%2C+France HTTP/1.1\" 200 9212\n",
      "DEBUG 2019-03-06 14:15:16,347 Starting new HTTPS connection (1): atlas.microsoft.com:443\n",
      "DEBUG 2019-03-06 14:15:16,438 https://atlas.microsoft.com:443 \"GET /search/fuzzy/json?Content-Type=application%2Fjson&subscription-key=6j_USCas00Jqmpj2EFtKe18nLWPylj0gPTOLeBypt9U&api-version=1.0&query=LEADERPRICE+LP+SAINT+DENIS+GENIN+%40+ST%2C+France HTTP/1.1\" 200 6778\n",
      "DEBUG 2019-03-06 14:15:16,447 Starting new HTTPS connection (1): atlas.microsoft.com:443\n"
     ]
    },
    {
     "name": "stdout",
     "output_type": "stream",
     "text": [
      "Web scrapping at : 85.661% which took 378 seconds to run.\n",
      "Web scrapping at : 85.754% which took 378 seconds to run.\n"
     ]
    },
    {
     "name": "stderr",
     "output_type": "stream",
     "text": [
      "DEBUG 2019-03-06 14:15:16,838 https://atlas.microsoft.com:443 \"GET /search/fuzzy/json?Content-Type=application%2Fjson&subscription-key=6j_USCas00Jqmpj2EFtKe18nLWPylj0gPTOLeBypt9U&api-version=1.0&query=LEADERPRICE+LP+BEAUCAIRE%2C+France HTTP/1.1\" 200 6811\n",
      "DEBUG 2019-03-06 14:15:16,847 Starting new HTTPS connection (1): atlas.microsoft.com:443\n",
      "DEBUG 2019-03-06 14:15:16,934 https://atlas.microsoft.com:443 \"GET /search/fuzzy/json?Content-Type=application%2Fjson&subscription-key=6j_USCas00Jqmpj2EFtKe18nLWPylj0gPTOLeBypt9U&api-version=1.0&query=LEADERPRICE+LP+GRAND+COURONNE+GRANOTRE+DAME%2C+France HTTP/1.1\" 200 5768\n",
      "DEBUG 2019-03-06 14:15:16,942 Starting new HTTPS connection (1): atlas.microsoft.com:443\n"
     ]
    },
    {
     "name": "stdout",
     "output_type": "stream",
     "text": [
      "Web scrapping at : 85.847% which took 378 seconds to run.\n",
      "Web scrapping at : 85.94% which took 378 seconds to run.\n"
     ]
    },
    {
     "name": "stderr",
     "output_type": "stream",
     "text": [
      "DEBUG 2019-03-06 14:15:17,347 https://atlas.microsoft.com:443 \"GET /search/fuzzy/json?Content-Type=application%2Fjson&subscription-key=6j_USCas00Jqmpj2EFtKe18nLWPylj0gPTOLeBypt9U&api-version=1.0&query=LEADERPRICE+LP+GOUSSAINVILLE+%40%2C+France HTTP/1.1\" 200 6192\n",
      "DEBUG 2019-03-06 14:15:17,356 Starting new HTTPS connection (1): atlas.microsoft.com:443\n"
     ]
    },
    {
     "name": "stdout",
     "output_type": "stream",
     "text": [
      "Web scrapping at : 86.034% which took 379 seconds to run.\n"
     ]
    },
    {
     "name": "stderr",
     "output_type": "stream",
     "text": [
      "DEBUG 2019-03-06 14:15:17,714 https://atlas.microsoft.com:443 \"GET /search/fuzzy/json?Content-Type=application%2Fjson&subscription-key=6j_USCas00Jqmpj2EFtKe18nLWPylj0gPTOLeBypt9U&api-version=1.0&query=LEADERPRICE+LP+BIRON%2C+France HTTP/1.1\" 200 6217\n",
      "DEBUG 2019-03-06 14:15:17,724 Starting new HTTPS connection (1): atlas.microsoft.com:443\n"
     ]
    },
    {
     "name": "stdout",
     "output_type": "stream",
     "text": [
      "Web scrapping at : 86.127% which took 379 seconds to run.\n"
     ]
    },
    {
     "name": "stderr",
     "output_type": "stream",
     "text": [
      "DEBUG 2019-03-06 14:15:18,204 https://atlas.microsoft.com:443 \"GET /search/fuzzy/json?Content-Type=application%2Fjson&subscription-key=6j_USCas00Jqmpj2EFtKe18nLWPylj0gPTOLeBypt9U&api-version=1.0&query=LEADERPRICE+LP+AVIGNON+SUD+MONTFAVET%2C+France HTTP/1.1\" 200 9807\n",
      "DEBUG 2019-03-06 14:15:18,213 Starting new HTTPS connection (1): atlas.microsoft.com:443\n"
     ]
    },
    {
     "name": "stdout",
     "output_type": "stream",
     "text": [
      "Web scrapping at : 86.22% which took 380 seconds to run.\n"
     ]
    },
    {
     "name": "stderr",
     "output_type": "stream",
     "text": [
      "DEBUG 2019-03-06 14:15:18,575 https://atlas.microsoft.com:443 \"GET /search/fuzzy/json?Content-Type=application%2Fjson&subscription-key=6j_USCas00Jqmpj2EFtKe18nLWPylj0gPTOLeBypt9U&api-version=1.0&query=LEADERPRICE+LP+MONTIGNAC%2C+France HTTP/1.1\" 200 5261\n",
      "DEBUG 2019-03-06 14:15:18,584 Starting new HTTPS connection (1): atlas.microsoft.com:443\n"
     ]
    },
    {
     "name": "stdout",
     "output_type": "stream",
     "text": [
      "Web scrapping at : 86.313% which took 380 seconds to run.\n"
     ]
    },
    {
     "name": "stderr",
     "output_type": "stream",
     "text": [
      "DEBUG 2019-03-06 14:15:18,958 https://atlas.microsoft.com:443 \"GET /search/fuzzy/json?Content-Type=application%2Fjson&subscription-key=6j_USCas00Jqmpj2EFtKe18nLWPylj0gPTOLeBypt9U&api-version=1.0&query=LEADERPRICE+LP+BRIVE%2C+France HTTP/1.1\" 200 6090\n",
      "DEBUG 2019-03-06 14:15:18,966 Starting new HTTPS connection (1): atlas.microsoft.com:443\n",
      "DEBUG 2019-03-06 14:15:19,063 https://atlas.microsoft.com:443 \"GET /search/fuzzy/json?Content-Type=application%2Fjson&subscription-key=6j_USCas00Jqmpj2EFtKe18nLWPylj0gPTOLeBypt9U&api-version=1.0&query=LEADERPRICE+LP+COLOMBIERS%2C+France HTTP/1.1\" 200 5277\n",
      "DEBUG 2019-03-06 14:15:19,072 Starting new HTTPS connection (1): atlas.microsoft.com:443\n"
     ]
    },
    {
     "name": "stdout",
     "output_type": "stream",
     "text": [
      "Web scrapping at : 86.406% which took 380 seconds to run.\n",
      "Web scrapping at : 86.499% which took 381 seconds to run.\n"
     ]
    },
    {
     "name": "stderr",
     "output_type": "stream",
     "text": [
      "DEBUG 2019-03-06 14:15:19,400 https://atlas.microsoft.com:443 \"GET /search/fuzzy/json?Content-Type=application%2Fjson&subscription-key=6j_USCas00Jqmpj2EFtKe18nLWPylj0gPTOLeBypt9U&api-version=1.0&query=LEADERPRICE+LP+ST+MAXIMIN%2C+France HTTP/1.1\" 200 6886\n",
      "DEBUG 2019-03-06 14:15:19,408 Starting new HTTPS connection (1): atlas.microsoft.com:443\n"
     ]
    },
    {
     "name": "stdout",
     "output_type": "stream",
     "text": [
      "Web scrapping at : 86.592% which took 381 seconds to run.\n"
     ]
    },
    {
     "name": "stderr",
     "output_type": "stream",
     "text": [
      "DEBUG 2019-03-06 14:15:19,721 https://atlas.microsoft.com:443 \"GET /search/fuzzy/json?Content-Type=application%2Fjson&subscription-key=6j_USCas00Jqmpj2EFtKe18nLWPylj0gPTOLeBypt9U&api-version=1.0&query=LEADERPRICE+LP+CHATEAUBOURG%2C+France HTTP/1.1\" 200 4854\n",
      "DEBUG 2019-03-06 14:15:19,730 Starting new HTTPS connection (1): atlas.microsoft.com:443\n"
     ]
    },
    {
     "name": "stdout",
     "output_type": "stream",
     "text": [
      "Web scrapping at : 86.685% which took 381 seconds to run.\n"
     ]
    },
    {
     "name": "stderr",
     "output_type": "stream",
     "text": [
      "DEBUG 2019-03-06 14:15:20,023 https://atlas.microsoft.com:443 \"GET /search/fuzzy/json?Content-Type=application%2Fjson&subscription-key=6j_USCas00Jqmpj2EFtKe18nLWPylj0gPTOLeBypt9U&api-version=1.0&query=LEADERPRICE+LP+ALLONNES%2C+France HTTP/1.1\" 200 5174\n",
      "DEBUG 2019-03-06 14:15:20,032 Starting new HTTPS connection (1): atlas.microsoft.com:443\n",
      "DEBUG 2019-03-06 14:15:20,121 https://atlas.microsoft.com:443 \"GET /search/fuzzy/json?Content-Type=application%2Fjson&subscription-key=6j_USCas00Jqmpj2EFtKe18nLWPylj0gPTOLeBypt9U&api-version=1.0&query=LEADERPRICE+LP+ST+FLOUR%2C+France HTTP/1.1\" 200 4891\n",
      "DEBUG 2019-03-06 14:15:20,129 Starting new HTTPS connection (1): atlas.microsoft.com:443\n"
     ]
    },
    {
     "name": "stdout",
     "output_type": "stream",
     "text": [
      "Web scrapping at : 86.778% which took 382 seconds to run.\n",
      "Web scrapping at : 86.872% which took 382 seconds to run.\n"
     ]
    },
    {
     "name": "stderr",
     "output_type": "stream",
     "text": [
      "DEBUG 2019-03-06 14:15:20,561 https://atlas.microsoft.com:443 \"GET /search/fuzzy/json?Content-Type=application%2Fjson&subscription-key=6j_USCas00Jqmpj2EFtKe18nLWPylj0gPTOLeBypt9U&api-version=1.0&query=LEADERPRICE+LP+ST+MARD+%2F%2F+%40%2C+France HTTP/1.1\" 200 6090\n",
      "DEBUG 2019-03-06 14:15:20,570 Starting new HTTPS connection (1): atlas.microsoft.com:443\n"
     ]
    },
    {
     "name": "stdout",
     "output_type": "stream",
     "text": [
      "Web scrapping at : 86.965% which took 382 seconds to run.\n"
     ]
    },
    {
     "name": "stderr",
     "output_type": "stream",
     "text": [
      "DEBUG 2019-03-06 14:15:20,993 https://atlas.microsoft.com:443 \"GET /search/fuzzy/json?Content-Type=application%2Fjson&subscription-key=6j_USCas00Jqmpj2EFtKe18nLWPylj0gPTOLeBypt9U&api-version=1.0&query=LEADERPRICE+LP+CHELLES+2%2C+France HTTP/1.1\" 200 7110\n",
      "DEBUG 2019-03-06 14:15:21,001 Starting new HTTPS connection (1): atlas.microsoft.com:443\n"
     ]
    },
    {
     "name": "stdout",
     "output_type": "stream",
     "text": [
      "Web scrapping at : 87.058% which took 382 seconds to run.\n"
     ]
    },
    {
     "name": "stderr",
     "output_type": "stream",
     "text": [
      "DEBUG 2019-03-06 14:15:21,351 https://atlas.microsoft.com:443 \"GET /search/fuzzy/json?Content-Type=application%2Fjson&subscription-key=6j_USCas00Jqmpj2EFtKe18nLWPylj0gPTOLeBypt9U&api-version=1.0&query=LEADERPRICE+LP+CASTRES+II%2C+France HTTP/1.1\" 200 5948\n",
      "DEBUG 2019-03-06 14:15:21,359 Starting new HTTPS connection (1): atlas.microsoft.com:443\n"
     ]
    },
    {
     "name": "stdout",
     "output_type": "stream",
     "text": [
      "Web scrapping at : 87.151% which took 383 seconds to run.\n"
     ]
    },
    {
     "name": "stderr",
     "output_type": "stream",
     "text": [
      "DEBUG 2019-03-06 14:15:21,815 https://atlas.microsoft.com:443 \"GET /search/fuzzy/json?Content-Type=application%2Fjson&subscription-key=6j_USCas00Jqmpj2EFtKe18nLWPylj0gPTOLeBypt9U&api-version=1.0&query=LEADERPRICE+LP+VITROLLES%2C+France HTTP/1.1\" 200 6324\n",
      "DEBUG 2019-03-06 14:15:21,824 Starting new HTTPS connection (1): atlas.microsoft.com:443\n"
     ]
    },
    {
     "name": "stdout",
     "output_type": "stream",
     "text": [
      "Web scrapping at : 87.244% which took 383 seconds to run.\n"
     ]
    },
    {
     "name": "stderr",
     "output_type": "stream",
     "text": [
      "DEBUG 2019-03-06 14:15:22,175 https://atlas.microsoft.com:443 \"GET /search/fuzzy/json?Content-Type=application%2Fjson&subscription-key=6j_USCas00Jqmpj2EFtKe18nLWPylj0gPTOLeBypt9U&api-version=1.0&query=LEADERPRICE+LP+SAUSSAY+ANET%2C+France HTTP/1.1\" 200 4390\n",
      "DEBUG 2019-03-06 14:15:22,184 Starting new HTTPS connection (1): atlas.microsoft.com:443\n",
      "DEBUG 2019-03-06 14:15:22,271 https://atlas.microsoft.com:443 \"GET /search/fuzzy/json?Content-Type=application%2Fjson&subscription-key=6j_USCas00Jqmpj2EFtKe18nLWPylj0gPTOLeBypt9U&api-version=1.0&query=LEADERPRICE+LP+ORVAL%24+ORVAL%2C+France HTTP/1.1\" 200 6153\n",
      "DEBUG 2019-03-06 14:15:22,279 Starting new HTTPS connection (1): atlas.microsoft.com:443\n"
     ]
    },
    {
     "name": "stdout",
     "output_type": "stream",
     "text": [
      "Web scrapping at : 87.337% which took 384 seconds to run.\n",
      "Web scrapping at : 87.43% which took 384 seconds to run.\n"
     ]
    },
    {
     "name": "stderr",
     "output_type": "stream",
     "text": [
      "DEBUG 2019-03-06 14:15:22,694 https://atlas.microsoft.com:443 \"GET /search/fuzzy/json?Content-Type=application%2Fjson&subscription-key=6j_USCas00Jqmpj2EFtKe18nLWPylj0gPTOLeBypt9U&api-version=1.0&query=LEADERPRICE+LP+SOULTZ%24+SOULTZ%2C+France HTTP/1.1\" 200 5851\n",
      "DEBUG 2019-03-06 14:15:22,703 Starting new HTTPS connection (1): atlas.microsoft.com:443\n"
     ]
    },
    {
     "name": "stdout",
     "output_type": "stream",
     "text": [
      "Web scrapping at : 87.523% which took 384 seconds to run.\n"
     ]
    },
    {
     "name": "stderr",
     "output_type": "stream",
     "text": [
      "DEBUG 2019-03-06 14:15:23,108 https://atlas.microsoft.com:443 \"GET /search/fuzzy/json?Content-Type=application%2Fjson&subscription-key=6j_USCas00Jqmpj2EFtKe18nLWPylj0gPTOLeBypt9U&api-version=1.0&query=LEADERPRICE+LP+MELLE%2C+France HTTP/1.1\" 200 6179\n",
      "DEBUG 2019-03-06 14:15:23,116 Starting new HTTPS connection (1): atlas.microsoft.com:443\n",
      "DEBUG 2019-03-06 14:15:23,200 https://atlas.microsoft.com:443 \"GET /search/fuzzy/json?Content-Type=application%2Fjson&subscription-key=6j_USCas00Jqmpj2EFtKe18nLWPylj0gPTOLeBypt9U&api-version=1.0&query=LEADERPRICE+LP+ST+FELIX%2C+France HTTP/1.1\" 200 5969\n",
      "DEBUG 2019-03-06 14:15:23,208 Starting new HTTPS connection (1): atlas.microsoft.com:443\n"
     ]
    },
    {
     "name": "stdout",
     "output_type": "stream",
     "text": [
      "Web scrapping at : 87.616% which took 385 seconds to run.\n",
      "Web scrapping at : 87.709% which took 385 seconds to run.\n"
     ]
    },
    {
     "name": "stderr",
     "output_type": "stream",
     "text": [
      "DEBUG 2019-03-06 14:15:23,568 https://atlas.microsoft.com:443 \"GET /search/fuzzy/json?Content-Type=application%2Fjson&subscription-key=6j_USCas00Jqmpj2EFtKe18nLWPylj0gPTOLeBypt9U&api-version=1.0&query=LEADERPRICE+LP+MERIGNAC%2C+France HTTP/1.1\" 200 6487\n",
      "DEBUG 2019-03-06 14:15:23,576 Starting new HTTPS connection (1): atlas.microsoft.com:443\n"
     ]
    },
    {
     "name": "stdout",
     "output_type": "stream",
     "text": [
      "Web scrapping at : 87.803% which took 385 seconds to run.\n"
     ]
    },
    {
     "name": "stderr",
     "output_type": "stream",
     "text": [
      "DEBUG 2019-03-06 14:15:23,903 https://atlas.microsoft.com:443 \"GET /search/fuzzy/json?Content-Type=application%2Fjson&subscription-key=6j_USCas00Jqmpj2EFtKe18nLWPylj0gPTOLeBypt9U&api-version=1.0&query=LEADERPRICE+LP+MONTBRISON%2C+France HTTP/1.1\" 200 6130\n",
      "DEBUG 2019-03-06 14:15:23,912 Starting new HTTPS connection (1): atlas.microsoft.com:443\n"
     ]
    },
    {
     "name": "stdout",
     "output_type": "stream",
     "text": [
      "Web scrapping at : 87.896% which took 385 seconds to run.\n"
     ]
    },
    {
     "name": "stderr",
     "output_type": "stream",
     "text": [
      "DEBUG 2019-03-06 14:15:24,374 https://atlas.microsoft.com:443 \"GET /search/fuzzy/json?Content-Type=application%2Fjson&subscription-key=6j_USCas00Jqmpj2EFtKe18nLWPylj0gPTOLeBypt9U&api-version=1.0&query=LEADERPRICE+LP+LAVAL+%40%2C+France HTTP/1.1\" 200 5155\n",
      "DEBUG 2019-03-06 14:15:24,382 Starting new HTTPS connection (1): atlas.microsoft.com:443\n"
     ]
    },
    {
     "name": "stdout",
     "output_type": "stream",
     "text": [
      "Web scrapping at : 87.989% which took 386 seconds to run.\n"
     ]
    },
    {
     "name": "stderr",
     "output_type": "stream",
     "text": [
      "DEBUG 2019-03-06 14:15:24,769 https://atlas.microsoft.com:443 \"GET /search/fuzzy/json?Content-Type=application%2Fjson&subscription-key=6j_USCas00Jqmpj2EFtKe18nLWPylj0gPTOLeBypt9U&api-version=1.0&query=LEADERPRICE+LP+MONTIVILLIERS+MONTIVILLLIERS%2C+France HTTP/1.1\" 200 4347\n",
      "DEBUG 2019-03-06 14:15:24,778 Starting new HTTPS connection (1): atlas.microsoft.com:443\n",
      "DEBUG 2019-03-06 14:15:24,861 https://atlas.microsoft.com:443 \"GET /search/fuzzy/json?Content-Type=application%2Fjson&subscription-key=6j_USCas00Jqmpj2EFtKe18nLWPylj0gPTOLeBypt9U&api-version=1.0&query=LEADERPRICE+LP+REVEL%2C+France HTTP/1.1\" 200 6943\n",
      "DEBUG 2019-03-06 14:15:24,870 Starting new HTTPS connection (1): atlas.microsoft.com:443\n"
     ]
    },
    {
     "name": "stdout",
     "output_type": "stream",
     "text": [
      "Web scrapping at : 88.082% which took 386 seconds to run.\n",
      "Web scrapping at : 88.175% which took 386 seconds to run.\n"
     ]
    },
    {
     "name": "stderr",
     "output_type": "stream",
     "text": [
      "DEBUG 2019-03-06 14:15:25,231 https://atlas.microsoft.com:443 \"GET /search/fuzzy/json?Content-Type=application%2Fjson&subscription-key=6j_USCas00Jqmpj2EFtKe18nLWPylj0gPTOLeBypt9U&api-version=1.0&query=LEADERPRICE+LP+FRIVILLE%24+FRIVILLE%2C+France HTTP/1.1\" 200 6027\n",
      "DEBUG 2019-03-06 14:15:25,239 Starting new HTTPS connection (1): atlas.microsoft.com:443\n"
     ]
    },
    {
     "name": "stdout",
     "output_type": "stream",
     "text": [
      "Web scrapping at : 88.268% which took 387 seconds to run.\n"
     ]
    },
    {
     "name": "stderr",
     "output_type": "stream",
     "text": [
      "DEBUG 2019-03-06 14:15:25,642 https://atlas.microsoft.com:443 \"GET /search/fuzzy/json?Content-Type=application%2Fjson&subscription-key=6j_USCas00Jqmpj2EFtKe18nLWPylj0gPTOLeBypt9U&api-version=1.0&query=LEADERPRICE+LP+LAVAL%2C+France HTTP/1.1\" 200 5155\n",
      "DEBUG 2019-03-06 14:15:25,650 Starting new HTTPS connection (1): atlas.microsoft.com:443\n",
      "DEBUG 2019-03-06 14:15:25,738 https://atlas.microsoft.com:443 \"GET /search/fuzzy/json?Content-Type=application%2Fjson&subscription-key=6j_USCas00Jqmpj2EFtKe18nLWPylj0gPTOLeBypt9U&api-version=1.0&query=LEADERPRICE+LP+AUTERIVE%2C+France HTTP/1.1\" 200 6511\n",
      "DEBUG 2019-03-06 14:15:25,747 Starting new HTTPS connection (1): atlas.microsoft.com:443\n"
     ]
    },
    {
     "name": "stdout",
     "output_type": "stream",
     "text": [
      "Web scrapping at : 88.361% which took 387 seconds to run.\n",
      "Web scrapping at : 88.454% which took 387 seconds to run.\n"
     ]
    },
    {
     "name": "stderr",
     "output_type": "stream",
     "text": [
      "DEBUG 2019-03-06 14:15:26,218 https://atlas.microsoft.com:443 \"GET /search/fuzzy/json?Content-Type=application%2Fjson&subscription-key=6j_USCas00Jqmpj2EFtKe18nLWPylj0gPTOLeBypt9U&api-version=1.0&query=LEADERPRICE+LP+CHELLES+AV.+DE+RESISTANCE%2C+France HTTP/1.1\" 200 9007\n",
      "DEBUG 2019-03-06 14:15:26,227 Starting new HTTPS connection (1): atlas.microsoft.com:443\n"
     ]
    },
    {
     "name": "stdout",
     "output_type": "stream",
     "text": [
      "Web scrapping at : 88.547% which took 388 seconds to run.\n"
     ]
    },
    {
     "name": "stderr",
     "output_type": "stream",
     "text": [
      "DEBUG 2019-03-06 14:15:26,776 https://atlas.microsoft.com:443 \"GET /search/fuzzy/json?Content-Type=application%2Fjson&subscription-key=6j_USCas00Jqmpj2EFtKe18nLWPylj0gPTOLeBypt9U&api-version=1.0&query=LEADERPRICE+LP+CASTRES+SODIP+%24%2C+France HTTP/1.1\" 200 7296\n",
      "DEBUG 2019-03-06 14:15:26,785 Starting new HTTPS connection (1): atlas.microsoft.com:443\n"
     ]
    },
    {
     "name": "stdout",
     "output_type": "stream",
     "text": [
      "Web scrapping at : 88.641% which took 388 seconds to run.\n"
     ]
    },
    {
     "name": "stderr",
     "output_type": "stream",
     "text": [
      "DEBUG 2019-03-06 14:15:27,227 https://atlas.microsoft.com:443 \"GET /search/fuzzy/json?Content-Type=application%2Fjson&subscription-key=6j_USCas00Jqmpj2EFtKe18nLWPylj0gPTOLeBypt9U&api-version=1.0&query=LEADERPRICE+LP+VERDUN+%2F%2F+%40%24%2C+France HTTP/1.1\" 200 6046\n",
      "DEBUG 2019-03-06 14:15:27,235 Starting new HTTPS connection (1): atlas.microsoft.com:443\n"
     ]
    },
    {
     "name": "stdout",
     "output_type": "stream",
     "text": [
      "Web scrapping at : 88.734% which took 389 seconds to run.\n"
     ]
    },
    {
     "name": "stderr",
     "output_type": "stream",
     "text": [
      "DEBUG 2019-03-06 14:15:27,591 https://atlas.microsoft.com:443 \"GET /search/fuzzy/json?Content-Type=application%2Fjson&subscription-key=6j_USCas00Jqmpj2EFtKe18nLWPylj0gPTOLeBypt9U&api-version=1.0&query=LEADERPRICE+LP+HALLOY%2C+France HTTP/1.1\" 200 6413\n",
      "DEBUG 2019-03-06 14:15:27,600 Starting new HTTPS connection (1): atlas.microsoft.com:443\n"
     ]
    },
    {
     "name": "stdout",
     "output_type": "stream",
     "text": [
      "Web scrapping at : 88.827% which took 389 seconds to run.\n"
     ]
    },
    {
     "name": "stderr",
     "output_type": "stream",
     "text": [
      "DEBUG 2019-03-06 14:15:28,540 https://atlas.microsoft.com:443 \"GET /search/fuzzy/json?Content-Type=application%2Fjson&subscription-key=6j_USCas00Jqmpj2EFtKe18nLWPylj0gPTOLeBypt9U&api-version=1.0&query=LEADERPRICE+LP+SAINT+DENIS+ST%2C+France HTTP/1.1\" 200 5355\n",
      "DEBUG 2019-03-06 14:15:28,548 Starting new HTTPS connection (1): atlas.microsoft.com:443\n"
     ]
    },
    {
     "name": "stdout",
     "output_type": "stream",
     "text": [
      "Web scrapping at : 88.92% which took 390 seconds to run.\n"
     ]
    },
    {
     "name": "stderr",
     "output_type": "stream",
     "text": [
      "DEBUG 2019-03-06 14:15:28,864 https://atlas.microsoft.com:443 \"GET /search/fuzzy/json?Content-Type=application%2Fjson&subscription-key=6j_USCas00Jqmpj2EFtKe18nLWPylj0gPTOLeBypt9U&api-version=1.0&query=LEADERPRICE+LP+TIHANGE+THIANGE%2C+France HTTP/1.1\" 200 5365\n",
      "DEBUG 2019-03-06 14:15:28,873 Starting new HTTPS connection (1): atlas.microsoft.com:443\n",
      "DEBUG 2019-03-06 14:15:28,957 https://atlas.microsoft.com:443 \"GET /search/fuzzy/json?Content-Type=application%2Fjson&subscription-key=6j_USCas00Jqmpj2EFtKe18nLWPylj0gPTOLeBypt9U&api-version=1.0&query=LEADERPRICE+LPE+MASSY+UNION%2C+France HTTP/1.1\" 200 8663\n",
      "DEBUG 2019-03-06 14:15:28,965 Starting new HTTPS connection (1): atlas.microsoft.com:443\n"
     ]
    },
    {
     "name": "stdout",
     "output_type": "stream",
     "text": [
      "Web scrapping at : 89.013% which took 390 seconds to run.\n",
      "Web scrapping at : 89.106% which took 390 seconds to run.\n"
     ]
    },
    {
     "name": "stderr",
     "output_type": "stream",
     "text": [
      "DEBUG 2019-03-06 14:15:29,392 https://atlas.microsoft.com:443 \"GET /search/fuzzy/json?Content-Type=application%2Fjson&subscription-key=6j_USCas00Jqmpj2EFtKe18nLWPylj0gPTOLeBypt9U&api-version=1.0&query=LEADERPRICE+LP+ST+RAPHAEL+BD+CERCERON%2C+France HTTP/1.1\" 200 4021\n",
      "DEBUG 2019-03-06 14:15:29,400 Starting new HTTPS connection (1): atlas.microsoft.com:443\n"
     ]
    },
    {
     "name": "stdout",
     "output_type": "stream",
     "text": [
      "Web scrapping at : 89.199% which took 391 seconds to run.\n"
     ]
    },
    {
     "name": "stderr",
     "output_type": "stream",
     "text": [
      "DEBUG 2019-03-06 14:15:29,760 https://atlas.microsoft.com:443 \"GET /search/fuzzy/json?Content-Type=application%2Fjson&subscription-key=6j_USCas00Jqmpj2EFtKe18nLWPylj0gPTOLeBypt9U&api-version=1.0&query=LEADERPRICE+LP+NORMANVILLE%2C+France HTTP/1.1\" 200 5650\n",
      "DEBUG 2019-03-06 14:15:29,769 Starting new HTTPS connection (1): atlas.microsoft.com:443\n"
     ]
    },
    {
     "name": "stdout",
     "output_type": "stream",
     "text": [
      "Web scrapping at : 89.292% which took 391 seconds to run.\n"
     ]
    },
    {
     "name": "stderr",
     "output_type": "stream",
     "text": [
      "DEBUG 2019-03-06 14:15:30,134 https://atlas.microsoft.com:443 \"GET /search/fuzzy/json?Content-Type=application%2Fjson&subscription-key=6j_USCas00Jqmpj2EFtKe18nLWPylj0gPTOLeBypt9U&api-version=1.0&query=LEADERPRICE+LP+GRATENTOUR+GRATENDOUR%2C+France HTTP/1.1\" 200 3373\n",
      "DEBUG 2019-03-06 14:15:30,144 Starting new HTTPS connection (1): atlas.microsoft.com:443\n"
     ]
    },
    {
     "name": "stdout",
     "output_type": "stream",
     "text": [
      "Web scrapping at : 89.385% which took 392 seconds to run.\n"
     ]
    },
    {
     "name": "stderr",
     "output_type": "stream",
     "text": [
      "DEBUG 2019-03-06 14:15:30,530 https://atlas.microsoft.com:443 \"GET /search/fuzzy/json?Content-Type=application%2Fjson&subscription-key=6j_USCas00Jqmpj2EFtKe18nLWPylj0gPTOLeBypt9U&api-version=1.0&query=LEADERPRICE+LP+VERDUN+%24%2C+France HTTP/1.1\" 200 6046\n",
      "DEBUG 2019-03-06 14:15:30,539 Starting new HTTPS connection (1): atlas.microsoft.com:443\n"
     ]
    },
    {
     "name": "stdout",
     "output_type": "stream",
     "text": [
      "Web scrapping at : 89.479% which took 392 seconds to run.\n"
     ]
    },
    {
     "name": "stderr",
     "output_type": "stream",
     "text": [
      "DEBUG 2019-03-06 14:15:30,886 https://atlas.microsoft.com:443 \"GET /search/fuzzy/json?Content-Type=application%2Fjson&subscription-key=6j_USCas00Jqmpj2EFtKe18nLWPylj0gPTOLeBypt9U&api-version=1.0&query=LEADERPRICE+LP+BELLEVILLE%2C+France HTTP/1.1\" 200 5752\n",
      "DEBUG 2019-03-06 14:15:30,894 Starting new HTTPS connection (1): atlas.microsoft.com:443\n"
     ]
    },
    {
     "name": "stdout",
     "output_type": "stream",
     "text": [
      "Web scrapping at : 89.572% which took 392 seconds to run.\n"
     ]
    },
    {
     "name": "stderr",
     "output_type": "stream",
     "text": [
      "DEBUG 2019-03-06 14:15:31,292 https://atlas.microsoft.com:443 \"GET /search/fuzzy/json?Content-Type=application%2Fjson&subscription-key=6j_USCas00Jqmpj2EFtKe18nLWPylj0gPTOLeBypt9U&api-version=1.0&query=LEADERPRICE+LP+BLANC+MESNIL+%2F%2F+%40%2C+France HTTP/1.1\" 200 6169\n",
      "DEBUG 2019-03-06 14:15:31,301 Starting new HTTPS connection (1): atlas.microsoft.com:443\n"
     ]
    },
    {
     "name": "stdout",
     "output_type": "stream",
     "text": [
      "Web scrapping at : 89.665% which took 393 seconds to run.\n"
     ]
    },
    {
     "name": "stderr",
     "output_type": "stream",
     "text": [
      "DEBUG 2019-03-06 14:15:31,716 https://atlas.microsoft.com:443 \"GET /search/fuzzy/json?Content-Type=application%2Fjson&subscription-key=6j_USCas00Jqmpj2EFtKe18nLWPylj0gPTOLeBypt9U&api-version=1.0&query=LEADERPRICE+LP+ST+ALBAN%2C+France HTTP/1.1\" 200 6656\n",
      "DEBUG 2019-03-06 14:15:31,725 Starting new HTTPS connection (1): atlas.microsoft.com:443\n"
     ]
    },
    {
     "name": "stdout",
     "output_type": "stream",
     "text": [
      "Web scrapping at : 89.758% which took 393 seconds to run.\n"
     ]
    },
    {
     "name": "stderr",
     "output_type": "stream",
     "text": [
      "DEBUG 2019-03-06 14:15:32,442 https://atlas.microsoft.com:443 \"GET /search/fuzzy/json?Content-Type=application%2Fjson&subscription-key=6j_USCas00Jqmpj2EFtKe18nLWPylj0gPTOLeBypt9U&api-version=1.0&query=LEADERPRICE+LP+ST+PIERRE+DU+MONT+MONTS%2C+France HTTP/1.1\" 200 5156\n",
      "DEBUG 2019-03-06 14:15:32,452 Starting new HTTPS connection (1): atlas.microsoft.com:443\n"
     ]
    },
    {
     "name": "stdout",
     "output_type": "stream",
     "text": [
      "Web scrapping at : 89.851% which took 394 seconds to run.\n"
     ]
    },
    {
     "name": "stderr",
     "output_type": "stream",
     "text": [
      "DEBUG 2019-03-06 14:15:33,199 https://atlas.microsoft.com:443 \"GET /search/fuzzy/json?Content-Type=application%2Fjson&subscription-key=6j_USCas00Jqmpj2EFtKe18nLWPylj0gPTOLeBypt9U&api-version=1.0&query=LEADERPRICE+LP+VIRE+%24%2C+France HTTP/1.1\" 200 5502\n",
      "DEBUG 2019-03-06 14:15:33,208 Starting new HTTPS connection (1): atlas.microsoft.com:443\n"
     ]
    },
    {
     "name": "stdout",
     "output_type": "stream",
     "text": [
      "Web scrapping at : 89.944% which took 395 seconds to run.\n"
     ]
    },
    {
     "name": "stderr",
     "output_type": "stream",
     "text": [
      "DEBUG 2019-03-06 14:15:33,561 https://atlas.microsoft.com:443 \"GET /search/fuzzy/json?Content-Type=application%2Fjson&subscription-key=6j_USCas00Jqmpj2EFtKe18nLWPylj0gPTOLeBypt9U&api-version=1.0&query=LEADERPRICE+LP+MONTMIRAIL+%2F%2F%40%2C+France HTTP/1.1\" 200 6344\n",
      "DEBUG 2019-03-06 14:15:33,570 Starting new HTTPS connection (1): atlas.microsoft.com:443\n"
     ]
    },
    {
     "name": "stdout",
     "output_type": "stream",
     "text": [
      "Web scrapping at : 90.037% which took 395 seconds to run.\n"
     ]
    },
    {
     "name": "stderr",
     "output_type": "stream",
     "text": [
      "DEBUG 2019-03-06 14:15:33,926 https://atlas.microsoft.com:443 \"GET /search/fuzzy/json?Content-Type=application%2Fjson&subscription-key=6j_USCas00Jqmpj2EFtKe18nLWPylj0gPTOLeBypt9U&api-version=1.0&query=LEADERPRICE+LP+ACHERES%2C+France HTTP/1.1\" 200 6366\n",
      "DEBUG 2019-03-06 14:15:33,934 Starting new HTTPS connection (1): atlas.microsoft.com:443\n"
     ]
    },
    {
     "name": "stdout",
     "output_type": "stream",
     "text": [
      "Web scrapping at : 90.13% which took 395 seconds to run.\n"
     ]
    },
    {
     "name": "stderr",
     "output_type": "stream",
     "text": [
      "DEBUG 2019-03-06 14:15:34,665 https://atlas.microsoft.com:443 \"GET /search/fuzzy/json?Content-Type=application%2Fjson&subscription-key=6j_USCas00Jqmpj2EFtKe18nLWPylj0gPTOLeBypt9U&api-version=1.0&query=LEADERPRICE+LP+RUFFEC%2C+France HTTP/1.1\" 200 7022\n",
      "DEBUG 2019-03-06 14:15:34,673 Starting new HTTPS connection (1): atlas.microsoft.com:443\n"
     ]
    },
    {
     "name": "stdout",
     "output_type": "stream",
     "text": [
      "Web scrapping at : 90.223% which took 396 seconds to run.\n"
     ]
    },
    {
     "name": "stderr",
     "output_type": "stream",
     "text": [
      "DEBUG 2019-03-06 14:15:35,341 https://atlas.microsoft.com:443 \"GET /search/fuzzy/json?Content-Type=application%2Fjson&subscription-key=6j_USCas00Jqmpj2EFtKe18nLWPylj0gPTOLeBypt9U&api-version=1.0&query=LEADERPRICE+LPE+SAINT+DENIS+TIMBAUD+ST%2C+France HTTP/1.1\" 200 7052\n",
      "DEBUG 2019-03-06 14:15:35,350 Starting new HTTPS connection (1): atlas.microsoft.com:443\n"
     ]
    },
    {
     "name": "stdout",
     "output_type": "stream",
     "text": [
      "Web scrapping at : 90.317% which took 397 seconds to run.\n"
     ]
    },
    {
     "name": "stderr",
     "output_type": "stream",
     "text": [
      "DEBUG 2019-03-06 14:15:36,004 https://atlas.microsoft.com:443 \"GET /search/fuzzy/json?Content-Type=application%2Fjson&subscription-key=6j_USCas00Jqmpj2EFtKe18nLWPylj0gPTOLeBypt9U&api-version=1.0&query=LEADERPRICE+LP+ST+DENIS+LES+SENS+%40%2C+France HTTP/1.1\" 200 6625\n",
      "DEBUG 2019-03-06 14:15:36,014 Starting new HTTPS connection (1): atlas.microsoft.com:443\n"
     ]
    },
    {
     "name": "stdout",
     "output_type": "stream",
     "text": [
      "Web scrapping at : 90.41% which took 397 seconds to run.\n"
     ]
    },
    {
     "name": "stderr",
     "output_type": "stream",
     "text": [
      "DEBUG 2019-03-06 14:15:36,414 https://atlas.microsoft.com:443 \"GET /search/fuzzy/json?Content-Type=application%2Fjson&subscription-key=6j_USCas00Jqmpj2EFtKe18nLWPylj0gPTOLeBypt9U&api-version=1.0&query=LEADERPRICE+LP+FRANCONVILLE+%40%2C+France HTTP/1.1\" 200 5540\n",
      "DEBUG 2019-03-06 14:15:36,423 Starting new HTTPS connection (1): atlas.microsoft.com:443\n"
     ]
    },
    {
     "name": "stdout",
     "output_type": "stream",
     "text": [
      "Web scrapping at : 90.503% which took 398 seconds to run.\n"
     ]
    },
    {
     "name": "stderr",
     "output_type": "stream",
     "text": [
      "DEBUG 2019-03-06 14:15:36,769 https://atlas.microsoft.com:443 \"GET /search/fuzzy/json?Content-Type=application%2Fjson&subscription-key=6j_USCas00Jqmpj2EFtKe18nLWPylj0gPTOLeBypt9U&api-version=1.0&query=LEADERPRICE+LP+BASSENS%2C+France HTTP/1.1\" 200 5206\n",
      "DEBUG 2019-03-06 14:15:36,778 Starting new HTTPS connection (1): atlas.microsoft.com:443\n"
     ]
    },
    {
     "name": "stdout",
     "output_type": "stream",
     "text": [
      "Web scrapping at : 90.596% which took 398 seconds to run.\n"
     ]
    },
    {
     "name": "stderr",
     "output_type": "stream",
     "text": [
      "DEBUG 2019-03-06 14:15:37,177 https://atlas.microsoft.com:443 \"GET /search/fuzzy/json?Content-Type=application%2Fjson&subscription-key=6j_USCas00Jqmpj2EFtKe18nLWPylj0gPTOLeBypt9U&api-version=1.0&query=LEADERPRICE+LP+BIAS+%24%2C+France HTTP/1.1\" 200 5518\n",
      "DEBUG 2019-03-06 14:15:37,186 Starting new HTTPS connection (1): atlas.microsoft.com:443\n"
     ]
    },
    {
     "name": "stdout",
     "output_type": "stream",
     "text": [
      "Web scrapping at : 90.689% which took 399 seconds to run.\n"
     ]
    },
    {
     "name": "stderr",
     "output_type": "stream",
     "text": [
      "DEBUG 2019-03-06 14:15:37,541 https://atlas.microsoft.com:443 \"GET /search/fuzzy/json?Content-Type=application%2Fjson&subscription-key=6j_USCas00Jqmpj2EFtKe18nLWPylj0gPTOLeBypt9U&api-version=1.0&query=LEADERPRICE+LP+FLEURUS%2C+France HTTP/1.1\" 200 5751\n",
      "DEBUG 2019-03-06 14:15:37,549 Starting new HTTPS connection (1): atlas.microsoft.com:443\n"
     ]
    },
    {
     "name": "stdout",
     "output_type": "stream",
     "text": [
      "Web scrapping at : 90.782% which took 399 seconds to run.\n"
     ]
    },
    {
     "name": "stderr",
     "output_type": "stream",
     "text": [
      "DEBUG 2019-03-06 14:15:37,872 https://atlas.microsoft.com:443 \"GET /search/fuzzy/json?Content-Type=application%2Fjson&subscription-key=6j_USCas00Jqmpj2EFtKe18nLWPylj0gPTOLeBypt9U&api-version=1.0&query=LEADERPRICE+LP+VINEUIL+%40%2C+France HTTP/1.1\" 200 5664\n",
      "DEBUG 2019-03-06 14:15:37,880 Starting new HTTPS connection (1): atlas.microsoft.com:443\n"
     ]
    },
    {
     "name": "stdout",
     "output_type": "stream",
     "text": [
      "Web scrapping at : 90.875% which took 399 seconds to run.\n"
     ]
    },
    {
     "name": "stderr",
     "output_type": "stream",
     "text": [
      "DEBUG 2019-03-06 14:15:38,370 https://atlas.microsoft.com:443 \"GET /search/fuzzy/json?Content-Type=application%2Fjson&subscription-key=6j_USCas00Jqmpj2EFtKe18nLWPylj0gPTOLeBypt9U&api-version=1.0&query=LEADERPRICE+LP+MOULINS+%2F%2FDISTRI+LOIRE%24%2C+France HTTP/1.1\" 200 5416\n",
      "DEBUG 2019-03-06 14:15:38,378 Starting new HTTPS connection (1): atlas.microsoft.com:443\n"
     ]
    },
    {
     "name": "stdout",
     "output_type": "stream",
     "text": [
      "Web scrapping at : 90.968% which took 400 seconds to run.\n"
     ]
    },
    {
     "name": "stderr",
     "output_type": "stream",
     "text": [
      "DEBUG 2019-03-06 14:15:38,732 https://atlas.microsoft.com:443 \"GET /search/fuzzy/json?Content-Type=application%2Fjson&subscription-key=6j_USCas00Jqmpj2EFtKe18nLWPylj0gPTOLeBypt9U&api-version=1.0&query=LEADERPRICE+LPE+FRESNES%2C+France HTTP/1.1\" 200 6793\n",
      "DEBUG 2019-03-06 14:15:38,741 Starting new HTTPS connection (1): atlas.microsoft.com:443\n"
     ]
    },
    {
     "name": "stdout",
     "output_type": "stream",
     "text": [
      "Web scrapping at : 91.061% which took 400 seconds to run.\n"
     ]
    },
    {
     "name": "stderr",
     "output_type": "stream",
     "text": [
      "DEBUG 2019-03-06 14:15:39,802 https://atlas.microsoft.com:443 \"GET /search/fuzzy/json?Content-Type=application%2Fjson&subscription-key=6j_USCas00Jqmpj2EFtKe18nLWPylj0gPTOLeBypt9U&api-version=1.0&query=LEADERPRICE+LP%2F%2FCOSNES%2FLOIRE%24+COSNE+SUR+LOIRE%2C+France HTTP/1.1\" 200 8433\n",
      "DEBUG 2019-03-06 14:15:39,812 Starting new HTTPS connection (1): atlas.microsoft.com:443\n"
     ]
    },
    {
     "name": "stdout",
     "output_type": "stream",
     "text": [
      "Web scrapping at : 91.155% which took 401 seconds to run.\n"
     ]
    },
    {
     "name": "stderr",
     "output_type": "stream",
     "text": [
      "DEBUG 2019-03-06 14:15:40,190 https://atlas.microsoft.com:443 \"GET /search/fuzzy/json?Content-Type=application%2Fjson&subscription-key=6j_USCas00Jqmpj2EFtKe18nLWPylj0gPTOLeBypt9U&api-version=1.0&query=LEADERPRICE+LP+HERSTAL%2C+France HTTP/1.1\" 200 8082\n",
      "DEBUG 2019-03-06 14:15:40,199 Starting new HTTPS connection (1): atlas.microsoft.com:443\n"
     ]
    },
    {
     "name": "stdout",
     "output_type": "stream",
     "text": [
      "Web scrapping at : 91.248% which took 402 seconds to run.\n"
     ]
    },
    {
     "name": "stderr",
     "output_type": "stream",
     "text": [
      "DEBUG 2019-03-06 14:15:40,641 https://atlas.microsoft.com:443 \"GET /search/fuzzy/json?Content-Type=application%2Fjson&subscription-key=6j_USCas00Jqmpj2EFtKe18nLWPylj0gPTOLeBypt9U&api-version=1.0&query=LEADERPRICE+LP+FONTAINE%2C+France HTTP/1.1\" 200 5410\n",
      "DEBUG 2019-03-06 14:15:40,649 Starting new HTTPS connection (1): atlas.microsoft.com:443\n"
     ]
    },
    {
     "name": "stdout",
     "output_type": "stream",
     "text": [
      "Web scrapping at : 91.341% which took 402 seconds to run.\n"
     ]
    },
    {
     "name": "stderr",
     "output_type": "stream",
     "text": [
      "DEBUG 2019-03-06 14:15:41,070 https://atlas.microsoft.com:443 \"GET /search/fuzzy/json?Content-Type=application%2Fjson&subscription-key=6j_USCas00Jqmpj2EFtKe18nLWPylj0gPTOLeBypt9U&api-version=1.0&query=LEADERPRICE+LP+FLERS+%24%2C+France HTTP/1.1\" 200 5989\n",
      "DEBUG 2019-03-06 14:15:41,078 Starting new HTTPS connection (1): atlas.microsoft.com:443\n"
     ]
    },
    {
     "name": "stdout",
     "output_type": "stream",
     "text": [
      "Web scrapping at : 91.434% which took 403 seconds to run.\n"
     ]
    },
    {
     "name": "stderr",
     "output_type": "stream",
     "text": [
      "DEBUG 2019-03-06 14:15:41,460 https://atlas.microsoft.com:443 \"GET /search/fuzzy/json?Content-Type=application%2Fjson&subscription-key=6j_USCas00Jqmpj2EFtKe18nLWPylj0gPTOLeBypt9U&api-version=1.0&query=LEADERPRICE+LP+VOUILLE%2C+France HTTP/1.1\" 200 5714\n",
      "DEBUG 2019-03-06 14:15:41,469 Starting new HTTPS connection (1): atlas.microsoft.com:443\n"
     ]
    },
    {
     "name": "stdout",
     "output_type": "stream",
     "text": [
      "Web scrapping at : 91.527% which took 403 seconds to run.\n"
     ]
    },
    {
     "name": "stderr",
     "output_type": "stream",
     "text": [
      "DEBUG 2019-03-06 14:15:41,815 https://atlas.microsoft.com:443 \"GET /search/fuzzy/json?Content-Type=application%2Fjson&subscription-key=6j_USCas00Jqmpj2EFtKe18nLWPylj0gPTOLeBypt9U&api-version=1.0&query=LEADERPRICE+LP+ST+NAZAIRE%2C+France HTTP/1.1\" 200 7330\n",
      "DEBUG 2019-03-06 14:15:41,823 Starting new HTTPS connection (1): atlas.microsoft.com:443\n"
     ]
    },
    {
     "name": "stdout",
     "output_type": "stream",
     "text": [
      "Web scrapping at : 91.62% which took 403 seconds to run.\n"
     ]
    },
    {
     "name": "stderr",
     "output_type": "stream",
     "text": [
      "DEBUG 2019-03-06 14:15:42,182 https://atlas.microsoft.com:443 \"GET /search/fuzzy/json?Content-Type=application%2Fjson&subscription-key=6j_USCas00Jqmpj2EFtKe18nLWPylj0gPTOLeBypt9U&api-version=1.0&query=LEADERPRICE+LP+COURCELLES%2C+France HTTP/1.1\" 200 5374\n",
      "DEBUG 2019-03-06 14:15:42,191 Starting new HTTPS connection (1): atlas.microsoft.com:443\n"
     ]
    },
    {
     "name": "stdout",
     "output_type": "stream",
     "text": [
      "Web scrapping at : 91.713% which took 404 seconds to run.\n"
     ]
    },
    {
     "name": "stderr",
     "output_type": "stream",
     "text": [
      "DEBUG 2019-03-06 14:15:42,502 https://atlas.microsoft.com:443 \"GET /search/fuzzy/json?Content-Type=application%2Fjson&subscription-key=6j_USCas00Jqmpj2EFtKe18nLWPylj0gPTOLeBypt9U&api-version=1.0&query=LEADERPRICE+LP+GRACE+HOLLOGNE%2C+France HTTP/1.1\" 200 7983\n",
      "DEBUG 2019-03-06 14:15:42,510 Starting new HTTPS connection (1): atlas.microsoft.com:443\n"
     ]
    },
    {
     "name": "stdout",
     "output_type": "stream",
     "text": [
      "Web scrapping at : 91.806% which took 404 seconds to run.\n"
     ]
    },
    {
     "name": "stderr",
     "output_type": "stream",
     "text": [
      "DEBUG 2019-03-06 14:15:42,892 https://atlas.microsoft.com:443 \"GET /search/fuzzy/json?Content-Type=application%2Fjson&subscription-key=6j_USCas00Jqmpj2EFtKe18nLWPylj0gPTOLeBypt9U&api-version=1.0&query=LEADERPRICE+LP+JANVILLE%2C+France HTTP/1.1\" 200 6671\n",
      "DEBUG 2019-03-06 14:15:42,900 Starting new HTTPS connection (1): atlas.microsoft.com:443\n"
     ]
    },
    {
     "name": "stdout",
     "output_type": "stream",
     "text": [
      "Web scrapping at : 91.899% which took 404 seconds to run.\n"
     ]
    },
    {
     "name": "stderr",
     "output_type": "stream",
     "text": [
      "DEBUG 2019-03-06 14:15:43,251 https://atlas.microsoft.com:443 \"GET /search/fuzzy/json?Content-Type=application%2Fjson&subscription-key=6j_USCas00Jqmpj2EFtKe18nLWPylj0gPTOLeBypt9U&api-version=1.0&query=LEADERPRICE+LP+HORNU+%2F%2F+BELGIQUE%2C+France HTTP/1.1\" 200 7876\n",
      "DEBUG 2019-03-06 14:15:43,260 Starting new HTTPS connection (1): atlas.microsoft.com:443\n"
     ]
    },
    {
     "name": "stdout",
     "output_type": "stream",
     "text": [
      "Web scrapping at : 91.993% which took 405 seconds to run.\n"
     ]
    },
    {
     "name": "stderr",
     "output_type": "stream",
     "text": [
      "DEBUG 2019-03-06 14:15:43,701 https://atlas.microsoft.com:443 \"GET /search/fuzzy/json?Content-Type=application%2Fjson&subscription-key=6j_USCas00Jqmpj2EFtKe18nLWPylj0gPTOLeBypt9U&api-version=1.0&query=LEADERPRICE+LP+BRETEUIL+SUR+ITON%2C+France HTTP/1.1\" 200 9279\n",
      "DEBUG 2019-03-06 14:15:43,710 Starting new HTTPS connection (1): atlas.microsoft.com:443\n"
     ]
    },
    {
     "name": "stdout",
     "output_type": "stream",
     "text": [
      "Web scrapping at : 92.086% which took 405 seconds to run.\n"
     ]
    },
    {
     "name": "stderr",
     "output_type": "stream",
     "text": [
      "DEBUG 2019-03-06 14:15:44,214 https://atlas.microsoft.com:443 \"GET /search/fuzzy/json?Content-Type=application%2Fjson&subscription-key=6j_USCas00Jqmpj2EFtKe18nLWPylj0gPTOLeBypt9U&api-version=1.0&query=LEADERPRICE+LP+MALMORT+MALEMORTOISE+DISTR+MALEMORT%2C+France HTTP/1.1\" 200 6774\n",
      "DEBUG 2019-03-06 14:15:44,223 Starting new HTTPS connection (1): atlas.microsoft.com:443\n"
     ]
    },
    {
     "name": "stdout",
     "output_type": "stream",
     "text": [
      "Web scrapping at : 92.179% which took 406 seconds to run.\n"
     ]
    },
    {
     "name": "stderr",
     "output_type": "stream",
     "text": [
      "DEBUG 2019-03-06 14:15:45,662 https://atlas.microsoft.com:443 \"GET /search/fuzzy/json?Content-Type=application%2Fjson&subscription-key=6j_USCas00Jqmpj2EFtKe18nLWPylj0gPTOLeBypt9U&api-version=1.0&query=LEADERPRICE+LP+L%27ARGENTIERE+L+ARGENTIERE%2C+France HTTP/1.1\" 200 6397\n",
      "DEBUG 2019-03-06 14:15:45,671 Starting new HTTPS connection (1): atlas.microsoft.com:443\n"
     ]
    },
    {
     "name": "stdout",
     "output_type": "stream",
     "text": [
      "Web scrapping at : 92.272% which took 407 seconds to run.\n"
     ]
    },
    {
     "name": "stderr",
     "output_type": "stream",
     "text": [
      "DEBUG 2019-03-06 14:15:46,130 https://atlas.microsoft.com:443 \"GET /search/fuzzy/json?Content-Type=application%2Fjson&subscription-key=6j_USCas00Jqmpj2EFtKe18nLWPylj0gPTOLeBypt9U&api-version=1.0&query=LEADERPRICE+LPE+CHATILLON+ST+EXUPERY%2C+France HTTP/1.1\" 200 6120\n",
      "DEBUG 2019-03-06 14:15:46,139 Starting new HTTPS connection (1): atlas.microsoft.com:443\n"
     ]
    },
    {
     "name": "stdout",
     "output_type": "stream",
     "text": [
      "Web scrapping at : 92.365% which took 408 seconds to run.\n"
     ]
    },
    {
     "name": "stderr",
     "output_type": "stream",
     "text": [
      "DEBUG 2019-03-06 14:15:46,585 https://atlas.microsoft.com:443 \"GET /search/fuzzy/json?Content-Type=application%2Fjson&subscription-key=6j_USCas00Jqmpj2EFtKe18nLWPylj0gPTOLeBypt9U&api-version=1.0&query=LEADERPRICE+LP+DADB+BELGIQUE%2F%2FCHARLEROI+COUILLET+CHARLEROI%2C+France HTTP/1.1\" 200 6607\n",
      "DEBUG 2019-03-06 14:15:46,593 Starting new HTTPS connection (1): atlas.microsoft.com:443\n"
     ]
    },
    {
     "name": "stdout",
     "output_type": "stream",
     "text": [
      "Web scrapping at : 92.458% which took 408 seconds to run.\n"
     ]
    },
    {
     "name": "stderr",
     "output_type": "stream",
     "text": [
      "DEBUG 2019-03-06 14:15:47,256 https://atlas.microsoft.com:443 \"GET /search/fuzzy/json?Content-Type=application%2Fjson&subscription-key=6j_USCas00Jqmpj2EFtKe18nLWPylj0gPTOLeBypt9U&api-version=1.0&query=LEADERPRICE+LPE+SAINT+OUEN+MICHELET+ST%2C+France HTTP/1.1\" 200 8037\n",
      "DEBUG 2019-03-06 14:15:47,265 Starting new HTTPS connection (1): atlas.microsoft.com:443\n"
     ]
    },
    {
     "name": "stdout",
     "output_type": "stream",
     "text": [
      "Web scrapping at : 92.551% which took 409 seconds to run.\n"
     ]
    },
    {
     "name": "stderr",
     "output_type": "stream",
     "text": [
      "DEBUG 2019-03-06 14:15:47,713 https://atlas.microsoft.com:443 \"GET /search/fuzzy/json?Content-Type=application%2Fjson&subscription-key=6j_USCas00Jqmpj2EFtKe18nLWPylj0gPTOLeBypt9U&api-version=1.0&query=LEADERPRICE+LP+MERIGNAC+AV.+LA+LIBERATION%2C+France HTTP/1.1\" 200 6997\n",
      "DEBUG 2019-03-06 14:15:47,722 Starting new HTTPS connection (1): atlas.microsoft.com:443\n"
     ]
    },
    {
     "name": "stdout",
     "output_type": "stream",
     "text": [
      "Web scrapping at : 92.644% which took 409 seconds to run.\n"
     ]
    },
    {
     "name": "stderr",
     "output_type": "stream",
     "text": [
      "DEBUG 2019-03-06 14:15:48,111 https://atlas.microsoft.com:443 \"GET /search/fuzzy/json?Content-Type=application%2Fjson&subscription-key=6j_USCas00Jqmpj2EFtKe18nLWPylj0gPTOLeBypt9U&api-version=1.0&query=LEADERPRICE+LP%2FFPX+BAGNEUX%2C+France HTTP/1.1\" 200 5441\n",
      "DEBUG 2019-03-06 14:15:48,120 Starting new HTTPS connection (1): atlas.microsoft.com:443\n"
     ]
    },
    {
     "name": "stdout",
     "output_type": "stream",
     "text": [
      "Web scrapping at : 92.737% which took 410 seconds to run.\n"
     ]
    },
    {
     "name": "stderr",
     "output_type": "stream",
     "text": [
      "DEBUG 2019-03-06 14:15:48,568 https://atlas.microsoft.com:443 \"GET /search/fuzzy/json?Content-Type=application%2Fjson&subscription-key=6j_USCas00Jqmpj2EFtKe18nLWPylj0gPTOLeBypt9U&api-version=1.0&query=LEADERPRICE+LP+FALAISE+%24%2C+France HTTP/1.1\" 200 7290\n",
      "DEBUG 2019-03-06 14:15:48,577 Starting new HTTPS connection (1): atlas.microsoft.com:443\n"
     ]
    },
    {
     "name": "stdout",
     "output_type": "stream",
     "text": [
      "Web scrapping at : 92.831% which took 410 seconds to run.\n"
     ]
    },
    {
     "name": "stderr",
     "output_type": "stream",
     "text": [
      "DEBUG 2019-03-06 14:15:49,148 https://atlas.microsoft.com:443 \"GET /search/fuzzy/json?Content-Type=application%2Fjson&subscription-key=6j_USCas00Jqmpj2EFtKe18nLWPylj0gPTOLeBypt9U&api-version=1.0&query=LEADERPRICE+LP+ST+DENIS+LES+SENS%2C+France HTTP/1.1\" 200 6625\n",
      "DEBUG 2019-03-06 14:15:49,157 Starting new HTTPS connection (1): atlas.microsoft.com:443\n"
     ]
    },
    {
     "name": "stdout",
     "output_type": "stream",
     "text": [
      "Web scrapping at : 92.924% which took 411 seconds to run.\n"
     ]
    },
    {
     "name": "stderr",
     "output_type": "stream",
     "text": [
      "DEBUG 2019-03-06 14:15:49,551 https://atlas.microsoft.com:443 \"GET /search/fuzzy/json?Content-Type=application%2Fjson&subscription-key=6j_USCas00Jqmpj2EFtKe18nLWPylj0gPTOLeBypt9U&api-version=1.0&query=LEADERPRICE+LPE+MONTREUIL+COUTURIER%2C+France HTTP/1.1\" 200 8771\n",
      "DEBUG 2019-03-06 14:15:49,560 Starting new HTTPS connection (1): atlas.microsoft.com:443\n"
     ]
    },
    {
     "name": "stdout",
     "output_type": "stream",
     "text": [
      "Web scrapping at : 93.017% which took 411 seconds to run.\n"
     ]
    },
    {
     "name": "stderr",
     "output_type": "stream",
     "text": [
      "DEBUG 2019-03-06 14:15:50,105 https://atlas.microsoft.com:443 \"GET /search/fuzzy/json?Content-Type=application%2Fjson&subscription-key=6j_USCas00Jqmpj2EFtKe18nLWPylj0gPTOLeBypt9U&api-version=1.0&query=LEADERPRICE+LPE+LA+CHAPELLE+GAUTHIER%2C+France HTTP/1.1\" 200 4477\n",
      "DEBUG 2019-03-06 14:15:50,115 Starting new HTTPS connection (1): atlas.microsoft.com:443\n"
     ]
    },
    {
     "name": "stdout",
     "output_type": "stream",
     "text": [
      "Web scrapping at : 93.11% which took 412 seconds to run.\n"
     ]
    },
    {
     "name": "stderr",
     "output_type": "stream",
     "text": [
      "DEBUG 2019-03-06 14:15:50,541 https://atlas.microsoft.com:443 \"GET /search/fuzzy/json?Content-Type=application%2Fjson&subscription-key=6j_USCas00Jqmpj2EFtKe18nLWPylj0gPTOLeBypt9U&api-version=1.0&query=LEADERPRICE+FP+NIDIS+NISSAN+LEZ+ENSURINE%2C+France HTTP/1.1\" 200 1121\n",
      "DEBUG 2019-03-06 14:15:50,549 Starting new HTTPS connection (1): atlas.microsoft.com:443\n"
     ]
    },
    {
     "name": "stdout",
     "output_type": "stream",
     "text": [
      "Web scrapping at : 93.203% which took 412 seconds to run.\n"
     ]
    },
    {
     "name": "stderr",
     "output_type": "stream",
     "text": [
      "DEBUG 2019-03-06 14:15:50,984 https://atlas.microsoft.com:443 \"GET /search/fuzzy/json?Content-Type=application%2Fjson&subscription-key=6j_USCas00Jqmpj2EFtKe18nLWPylj0gPTOLeBypt9U&api-version=1.0&query=LEADERPRICE+CYDIS+ST+CYPRIEN%2C+France HTTP/1.1\" 200 5270\n",
      "DEBUG 2019-03-06 14:15:50,993 Starting new HTTPS connection (1): atlas.microsoft.com:443\n"
     ]
    },
    {
     "name": "stdout",
     "output_type": "stream",
     "text": [
      "Web scrapping at : 93.296% which took 412 seconds to run.\n"
     ]
    },
    {
     "name": "stderr",
     "output_type": "stream",
     "text": [
      "DEBUG 2019-03-06 14:15:51,396 https://atlas.microsoft.com:443 \"GET /search/fuzzy/json?Content-Type=application%2Fjson&subscription-key=6j_USCas00Jqmpj2EFtKe18nLWPylj0gPTOLeBypt9U&api-version=1.0&query=LEADERPRICE+Fx+DISTRIVAL+%2F+VALENCE%2C+France HTTP/1.1\" 200 3932\n",
      "DEBUG 2019-03-06 14:15:51,405 Starting new HTTPS connection (1): atlas.microsoft.com:443\n"
     ]
    },
    {
     "name": "stdout",
     "output_type": "stream",
     "text": [
      "Web scrapping at : 93.389% which took 413 seconds to run.\n"
     ]
    },
    {
     "name": "stderr",
     "output_type": "stream",
     "text": [
      "DEBUG 2019-03-06 14:15:52,738 https://atlas.microsoft.com:443 \"GET /search/fuzzy/json?Content-Type=application%2Fjson&subscription-key=6j_USCas00Jqmpj2EFtKe18nLWPylj0gPTOLeBypt9U&api-version=1.0&query=LEADERPRICE+B%26B+DISTRIBUTION+COTE+D%27IVOIRE+ABIDJAN%2C+France HTTP/1.1\" 200 9139\n",
      "DEBUG 2019-03-06 14:15:52,747 Starting new HTTPS connection (1): atlas.microsoft.com:443\n"
     ]
    },
    {
     "name": "stdout",
     "output_type": "stream",
     "text": [
      "Web scrapping at : 93.482% which took 414 seconds to run.\n"
     ]
    },
    {
     "name": "stderr",
     "output_type": "stream",
     "text": [
      "DEBUG 2019-03-06 14:15:53,094 https://atlas.microsoft.com:443 \"GET /search/fuzzy/json?Content-Type=application%2Fjson&subscription-key=6j_USCas00Jqmpj2EFtKe18nLWPylj0gPTOLeBypt9U&api-version=1.0&query=LEADERPRICE+LP+FLERON+DISCOUNT%2C+France HTTP/1.1\" 200 5919\n",
      "DEBUG 2019-03-06 14:15:53,103 Starting new HTTPS connection (1): atlas.microsoft.com:443\n"
     ]
    },
    {
     "name": "stdout",
     "output_type": "stream",
     "text": [
      "Web scrapping at : 93.575% which took 415 seconds to run.\n"
     ]
    },
    {
     "name": "stderr",
     "output_type": "stream",
     "text": [
      "DEBUG 2019-03-06 14:15:53,611 https://atlas.microsoft.com:443 \"GET /search/fuzzy/json?Content-Type=application%2Fjson&subscription-key=6j_USCas00Jqmpj2EFtKe18nLWPylj0gPTOLeBypt9U&api-version=1.0&query=LEADERPRICE+BEN+DAAMAR+IMAD+FRANCHEVILLE%2C+France HTTP/1.1\" 200 9191\n",
      "DEBUG 2019-03-06 14:15:53,620 Starting new HTTPS connection (1): atlas.microsoft.com:443\n"
     ]
    },
    {
     "name": "stdout",
     "output_type": "stream",
     "text": [
      "Web scrapping at : 93.669% which took 415 seconds to run.\n"
     ]
    },
    {
     "name": "stderr",
     "output_type": "stream",
     "text": [
      "DEBUG 2019-03-06 14:15:54,441 https://atlas.microsoft.com:443 \"GET /search/fuzzy/json?Content-Type=application%2Fjson&subscription-key=6j_USCas00Jqmpj2EFtKe18nLWPylj0gPTOLeBypt9U&api-version=1.0&query=LEADERPRICE+SENTHURAN+VILLEN+SUR+GEORGES%2C+France HTTP/1.1\" 200 8860\n",
      "DEBUG 2019-03-06 14:15:54,450 Starting new HTTPS connection (1): atlas.microsoft.com:443\n"
     ]
    },
    {
     "name": "stdout",
     "output_type": "stream",
     "text": [
      "Web scrapping at : 93.762% which took 416 seconds to run.\n"
     ]
    },
    {
     "name": "stderr",
     "output_type": "stream",
     "text": [
      "DEBUG 2019-03-06 14:15:54,869 https://atlas.microsoft.com:443 \"GET /search/fuzzy/json?Content-Type=application%2Fjson&subscription-key=6j_USCas00Jqmpj2EFtKe18nLWPylj0gPTOLeBypt9U&api-version=1.0&query=LEADERPRICE+DISTRIALESIA+ST+MAUR%2C+France HTTP/1.1\" 200 6276\n",
      "DEBUG 2019-03-06 14:15:54,877 Starting new HTTPS connection (1): atlas.microsoft.com:443\n"
     ]
    },
    {
     "name": "stdout",
     "output_type": "stream",
     "text": [
      "Web scrapping at : 93.855% which took 416 seconds to run.\n"
     ]
    },
    {
     "name": "stderr",
     "output_type": "stream",
     "text": [
      "DEBUG 2019-03-06 14:15:55,298 https://atlas.microsoft.com:443 \"GET /search/fuzzy/json?Content-Type=application%2Fjson&subscription-key=6j_USCas00Jqmpj2EFtKe18nLWPylj0gPTOLeBypt9U&api-version=1.0&query=LEADERPRICE+MS+DISTRIBUTION+BLANCMESNIL%2C+France HTTP/1.1\" 200 9128\n",
      "DEBUG 2019-03-06 14:15:55,307 Starting new HTTPS connection (1): atlas.microsoft.com:443\n"
     ]
    },
    {
     "name": "stdout",
     "output_type": "stream",
     "text": [
      "Web scrapping at : 93.948% which took 417 seconds to run.\n"
     ]
    },
    {
     "name": "stderr",
     "output_type": "stream",
     "text": [
      "DEBUG 2019-03-06 14:15:55,809 https://atlas.microsoft.com:443 \"GET /search/fuzzy/json?Content-Type=application%2Fjson&subscription-key=6j_USCas00Jqmpj2EFtKe18nLWPylj0gPTOLeBypt9U&api-version=1.0&query=LEADERPRICE+DARCY+DISTRIBUTION+BOIS+D+ARCY%2C+France HTTP/1.1\" 200 5363\n",
      "DEBUG 2019-03-06 14:15:55,819 Starting new HTTPS connection (1): atlas.microsoft.com:443\n"
     ]
    },
    {
     "name": "stdout",
     "output_type": "stream",
     "text": [
      "Web scrapping at : 94.041% which took 417 seconds to run.\n"
     ]
    },
    {
     "name": "stderr",
     "output_type": "stream",
     "text": [
      "DEBUG 2019-03-06 14:15:56,287 https://atlas.microsoft.com:443 \"GET /search/fuzzy/json?Content-Type=application%2Fjson&subscription-key=6j_USCas00Jqmpj2EFtKe18nLWPylj0gPTOLeBypt9U&api-version=1.0&query=LEADERPRICE+FPX+LEADER-MONTREUIL+MONTREUIL%2C+France HTTP/1.1\" 200 8419\n",
      "DEBUG 2019-03-06 14:15:56,297 Starting new HTTPS connection (1): atlas.microsoft.com:443\n"
     ]
    },
    {
     "name": "stdout",
     "output_type": "stream",
     "text": [
      "Web scrapping at : 94.134% which took 418 seconds to run.\n"
     ]
    },
    {
     "name": "stderr",
     "output_type": "stream",
     "text": [
      "DEBUG 2019-03-06 14:15:56,952 https://atlas.microsoft.com:443 \"GET /search/fuzzy/json?Content-Type=application%2Fjson&subscription-key=6j_USCas00Jqmpj2EFtKe18nLWPylj0gPTOLeBypt9U&api-version=1.0&query=LEADERPRICE+CHAMPIDIS+CHAMPIGNY%2C+France HTTP/1.1\" 200 6944\n",
      "DEBUG 2019-03-06 14:15:56,961 Starting new HTTPS connection (1): atlas.microsoft.com:443\n"
     ]
    },
    {
     "name": "stdout",
     "output_type": "stream",
     "text": [
      "Web scrapping at : 94.227% which took 418 seconds to run.\n"
     ]
    },
    {
     "name": "stderr",
     "output_type": "stream",
     "text": [
      "DEBUG 2019-03-06 14:15:57,397 https://atlas.microsoft.com:443 \"GET /search/fuzzy/json?Content-Type=application%2Fjson&subscription-key=6j_USCas00Jqmpj2EFtKe18nLWPylj0gPTOLeBypt9U&api-version=1.0&query=LEADERPRICE+FRANVALE+VALENCE%2C+France HTTP/1.1\" 200 7731\n",
      "DEBUG 2019-03-06 14:15:57,406 Starting new HTTPS connection (1): atlas.microsoft.com:443\n"
     ]
    },
    {
     "name": "stdout",
     "output_type": "stream",
     "text": [
      "Web scrapping at : 94.32% which took 419 seconds to run.\n"
     ]
    },
    {
     "name": "stderr",
     "output_type": "stream",
     "text": [
      "DEBUG 2019-03-06 14:15:57,849 https://atlas.microsoft.com:443 \"GET /search/fuzzy/json?Content-Type=application%2Fjson&subscription-key=6j_USCas00Jqmpj2EFtKe18nLWPylj0gPTOLeBypt9U&api-version=1.0&query=LEADERPRICE+MEUNIER+DISTR+MONTREUIL%2C+France HTTP/1.1\" 200 7554\n",
      "DEBUG 2019-03-06 14:15:57,858 Starting new HTTPS connection (1): atlas.microsoft.com:443\n"
     ]
    },
    {
     "name": "stdout",
     "output_type": "stream",
     "text": [
      "Web scrapping at : 94.413% which took 419 seconds to run.\n"
     ]
    },
    {
     "name": "stderr",
     "output_type": "stream",
     "text": [
      "DEBUG 2019-03-06 14:15:58,268 https://atlas.microsoft.com:443 \"GET /search/fuzzy/json?Content-Type=application%2Fjson&subscription-key=6j_USCas00Jqmpj2EFtKe18nLWPylj0gPTOLeBypt9U&api-version=1.0&query=LEADERPRICE+AGRIDIS+MASSY%2C+France HTTP/1.1\" 200 6911\n",
      "DEBUG 2019-03-06 14:15:58,277 Starting new HTTPS connection (1): atlas.microsoft.com:443\n"
     ]
    },
    {
     "name": "stdout",
     "output_type": "stream",
     "text": [
      "Web scrapping at : 94.507% which took 420 seconds to run.\n"
     ]
    },
    {
     "name": "stderr",
     "output_type": "stream",
     "text": [
      "DEBUG 2019-03-06 14:15:58,740 https://atlas.microsoft.com:443 \"GET /search/fuzzy/json?Content-Type=application%2Fjson&subscription-key=6j_USCas00Jqmpj2EFtKe18nLWPylj0gPTOLeBypt9U&api-version=1.0&query=LEADERPRICE+BRADIS+CONFLANS+SUR+H%2C+France HTTP/1.1\" 200 6175\n",
      "DEBUG 2019-03-06 14:15:58,748 Starting new HTTPS connection (1): atlas.microsoft.com:443\n"
     ]
    },
    {
     "name": "stdout",
     "output_type": "stream",
     "text": [
      "Web scrapping at : 94.6% which took 420 seconds to run.\n"
     ]
    },
    {
     "name": "stderr",
     "output_type": "stream",
     "text": [
      "DEBUG 2019-03-06 14:15:59,337 https://atlas.microsoft.com:443 \"GET /search/fuzzy/json?Content-Type=application%2Fjson&subscription-key=6j_USCas00Jqmpj2EFtKe18nLWPylj0gPTOLeBypt9U&api-version=1.0&query=LEADERPRICE+ARCHIVES+DISTRIBUTION+ST+DENIS%2C+France HTTP/1.1\" 200 9439\n",
      "DEBUG 2019-03-06 14:15:59,347 Starting new HTTPS connection (1): atlas.microsoft.com:443\n"
     ]
    },
    {
     "name": "stdout",
     "output_type": "stream",
     "text": [
      "Web scrapping at : 94.693% which took 421 seconds to run.\n"
     ]
    },
    {
     "name": "stderr",
     "output_type": "stream",
     "text": [
      "DEBUG 2019-03-06 14:15:59,924 https://atlas.microsoft.com:443 \"GET /search/fuzzy/json?Content-Type=application%2Fjson&subscription-key=6j_USCas00Jqmpj2EFtKe18nLWPylj0gPTOLeBypt9U&api-version=1.0&query=LEADERPRICE+S+P+F+MONTREUIL%2C+France HTTP/1.1\" 200 8312\n",
      "DEBUG 2019-03-06 14:15:59,933 Starting new HTTPS connection (1): atlas.microsoft.com:443\n"
     ]
    },
    {
     "name": "stdout",
     "output_type": "stream",
     "text": [
      "Web scrapping at : 94.786% which took 421 seconds to run.\n"
     ]
    },
    {
     "name": "stderr",
     "output_type": "stream",
     "text": [
      "DEBUG 2019-03-06 14:16:00,522 https://atlas.microsoft.com:443 \"GET /search/fuzzy/json?Content-Type=application%2Fjson&subscription-key=6j_USCas00Jqmpj2EFtKe18nLWPylj0gPTOLeBypt9U&api-version=1.0&query=LEADERPRICE+PERIDIS+ST+DENIS%2C+France HTTP/1.1\" 200 9849\n",
      "DEBUG 2019-03-06 14:16:00,531 Starting new HTTPS connection (1): atlas.microsoft.com:443\n"
     ]
    },
    {
     "name": "stdout",
     "output_type": "stream",
     "text": [
      "Web scrapping at : 94.879% which took 422 seconds to run.\n"
     ]
    },
    {
     "name": "stderr",
     "output_type": "stream",
     "text": [
      "DEBUG 2019-03-06 14:16:00,919 https://atlas.microsoft.com:443 \"GET /search/fuzzy/json?Content-Type=application%2Fjson&subscription-key=6j_USCas00Jqmpj2EFtKe18nLWPylj0gPTOLeBypt9U&api-version=1.0&query=LEADERPRICE+OLMANO+ST+MAURICE%2C+France HTTP/1.1\" 200 6641\n",
      "DEBUG 2019-03-06 14:16:00,928 Starting new HTTPS connection (1): atlas.microsoft.com:443\n"
     ]
    },
    {
     "name": "stdout",
     "output_type": "stream",
     "text": [
      "Web scrapping at : 94.972% which took 422 seconds to run.\n"
     ]
    },
    {
     "name": "stderr",
     "output_type": "stream",
     "text": [
      "DEBUG 2019-03-06 14:16:01,431 https://atlas.microsoft.com:443 \"GET /search/fuzzy/json?Content-Type=application%2Fjson&subscription-key=6j_USCas00Jqmpj2EFtKe18nLWPylj0gPTOLeBypt9U&api-version=1.0&query=LEADERPRICE+SA+OLIVE+ET+FILS+NEUILLY+SOUS%2C+France HTTP/1.1\" 200 8731\n",
      "DEBUG 2019-03-06 14:16:01,440 Starting new HTTPS connection (1): atlas.microsoft.com:443\n"
     ]
    },
    {
     "name": "stdout",
     "output_type": "stream",
     "text": [
      "Web scrapping at : 95.065% which took 423 seconds to run.\n"
     ]
    },
    {
     "name": "stderr",
     "output_type": "stream",
     "text": [
      "DEBUG 2019-03-06 14:16:01,816 https://atlas.microsoft.com:443 \"GET /search/fuzzy/json?Content-Type=application%2Fjson&subscription-key=6j_USCas00Jqmpj2EFtKe18nLWPylj0gPTOLeBypt9U&api-version=1.0&query=LEADERPRICE+CARDIS+CARRIERESOUS%2C+France HTTP/1.1\" 200 7437\n",
      "DEBUG 2019-03-06 14:16:01,824 Starting new HTTPS connection (1): atlas.microsoft.com:443\n"
     ]
    },
    {
     "name": "stdout",
     "output_type": "stream",
     "text": [
      "Web scrapping at : 95.158% which took 423 seconds to run.\n"
     ]
    },
    {
     "name": "stderr",
     "output_type": "stream",
     "text": [
      "DEBUG 2019-03-06 14:16:02,239 https://atlas.microsoft.com:443 \"GET /search/fuzzy/json?Content-Type=application%2Fjson&subscription-key=6j_USCas00Jqmpj2EFtKe18nLWPylj0gPTOLeBypt9U&api-version=1.0&query=LEADERPRICE+COCCI+MARKET+BAILLY%2C+France HTTP/1.1\" 200 9335\n",
      "DEBUG 2019-03-06 14:16:02,247 Starting new HTTPS connection (1): atlas.microsoft.com:443\n"
     ]
    },
    {
     "name": "stdout",
     "output_type": "stream",
     "text": [
      "Web scrapping at : 95.251% which took 424 seconds to run.\n"
     ]
    },
    {
     "name": "stderr",
     "output_type": "stream",
     "text": [
      "DEBUG 2019-03-06 14:16:02,777 https://atlas.microsoft.com:443 \"GET /search/fuzzy/json?Content-Type=application%2Fjson&subscription-key=6j_USCas00Jqmpj2EFtKe18nLWPylj0gPTOLeBypt9U&api-version=1.0&query=LEADERPRICE+ANISS+ST+DENIS%2C+France HTTP/1.1\" 200 9863\n",
      "DEBUG 2019-03-06 14:16:02,785 Starting new HTTPS connection (1): atlas.microsoft.com:443\n"
     ]
    },
    {
     "name": "stdout",
     "output_type": "stream",
     "text": [
      "Web scrapping at : 95.345% which took 424 seconds to run.\n"
     ]
    },
    {
     "name": "stderr",
     "output_type": "stream",
     "text": [
      "DEBUG 2019-03-06 14:16:03,261 https://atlas.microsoft.com:443 \"GET /search/fuzzy/json?Content-Type=application%2Fjson&subscription-key=6j_USCas00Jqmpj2EFtKe18nLWPylj0gPTOLeBypt9U&api-version=1.0&query=LEADERPRICE+DISTRICAP+BOURG+SUR+REINE%2C+France HTTP/1.1\" 200 5718\n",
      "DEBUG 2019-03-06 14:16:03,271 Starting new HTTPS connection (1): atlas.microsoft.com:443\n"
     ]
    },
    {
     "name": "stdout",
     "output_type": "stream",
     "text": [
      "Web scrapping at : 95.438% which took 425 seconds to run.\n"
     ]
    },
    {
     "name": "stderr",
     "output_type": "stream",
     "text": [
      "DEBUG 2019-03-06 14:16:03,963 https://atlas.microsoft.com:443 \"GET /search/fuzzy/json?Content-Type=application%2Fjson&subscription-key=6j_USCas00Jqmpj2EFtKe18nLWPylj0gPTOLeBypt9U&api-version=1.0&query=LEADERPRICE+FRANPRIX+ACHERES%2C+France HTTP/1.1\" 200 5906\n",
      "DEBUG 2019-03-06 14:16:03,972 Starting new HTTPS connection (1): atlas.microsoft.com:443\n"
     ]
    },
    {
     "name": "stdout",
     "output_type": "stream",
     "text": [
      "Web scrapping at : 95.531% which took 425 seconds to run.\n"
     ]
    },
    {
     "name": "stderr",
     "output_type": "stream",
     "text": [
      "DEBUG 2019-03-06 14:16:04,469 https://atlas.microsoft.com:443 \"GET /search/fuzzy/json?Content-Type=application%2Fjson&subscription-key=6j_USCas00Jqmpj2EFtKe18nLWPylj0gPTOLeBypt9U&api-version=1.0&query=LEADERPRICE+AULDIS+AULNAY+SUR+BOIS%2C+France HTTP/1.1\" 200 6802\n",
      "DEBUG 2019-03-06 14:16:04,478 Starting new HTTPS connection (1): atlas.microsoft.com:443\n"
     ]
    },
    {
     "name": "stdout",
     "output_type": "stream",
     "text": [
      "Web scrapping at : 95.624% which took 426 seconds to run.\n"
     ]
    },
    {
     "name": "stderr",
     "output_type": "stream",
     "text": [
      "DEBUG 2019-03-06 14:16:04,779 https://atlas.microsoft.com:443 \"GET /search/fuzzy/json?Content-Type=application%2Fjson&subscription-key=6j_USCas00Jqmpj2EFtKe18nLWPylj0gPTOLeBypt9U&api-version=1.0&query=LEADERPRICE+FPX+SODIBAG+BAGNEUX%2C+France HTTP/1.1\" 200 1983\n",
      "DEBUG 2019-03-06 14:16:04,788 Starting new HTTPS connection (1): atlas.microsoft.com:443\n"
     ]
    },
    {
     "name": "stdout",
     "output_type": "stream",
     "text": [
      "Web scrapping at : 95.717% which took 426 seconds to run.\n"
     ]
    },
    {
     "name": "stderr",
     "output_type": "stream",
     "text": [
      "DEBUG 2019-03-06 14:16:05,678 https://atlas.microsoft.com:443 \"GET /search/fuzzy/json?Content-Type=application%2Fjson&subscription-key=6j_USCas00Jqmpj2EFtKe18nLWPylj0gPTOLeBypt9U&api-version=1.0&query=LEADERPRICE+S+D+C+NEUILLY+SOUS%2C+France HTTP/1.1\" 200 5687\n",
      "DEBUG 2019-03-06 14:16:05,687 Starting new HTTPS connection (1): atlas.microsoft.com:443\n"
     ]
    },
    {
     "name": "stdout",
     "output_type": "stream",
     "text": [
      "Web scrapping at : 95.81% which took 427 seconds to run.\n"
     ]
    },
    {
     "name": "stderr",
     "output_type": "stream",
     "text": [
      "DEBUG 2019-03-06 14:16:06,060 https://atlas.microsoft.com:443 \"GET /search/fuzzy/json?Content-Type=application%2Fjson&subscription-key=6j_USCas00Jqmpj2EFtKe18nLWPylj0gPTOLeBypt9U&api-version=1.0&query=LEADERPRICE+PYRAMIDE+DISTRIBUTION+EVRY%2C+France HTTP/1.1\" 200 9089\n",
      "DEBUG 2019-03-06 14:16:06,069 Starting new HTTPS connection (1): atlas.microsoft.com:443\n"
     ]
    },
    {
     "name": "stdout",
     "output_type": "stream",
     "text": [
      "Web scrapping at : 95.903% which took 428 seconds to run.\n"
     ]
    },
    {
     "name": "stderr",
     "output_type": "stream",
     "text": [
      "DEBUG 2019-03-06 14:16:06,567 https://atlas.microsoft.com:443 \"GET /search/fuzzy/json?Content-Type=application%2Fjson&subscription-key=6j_USCas00Jqmpj2EFtKe18nLWPylj0gPTOLeBypt9U&api-version=1.0&query=LEADERPRICE+WILSON+DISTRIBUTION+ST+DENIS%2C+France HTTP/1.1\" 200 6602\n",
      "DEBUG 2019-03-06 14:16:06,576 Starting new HTTPS connection (1): atlas.microsoft.com:443\n"
     ]
    },
    {
     "name": "stdout",
     "output_type": "stream",
     "text": [
      "Web scrapping at : 95.996% which took 428 seconds to run.\n"
     ]
    },
    {
     "name": "stderr",
     "output_type": "stream",
     "text": [
      "DEBUG 2019-03-06 14:16:07,016 https://atlas.microsoft.com:443 \"GET /search/fuzzy/json?Content-Type=application%2Fjson&subscription-key=6j_USCas00Jqmpj2EFtKe18nLWPylj0gPTOLeBypt9U&api-version=1.0&query=LEADERPRICE+NOUVELLE+DORAN+MONSOULT%2C+France HTTP/1.1\" 200 8612\n",
      "DEBUG 2019-03-06 14:16:07,026 Starting new HTTPS connection (1): atlas.microsoft.com:443\n"
     ]
    },
    {
     "name": "stdout",
     "output_type": "stream",
     "text": [
      "Web scrapping at : 96.089% which took 428 seconds to run.\n"
     ]
    },
    {
     "name": "stderr",
     "output_type": "stream",
     "text": [
      "DEBUG 2019-03-06 14:16:07,374 https://atlas.microsoft.com:443 \"GET /search/fuzzy/json?Content-Type=application%2Fjson&subscription-key=6j_USCas00Jqmpj2EFtKe18nLWPylj0gPTOLeBypt9U&api-version=1.0&query=LEADERPRICE+RENELY+CHARENTON%2C+France HTTP/1.1\" 200 6263\n",
      "DEBUG 2019-03-06 14:16:07,382 Starting new HTTPS connection (1): atlas.microsoft.com:443\n"
     ]
    },
    {
     "name": "stdout",
     "output_type": "stream",
     "text": [
      "Web scrapping at : 96.182% which took 429 seconds to run.\n"
     ]
    },
    {
     "name": "stderr",
     "output_type": "stream",
     "text": [
      "DEBUG 2019-03-06 14:16:07,786 https://atlas.microsoft.com:443 \"GET /search/fuzzy/json?Content-Type=application%2Fjson&subscription-key=6j_USCas00Jqmpj2EFtKe18nLWPylj0gPTOLeBypt9U&api-version=1.0&query=LEADERPRICE+DISTRICHATILLON+CHATILLON%2C+France HTTP/1.1\" 200 8539\n",
      "DEBUG 2019-03-06 14:16:07,795 Starting new HTTPS connection (1): atlas.microsoft.com:443\n"
     ]
    },
    {
     "name": "stdout",
     "output_type": "stream",
     "text": [
      "Web scrapping at : 96.276% which took 429 seconds to run.\n"
     ]
    },
    {
     "name": "stderr",
     "output_type": "stream",
     "text": [
      "DEBUG 2019-03-06 14:16:08,897 https://atlas.microsoft.com:443 \"GET /search/fuzzy/json?Content-Type=application%2Fjson&subscription-key=6j_USCas00Jqmpj2EFtKe18nLWPylj0gPTOLeBypt9U&api-version=1.0&query=LEADERPRICE+DISTRI+SAINT+OUEN+ST%2C+France HTTP/1.1\" 200 7106\n",
      "DEBUG 2019-03-06 14:16:08,905 Starting new HTTPS connection (1): atlas.microsoft.com:443\n"
     ]
    },
    {
     "name": "stdout",
     "output_type": "stream",
     "text": [
      "Web scrapping at : 96.369% which took 430 seconds to run.\n"
     ]
    },
    {
     "name": "stderr",
     "output_type": "stream",
     "text": [
      "DEBUG 2019-03-06 14:16:09,315 https://atlas.microsoft.com:443 \"GET /search/fuzzy/json?Content-Type=application%2Fjson&subscription-key=6j_USCas00Jqmpj2EFtKe18nLWPylj0gPTOLeBypt9U&api-version=1.0&query=LEADERPRICE+DEAM+BONNEUIL%2C+France HTTP/1.1\" 200 5762\n",
      "DEBUG 2019-03-06 14:16:09,323 Starting new HTTPS connection (1): atlas.microsoft.com:443\n"
     ]
    },
    {
     "name": "stdout",
     "output_type": "stream",
     "text": [
      "Web scrapping at : 96.462% which took 431 seconds to run.\n"
     ]
    },
    {
     "name": "stderr",
     "output_type": "stream",
     "text": [
      "DEBUG 2019-03-06 14:16:09,730 https://atlas.microsoft.com:443 \"GET /search/fuzzy/json?Content-Type=application%2Fjson&subscription-key=6j_USCas00Jqmpj2EFtKe18nLWPylj0gPTOLeBypt9U&api-version=1.0&query=LEADERPRICE+MASSYDIS+MASSY%2C+France HTTP/1.1\" 200 6914\n",
      "DEBUG 2019-03-06 14:16:09,739 Starting new HTTPS connection (1): atlas.microsoft.com:443\n"
     ]
    },
    {
     "name": "stdout",
     "output_type": "stream",
     "text": [
      "Web scrapping at : 96.555% which took 431 seconds to run.\n"
     ]
    },
    {
     "name": "stderr",
     "output_type": "stream",
     "text": [
      "DEBUG 2019-03-06 14:16:10,128 https://atlas.microsoft.com:443 \"GET /search/fuzzy/json?Content-Type=application%2Fjson&subscription-key=6j_USCas00Jqmpj2EFtKe18nLWPylj0gPTOLeBypt9U&api-version=1.0&query=LEADERPRICE+DISTRIJOLIE+MANTESUR+JOLIE%2C+France HTTP/1.1\" 200 179\n",
      "DEBUG 2019-03-06 14:16:10,137 Starting new HTTPS connection (1): atlas.microsoft.com:443\n"
     ]
    },
    {
     "name": "stdout",
     "output_type": "stream",
     "text": [
      "Web scrapping at : 96.648% which took 432 seconds to run.\n"
     ]
    },
    {
     "name": "stderr",
     "output_type": "stream",
     "text": [
      "DEBUG 2019-03-06 14:16:10,499 https://atlas.microsoft.com:443 \"GET /search/fuzzy/json?Content-Type=application%2Fjson&subscription-key=6j_USCas00Jqmpj2EFtKe18nLWPylj0gPTOLeBypt9U&api-version=1.0&query=LEADERPRICE+DISTRIPA+MONTREUIL%2C+France HTTP/1.1\" 200 8166\n",
      "DEBUG 2019-03-06 14:16:10,508 Starting new HTTPS connection (1): atlas.microsoft.com:443\n"
     ]
    },
    {
     "name": "stdout",
     "output_type": "stream",
     "text": [
      "Web scrapping at : 96.741% which took 432 seconds to run.\n"
     ]
    },
    {
     "name": "stderr",
     "output_type": "stream",
     "text": [
      "DEBUG 2019-03-06 14:16:11,227 https://atlas.microsoft.com:443 \"GET /search/fuzzy/json?Content-Type=application%2Fjson&subscription-key=6j_USCas00Jqmpj2EFtKe18nLWPylj0gPTOLeBypt9U&api-version=1.0&query=LEADERPRICE+PERI+DISTRIB+MONTREUIL%2C+France HTTP/1.1\" 200 9223\n",
      "DEBUG 2019-03-06 14:16:11,236 Starting new HTTPS connection (1): atlas.microsoft.com:443\n"
     ]
    },
    {
     "name": "stdout",
     "output_type": "stream",
     "text": [
      "Web scrapping at : 96.834% which took 433 seconds to run.\n"
     ]
    },
    {
     "name": "stderr",
     "output_type": "stream",
     "text": [
      "DEBUG 2019-03-06 14:16:11,616 https://atlas.microsoft.com:443 \"GET /search/fuzzy/json?Content-Type=application%2Fjson&subscription-key=6j_USCas00Jqmpj2EFtKe18nLWPylj0gPTOLeBypt9U&api-version=1.0&query=LEADERPRICE+ARTEL+ALFORVILLE%2C+France HTTP/1.1\" 200 7691\n",
      "DEBUG 2019-03-06 14:16:11,625 Starting new HTTPS connection (1): atlas.microsoft.com:443\n"
     ]
    },
    {
     "name": "stdout",
     "output_type": "stream",
     "text": [
      "Web scrapping at : 96.927% which took 433 seconds to run.\n"
     ]
    },
    {
     "name": "stderr",
     "output_type": "stream",
     "text": [
      "DEBUG 2019-03-06 14:16:12,004 https://atlas.microsoft.com:443 \"GET /search/fuzzy/json?Content-Type=application%2Fjson&subscription-key=6j_USCas00Jqmpj2EFtKe18nLWPylj0gPTOLeBypt9U&api-version=1.0&query=LEADERPRICE+BABISE+DISTR+CHARENTON%2C+France HTTP/1.1\" 200 2031\n",
      "DEBUG 2019-03-06 14:16:12,013 Starting new HTTPS connection (1): atlas.microsoft.com:443\n",
      "DEBUG 2019-03-06 14:16:12,098 https://atlas.microsoft.com:443 \"GET /search/fuzzy/json?Content-Type=application%2Fjson&subscription-key=6j_USCas00Jqmpj2EFtKe18nLWPylj0gPTOLeBypt9U&api-version=1.0&query=LEADERPRICE+YU+FRANCONVILLE%2C+France HTTP/1.1\" 200 5973\n",
      "DEBUG 2019-03-06 14:16:12,107 Starting new HTTPS connection (1): atlas.microsoft.com:443\n"
     ]
    },
    {
     "name": "stdout",
     "output_type": "stream",
     "text": [
      "Web scrapping at : 97.02% which took 433 seconds to run.\n",
      "Web scrapping at : 97.114% which took 434 seconds to run.\n"
     ]
    },
    {
     "name": "stderr",
     "output_type": "stream",
     "text": [
      "DEBUG 2019-03-06 14:16:12,469 https://atlas.microsoft.com:443 \"GET /search/fuzzy/json?Content-Type=application%2Fjson&subscription-key=6j_USCas00Jqmpj2EFtKe18nLWPylj0gPTOLeBypt9U&api-version=1.0&query=LEADERPRICE+FREDIS+FRESNES%2C+France HTTP/1.1\" 200 7058\n",
      "DEBUG 2019-03-06 14:16:12,478 Starting new HTTPS connection (1): atlas.microsoft.com:443\n"
     ]
    },
    {
     "name": "stdout",
     "output_type": "stream",
     "text": [
      "Web scrapping at : 97.207% which took 434 seconds to run.\n"
     ]
    },
    {
     "name": "stderr",
     "output_type": "stream",
     "text": [
      "DEBUG 2019-03-06 14:16:12,913 https://atlas.microsoft.com:443 \"GET /search/fuzzy/json?Content-Type=application%2Fjson&subscription-key=6j_USCas00Jqmpj2EFtKe18nLWPylj0gPTOLeBypt9U&api-version=1.0&query=LEADERPRICE+NEWDNERA+11+-+BAGNEUX%2C+France HTTP/1.1\" 200 7021\n",
      "DEBUG 2019-03-06 14:16:12,923 Starting new HTTPS connection (1): atlas.microsoft.com:443\n"
     ]
    },
    {
     "name": "stdout",
     "output_type": "stream",
     "text": [
      "Web scrapping at : 97.3% which took 434 seconds to run.\n"
     ]
    },
    {
     "name": "stderr",
     "output_type": "stream",
     "text": [
      "DEBUG 2019-03-06 14:16:13,468 https://atlas.microsoft.com:443 \"GET /search/fuzzy/json?Content-Type=application%2Fjson&subscription-key=6j_USCas00Jqmpj2EFtKe18nLWPylj0gPTOLeBypt9U&api-version=1.0&query=LEADERPRICE+NEWFPMAG+2+-+TORCY+LA+MOGOTTE%2C+France HTTP/1.1\" 200 6930\n",
      "DEBUG 2019-03-06 14:16:13,478 Starting new HTTPS connection (1): atlas.microsoft.com:443\n"
     ]
    },
    {
     "name": "stdout",
     "output_type": "stream",
     "text": [
      "Web scrapping at : 97.393% which took 435 seconds to run.\n"
     ]
    },
    {
     "name": "stderr",
     "output_type": "stream",
     "text": [
      "DEBUG 2019-03-06 14:16:14,099 https://atlas.microsoft.com:443 \"GET /search/fuzzy/json?Content-Type=application%2Fjson&subscription-key=6j_USCas00Jqmpj2EFtKe18nLWPylj0gPTOLeBypt9U&api-version=1.0&query=LEADERPRICE+STD+DISTRIBUTION+ST+DENIS%2C+France HTTP/1.1\" 200 9434\n",
      "DEBUG 2019-03-06 14:16:14,109 Starting new HTTPS connection (1): atlas.microsoft.com:443\n"
     ]
    },
    {
     "name": "stdout",
     "output_type": "stream",
     "text": [
      "Web scrapping at : 97.486% which took 436 seconds to run.\n"
     ]
    },
    {
     "name": "stderr",
     "output_type": "stream",
     "text": [
      "DEBUG 2019-03-06 14:16:14,475 https://atlas.microsoft.com:443 \"GET /search/fuzzy/json?Content-Type=application%2Fjson&subscription-key=6j_USCas00Jqmpj2EFtKe18nLWPylj0gPTOLeBypt9U&api-version=1.0&query=LEADERPRICE+JOGOLDIS+BUC%2C+France HTTP/1.1\" 200 5469\n",
      "DEBUG 2019-03-06 14:16:14,484 Starting new HTTPS connection (1): atlas.microsoft.com:443\n"
     ]
    },
    {
     "name": "stdout",
     "output_type": "stream",
     "text": [
      "Web scrapping at : 97.579% which took 436 seconds to run.\n"
     ]
    },
    {
     "name": "stderr",
     "output_type": "stream",
     "text": [
      "DEBUG 2019-03-06 14:16:15,217 https://atlas.microsoft.com:443 \"GET /search/fuzzy/json?Content-Type=application%2Fjson&subscription-key=6j_USCas00Jqmpj2EFtKe18nLWPylj0gPTOLeBypt9U&api-version=1.0&query=LEADERPRICE+M+SADIQ+ST+DENIS%2C+France HTTP/1.1\" 200 8298\n",
      "DEBUG 2019-03-06 14:16:15,226 Starting new HTTPS connection (1): atlas.microsoft.com:443\n"
     ]
    },
    {
     "name": "stdout",
     "output_type": "stream",
     "text": [
      "Web scrapping at : 97.672% which took 437 seconds to run.\n"
     ]
    },
    {
     "name": "stderr",
     "output_type": "stream",
     "text": [
      "DEBUG 2019-03-06 14:16:15,772 https://atlas.microsoft.com:443 \"GET /search/fuzzy/json?Content-Type=application%2Fjson&subscription-key=6j_USCas00Jqmpj2EFtKe18nLWPylj0gPTOLeBypt9U&api-version=1.0&query=LEADERPRICE+GELY+LA+VARENNE+ST+MAUR%2C+France HTTP/1.1\" 200 8080\n",
      "DEBUG 2019-03-06 14:16:15,781 Starting new HTTPS connection (1): atlas.microsoft.com:443\n"
     ]
    },
    {
     "name": "stdout",
     "output_type": "stream",
     "text": [
      "Web scrapping at : 97.765% which took 437 seconds to run.\n"
     ]
    },
    {
     "name": "stderr",
     "output_type": "stream",
     "text": [
      "DEBUG 2019-03-06 14:16:16,360 https://atlas.microsoft.com:443 \"GET /search/fuzzy/json?Content-Type=application%2Fjson&subscription-key=6j_USCas00Jqmpj2EFtKe18nLWPylj0gPTOLeBypt9U&api-version=1.0&query=LEADERPRICE+J+B+DISTRIB+ST+OUEN%2C+France HTTP/1.1\" 200 7156\n",
      "DEBUG 2019-03-06 14:16:16,369 Starting new HTTPS connection (1): atlas.microsoft.com:443\n"
     ]
    },
    {
     "name": "stdout",
     "output_type": "stream",
     "text": [
      "Web scrapping at : 97.858% which took 438 seconds to run.\n"
     ]
    },
    {
     "name": "stderr",
     "output_type": "stream",
     "text": [
      "DEBUG 2019-03-06 14:16:17,029 https://atlas.microsoft.com:443 \"GET /search/fuzzy/json?Content-Type=application%2Fjson&subscription-key=6j_USCas00Jqmpj2EFtKe18nLWPylj0gPTOLeBypt9U&api-version=1.0&query=LEADERPRICE+S+M+E+SENLIS%2C+France HTTP/1.1\" 200 8687\n",
      "DEBUG 2019-03-06 14:16:17,038 Starting new HTTPS connection (1): atlas.microsoft.com:443\n"
     ]
    },
    {
     "name": "stdout",
     "output_type": "stream",
     "text": [
      "Web scrapping at : 97.952% which took 439 seconds to run.\n"
     ]
    },
    {
     "name": "stderr",
     "output_type": "stream",
     "text": [
      "DEBUG 2019-03-06 14:16:17,547 https://atlas.microsoft.com:443 \"GET /search/fuzzy/json?Content-Type=application%2Fjson&subscription-key=6j_USCas00Jqmpj2EFtKe18nLWPylj0gPTOLeBypt9U&api-version=1.0&query=LEADERPRICE+DISTRILAIN+ST+DENIS%2C+France HTTP/1.1\" 200 9860\n",
      "DEBUG 2019-03-06 14:16:17,555 Starting new HTTPS connection (1): atlas.microsoft.com:443\n"
     ]
    },
    {
     "name": "stdout",
     "output_type": "stream",
     "text": [
      "Web scrapping at : 98.045% which took 439 seconds to run.\n"
     ]
    },
    {
     "name": "stderr",
     "output_type": "stream",
     "text": [
      "DEBUG 2019-03-06 14:16:18,011 https://atlas.microsoft.com:443 \"GET /search/fuzzy/json?Content-Type=application%2Fjson&subscription-key=6j_USCas00Jqmpj2EFtKe18nLWPylj0gPTOLeBypt9U&api-version=1.0&query=LEADERPRICE+JANCRY+KREMLIN+BICETRE%2C+France HTTP/1.1\" 200 7623\n",
      "DEBUG 2019-03-06 14:16:18,021 Starting new HTTPS connection (1): atlas.microsoft.com:443\n"
     ]
    },
    {
     "name": "stdout",
     "output_type": "stream",
     "text": [
      "Web scrapping at : 98.138% which took 439 seconds to run.\n"
     ]
    },
    {
     "name": "stderr",
     "output_type": "stream",
     "text": [
      "DEBUG 2019-03-06 14:16:18,546 https://atlas.microsoft.com:443 \"GET /search/fuzzy/json?Content-Type=application%2Fjson&subscription-key=6j_USCas00Jqmpj2EFtKe18nLWPylj0gPTOLeBypt9U&api-version=1.0&query=LEADERPRICE+STEED+VILLEPINTE%2C+France HTTP/1.1\" 200 8379\n",
      "DEBUG 2019-03-06 14:16:18,555 Starting new HTTPS connection (1): atlas.microsoft.com:443\n"
     ]
    },
    {
     "name": "stdout",
     "output_type": "stream",
     "text": [
      "Web scrapping at : 98.231% which took 440 seconds to run.\n"
     ]
    },
    {
     "name": "stderr",
     "output_type": "stream",
     "text": [
      "DEBUG 2019-03-06 14:16:19,045 https://atlas.microsoft.com:443 \"GET /search/fuzzy/json?Content-Type=application%2Fjson&subscription-key=6j_USCas00Jqmpj2EFtKe18nLWPylj0gPTOLeBypt9U&api-version=1.0&query=LEADERPRICE+ETABLISSEMENT+VION+-+MONTREUIL%2C+France HTTP/1.1\" 200 9431\n",
      "DEBUG 2019-03-06 14:16:19,054 Starting new HTTPS connection (1): atlas.microsoft.com:443\n"
     ]
    },
    {
     "name": "stdout",
     "output_type": "stream",
     "text": [
      "Web scrapping at : 98.324% which took 441 seconds to run.\n"
     ]
    },
    {
     "name": "stderr",
     "output_type": "stream",
     "text": [
      "DEBUG 2019-03-06 14:16:19,413 https://atlas.microsoft.com:443 \"GET /search/fuzzy/json?Content-Type=application%2Fjson&subscription-key=6j_USCas00Jqmpj2EFtKe18nLWPylj0gPTOLeBypt9U&api-version=1.0&query=LEADERPRICE+NAJAH+MOHAMED+BIEVRES%2C+France HTTP/1.1\" 200 6345\n",
      "DEBUG 2019-03-06 14:16:19,422 Starting new HTTPS connection (1): atlas.microsoft.com:443\n"
     ]
    },
    {
     "name": "stdout",
     "output_type": "stream",
     "text": [
      "Web scrapping at : 98.417% which took 441 seconds to run.\n"
     ]
    },
    {
     "name": "stderr",
     "output_type": "stream",
     "text": [
      "DEBUG 2019-03-06 14:16:19,803 https://atlas.microsoft.com:443 \"GET /search/fuzzy/json?Content-Type=application%2Fjson&subscription-key=6j_USCas00Jqmpj2EFtKe18nLWPylj0gPTOLeBypt9U&api-version=1.0&query=LEADERPRICE+LP+MONTREUIL+%28LE+MORILLON%29%2C+France HTTP/1.1\" 200 6242\n",
      "DEBUG 2019-03-06 14:16:19,811 Starting new HTTPS connection (1): atlas.microsoft.com:443\n"
     ]
    },
    {
     "name": "stdout",
     "output_type": "stream",
     "text": [
      "Web scrapping at : 98.51% which took 441 seconds to run.\n"
     ]
    },
    {
     "name": "stderr",
     "output_type": "stream",
     "text": [
      "DEBUG 2019-03-06 14:16:20,199 https://atlas.microsoft.com:443 \"GET /search/fuzzy/json?Content-Type=application%2Fjson&subscription-key=6j_USCas00Jqmpj2EFtKe18nLWPylj0gPTOLeBypt9U&api-version=1.0&query=LEADERPRICE+RASPAIL+DISTRIBUTION+MONTREUIL%2C+France HTTP/1.1\" 200 8805\n",
      "DEBUG 2019-03-06 14:16:20,208 Starting new HTTPS connection (1): atlas.microsoft.com:443\n"
     ]
    },
    {
     "name": "stdout",
     "output_type": "stream",
     "text": [
      "Web scrapping at : 98.603% which took 442 seconds to run.\n"
     ]
    },
    {
     "name": "stderr",
     "output_type": "stream",
     "text": [
      "DEBUG 2019-03-06 14:16:20,588 https://atlas.microsoft.com:443 \"GET /search/fuzzy/json?Content-Type=application%2Fjson&subscription-key=6j_USCas00Jqmpj2EFtKe18nLWPylj0gPTOLeBypt9U&api-version=1.0&query=LEADERPRICE+BLANC+MESNIL+BLANCMESNIL%2C+France HTTP/1.1\" 200 6598\n",
      "DEBUG 2019-03-06 14:16:20,597 Starting new HTTPS connection (1): atlas.microsoft.com:443\n",
      "DEBUG 2019-03-06 14:16:20,683 https://atlas.microsoft.com:443 \"GET /search/fuzzy/json?Content-Type=application%2Fjson&subscription-key=6j_USCas00Jqmpj2EFtKe18nLWPylj0gPTOLeBypt9U&api-version=1.0&query=LEADERPRICE+DISTRICACH+MONTREUIL%2C+France HTTP/1.1\" 200 8446\n",
      "DEBUG 2019-03-06 14:16:20,693 Starting new HTTPS connection (1): atlas.microsoft.com:443\n"
     ]
    },
    {
     "name": "stdout",
     "output_type": "stream",
     "text": [
      "Web scrapping at : 98.696% which took 442 seconds to run.\n",
      "Web scrapping at : 98.79% which took 442 seconds to run.\n"
     ]
    },
    {
     "name": "stderr",
     "output_type": "stream",
     "text": [
      "DEBUG 2019-03-06 14:16:21,280 https://atlas.microsoft.com:443 \"GET /search/fuzzy/json?Content-Type=application%2Fjson&subscription-key=6j_USCas00Jqmpj2EFtKe18nLWPylj0gPTOLeBypt9U&api-version=1.0&query=LEADERPRICE+A.F.L.+EP%C3%83%C2%83%C3%82%C2%8FNAY+SUR+SEINE%2C+France HTTP/1.1\" 200 10170\n",
      "DEBUG 2019-03-06 14:16:21,289 Starting new HTTPS connection (1): atlas.microsoft.com:443\n"
     ]
    },
    {
     "name": "stdout",
     "output_type": "stream",
     "text": [
      "Web scrapping at : 98.883% which took 443 seconds to run.\n"
     ]
    },
    {
     "name": "stderr",
     "output_type": "stream",
     "text": [
      "DEBUG 2019-03-06 14:16:21,891 https://atlas.microsoft.com:443 \"GET /search/fuzzy/json?Content-Type=application%2Fjson&subscription-key=6j_USCas00Jqmpj2EFtKe18nLWPylj0gPTOLeBypt9U&api-version=1.0&query=LEADERPRICE+LE+PLESSIS+MARKET+TREVISE%2C+France HTTP/1.1\" 200 8252\n",
      "DEBUG 2019-03-06 14:16:21,900 Starting new HTTPS connection (1): atlas.microsoft.com:443\n"
     ]
    },
    {
     "name": "stdout",
     "output_type": "stream",
     "text": [
      "Web scrapping at : 98.976% which took 443 seconds to run.\n"
     ]
    },
    {
     "name": "stderr",
     "output_type": "stream",
     "text": [
      "DEBUG 2019-03-06 14:16:22,474 https://atlas.microsoft.com:443 \"GET /search/fuzzy/json?Content-Type=application%2Fjson&subscription-key=6j_USCas00Jqmpj2EFtKe18nLWPylj0gPTOLeBypt9U&api-version=1.0&query=LEADERPRICE+SOCODIS+-+DEUIL+LA+BARRE+SUR%2C+France HTTP/1.1\" 200 4973\n",
      "DEBUG 2019-03-06 14:16:22,483 Starting new HTTPS connection (1): atlas.microsoft.com:443\n"
     ]
    },
    {
     "name": "stdout",
     "output_type": "stream",
     "text": [
      "Web scrapping at : 99.069% which took 444 seconds to run.\n"
     ]
    },
    {
     "name": "stderr",
     "output_type": "stream",
     "text": [
      "DEBUG 2019-03-06 14:16:22,825 https://atlas.microsoft.com:443 \"GET /search/fuzzy/json?Content-Type=application%2Fjson&subscription-key=6j_USCas00Jqmpj2EFtKe18nLWPylj0gPTOLeBypt9U&api-version=1.0&query=LEADERPRICE+AGA+SCEAUX%2C+France HTTP/1.1\" 200 6152\n",
      "DEBUG 2019-03-06 14:16:22,834 Starting new HTTPS connection (1): atlas.microsoft.com:443\n"
     ]
    },
    {
     "name": "stdout",
     "output_type": "stream",
     "text": [
      "Web scrapping at : 99.162% which took 444 seconds to run.\n"
     ]
    },
    {
     "name": "stderr",
     "output_type": "stream",
     "text": [
      "DEBUG 2019-03-06 14:16:23,285 https://atlas.microsoft.com:443 \"GET /search/fuzzy/json?Content-Type=application%2Fjson&subscription-key=6j_USCas00Jqmpj2EFtKe18nLWPylj0gPTOLeBypt9U&api-version=1.0&query=LEADERPRICE+3BKM+TORCY%2C+France HTTP/1.1\" 200 6786\n",
      "DEBUG 2019-03-06 14:16:23,294 Starting new HTTPS connection (1): atlas.microsoft.com:443\n"
     ]
    },
    {
     "name": "stdout",
     "output_type": "stream",
     "text": [
      "Web scrapping at : 99.255% which took 445 seconds to run.\n"
     ]
    },
    {
     "name": "stderr",
     "output_type": "stream",
     "text": [
      "DEBUG 2019-03-06 14:16:25,268 https://atlas.microsoft.com:443 \"GET /search/fuzzy/json?Content-Type=application%2Fjson&subscription-key=6j_USCas00Jqmpj2EFtKe18nLWPylj0gPTOLeBypt9U&api-version=1.0&query=LEADERPRICE+MINIMARCHE+ILE+DE+FRANCE+CHAMPIGNY%2C+France HTTP/1.1\" 200 5776\n",
      "DEBUG 2019-03-06 14:16:25,277 Starting new HTTPS connection (1): atlas.microsoft.com:443\n"
     ]
    },
    {
     "name": "stdout",
     "output_type": "stream",
     "text": [
      "Web scrapping at : 99.348% which took 447 seconds to run.\n"
     ]
    },
    {
     "name": "stderr",
     "output_type": "stream",
     "text": [
      "DEBUG 2019-03-06 14:16:25,790 https://atlas.microsoft.com:443 \"GET /search/fuzzy/json?Content-Type=application%2Fjson&subscription-key=6j_USCas00Jqmpj2EFtKe18nLWPylj0gPTOLeBypt9U&api-version=1.0&query=LEADERPRICE+MAJOUR+MOHAMED+ST+MAUR%2C+France HTTP/1.1\" 200 9487\n",
      "DEBUG 2019-03-06 14:16:25,800 Starting new HTTPS connection (1): atlas.microsoft.com:443\n"
     ]
    },
    {
     "name": "stdout",
     "output_type": "stream",
     "text": [
      "Web scrapping at : 99.441% which took 447 seconds to run.\n"
     ]
    },
    {
     "name": "stderr",
     "output_type": "stream",
     "text": [
      "DEBUG 2019-03-06 14:16:26,254 https://atlas.microsoft.com:443 \"GET /search/fuzzy/json?Content-Type=application%2Fjson&subscription-key=6j_USCas00Jqmpj2EFtKe18nLWPylj0gPTOLeBypt9U&api-version=1.0&query=LEADERPRICE+SESAM+ST+OUEN%2C+France HTTP/1.1\" 200 7556\n",
      "DEBUG 2019-03-06 14:16:26,263 Starting new HTTPS connection (1): atlas.microsoft.com:443\n",
      "DEBUG 2019-03-06 14:16:26,349 https://atlas.microsoft.com:443 \"GET /search/fuzzy/json?Content-Type=application%2Fjson&subscription-key=6j_USCas00Jqmpj2EFtKe18nLWPylj0gPTOLeBypt9U&api-version=1.0&query=LEADERPRICE+MENANA+ST+MAURICE%2C+France HTTP/1.1\" 200 6908\n",
      "DEBUG 2019-03-06 14:16:26,358 Starting new HTTPS connection (1): atlas.microsoft.com:443\n"
     ]
    },
    {
     "name": "stdout",
     "output_type": "stream",
     "text": [
      "Web scrapping at : 99.534% which took 448 seconds to run.\n",
      "Web scrapping at : 99.628% which took 448 seconds to run.\n"
     ]
    },
    {
     "name": "stderr",
     "output_type": "stream",
     "text": [
      "DEBUG 2019-03-06 14:16:26,467 https://atlas.microsoft.com:443 \"GET /search/fuzzy/json?Content-Type=application%2Fjson&subscription-key=6j_USCas00Jqmpj2EFtKe18nLWPylj0gPTOLeBypt9U&api-version=1.0&query=LEADERPRICE+PRIMA+5+ST+DENIS%2C+France HTTP/1.1\" 200 6626\n",
      "DEBUG 2019-03-06 14:16:26,475 Starting new HTTPS connection (1): atlas.microsoft.com:443\n",
      "DEBUG 2019-03-06 14:16:26,565 https://atlas.microsoft.com:443 \"GET /search/fuzzy/json?Content-Type=application%2Fjson&subscription-key=6j_USCas00Jqmpj2EFtKe18nLWPylj0gPTOLeBypt9U&api-version=1.0&query=LEADERPRICE+MR+EDDAOUDI+ST+GRATIEN%2C+France HTTP/1.1\" 200 5709\n",
      "DEBUG 2019-03-06 14:16:26,573 Starting new HTTPS connection (1): atlas.microsoft.com:443\n"
     ]
    },
    {
     "name": "stdout",
     "output_type": "stream",
     "text": [
      "Web scrapping at : 99.721% which took 448 seconds to run.\n",
      "Web scrapping at : 99.814% which took 448 seconds to run.\n"
     ]
    },
    {
     "name": "stderr",
     "output_type": "stream",
     "text": [
      "DEBUG 2019-03-06 14:16:26,908 https://atlas.microsoft.com:443 \"GET /search/fuzzy/json?Content-Type=application%2Fjson&subscription-key=6j_USCas00Jqmpj2EFtKe18nLWPylj0gPTOLeBypt9U&api-version=1.0&query=LEADERPRICE+BLT+FRANCHEVILLE%2C+France HTTP/1.1\" 200 6137\n",
      "DEBUG 2019-03-06 14:16:26,917 Starting new HTTPS connection (1): atlas.microsoft.com:443\n",
      "DEBUG 2019-03-06 14:16:27,006 https://atlas.microsoft.com:443 \"GET /search/fuzzy/json?Content-Type=application%2Fjson&subscription-key=6j_USCas00Jqmpj2EFtKe18nLWPylj0gPTOLeBypt9U&api-version=1.0&query=LEADERPRICE+MID+MONTREUIL%2C+France HTTP/1.1\" 200 8682\n"
     ]
    },
    {
     "name": "stdout",
     "output_type": "stream",
     "text": [
      "Web scrapping at : 99.907% which took 448 seconds to run.\n",
      "Web scrapping at : 100.0% which took 448 seconds to run.\n"
     ]
    }
   ],
   "source": [
    "\"\"\" Scrap location information from web \"\"\"\n",
    "\n",
    "file_name_to_scrap = 'missing_match_store_v2.csv'\n",
    "\n",
    "missed_stores = pd.read_csv(file_name_to_scrap, encoding = 'ISO-8859-1')\n",
    "missed_stores = missed_stores[['customer','store','city']]\n",
    "missed_stores = missed_stores[~missed_stores['customer'].isnull()]\n",
    "missed_stores['city'] = missed_stores['city'].fillna('')\n",
    "missed_stores = missed_stores.drop_duplicates(subset=['customer','store','city'])\n",
    "\n",
    "# Combines names\n",
    "def unique(sequence):\n",
    "    seen = set()\n",
    "    return [x for x in sequence if not (x in seen or seen.add(x))]\n",
    "\n",
    "missed_stores['comb_name'] = missed_stores[['customer','store', 'city']].apply(' '.join, axis=1).apply(\n",
    "    lambda x: ' '.join(unique(x.split())))\n",
    "\n",
    "missed_stores_results = scrap_addresses_from_web(missed_stores)\n",
    "# missed_stores_results.to_csv('missing_match_web_scrap_comb_names.csv', index=False)"
   ]
  },
  {
   "cell_type": "code",
   "execution_count": 32,
   "metadata": {},
   "outputs": [
    {
     "data": {
      "text/html": [
       "<div>\n",
       "<style scoped>\n",
       "    .dataframe tbody tr th:only-of-type {\n",
       "        vertical-align: middle;\n",
       "    }\n",
       "\n",
       "    .dataframe tbody tr th {\n",
       "        vertical-align: top;\n",
       "    }\n",
       "\n",
       "    .dataframe thead th {\n",
       "        text-align: right;\n",
       "    }\n",
       "</style>\n",
       "<table border=\"1\" class=\"dataframe\">\n",
       "  <thead>\n",
       "    <tr style=\"text-align: right;\">\n",
       "      <th></th>\n",
       "      <th>customer</th>\n",
       "      <th>store</th>\n",
       "      <th>city</th>\n",
       "      <th>comb_name</th>\n",
       "      <th>lat</th>\n",
       "      <th>lon</th>\n",
       "      <th>municipality</th>\n",
       "      <th>postal_code</th>\n",
       "      <th>countrySubdivision</th>\n",
       "      <th>countrySecondarySubdivision</th>\n",
       "    </tr>\n",
       "  </thead>\n",
       "  <tbody>\n",
       "    <tr>\n",
       "      <th>533</th>\n",
       "      <td>FRANPRIX</td>\n",
       "      <td>LPE CHESSY</td>\n",
       "      <td>CHESSY</td>\n",
       "      <td>FRANPRIX LPE CHESSY</td>\n",
       "      <td>45.88709</td>\n",
       "      <td>4.62227</td>\n",
       "      <td>Chessy</td>\n",
       "      <td>NaN</td>\n",
       "      <td>Auvergne-Rhône-Alpes</td>\n",
       "      <td>Rhône</td>\n",
       "    </tr>\n",
       "    <tr>\n",
       "      <th>534</th>\n",
       "      <td>FRANPRIX</td>\n",
       "      <td>LPE CHESSY</td>\n",
       "      <td>CHESSY</td>\n",
       "      <td>FRANPRIX LPE CHESSY</td>\n",
       "      <td>48.87888</td>\n",
       "      <td>2.76473</td>\n",
       "      <td>Marne-la-Vallée</td>\n",
       "      <td>77700</td>\n",
       "      <td>Île-de-France</td>\n",
       "      <td>Val-de-Marne, Seine-et-Marne, Seine-Saint-Denis</td>\n",
       "    </tr>\n",
       "    <tr>\n",
       "      <th>940</th>\n",
       "      <td>GEANT - CASINO</td>\n",
       "      <td>PS CHESSY LES MINES</td>\n",
       "      <td>CHESSY LES MINES</td>\n",
       "      <td>GEANT - CASINO PS CHESSY LES MINES</td>\n",
       "      <td>46.67705</td>\n",
       "      <td>4.37178</td>\n",
       "      <td>Montceau-les-Mines</td>\n",
       "      <td>71300</td>\n",
       "      <td>Bourgogne-Franche-Comté</td>\n",
       "      <td>Saône-et-Loire</td>\n",
       "    </tr>\n",
       "    <tr>\n",
       "      <th>1018</th>\n",
       "      <td>GEANT - CASINO</td>\n",
       "      <td>LPE CHESSY - PL. EDMOND CHARTIER</td>\n",
       "      <td>CHESSY</td>\n",
       "      <td>GEANT - CASINO LPE CHESSY PL. EDMOND CHARTIER</td>\n",
       "      <td>48.87907</td>\n",
       "      <td>2.76478</td>\n",
       "      <td>Marne-la-Vallée</td>\n",
       "      <td>77700</td>\n",
       "      <td>Île-de-France</td>\n",
       "      <td>Val-de-Marne, Seine-et-Marne, Seine-Saint-Denis</td>\n",
       "    </tr>\n",
       "    <tr>\n",
       "      <th>1100</th>\n",
       "      <td>LEADERPRICE</td>\n",
       "      <td>LPE CHESSY</td>\n",
       "      <td>CHESSY</td>\n",
       "      <td>LEADERPRICE LPE CHESSY</td>\n",
       "      <td>45.88709</td>\n",
       "      <td>4.62227</td>\n",
       "      <td>Chessy</td>\n",
       "      <td>NaN</td>\n",
       "      <td>Auvergne-Rhône-Alpes</td>\n",
       "      <td>Rhône</td>\n",
       "    </tr>\n",
       "    <tr>\n",
       "      <th>1101</th>\n",
       "      <td>LEADERPRICE</td>\n",
       "      <td>LPE CHESSY</td>\n",
       "      <td>CHESSY</td>\n",
       "      <td>LEADERPRICE LPE CHESSY</td>\n",
       "      <td>48.87888</td>\n",
       "      <td>2.76473</td>\n",
       "      <td>Marne-la-Vallée</td>\n",
       "      <td>77700</td>\n",
       "      <td>Île-de-France</td>\n",
       "      <td>Val-de-Marne, Seine-et-Marne, Seine-Saint-Denis</td>\n",
       "    </tr>\n",
       "  </tbody>\n",
       "</table>\n",
       "</div>"
      ],
      "text/plain": [
       "            customer                             store              city  \\\n",
       "533         FRANPRIX                        LPE CHESSY            CHESSY   \n",
       "534         FRANPRIX                        LPE CHESSY            CHESSY   \n",
       "940   GEANT - CASINO               PS CHESSY LES MINES  CHESSY LES MINES   \n",
       "1018  GEANT - CASINO  LPE CHESSY - PL. EDMOND CHARTIER            CHESSY   \n",
       "1100     LEADERPRICE                        LPE CHESSY            CHESSY   \n",
       "1101     LEADERPRICE                        LPE CHESSY            CHESSY   \n",
       "\n",
       "                                          comb_name       lat      lon  \\\n",
       "533                             FRANPRIX LPE CHESSY  45.88709  4.62227   \n",
       "534                             FRANPRIX LPE CHESSY  48.87888  2.76473   \n",
       "940              GEANT - CASINO PS CHESSY LES MINES  46.67705  4.37178   \n",
       "1018  GEANT - CASINO LPE CHESSY PL. EDMOND CHARTIER  48.87907  2.76478   \n",
       "1100                         LEADERPRICE LPE CHESSY  45.88709  4.62227   \n",
       "1101                         LEADERPRICE LPE CHESSY  48.87888  2.76473   \n",
       "\n",
       "            municipality postal_code       countrySubdivision  \\\n",
       "533               Chessy         NaN     Auvergne-Rhône-Alpes   \n",
       "534      Marne-la-Vallée       77700            Île-de-France   \n",
       "940   Montceau-les-Mines       71300  Bourgogne-Franche-Comté   \n",
       "1018     Marne-la-Vallée       77700            Île-de-France   \n",
       "1100              Chessy         NaN     Auvergne-Rhône-Alpes   \n",
       "1101     Marne-la-Vallée       77700            Île-de-France   \n",
       "\n",
       "                          countrySecondarySubdivision  \n",
       "533                                             Rhône  \n",
       "534   Val-de-Marne, Seine-et-Marne, Seine-Saint-Denis  \n",
       "940                                    Saône-et-Loire  \n",
       "1018  Val-de-Marne, Seine-et-Marne, Seine-Saint-Denis  \n",
       "1100                                            Rhône  \n",
       "1101  Val-de-Marne, Seine-et-Marne, Seine-Saint-Denis  "
      ]
     },
     "execution_count": 32,
     "metadata": {},
     "output_type": "execute_result"
    }
   ],
   "source": [
    "missed_stores_results[missed_stores_results['store'].str.contains('CHESSY')]"
   ]
  },
  {
   "cell_type": "code",
   "execution_count": 18,
   "metadata": {},
   "outputs": [
    {
     "name": "stdout",
     "output_type": "stream",
     "text": [
      "(239, 7) (1171, 7)\n",
      "(1171, 9)\n",
      "(899, 16)\n",
      "(244, 7)\n",
      "(13, 7)\n",
      "(15, 7)\n",
      "(7, 5)\n"
     ]
    }
   ],
   "source": [
    "\"\"\" Check scrapper results and match with official insee list \"\"\"\n",
    "\n",
    "cities = format_official_insee_city_list()\n",
    "counties = format_official_insee_department_list()\n",
    "\n",
    "matched_stores, missing_stores = split_scrapper_output(missed_stores_results)\n",
    "\n",
    "\"\"\" Step 1 - Stores with known city & zip code fields \"\"\"\n",
    "matched_stores, missing_stores, unknown_stores = match_complete_records_with_insee_official_city_list(\n",
    "    matched_stores, missing_stores, cities)\n",
    "\n",
    "\"\"\" Step 2 - Stores with missing zip code field (or no match at previous step)\"\"\"\n",
    "matched_stores, unknown_stores = match_incomplete_records_with_insee_official_city_list(\n",
    "    matched_stores, missing_stores, unknown_stores, cities)\n",
    "\n",
    "\"\"\" Step 3 - Manual filling of few missing entries \"\"\"\n",
    "matched_stores, unknown_stores = manually_match_incomplete_records_with_insee_official_city_list(\n",
    "    matched_stores, unknown_stores, cities)\n",
    "\n",
    "matched_stores.to_csv('stores_list_2.csv')"
   ]
  },
  {
   "cell_type": "code",
   "execution_count": 22,
   "metadata": {},
   "outputs": [
    {
     "name": "stdout",
     "output_type": "stream",
     "text": [
      "(9137, 7)\n",
      "[1 2]\n"
     ]
    }
   ],
   "source": [
    "\"\"\" Consolidate results into one master list \"\"\"\n",
    "\n",
    "tmp1 = pd.read_csv('stores_list_1.csv')\n",
    "tmp2 = pd.read_csv('stores_list_2.csv')\n",
    "consolidated_stores_list = pd.concat([tmp1, tmp2], axis=0, sort=False)\n",
    "\n",
    "\"\"\" create dcd specific store id \"\"\"\n",
    "consolidated_stores_list.sort_values([n.FIELD_CUSTOMER, n.FIELD_STORE_NAME])\n",
    "consolidated_stores_list['dcd_store_id'] = (\n",
    "    (consolidated_stores_list[n.FIELD_CUSTOMER] != consolidated_stores_list[n.FIELD_CUSTOMER].shift())\n",
    "    |\n",
    "    (consolidated_stores_list[n.FIELD_STORE_NAME] != consolidated_stores_list[n.FIELD_STORE_NAME].shift())\n",
    ").cumsum().astype(str).str.zfill(4)\n",
    "\n",
    "consolidated_stores_list.to_csv(os.path.join(PATH_DATA_FORMATTED, 'consolidated_stores_list.csv'))\n",
    "\n",
    "print(consolidated_stores_list.shape)\n",
    "print(consolidated_stores_list.groupby([n.FIELD_CUSTOMER, n.FIELD_STORE_NAME])['zip_code'].nunique().unique())"
   ]
  },
  {
   "cell_type": "code",
   "execution_count": null,
   "metadata": {},
   "outputs": [],
   "source": [
    "consolidated_stores_list[~consolidated_stores_list['customer'].isin(['LEADERPRICE', 'FRANPRIX'])].to_csv(\n",
    "    os.path.join(PATH_DATA_FORMATTED, 'consolidated_stores_list_scoped.csv'))"
   ]
  },
  {
   "cell_type": "markdown",
   "metadata": {},
   "source": [
    "\"\"\" Franprix & Leaderprice already have city & zip_code informations \"\"\""
   ]
  },
  {
   "cell_type": "code",
   "execution_count": null,
   "metadata": {},
   "outputs": [],
   "source": [
    "file_name = 'sell_out_dts_clean.csv'\n",
    "sell_out_data = (io.read_csv(PATH_DATA_FORMATTED, file_name)\n",
    "                 .drop_duplicates([n.FIELD_CUSTOMER, n.FIELD_STORE_NAME, 'zip_code', 'city']))\n",
    "\n",
    "idx = ((sell_out_data['zip_code'].notnull()) | (sell_out_data['city'].notnull()))\n",
    "print(sell_out_data[idx]['customer'].unique())\n",
    "print(sell_out_data[idx].shape)\n",
    "print(sell_out_data[sell_out_data['customer'].isin(['Franprix', 'Leaderprice'])].shape)\n",
    "\n",
    "sell_out_data = (sell_out_data[sell_out_data['customer'].isin(['Franprix', 'Leaderprice'])]\n",
    "                 .filter(['customer', 'store', 'city', 'zip_code', 'store_address']))\n",
    "sell_out_data[n.FIELD_CUSTOMER] = sell_out_data[n.FIELD_CUSTOMER].str.upper()\n",
    "\n",
    "sell_out_data['zip_code'] = (sell_out_data['zip_code']\n",
    "                             .astype(str)\n",
    "                             .str.strip('0')\n",
    "                             .str.strip('.')\n",
    "                             .str.zfill(5))\n",
    "\n",
    "sell_out_data['city_clean'] = clean_city_field(sell_out_data['city'].str.upper())\n",
    "\n",
    "missing = sell_out_data[sell_out_data[n.FIELD_CITY].isnull()]  # No information available\n",
    "sell_out_data = sell_out_data[sell_out_data[n.FIELD_CITY].notnull()]\n",
    "\n",
    "\"\"\" Merge on available zip_code \"\"\"\n",
    "tmp = merge_with_official_city_table(sell_out_data, cities, 'zip_code', ['key_org', 'key'])\n",
    "\n",
    "idx = tmp['city'].isnull()\n",
    "matched, not_matched = tmp[~idx], tmp[idx]\n",
    "matched = matched.filter(stores_list_columns)\n",
    "\n",
    "\"\"\" Merge on city filed (same departement) \"\"\"\n",
    "not_matched = (not_matched[['customer', 'store', 'city_org', 'zip_code', 'city_clean', 'key_org']]\n",
    "               .rename(columns={'key_org': 'key'}))\n",
    "not_matched['code'] = not_matched['zip_code'].str[:2]\n",
    "\n",
    "tmp = merge_with_official_city_table(not_matched, cities, 'key', ['code_org', 'code'])\n",
    "tmp_matched = (tmp[tmp['city'].notnull()]\n",
    "               .drop(columns=['zip_code'])\n",
    "               .rename(columns={'zip_code_org': 'zip_code'})\n",
    "               .filter(stores_list_columns))\n",
    "matched = matched = pd.concat([matched, tmp_matched], axis=0, sort=False)\n",
    "\n",
    "\"\"\" Manual match and close match \"\"\"\n",
    "tmp_missing = tmp[tmp['city'].isnull()]\n",
    "potential_match = cities[['city', 'code', 'zip_code']]\n",
    "tmp_missing = (tmp_missing[['customer', 'store', 'city_org', 'zip_code_org', 'key', 'code_org']]\n",
    "               .rename(columns={'zip_code_org': 'zip_code'}))\n",
    "\n",
    "manual_match = [\n",
    "    ('LA PLAINE ST DENIS', 'ST DENIS'),\n",
    "    ('SUCY/BRIE', 'SUCY EN BRIE'),\n",
    "    ('JUAN LES PINS', 'ANTIBES'),\n",
    "    ('MONTFAVET', 'AVIGNON')\n",
    "]\n",
    "for old, new in manual_match:\n",
    "    tmp_missing['city_org'] = tmp_missing['city_org'].where(\n",
    "        ~(tmp_missing['city_org'] == old), new)\n",
    "\n",
    "for index, row in tmp_missing.iterrows():\n",
    "    match = [x for x in potential_match['city'].unique() \n",
    "             if row['city_org'].startswith(x) \n",
    "             and set(row['city_org'].split()) & set(x.split())\n",
    "            ]\n",
    "\n",
    "    idx = potential_match['city'].isin(match)\n",
    "    if row['code_org']:\n",
    "        idx = idx & (potential_match['code'] == row['code_org'])\n",
    "    match2 = potential_match[idx][['city', 'zip_code']].values\n",
    "\n",
    "    if len(match2):\n",
    "        tmp_missing.loc[index, 'city'] = match2[0][0]\n",
    "        tmp_missing.loc[index, 'zip_code'] = match2[0][1] \n",
    "        \n",
    "tmp_missing = (tmp_missing[tmp_missing['city'].notnull()]\n",
    "               .filter(stores_list_columns + list(['code_org'])))\n",
    "\n",
    "tmp_missing = (merge_with_official_city_table(tmp_missing, cities, 'zip_code', ('code_org', 'code'))\n",
    "               .filter(stores_list_columns))\n",
    "\n",
    "\"\"\" All matched stores \"\"\"\n",
    "matched = pd.concat([matched, tmp_missing], axis=0, sort=False)"
   ]
  },
  {
   "cell_type": "code",
   "execution_count": 224,
   "metadata": {},
   "outputs": [],
   "source": [
    "consolidated_stores_list = (pd.read_csv(os.path.join(PATH_DATA_FORMATTED, 'consolidated_stores_list_scoped.csv'))\n",
    "                            .drop(columns=['dcd_store_id'])\n",
    "                            .filter(stores_list_columns))\n",
    "\n",
    "consolidated_stores_list = pd.concat([consolidated_stores_list, matched], axis=0, sort=False)\n",
    "consolidated_stores_list['dcd_store_id'] = (\n",
    "    (consolidated_stores_list[n.FIELD_CUSTOMER] != consolidated_stores_list[n.FIELD_CUSTOMER].shift())\n",
    "    |\n",
    "    (consolidated_stores_list[n.FIELD_STORE_NAME] != consolidated_stores_list[n.FIELD_STORE_NAME].shift())\n",
    ").cumsum().astype(str).str.zfill(4)\n",
    "\n",
    "consolidated_stores_list.to_csv(os.path.join(PATH_DATA_FORMATTED, 'consolidated_stores_list_scoped_clean.csv'))"
   ]
  },
  {
   "cell_type": "code",
   "execution_count": null,
   "metadata": {},
   "outputs": [],
   "source": [
    "\n",
    "\n",
    "x = consolidated_stores_list.groupby([n.FIELD_CUSTOMER, n.FIELD_STORE_NAME])['zip_code'].nunique()"
   ]
  },
  {
   "cell_type": "code",
   "execution_count": 230,
   "metadata": {},
   "outputs": [
    {
     "data": {
      "text/plain": [
       "Series([], Name: zip_code, dtype: int64)"
      ]
     },
     "execution_count": 230,
     "metadata": {},
     "output_type": "execute_result"
    }
   ],
   "source": [
    "# LEADERPRICE & FRANPRIX ARE SHIT\n",
    "# REST SEEMS FINE (CMA, CARREFOUR, GEANT-CASINO, INTERMARCHE)\n",
    "x[x > 1]"
   ]
  },
  {
   "cell_type": "code",
   "execution_count": null,
   "metadata": {},
   "outputs": [],
   "source": []
  },
  {
   "cell_type": "code",
   "execution_count": null,
   "metadata": {},
   "outputs": [],
   "source": []
  },
  {
   "cell_type": "code",
   "execution_count": null,
   "metadata": {},
   "outputs": [],
   "source": [
    "# BOUROUGHS FOR PARIS / LYON / MARSEILLE"
   ]
  },
  {
   "cell_type": "code",
   "execution_count": null,
   "metadata": {},
   "outputs": [],
   "source": [
    "from geopy.geocoders import Nominatim\n",
    "geolocator = Nominatim(user_agent=\"scrapper\", format_string=\"%s, FRANCE\")\n",
    "\n",
    "\n",
    "def flatten_dict(d):\n",
    "    new_dict = dict()\n",
    "    for k, v in d.items():\n",
    "        if isinstance(v, dict):\n",
    "            new_dict.update(flatten_dict(v))\n",
    "        else:\n",
    "            new_dict.update({k: v})\n",
    "    return new_dict\n",
    "\n",
    "\n",
    "def search_store(store):\n",
    "    # exactly_one=True (returns only first result)\n",
    "    output = geolocator.geocode(store, addressdetails=True, exactly_one=False, language='fr')\n",
    "    print(output)\n",
    "    if output is not None:\n",
    "        output = dict(filter(lambda x: x[0] in ['lat', 'lon', 'address'], output[0].raw.items()))\n",
    "        output.update({n.FIELD_STORE_NAME + '_org': store})\n",
    "\n",
    "        return pd.DataFrame(flatten_dict(output), index=[0])\n",
    "\n",
    "    return pd.DataFrame({n.FIELD_STORE_NAME + '_org': store}, index=[0])\n",
    "\n",
    "\n",
    "# from functools import partial\n",
    "# df['location'] = df['name'].apply(partial(geocode, language='de'))\n",
    "\n",
    "import time\n",
    "\n",
    "# store = 'CARREFOUR BREST SUPERMARKET'\n",
    "no_stores['key'] = no_stores[[n.FIELD_CUSTOMER, n.FIELD_CITY]].apply(' '.join, axis=1).apply(\n",
    "    lambda x: ' '.join(set(x.split()))\n",
    ")\n",
    "\n",
    "stores_data = list()\n",
    "for store in sorted(no_stores['key'].unique()):\n",
    "    time.sleep(0.2)\n",
    "    stores_data.append(search_store(store))\n",
    "    \n",
    "pd.concat(stores_data, axis=0, sort=True)"
   ]
  }
 ],
 "metadata": {
  "kernelspec": {
   "display_name": "carlsberg",
   "language": "python",
   "name": "carlsberg"
  },
  "language_info": {
   "codemirror_mode": {
    "name": "ipython",
    "version": 3
   },
   "file_extension": ".py",
   "mimetype": "text/x-python",
   "name": "python",
   "nbconvert_exporter": "python",
   "pygments_lexer": "ipython3",
   "version": "3.6.8"
  }
 },
 "nbformat": 4,
 "nbformat_minor": 2
}
